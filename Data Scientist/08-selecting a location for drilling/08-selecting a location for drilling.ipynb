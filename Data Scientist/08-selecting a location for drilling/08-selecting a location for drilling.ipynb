{
 "cells": [
  {
   "cell_type": "markdown",
   "metadata": {},
   "source": [
    "# Выбор локации для скважины"
   ]
  },
  {
   "cell_type": "markdown",
   "metadata": {},
   "source": [
    "Допустим, вы работаете в добывающей компании «ГлавРосГосНефть». Нужно решить, где бурить новую скважину.\n",
    "\n",
    "Вам предоставлены пробы нефти в трёх регионах: в каждом 10 000 месторождений, где измерили качество нефти и объём её запасов. Постройте модель машинного обучения, которая поможет определить регион, где добыча принесёт наибольшую прибыль. Проанализируйте возможную прибыль и риски техникой *Bootstrap.*\n",
    "\n",
    "Шаги для выбора локации:\n",
    "\n",
    "- В избранном регионе ищут месторождения, для каждого определяют значения признаков;\n",
    "- Строят модель и оценивают объём запасов;\n",
    "- Выбирают месторождения с самым высокими оценками значений. Количество месторождений зависит от бюджета компании и стоимости разработки одной скважины;\n",
    "- Прибыль равна суммарной прибыли отобранных месторождений."
   ]
  },
  {
   "cell_type": "markdown",
   "metadata": {},
   "source": [
    "## Загрузка и подготовка данных"
   ]
  },
  {
   "cell_type": "code",
   "execution_count": 1,
   "metadata": {},
   "outputs": [],
   "source": [
    "# Загрузим необходимые библиотеки для проекта\n",
    "import os\n",
    "import pandas as pd\n",
    "import numpy as np\n",
    "import matplotlib.pyplot as plt\n",
    "import seaborn as sns\n",
    "from pathlib import Path\n",
    "from sklearn.linear_model import LinearRegression\n",
    "from sklearn.model_selection import train_test_split, KFold\n",
    "from sklearn.metrics import mean_squared_error\n",
    "from sklearn.preprocessing import *\n",
    "from sklearn.utils import shuffle\n",
    "from scipy import stats as st\n",
    "from numpy.random import RandomState\n",
    "import warnings\n",
    "random_state = np.random.RandomState(12345)\n",
    "\n",
    "%matplotlib inline\n",
    "warnings.filterwarnings('ignore')\n",
    "pd.set_option('display.max_columns', 100)\n",
    "pd.set_option('display.max_rows', 100)\n"
   ]
  },
  {
   "cell_type": "markdown",
   "metadata": {},
   "source": [
    "<div class=\"alert alert-block alert-success\">\n",
    "<b>Успех:</b> Импорты  и настройки на месте\n",
    "</div>"
   ]
  },
  {
   "cell_type": "code",
   "execution_count": 107,
   "metadata": {},
   "outputs": [],
   "source": [
    "# функция определения выбросов по правилу 3 сигм\n",
    "def outlier(data):\n",
    "    data_mean, data_std = np.mean(data), np.std(data)\n",
    "    cut_off = data_std * 3\n",
    "    lower, upper = data_mean - cut_off, data_mean + cut_off\n",
    "    outliers = [x for x in data if x < lower or x > upper]\n",
    "    outliers_removed = [x for x in data if x >= lower and x <= upper]\n",
    "    return len(outliers)\n",
    "\n",
    "#  функция для описания статистик: \n",
    "def describe_full_stat(df, target_name=\"\"):\n",
    "    data_describe = df.describe().T\n",
    "    df_numeric = df._get_numeric_data()\n",
    "    if target_name in df.columns:\n",
    "        corr_with_target=df_numeric.drop(target_name, axis=1).apply(lambda x: x.corr(df_numeric[target_name]))\n",
    "        data_describe['corr_with_target']=corr_with_target\n",
    "    dtype_df = df_numeric.dtypes\n",
    "    data_describe['dtypes'] = dtype_df\n",
    "    data_null = df_numeric.isnull().sum()/len(df) * 100\n",
    "    data_describe['Missing %'] = data_null\n",
    "    Cardinality = df_numeric.apply(pd.Series.nunique)\n",
    "    data_describe['Cardinality'] = Cardinality\n",
    "    df_skew = df_numeric.skew(axis=0, skipna=True)\n",
    "    data_describe['Skew'] = df_skew\n",
    "    data_describe['outliers']=[outlier(df_numeric[col]) for col in df_numeric.columns]\n",
    "    data_describe['kurtosis']=df_numeric.kurtosis()\n",
    "    return data_describe\n",
    "\n",
    "\n",
    "#  функция для отображения графика плотностей в датафрейме по группам: \n",
    "def dspl_group_density_plt(df, groupby, on, palette, figsize):\n",
    "    \"\"\"\n",
    "Отображает график плотности по группам, учитывая непрерывную переменную, и группу для разделения данных.\n",
    "     :param df: DataFrame для отображения данных\n",
    "     :param groupby: Имя столбца, по которому будут сгруппированы графики (категориальный, максимум 10 категорий)\n",
    "     :param on: Имя столбца для различных графиков плотности\n",
    "     :param палитра: Цветовая палитра для рисования.\n",
    "     :param figsize: Размер фигуры\n",
    "     : return: объект matplotlib.axes._subplots.AxesSubplot\n",
    "    \"\"\"\n",
    "\n",
    "    if not isinstance(df, pd.core.frame.DataFrame):\n",
    "        raise ValueError('df must be a pandas DataFrame')\n",
    "\n",
    "    if not groupby:\n",
    "        raise ValueError('groupby parameter must be provided')\n",
    "\n",
    "    elif not groupby in df.keys():\n",
    "        raise ValueError(groupby + ' column does not exist in the given DataFrame')\n",
    "\n",
    "    if not on:\n",
    "        raise ValueError('on parameter must be provided')\n",
    "\n",
    "    elif not on in df.keys():\n",
    "        raise ValueError(on + ' column does not exist in the given DataFrame')\n",
    "\n",
    "    if len(set(df[groupby])) > 10:\n",
    "        groups = df[groupby].value_counts().index[:10]\n",
    "\n",
    "    else:\n",
    "        groups = set(df[groupby])\n",
    "\n",
    "    # Get relevant palette\n",
    "    if palette:\n",
    "        palette = palette[:len(groups)]\n",
    "    else:\n",
    "        palette = sns.color_palette()[:len(groups)]\n",
    "\n",
    "    # Plot\n",
    "    fig = plt.figure(figsize=figsize)\n",
    "    ax = fig.add_subplot(111)\n",
    "\n",
    "    for value, color in zip(groups, palette):\n",
    "        sns.kdeplot(df.loc[df[groupby] == value][on], \\\n",
    "                    shade=True, color=color, label=value)\n",
    "\n",
    "    ax.set_title(str(\"Плотность значений Product по регионам\"),\\\n",
    "                 fontsize=30)\n",
    "    ax.legend(bbox_to_anchor=(1.04, 1), loc='best')\n",
    "\n",
    "\n",
    "    ax.set_xlabel(on, fontsize=20)\n",
    "    return ax"
   ]
  },
  {
   "cell_type": "markdown",
   "metadata": {},
   "source": [
    "<div class=\"alert alert-block alert-success\">\n",
    "<b>Успех:</b> Хороший помощник\n",
    "</div>"
   ]
  },
  {
   "cell_type": "markdown",
   "metadata": {},
   "source": [
    "\n",
    "<div class=\"alert alert-block alert-info\">\n",
    "<b>Совет:</b>  Советую обратить внимание на библиотеки sweetviz и pandas_profiling помогут в проведении более тщательного EDA анализа. Исследовательский анализ можно делать и с помощью ручного вызова функций дефолтных библиотек. Данные библиотеки хороши для максимизации комфорта презентации результатов анализа бизнес-пользователям.  \n",
    "\n",
    "Очень просты в использоовании, на вход кладется датафрейм: pandas_profiling.ProfileReport(df) \n",
    "</div>\n"
   ]
  },
  {
   "cell_type": "code",
   "execution_count": 3,
   "metadata": {},
   "outputs": [],
   "source": [
    "df_0 = pd.read_csv(\"/datasets/geo_data_0.csv\")\n",
    "df_1 = pd.read_csv(\"/datasets/geo_data_1.csv\")\n",
    "df_2 = pd.read_csv(\"/datasets/geo_data_2.csv\")\n"
   ]
  },
  {
   "cell_type": "code",
   "execution_count": 4,
   "metadata": {},
   "outputs": [
    {
     "data": {
      "text/html": [
       "<div>\n",
       "<style scoped>\n",
       "    .dataframe tbody tr th:only-of-type {\n",
       "        vertical-align: middle;\n",
       "    }\n",
       "\n",
       "    .dataframe tbody tr th {\n",
       "        vertical-align: top;\n",
       "    }\n",
       "\n",
       "    .dataframe thead th {\n",
       "        text-align: right;\n",
       "    }\n",
       "</style>\n",
       "<table border=\"1\" class=\"dataframe\">\n",
       "  <thead>\n",
       "    <tr style=\"text-align: right;\">\n",
       "      <th></th>\n",
       "      <th>id</th>\n",
       "      <th>f0</th>\n",
       "      <th>f1</th>\n",
       "      <th>f2</th>\n",
       "      <th>product</th>\n",
       "    </tr>\n",
       "  </thead>\n",
       "  <tbody>\n",
       "    <tr>\n",
       "      <th>0</th>\n",
       "      <td>txEyH</td>\n",
       "      <td>0.705745</td>\n",
       "      <td>-0.497823</td>\n",
       "      <td>1.221170</td>\n",
       "      <td>105.280062</td>\n",
       "    </tr>\n",
       "    <tr>\n",
       "      <th>1</th>\n",
       "      <td>2acmU</td>\n",
       "      <td>1.334711</td>\n",
       "      <td>-0.340164</td>\n",
       "      <td>4.365080</td>\n",
       "      <td>73.037750</td>\n",
       "    </tr>\n",
       "    <tr>\n",
       "      <th>2</th>\n",
       "      <td>409Wp</td>\n",
       "      <td>1.022732</td>\n",
       "      <td>0.151990</td>\n",
       "      <td>1.419926</td>\n",
       "      <td>85.265647</td>\n",
       "    </tr>\n",
       "    <tr>\n",
       "      <th>3</th>\n",
       "      <td>iJLyR</td>\n",
       "      <td>-0.032172</td>\n",
       "      <td>0.139033</td>\n",
       "      <td>2.978566</td>\n",
       "      <td>168.620776</td>\n",
       "    </tr>\n",
       "    <tr>\n",
       "      <th>4</th>\n",
       "      <td>Xdl7t</td>\n",
       "      <td>1.988431</td>\n",
       "      <td>0.155413</td>\n",
       "      <td>4.751769</td>\n",
       "      <td>154.036647</td>\n",
       "    </tr>\n",
       "  </tbody>\n",
       "</table>\n",
       "</div>"
      ],
      "text/plain": [
       "      id        f0        f1        f2     product\n",
       "0  txEyH  0.705745 -0.497823  1.221170  105.280062\n",
       "1  2acmU  1.334711 -0.340164  4.365080   73.037750\n",
       "2  409Wp  1.022732  0.151990  1.419926   85.265647\n",
       "3  iJLyR -0.032172  0.139033  2.978566  168.620776\n",
       "4  Xdl7t  1.988431  0.155413  4.751769  154.036647"
      ]
     },
     "execution_count": 4,
     "metadata": {},
     "output_type": "execute_result"
    }
   ],
   "source": [
    "df_0.head()\n"
   ]
  },
  {
   "cell_type": "code",
   "execution_count": 5,
   "metadata": {},
   "outputs": [
    {
     "data": {
      "text/html": [
       "<div>\n",
       "<style scoped>\n",
       "    .dataframe tbody tr th:only-of-type {\n",
       "        vertical-align: middle;\n",
       "    }\n",
       "\n",
       "    .dataframe tbody tr th {\n",
       "        vertical-align: top;\n",
       "    }\n",
       "\n",
       "    .dataframe thead th {\n",
       "        text-align: right;\n",
       "    }\n",
       "</style>\n",
       "<table border=\"1\" class=\"dataframe\">\n",
       "  <thead>\n",
       "    <tr style=\"text-align: right;\">\n",
       "      <th></th>\n",
       "      <th>id</th>\n",
       "      <th>f0</th>\n",
       "      <th>f1</th>\n",
       "      <th>f2</th>\n",
       "      <th>product</th>\n",
       "    </tr>\n",
       "  </thead>\n",
       "  <tbody>\n",
       "    <tr>\n",
       "      <th>0</th>\n",
       "      <td>kBEdx</td>\n",
       "      <td>-15.001348</td>\n",
       "      <td>-8.276000</td>\n",
       "      <td>-0.005876</td>\n",
       "      <td>3.179103</td>\n",
       "    </tr>\n",
       "    <tr>\n",
       "      <th>1</th>\n",
       "      <td>62mP7</td>\n",
       "      <td>14.272088</td>\n",
       "      <td>-3.475083</td>\n",
       "      <td>0.999183</td>\n",
       "      <td>26.953261</td>\n",
       "    </tr>\n",
       "    <tr>\n",
       "      <th>2</th>\n",
       "      <td>vyE1P</td>\n",
       "      <td>6.263187</td>\n",
       "      <td>-5.948386</td>\n",
       "      <td>5.001160</td>\n",
       "      <td>134.766305</td>\n",
       "    </tr>\n",
       "    <tr>\n",
       "      <th>3</th>\n",
       "      <td>KcrkZ</td>\n",
       "      <td>-13.081196</td>\n",
       "      <td>-11.506057</td>\n",
       "      <td>4.999415</td>\n",
       "      <td>137.945408</td>\n",
       "    </tr>\n",
       "    <tr>\n",
       "      <th>4</th>\n",
       "      <td>AHL4O</td>\n",
       "      <td>12.702195</td>\n",
       "      <td>-8.147433</td>\n",
       "      <td>5.004363</td>\n",
       "      <td>134.766305</td>\n",
       "    </tr>\n",
       "  </tbody>\n",
       "</table>\n",
       "</div>"
      ],
      "text/plain": [
       "      id         f0         f1        f2     product\n",
       "0  kBEdx -15.001348  -8.276000 -0.005876    3.179103\n",
       "1  62mP7  14.272088  -3.475083  0.999183   26.953261\n",
       "2  vyE1P   6.263187  -5.948386  5.001160  134.766305\n",
       "3  KcrkZ -13.081196 -11.506057  4.999415  137.945408\n",
       "4  AHL4O  12.702195  -8.147433  5.004363  134.766305"
      ]
     },
     "execution_count": 5,
     "metadata": {},
     "output_type": "execute_result"
    }
   ],
   "source": [
    "df_1.head()\n"
   ]
  },
  {
   "cell_type": "code",
   "execution_count": 6,
   "metadata": {},
   "outputs": [
    {
     "data": {
      "text/html": [
       "<div>\n",
       "<style scoped>\n",
       "    .dataframe tbody tr th:only-of-type {\n",
       "        vertical-align: middle;\n",
       "    }\n",
       "\n",
       "    .dataframe tbody tr th {\n",
       "        vertical-align: top;\n",
       "    }\n",
       "\n",
       "    .dataframe thead th {\n",
       "        text-align: right;\n",
       "    }\n",
       "</style>\n",
       "<table border=\"1\" class=\"dataframe\">\n",
       "  <thead>\n",
       "    <tr style=\"text-align: right;\">\n",
       "      <th></th>\n",
       "      <th>id</th>\n",
       "      <th>f0</th>\n",
       "      <th>f1</th>\n",
       "      <th>f2</th>\n",
       "      <th>product</th>\n",
       "    </tr>\n",
       "  </thead>\n",
       "  <tbody>\n",
       "    <tr>\n",
       "      <th>0</th>\n",
       "      <td>fwXo0</td>\n",
       "      <td>-1.146987</td>\n",
       "      <td>0.963328</td>\n",
       "      <td>-0.828965</td>\n",
       "      <td>27.758673</td>\n",
       "    </tr>\n",
       "    <tr>\n",
       "      <th>1</th>\n",
       "      <td>WJtFt</td>\n",
       "      <td>0.262778</td>\n",
       "      <td>0.269839</td>\n",
       "      <td>-2.530187</td>\n",
       "      <td>56.069697</td>\n",
       "    </tr>\n",
       "    <tr>\n",
       "      <th>2</th>\n",
       "      <td>ovLUW</td>\n",
       "      <td>0.194587</td>\n",
       "      <td>0.289035</td>\n",
       "      <td>-5.586433</td>\n",
       "      <td>62.871910</td>\n",
       "    </tr>\n",
       "    <tr>\n",
       "      <th>3</th>\n",
       "      <td>q6cA6</td>\n",
       "      <td>2.236060</td>\n",
       "      <td>-0.553760</td>\n",
       "      <td>0.930038</td>\n",
       "      <td>114.572842</td>\n",
       "    </tr>\n",
       "    <tr>\n",
       "      <th>4</th>\n",
       "      <td>WPMUX</td>\n",
       "      <td>-0.515993</td>\n",
       "      <td>1.716266</td>\n",
       "      <td>5.899011</td>\n",
       "      <td>149.600746</td>\n",
       "    </tr>\n",
       "  </tbody>\n",
       "</table>\n",
       "</div>"
      ],
      "text/plain": [
       "      id        f0        f1        f2     product\n",
       "0  fwXo0 -1.146987  0.963328 -0.828965   27.758673\n",
       "1  WJtFt  0.262778  0.269839 -2.530187   56.069697\n",
       "2  ovLUW  0.194587  0.289035 -5.586433   62.871910\n",
       "3  q6cA6  2.236060 -0.553760  0.930038  114.572842\n",
       "4  WPMUX -0.515993  1.716266  5.899011  149.600746"
      ]
     },
     "execution_count": 6,
     "metadata": {},
     "output_type": "execute_result"
    }
   ],
   "source": [
    "df_2.head()"
   ]
  },
  {
   "cell_type": "code",
   "execution_count": 7,
   "metadata": {},
   "outputs": [
    {
     "data": {
      "text/plain": [
       "id         0\n",
       "f0         0\n",
       "f1         0\n",
       "f2         0\n",
       "product    0\n",
       "dtype: int64"
      ]
     },
     "execution_count": 7,
     "metadata": {},
     "output_type": "execute_result"
    }
   ],
   "source": [
    "df_0.isna().sum()"
   ]
  },
  {
   "cell_type": "code",
   "execution_count": 8,
   "metadata": {},
   "outputs": [
    {
     "data": {
      "text/plain": [
       "id         0\n",
       "f0         0\n",
       "f1         0\n",
       "f2         0\n",
       "product    0\n",
       "dtype: int64"
      ]
     },
     "execution_count": 8,
     "metadata": {},
     "output_type": "execute_result"
    }
   ],
   "source": [
    "df_1.isna().sum()"
   ]
  },
  {
   "cell_type": "code",
   "execution_count": 9,
   "metadata": {},
   "outputs": [
    {
     "data": {
      "text/plain": [
       "id         0\n",
       "f0         0\n",
       "f1         0\n",
       "f2         0\n",
       "product    0\n",
       "dtype: int64"
      ]
     },
     "execution_count": 9,
     "metadata": {},
     "output_type": "execute_result"
    }
   ],
   "source": [
    "df_2.isna().sum()"
   ]
  },
  {
   "cell_type": "code",
   "execution_count": 10,
   "metadata": {},
   "outputs": [
    {
     "data": {
      "text/html": [
       "<div>\n",
       "<style scoped>\n",
       "    .dataframe tbody tr th:only-of-type {\n",
       "        vertical-align: middle;\n",
       "    }\n",
       "\n",
       "    .dataframe tbody tr th {\n",
       "        vertical-align: top;\n",
       "    }\n",
       "\n",
       "    .dataframe thead th {\n",
       "        text-align: right;\n",
       "    }\n",
       "</style>\n",
       "<table border=\"1\" class=\"dataframe\">\n",
       "  <thead>\n",
       "    <tr style=\"text-align: right;\">\n",
       "      <th></th>\n",
       "      <th>count</th>\n",
       "      <th>mean</th>\n",
       "      <th>std</th>\n",
       "      <th>min</th>\n",
       "      <th>25%</th>\n",
       "      <th>50%</th>\n",
       "      <th>75%</th>\n",
       "      <th>max</th>\n",
       "      <th>corr_with_target</th>\n",
       "      <th>dtypes</th>\n",
       "      <th>Missing %</th>\n",
       "      <th>Cardinality</th>\n",
       "      <th>Skew</th>\n",
       "      <th>outliers</th>\n",
       "      <th>kurtosis</th>\n",
       "    </tr>\n",
       "  </thead>\n",
       "  <tbody>\n",
       "    <tr>\n",
       "      <th>f0</th>\n",
       "      <td>100000.0</td>\n",
       "      <td>0.500419</td>\n",
       "      <td>0.871832</td>\n",
       "      <td>-1.408605</td>\n",
       "      <td>-0.072580</td>\n",
       "      <td>0.502360</td>\n",
       "      <td>1.073581</td>\n",
       "      <td>2.362331</td>\n",
       "      <td>0.143536</td>\n",
       "      <td>float64</td>\n",
       "      <td>0.0</td>\n",
       "      <td>100000</td>\n",
       "      <td>-0.000337</td>\n",
       "      <td>0</td>\n",
       "      <td>-0.868909</td>\n",
       "    </tr>\n",
       "    <tr>\n",
       "      <th>f1</th>\n",
       "      <td>100000.0</td>\n",
       "      <td>0.250143</td>\n",
       "      <td>0.504433</td>\n",
       "      <td>-0.848218</td>\n",
       "      <td>-0.200881</td>\n",
       "      <td>0.250252</td>\n",
       "      <td>0.700646</td>\n",
       "      <td>1.343769</td>\n",
       "      <td>-0.192356</td>\n",
       "      <td>float64</td>\n",
       "      <td>0.0</td>\n",
       "      <td>100000</td>\n",
       "      <td>0.000717</td>\n",
       "      <td>0</td>\n",
       "      <td>-1.186068</td>\n",
       "    </tr>\n",
       "    <tr>\n",
       "      <th>f2</th>\n",
       "      <td>100000.0</td>\n",
       "      <td>2.502647</td>\n",
       "      <td>3.248248</td>\n",
       "      <td>-12.088328</td>\n",
       "      <td>0.287748</td>\n",
       "      <td>2.515969</td>\n",
       "      <td>4.715088</td>\n",
       "      <td>16.003790</td>\n",
       "      <td>0.483663</td>\n",
       "      <td>float64</td>\n",
       "      <td>0.0</td>\n",
       "      <td>100000</td>\n",
       "      <td>-0.002996</td>\n",
       "      <td>178</td>\n",
       "      <td>-0.111284</td>\n",
       "    </tr>\n",
       "    <tr>\n",
       "      <th>product</th>\n",
       "      <td>100000.0</td>\n",
       "      <td>92.500000</td>\n",
       "      <td>44.288691</td>\n",
       "      <td>0.000000</td>\n",
       "      <td>56.497507</td>\n",
       "      <td>91.849972</td>\n",
       "      <td>128.564089</td>\n",
       "      <td>185.364347</td>\n",
       "      <td>NaN</td>\n",
       "      <td>float64</td>\n",
       "      <td>0.0</td>\n",
       "      <td>100000</td>\n",
       "      <td>0.004816</td>\n",
       "      <td>0</td>\n",
       "      <td>-0.951506</td>\n",
       "    </tr>\n",
       "  </tbody>\n",
       "</table>\n",
       "</div>"
      ],
      "text/plain": [
       "            count       mean        std        min        25%        50%  \\\n",
       "f0       100000.0   0.500419   0.871832  -1.408605  -0.072580   0.502360   \n",
       "f1       100000.0   0.250143   0.504433  -0.848218  -0.200881   0.250252   \n",
       "f2       100000.0   2.502647   3.248248 -12.088328   0.287748   2.515969   \n",
       "product  100000.0  92.500000  44.288691   0.000000  56.497507  91.849972   \n",
       "\n",
       "                75%         max  corr_with_target   dtypes  Missing %  \\\n",
       "f0         1.073581    2.362331          0.143536  float64        0.0   \n",
       "f1         0.700646    1.343769         -0.192356  float64        0.0   \n",
       "f2         4.715088   16.003790          0.483663  float64        0.0   \n",
       "product  128.564089  185.364347               NaN  float64        0.0   \n",
       "\n",
       "         Cardinality      Skew  outliers  kurtosis  \n",
       "f0            100000 -0.000337         0 -0.868909  \n",
       "f1            100000  0.000717         0 -1.186068  \n",
       "f2            100000 -0.002996       178 -0.111284  \n",
       "product       100000  0.004816         0 -0.951506  "
      ]
     },
     "execution_count": 10,
     "metadata": {},
     "output_type": "execute_result"
    }
   ],
   "source": [
    "describe_full_stat(df_0, target_name='product')"
   ]
  },
  {
   "cell_type": "code",
   "execution_count": 11,
   "metadata": {},
   "outputs": [
    {
     "data": {
      "text/html": [
       "<div>\n",
       "<style scoped>\n",
       "    .dataframe tbody tr th:only-of-type {\n",
       "        vertical-align: middle;\n",
       "    }\n",
       "\n",
       "    .dataframe tbody tr th {\n",
       "        vertical-align: top;\n",
       "    }\n",
       "\n",
       "    .dataframe thead th {\n",
       "        text-align: right;\n",
       "    }\n",
       "</style>\n",
       "<table border=\"1\" class=\"dataframe\">\n",
       "  <thead>\n",
       "    <tr style=\"text-align: right;\">\n",
       "      <th></th>\n",
       "      <th>count</th>\n",
       "      <th>mean</th>\n",
       "      <th>std</th>\n",
       "      <th>min</th>\n",
       "      <th>25%</th>\n",
       "      <th>50%</th>\n",
       "      <th>75%</th>\n",
       "      <th>max</th>\n",
       "      <th>corr_with_target</th>\n",
       "      <th>dtypes</th>\n",
       "      <th>Missing %</th>\n",
       "      <th>Cardinality</th>\n",
       "      <th>Skew</th>\n",
       "      <th>outliers</th>\n",
       "      <th>kurtosis</th>\n",
       "    </tr>\n",
       "  </thead>\n",
       "  <tbody>\n",
       "    <tr>\n",
       "      <th>f0</th>\n",
       "      <td>100000.0</td>\n",
       "      <td>1.141296</td>\n",
       "      <td>8.965932</td>\n",
       "      <td>-31.609576</td>\n",
       "      <td>-6.298551</td>\n",
       "      <td>1.153055</td>\n",
       "      <td>8.621015</td>\n",
       "      <td>29.421755</td>\n",
       "      <td>-0.030491</td>\n",
       "      <td>float64</td>\n",
       "      <td>0.0</td>\n",
       "      <td>100000</td>\n",
       "      <td>0.001992</td>\n",
       "      <td>7</td>\n",
       "      <td>-0.947124</td>\n",
       "    </tr>\n",
       "    <tr>\n",
       "      <th>f1</th>\n",
       "      <td>100000.0</td>\n",
       "      <td>-4.796579</td>\n",
       "      <td>5.119872</td>\n",
       "      <td>-26.358598</td>\n",
       "      <td>-8.267985</td>\n",
       "      <td>-4.813172</td>\n",
       "      <td>-1.332816</td>\n",
       "      <td>18.734063</td>\n",
       "      <td>-0.010155</td>\n",
       "      <td>float64</td>\n",
       "      <td>0.0</td>\n",
       "      <td>100000</td>\n",
       "      <td>0.016597</td>\n",
       "      <td>262</td>\n",
       "      <td>-0.023065</td>\n",
       "    </tr>\n",
       "    <tr>\n",
       "      <th>f2</th>\n",
       "      <td>100000.0</td>\n",
       "      <td>2.494541</td>\n",
       "      <td>1.703572</td>\n",
       "      <td>-0.018144</td>\n",
       "      <td>1.000021</td>\n",
       "      <td>2.011479</td>\n",
       "      <td>3.999904</td>\n",
       "      <td>5.019721</td>\n",
       "      <td>0.999397</td>\n",
       "      <td>float64</td>\n",
       "      <td>0.0</td>\n",
       "      <td>100000</td>\n",
       "      <td>0.006666</td>\n",
       "      <td>0</td>\n",
       "      <td>-1.261794</td>\n",
       "    </tr>\n",
       "    <tr>\n",
       "      <th>product</th>\n",
       "      <td>100000.0</td>\n",
       "      <td>68.825000</td>\n",
       "      <td>45.944423</td>\n",
       "      <td>0.000000</td>\n",
       "      <td>26.953261</td>\n",
       "      <td>57.085625</td>\n",
       "      <td>107.813044</td>\n",
       "      <td>137.945408</td>\n",
       "      <td>NaN</td>\n",
       "      <td>float64</td>\n",
       "      <td>0.0</td>\n",
       "      <td>12</td>\n",
       "      <td>0.006685</td>\n",
       "      <td>0</td>\n",
       "      <td>-1.259374</td>\n",
       "    </tr>\n",
       "  </tbody>\n",
       "</table>\n",
       "</div>"
      ],
      "text/plain": [
       "            count       mean        std        min        25%        50%  \\\n",
       "f0       100000.0   1.141296   8.965932 -31.609576  -6.298551   1.153055   \n",
       "f1       100000.0  -4.796579   5.119872 -26.358598  -8.267985  -4.813172   \n",
       "f2       100000.0   2.494541   1.703572  -0.018144   1.000021   2.011479   \n",
       "product  100000.0  68.825000  45.944423   0.000000  26.953261  57.085625   \n",
       "\n",
       "                75%         max  corr_with_target   dtypes  Missing %  \\\n",
       "f0         8.621015   29.421755         -0.030491  float64        0.0   \n",
       "f1        -1.332816   18.734063         -0.010155  float64        0.0   \n",
       "f2         3.999904    5.019721          0.999397  float64        0.0   \n",
       "product  107.813044  137.945408               NaN  float64        0.0   \n",
       "\n",
       "         Cardinality      Skew  outliers  kurtosis  \n",
       "f0            100000  0.001992         7 -0.947124  \n",
       "f1            100000  0.016597       262 -0.023065  \n",
       "f2            100000  0.006666         0 -1.261794  \n",
       "product           12  0.006685         0 -1.259374  "
      ]
     },
     "execution_count": 11,
     "metadata": {},
     "output_type": "execute_result"
    }
   ],
   "source": [
    "describe_full_stat(df_1, target_name='product')"
   ]
  },
  {
   "cell_type": "code",
   "execution_count": 12,
   "metadata": {},
   "outputs": [
    {
     "data": {
      "text/html": [
       "<div>\n",
       "<style scoped>\n",
       "    .dataframe tbody tr th:only-of-type {\n",
       "        vertical-align: middle;\n",
       "    }\n",
       "\n",
       "    .dataframe tbody tr th {\n",
       "        vertical-align: top;\n",
       "    }\n",
       "\n",
       "    .dataframe thead th {\n",
       "        text-align: right;\n",
       "    }\n",
       "</style>\n",
       "<table border=\"1\" class=\"dataframe\">\n",
       "  <thead>\n",
       "    <tr style=\"text-align: right;\">\n",
       "      <th></th>\n",
       "      <th>count</th>\n",
       "      <th>mean</th>\n",
       "      <th>std</th>\n",
       "      <th>min</th>\n",
       "      <th>25%</th>\n",
       "      <th>50%</th>\n",
       "      <th>75%</th>\n",
       "      <th>max</th>\n",
       "      <th>corr_with_target</th>\n",
       "      <th>dtypes</th>\n",
       "      <th>Missing %</th>\n",
       "      <th>Cardinality</th>\n",
       "      <th>Skew</th>\n",
       "      <th>outliers</th>\n",
       "      <th>kurtosis</th>\n",
       "    </tr>\n",
       "  </thead>\n",
       "  <tbody>\n",
       "    <tr>\n",
       "      <th>f0</th>\n",
       "      <td>100000.0</td>\n",
       "      <td>0.002023</td>\n",
       "      <td>1.732045</td>\n",
       "      <td>-8.760004</td>\n",
       "      <td>-1.162288</td>\n",
       "      <td>0.009424</td>\n",
       "      <td>1.158535</td>\n",
       "      <td>7.238262</td>\n",
       "      <td>-0.001987</td>\n",
       "      <td>float64</td>\n",
       "      <td>0.0</td>\n",
       "      <td>100000</td>\n",
       "      <td>0.003941</td>\n",
       "      <td>266</td>\n",
       "      <td>0.015364</td>\n",
       "    </tr>\n",
       "    <tr>\n",
       "      <th>f1</th>\n",
       "      <td>100000.0</td>\n",
       "      <td>-0.002081</td>\n",
       "      <td>1.730417</td>\n",
       "      <td>-7.084020</td>\n",
       "      <td>-1.174820</td>\n",
       "      <td>-0.009482</td>\n",
       "      <td>1.163678</td>\n",
       "      <td>7.844801</td>\n",
       "      <td>-0.001012</td>\n",
       "      <td>float64</td>\n",
       "      <td>0.0</td>\n",
       "      <td>100000</td>\n",
       "      <td>0.014802</td>\n",
       "      <td>281</td>\n",
       "      <td>-0.012328</td>\n",
       "    </tr>\n",
       "    <tr>\n",
       "      <th>f2</th>\n",
       "      <td>100000.0</td>\n",
       "      <td>2.495128</td>\n",
       "      <td>3.473445</td>\n",
       "      <td>-11.970335</td>\n",
       "      <td>0.130359</td>\n",
       "      <td>2.484236</td>\n",
       "      <td>4.858794</td>\n",
       "      <td>16.739402</td>\n",
       "      <td>0.445871</td>\n",
       "      <td>float64</td>\n",
       "      <td>0.0</td>\n",
       "      <td>100000</td>\n",
       "      <td>0.004057</td>\n",
       "      <td>201</td>\n",
       "      <td>-0.068082</td>\n",
       "    </tr>\n",
       "    <tr>\n",
       "      <th>product</th>\n",
       "      <td>100000.0</td>\n",
       "      <td>95.000000</td>\n",
       "      <td>44.749921</td>\n",
       "      <td>0.000000</td>\n",
       "      <td>59.450441</td>\n",
       "      <td>94.925613</td>\n",
       "      <td>130.595027</td>\n",
       "      <td>190.029838</td>\n",
       "      <td>NaN</td>\n",
       "      <td>float64</td>\n",
       "      <td>0.0</td>\n",
       "      <td>100000</td>\n",
       "      <td>0.004655</td>\n",
       "      <td>0</td>\n",
       "      <td>-0.878423</td>\n",
       "    </tr>\n",
       "  </tbody>\n",
       "</table>\n",
       "</div>"
      ],
      "text/plain": [
       "            count       mean        std        min        25%        50%  \\\n",
       "f0       100000.0   0.002023   1.732045  -8.760004  -1.162288   0.009424   \n",
       "f1       100000.0  -0.002081   1.730417  -7.084020  -1.174820  -0.009482   \n",
       "f2       100000.0   2.495128   3.473445 -11.970335   0.130359   2.484236   \n",
       "product  100000.0  95.000000  44.749921   0.000000  59.450441  94.925613   \n",
       "\n",
       "                75%         max  corr_with_target   dtypes  Missing %  \\\n",
       "f0         1.158535    7.238262         -0.001987  float64        0.0   \n",
       "f1         1.163678    7.844801         -0.001012  float64        0.0   \n",
       "f2         4.858794   16.739402          0.445871  float64        0.0   \n",
       "product  130.595027  190.029838               NaN  float64        0.0   \n",
       "\n",
       "         Cardinality      Skew  outliers  kurtosis  \n",
       "f0            100000  0.003941       266  0.015364  \n",
       "f1            100000  0.014802       281 -0.012328  \n",
       "f2            100000  0.004057       201 -0.068082  \n",
       "product       100000  0.004655         0 -0.878423  "
      ]
     },
     "execution_count": 12,
     "metadata": {},
     "output_type": "execute_result"
    }
   ],
   "source": [
    "describe_full_stat(df_2, target_name='product')"
   ]
  },
  {
   "cell_type": "code",
   "execution_count": 13,
   "metadata": {},
   "outputs": [],
   "source": [
    "target = \"product\"\n",
    "features = ['f0', 'f1', 'f2']\n",
    "\n",
    "df0 = df_0.copy()\n",
    "df0[\"file\"] = \"region_df_0\"\n",
    "df1 = df_1.copy()\n",
    "df1[\"file\"] = \"region_df_1\"\n",
    "df2 = df_2.copy()\n",
    "df2[\"file\"] = \"region_df_2\"\n",
    "df = pd.concat([df0, df1, df2])\n",
    "del df0,df1,df2"
   ]
  },
  {
   "cell_type": "code",
   "execution_count": 14,
   "metadata": {},
   "outputs": [
    {
     "data": {
      "image/png": "[encoded data removed]",
      "text/plain": [
       "<Figure size 432x288 with 1 Axes>"
      ]
     },
     "metadata": {
      "needs_background": "light"
     },
     "output_type": "display_data"
    },
    {
     "data": {
      "text/plain": [
       "<Figure size 432x288 with 0 Axes>"
      ]
     },
     "metadata": {},
     "output_type": "display_data"
    }
   ],
   "source": [
    "melted_df = pd.melt(df[[target, 'file']], id_vars=['file'], var_name=[target])\n",
    "ax = sns.boxplot(x=\"file\", y=\"value\", hue=target, data=melted_df)    \n",
    "plt.show()\n",
    "plt.clf()"
   ]
  },
  {
   "cell_type": "code",
   "execution_count": 15,
   "metadata": {},
   "outputs": [
    {
     "data": {
      "text/html": [
       "<div>\n",
       "<style scoped>\n",
       "    .dataframe tbody tr th:only-of-type {\n",
       "        vertical-align: middle;\n",
       "    }\n",
       "\n",
       "    .dataframe tbody tr th {\n",
       "        vertical-align: top;\n",
       "    }\n",
       "\n",
       "    .dataframe thead th {\n",
       "        text-align: right;\n",
       "    }\n",
       "</style>\n",
       "<table border=\"1\" class=\"dataframe\">\n",
       "  <thead>\n",
       "    <tr style=\"text-align: right;\">\n",
       "      <th></th>\n",
       "      <th>file</th>\n",
       "      <th>product</th>\n",
       "      <th>value</th>\n",
       "    </tr>\n",
       "  </thead>\n",
       "  <tbody>\n",
       "    <tr>\n",
       "      <th>0</th>\n",
       "      <td>region_df_0</td>\n",
       "      <td>product</td>\n",
       "      <td>105.280062</td>\n",
       "    </tr>\n",
       "    <tr>\n",
       "      <th>1</th>\n",
       "      <td>region_df_0</td>\n",
       "      <td>product</td>\n",
       "      <td>73.037750</td>\n",
       "    </tr>\n",
       "    <tr>\n",
       "      <th>2</th>\n",
       "      <td>region_df_0</td>\n",
       "      <td>product</td>\n",
       "      <td>85.265647</td>\n",
       "    </tr>\n",
       "    <tr>\n",
       "      <th>3</th>\n",
       "      <td>region_df_0</td>\n",
       "      <td>product</td>\n",
       "      <td>168.620776</td>\n",
       "    </tr>\n",
       "    <tr>\n",
       "      <th>4</th>\n",
       "      <td>region_df_0</td>\n",
       "      <td>product</td>\n",
       "      <td>154.036647</td>\n",
       "    </tr>\n",
       "    <tr>\n",
       "      <th>...</th>\n",
       "      <td>...</td>\n",
       "      <td>...</td>\n",
       "      <td>...</td>\n",
       "    </tr>\n",
       "    <tr>\n",
       "      <th>299995</th>\n",
       "      <td>region_df_2</td>\n",
       "      <td>product</td>\n",
       "      <td>172.327046</td>\n",
       "    </tr>\n",
       "    <tr>\n",
       "      <th>299996</th>\n",
       "      <td>region_df_2</td>\n",
       "      <td>product</td>\n",
       "      <td>138.748846</td>\n",
       "    </tr>\n",
       "    <tr>\n",
       "      <th>299997</th>\n",
       "      <td>region_df_2</td>\n",
       "      <td>product</td>\n",
       "      <td>157.080080</td>\n",
       "    </tr>\n",
       "    <tr>\n",
       "      <th>299998</th>\n",
       "      <td>region_df_2</td>\n",
       "      <td>product</td>\n",
       "      <td>51.795253</td>\n",
       "    </tr>\n",
       "    <tr>\n",
       "      <th>299999</th>\n",
       "      <td>region_df_2</td>\n",
       "      <td>product</td>\n",
       "      <td>102.775767</td>\n",
       "    </tr>\n",
       "  </tbody>\n",
       "</table>\n",
       "<p>300000 rows × 3 columns</p>\n",
       "</div>"
      ],
      "text/plain": [
       "               file  product       value\n",
       "0       region_df_0  product  105.280062\n",
       "1       region_df_0  product   73.037750\n",
       "2       region_df_0  product   85.265647\n",
       "3       region_df_0  product  168.620776\n",
       "4       region_df_0  product  154.036647\n",
       "...             ...      ...         ...\n",
       "299995  region_df_2  product  172.327046\n",
       "299996  region_df_2  product  138.748846\n",
       "299997  region_df_2  product  157.080080\n",
       "299998  region_df_2  product   51.795253\n",
       "299999  region_df_2  product  102.775767\n",
       "\n",
       "[300000 rows x 3 columns]"
      ]
     },
     "execution_count": 15,
     "metadata": {},
     "output_type": "execute_result"
    }
   ],
   "source": [
    "melted_df"
   ]
  },
  {
   "cell_type": "code",
   "execution_count": 108,
   "metadata": {},
   "outputs": [
    {
     "data": {
      "text/plain": [
       "<AxesSubplot:title={'center':'Плотность значений Product по регионам'}, xlabel='value', ylabel='Density'>"
      ]
     },
     "execution_count": 108,
     "metadata": {},
     "output_type": "execute_result"
    },
    {
     "data": {
      "image/png": "[encoded data removed]",
      "text/plain": [
       "<Figure size 1080x360 with 1 Axes>"
      ]
     },
     "metadata": {
      "needs_background": "light"
     },
     "output_type": "display_data"
    }
   ],
   "source": [
    "dspl_group_density_plt(melted_df, groupby = \"file\", on = 'value', palette = sns.color_palette('Set1'),\\\n",
    "                       figsize = (15, 5))"
   ]
  },
  {
   "cell_type": "code",
   "execution_count": 17,
   "metadata": {},
   "outputs": [
    {
     "data": {
      "image/png": "[encoded data removed]",
      "text/plain": [
       "<Figure size 1152x360 with 6 Axes>"
      ]
     },
     "metadata": {
      "needs_background": "light"
     },
     "output_type": "display_data"
    }
   ],
   "source": [
    "fig, ax = plt.subplots(1,3,figsize=(16,5))\n",
    "for i,j in zip([df_0,df_1,df_2],range(3)):    \n",
    "    sns.heatmap(i.corr(),annot=True, linewidths=.1, fmt= '.1f', ax=ax[j], cmap=\"BuGn\")\n",
    "    ax[j].set_title(str(j))"
   ]
  },
  {
   "cell_type": "markdown",
   "metadata": {},
   "source": [
    "#### Выводы\n",
    "* В каждом df по 100 тыс. наблюдений.\n",
    "* У df нет пропущенных значений и адекватные типы данных.\n",
    "* Признак f2 коррелирует с product, особенно в df_1\n",
    "* У df_1 уникальных значений в product 12.\n",
    "* Распределения значений целевого признака Product в df_0 и df_2 очень похожи, в df_1, напротив, распределение очень отличается"
   ]
  },
  {
   "cell_type": "markdown",
   "metadata": {},
   "source": [
    "\n",
    "\n",
    "<div class=\"alert alert-block alert-success\">\n",
    "<b>Успех:</b> Данные осмотрены хорошо, особенно радует, что изучены корреляции, так как мы планируем использовать линейные модели, а для них это важно. \n",
    "</div>\n",
    "\n",
    "<div class=\"alert alert-block alert-info\">\n",
    "<b>Совет:</b> Можно было бы еще выдвинуть предположение, откуда такая высокая корреляция во 2 регионе с целевым признаком могла возникнуть\n",
    "</div>\n",
    "\n"
   ]
  },
  {
   "cell_type": "markdown",
   "metadata": {},
   "source": [
    "## Обучение и проверка модели"
   ]
  },
  {
   "cell_type": "markdown",
   "metadata": {},
   "source": [
    "<font color = 'green'> \n",
    "1. RMSE (Root Mean Squared Error) - корень из среднеквадратичной ошибки. RMSE является мерой разности между значениями, предсказанными моделью, и фактическими значениями. RMSE вычисляется как квадратный корень из среднего значения квадратов ошибок (разности между фактическими и предсказанными значениями). Чем меньше RMSE, тем лучше качество модели, поскольку ошибки предсказаний меньше. Однако следует сравнивать RMSE только между моделями с похожими единицами измерения.\n",
    "\n",
    "2. R^2 (коэффициент детерминации) - статистическая мера, показывающая долю дисперсии зависимой переменной, объясняемой моделью регрессии. R^2 принимает значения от 0 до 1, где 1 означает, что модель объясняет 100% дисперсии зависимой переменной. Чем выше R^2, тем лучше модель объясняет изменчивость данных. Однако стоит быть осторожным, поскольку R^2 может быть завышенным в случае сложных моделей или наличия многочисленных незначимых переменных.\n",
    "\n",
    "3. Score - в контексте линейной регрессии обычно означает коэффициент детерминации R^2, хотя в зависимости от используемой библиотеки и контекста, score может относиться к другим метрикам. В случае линейной регрессии, используя функцию score() из библиотеки scikit-learn, вы получите значение R^2.\n",
    "\n",
    "В целом, при оценке модели линейной регрессии обычно анализируются RMSE и R^2. Низкое значение RMSE и высокое значение R^2 свидетельствуют о хорошем качестве модели. Однако важно помнить, что метрики следует рассматривать в комплексе и учитывать особенности задачи и данных. <font>"
   ]
  },
  {
   "cell_type": "code",
   "execution_count": 18,
   "metadata": {},
   "outputs": [],
   "source": [
    "def test_LinearRegression_model(X_train, X_valid, y_train, y_valid):\n",
    "    model = LinearRegression().fit(X_train, y_train)\n",
    "    y_pred = model.predict(X_valid)  \n",
    "    return mean_squared_error(y_valid, y_pred,squared=False), model.score(X_valid, y_valid), y_pred"
   ]
  },
  {
   "cell_type": "code",
   "execution_count": 19,
   "metadata": {},
   "outputs": [],
   "source": [
    "target = \"product\"\n",
    "features = ['f0', 'f1', 'f2']"
   ]
  },
  {
   "cell_type": "code",
   "execution_count": 20,
   "metadata": {},
   "outputs": [
    {
     "name": "stdout",
     "output_type": "stream",
     "text": [
      "RMSE: 37.5794217150813\n",
      "R^2: 0.27994321524487786\n",
      "y_pred_mean: 92.59256778438028\n"
     ]
    }
   ],
   "source": [
    "X_train0,X_valid0,y_train0,y_valid0 = train_test_split(df_0[features].values,df_0[target].values,test_size=0.25, random_state=random_state)\n",
    "rmse, score, y_pred0 = test_LinearRegression_model(X_train0,X_valid0,y_train0,y_valid0)\n",
    "print(f\"RMSE: {rmse}\")\n",
    "print(f\"R^2: {score}\")\n",
    "print(f\"y_pred_mean: {y_pred0.mean()}\")"
   ]
  },
  {
   "cell_type": "code",
   "execution_count": 22,
   "metadata": {},
   "outputs": [
    {
     "name": "stdout",
     "output_type": "stream",
     "text": [
      "RMSE: 37.91718878682678\n",
      "R^2: 0.2627416782534465\n",
      "y_pred_mean: 92.40129321593419\n"
     ]
    }
   ],
   "source": [
    "X_train0,X_valid0,y_train0,y_valid0 = train_test_split(df_0[features].values,df_0[target].values,test_size=0.25, random_state=random_state)\n",
    "                                    \n",
    "rmse, score, y_pred0 = test_LinearRegression_model(X_train0,X_valid0,y_train0,y_valid0)\n",
    "print(f\"RMSE: {rmse}\")\n",
    "print(f\"R^2: {score}\")\n",
    "print(f\"y_pred_mean: {y_pred0.mean()}\")"
   ]
  },
  {
   "cell_type": "code",
   "execution_count": 25,
   "metadata": {},
   "outputs": [
    {
     "name": "stdout",
     "output_type": "stream",
     "text": [
      "RMSE: 0.8936594805070874\n",
      "R^2: 0.9996231409804716\n",
      "y_pred_mean: 69.24215404831628\n"
     ]
    }
   ],
   "source": [
    "X_train1, X_valid1, y_train1, y_valid1 = train_test_split(df_1[features].values,df_1[target]\\\n",
    "                                                          .values, test_size=0.25, random_state=random_state)\n",
    "rmse, score, y_pred1 = test_LinearRegression_model(X_train1, X_valid1, y_train1, y_valid1)\n",
    "print(f\"RMSE: {rmse}\")\n",
    "print(f\"R^2: {score}\")\n",
    "print(f\"y_pred_mean: {y_pred1.mean()}\")"
   ]
  },
  {
   "cell_type": "code",
   "execution_count": 26,
   "metadata": {},
   "outputs": [
    {
     "name": "stdout",
     "output_type": "stream",
     "text": [
      "RMSE: 40.206897848340155\n",
      "R^2: 0.19259794621965654\n",
      "y_pred_mean: 94.79275536960408\n"
     ]
    }
   ],
   "source": [
    "X_train2, X_valid2, y_train2, y_valid2 = train_test_split(df_2[features].values,df_2[target]\\\n",
    "                                                          .values, test_size=0.25, random_state=random_state)\n",
    "rmse, score, y_pred2 = test_LinearRegression_model(X_train2, X_valid2, y_train2, y_valid2)\n",
    "print(f\"RMSE: {rmse}\")\n",
    "print(f\"R^2: {score}\")\n",
    "print(f\"y_pred_mean: {y_pred2.mean()}\")"
   ]
  },
  {
   "cell_type": "code",
   "execution_count": 27,
   "metadata": {},
   "outputs": [],
   "source": [
    "def cross_valid_model(df):\n",
    "    \"\"\"\n",
    "    cross-validation checker of linear regression model \n",
    "    (also we could use LinearRegressionCV)\n",
    "    \"\"\"\n",
    "    shuffle(df)\n",
    "    X, y = df[features].values, df[target].values\n",
    "    result = dict(rmse=[], score=[])\n",
    "    for train_index, valid_index in KFold(n_splits=5).split(X):\n",
    "        scaler = StandardScaler()\n",
    "        X_train, X_valid = X[train_index], X[valid_index]\n",
    "        y_train, y_valid = y[train_index], y[valid_index]\n",
    "        scaler.fit(X_train)\n",
    "        X_train = scaler.transform(X_train)\n",
    "        X_valid = scaler.transform(X_valid)\n",
    "        rmse, score, _ = test_LinearRegression_model(X_train, X_valid, y_train, y_valid)\n",
    "        result[\"rmse\"].append(rmse)\n",
    "        result[\"score\"].append(score)\n",
    "    return pd.DataFrame(result)"
   ]
  },
  {
   "cell_type": "code",
   "execution_count": 28,
   "metadata": {},
   "outputs": [
    {
     "data": {
      "text/plain": [
       "rmse     37.694273\n",
       "score     0.275491\n",
       "Name: mean, dtype: float64"
      ]
     },
     "execution_count": 28,
     "metadata": {},
     "output_type": "execute_result"
    }
   ],
   "source": [
    "cross_valid_model(df_0).describe().T['mean']"
   ]
  },
  {
   "cell_type": "code",
   "execution_count": 29,
   "metadata": {},
   "outputs": [
    {
     "data": {
      "text/plain": [
       "rmse     0.890408\n",
       "score    0.999624\n",
       "Name: mean, dtype: float64"
      ]
     },
     "execution_count": 29,
     "metadata": {},
     "output_type": "execute_result"
    }
   ],
   "source": [
    "cross_valid_model(df_1).describe().T['mean']"
   ]
  },
  {
   "cell_type": "code",
   "execution_count": 30,
   "metadata": {},
   "outputs": [
    {
     "data": {
      "text/plain": [
       "rmse     40.056880\n",
       "score     0.198716\n",
       "Name: mean, dtype: float64"
      ]
     },
     "execution_count": 30,
     "metadata": {},
     "output_type": "execute_result"
    }
   ],
   "source": [
    "cross_valid_model(df_2).describe().T['mean']"
   ]
  },
  {
   "cell_type": "markdown",
   "metadata": {},
   "source": [
    "Получили следующие значения моделей Линейной регрессии:\n",
    "\n",
    "df_0: RMSE: 37.76;  𝑅2 : 0.27; y_pred_mean: 92.40;\n",
    "\n",
    "df_1: RMSE: 0.89;  𝑅2 : 0.99; y_pred_mean: 68.71;\n",
    "\n",
    "df_2: RMSE: 40.15;  𝑅2 : 0.19; y_pred_mean: 94.77;\n",
    "\n",
    "Кросс-валидация модели:\n",
    "\n",
    "df_0: RMSE: 37.69;  𝑅2 : 0.27; \n",
    "\n",
    "df_1: RMSE: 0.89;  𝑅2 : 0.99; \n",
    "\n",
    "df_2: RMSE: 0.40;  𝑅2 : 0.19; \n"
   ]
  },
  {
   "cell_type": "markdown",
   "metadata": {},
   "source": [
    "#### Выводы\n",
    "* Модель на df_0 и df_2 данных показывает высокое среднее прогнозируемое значение, 92 и 94\n",
    "* Модель на df_1 показала высокие результаты - низкий RMSE и высокий коэфф. детерминации R^2, так как в целевой метрике всего 12 уникальных значений. При этом низкое среднее прогнозируемое значение - 68. \n"
   ]
  },
  {
   "cell_type": "markdown",
   "metadata": {},
   "source": [
    "<div class=\"alert alert-block alert-success\">\n",
    "<b>Успех:</b> Шаг проделан лаконично, все метрики посчитаны корректно\n",
    "</div> \n",
    "\n"
   ]
  },
  {
   "cell_type": "markdown",
   "metadata": {},
   "source": [
    "## Подготовка к расчёту прибыли"
   ]
  },
  {
   "cell_type": "code",
   "execution_count": 31,
   "metadata": {},
   "outputs": [],
   "source": [
    "#По условия задачи дано:\n",
    "\n",
    "budget = 10000000000   # Бюджет на разработку скважин в регионе — 10 млрд рублей.\n",
    "total_points = 500 # При разведке исследуют 500 точек\n",
    "profit_points = 200  # Из которых с помощью машинного обучения выбирают 200 лучших точек для разработки\n",
    "profit_per_barrel = 450   # Доход с одного барреля 450 руб.\n",
    "profit_per_product = 450000   # Доход с каждой единицы продукта 450 тыс. руб.\n"
   ]
  },
  {
   "cell_type": "markdown",
   "metadata": {},
   "source": [
    "<div class=\"alert alert-block alert-info\">\n",
    "    \n",
    "<b>Совет:</b> Константы принято записывать в ВЕРХНЕМ РЕГИСТРЕ =) Читем здесь https://pythonworld.ru/osnovy/pep-8-rukovodstvo-po-napisaniyu-koda-na-python.html#section-29\n",
    "    \n",
    "А большие значение можно записывать так: `10_000_000_000`.\n",
    "</div> \n"
   ]
  },
  {
   "cell_type": "code",
   "execution_count": 32,
   "metadata": {},
   "outputs": [
    {
     "name": "stdout",
     "output_type": "stream",
     "text": [
      "Мин. объем запасов на скважину, чтобы добыча из нее была рентабельна = 111.11\n"
     ]
    }
   ],
   "source": [
    "min_product_volume = budget/profit_points/profit_per_product\n",
    "\n",
    "print(f\"Мин. объем запасов на скважину, чтобы добыча из нее была рентабельна = {min_product_volume:.2f}\")"
   ]
  },
  {
   "cell_type": "markdown",
   "metadata": {},
   "source": [
    "<div class=\"alert alert-block alert-success\">\n",
    "<b>Успех:</b> Значение для безубыточной разработки посчитано верно\n",
    "</div>"
   ]
  },
  {
   "cell_type": "code",
   "execution_count": 96,
   "metadata": {},
   "outputs": [],
   "source": [
    "#Напишем функцию для расчета прибыли по скважинам и предсказаниям модели. \n",
    "\n",
    "def revenue(target, predicted, count):\n",
    "    indexes = predicted.sort_values(ascending=False).index #сортируем значения и объявляем индексы отсортированых значений предсказаний\n",
    "    return target[indexes][:count].sum() * profit_per_product - budget # берем целевые значения по индексам и до count, далее суммируем и умножаем на доход с продукта и вычитаем бюджет\n"
   ]
  },
  {
   "cell_type": "markdown",
   "metadata": {},
   "source": [
    "<div class=\"alert alert-block alert-success\">\n",
    "<b>Успех:</b> Ф-ция для подсчета прибыли определена верно\n",
    "</div>"
   ]
  },
  {
   "cell_type": "code",
   "execution_count": 97,
   "metadata": {},
   "outputs": [],
   "source": [
    "# Целевые и предсказанные значения по регионам. target - цель, predictions - предсказание\n",
    "target_ser_0 = pd.Series(y_valid0) \n",
    "predictions_ser_0 = pd.Series(y_pred0)\n",
    "\n",
    "target_ser_1 = pd.Series(y_valid1) \n",
    "predictions_ser_1 = pd.Series(y_pred1)\n",
    "\n",
    "target_ser_2 = pd.Series(y_valid2) \n",
    "predictions_ser_2 = pd.Series(y_pred2)"
   ]
  },
  {
   "cell_type": "code",
   "execution_count": 98,
   "metadata": {
    "scrolled": true
   },
   "outputs": [
    {
     "name": "stdout",
     "output_type": "stream",
     "text": [
      "Прибыль региона 0: 3.27 млрд рублей\n",
      "Прибыль региона 1: 2.42 млрд рублей\n",
      "Прибыль региона 2: 2.33 млрд рублей\n"
     ]
    }
   ],
   "source": [
    "# Применяем функцию и переведем в формат миллиардов\n",
    "print('Прибыль региона 0: {:.2f} млрд рублей'.format(revenue(target_ser_0, predictions_ser_0, 200)/10**9))\n",
    "print('Прибыль региона 1: {:.2f} млрд рублей'.format(revenue(target_ser_1, predictions_ser_1, 200)/10**9))\n",
    "print('Прибыль региона 2: {:.2f} млрд рублей'.format(revenue(target_ser_2, predictions_ser_2, 200)/10**9))\n"
   ]
  },
  {
   "cell_type": "markdown",
   "metadata": {},
   "source": [
    "* Чтобы экономика сходилась, нужно выбирать скважины как минимум с 111.11 тыс баррелей сырья.\n",
    "* Среднее предсказанное значение продукции: регион_0 = 92 тыс. бареллей, регион_1 = 68 тыс. бареллей, регион_2 = 94 тыс. бареллей"
   ]
  },
  {
   "cell_type": "markdown",
   "metadata": {},
   "source": [
    "<div class=\"alert alert-block alert-success\">\n",
    "<b>Успех:</b> с выводом согласен  \n",
    "</div>"
   ]
  },
  {
   "cell_type": "markdown",
   "metadata": {},
   "source": [
    "## Расчёт прибыли и рисков "
   ]
  },
  {
   "cell_type": "code",
   "execution_count": 61,
   "metadata": {},
   "outputs": [],
   "source": [
    "# функция - генерирует 1000 выборок, n_sample = 500\n",
    "def bootstrap_revenue(target, predicted):\n",
    "    target = pd.Series(target)\n",
    "    predicted = pd.Series(predicted)\n",
    "    values = []\n",
    "    for i in range(1000):\n",
    "        target_sample = target.sample(n = 500, replace = True, random_state = random_state)\n",
    "        values.append(revenue(target_sample, predicted[target_sample.index], 200))\n",
    "    return pd.Series(values)"
   ]
  },
  {
   "cell_type": "markdown",
   "metadata": {},
   "source": [
    "\n",
    "<div class=\"alert alert-block alert-success\">\n",
    "<b>Успех:</b> С бутстрапом тоже все в порядке\n",
    "</div>"
   ]
  },
  {
   "cell_type": "code",
   "execution_count": 62,
   "metadata": {},
   "outputs": [],
   "source": [
    "revenue_0 = bootstrap_revenue(target_ser_0, predictions_ser_0)\n",
    "revenue_1 = bootstrap_revenue(target_ser_1, predictions_ser_1)\n",
    "revenue_2 = bootstrap_revenue(target_ser_2, predictions_ser_2)"
   ]
  },
  {
   "cell_type": "code",
   "execution_count": 63,
   "metadata": {},
   "outputs": [
    {
     "data": {
      "text/plain": [
       "'0.091'"
      ]
     },
     "execution_count": 63,
     "metadata": {},
     "output_type": "execute_result"
    }
   ],
   "source": [
    "format(len(revenue_0[revenue_0 < 0])/len(revenue_0), '.3f')\n"
   ]
  },
  {
   "cell_type": "code",
   "execution_count": 64,
   "metadata": {},
   "outputs": [
    {
     "data": {
      "text/plain": [
       "'0.003'"
      ]
     },
     "execution_count": 64,
     "metadata": {},
     "output_type": "execute_result"
    }
   ],
   "source": [
    "format(len(revenue_1[revenue_1 < 0])/len(revenue_1), '.3f')\n"
   ]
  },
  {
   "cell_type": "code",
   "execution_count": 65,
   "metadata": {},
   "outputs": [
    {
     "data": {
      "text/plain": [
       "'0.093'"
      ]
     },
     "execution_count": 65,
     "metadata": {},
     "output_type": "execute_result"
    }
   ],
   "source": [
    "format(len(revenue_2[revenue_2 < 0])/len(revenue_2), '.3f')\n"
   ]
  },
  {
   "cell_type": "markdown",
   "metadata": {},
   "source": [
    "В целом скважины в регионах прибыльные, но есть и убыточные случаи"
   ]
  },
  {
   "cell_type": "code",
   "execution_count": 66,
   "metadata": {},
   "outputs": [
    {
     "data": {
      "image/png": "[encoded data removed]",
      "text/plain": [
       "<Figure size 432x288 with 1 Axes>"
      ]
     },
     "metadata": {
      "needs_background": "light"
     },
     "output_type": "display_data"
    }
   ],
   "source": [
    "sns.distplot(revenue_0, label='revenue_0')\n",
    "sns.distplot(revenue_1, label='revenue_1')\n",
    "sns.distplot(revenue_2, label='revenue_2')\n",
    "plt.axvline(0, c=\"r\", label=\"\")\n",
    "plt.legend()\n",
    "plt.show()"
   ]
  },
  {
   "cell_type": "markdown",
   "metadata": {},
   "source": [
    "<font color = 'green'> \n",
    "Функция st.t.interval() является функцией из библиотеки SciPy (модуль stats) в языке программирования Python и используется для вычисления доверительного интервала t-распределения Стьюдента. Доверительный интервал используется для оценки диапазона, в котором с заданной вероятностью (уровень доверия) лежит истинное значение параметра (например, среднее арифметическое генеральной совокупности).\n",
    "\n",
    "Аргументы функции st.t.interval() следующие:\n",
    "\n",
    "1. alpha (float): Уровень доверия, который обычно задается в диапазоне от 0 до 1. Например, для 95% доверительного интервала установите alpha = 0.95.\n",
    "\n",
    "2. df (int или float): Количество степеней свободы (degrees of freedom). Это значение зависит от количества наблюдений или размера выборки. Обычно количество степеней свободы равно n - 1, где n - количество наблюдений.\n",
    "\n",
    "3. loc (float, по умолчанию 0): Ожидаемое среднее значение распределения. В контексте доверительных интервалов это будет выборочное среднее.\n",
    "\n",
    "4. scale (float, по умолчанию 1): Масштабное значение (стандартная ошибка среднего), которое является оценкой стандартного отклонения генеральной совокупности, деленной на квадратный корень из размера выборки.\n",
    "\n",
    "Функция возвращает кортеж из двух чисел, представляющих нижнюю и верхнюю границы доверительного интервала.\n",
    "</font> \n"
   ]
  },
  {
   "cell_type": "markdown",
   "metadata": {},
   "source": [
    "\n",
    "<div class=\"alert alert-block alert-info\">\n",
    "<b>Совет: </b>\n",
    "   \n",
    "Вызывая **`st.t.interval(...)`**, ты находишь 95%-доверительный интервал для значения **`средней прибыли`**, то есть промежуток, в котором с большой вероятностью при проведении аналогичных экспериментов окажется **`средняя прибыль`**. По заданию требовалось оценить 95%-доверительный интервал для значения **`прибыли`**, то есть найти такой промежуток, в котором с большой вероятностью окажется **`прибыль`**, случайно выбранного месторождения данного региона. Нижняя граница этого интервала – это 2.5%-квантиль полученных значений прибыли, верхняя граница – 97.5%-квантиль.\n",
    "</div>\n"
   ]
  },
  {
   "cell_type": "code",
   "execution_count": 43,
   "metadata": {},
   "outputs": [
    {
     "name": "stdout",
     "output_type": "stream",
     "text": [
      " Средняя прибыль с \"региона_0\" 351662243.05, 95% доверительный интервал (334760215.06, 368564271.03) и риск потерь 10.20%\n"
     ]
    }
   ],
   "source": [
    "conf_interval_0 = st.t.interval(alpha=0.95, df = len(revenue_0)-1, loc = revenue_0.mean(), scale = revenue_0.sem())\n",
    "loss_risk_0 = len(revenue_0[revenue_0 < 0]) / len(revenue_0)\n",
    "print(f\"\"\" Средняя прибыль с \"региона_0\" {revenue_0.mean():.2f}, 95% доверительный интервал ({conf_interval_0[0]:.2f}, {conf_interval_0[1]:.2f}) \\\n",
    "и риск потерь {loss_risk_0:.2%}\"\"\")"
   ]
  },
  {
   "cell_type": "code",
   "execution_count": 91,
   "metadata": {},
   "outputs": [
    {
     "name": "stdout",
     "output_type": "stream",
     "text": [
      " Средняя прибыль с \"региона_1\" 550726935.80, 95% доверительный интервал (537306755.35, 564147116.26) и риск потерь 0.30%\n"
     ]
    }
   ],
   "source": [
    "conf_interval_1 = st.t.interval(alpha=0.95, df = len(revenue_1)-1, loc = revenue_1.mean(), scale = revenue_1.sem())\n",
    "loss_risk_1 = len(revenue_1[revenue_1 < 1]) / len(revenue_1)\n",
    "print(f\"\"\" Средняя прибыль с \"региона_1\" {revenue_1.mean():.2f}, 95% доверительный интервал ({conf_interval_1[0]:.2f}, {conf_interval_1[1]:.2f}) \\\n",
    "и риск потерь {loss_risk_1:.2%}\"\"\")"
   ]
  },
  {
   "cell_type": "code",
   "execution_count": 92,
   "metadata": {},
   "outputs": [
    {
     "name": "stdout",
     "output_type": "stream",
     "text": [
      " Средняя прибыль с \"региона_2\" 380008194.63, 95% доверительный интервал (362638123.69, 397378265.56) и риск потерь 9.30%\n"
     ]
    }
   ],
   "source": [
    "conf_interval_2 = st.t.interval(alpha=0.95, df = len(revenue_2)-1, loc = revenue_2.mean(), scale = revenue_2.sem())\n",
    "loss_risk_2 = len(revenue_2[revenue_2 < 1]) / len(revenue_2)\n",
    "print(f\"\"\" Средняя прибыль с \"региона_2\" {revenue_2.mean():.2f}, 95% доверительный интервал ({conf_interval_2[0]:.2f}, {conf_interval_2[1]:.2f}) \\\n",
    "и риск потерь {loss_risk_2:.2%}\"\"\")"
   ]
  },
  {
   "cell_type": "markdown",
   "metadata": {},
   "source": [
    "#### Выводы\n",
    "* В каждом df по 100 тыс. наблюдений.\n",
    "* У df нет пропущенных значений и адекватные типы данных.\n",
    "* Признак f2 коррелирует с product, особенно в df_1\n",
    "* У df_1 уникальных значений в product 12.\n",
    "* Распределения значений целевого признака Product в df_0 и df_2 очень похожи, в df_1, напротив, распределение очень отличается\n",
    "\n",
    "Получили следующие значения моделей Линейной регрессии:\n",
    "\n",
    "df_0: RMSE: 37.76;  𝑅2 : 0.27; y_pred_mean: 92.40;\n",
    "\n",
    "df_1: RMSE: 0.89;  𝑅2 : 0.99; y_pred_mean: 68.71;\n",
    "\n",
    "df_2: RMSE: 40.15;  𝑅2 : 0.19; y_pred_mean: 94.77;\n",
    "\n",
    "Кросс-валидация модели:\n",
    "\n",
    "df_0: RMSE: 37.69;  𝑅2 : 0.27; \n",
    "\n",
    "df_1: RMSE: 0.89;  𝑅2 : 0.99; \n",
    "\n",
    "df_2: RMSE: 0.40;  𝑅2 : 0.19; \n",
    "\n",
    "* Модель на df_0 и df_2 данных показывает высокое среднее прогнозируемое значение, 92 и 94\n",
    "* Модель на df_1 показала высокие результаты - низкий RMSE и высокий коэфф. детерминации R^2, так как в целевой метрике всего 12 уникальных значений. При этом низкое среднее прогнозируемое значение - 68. \n",
    "\n",
    "* Чтобы экономика сходилась, нужно выбирать скважины как минимум с 111.11 тыс баррелей сырья.\n",
    "* Среднее предсказанное значение продукции: регион_0 = 92 тыс. бареллей, регион_1 = 68 тыс. бареллей, регион_2 = 94 тыс. бареллей\n",
    "\n",
    "\n",
    "* Средняя прибыль с \"региона_0\" 349882135.47, 95% доверительный интервал (333340723.28, 366423547.66) и риск потерь 9.10%\n",
    "* Средняя прибыль с \"региона_1\" 550726935.80, 95% доверительный интервал (537306755.35, 564147116.26) и риск потерь 0.30%\n",
    "* Средняя прибыль с \"региона_2\" 380008194.63, 95% доверительный интервал (362638123.69, 397378265.56) и риск потерь 9.30%\n",
    "\n",
    "Вообще регион_1 выглядит странно, там 12 уникальных значений у параметра Продукт"
   ]
  },
  {
   "cell_type": "markdown",
   "metadata": {},
   "source": [
    "\n",
    "\n",
    "<div class=\"alert alert-block alert-success\">\n",
    "<b>Успех:</b> Отлично, проведено детальное исследование! Но о том, какой регион предлагается для разработки - нужно писать более явно\n",
    "</div>\n",
    "\n",
    "\n",
    "\n",
    "<div class=\"alert alert-block alert-info\">\n",
    "<b>Совет: </b> Если интересно изучить тему бутстрапа глубже - я оставлю  ниже несколько интересных и полезных ссылок по теме:\n",
    "        \n",
    "1. \"Bootstrap Hypothesis Testing in Statistics with Example\" \n",
    "        \n",
    "https://www.youtube.com/watch?v=9STZ7MxkNVg\n",
    "        \n",
    "2. \"How to Calculate Bootstrap Confidence Intervals For Machine Learning Results in Python\" \n",
    "        \n",
    "https://machinelearningmastery.com/calculate-bootstrap-confidence-intervals-machine-learning-results-python/\n",
    "        \n",
    "3. \"A Gentle Introduction to the Bootstrap Method\" \n",
    "\n",
    "https://machinelearningmastery.com/a-gentle-introduction-to-the-bootstrap-method/\n",
    "        \n",
    "4. \"An Introduction to the Bootstrap Method\" \n",
    "        \n",
    "https://towardsdatascience.com/an-introduction-to-the-bootstrap-method-58bcb51b4d60#:~:text=The%20basic%20idea%20of%20bootstrap,population%20mean)%20on%20sample%20data.&amp;text=A%20sample%20from%20population%20with%20sample%20size%20n\n",
    "        \n",
    "5. \"Bootstrapping and Resampling in Statistics with Example\" \n",
    "        \n",
    "        \n",
    "https://www.youtube.com/watch?v=O_Fj4q8lgmc\n",
    "\n",
    "6. Также одна из программ на рынке по этой теме управлненеческого моделирования - AnyLogic - интересный продукт. Можешь видео из интернета посмотреть по какому-нибудь примеру с её использованием. Тогда тема управленческого моделирования и бутстрапа может по-другому лечь.\n",
    "</div>\n"
   ]
  },
  {
   "cell_type": "markdown",
   "metadata": {},
   "source": [
    "## Чек-лист готовности проекта"
   ]
  },
  {
   "cell_type": "markdown",
   "metadata": {},
   "source": [
    "Поставьте 'x' в выполненных пунктах. Далее нажмите Shift+Enter."
   ]
  },
  {
   "cell_type": "markdown",
   "metadata": {},
   "source": [
    "- [x]  Jupyter Notebook открыт\n",
    "- [ ]  Весь код выполняется без ошибок\n",
    "- [ ]  Ячейки с кодом расположены в порядке исполнения\n",
    "- [ ]  Выполнен шаг 1: данные подготовлены\n",
    "- [ ]  Выполнен шаг 2: модели обучены и проверены\n",
    "    - [ ]  Данные корректно разбиты на обучающую и валидационную выборки\n",
    "    - [ ]  Модели обучены, предсказания сделаны\n",
    "    - [ ]  Предсказания и правильные ответы на валидационной выборке сохранены\n",
    "    - [ ]  На экране напечатаны результаты\n",
    "    - [ ]  Сделаны выводы\n",
    "- [ ]  Выполнен шаг 3: проведена подготовка к расчёту прибыли\n",
    "    - [ ]  Для всех ключевых значений созданы константы Python\n",
    "    - [ ]  Посчитано минимальное среднее количество продукта в месторождениях региона, достаточное для разработки\n",
    "    - [ ]  По предыдущему пункту сделаны выводы\n",
    "    - [ ]  Написана функция расчёта прибыли\n",
    "- [ ]  Выполнен шаг 4: посчитаны риски и прибыль\n",
    "    - [ ]  Проведена процедура *Bootstrap*\n",
    "    - [ ]  Все параметры бутстрепа соответствуют условию\n",
    "    - [ ]  Найдены все нужные величины\n",
    "    - [ ]  Предложен регион для разработки месторождения\n",
    "    - [ ]  Выбор региона обоснован"
   ]
  }
 ],
 "metadata": {
  "ExecuteTimeLog": [
   {
    "duration": 1327,
    "start_time": "2023-04-18T15:14:06.663Z"
   },
   {
    "duration": 304,
    "start_time": "2023-04-18T15:14:18.430Z"
   },
   {
    "duration": 7,
    "start_time": "2023-04-18T15:14:53.588Z"
   },
   {
    "duration": 169,
    "start_time": "2023-04-18T15:15:36.377Z"
   },
   {
    "duration": 52,
    "start_time": "2023-04-18T15:16:04.278Z"
   },
   {
    "duration": 53,
    "start_time": "2023-04-18T15:16:28.378Z"
   },
   {
    "duration": 1683,
    "start_time": "2023-04-18T15:16:49.177Z"
   },
   {
    "duration": 402,
    "start_time": "2023-04-18T15:17:24.368Z"
   },
   {
    "duration": 9,
    "start_time": "2023-04-18T15:17:50.282Z"
   },
   {
    "duration": 18,
    "start_time": "2023-04-18T15:18:01.780Z"
   },
   {
    "duration": 13,
    "start_time": "2023-04-18T15:19:20.160Z"
   },
   {
    "duration": 15,
    "start_time": "2023-04-18T15:19:20.659Z"
   },
   {
    "duration": 14,
    "start_time": "2023-04-18T15:19:21.074Z"
   },
   {
    "duration": 29,
    "start_time": "2023-04-18T19:08:17.065Z"
   },
   {
    "duration": 15,
    "start_time": "2023-04-18T19:08:39.003Z"
   },
   {
    "duration": 15,
    "start_time": "2023-04-18T19:08:46.203Z"
   },
   {
    "duration": 17,
    "start_time": "2023-04-18T19:10:19.515Z"
   },
   {
    "duration": 9,
    "start_time": "2023-04-18T19:15:07.098Z"
   },
   {
    "duration": 5,
    "start_time": "2023-04-18T19:15:11.384Z"
   },
   {
    "duration": 91,
    "start_time": "2023-04-18T19:15:19.495Z"
   },
   {
    "duration": 89,
    "start_time": "2023-04-18T19:16:39.423Z"
   },
   {
    "duration": 13,
    "start_time": "2023-04-18T19:17:01.211Z"
   },
   {
    "duration": 25,
    "start_time": "2023-04-18T19:17:05.276Z"
   },
   {
    "duration": 92,
    "start_time": "2023-04-18T19:17:16.704Z"
   },
   {
    "duration": 94,
    "start_time": "2023-04-18T19:18:23.354Z"
   },
   {
    "duration": 83,
    "start_time": "2023-04-18T19:18:37.459Z"
   },
   {
    "duration": 83,
    "start_time": "2023-04-18T19:18:52.911Z"
   },
   {
    "duration": 7,
    "start_time": "2023-04-18T19:20:46.301Z"
   },
   {
    "duration": 319,
    "start_time": "2023-04-18T19:20:51.503Z"
   },
   {
    "duration": 322,
    "start_time": "2023-04-18T19:21:00.108Z"
   },
   {
    "duration": 330,
    "start_time": "2023-04-18T19:21:07.002Z"
   },
   {
    "duration": 336,
    "start_time": "2023-04-18T19:21:40.005Z"
   },
   {
    "duration": 9,
    "start_time": "2023-04-18T19:22:11.409Z"
   },
   {
    "duration": 386,
    "start_time": "2023-04-18T19:22:23.548Z"
   },
   {
    "duration": 370,
    "start_time": "2023-04-18T19:22:24.079Z"
   },
   {
    "duration": 415,
    "start_time": "2023-04-18T19:22:24.451Z"
   },
   {
    "duration": 3,
    "start_time": "2023-04-18T19:23:46.411Z"
   },
   {
    "duration": 78,
    "start_time": "2023-04-18T19:27:59.110Z"
   },
   {
    "duration": 17,
    "start_time": "2023-04-18T19:28:20.413Z"
   },
   {
    "duration": 26,
    "start_time": "2023-04-18T19:28:32.960Z"
   },
   {
    "duration": 495,
    "start_time": "2023-04-18T19:28:40.251Z"
   },
   {
    "duration": 19,
    "start_time": "2023-04-18T19:29:33.155Z"
   },
   {
    "duration": 572,
    "start_time": "2023-04-18T19:33:32.756Z"
   },
   {
    "duration": 15,
    "start_time": "2023-04-18T19:35:44.838Z"
   },
   {
    "duration": 10,
    "start_time": "2023-04-18T19:35:48.809Z"
   },
   {
    "duration": 1654,
    "start_time": "2023-04-18T19:36:12.012Z"
   },
   {
    "duration": 1669,
    "start_time": "2023-04-18T19:36:30.217Z"
   },
   {
    "duration": 23,
    "start_time": "2023-04-18T19:36:36.610Z"
   },
   {
    "duration": 1877,
    "start_time": "2023-04-18T19:36:40.210Z"
   },
   {
    "duration": 11,
    "start_time": "2023-04-18T19:36:58.706Z"
   },
   {
    "duration": 1742,
    "start_time": "2023-04-18T19:41:11.840Z"
   },
   {
    "duration": 1732,
    "start_time": "2023-04-18T19:43:26.921Z"
   },
   {
    "duration": 6,
    "start_time": "2023-04-18T19:47:37.650Z"
   },
   {
    "duration": 1674,
    "start_time": "2023-04-18T19:50:56.412Z"
   },
   {
    "duration": 1689,
    "start_time": "2023-04-18T19:51:11.246Z"
   },
   {
    "duration": 12,
    "start_time": "2023-04-18T19:52:43.104Z"
   },
   {
    "duration": 1710,
    "start_time": "2023-04-18T19:52:48.137Z"
   },
   {
    "duration": 11,
    "start_time": "2023-04-18T19:56:05.016Z"
   },
   {
    "duration": 180,
    "start_time": "2023-04-18T19:56:09.159Z"
   },
   {
    "duration": 11,
    "start_time": "2023-04-18T19:56:20.246Z"
   },
   {
    "duration": 1802,
    "start_time": "2023-04-18T19:56:26.446Z"
   },
   {
    "duration": 69,
    "start_time": "2023-04-18T19:57:03.033Z"
   },
   {
    "duration": 415,
    "start_time": "2023-04-18T19:57:05.112Z"
   },
   {
    "duration": 10,
    "start_time": "2023-04-18T19:57:11.934Z"
   },
   {
    "duration": 1742,
    "start_time": "2023-04-18T19:57:14.801Z"
   },
   {
    "duration": 1689,
    "start_time": "2023-04-19T07:03:20.049Z"
   },
   {
    "duration": 11,
    "start_time": "2023-04-19T07:03:21.741Z"
   },
   {
    "duration": 1622,
    "start_time": "2023-04-19T07:03:21.754Z"
   },
   {
    "duration": 16,
    "start_time": "2023-04-19T07:03:23.377Z"
   },
   {
    "duration": 12,
    "start_time": "2023-04-19T07:03:23.395Z"
   },
   {
    "duration": 10,
    "start_time": "2023-04-19T07:03:23.409Z"
   },
   {
    "duration": 16,
    "start_time": "2023-04-19T07:03:23.420Z"
   },
   {
    "duration": 17,
    "start_time": "2023-04-19T07:03:23.437Z"
   },
   {
    "duration": 16,
    "start_time": "2023-04-19T07:03:23.464Z"
   },
   {
    "duration": 334,
    "start_time": "2023-04-19T07:03:23.482Z"
   },
   {
    "duration": 308,
    "start_time": "2023-04-19T07:03:23.818Z"
   },
   {
    "duration": 304,
    "start_time": "2023-04-19T07:03:24.128Z"
   },
   {
    "duration": 66,
    "start_time": "2023-04-19T07:03:24.433Z"
   },
   {
    "duration": 429,
    "start_time": "2023-04-19T07:03:24.502Z"
   },
   {
    "duration": 11,
    "start_time": "2023-04-19T07:03:24.933Z"
   },
   {
    "duration": 1773,
    "start_time": "2023-04-19T07:03:24.945Z"
   },
   {
    "duration": 14,
    "start_time": "2023-04-19T07:04:53.528Z"
   },
   {
    "duration": 1544,
    "start_time": "2023-04-19T07:04:56.419Z"
   },
   {
    "duration": 1744,
    "start_time": "2023-04-19T07:05:11.784Z"
   },
   {
    "duration": 905,
    "start_time": "2023-04-19T07:07:31.280Z"
   },
   {
    "duration": 1639,
    "start_time": "2023-04-19T07:08:25.028Z"
   },
   {
    "duration": 918,
    "start_time": "2023-04-19T07:23:09.848Z"
   },
   {
    "duration": 924,
    "start_time": "2023-04-19T07:23:32.022Z"
   },
   {
    "duration": 966,
    "start_time": "2023-04-19T07:23:45.514Z"
   },
   {
    "duration": 793,
    "start_time": "2023-04-19T07:23:58.162Z"
   },
   {
    "duration": 956,
    "start_time": "2023-04-19T07:24:09.259Z"
   },
   {
    "duration": 972,
    "start_time": "2023-04-19T07:24:15.927Z"
   },
   {
    "duration": 12,
    "start_time": "2023-04-19T07:36:13.481Z"
   },
   {
    "duration": 4,
    "start_time": "2023-04-19T07:36:49.717Z"
   },
   {
    "duration": 42,
    "start_time": "2023-04-19T07:37:30.822Z"
   },
   {
    "duration": 3,
    "start_time": "2023-04-19T07:48:21.771Z"
   },
   {
    "duration": 4,
    "start_time": "2023-04-19T07:49:00.698Z"
   },
   {
    "duration": 4,
    "start_time": "2023-04-19T07:49:02.561Z"
   },
   {
    "duration": 75,
    "start_time": "2023-04-19T07:49:27.087Z"
   },
   {
    "duration": 121,
    "start_time": "2023-04-19T07:49:28.905Z"
   },
   {
    "duration": 11,
    "start_time": "2023-04-19T07:50:03.601Z"
   },
   {
    "duration": 37,
    "start_time": "2023-04-19T07:50:12.978Z"
   },
   {
    "duration": 30,
    "start_time": "2023-04-19T07:50:29.395Z"
   },
   {
    "duration": 97,
    "start_time": "2023-04-19T07:58:40.011Z"
   },
   {
    "duration": 5,
    "start_time": "2023-04-19T07:58:57.179Z"
   },
   {
    "duration": 23,
    "start_time": "2023-04-19T08:20:02.227Z"
   },
   {
    "duration": 26,
    "start_time": "2023-04-19T08:20:03.000Z"
   },
   {
    "duration": 25,
    "start_time": "2023-04-19T08:20:06.820Z"
   },
   {
    "duration": 25,
    "start_time": "2023-04-19T08:20:09.022Z"
   },
   {
    "duration": 36,
    "start_time": "2023-04-19T08:22:18.346Z"
   },
   {
    "duration": 5,
    "start_time": "2023-04-19T08:41:01.736Z"
   },
   {
    "duration": 12,
    "start_time": "2023-04-19T08:41:06.808Z"
   },
   {
    "duration": 4,
    "start_time": "2023-04-19T08:41:08.229Z"
   },
   {
    "duration": 13,
    "start_time": "2023-04-19T08:41:08.453Z"
   },
   {
    "duration": 7,
    "start_time": "2023-04-19T08:42:09.446Z"
   },
   {
    "duration": 5,
    "start_time": "2023-04-19T08:42:15.448Z"
   },
   {
    "duration": 33,
    "start_time": "2023-04-19T08:42:16.913Z"
   },
   {
    "duration": 6,
    "start_time": "2023-04-19T08:42:40.670Z"
   },
   {
    "duration": 4,
    "start_time": "2023-04-19T08:42:47.656Z"
   },
   {
    "duration": 27,
    "start_time": "2023-04-19T08:42:48.009Z"
   },
   {
    "duration": 7,
    "start_time": "2023-04-19T08:43:45.765Z"
   },
   {
    "duration": 4,
    "start_time": "2023-04-19T08:43:54.674Z"
   },
   {
    "duration": 936,
    "start_time": "2023-04-19T08:43:56.332Z"
   },
   {
    "duration": 954,
    "start_time": "2023-04-19T08:44:13.613Z"
   },
   {
    "duration": 918,
    "start_time": "2023-04-19T08:44:21.851Z"
   },
   {
    "duration": 71,
    "start_time": "2023-04-19T09:26:45.421Z"
   },
   {
    "duration": 14,
    "start_time": "2023-04-19T09:33:34.708Z"
   },
   {
    "duration": 20,
    "start_time": "2023-04-19T09:33:59.119Z"
   },
   {
    "duration": 17,
    "start_time": "2023-04-19T09:34:25.144Z"
   },
   {
    "duration": 23,
    "start_time": "2023-04-19T09:34:30.247Z"
   },
   {
    "duration": 5,
    "start_time": "2023-04-19T09:34:35.423Z"
   },
   {
    "duration": 8,
    "start_time": "2023-04-19T09:34:43.166Z"
   },
   {
    "duration": 13,
    "start_time": "2023-04-19T09:34:46.115Z"
   },
   {
    "duration": 9,
    "start_time": "2023-04-19T09:34:57.765Z"
   },
   {
    "duration": 5,
    "start_time": "2023-04-19T09:35:09.973Z"
   },
   {
    "duration": 5,
    "start_time": "2023-04-19T09:35:17.837Z"
   },
   {
    "duration": 4,
    "start_time": "2023-04-19T09:48:08.144Z"
   },
   {
    "duration": 14,
    "start_time": "2023-04-19T09:49:47.441Z"
   },
   {
    "duration": 4,
    "start_time": "2023-04-19T09:51:04.161Z"
   },
   {
    "duration": 5,
    "start_time": "2023-04-19T09:53:43.664Z"
   },
   {
    "duration": 3,
    "start_time": "2023-04-19T09:54:06.804Z"
   },
   {
    "duration": 4,
    "start_time": "2023-04-19T09:55:13.247Z"
   },
   {
    "duration": 23,
    "start_time": "2023-04-19T10:04:48.243Z"
   },
   {
    "duration": 305,
    "start_time": "2023-04-19T10:05:09.303Z"
   },
   {
    "duration": 25,
    "start_time": "2023-04-19T10:05:21.185Z"
   },
   {
    "duration": 16,
    "start_time": "2023-04-19T10:05:52.191Z"
   },
   {
    "duration": 5,
    "start_time": "2023-04-19T10:08:45.904Z"
   },
   {
    "duration": 9,
    "start_time": "2023-04-19T10:08:58.624Z"
   },
   {
    "duration": 9,
    "start_time": "2023-04-19T10:09:02.387Z"
   },
   {
    "duration": 27,
    "start_time": "2023-04-19T10:11:02.488Z"
   },
   {
    "duration": 5,
    "start_time": "2023-04-19T10:11:57.727Z"
   },
   {
    "duration": 5,
    "start_time": "2023-04-19T10:12:09.043Z"
   },
   {
    "duration": 5,
    "start_time": "2023-04-19T10:15:22.505Z"
   },
   {
    "duration": 17,
    "start_time": "2023-04-19T10:16:16.358Z"
   },
   {
    "duration": 10,
    "start_time": "2023-04-19T10:16:36.789Z"
   },
   {
    "duration": 2,
    "start_time": "2023-04-19T10:23:38.823Z"
   },
   {
    "duration": 8,
    "start_time": "2023-04-19T10:23:53.212Z"
   },
   {
    "duration": 5,
    "start_time": "2023-04-19T10:23:56.615Z"
   },
   {
    "duration": 5,
    "start_time": "2023-04-19T10:25:14.963Z"
   },
   {
    "duration": 4,
    "start_time": "2023-04-19T10:25:28.645Z"
   },
   {
    "duration": 3,
    "start_time": "2023-04-19T10:34:23.409Z"
   },
   {
    "duration": 3,
    "start_time": "2023-04-19T11:14:48.130Z"
   },
   {
    "duration": 3,
    "start_time": "2023-04-19T11:16:44.334Z"
   },
   {
    "duration": 4,
    "start_time": "2023-04-19T11:16:46.127Z"
   },
   {
    "duration": 5,
    "start_time": "2023-04-19T11:16:46.387Z"
   },
   {
    "duration": 27,
    "start_time": "2023-04-19T11:16:47.336Z"
   },
   {
    "duration": 18,
    "start_time": "2023-04-19T11:17:02.615Z"
   },
   {
    "duration": 17,
    "start_time": "2023-04-19T11:17:49.688Z"
   },
   {
    "duration": 17,
    "start_time": "2023-04-19T11:20:16.085Z"
   },
   {
    "duration": 18,
    "start_time": "2023-04-19T11:20:36.686Z"
   },
   {
    "duration": 18,
    "start_time": "2023-04-19T11:21:07.922Z"
   },
   {
    "duration": 4,
    "start_time": "2023-04-19T11:24:02.052Z"
   },
   {
    "duration": 4,
    "start_time": "2023-04-19T11:24:03.485Z"
   },
   {
    "duration": 24,
    "start_time": "2023-04-19T11:24:03.717Z"
   },
   {
    "duration": 5,
    "start_time": "2023-04-19T11:24:50.637Z"
   },
   {
    "duration": 6,
    "start_time": "2023-04-19T11:33:37.724Z"
   },
   {
    "duration": 4,
    "start_time": "2023-04-19T11:40:59.090Z"
   },
   {
    "duration": 4,
    "start_time": "2023-04-19T11:42:06.929Z"
   },
   {
    "duration": 19,
    "start_time": "2023-04-19T11:42:23.699Z"
   },
   {
    "duration": 12,
    "start_time": "2023-04-19T11:43:07.542Z"
   },
   {
    "duration": 4742,
    "start_time": "2023-04-19T11:43:13.840Z"
   },
   {
    "duration": 4,
    "start_time": "2023-04-19T11:44:28.870Z"
   },
   {
    "duration": 6,
    "start_time": "2023-04-19T11:45:07.101Z"
   },
   {
    "duration": 4870,
    "start_time": "2023-04-19T11:47:34.216Z"
   },
   {
    "duration": 6,
    "start_time": "2023-04-19T11:47:45.436Z"
   },
   {
    "duration": 4,
    "start_time": "2023-04-19T11:47:50.593Z"
   },
   {
    "duration": 5073,
    "start_time": "2023-04-19T11:47:50.990Z"
   },
   {
    "duration": 5,
    "start_time": "2023-04-19T11:47:58.718Z"
   },
   {
    "duration": 5,
    "start_time": "2023-04-19T11:49:28.651Z"
   },
   {
    "duration": 4584,
    "start_time": "2023-04-19T11:49:42.532Z"
   },
   {
    "duration": 5,
    "start_time": "2023-04-19T11:49:48.441Z"
   },
   {
    "duration": 3,
    "start_time": "2023-04-19T11:49:50.478Z"
   },
   {
    "duration": 4627,
    "start_time": "2023-04-19T11:49:50.701Z"
   },
   {
    "duration": 5,
    "start_time": "2023-04-19T11:49:55.330Z"
   },
   {
    "duration": 4,
    "start_time": "2023-04-19T11:50:54.786Z"
   },
   {
    "duration": 4549,
    "start_time": "2023-04-19T11:50:55.655Z"
   },
   {
    "duration": 5,
    "start_time": "2023-04-19T11:51:00.206Z"
   },
   {
    "duration": 17,
    "start_time": "2023-04-19T11:51:00.213Z"
   },
   {
    "duration": 4,
    "start_time": "2023-04-19T11:51:34.994Z"
   },
   {
    "duration": 4558,
    "start_time": "2023-04-19T11:51:36.019Z"
   },
   {
    "duration": 5,
    "start_time": "2023-04-19T11:51:41.337Z"
   },
   {
    "duration": 6,
    "start_time": "2023-04-19T11:51:50.609Z"
   },
   {
    "duration": 6,
    "start_time": "2023-04-19T11:51:57.394Z"
   },
   {
    "duration": 5,
    "start_time": "2023-04-19T11:52:03.886Z"
   },
   {
    "duration": 4531,
    "start_time": "2023-04-19T11:52:09.040Z"
   },
   {
    "duration": 6,
    "start_time": "2023-04-19T11:53:58.379Z"
   },
   {
    "duration": 4712,
    "start_time": "2023-04-19T11:54:01.313Z"
   },
   {
    "duration": 4,
    "start_time": "2023-04-19T11:54:07.652Z"
   },
   {
    "duration": 11,
    "start_time": "2023-04-19T11:54:22.041Z"
   },
   {
    "duration": 5,
    "start_time": "2023-04-19T11:54:27.385Z"
   },
   {
    "duration": 5,
    "start_time": "2023-04-19T11:56:13.520Z"
   },
   {
    "duration": 5,
    "start_time": "2023-04-19T11:56:18.152Z"
   },
   {
    "duration": 6,
    "start_time": "2023-04-19T11:56:26.324Z"
   },
   {
    "duration": 5,
    "start_time": "2023-04-19T11:56:42.000Z"
   },
   {
    "duration": 17,
    "start_time": "2023-04-19T11:56:42.811Z"
   },
   {
    "duration": 4,
    "start_time": "2023-04-19T11:56:44.951Z"
   },
   {
    "duration": 17,
    "start_time": "2023-04-19T11:56:45.898Z"
   },
   {
    "duration": 7,
    "start_time": "2023-04-19T11:57:12.332Z"
   },
   {
    "duration": 5608,
    "start_time": "2023-04-19T11:57:46.126Z"
   },
   {
    "duration": 5,
    "start_time": "2023-04-19T11:57:52.815Z"
   },
   {
    "duration": 4,
    "start_time": "2023-04-19T11:59:33.793Z"
   },
   {
    "duration": 5,
    "start_time": "2023-04-19T12:00:01.794Z"
   },
   {
    "duration": 4,
    "start_time": "2023-04-19T12:00:09.319Z"
   },
   {
    "duration": 4973,
    "start_time": "2023-04-19T12:00:11.390Z"
   },
   {
    "duration": 5,
    "start_time": "2023-04-19T12:00:29.426Z"
   },
   {
    "duration": 11,
    "start_time": "2023-04-19T12:00:47.991Z"
   },
   {
    "duration": 3,
    "start_time": "2023-04-19T12:00:50.241Z"
   },
   {
    "duration": 7,
    "start_time": "2023-04-19T12:00:52.487Z"
   },
   {
    "duration": 1790,
    "start_time": "2023-04-19T12:01:03.098Z"
   },
   {
    "duration": 3,
    "start_time": "2023-04-19T12:04:23.785Z"
   },
   {
    "duration": 27,
    "start_time": "2023-04-19T12:04:33.185Z"
   },
   {
    "duration": 5,
    "start_time": "2023-04-19T12:04:55.289Z"
   },
   {
    "duration": 1734,
    "start_time": "2023-04-19T12:04:56.924Z"
   },
   {
    "duration": 1797,
    "start_time": "2023-04-19T12:05:01.944Z"
   },
   {
    "duration": 1761,
    "start_time": "2023-04-19T12:06:28.743Z"
   },
   {
    "duration": 5,
    "start_time": "2023-04-19T12:06:47.511Z"
   },
   {
    "duration": 1760,
    "start_time": "2023-04-19T12:06:49.149Z"
   },
   {
    "duration": 4,
    "start_time": "2023-04-19T12:07:05.616Z"
   },
   {
    "duration": 18,
    "start_time": "2023-04-19T12:07:31.783Z"
   },
   {
    "duration": 4,
    "start_time": "2023-04-19T12:08:10.184Z"
   },
   {
    "duration": 17,
    "start_time": "2023-04-19T12:08:25.095Z"
   },
   {
    "duration": 5433,
    "start_time": "2023-04-19T12:09:22.740Z"
   },
   {
    "duration": 7,
    "start_time": "2023-04-19T12:09:32.711Z"
   },
   {
    "duration": 15,
    "start_time": "2023-04-19T12:10:32.407Z"
   },
   {
    "duration": 15,
    "start_time": "2023-04-19T12:10:42.835Z"
   },
   {
    "duration": 4,
    "start_time": "2023-04-19T12:10:45.749Z"
   },
   {
    "duration": 3,
    "start_time": "2023-04-19T12:10:46.491Z"
   },
   {
    "duration": 107,
    "start_time": "2023-04-19T12:10:47.184Z"
   },
   {
    "duration": 98,
    "start_time": "2023-04-19T12:10:52.181Z"
   },
   {
    "duration": 45,
    "start_time": "2023-04-19T12:10:53.219Z"
   },
   {
    "duration": 5,
    "start_time": "2023-04-19T12:10:53.995Z"
   },
   {
    "duration": 1090,
    "start_time": "2023-04-19T12:10:59.192Z"
   },
   {
    "duration": 900,
    "start_time": "2023-04-19T12:11:00.293Z"
   },
   {
    "duration": 867,
    "start_time": "2023-04-19T12:11:01.200Z"
   },
   {
    "duration": 4,
    "start_time": "2023-04-19T12:11:46.181Z"
   },
   {
    "duration": 3,
    "start_time": "2023-04-19T12:11:46.485Z"
   },
   {
    "duration": 3,
    "start_time": "2023-04-19T12:11:46.938Z"
   },
   {
    "duration": 5,
    "start_time": "2023-04-19T12:11:48.554Z"
   },
   {
    "duration": 23,
    "start_time": "2023-04-19T12:11:50.548Z"
   },
   {
    "duration": 4,
    "start_time": "2023-04-19T12:11:54.684Z"
   },
   {
    "duration": 1803,
    "start_time": "2023-04-19T12:11:56.520Z"
   },
   {
    "duration": 67,
    "start_time": "2023-04-19T12:12:07.906Z"
   },
   {
    "duration": 5,
    "start_time": "2023-04-19T12:12:14.085Z"
   },
   {
    "duration": 7,
    "start_time": "2023-04-19T12:18:44.539Z"
   },
   {
    "duration": 11,
    "start_time": "2023-04-19T12:18:44.548Z"
   },
   {
    "duration": 476,
    "start_time": "2023-04-19T12:18:44.561Z"
   },
   {
    "duration": 10,
    "start_time": "2023-04-19T12:18:45.040Z"
   },
   {
    "duration": 41,
    "start_time": "2023-04-19T12:18:45.052Z"
   },
   {
    "duration": 12,
    "start_time": "2023-04-19T12:18:45.100Z"
   },
   {
    "duration": 17,
    "start_time": "2023-04-19T12:18:45.114Z"
   },
   {
    "duration": 10,
    "start_time": "2023-04-19T12:18:45.133Z"
   },
   {
    "duration": 10,
    "start_time": "2023-04-19T12:18:45.145Z"
   },
   {
    "duration": 479,
    "start_time": "2023-04-19T12:18:45.162Z"
   },
   {
    "duration": 406,
    "start_time": "2023-04-19T12:18:45.642Z"
   },
   {
    "duration": 478,
    "start_time": "2023-04-19T12:18:46.050Z"
   },
   {
    "duration": 75,
    "start_time": "2023-04-19T12:18:46.530Z"
   },
   {
    "duration": 569,
    "start_time": "2023-04-19T12:18:46.607Z"
   },
   {
    "duration": 15,
    "start_time": "2023-04-19T12:18:47.183Z"
   },
   {
    "duration": 2241,
    "start_time": "2023-04-19T12:18:47.200Z"
   },
   {
    "duration": 953,
    "start_time": "2023-04-19T12:18:49.443Z"
   },
   {
    "duration": 4,
    "start_time": "2023-04-19T12:18:50.403Z"
   },
   {
    "duration": 14,
    "start_time": "2023-04-19T12:18:50.409Z"
   },
   {
    "duration": 6,
    "start_time": "2023-04-19T12:18:52.504Z"
   },
   {
    "duration": 5,
    "start_time": "2023-04-19T12:18:54.732Z"
   },
   {
    "duration": 1728,
    "start_time": "2023-04-19T12:19:07.144Z"
   },
   {
    "duration": 21,
    "start_time": "2023-04-19T12:19:08.875Z"
   },
   {
    "duration": 528,
    "start_time": "2023-04-19T12:19:08.899Z"
   },
   {
    "duration": 17,
    "start_time": "2023-04-19T12:19:09.429Z"
   },
   {
    "duration": 28,
    "start_time": "2023-04-19T12:19:09.449Z"
   },
   {
    "duration": 17,
    "start_time": "2023-04-19T12:19:09.479Z"
   },
   {
    "duration": 12,
    "start_time": "2023-04-19T12:19:09.499Z"
   },
   {
    "duration": 11,
    "start_time": "2023-04-19T12:19:09.513Z"
   },
   {
    "duration": 11,
    "start_time": "2023-04-19T12:19:09.526Z"
   },
   {
    "duration": 402,
    "start_time": "2023-04-19T12:19:09.565Z"
   },
   {
    "duration": 388,
    "start_time": "2023-04-19T12:19:09.969Z"
   },
   {
    "duration": 375,
    "start_time": "2023-04-19T12:19:10.360Z"
   },
   {
    "duration": 75,
    "start_time": "2023-04-19T12:19:10.736Z"
   },
   {
    "duration": 535,
    "start_time": "2023-04-19T12:19:10.814Z"
   },
   {
    "duration": 18,
    "start_time": "2023-04-19T12:19:11.351Z"
   },
   {
    "duration": 1977,
    "start_time": "2023-04-19T12:19:11.371Z"
   },
   {
    "duration": 1063,
    "start_time": "2023-04-19T12:19:13.350Z"
   },
   {
    "duration": 4,
    "start_time": "2023-04-19T12:19:14.415Z"
   },
   {
    "duration": 4,
    "start_time": "2023-04-19T12:19:14.421Z"
   },
   {
    "duration": 126,
    "start_time": "2023-04-19T12:19:17.196Z"
   },
   {
    "duration": 80,
    "start_time": "2023-04-19T12:19:49.806Z"
   },
   {
    "duration": 21,
    "start_time": "2023-04-19T12:19:51.109Z"
   },
   {
    "duration": 30,
    "start_time": "2023-04-19T12:19:53.529Z"
   },
   {
    "duration": 5,
    "start_time": "2023-04-19T12:44:08.128Z"
   },
   {
    "duration": 14,
    "start_time": "2023-04-19T12:44:11.117Z"
   },
   {
    "duration": 4,
    "start_time": "2023-04-19T12:44:21.284Z"
   },
   {
    "duration": 14,
    "start_time": "2023-04-19T12:44:22.301Z"
   },
   {
    "duration": 3,
    "start_time": "2023-04-19T12:44:30.052Z"
   },
   {
    "duration": 3,
    "start_time": "2023-04-19T12:44:33.882Z"
   },
   {
    "duration": 22,
    "start_time": "2023-04-19T12:44:34.144Z"
   },
   {
    "duration": 4,
    "start_time": "2023-04-19T12:44:59.476Z"
   },
   {
    "duration": 6,
    "start_time": "2023-04-19T13:02:33.306Z"
   },
   {
    "duration": 10,
    "start_time": "2023-04-19T13:02:33.322Z"
   },
   {
    "duration": 484,
    "start_time": "2023-04-19T13:02:33.334Z"
   },
   {
    "duration": 9,
    "start_time": "2023-04-19T13:02:33.820Z"
   },
   {
    "duration": 14,
    "start_time": "2023-04-19T13:02:33.830Z"
   },
   {
    "duration": 25,
    "start_time": "2023-04-19T13:02:33.847Z"
   },
   {
    "duration": 28,
    "start_time": "2023-04-19T13:02:33.874Z"
   },
   {
    "duration": 9,
    "start_time": "2023-04-19T13:02:33.904Z"
   },
   {
    "duration": 23,
    "start_time": "2023-04-19T13:02:33.915Z"
   },
   {
    "duration": 386,
    "start_time": "2023-04-19T13:02:33.939Z"
   },
   {
    "duration": 407,
    "start_time": "2023-04-19T13:02:34.326Z"
   },
   {
    "duration": 395,
    "start_time": "2023-04-19T13:02:34.736Z"
   },
   {
    "duration": 79,
    "start_time": "2023-04-19T13:02:35.132Z"
   },
   {
    "duration": 482,
    "start_time": "2023-04-19T13:02:35.213Z"
   },
   {
    "duration": 11,
    "start_time": "2023-04-19T13:02:35.698Z"
   },
   {
    "duration": 1800,
    "start_time": "2023-04-19T13:02:35.710Z"
   },
   {
    "duration": 906,
    "start_time": "2023-04-19T13:02:37.511Z"
   },
   {
    "duration": 5,
    "start_time": "2023-04-19T13:02:38.419Z"
   },
   {
    "duration": 3,
    "start_time": "2023-04-19T13:02:38.426Z"
   },
   {
    "duration": 43,
    "start_time": "2023-04-19T13:02:38.431Z"
   },
   {
    "duration": 114,
    "start_time": "2023-04-19T13:02:38.477Z"
   },
   {
    "duration": 129,
    "start_time": "2023-04-19T13:02:38.669Z"
   },
   {
    "duration": 13,
    "start_time": "2023-04-19T13:02:38.863Z"
   },
   {
    "duration": 134,
    "start_time": "2023-04-19T13:02:38.883Z"
   },
   {
    "duration": 0,
    "start_time": "2023-04-19T13:02:39.019Z"
   },
   {
    "duration": 0,
    "start_time": "2023-04-19T13:02:39.020Z"
   },
   {
    "duration": 0,
    "start_time": "2023-04-19T13:02:39.021Z"
   },
   {
    "duration": 0,
    "start_time": "2023-04-19T13:02:39.022Z"
   },
   {
    "duration": 0,
    "start_time": "2023-04-19T13:02:39.023Z"
   },
   {
    "duration": 0,
    "start_time": "2023-04-19T13:02:39.024Z"
   },
   {
    "duration": 5,
    "start_time": "2023-04-19T13:03:51.401Z"
   },
   {
    "duration": 773,
    "start_time": "2023-04-19T13:03:52.197Z"
   },
   {
    "duration": 905,
    "start_time": "2023-04-19T13:03:56.486Z"
   },
   {
    "duration": 812,
    "start_time": "2023-04-19T13:03:58.356Z"
   },
   {
    "duration": 3,
    "start_time": "2023-04-19T13:04:10.497Z"
   },
   {
    "duration": 4,
    "start_time": "2023-04-19T13:04:11.289Z"
   },
   {
    "duration": 3,
    "start_time": "2023-04-19T13:04:12.048Z"
   },
   {
    "duration": 4,
    "start_time": "2023-04-19T13:04:12.920Z"
   },
   {
    "duration": 18,
    "start_time": "2023-04-19T13:04:14.136Z"
   },
   {
    "duration": 5,
    "start_time": "2023-04-19T13:04:17.391Z"
   },
   {
    "duration": 1777,
    "start_time": "2023-04-19T13:04:18.683Z"
   },
   {
    "duration": 5,
    "start_time": "2023-04-19T13:12:54.017Z"
   },
   {
    "duration": 32,
    "start_time": "2023-04-19T13:14:48.733Z"
   },
   {
    "duration": 7,
    "start_time": "2023-04-19T13:15:03.741Z"
   },
   {
    "duration": 6,
    "start_time": "2023-04-19T13:15:09.894Z"
   },
   {
    "duration": 5,
    "start_time": "2023-04-19T13:15:33.999Z"
   },
   {
    "duration": 14,
    "start_time": "2023-04-19T13:15:49.996Z"
   },
   {
    "duration": 7,
    "start_time": "2023-04-19T13:16:04.254Z"
   },
   {
    "duration": 6,
    "start_time": "2023-04-19T13:17:30.782Z"
   },
   {
    "duration": 26,
    "start_time": "2023-04-19T13:18:44.933Z"
   },
   {
    "duration": 5,
    "start_time": "2023-04-19T13:18:49.804Z"
   },
   {
    "duration": 11,
    "start_time": "2023-04-19T13:19:23.052Z"
   },
   {
    "duration": 9,
    "start_time": "2023-04-19T13:19:30.980Z"
   },
   {
    "duration": 12,
    "start_time": "2023-04-19T13:19:58.680Z"
   },
   {
    "duration": 26,
    "start_time": "2023-04-19T13:20:23.708Z"
   },
   {
    "duration": 5,
    "start_time": "2023-04-19T13:20:29.877Z"
   },
   {
    "duration": 27,
    "start_time": "2023-04-19T13:21:57.885Z"
   },
   {
    "duration": 84,
    "start_time": "2023-04-19T13:22:03.880Z"
   },
   {
    "duration": 5,
    "start_time": "2023-04-19T13:22:08.680Z"
   },
   {
    "duration": 34,
    "start_time": "2023-04-19T13:22:43.301Z"
   },
   {
    "duration": 5,
    "start_time": "2023-04-19T13:22:47.841Z"
   },
   {
    "duration": 40,
    "start_time": "2023-04-19T13:23:10.454Z"
   },
   {
    "duration": 4,
    "start_time": "2023-04-19T13:23:14.456Z"
   },
   {
    "duration": 5,
    "start_time": "2023-04-19T13:24:03.676Z"
   },
   {
    "duration": 64,
    "start_time": "2023-04-19T13:26:45.401Z"
   },
   {
    "duration": 4,
    "start_time": "2023-04-19T13:26:46.441Z"
   },
   {
    "duration": 23,
    "start_time": "2023-04-19T13:26:51.075Z"
   },
   {
    "duration": 4,
    "start_time": "2023-04-19T13:26:52.195Z"
   },
   {
    "duration": 4,
    "start_time": "2023-04-19T13:26:55.796Z"
   },
   {
    "duration": 24,
    "start_time": "2023-04-19T13:27:08.043Z"
   },
   {
    "duration": 5,
    "start_time": "2023-04-19T13:27:09.276Z"
   },
   {
    "duration": 23,
    "start_time": "2023-04-19T13:27:13.208Z"
   },
   {
    "duration": 4,
    "start_time": "2023-04-19T13:27:14.640Z"
   },
   {
    "duration": 23,
    "start_time": "2023-04-19T13:27:19.711Z"
   },
   {
    "duration": 4,
    "start_time": "2023-04-19T13:27:20.619Z"
   },
   {
    "duration": 49,
    "start_time": "2023-04-19T13:27:25.613Z"
   },
   {
    "duration": 5,
    "start_time": "2023-04-19T13:27:26.334Z"
   },
   {
    "duration": 24,
    "start_time": "2023-04-19T13:27:30.577Z"
   },
   {
    "duration": 5,
    "start_time": "2023-04-19T13:27:33.177Z"
   },
   {
    "duration": 23,
    "start_time": "2023-04-19T13:27:35.643Z"
   },
   {
    "duration": 4,
    "start_time": "2023-04-19T13:27:35.910Z"
   },
   {
    "duration": 8,
    "start_time": "2023-04-19T13:28:24.241Z"
   },
   {
    "duration": 24,
    "start_time": "2023-04-19T13:28:38.777Z"
   },
   {
    "duration": 7,
    "start_time": "2023-04-19T13:28:40.133Z"
   },
   {
    "duration": 5,
    "start_time": "2023-04-19T13:28:41.875Z"
   },
   {
    "duration": 4,
    "start_time": "2023-04-19T13:28:42.899Z"
   },
   {
    "duration": 22,
    "start_time": "2023-04-19T13:28:50.225Z"
   },
   {
    "duration": 23,
    "start_time": "2023-04-19T13:28:59.685Z"
   },
   {
    "duration": 22,
    "start_time": "2023-04-19T13:29:00.578Z"
   },
   {
    "duration": 4,
    "start_time": "2023-04-19T13:29:14.528Z"
   },
   {
    "duration": 5,
    "start_time": "2023-04-19T13:29:15.588Z"
   },
   {
    "duration": 1443,
    "start_time": "2023-04-19T13:29:19.018Z"
   },
   {
    "duration": 6,
    "start_time": "2023-04-19T13:32:28.362Z"
   },
   {
    "duration": 5,
    "start_time": "2023-04-19T13:32:29.400Z"
   },
   {
    "duration": 1490,
    "start_time": "2023-04-19T13:32:32.206Z"
   },
   {
    "duration": 4342,
    "start_time": "2023-04-19T13:32:35.875Z"
   },
   {
    "duration": 5,
    "start_time": "2023-04-19T13:32:41.824Z"
   },
   {
    "duration": 5,
    "start_time": "2023-04-19T13:32:44.194Z"
   },
   {
    "duration": 5,
    "start_time": "2023-04-19T13:32:49.595Z"
   },
   {
    "duration": 7,
    "start_time": "2023-04-19T13:33:59.760Z"
   },
   {
    "duration": 5,
    "start_time": "2023-04-19T13:34:00.776Z"
   },
   {
    "duration": 5,
    "start_time": "2023-04-19T13:34:09.108Z"
   },
   {
    "duration": 6,
    "start_time": "2023-04-19T13:34:13.413Z"
   },
   {
    "duration": 5,
    "start_time": "2023-04-19T13:34:17.975Z"
   },
   {
    "duration": 528,
    "start_time": "2023-04-19T13:34:59.995Z"
   },
   {
    "duration": 4,
    "start_time": "2023-04-19T13:35:42.251Z"
   },
   {
    "duration": 1589,
    "start_time": "2023-04-19T14:20:31.391Z"
   },
   {
    "duration": 17,
    "start_time": "2023-04-19T14:20:32.984Z"
   },
   {
    "duration": 522,
    "start_time": "2023-04-19T14:20:33.003Z"
   },
   {
    "duration": 14,
    "start_time": "2023-04-19T14:20:33.527Z"
   },
   {
    "duration": 48,
    "start_time": "2023-04-19T14:20:33.544Z"
   },
   {
    "duration": 14,
    "start_time": "2023-04-19T14:20:33.595Z"
   },
   {
    "duration": 11,
    "start_time": "2023-04-19T14:20:33.611Z"
   },
   {
    "duration": 12,
    "start_time": "2023-04-19T14:20:33.624Z"
   },
   {
    "duration": 39,
    "start_time": "2023-04-19T14:20:33.639Z"
   },
   {
    "duration": 419,
    "start_time": "2023-04-19T14:20:33.680Z"
   },
   {
    "duration": 397,
    "start_time": "2023-04-19T14:20:34.100Z"
   },
   {
    "duration": 391,
    "start_time": "2023-04-19T14:20:34.499Z"
   },
   {
    "duration": 78,
    "start_time": "2023-04-19T14:20:34.892Z"
   },
   {
    "duration": 534,
    "start_time": "2023-04-19T14:20:34.975Z"
   },
   {
    "duration": 12,
    "start_time": "2023-04-19T14:20:35.511Z"
   },
   {
    "duration": 1835,
    "start_time": "2023-04-19T14:20:35.525Z"
   },
   {
    "duration": 1004,
    "start_time": "2023-04-19T14:20:37.362Z"
   },
   {
    "duration": 4,
    "start_time": "2023-04-19T14:20:38.369Z"
   },
   {
    "duration": 10,
    "start_time": "2023-04-19T14:20:38.375Z"
   },
   {
    "duration": 79,
    "start_time": "2023-04-19T14:20:38.387Z"
   },
   {
    "duration": 6,
    "start_time": "2023-04-19T14:20:38.469Z"
   },
   {
    "duration": 187,
    "start_time": "2023-04-19T14:20:38.477Z"
   },
   {
    "duration": 8,
    "start_time": "2023-04-19T14:20:38.666Z"
   },
   {
    "duration": 96,
    "start_time": "2023-04-19T14:20:38.681Z"
   },
   {
    "duration": 86,
    "start_time": "2023-04-19T14:20:38.779Z"
   },
   {
    "duration": 133,
    "start_time": "2023-04-19T14:20:38.868Z"
   },
   {
    "duration": 70,
    "start_time": "2023-04-19T14:20:39.004Z"
   },
   {
    "duration": 928,
    "start_time": "2023-04-19T14:20:39.083Z"
   },
   {
    "duration": 896,
    "start_time": "2023-04-19T14:20:40.069Z"
   },
   {
    "duration": 1004,
    "start_time": "2023-04-19T14:20:40.969Z"
   },
   {
    "duration": 13,
    "start_time": "2023-04-19T14:20:41.979Z"
   },
   {
    "duration": 10,
    "start_time": "2023-04-19T14:20:42.064Z"
   },
   {
    "duration": 8,
    "start_time": "2023-04-19T14:20:42.079Z"
   },
   {
    "duration": 13,
    "start_time": "2023-04-19T14:20:42.088Z"
   },
   {
    "duration": 21,
    "start_time": "2023-04-19T14:20:42.103Z"
   },
   {
    "duration": 3,
    "start_time": "2023-04-19T14:20:42.126Z"
   },
   {
    "duration": 6,
    "start_time": "2023-04-19T14:20:42.131Z"
   },
   {
    "duration": 1660,
    "start_time": "2023-04-19T14:20:42.138Z"
   },
   {
    "duration": 4694,
    "start_time": "2023-04-19T14:20:43.800Z"
   },
   {
    "duration": 5,
    "start_time": "2023-04-19T14:20:48.496Z"
   },
   {
    "duration": 17,
    "start_time": "2023-04-19T14:20:48.506Z"
   },
   {
    "duration": 6,
    "start_time": "2023-04-19T14:20:48.525Z"
   },
   {
    "duration": 490,
    "start_time": "2023-04-19T14:20:48.533Z"
   },
   {
    "duration": 6,
    "start_time": "2023-04-19T14:20:56.189Z"
   },
   {
    "duration": 5,
    "start_time": "2023-04-19T14:21:17.554Z"
   },
   {
    "duration": 4697,
    "start_time": "2023-04-19T14:21:17.947Z"
   },
   {
    "duration": 4,
    "start_time": "2023-04-19T14:21:22.646Z"
   },
   {
    "duration": 21,
    "start_time": "2023-04-19T14:21:22.652Z"
   },
   {
    "duration": 18,
    "start_time": "2023-04-19T14:21:22.676Z"
   },
   {
    "duration": 540,
    "start_time": "2023-04-19T14:21:59.590Z"
   },
   {
    "duration": 431,
    "start_time": "2023-04-19T14:22:07.943Z"
   },
   {
    "duration": 460,
    "start_time": "2023-04-19T14:22:11.385Z"
   },
   {
    "duration": 537,
    "start_time": "2023-04-19T14:22:49.450Z"
   },
   {
    "duration": 461,
    "start_time": "2023-04-19T14:22:57.981Z"
   },
   {
    "duration": 436,
    "start_time": "2023-04-19T14:24:28.787Z"
   },
   {
    "duration": 529,
    "start_time": "2023-04-19T14:25:17.789Z"
   },
   {
    "duration": 7,
    "start_time": "2023-04-19T14:33:27.350Z"
   },
   {
    "duration": 6,
    "start_time": "2023-04-19T14:34:56.495Z"
   },
   {
    "duration": 7,
    "start_time": "2023-04-19T14:35:26.620Z"
   },
   {
    "duration": 6,
    "start_time": "2023-04-19T14:36:48.053Z"
   },
   {
    "duration": 4,
    "start_time": "2023-04-19T14:36:56.846Z"
   },
   {
    "duration": 4363,
    "start_time": "2023-04-19T14:36:59.650Z"
   },
   {
    "duration": 6,
    "start_time": "2023-04-19T14:37:04.015Z"
   },
   {
    "duration": 13,
    "start_time": "2023-04-19T14:37:04.023Z"
   },
   {
    "duration": 13,
    "start_time": "2023-04-19T14:37:04.038Z"
   },
   {
    "duration": 460,
    "start_time": "2023-04-19T14:37:11.251Z"
   },
   {
    "duration": 7,
    "start_time": "2023-04-19T14:37:15.702Z"
   },
   {
    "duration": 68,
    "start_time": "2023-04-19T14:38:10.916Z"
   },
   {
    "duration": 76,
    "start_time": "2023-04-19T14:43:13.605Z"
   },
   {
    "duration": 7,
    "start_time": "2023-04-19T14:43:35.676Z"
   },
   {
    "duration": 81,
    "start_time": "2023-04-19T14:43:51.783Z"
   },
   {
    "duration": 117,
    "start_time": "2023-04-19T14:45:09.219Z"
   },
   {
    "duration": 12,
    "start_time": "2023-04-19T14:45:34.914Z"
   },
   {
    "duration": 11,
    "start_time": "2023-04-19T14:45:39.910Z"
   },
   {
    "duration": 71,
    "start_time": "2023-04-19T14:45:56.476Z"
   },
   {
    "duration": 7,
    "start_time": "2023-04-19T14:46:02.678Z"
   },
   {
    "duration": 82,
    "start_time": "2023-04-19T14:46:36.351Z"
   },
   {
    "duration": 79,
    "start_time": "2023-04-19T14:47:26.576Z"
   },
   {
    "duration": 6,
    "start_time": "2023-04-19T14:47:36.019Z"
   },
   {
    "duration": 94,
    "start_time": "2023-04-19T15:06:43.042Z"
   },
   {
    "duration": 6,
    "start_time": "2023-04-19T15:07:41.975Z"
   },
   {
    "duration": 3,
    "start_time": "2023-04-19T15:12:30.876Z"
   },
   {
    "duration": 4,
    "start_time": "2023-04-19T15:14:05.357Z"
   },
   {
    "duration": 4,
    "start_time": "2023-04-19T15:14:06.614Z"
   },
   {
    "duration": 17,
    "start_time": "2023-04-19T15:14:07.075Z"
   },
   {
    "duration": 7,
    "start_time": "2023-04-19T15:17:42.018Z"
   },
   {
    "duration": 7,
    "start_time": "2023-04-19T15:18:14.116Z"
   },
   {
    "duration": 7,
    "start_time": "2023-04-19T15:18:20.914Z"
   },
   {
    "duration": 7,
    "start_time": "2023-04-19T15:19:10.711Z"
   },
   {
    "duration": 8,
    "start_time": "2023-04-19T15:21:05.737Z"
   },
   {
    "duration": 7,
    "start_time": "2023-04-19T15:21:38.557Z"
   },
   {
    "duration": 7,
    "start_time": "2023-04-19T15:22:24.024Z"
   },
   {
    "duration": 20,
    "start_time": "2023-04-19T15:24:20.999Z"
   },
   {
    "duration": 4,
    "start_time": "2023-04-19T15:24:24.122Z"
   },
   {
    "duration": 18,
    "start_time": "2023-04-19T15:24:25.128Z"
   },
   {
    "duration": 3,
    "start_time": "2023-04-19T15:24:40.799Z"
   },
   {
    "duration": 5,
    "start_time": "2023-04-19T15:24:41.287Z"
   },
   {
    "duration": 18,
    "start_time": "2023-04-19T15:24:42.010Z"
   },
   {
    "duration": 5,
    "start_time": "2023-04-19T15:25:45.044Z"
   },
   {
    "duration": 12,
    "start_time": "2023-04-19T15:29:14.650Z"
   },
   {
    "duration": 1692,
    "start_time": "2023-04-19T15:29:18.700Z"
   },
   {
    "duration": 11,
    "start_time": "2023-04-19T15:29:34.884Z"
   },
   {
    "duration": 1588,
    "start_time": "2023-04-19T15:29:38.858Z"
   },
   {
    "duration": 134,
    "start_time": "2023-04-19T15:30:08.593Z"
   },
   {
    "duration": 1731,
    "start_time": "2023-04-19T15:30:13.329Z"
   },
   {
    "duration": 14,
    "start_time": "2023-04-19T15:30:48.212Z"
   },
   {
    "duration": 12,
    "start_time": "2023-04-19T15:31:25.399Z"
   },
   {
    "duration": 1676,
    "start_time": "2023-04-19T15:31:29.792Z"
   },
   {
    "duration": 71,
    "start_time": "2023-04-19T15:32:01.928Z"
   },
   {
    "duration": 127,
    "start_time": "2023-04-19T16:33:36.408Z"
   },
   {
    "duration": 7,
    "start_time": "2023-04-19T16:33:55.997Z"
   }
  ],
  "kernelspec": {
   "display_name": "Python 3 (ipykernel)",
   "language": "python",
   "name": "python3"
  },
  "language_info": {
   "codemirror_mode": {
    "name": "ipython",
    "version": 3
   },
   "file_extension": ".py",
   "mimetype": "text/x-python",
   "name": "python",
   "nbconvert_exporter": "python",
   "pygments_lexer": "ipython3",
   "version": "3.10.9"
  },
  "toc": {
   "base_numbering": 1,
   "nav_menu": {},
   "number_sections": true,
   "sideBar": true,
   "skip_h1_title": true,
   "title_cell": "Table of Contents",
   "title_sidebar": "Contents",
   "toc_cell": false,
   "toc_position": {},
   "toc_section_display": true,
   "toc_window_display": false
  }
 },
 "nbformat": 4,
 "nbformat_minor": 2
}
