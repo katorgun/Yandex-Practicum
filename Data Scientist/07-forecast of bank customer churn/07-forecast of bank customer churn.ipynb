{
 "cells": [
  {
   "cell_type": "markdown",
   "metadata": {},
   "source": [
    "<div style=\"border:solid Chocolate 2px; padding: 40px\">\n",
    "\n",
    "Привет Андрей, меня зовут Саша Атаков. Сегодня я проверю твой проект.\n",
    "<br> Дальнейшее общение будет происходить на \"ты\" если это не вызывает никаких проблем.\n",
    "<br> Желательно реагировать на каждый мой комментарий ('исправил', 'не понятно как исправить ошибку', ...)\n",
    "<br> Пожалуйста, не удаляй комментарии ревьюера, так как они повышают качество повторного ревью.\n",
    "\n",
    "Комментарии будут в <font color='green'>зеленой</font>, <font color='blue'>синей</font> или <font color='red'>красной</font> рамках:\n",
    "\n",
    "<div class=\"alert alert-block alert-success\">\n",
    "<b>Успех👍:</b> Если все сделано отлично\n",
    "</div>\n",
    "\n",
    "<div class=\"alert alert-block alert-info\">\n",
    "<b>Совет🤔: </b> Если можно немного улучшить\n",
    "</div>\n",
    "\n",
    "<div class=\"alert alert-block alert-danger\">\n",
    "<b>Ошибка❌:</b> Если требуются исправления. Работа не может быть принята с красными комментариями.\n",
    "</div>\n",
    "\n",
    "-------------------\n",
    "\n",
    "Будет очень хорошо, если ты будешь помечать свои действия следующим образом:\n",
    "<div class=\"alert alert-block alert-warning\">\n",
    "<b>Комментарий студента:</b> ...\n",
    "</div>\n",
    "\n",
    "<div class=\"alert alert-block alert-warning\">\n",
    "<b>Изменения:</b> Были внесены следующие изменения ...\n",
    "</div>\n",
    "\n",
    "<b><font color='orange'>Вот тебе полезная ссылка, вдруг подчерпнешь что-то новое для себя):</font></b>\n",
    "* Полезная статья о дисбалансе классов: https://habr.com/ru/post/349078/\n",
    "* Полезная статья о auc-roc кривых итп: https://alexanderdyakonov.wordpress.com/2017/07/28/auc-roc-%D0%BF%D0%BB%D0%BE%D1%89%D0%B0%D0%B4%D1%8C-%D0%BF%D0%BE%D0%B4-%D0%BA%D1%80%D0%B8%D0%B2%D0%BE%D0%B9-%D0%BE%D1%88%D0%B8%D0%B1%D0%BE%D0%BA/\n",
    "* OHE: https://scikit-learn.org/stable/modules/generated/sklearn.preprocessing.OneHotEncoder.html\n",
    "* Предсказание auc_roc: https://scikit-learn.org/stable/modules/generated/sklearn.metrics.roc_auc_score.html\n",
    "\n",
    "\n",
    "<b><font color='orange'>Общее впечатление</font></b>\n",
    "* Большое спасибо за проделанную работу. Видно, что ты отлично освоил тему.\n",
    "* Отлично, что ноутбук хорошо структурирован. Приятно проверять такие работы.\n",
    "* Над этим проектом нужно будет еще немного поработать, ведь критические ошибки требуют внимания. Однако, изменения не должны занять много времени.\n",
    "* В работе я оставил несколько советов. Буду рад, если ты учтешь их.\n",
    "* В конце прописал свой комментарий по всему проекту, ознакомься с ним, пожалуйста)\n",
    "* С радостью отвечу на твои вопросы, касательно выданной тебе темы, если они есть. Жду новую версию проекта.)"
   ]
  },
  {
   "cell_type": "markdown",
   "metadata": {
    "toc": true
   },
   "source": [
    "<h1>Содержание<span class=\"tocSkip\"></span></h1>\n",
    "<div class=\"toc\"><ul class=\"toc-item\"><li><span><a href=\"#Подготовка-данных\" data-toc-modified-id=\"Подготовка-данных-1\"><span class=\"toc-item-num\">1&nbsp;&nbsp;</span>Подготовка данных</a></span></li><li><span><a href=\"#Исследование-задачи\" data-toc-modified-id=\"Исследование-задачи-2\"><span class=\"toc-item-num\">2&nbsp;&nbsp;</span>Исследование задачи</a></span></li><li><span><a href=\"#Борьба-с-дисбалансом\" data-toc-modified-id=\"Борьба-с-дисбалансом-3\"><span class=\"toc-item-num\">3&nbsp;&nbsp;</span>Борьба с дисбалансом</a></span></li><li><span><a href=\"#Тестирование-модели\" data-toc-modified-id=\"Тестирование-модели-4\"><span class=\"toc-item-num\">4&nbsp;&nbsp;</span>Тестирование модели</a></span></li><li><span><a href=\"#Чек-лист-готовности-проекта\" data-toc-modified-id=\"Чек-лист-готовности-проекта-5\"><span class=\"toc-item-num\">5&nbsp;&nbsp;</span>Чек-лист готовности проекта</a></span></li><li><span><a href=\"#Общий-вывод-по-проекту\" data-toc-modified-id=\"Общий-вывод-по-проекту-6\"><span class=\"toc-item-num\">6&nbsp;&nbsp;</span><b>Общий вывод по проекту</b></a></span></li><li><span><a href=\"#Общий-вывод-по-проекту-В2\" data-toc-modified-id=\"Общий-вывод-по-проекту-В2-7\"><span class=\"toc-item-num\">7&nbsp;&nbsp;</span><b>Общий вывод по проекту В2</b></a></span></li></ul></div>"
   ]
  },
  {
   "cell_type": "markdown",
   "metadata": {},
   "source": [
    "# Отток клиентов"
   ]
  },
  {
   "cell_type": "markdown",
   "metadata": {},
   "source": [
    "Из «Бета-Банка» стали уходить клиенты. Каждый месяц. Немного, но заметно. Банковские маркетологи посчитали: сохранять текущих клиентов дешевле, чем привлекать новых.\n",
    "\n",
    "Нужно спрогнозировать, уйдёт клиент из банка в ближайшее время или нет. Вам предоставлены исторические данные о поведении клиентов и расторжении договоров с банком. \n",
    "\n",
    "Постройте модель с предельно большим значением *F1*-меры. Чтобы сдать проект успешно, нужно довести метрику до 0.59. Проверьте *F1*-меру на тестовой выборке самостоятельно.\n",
    "\n",
    "Дополнительно измеряйте *AUC-ROC*, сравнивайте её значение с *F1*-мерой.\n",
    "\n",
    "Источник данных: [https://www.kaggle.com/barelydedicated/bank-customer-churn-modeling](https://www.kaggle.com/barelydedicated/bank-customer-churn-modeling)"
   ]
  },
  {
   "cell_type": "markdown",
   "metadata": {},
   "source": [
    "## Подготовка данных"
   ]
  },
  {
   "cell_type": "code",
   "execution_count": 1,
   "metadata": {},
   "outputs": [],
   "source": [
    "#Загрузим библиотеки для проекта\n",
    "import pandas as pd\n",
    "import numpy as np\n",
    "import matplotlib.pyplot as plt\n",
    "import seaborn as sns\n",
    "import itertools\n",
    "from sklearn.linear_model import LogisticRegression\n",
    "from sklearn.ensemble import RandomForestClassifier\n",
    "from sklearn.tree import DecisionTreeClassifier\n",
    "from sklearn.model_selection import train_test_split, KFold, cross_val_score, ShuffleSplit\n",
    "from sklearn.preprocessing import StandardScaler, OrdinalEncoder\n",
    "from sklearn.metrics import accuracy_score, confusion_matrix, plot_roc_curve, f1_score, roc_curve, roc_auc_score, auc\n",
    "from sklearn.utils import shuffle\n",
    "from sklearn.preprocessing import OneHotEncoder\n",
    "\n",
    "import warnings\n",
    "warnings.filterwarnings('ignore')"
   ]
  },
  {
   "cell_type": "markdown",
   "metadata": {},
   "source": [
    "<div class=\"alert alert-block alert-success\">\n",
    "<b>Успех👍:</b> \n",
    "    \n",
    "Хороший шаг - импортировать все необходимые библиотеки перед работой с проектом, ведь так ты точно не запутаешься в том, какие библиотеки ты уже импортировал, а какие стоит добавить. Молодец!\n",
    "</div>"
   ]
  },
  {
   "cell_type": "code",
   "execution_count": 2,
   "metadata": {},
   "outputs": [],
   "source": [
    "#Загрузим файл в df\n",
    "df = pd.read_csv('/datasets/Churn.csv')"
   ]
  },
  {
   "cell_type": "code",
   "execution_count": 3,
   "metadata": {},
   "outputs": [
    {
     "data": {
      "text/html": [
       "<div>\n",
       "<style scoped>\n",
       "    .dataframe tbody tr th:only-of-type {\n",
       "        vertical-align: middle;\n",
       "    }\n",
       "\n",
       "    .dataframe tbody tr th {\n",
       "        vertical-align: top;\n",
       "    }\n",
       "\n",
       "    .dataframe thead th {\n",
       "        text-align: right;\n",
       "    }\n",
       "</style>\n",
       "<table border=\"1\" class=\"dataframe\">\n",
       "  <thead>\n",
       "    <tr style=\"text-align: right;\">\n",
       "      <th></th>\n",
       "      <th>RowNumber</th>\n",
       "      <th>CustomerId</th>\n",
       "      <th>Surname</th>\n",
       "      <th>CreditScore</th>\n",
       "      <th>Geography</th>\n",
       "      <th>Gender</th>\n",
       "      <th>Age</th>\n",
       "      <th>Tenure</th>\n",
       "      <th>Balance</th>\n",
       "      <th>NumOfProducts</th>\n",
       "      <th>HasCrCard</th>\n",
       "      <th>IsActiveMember</th>\n",
       "      <th>EstimatedSalary</th>\n",
       "      <th>Exited</th>\n",
       "    </tr>\n",
       "  </thead>\n",
       "  <tbody>\n",
       "    <tr>\n",
       "      <th>0</th>\n",
       "      <td>1</td>\n",
       "      <td>15634602</td>\n",
       "      <td>Hargrave</td>\n",
       "      <td>619</td>\n",
       "      <td>France</td>\n",
       "      <td>Female</td>\n",
       "      <td>42</td>\n",
       "      <td>2.0</td>\n",
       "      <td>0.00</td>\n",
       "      <td>1</td>\n",
       "      <td>1</td>\n",
       "      <td>1</td>\n",
       "      <td>101348.88</td>\n",
       "      <td>1</td>\n",
       "    </tr>\n",
       "    <tr>\n",
       "      <th>1</th>\n",
       "      <td>2</td>\n",
       "      <td>15647311</td>\n",
       "      <td>Hill</td>\n",
       "      <td>608</td>\n",
       "      <td>Spain</td>\n",
       "      <td>Female</td>\n",
       "      <td>41</td>\n",
       "      <td>1.0</td>\n",
       "      <td>83807.86</td>\n",
       "      <td>1</td>\n",
       "      <td>0</td>\n",
       "      <td>1</td>\n",
       "      <td>112542.58</td>\n",
       "      <td>0</td>\n",
       "    </tr>\n",
       "    <tr>\n",
       "      <th>2</th>\n",
       "      <td>3</td>\n",
       "      <td>15619304</td>\n",
       "      <td>Onio</td>\n",
       "      <td>502</td>\n",
       "      <td>France</td>\n",
       "      <td>Female</td>\n",
       "      <td>42</td>\n",
       "      <td>8.0</td>\n",
       "      <td>159660.80</td>\n",
       "      <td>3</td>\n",
       "      <td>1</td>\n",
       "      <td>0</td>\n",
       "      <td>113931.57</td>\n",
       "      <td>1</td>\n",
       "    </tr>\n",
       "    <tr>\n",
       "      <th>3</th>\n",
       "      <td>4</td>\n",
       "      <td>15701354</td>\n",
       "      <td>Boni</td>\n",
       "      <td>699</td>\n",
       "      <td>France</td>\n",
       "      <td>Female</td>\n",
       "      <td>39</td>\n",
       "      <td>1.0</td>\n",
       "      <td>0.00</td>\n",
       "      <td>2</td>\n",
       "      <td>0</td>\n",
       "      <td>0</td>\n",
       "      <td>93826.63</td>\n",
       "      <td>0</td>\n",
       "    </tr>\n",
       "    <tr>\n",
       "      <th>4</th>\n",
       "      <td>5</td>\n",
       "      <td>15737888</td>\n",
       "      <td>Mitchell</td>\n",
       "      <td>850</td>\n",
       "      <td>Spain</td>\n",
       "      <td>Female</td>\n",
       "      <td>43</td>\n",
       "      <td>2.0</td>\n",
       "      <td>125510.82</td>\n",
       "      <td>1</td>\n",
       "      <td>1</td>\n",
       "      <td>1</td>\n",
       "      <td>79084.10</td>\n",
       "      <td>0</td>\n",
       "    </tr>\n",
       "  </tbody>\n",
       "</table>\n",
       "</div>"
      ],
      "text/plain": [
       "   RowNumber  CustomerId   Surname  CreditScore Geography  Gender  Age  \\\n",
       "0          1    15634602  Hargrave          619    France  Female   42   \n",
       "1          2    15647311      Hill          608     Spain  Female   41   \n",
       "2          3    15619304      Onio          502    France  Female   42   \n",
       "3          4    15701354      Boni          699    France  Female   39   \n",
       "4          5    15737888  Mitchell          850     Spain  Female   43   \n",
       "\n",
       "   Tenure    Balance  NumOfProducts  HasCrCard  IsActiveMember  \\\n",
       "0     2.0       0.00              1          1               1   \n",
       "1     1.0   83807.86              1          0               1   \n",
       "2     8.0  159660.80              3          1               0   \n",
       "3     1.0       0.00              2          0               0   \n",
       "4     2.0  125510.82              1          1               1   \n",
       "\n",
       "   EstimatedSalary  Exited  \n",
       "0        101348.88       1  \n",
       "1        112542.58       0  \n",
       "2        113931.57       1  \n",
       "3         93826.63       0  \n",
       "4         79084.10       0  "
      ]
     },
     "metadata": {},
     "output_type": "display_data"
    },
    {
     "data": {
      "text/html": [
       "<div>\n",
       "<style scoped>\n",
       "    .dataframe tbody tr th:only-of-type {\n",
       "        vertical-align: middle;\n",
       "    }\n",
       "\n",
       "    .dataframe tbody tr th {\n",
       "        vertical-align: top;\n",
       "    }\n",
       "\n",
       "    .dataframe thead th {\n",
       "        text-align: right;\n",
       "    }\n",
       "</style>\n",
       "<table border=\"1\" class=\"dataframe\">\n",
       "  <thead>\n",
       "    <tr style=\"text-align: right;\">\n",
       "      <th></th>\n",
       "      <th>RowNumber</th>\n",
       "      <th>CustomerId</th>\n",
       "      <th>Surname</th>\n",
       "      <th>CreditScore</th>\n",
       "      <th>Geography</th>\n",
       "      <th>Gender</th>\n",
       "      <th>Age</th>\n",
       "      <th>Tenure</th>\n",
       "      <th>Balance</th>\n",
       "      <th>NumOfProducts</th>\n",
       "      <th>HasCrCard</th>\n",
       "      <th>IsActiveMember</th>\n",
       "      <th>EstimatedSalary</th>\n",
       "      <th>Exited</th>\n",
       "    </tr>\n",
       "  </thead>\n",
       "  <tbody>\n",
       "    <tr>\n",
       "      <th>9995</th>\n",
       "      <td>9996</td>\n",
       "      <td>15606229</td>\n",
       "      <td>Obijiaku</td>\n",
       "      <td>771</td>\n",
       "      <td>France</td>\n",
       "      <td>Male</td>\n",
       "      <td>39</td>\n",
       "      <td>5.0</td>\n",
       "      <td>0.00</td>\n",
       "      <td>2</td>\n",
       "      <td>1</td>\n",
       "      <td>0</td>\n",
       "      <td>96270.64</td>\n",
       "      <td>0</td>\n",
       "    </tr>\n",
       "    <tr>\n",
       "      <th>9996</th>\n",
       "      <td>9997</td>\n",
       "      <td>15569892</td>\n",
       "      <td>Johnstone</td>\n",
       "      <td>516</td>\n",
       "      <td>France</td>\n",
       "      <td>Male</td>\n",
       "      <td>35</td>\n",
       "      <td>10.0</td>\n",
       "      <td>57369.61</td>\n",
       "      <td>1</td>\n",
       "      <td>1</td>\n",
       "      <td>1</td>\n",
       "      <td>101699.77</td>\n",
       "      <td>0</td>\n",
       "    </tr>\n",
       "    <tr>\n",
       "      <th>9997</th>\n",
       "      <td>9998</td>\n",
       "      <td>15584532</td>\n",
       "      <td>Liu</td>\n",
       "      <td>709</td>\n",
       "      <td>France</td>\n",
       "      <td>Female</td>\n",
       "      <td>36</td>\n",
       "      <td>7.0</td>\n",
       "      <td>0.00</td>\n",
       "      <td>1</td>\n",
       "      <td>0</td>\n",
       "      <td>1</td>\n",
       "      <td>42085.58</td>\n",
       "      <td>1</td>\n",
       "    </tr>\n",
       "    <tr>\n",
       "      <th>9998</th>\n",
       "      <td>9999</td>\n",
       "      <td>15682355</td>\n",
       "      <td>Sabbatini</td>\n",
       "      <td>772</td>\n",
       "      <td>Germany</td>\n",
       "      <td>Male</td>\n",
       "      <td>42</td>\n",
       "      <td>3.0</td>\n",
       "      <td>75075.31</td>\n",
       "      <td>2</td>\n",
       "      <td>1</td>\n",
       "      <td>0</td>\n",
       "      <td>92888.52</td>\n",
       "      <td>1</td>\n",
       "    </tr>\n",
       "    <tr>\n",
       "      <th>9999</th>\n",
       "      <td>10000</td>\n",
       "      <td>15628319</td>\n",
       "      <td>Walker</td>\n",
       "      <td>792</td>\n",
       "      <td>France</td>\n",
       "      <td>Female</td>\n",
       "      <td>28</td>\n",
       "      <td>NaN</td>\n",
       "      <td>130142.79</td>\n",
       "      <td>1</td>\n",
       "      <td>1</td>\n",
       "      <td>0</td>\n",
       "      <td>38190.78</td>\n",
       "      <td>0</td>\n",
       "    </tr>\n",
       "  </tbody>\n",
       "</table>\n",
       "</div>"
      ],
      "text/plain": [
       "      RowNumber  CustomerId    Surname  CreditScore Geography  Gender  Age  \\\n",
       "9995       9996    15606229   Obijiaku          771    France    Male   39   \n",
       "9996       9997    15569892  Johnstone          516    France    Male   35   \n",
       "9997       9998    15584532        Liu          709    France  Female   36   \n",
       "9998       9999    15682355  Sabbatini          772   Germany    Male   42   \n",
       "9999      10000    15628319     Walker          792    France  Female   28   \n",
       "\n",
       "      Tenure    Balance  NumOfProducts  HasCrCard  IsActiveMember  \\\n",
       "9995     5.0       0.00              2          1               0   \n",
       "9996    10.0   57369.61              1          1               1   \n",
       "9997     7.0       0.00              1          0               1   \n",
       "9998     3.0   75075.31              2          1               0   \n",
       "9999     NaN  130142.79              1          1               0   \n",
       "\n",
       "      EstimatedSalary  Exited  \n",
       "9995         96270.64       0  \n",
       "9996        101699.77       0  \n",
       "9997         42085.58       1  \n",
       "9998         92888.52       1  \n",
       "9999         38190.78       0  "
      ]
     },
     "metadata": {},
     "output_type": "display_data"
    }
   ],
   "source": [
    "#Посмотрим набор данных\n",
    "display(df.head(5))\n",
    "display(df.tail(5))"
   ]
  },
  {
   "cell_type": "code",
   "execution_count": 4,
   "metadata": {},
   "outputs": [
    {
     "name": "stdout",
     "output_type": "stream",
     "text": [
      "<class 'pandas.core.frame.DataFrame'>\n",
      "RangeIndex: 10000 entries, 0 to 9999\n",
      "Data columns (total 14 columns):\n",
      " #   Column           Non-Null Count  Dtype  \n",
      "---  ------           --------------  -----  \n",
      " 0   RowNumber        10000 non-null  int64  \n",
      " 1   CustomerId       10000 non-null  int64  \n",
      " 2   Surname          10000 non-null  object \n",
      " 3   CreditScore      10000 non-null  int64  \n",
      " 4   Geography        10000 non-null  object \n",
      " 5   Gender           10000 non-null  object \n",
      " 6   Age              10000 non-null  int64  \n",
      " 7   Tenure           9091 non-null   float64\n",
      " 8   Balance          10000 non-null  float64\n",
      " 9   NumOfProducts    10000 non-null  int64  \n",
      " 10  HasCrCard        10000 non-null  int64  \n",
      " 11  IsActiveMember   10000 non-null  int64  \n",
      " 12  EstimatedSalary  10000 non-null  float64\n",
      " 13  Exited           10000 non-null  int64  \n",
      "dtypes: float64(3), int64(8), object(3)\n",
      "memory usage: 1.1+ MB\n"
     ]
    },
    {
     "data": {
      "text/plain": [
       "None"
      ]
     },
     "metadata": {},
     "output_type": "display_data"
    }
   ],
   "source": [
    "#Посмотрим общую информацию о таблице: кол-во столбцов; тииы данных; пропуски\n",
    "display(df.info())\n"
   ]
  },
  {
   "cell_type": "code",
   "execution_count": 5,
   "metadata": {},
   "outputs": [
    {
     "data": {
      "text/html": [
       "<div>\n",
       "<style scoped>\n",
       "    .dataframe tbody tr th:only-of-type {\n",
       "        vertical-align: middle;\n",
       "    }\n",
       "\n",
       "    .dataframe tbody tr th {\n",
       "        vertical-align: top;\n",
       "    }\n",
       "\n",
       "    .dataframe thead th {\n",
       "        text-align: right;\n",
       "    }\n",
       "</style>\n",
       "<table border=\"1\" class=\"dataframe\">\n",
       "  <thead>\n",
       "    <tr style=\"text-align: right;\">\n",
       "      <th></th>\n",
       "      <th>RowNumber</th>\n",
       "      <th>CustomerId</th>\n",
       "      <th>CreditScore</th>\n",
       "      <th>Age</th>\n",
       "      <th>Tenure</th>\n",
       "      <th>Balance</th>\n",
       "      <th>NumOfProducts</th>\n",
       "      <th>HasCrCard</th>\n",
       "      <th>IsActiveMember</th>\n",
       "      <th>EstimatedSalary</th>\n",
       "      <th>Exited</th>\n",
       "    </tr>\n",
       "  </thead>\n",
       "  <tbody>\n",
       "    <tr>\n",
       "      <th>count</th>\n",
       "      <td>10000.00000</td>\n",
       "      <td>1.000000e+04</td>\n",
       "      <td>10000.000000</td>\n",
       "      <td>10000.000000</td>\n",
       "      <td>9091.000000</td>\n",
       "      <td>10000.000000</td>\n",
       "      <td>10000.000000</td>\n",
       "      <td>10000.00000</td>\n",
       "      <td>10000.000000</td>\n",
       "      <td>10000.000000</td>\n",
       "      <td>10000.000000</td>\n",
       "    </tr>\n",
       "    <tr>\n",
       "      <th>mean</th>\n",
       "      <td>5000.50000</td>\n",
       "      <td>1.569094e+07</td>\n",
       "      <td>650.528800</td>\n",
       "      <td>38.921800</td>\n",
       "      <td>4.997690</td>\n",
       "      <td>76485.889288</td>\n",
       "      <td>1.530200</td>\n",
       "      <td>0.70550</td>\n",
       "      <td>0.515100</td>\n",
       "      <td>100090.239881</td>\n",
       "      <td>0.203700</td>\n",
       "    </tr>\n",
       "    <tr>\n",
       "      <th>std</th>\n",
       "      <td>2886.89568</td>\n",
       "      <td>7.193619e+04</td>\n",
       "      <td>96.653299</td>\n",
       "      <td>10.487806</td>\n",
       "      <td>2.894723</td>\n",
       "      <td>62397.405202</td>\n",
       "      <td>0.581654</td>\n",
       "      <td>0.45584</td>\n",
       "      <td>0.499797</td>\n",
       "      <td>57510.492818</td>\n",
       "      <td>0.402769</td>\n",
       "    </tr>\n",
       "    <tr>\n",
       "      <th>min</th>\n",
       "      <td>1.00000</td>\n",
       "      <td>1.556570e+07</td>\n",
       "      <td>350.000000</td>\n",
       "      <td>18.000000</td>\n",
       "      <td>0.000000</td>\n",
       "      <td>0.000000</td>\n",
       "      <td>1.000000</td>\n",
       "      <td>0.00000</td>\n",
       "      <td>0.000000</td>\n",
       "      <td>11.580000</td>\n",
       "      <td>0.000000</td>\n",
       "    </tr>\n",
       "    <tr>\n",
       "      <th>25%</th>\n",
       "      <td>2500.75000</td>\n",
       "      <td>1.562853e+07</td>\n",
       "      <td>584.000000</td>\n",
       "      <td>32.000000</td>\n",
       "      <td>2.000000</td>\n",
       "      <td>0.000000</td>\n",
       "      <td>1.000000</td>\n",
       "      <td>0.00000</td>\n",
       "      <td>0.000000</td>\n",
       "      <td>51002.110000</td>\n",
       "      <td>0.000000</td>\n",
       "    </tr>\n",
       "    <tr>\n",
       "      <th>50%</th>\n",
       "      <td>5000.50000</td>\n",
       "      <td>1.569074e+07</td>\n",
       "      <td>652.000000</td>\n",
       "      <td>37.000000</td>\n",
       "      <td>5.000000</td>\n",
       "      <td>97198.540000</td>\n",
       "      <td>1.000000</td>\n",
       "      <td>1.00000</td>\n",
       "      <td>1.000000</td>\n",
       "      <td>100193.915000</td>\n",
       "      <td>0.000000</td>\n",
       "    </tr>\n",
       "    <tr>\n",
       "      <th>75%</th>\n",
       "      <td>7500.25000</td>\n",
       "      <td>1.575323e+07</td>\n",
       "      <td>718.000000</td>\n",
       "      <td>44.000000</td>\n",
       "      <td>7.000000</td>\n",
       "      <td>127644.240000</td>\n",
       "      <td>2.000000</td>\n",
       "      <td>1.00000</td>\n",
       "      <td>1.000000</td>\n",
       "      <td>149388.247500</td>\n",
       "      <td>0.000000</td>\n",
       "    </tr>\n",
       "    <tr>\n",
       "      <th>max</th>\n",
       "      <td>10000.00000</td>\n",
       "      <td>1.581569e+07</td>\n",
       "      <td>850.000000</td>\n",
       "      <td>92.000000</td>\n",
       "      <td>10.000000</td>\n",
       "      <td>250898.090000</td>\n",
       "      <td>4.000000</td>\n",
       "      <td>1.00000</td>\n",
       "      <td>1.000000</td>\n",
       "      <td>199992.480000</td>\n",
       "      <td>1.000000</td>\n",
       "    </tr>\n",
       "  </tbody>\n",
       "</table>\n",
       "</div>"
      ],
      "text/plain": [
       "         RowNumber    CustomerId   CreditScore           Age       Tenure  \\\n",
       "count  10000.00000  1.000000e+04  10000.000000  10000.000000  9091.000000   \n",
       "mean    5000.50000  1.569094e+07    650.528800     38.921800     4.997690   \n",
       "std     2886.89568  7.193619e+04     96.653299     10.487806     2.894723   \n",
       "min        1.00000  1.556570e+07    350.000000     18.000000     0.000000   \n",
       "25%     2500.75000  1.562853e+07    584.000000     32.000000     2.000000   \n",
       "50%     5000.50000  1.569074e+07    652.000000     37.000000     5.000000   \n",
       "75%     7500.25000  1.575323e+07    718.000000     44.000000     7.000000   \n",
       "max    10000.00000  1.581569e+07    850.000000     92.000000    10.000000   \n",
       "\n",
       "             Balance  NumOfProducts    HasCrCard  IsActiveMember  \\\n",
       "count   10000.000000   10000.000000  10000.00000    10000.000000   \n",
       "mean    76485.889288       1.530200      0.70550        0.515100   \n",
       "std     62397.405202       0.581654      0.45584        0.499797   \n",
       "min         0.000000       1.000000      0.00000        0.000000   \n",
       "25%         0.000000       1.000000      0.00000        0.000000   \n",
       "50%     97198.540000       1.000000      1.00000        1.000000   \n",
       "75%    127644.240000       2.000000      1.00000        1.000000   \n",
       "max    250898.090000       4.000000      1.00000        1.000000   \n",
       "\n",
       "       EstimatedSalary        Exited  \n",
       "count     10000.000000  10000.000000  \n",
       "mean     100090.239881      0.203700  \n",
       "std       57510.492818      0.402769  \n",
       "min          11.580000      0.000000  \n",
       "25%       51002.110000      0.000000  \n",
       "50%      100193.915000      0.000000  \n",
       "75%      149388.247500      0.000000  \n",
       "max      199992.480000      1.000000  "
      ]
     },
     "metadata": {},
     "output_type": "display_data"
    }
   ],
   "source": [
    "display(df.describe())"
   ]
  },
  {
   "cell_type": "markdown",
   "metadata": {},
   "source": [
    "<div class=\"alert alert-block alert-success\">\n",
    "<b>Успех👍:</b> \n",
    "    \n",
    "Хорошо прогрузил данные и проверил их - мое почтение)\n",
    "</div>\n",
    "\n",
    "<div class=\"alert alert-block alert-info\">\n",
    "<b>Совет🤔: </b> \n",
    "    \n",
    "После такого просмотра данных я бы посоветовал тебе расписать что ты увидел в данных, что собираешься с ними делать итп\n",
    "</div>"
   ]
  },
  {
   "cell_type": "code",
   "execution_count": 6,
   "metadata": {},
   "outputs": [
    {
     "data": {
      "text/plain": [
       "0"
      ]
     },
     "execution_count": 6,
     "metadata": {},
     "output_type": "execute_result"
    }
   ],
   "source": [
    "#Проверим на явные дубликаты\n",
    "df.duplicated().sum()"
   ]
  },
  {
   "cell_type": "code",
   "execution_count": 7,
   "metadata": {},
   "outputs": [
    {
     "data": {
      "text/html": [
       "<div>\n",
       "<style scoped>\n",
       "    .dataframe tbody tr th:only-of-type {\n",
       "        vertical-align: middle;\n",
       "    }\n",
       "\n",
       "    .dataframe tbody tr th {\n",
       "        vertical-align: top;\n",
       "    }\n",
       "\n",
       "    .dataframe thead th {\n",
       "        text-align: right;\n",
       "    }\n",
       "</style>\n",
       "<table border=\"1\" class=\"dataframe\">\n",
       "  <thead>\n",
       "    <tr style=\"text-align: right;\">\n",
       "      <th></th>\n",
       "      <th>RowNumber</th>\n",
       "      <th>CustomerId</th>\n",
       "      <th>CreditScore</th>\n",
       "      <th>Age</th>\n",
       "      <th>Tenure</th>\n",
       "      <th>Balance</th>\n",
       "      <th>NumOfProducts</th>\n",
       "      <th>HasCrCard</th>\n",
       "      <th>IsActiveMember</th>\n",
       "      <th>EstimatedSalary</th>\n",
       "      <th>Exited</th>\n",
       "    </tr>\n",
       "  </thead>\n",
       "  <tbody>\n",
       "    <tr>\n",
       "      <th>RowNumber</th>\n",
       "      <td>1.000000</td>\n",
       "      <td>0.004202</td>\n",
       "      <td>0.005840</td>\n",
       "      <td>0.000783</td>\n",
       "      <td>-0.007322</td>\n",
       "      <td>-0.009067</td>\n",
       "      <td>0.007246</td>\n",
       "      <td>0.000599</td>\n",
       "      <td>0.012044</td>\n",
       "      <td>-0.005988</td>\n",
       "      <td>-0.016571</td>\n",
       "    </tr>\n",
       "    <tr>\n",
       "      <th>CustomerId</th>\n",
       "      <td>0.004202</td>\n",
       "      <td>1.000000</td>\n",
       "      <td>0.005308</td>\n",
       "      <td>0.009497</td>\n",
       "      <td>-0.021418</td>\n",
       "      <td>-0.012419</td>\n",
       "      <td>0.016972</td>\n",
       "      <td>-0.014025</td>\n",
       "      <td>0.001665</td>\n",
       "      <td>0.015271</td>\n",
       "      <td>-0.006248</td>\n",
       "    </tr>\n",
       "    <tr>\n",
       "      <th>CreditScore</th>\n",
       "      <td>0.005840</td>\n",
       "      <td>0.005308</td>\n",
       "      <td>1.000000</td>\n",
       "      <td>-0.003965</td>\n",
       "      <td>-0.000062</td>\n",
       "      <td>0.006268</td>\n",
       "      <td>0.012238</td>\n",
       "      <td>-0.005458</td>\n",
       "      <td>0.025651</td>\n",
       "      <td>-0.001384</td>\n",
       "      <td>-0.027094</td>\n",
       "    </tr>\n",
       "    <tr>\n",
       "      <th>Age</th>\n",
       "      <td>0.000783</td>\n",
       "      <td>0.009497</td>\n",
       "      <td>-0.003965</td>\n",
       "      <td>1.000000</td>\n",
       "      <td>-0.013134</td>\n",
       "      <td>0.028308</td>\n",
       "      <td>-0.030680</td>\n",
       "      <td>-0.011721</td>\n",
       "      <td>0.085472</td>\n",
       "      <td>-0.007201</td>\n",
       "      <td>0.285323</td>\n",
       "    </tr>\n",
       "    <tr>\n",
       "      <th>Tenure</th>\n",
       "      <td>-0.007322</td>\n",
       "      <td>-0.021418</td>\n",
       "      <td>-0.000062</td>\n",
       "      <td>-0.013134</td>\n",
       "      <td>1.000000</td>\n",
       "      <td>-0.007911</td>\n",
       "      <td>0.011979</td>\n",
       "      <td>0.027232</td>\n",
       "      <td>-0.032178</td>\n",
       "      <td>0.010520</td>\n",
       "      <td>-0.016761</td>\n",
       "    </tr>\n",
       "    <tr>\n",
       "      <th>Balance</th>\n",
       "      <td>-0.009067</td>\n",
       "      <td>-0.012419</td>\n",
       "      <td>0.006268</td>\n",
       "      <td>0.028308</td>\n",
       "      <td>-0.007911</td>\n",
       "      <td>1.000000</td>\n",
       "      <td>-0.304180</td>\n",
       "      <td>-0.014858</td>\n",
       "      <td>-0.010084</td>\n",
       "      <td>0.012797</td>\n",
       "      <td>0.118533</td>\n",
       "    </tr>\n",
       "    <tr>\n",
       "      <th>NumOfProducts</th>\n",
       "      <td>0.007246</td>\n",
       "      <td>0.016972</td>\n",
       "      <td>0.012238</td>\n",
       "      <td>-0.030680</td>\n",
       "      <td>0.011979</td>\n",
       "      <td>-0.304180</td>\n",
       "      <td>1.000000</td>\n",
       "      <td>0.003183</td>\n",
       "      <td>0.009612</td>\n",
       "      <td>0.014204</td>\n",
       "      <td>-0.047820</td>\n",
       "    </tr>\n",
       "    <tr>\n",
       "      <th>HasCrCard</th>\n",
       "      <td>0.000599</td>\n",
       "      <td>-0.014025</td>\n",
       "      <td>-0.005458</td>\n",
       "      <td>-0.011721</td>\n",
       "      <td>0.027232</td>\n",
       "      <td>-0.014858</td>\n",
       "      <td>0.003183</td>\n",
       "      <td>1.000000</td>\n",
       "      <td>-0.011866</td>\n",
       "      <td>-0.009933</td>\n",
       "      <td>-0.007138</td>\n",
       "    </tr>\n",
       "    <tr>\n",
       "      <th>IsActiveMember</th>\n",
       "      <td>0.012044</td>\n",
       "      <td>0.001665</td>\n",
       "      <td>0.025651</td>\n",
       "      <td>0.085472</td>\n",
       "      <td>-0.032178</td>\n",
       "      <td>-0.010084</td>\n",
       "      <td>0.009612</td>\n",
       "      <td>-0.011866</td>\n",
       "      <td>1.000000</td>\n",
       "      <td>-0.011421</td>\n",
       "      <td>-0.156128</td>\n",
       "    </tr>\n",
       "    <tr>\n",
       "      <th>EstimatedSalary</th>\n",
       "      <td>-0.005988</td>\n",
       "      <td>0.015271</td>\n",
       "      <td>-0.001384</td>\n",
       "      <td>-0.007201</td>\n",
       "      <td>0.010520</td>\n",
       "      <td>0.012797</td>\n",
       "      <td>0.014204</td>\n",
       "      <td>-0.009933</td>\n",
       "      <td>-0.011421</td>\n",
       "      <td>1.000000</td>\n",
       "      <td>0.012097</td>\n",
       "    </tr>\n",
       "    <tr>\n",
       "      <th>Exited</th>\n",
       "      <td>-0.016571</td>\n",
       "      <td>-0.006248</td>\n",
       "      <td>-0.027094</td>\n",
       "      <td>0.285323</td>\n",
       "      <td>-0.016761</td>\n",
       "      <td>0.118533</td>\n",
       "      <td>-0.047820</td>\n",
       "      <td>-0.007138</td>\n",
       "      <td>-0.156128</td>\n",
       "      <td>0.012097</td>\n",
       "      <td>1.000000</td>\n",
       "    </tr>\n",
       "  </tbody>\n",
       "</table>\n",
       "</div>"
      ],
      "text/plain": [
       "                 RowNumber  CustomerId  CreditScore       Age    Tenure  \\\n",
       "RowNumber         1.000000    0.004202     0.005840  0.000783 -0.007322   \n",
       "CustomerId        0.004202    1.000000     0.005308  0.009497 -0.021418   \n",
       "CreditScore       0.005840    0.005308     1.000000 -0.003965 -0.000062   \n",
       "Age               0.000783    0.009497    -0.003965  1.000000 -0.013134   \n",
       "Tenure           -0.007322   -0.021418    -0.000062 -0.013134  1.000000   \n",
       "Balance          -0.009067   -0.012419     0.006268  0.028308 -0.007911   \n",
       "NumOfProducts     0.007246    0.016972     0.012238 -0.030680  0.011979   \n",
       "HasCrCard         0.000599   -0.014025    -0.005458 -0.011721  0.027232   \n",
       "IsActiveMember    0.012044    0.001665     0.025651  0.085472 -0.032178   \n",
       "EstimatedSalary  -0.005988    0.015271    -0.001384 -0.007201  0.010520   \n",
       "Exited           -0.016571   -0.006248    -0.027094  0.285323 -0.016761   \n",
       "\n",
       "                  Balance  NumOfProducts  HasCrCard  IsActiveMember  \\\n",
       "RowNumber       -0.009067       0.007246   0.000599        0.012044   \n",
       "CustomerId      -0.012419       0.016972  -0.014025        0.001665   \n",
       "CreditScore      0.006268       0.012238  -0.005458        0.025651   \n",
       "Age              0.028308      -0.030680  -0.011721        0.085472   \n",
       "Tenure          -0.007911       0.011979   0.027232       -0.032178   \n",
       "Balance          1.000000      -0.304180  -0.014858       -0.010084   \n",
       "NumOfProducts   -0.304180       1.000000   0.003183        0.009612   \n",
       "HasCrCard       -0.014858       0.003183   1.000000       -0.011866   \n",
       "IsActiveMember  -0.010084       0.009612  -0.011866        1.000000   \n",
       "EstimatedSalary  0.012797       0.014204  -0.009933       -0.011421   \n",
       "Exited           0.118533      -0.047820  -0.007138       -0.156128   \n",
       "\n",
       "                 EstimatedSalary    Exited  \n",
       "RowNumber              -0.005988 -0.016571  \n",
       "CustomerId              0.015271 -0.006248  \n",
       "CreditScore            -0.001384 -0.027094  \n",
       "Age                    -0.007201  0.285323  \n",
       "Tenure                  0.010520 -0.016761  \n",
       "Balance                 0.012797  0.118533  \n",
       "NumOfProducts           0.014204 -0.047820  \n",
       "HasCrCard              -0.009933 -0.007138  \n",
       "IsActiveMember         -0.011421 -0.156128  \n",
       "EstimatedSalary         1.000000  0.012097  \n",
       "Exited                  0.012097  1.000000  "
      ]
     },
     "execution_count": 7,
     "metadata": {},
     "output_type": "execute_result"
    }
   ],
   "source": [
    "#Проверим корреляцию\n",
    "df.corr()"
   ]
  },
  {
   "cell_type": "code",
   "execution_count": 8,
   "metadata": {},
   "outputs": [
    {
     "data": {
      "image/png": "[encoded data removed]",
      "text/plain": [
       "<Figure size 720x576 with 2 Axes>"
      ]
     },
     "metadata": {
      "needs_background": "light"
     },
     "output_type": "display_data"
    }
   ],
   "source": [
    "# Размер графика\n",
    "plt.figure(figsize=(10, 8))\n",
    "\n",
    "# Матрица корреляции с использованием heatmap \n",
    "sns.heatmap(df.corr(), annot=True, cmap='coolwarm', vmin=-1, vmax=1, square=True, linewidths=0.5)\n",
    "\n",
    "# Подписи осей\n",
    "plt.xticks(rotation=45, fontsize=12)\n",
    "plt.yticks(rotation=45, fontsize=12)\n",
    "\n",
    "# Заголовок\n",
    "plt.title('Тепловая карта корреляции', fontsize=14)\n",
    "\n",
    "# Отображение графика\n",
    "plt.show()"
   ]
  },
  {
   "cell_type": "markdown",
   "metadata": {},
   "source": [
    "<div class=\"alert alert-block alert-info\">\n",
    "<b>Совет🤔: </b> \n",
    "    \n",
    "Тут смотри какой нюанс нельзя использовать корреляцию Пирсона/Спирмана для качественных признаков, а в нашем датасете есть такие признаки. Поэтому я могу предложить тебе использовать phik_matrix (https://towardsdatascience.com/phik-k-get-familiar-with-the-latest-correlation-coefficient-9ba0032b37e7)\n",
    "</div>"
   ]
  },
  {
   "cell_type": "markdown",
   "metadata": {},
   "source": [
    "<font color = 'green'> Каких то явно коррелирующих признаков нет </font>"
   ]
  },
  {
   "cell_type": "code",
   "execution_count": 9,
   "metadata": {},
   "outputs": [
    {
     "data": {
      "text/plain": [
       "France     5014\n",
       "Germany    2509\n",
       "Spain      2477\n",
       "Name: Geography, dtype: int64"
      ]
     },
     "execution_count": 9,
     "metadata": {},
     "output_type": "execute_result"
    }
   ],
   "source": [
    "#Колонка география и количество значений\n",
    "df['Geography'].value_counts()\n"
   ]
  },
  {
   "cell_type": "code",
   "execution_count": 10,
   "metadata": {},
   "outputs": [
    {
     "data": {
      "text/plain": [
       "Male      5457\n",
       "Female    4543\n",
       "Name: Gender, dtype: int64"
      ]
     },
     "execution_count": 10,
     "metadata": {},
     "output_type": "execute_result"
    }
   ],
   "source": [
    "#Соотношение мужчин и женщин\n",
    "df['Gender'].value_counts()\n"
   ]
  },
  {
   "cell_type": "code",
   "execution_count": 11,
   "metadata": {},
   "outputs": [],
   "source": [
    "#Удалим лишние столбцы\n",
    "df.drop(['RowNumber','CustomerId','Surname'], axis=1, inplace=True)"
   ]
  },
  {
   "cell_type": "markdown",
   "metadata": {},
   "source": [
    "<div class=\"alert alert-block alert-success\">\n",
    "<b>Успех👍:</b> \n",
    "    \n",
    "Удаление осуществил верно, молодец!\n",
    "</div>\n",
    "\n",
    "<div class=\"alert alert-block alert-info\">\n",
    "<b>Совет🤔: </b> \n",
    "    \n",
    "Однако хотелось бы узнать - почему ты решил, что они не нужны для обучения модели? Банку точно было бы интересно узнать об этом\n",
    "</div>"
   ]
  },
  {
   "cell_type": "code",
   "execution_count": 12,
   "metadata": {},
   "outputs": [
    {
     "data": {
      "text/plain": [
       "909"
      ]
     },
     "execution_count": 12,
     "metadata": {},
     "output_type": "execute_result"
    }
   ],
   "source": [
    "#Столбец с пропусками\n",
    "df['Tenure'].isnull().sum()"
   ]
  },
  {
   "cell_type": "code",
   "execution_count": 13,
   "metadata": {},
   "outputs": [
    {
     "data": {
      "text/plain": [
       "0"
      ]
     },
     "execution_count": 13,
     "metadata": {},
     "output_type": "execute_result"
    }
   ],
   "source": [
    "#Заполним пустые значения средним значением в столбце\n",
    "df['Tenure'] = df['Tenure'].fillna(df['Tenure'].median())\n",
    "\n",
    "#Проверим результат\n",
    "df['Tenure'].isnull().sum()"
   ]
  },
  {
   "cell_type": "markdown",
   "metadata": {},
   "source": [
    "<div class=\"alert alert-block alert-success\">\n",
    "Заменил на медиану\n",
    "</div>"
   ]
  },
  {
   "cell_type": "markdown",
   "metadata": {},
   "source": [
    "\n",
    "<div class=\"alert alert-block alert-danger\">\n",
    "<b>Ошибка❌:</b> \n",
    "    \n",
    "Заполнение пропусков средним сильно исказить наше распределение (среднее равно не целому числу, а у нас в признаке все целые числа), поэтому рекомендую заполнить пропуски медианой, а также можно удалить пропуски - их у нас менее 10%, поэтому подойдет\n",
    "</div>"
   ]
  },
  {
   "cell_type": "markdown",
   "metadata": {},
   "source": [
    "<div class=\"alert alert-block alert-success\">\n",
    "<b>Успех👍 В2:</b> \n",
    "    \n",
    "Класс, молодец)\n",
    "</div>"
   ]
  },
  {
   "cell_type": "code",
   "execution_count": 14,
   "metadata": {},
   "outputs": [],
   "source": [
    "# #Кодирование с помощью OHE\n",
    "# df = pd.get_dummies(df, drop_first=True)\n",
    "\n",
    "# #Стандартизируем признаки с помощью StandardScaler\n",
    "# scaler = StandardScaler()\n",
    "# numeric = ['CreditScore', 'Age', 'Balance', 'EstimatedSalary']\n",
    "# scaler.fit(df[numeric])\n",
    "# df[numeric] = scaler.transform(df[numeric])\n"
   ]
  },
  {
   "cell_type": "markdown",
   "metadata": {},
   "source": [
    "<div class=\"alert alert-block alert-info\">\n",
    "<b>Совет🤔: </b> \n",
    "    \n",
    "Смотри, ты используешь get_dummies, но ведь есть в sklearn гораздно более эффективный метод, который работает по такому же алгоритму - OHE (https://albertum.medium.com/preprocessing-onehotencoder-vs-pandas-get-dummies-3de1f3d77dcc). Если смотреть на работу внутри библиотеки sklearn, то get_dummies подходит для анализа данных, а для машинного обучения более предпочтителен OHE, т.к. он позоволяет избежать ряда ошибок при обучении моделей\n",
    "    \n",
    "Также по поводу преобразования всего датасета, а не по частям - кодирование всего датасета некорректно, т.к. мы не знаем какие категории попадут в готовую модель и не будет ли там категорий, которых не было в трейне (именно в нашем проекте такого момента нет, но мы, как будущие профи, должны рассматривать все возможные случаи). Также хотел бы сразу предупредить тебя в том, что преобразуем после деления на выборки только тогда, когда используем OneHotEncoding. Применяя get_dummies, ты должен использовать данный метод сразу ко всему датасету. В будущих проектах будет приниматься только OHE и только после разделения на выборки, поэтому запомни этот совет)\n",
    "    \n",
    "Да, я знаю, что в теории курса вам преподают именно get_dummies, но я просто хочу отметить, что есть другой метод, который работает намного лучше и его в основном используют на практике - можешь пока ознакомиться, потом проверишь)\n",
    "</div>\n",
    "\n",
    "<div class=\"alert alert-block alert-danger\">\n",
    "<b>Ошибка❌:</b> \n",
    "    \n",
    "Добавил ты и реализовал по алгоритму верно, но смотри в чем трудность заключается - как работает метод стандартизации признаков - scaler обучается на том наборе данных, который ты ему скидываешь. Обучение происходит так - метод смотрит на данные по признакам, берет среднее и стандартное отклонение, высчитывает по формуле `z = (x - u) / s` и реализует преобразование по формуле. То есть, все зависит именно от среднего и стандартного отклонения выборки. Но ты закидываешь туда весь датасет, и метод берет среднее и стандартное отклонение всего датасета, и при преобразовании в данных содержится информация будущих valid и test значений (которые мы получим после деления на выборки). Из-за этого у нас может появиться утечка данных, что в будущем может сыграть плохую роль. Поэтому рекомендую тебе сделать масштабирование данных после деления на выборки, где ты как раз сможешь реализовать обучение на train и transform на train/valid/test данных\n",
    "</div>"
   ]
  },
  {
   "cell_type": "markdown",
   "metadata": {},
   "source": [
    "<div class=\"alert alert-block alert-success\">\n",
    "Ниже делю на выборки и потом кодирую в выборках при помощи OHE категориальные признаки и далее провожу масштабирование признаков на выборках\n",
    "</div>"
   ]
  },
  {
   "cell_type": "code",
   "execution_count": 15,
   "metadata": {},
   "outputs": [
    {
     "data": {
      "text/html": [
       "<div>\n",
       "<style scoped>\n",
       "    .dataframe tbody tr th:only-of-type {\n",
       "        vertical-align: middle;\n",
       "    }\n",
       "\n",
       "    .dataframe tbody tr th {\n",
       "        vertical-align: top;\n",
       "    }\n",
       "\n",
       "    .dataframe thead th {\n",
       "        text-align: right;\n",
       "    }\n",
       "</style>\n",
       "<table border=\"1\" class=\"dataframe\">\n",
       "  <thead>\n",
       "    <tr style=\"text-align: right;\">\n",
       "      <th></th>\n",
       "      <th>CreditScore</th>\n",
       "      <th>Geography</th>\n",
       "      <th>Gender</th>\n",
       "      <th>Age</th>\n",
       "      <th>Tenure</th>\n",
       "      <th>Balance</th>\n",
       "      <th>NumOfProducts</th>\n",
       "      <th>HasCrCard</th>\n",
       "      <th>IsActiveMember</th>\n",
       "      <th>EstimatedSalary</th>\n",
       "      <th>Exited</th>\n",
       "    </tr>\n",
       "  </thead>\n",
       "  <tbody>\n",
       "    <tr>\n",
       "      <th>0</th>\n",
       "      <td>619</td>\n",
       "      <td>France</td>\n",
       "      <td>Female</td>\n",
       "      <td>42</td>\n",
       "      <td>2.0</td>\n",
       "      <td>0.00</td>\n",
       "      <td>1</td>\n",
       "      <td>1</td>\n",
       "      <td>1</td>\n",
       "      <td>101348.88</td>\n",
       "      <td>1</td>\n",
       "    </tr>\n",
       "    <tr>\n",
       "      <th>1</th>\n",
       "      <td>608</td>\n",
       "      <td>Spain</td>\n",
       "      <td>Female</td>\n",
       "      <td>41</td>\n",
       "      <td>1.0</td>\n",
       "      <td>83807.86</td>\n",
       "      <td>1</td>\n",
       "      <td>0</td>\n",
       "      <td>1</td>\n",
       "      <td>112542.58</td>\n",
       "      <td>0</td>\n",
       "    </tr>\n",
       "    <tr>\n",
       "      <th>2</th>\n",
       "      <td>502</td>\n",
       "      <td>France</td>\n",
       "      <td>Female</td>\n",
       "      <td>42</td>\n",
       "      <td>8.0</td>\n",
       "      <td>159660.80</td>\n",
       "      <td>3</td>\n",
       "      <td>1</td>\n",
       "      <td>0</td>\n",
       "      <td>113931.57</td>\n",
       "      <td>1</td>\n",
       "    </tr>\n",
       "    <tr>\n",
       "      <th>3</th>\n",
       "      <td>699</td>\n",
       "      <td>France</td>\n",
       "      <td>Female</td>\n",
       "      <td>39</td>\n",
       "      <td>1.0</td>\n",
       "      <td>0.00</td>\n",
       "      <td>2</td>\n",
       "      <td>0</td>\n",
       "      <td>0</td>\n",
       "      <td>93826.63</td>\n",
       "      <td>0</td>\n",
       "    </tr>\n",
       "    <tr>\n",
       "      <th>4</th>\n",
       "      <td>850</td>\n",
       "      <td>Spain</td>\n",
       "      <td>Female</td>\n",
       "      <td>43</td>\n",
       "      <td>2.0</td>\n",
       "      <td>125510.82</td>\n",
       "      <td>1</td>\n",
       "      <td>1</td>\n",
       "      <td>1</td>\n",
       "      <td>79084.10</td>\n",
       "      <td>0</td>\n",
       "    </tr>\n",
       "  </tbody>\n",
       "</table>\n",
       "</div>"
      ],
      "text/plain": [
       "   CreditScore Geography  Gender  Age  Tenure    Balance  NumOfProducts  \\\n",
       "0          619    France  Female   42     2.0       0.00              1   \n",
       "1          608     Spain  Female   41     1.0   83807.86              1   \n",
       "2          502    France  Female   42     8.0  159660.80              3   \n",
       "3          699    France  Female   39     1.0       0.00              2   \n",
       "4          850     Spain  Female   43     2.0  125510.82              1   \n",
       "\n",
       "   HasCrCard  IsActiveMember  EstimatedSalary  Exited  \n",
       "0          1               1        101348.88       1  \n",
       "1          0               1        112542.58       0  \n",
       "2          1               0        113931.57       1  \n",
       "3          0               0         93826.63       0  \n",
       "4          1               1         79084.10       0  "
      ]
     },
     "execution_count": 15,
     "metadata": {},
     "output_type": "execute_result"
    }
   ],
   "source": [
    "df.head()"
   ]
  },
  {
   "cell_type": "code",
   "execution_count": 16,
   "metadata": {},
   "outputs": [],
   "source": [
    "# Старый способ деления\n",
    "# #Определим цель и признаки и разделим данные функцией train_test_split на выборки: train; valid; test\n",
    "# features = df.drop(['Exited'], axis=1)\n",
    "# target = df['Exited'] \n",
    "\n",
    "# features_train, features_valid, target_train, target_valid = train_test_split(features, target, train_size=0.6, test_size=0.4, random_state=12345)\n",
    "# features_test, features_valid, target_test, target_valid = train_test_split(features_valid, target_valid, test_size=0.5, random_state=12345)\n",
    "\n",
    "# print('Train features df shape:', features_train.shape[0])\n",
    "# print('Valid features df shape:', features_valid.shape[0])\n",
    "# print('Test features df shape:', features_test.shape[0])\n"
   ]
  },
  {
   "cell_type": "code",
   "execution_count": 17,
   "metadata": {},
   "outputs": [
    {
     "name": "stdout",
     "output_type": "stream",
     "text": [
      "Train features df shape: 6000\n",
      "Valid features df shape: 2000\n",
      "Test features df shape: 2000\n"
     ]
    }
   ],
   "source": [
    "# Новый способ деления на тренировочную, валидационную и тестовую выборки (60/20/20)\n",
    "features = df.drop(['Exited'], axis=1)\n",
    "target = df['Exited'] \n",
    "\n",
    "train_df, temp_df, train_target, temp_target = train_test_split(features, target, test_size=0.4, random_state=12345)\n",
    "val_df, test_df, val_target, test_target = train_test_split(temp_df, temp_target, test_size=0.5, random_state=12345)\n",
    "\n",
    "print('Train features df shape:', train_df.shape[0])\n",
    "print('Valid features df shape:', val_df.shape[0])\n",
    "print('Test features df shape:', test_df.shape[0])\n"
   ]
  },
  {
   "cell_type": "code",
   "execution_count": 18,
   "metadata": {},
   "outputs": [],
   "source": [
    "# Кодируем категориальные данные при помощи OneHotEncoder\n",
    "numeric_cols = ['CreditScore','Age','Tenure','Balance','NumOfProducts','HasCrCard','IsActiveMember','EstimatedSalary']\n",
    "category_cols = ['Geography', 'Gender']\n",
    "\n",
    "# Создайте экземпляр OneHotEncoder и установите параметр sparse=False\n",
    "encoder = OneHotEncoder(sparse=False, drop='first')\n",
    "\n",
    "# Выполните преобразование категориальных данных для тренировочной выборки\n",
    "train_one_hot_encoded = encoder.fit_transform(train_df[category_cols])\n",
    "\n",
    "# Создайте новый DataFrame с преобразованными данными тренировочной выборки\n",
    "train_encoded_df = pd.DataFrame(train_one_hot_encoded, columns=encoder.get_feature_names(category_cols))\n",
    "train_final_df = pd.concat([train_df[numeric_cols].reset_index(drop=True), train_encoded_df], axis=1)\n",
    "\n",
    "# Выполните преобразование категориальных данных для валидационной выборки с использованием уже обученного encoder\n",
    "val_one_hot_encoded = encoder.transform(val_df[category_cols])\n",
    "\n",
    "# Создайте новый DataFrame с преобразованными данными валидационной выборки\n",
    "val_encoded_df = pd.DataFrame(val_one_hot_encoded, columns=encoder.get_feature_names(category_cols))\n",
    "val_final_df = pd.concat([val_df[numeric_cols].reset_index(drop=True), val_encoded_df], axis=1)\n",
    "\n",
    "# Выполните преобразование категориальных данных для тестовой выборки с использованием уже обученного encoder\n",
    "test_one_hot_encoded = encoder.transform(test_df[category_cols])\n",
    "\n",
    "# Создайте новый DataFrame с преобразованными данными тестовой выборки\n",
    "test_encoded_df = pd.DataFrame(test_one_hot_encoded, columns=encoder.get_feature_names(category_cols))\n",
    "test_final_df = pd.concat([test_df[numeric_cols].reset_index(drop=True), test_encoded_df], axis=1)\n"
   ]
  },
  {
   "cell_type": "code",
   "execution_count": 19,
   "metadata": {},
   "outputs": [],
   "source": [
    "#Переообъявим переменные еще раз, чтобы дальнейший код продолжал выполняться\n",
    "features_train = train_final_df\n",
    "target_train = train_target.reset_index(drop=True)\n",
    "features_valid = val_final_df\n",
    "target_valid = val_target.reset_index(drop=True)\n",
    "features_test = test_final_df\n",
    "target_test = test_target.reset_index(drop=True)"
   ]
  },
  {
   "cell_type": "code",
   "execution_count": 20,
   "metadata": {},
   "outputs": [
    {
     "data": {
      "text/html": [
       "<div>\n",
       "<style scoped>\n",
       "    .dataframe tbody tr th:only-of-type {\n",
       "        vertical-align: middle;\n",
       "    }\n",
       "\n",
       "    .dataframe tbody tr th {\n",
       "        vertical-align: top;\n",
       "    }\n",
       "\n",
       "    .dataframe thead th {\n",
       "        text-align: right;\n",
       "    }\n",
       "</style>\n",
       "<table border=\"1\" class=\"dataframe\">\n",
       "  <thead>\n",
       "    <tr style=\"text-align: right;\">\n",
       "      <th></th>\n",
       "      <th>CreditScore</th>\n",
       "      <th>Age</th>\n",
       "      <th>Tenure</th>\n",
       "      <th>Balance</th>\n",
       "      <th>NumOfProducts</th>\n",
       "      <th>HasCrCard</th>\n",
       "      <th>IsActiveMember</th>\n",
       "      <th>EstimatedSalary</th>\n",
       "      <th>Geography_Germany</th>\n",
       "      <th>Geography_Spain</th>\n",
       "      <th>Gender_Male</th>\n",
       "    </tr>\n",
       "  </thead>\n",
       "  <tbody>\n",
       "    <tr>\n",
       "      <th>0</th>\n",
       "      <td>567</td>\n",
       "      <td>35</td>\n",
       "      <td>8.0</td>\n",
       "      <td>153137.74</td>\n",
       "      <td>1</td>\n",
       "      <td>1</td>\n",
       "      <td>0</td>\n",
       "      <td>88659.07</td>\n",
       "      <td>0.0</td>\n",
       "      <td>1.0</td>\n",
       "      <td>1.0</td>\n",
       "    </tr>\n",
       "    <tr>\n",
       "      <th>1</th>\n",
       "      <td>711</td>\n",
       "      <td>37</td>\n",
       "      <td>8.0</td>\n",
       "      <td>113899.92</td>\n",
       "      <td>1</td>\n",
       "      <td>0</td>\n",
       "      <td>0</td>\n",
       "      <td>80215.20</td>\n",
       "      <td>0.0</td>\n",
       "      <td>0.0</td>\n",
       "      <td>0.0</td>\n",
       "    </tr>\n",
       "    <tr>\n",
       "      <th>2</th>\n",
       "      <td>850</td>\n",
       "      <td>44</td>\n",
       "      <td>3.0</td>\n",
       "      <td>140393.65</td>\n",
       "      <td>2</td>\n",
       "      <td>0</td>\n",
       "      <td>1</td>\n",
       "      <td>186285.52</td>\n",
       "      <td>1.0</td>\n",
       "      <td>0.0</td>\n",
       "      <td>1.0</td>\n",
       "    </tr>\n",
       "    <tr>\n",
       "      <th>3</th>\n",
       "      <td>512</td>\n",
       "      <td>24</td>\n",
       "      <td>6.0</td>\n",
       "      <td>0.00</td>\n",
       "      <td>2</td>\n",
       "      <td>1</td>\n",
       "      <td>0</td>\n",
       "      <td>37654.31</td>\n",
       "      <td>0.0</td>\n",
       "      <td>0.0</td>\n",
       "      <td>1.0</td>\n",
       "    </tr>\n",
       "    <tr>\n",
       "      <th>4</th>\n",
       "      <td>665</td>\n",
       "      <td>27</td>\n",
       "      <td>2.0</td>\n",
       "      <td>147435.96</td>\n",
       "      <td>1</td>\n",
       "      <td>0</td>\n",
       "      <td>0</td>\n",
       "      <td>187508.06</td>\n",
       "      <td>1.0</td>\n",
       "      <td>0.0</td>\n",
       "      <td>0.0</td>\n",
       "    </tr>\n",
       "  </tbody>\n",
       "</table>\n",
       "</div>"
      ],
      "text/plain": [
       "   CreditScore  Age  Tenure    Balance  NumOfProducts  HasCrCard  \\\n",
       "0          567   35     8.0  153137.74              1          1   \n",
       "1          711   37     8.0  113899.92              1          0   \n",
       "2          850   44     3.0  140393.65              2          0   \n",
       "3          512   24     6.0       0.00              2          1   \n",
       "4          665   27     2.0  147435.96              1          0   \n",
       "\n",
       "   IsActiveMember  EstimatedSalary  Geography_Germany  Geography_Spain  \\\n",
       "0               0         88659.07                0.0              1.0   \n",
       "1               0         80215.20                0.0              0.0   \n",
       "2               1        186285.52                1.0              0.0   \n",
       "3               0         37654.31                0.0              0.0   \n",
       "4               0        187508.06                1.0              0.0   \n",
       "\n",
       "   Gender_Male  \n",
       "0          1.0  \n",
       "1          0.0  \n",
       "2          1.0  \n",
       "3          1.0  \n",
       "4          0.0  "
      ]
     },
     "execution_count": 20,
     "metadata": {},
     "output_type": "execute_result"
    }
   ],
   "source": [
    "features_train.head()"
   ]
  },
  {
   "cell_type": "code",
   "execution_count": 20,
   "metadata": {},
   "outputs": [],
   "source": [
    "# Стандартизируем признаки с помощью StandardScaler\n",
    "def scaling_df(df):\n",
    "    scaler = StandardScaler()\n",
    "    numeric = ['CreditScore', 'Age', 'Balance', 'EstimatedSalary']\n",
    "    scaler.fit(df[numeric])\n",
    "    df[numeric] = scaler.transform(df[numeric])\n",
    "    return df\n"
   ]
  },
  {
   "cell_type": "code",
   "execution_count": 21,
   "metadata": {},
   "outputs": [],
   "source": [
    "features_train = scaling_df(features_train)\n",
    "features_valid = scaling_df(features_valid)\n",
    "features_test = scaling_df(features_test)"
   ]
  },
  {
   "cell_type": "code",
   "execution_count": 22,
   "metadata": {},
   "outputs": [
    {
     "data": {
      "text/html": [
       "<div>\n",
       "<style scoped>\n",
       "    .dataframe tbody tr th:only-of-type {\n",
       "        vertical-align: middle;\n",
       "    }\n",
       "\n",
       "    .dataframe tbody tr th {\n",
       "        vertical-align: top;\n",
       "    }\n",
       "\n",
       "    .dataframe thead th {\n",
       "        text-align: right;\n",
       "    }\n",
       "</style>\n",
       "<table border=\"1\" class=\"dataframe\">\n",
       "  <thead>\n",
       "    <tr style=\"text-align: right;\">\n",
       "      <th></th>\n",
       "      <th>CreditScore</th>\n",
       "      <th>Age</th>\n",
       "      <th>Tenure</th>\n",
       "      <th>Balance</th>\n",
       "      <th>NumOfProducts</th>\n",
       "      <th>HasCrCard</th>\n",
       "      <th>IsActiveMember</th>\n",
       "      <th>EstimatedSalary</th>\n",
       "      <th>Geography_France</th>\n",
       "      <th>Geography_Germany</th>\n",
       "      <th>Geography_Spain</th>\n",
       "      <th>Gender_Female</th>\n",
       "      <th>Gender_Male</th>\n",
       "    </tr>\n",
       "  </thead>\n",
       "  <tbody>\n",
       "    <tr>\n",
       "      <th>0</th>\n",
       "      <td>-0.886751</td>\n",
       "      <td>-0.373192</td>\n",
       "      <td>8.0</td>\n",
       "      <td>1.232271</td>\n",
       "      <td>1</td>\n",
       "      <td>1</td>\n",
       "      <td>0</td>\n",
       "      <td>-0.187705</td>\n",
       "      <td>0.0</td>\n",
       "      <td>0.0</td>\n",
       "      <td>1.0</td>\n",
       "      <td>0.0</td>\n",
       "      <td>1.0</td>\n",
       "    </tr>\n",
       "    <tr>\n",
       "      <th>1</th>\n",
       "      <td>0.608663</td>\n",
       "      <td>-0.183385</td>\n",
       "      <td>8.0</td>\n",
       "      <td>0.600563</td>\n",
       "      <td>1</td>\n",
       "      <td>0</td>\n",
       "      <td>0</td>\n",
       "      <td>-0.333945</td>\n",
       "      <td>1.0</td>\n",
       "      <td>0.0</td>\n",
       "      <td>0.0</td>\n",
       "      <td>1.0</td>\n",
       "      <td>0.0</td>\n",
       "    </tr>\n",
       "    <tr>\n",
       "      <th>2</th>\n",
       "      <td>2.052152</td>\n",
       "      <td>0.480939</td>\n",
       "      <td>3.0</td>\n",
       "      <td>1.027098</td>\n",
       "      <td>2</td>\n",
       "      <td>0</td>\n",
       "      <td>1</td>\n",
       "      <td>1.503095</td>\n",
       "      <td>0.0</td>\n",
       "      <td>1.0</td>\n",
       "      <td>0.0</td>\n",
       "      <td>0.0</td>\n",
       "      <td>1.0</td>\n",
       "    </tr>\n",
       "    <tr>\n",
       "      <th>3</th>\n",
       "      <td>-1.457915</td>\n",
       "      <td>-1.417129</td>\n",
       "      <td>6.0</td>\n",
       "      <td>-1.233163</td>\n",
       "      <td>2</td>\n",
       "      <td>1</td>\n",
       "      <td>0</td>\n",
       "      <td>-1.071061</td>\n",
       "      <td>1.0</td>\n",
       "      <td>0.0</td>\n",
       "      <td>0.0</td>\n",
       "      <td>0.0</td>\n",
       "      <td>1.0</td>\n",
       "    </tr>\n",
       "    <tr>\n",
       "      <th>4</th>\n",
       "      <td>0.130961</td>\n",
       "      <td>-1.132419</td>\n",
       "      <td>2.0</td>\n",
       "      <td>1.140475</td>\n",
       "      <td>1</td>\n",
       "      <td>0</td>\n",
       "      <td>0</td>\n",
       "      <td>1.524268</td>\n",
       "      <td>0.0</td>\n",
       "      <td>1.0</td>\n",
       "      <td>0.0</td>\n",
       "      <td>1.0</td>\n",
       "      <td>0.0</td>\n",
       "    </tr>\n",
       "    <tr>\n",
       "      <th>...</th>\n",
       "      <td>...</td>\n",
       "      <td>...</td>\n",
       "      <td>...</td>\n",
       "      <td>...</td>\n",
       "      <td>...</td>\n",
       "      <td>...</td>\n",
       "      <td>...</td>\n",
       "      <td>...</td>\n",
       "      <td>...</td>\n",
       "      <td>...</td>\n",
       "      <td>...</td>\n",
       "      <td>...</td>\n",
       "      <td>...</td>\n",
       "    </tr>\n",
       "    <tr>\n",
       "      <th>5995</th>\n",
       "      <td>-1.073677</td>\n",
       "      <td>-0.752805</td>\n",
       "      <td>4.0</td>\n",
       "      <td>-1.233163</td>\n",
       "      <td>2</td>\n",
       "      <td>0</td>\n",
       "      <td>1</td>\n",
       "      <td>-1.278361</td>\n",
       "      <td>1.0</td>\n",
       "      <td>0.0</td>\n",
       "      <td>0.0</td>\n",
       "      <td>0.0</td>\n",
       "      <td>1.0</td>\n",
       "    </tr>\n",
       "    <tr>\n",
       "      <th>5996</th>\n",
       "      <td>-1.447531</td>\n",
       "      <td>-0.942612</td>\n",
       "      <td>10.0</td>\n",
       "      <td>-1.233163</td>\n",
       "      <td>2</td>\n",
       "      <td>0</td>\n",
       "      <td>1</td>\n",
       "      <td>-1.281307</td>\n",
       "      <td>1.0</td>\n",
       "      <td>0.0</td>\n",
       "      <td>0.0</td>\n",
       "      <td>0.0</td>\n",
       "      <td>1.0</td>\n",
       "    </tr>\n",
       "    <tr>\n",
       "      <th>5997</th>\n",
       "      <td>0.027113</td>\n",
       "      <td>0.575842</td>\n",
       "      <td>5.0</td>\n",
       "      <td>-0.310229</td>\n",
       "      <td>1</td>\n",
       "      <td>0</td>\n",
       "      <td>1</td>\n",
       "      <td>-0.903158</td>\n",
       "      <td>1.0</td>\n",
       "      <td>0.0</td>\n",
       "      <td>0.0</td>\n",
       "      <td>1.0</td>\n",
       "      <td>0.0</td>\n",
       "    </tr>\n",
       "    <tr>\n",
       "      <th>5998</th>\n",
       "      <td>0.151731</td>\n",
       "      <td>-1.417129</td>\n",
       "      <td>4.0</td>\n",
       "      <td>-1.233163</td>\n",
       "      <td>2</td>\n",
       "      <td>0</td>\n",
       "      <td>1</td>\n",
       "      <td>-1.128539</td>\n",
       "      <td>1.0</td>\n",
       "      <td>0.0</td>\n",
       "      <td>0.0</td>\n",
       "      <td>1.0</td>\n",
       "      <td>0.0</td>\n",
       "    </tr>\n",
       "    <tr>\n",
       "      <th>5999</th>\n",
       "      <td>0.400966</td>\n",
       "      <td>-0.088482</td>\n",
       "      <td>1.0</td>\n",
       "      <td>-1.233163</td>\n",
       "      <td>2</td>\n",
       "      <td>0</td>\n",
       "      <td>0</td>\n",
       "      <td>-0.949841</td>\n",
       "      <td>1.0</td>\n",
       "      <td>0.0</td>\n",
       "      <td>0.0</td>\n",
       "      <td>0.0</td>\n",
       "      <td>1.0</td>\n",
       "    </tr>\n",
       "  </tbody>\n",
       "</table>\n",
       "<p>6000 rows × 13 columns</p>\n",
       "</div>"
      ],
      "text/plain": [
       "      CreditScore       Age  Tenure   Balance  NumOfProducts  HasCrCard  \\\n",
       "0       -0.886751 -0.373192     8.0  1.232271              1          1   \n",
       "1        0.608663 -0.183385     8.0  0.600563              1          0   \n",
       "2        2.052152  0.480939     3.0  1.027098              2          0   \n",
       "3       -1.457915 -1.417129     6.0 -1.233163              2          1   \n",
       "4        0.130961 -1.132419     2.0  1.140475              1          0   \n",
       "...           ...       ...     ...       ...            ...        ...   \n",
       "5995    -1.073677 -0.752805     4.0 -1.233163              2          0   \n",
       "5996    -1.447531 -0.942612    10.0 -1.233163              2          0   \n",
       "5997     0.027113  0.575842     5.0 -0.310229              1          0   \n",
       "5998     0.151731 -1.417129     4.0 -1.233163              2          0   \n",
       "5999     0.400966 -0.088482     1.0 -1.233163              2          0   \n",
       "\n",
       "      IsActiveMember  EstimatedSalary  Geography_France  Geography_Germany  \\\n",
       "0                  0        -0.187705               0.0                0.0   \n",
       "1                  0        -0.333945               1.0                0.0   \n",
       "2                  1         1.503095               0.0                1.0   \n",
       "3                  0        -1.071061               1.0                0.0   \n",
       "4                  0         1.524268               0.0                1.0   \n",
       "...              ...              ...               ...                ...   \n",
       "5995               1        -1.278361               1.0                0.0   \n",
       "5996               1        -1.281307               1.0                0.0   \n",
       "5997               1        -0.903158               1.0                0.0   \n",
       "5998               1        -1.128539               1.0                0.0   \n",
       "5999               0        -0.949841               1.0                0.0   \n",
       "\n",
       "      Geography_Spain  Gender_Female  Gender_Male  \n",
       "0                 1.0            0.0          1.0  \n",
       "1                 0.0            1.0          0.0  \n",
       "2                 0.0            0.0          1.0  \n",
       "3                 0.0            0.0          1.0  \n",
       "4                 0.0            1.0          0.0  \n",
       "...               ...            ...          ...  \n",
       "5995              0.0            0.0          1.0  \n",
       "5996              0.0            0.0          1.0  \n",
       "5997              0.0            1.0          0.0  \n",
       "5998              0.0            1.0          0.0  \n",
       "5999              0.0            0.0          1.0  \n",
       "\n",
       "[6000 rows x 13 columns]"
      ]
     },
     "execution_count": 22,
     "metadata": {},
     "output_type": "execute_result"
    }
   ],
   "source": [
    "features_train"
   ]
  },
  {
   "cell_type": "markdown",
   "metadata": {},
   "source": [
    "<div class=\"alert alert-block alert-success\">\n",
    "<b>Успех👍 В2:</b> \n",
    "    \n",
    "Все сделал превосходно, мое почтение. Мало кто может сразу все грамотно сделать с ohe кодированием, мне понравился твой код)\n",
    "</div>"
   ]
  },
  {
   "cell_type": "markdown",
   "metadata": {},
   "source": [
    "<div class=\"alert alert-block alert-success\">\n",
    "<b>Успех👍:</b> \n",
    "    \n",
    "Данные поделены, замечательно! Плюсом также является проверка размеров выборки, молодец\n",
    "</div>"
   ]
  },
  {
   "cell_type": "markdown",
   "metadata": {},
   "source": [
    "## Исследование задачи"
   ]
  },
  {
   "cell_type": "markdown",
   "metadata": {},
   "source": [
    "<font color = 'green'> Матрица ошибок представляет собой таблицу, которая показывает количество верных и неверных предсказаний, сгруппированных по фактическим и предсказанным классам. Это позволяет оценить производительность классификатора и определить, какие классы модель хорошо предсказывает, а какие нет.\n",
    "\n",
    "Матрица ошибок имеет следующую структуру:\n",
    "\n",
    "Вертикальные строки матрицы представляют фактические классы, а горизонтальные столбцы - предсказанные классы.\n",
    "Элементы на диагонали матрицы показывают количество верно предсказанных экземпляров для каждого класса (т.е., истинные положительные и истинные отрицательные предсказания для каждого класса).\n",
    "Элементы вне диагонали представляют ошибки (ложные положительные и ложные отрицательные предсказания).\n",
    "\n",
    "****************************************************************************************\n",
    "\n",
    "F1-оценка (F1-score) — это метрика, используемая для оценки производительности классификатора в задачах классификации с бинарными метками (два класса). F1-оценка является гармоническим средним между точностью (precision) и полнотой (recall). Она берет во внимание как ошибки ложных положительных (FP), так и ложных отрицательных (FN) предсказаний, и стремится предоставить сбалансированную оценку модели.\n",
    "\n",
    "где\n",
    "\n",
    "precision = TP / (TP + FP), TP - истинно положительные предсказания, FP - ложно положительные предсказания\n",
    "recall = TP / (TP + FN), FN - ложно отрицательные предсказания\n",
    "F1-оценка имеет диапазон от 0 до 1, где 0 означает самую низкую, а 1 - самую высокую производительность. Метрика полезна, когда важно учитывать как точность, так и полноту, особенно если данные несбалансированы или стоимость ошибок FP и FN различается.</font>\n"
   ]
  },
  {
   "cell_type": "markdown",
   "metadata": {},
   "source": [
    "<div class=\"alert alert-block alert-success\">\n",
    "<b>Успех👍:</b> \n",
    "    \n",
    "Довольно интересно все расписал, прямо очень детально и точно. Грустно, что во всем проекте ты только f1 метрику так расписал), ведь есть еще твои собственные выводы, взгляд на данные итп\n",
    "</div>"
   ]
  },
  {
   "cell_type": "code",
   "execution_count": 23,
   "metadata": {},
   "outputs": [
    {
     "name": "stdout",
     "output_type": "stream",
     "text": [
      "Матрица ошибок\n",
      "[[1509   73]\n",
      " [ 323   95]]\n",
      "********************************\n",
      "Accuracy: 0.802\n",
      "F1-score: 0.32423208191126274\n",
      "********************************\n",
      "AUC-ROC: 0.758\n"
     ]
    }
   ],
   "source": [
    "#Попробуем обучить LogisticRegression и посмотрим точность и f1 score, а также посмотрим матрицу ошибок\n",
    "model = LogisticRegression(random_state=12345, solver='liblinear')\n",
    "model.fit(features_train, target_train)\n",
    "predictions = model.predict(features_valid)\n",
    "accuracy = accuracy_score(predictions, target_valid)\n",
    "#Предсказания на валидационных данных\n",
    "val_probs = model.predict_proba(features_valid)[:, 1]\n",
    "#Рассчет метрики AUC-ROC\n",
    "auc_roc = roc_auc_score(target_valid, val_probs)\n",
    "print('Матрица ошибок')\n",
    "print(confusion_matrix(target_valid, predictions))\n",
    "print('********************************')\n",
    "print('Accuracy:', accuracy)\n",
    "print('F1-score:', f1_score(target_valid, predictions))\n",
    "print('********************************')\n",
    "# Значение метрики AUC-ROC\n",
    "print(f\"AUC-ROC: {auc_roc:.3f}\")\n"
   ]
  },
  {
   "cell_type": "code",
   "execution_count": 24,
   "metadata": {},
   "outputs": [
    {
     "name": "stdout",
     "output_type": "stream",
     "text": [
      "Матрица ошибок\n",
      "[[1349  233]\n",
      " [ 215  203]]\n",
      "********************************\n",
      "Accuracy: 0.776\n",
      "F1-score: 0.47540983606557374\n",
      "********************************\n",
      "AUC-ROC: 0.669\n"
     ]
    }
   ],
   "source": [
    "#Попробуем обучить DecisionTreeClassifier и посмотрим точность и f1 score, а также посмотрим матрицу ошибок\n",
    "model = DecisionTreeClassifier(random_state=12345)\n",
    "model.fit(features_train, target_train)\n",
    "predictions = model.predict(features_valid)\n",
    "accuracy = accuracy_score(predictions, target_valid)\n",
    "#Предсказания на валидационных данных\n",
    "val_probs = model.predict_proba(features_valid)[:, 1]\n",
    "#Рассчет метрики AUC-ROC\n",
    "auc_roc = roc_auc_score(target_valid, val_probs)\n",
    "print('Матрица ошибок')\n",
    "print(confusion_matrix(target_valid, predictions))\n",
    "print('********************************')\n",
    "print('Accuracy:', accuracy)\n",
    "print('F1-score:', f1_score(target_valid, predictions))\n",
    "print('********************************')\n",
    "# Значение метрики AUC-ROC\n",
    "print(f\"AUC-ROC: {auc_roc:.3f}\")\n"
   ]
  },
  {
   "cell_type": "code",
   "execution_count": 25,
   "metadata": {},
   "outputs": [
    {
     "name": "stdout",
     "output_type": "stream",
     "text": [
      "Матрица ошибок\n",
      "[[1521   61]\n",
      " [ 222  196]]\n",
      "********************************\n",
      "Accuracy: 0.8585\n",
      "F1-score is: 0.5807407407407408\n",
      "********************************\n",
      "AUC-ROC: 0.837\n"
     ]
    }
   ],
   "source": [
    "# аналогичное упражнение для модели RandomForestClassifier\n",
    "model = RandomForestClassifier(random_state=12345)\n",
    "model.fit(features_train, target_train)\n",
    "predictions = model.predict(features_valid)\n",
    "accuracy_valid = accuracy_score(predictions, target_valid)\n",
    "#Предсказания на валидационных данных\n",
    "val_probs = model.predict_proba(features_valid)[:, 1]\n",
    "#Рассчет метрики AUC-ROC\n",
    "auc_roc = roc_auc_score(target_valid, val_probs)\n",
    "print('Матрица ошибок')\n",
    "print(confusion_matrix(target_valid, predictions))\n",
    "print('********************************')\n",
    "print('Accuracy:', accuracy_valid)\n",
    "print('F1-score is:', f1_score(target_valid, predictions))\n",
    "print('********************************')\n",
    "# Значение метрики AUC-ROC\n",
    "print(f\"AUC-ROC: {auc_roc:.3f}\")\n"
   ]
  },
  {
   "cell_type": "markdown",
   "metadata": {},
   "source": [
    "<font color = 'green'> Случайный лес работает лучше, чем дерево решений и логичстическая регрессия</font>"
   ]
  },
  {
   "cell_type": "markdown",
   "metadata": {},
   "source": [
    "<div class=\"alert alert-block alert-success\">\n",
    "Добавил рассчет AUC-ROC. Перебор гиперпараметров для всех моделей будет реализован ниже\n",
    "</div>"
   ]
  },
  {
   "cell_type": "code",
   "execution_count": 26,
   "metadata": {},
   "outputs": [],
   "source": [
    "# #В цикле попробуем перебирать гиперпараметры RandomForestClassifier применив class_weight='balanced'\n",
    "# for depth, est in itertools.product(range(1,50,10), range(1,201,50)):\n",
    "#     model = RandomForestClassifier(random_state=12345, max_depth=depth, n_estimators=est, class_weight='balanced')\n",
    "#     model.fit(features_train, target_train)\n",
    "#     predictions = model.predict(features_valid)\n",
    "#     score = accuracy_score(predictions, target_valid)\n",
    "#     f_score = f1_score(target_valid, predictions)\n",
    "#     #Предсказания на валидационных данных\n",
    "#     val_probs = model.predict_proba(features_valid)[:, 1]\n",
    "#     #Рассчет метрики AUC-ROC\n",
    "#     auc_roc = roc_auc_score(target_valid, val_probs)\n",
    "#     print('|Depth:      {: >5.0f}         |Accuracy:  {: >5.4f}|'.format(depth, score ))\n",
    "#     print('|                          | AUC-ROC:  {: >5.4f}|'.format( auc_roc))\n",
    "#     print('|Estimators: {:>5.0f}         | F1_Score: {: >5.4f}|'.format(est, f_score))\n",
    "#     print('*************************************************')\n"
   ]
  },
  {
   "cell_type": "code",
   "execution_count": 27,
   "metadata": {},
   "outputs": [
    {
     "name": "stdout",
     "output_type": "stream",
     "text": [
      "n_estimators = 10, max_depth = 1, AUC-ROC: 0.7836, Accuracy = 0.7625, F1_Score: 0.5274\n",
      "n_estimators = 10, max_depth = 2, AUC-ROC: 0.7949, Accuracy = 0.7700, F1_Score: 0.5517\n",
      "n_estimators = 10, max_depth = 3, AUC-ROC: 0.8106, Accuracy = 0.7755, F1_Score: 0.5559\n",
      "n_estimators = 10, max_depth = 4, AUC-ROC: 0.8171, Accuracy = 0.7725, F1_Score: 0.5663\n",
      "n_estimators = 10, max_depth = 5, AUC-ROC: 0.8271, Accuracy = 0.7825, F1_Score: 0.5813\n",
      "n_estimators = 10, max_depth = 6, AUC-ROC: 0.8341, Accuracy = 0.7740, F1_Score: 0.5695\n",
      "n_estimators = 10, max_depth = 7, AUC-ROC: 0.8356, Accuracy = 0.8065, F1_Score: 0.5973\n",
      "n_estimators = 10, max_depth = 8, AUC-ROC: 0.8323, Accuracy = 0.8140, F1_Score: 0.5974\n",
      "n_estimators = 10, max_depth = 9, AUC-ROC: 0.8401, Accuracy = 0.8225, F1_Score: 0.6016\n",
      "n_estimators = 10, max_depth = 10, AUC-ROC: 0.8322, Accuracy = 0.8285, F1_Score: 0.6025\n",
      "n_estimators = 50, max_depth = 1, AUC-ROC: 0.7964, Accuracy = 0.7485, F1_Score: 0.5312\n",
      "n_estimators = 50, max_depth = 2, AUC-ROC: 0.8124, Accuracy = 0.7680, F1_Score: 0.5655\n",
      "n_estimators = 50, max_depth = 3, AUC-ROC: 0.8269, Accuracy = 0.7655, F1_Score: 0.5637\n",
      "n_estimators = 50, max_depth = 4, AUC-ROC: 0.8347, Accuracy = 0.7840, F1_Score: 0.5846\n",
      "n_estimators = 50, max_depth = 5, AUC-ROC: 0.8438, Accuracy = 0.8025, F1_Score: 0.6046\n",
      "n_estimators = 50, max_depth = 6, AUC-ROC: 0.8474, Accuracy = 0.8100, F1_Score: 0.6115\n",
      "n_estimators = 50, max_depth = 7, AUC-ROC: 0.8479, Accuracy = 0.8190, F1_Score: 0.6108\n",
      "n_estimators = 50, max_depth = 8, AUC-ROC: 0.8481, Accuracy = 0.8260, F1_Score: 0.6167\n",
      "n_estimators = 50, max_depth = 9, AUC-ROC: 0.8506, Accuracy = 0.8315, F1_Score: 0.6201\n",
      "n_estimators = 50, max_depth = 10, AUC-ROC: 0.8510, Accuracy = 0.8370, F1_Score: 0.6137\n",
      "n_estimators = 100, max_depth = 1, AUC-ROC: 0.8031, Accuracy = 0.7545, F1_Score: 0.5415\n",
      "n_estimators = 100, max_depth = 2, AUC-ROC: 0.8176, Accuracy = 0.7630, F1_Score: 0.5627\n",
      "n_estimators = 100, max_depth = 3, AUC-ROC: 0.8313, Accuracy = 0.7670, F1_Score: 0.5669\n",
      "n_estimators = 100, max_depth = 4, AUC-ROC: 0.8366, Accuracy = 0.7875, F1_Score: 0.5902\n",
      "n_estimators = 100, max_depth = 5, AUC-ROC: 0.8448, Accuracy = 0.8050, F1_Score: 0.6092\n",
      "n_estimators = 100, max_depth = 6, AUC-ROC: 0.8479, Accuracy = 0.8075, F1_Score: 0.6083\n",
      "n_estimators = 100, max_depth = 7, AUC-ROC: 0.8498, Accuracy = 0.8155, F1_Score: 0.6136\n",
      "n_estimators = 100, max_depth = 8, AUC-ROC: 0.8476, Accuracy = 0.8220, F1_Score: 0.6122\n",
      "n_estimators = 100, max_depth = 9, AUC-ROC: 0.8509, Accuracy = 0.8300, F1_Score: 0.6136\n",
      "n_estimators = 100, max_depth = 10, AUC-ROC: 0.8519, Accuracy = 0.8380, F1_Score: 0.6143\n",
      "n_estimators = 200, max_depth = 1, AUC-ROC: 0.8086, Accuracy = 0.7585, F1_Score: 0.5565\n",
      "n_estimators = 200, max_depth = 2, AUC-ROC: 0.8195, Accuracy = 0.7625, F1_Score: 0.5638\n",
      "n_estimators = 200, max_depth = 3, AUC-ROC: 0.8327, Accuracy = 0.7715, F1_Score: 0.5733\n",
      "n_estimators = 200, max_depth = 4, AUC-ROC: 0.8393, Accuracy = 0.7865, F1_Score: 0.5890\n",
      "n_estimators = 200, max_depth = 5, AUC-ROC: 0.8446, Accuracy = 0.8010, F1_Score: 0.6028\n",
      "n_estimators = 200, max_depth = 6, AUC-ROC: 0.8497, Accuracy = 0.8080, F1_Score: 0.6105\n",
      "n_estimators = 200, max_depth = 7, AUC-ROC: 0.8505, Accuracy = 0.8195, F1_Score: 0.6196\n",
      "n_estimators = 200, max_depth = 8, AUC-ROC: 0.8483, Accuracy = 0.8205, F1_Score: 0.6102\n",
      "n_estimators = 200, max_depth = 9, AUC-ROC: 0.8528, Accuracy = 0.8365, F1_Score: 0.6263\n",
      "n_estimators = 200, max_depth = 10, AUC-ROC: 0.8515, Accuracy = 0.8400, F1_Score: 0.6163\n",
      "\n",
      "Best Model:\n",
      "RandomForestClassifier(class_weight='balanced', max_depth=9, n_estimators=200,\n",
      "                       random_state=12345)\n",
      "Best AUC-ROC: 0.853\n"
     ]
    }
   ],
   "source": [
    "# Зададим значения гиперпараметров для перебора в цикле\n",
    "n_estimators_values = [10, 50, 100, 200]\n",
    "max_depth_values = [1, 2, 3, 4, 5, 6, 7, 8, 9, 10]\n",
    "\n",
    "# Сохраним лучшую модель и лучший AUC-ROC\n",
    "best_model = None\n",
    "best_auc_roc = -np.inf\n",
    "\n",
    "# Перебор гиперпараметров в цикле\n",
    "for n_estimators in n_estimators_values:\n",
    "    for max_depth in max_depth_values:\n",
    "        model = RandomForestClassifier(n_estimators=n_estimators, max_depth=max_depth, class_weight='balanced', random_state=12345)\n",
    "\n",
    "        # Обучим модель на тренировочных данных\n",
    "        model.fit(features_train, target_train)\n",
    "        predictions = model.predict(features_valid)\n",
    "        # Выполним предсказания на валидационных данных\n",
    "        val_probs = model.predict_proba(features_valid)[:, 1]\n",
    "\n",
    "        # Рассчет метрик\n",
    "        auc_roc = roc_auc_score(target_valid, val_probs)\n",
    "        score = accuracy_score(predictions, target_valid)\n",
    "        f_score = f1_score(target_valid, predictions)\n",
    "\n",
    "        # Сравним с текущим лучшим AUC-ROC и сохраним лучшую модель\n",
    "        if auc_roc > best_auc_roc:\n",
    "            best_auc_roc = auc_roc\n",
    "            best_model = model\n",
    "\n",
    "        # Выведем результаты для текущего значения гиперпараметров\n",
    "        print(f\"n_estimators = {n_estimators}, max_depth = {max_depth}, AUC-ROC: {auc_roc:.4f}, Accuracy = {score:.4f}, F1_Score: {f_score:.4f}\")\n",
    "\n",
    "# Выведем лучшую модель и лучший AUC-ROC\n",
    "print(\"\\nBest Model:\")\n",
    "print(best_model)\n",
    "print(f\"Best AUC-ROC: {best_auc_roc:.3f}\")"
   ]
  },
  {
   "cell_type": "markdown",
   "metadata": {},
   "source": [
    "<font color = 'green'> При глубине 9 и числе деревьев 200. \n",
    "  F1 score показал наилучший результат : 0.6263;\n",
    "  accuracy_score : 0.8365;\n",
    "  AUC-ROC:  0.8528; Лучшая модель - случайный лес с этими гиперпараметрами </font>"
   ]
  },
  {
   "cell_type": "code",
   "execution_count": 28,
   "metadata": {},
   "outputs": [
    {
     "name": "stdout",
     "output_type": "stream",
     "text": [
      "C = 0.001, AUC-ROC: 0.7705, Accuracy = 0.7240, F1_Score: 0.5124\n",
      "C = 0.01, AUC-ROC: 0.7679, Accuracy = 0.7090, F1_Score: 0.4939\n",
      "C = 0.1, AUC-ROC: 0.7639, Accuracy = 0.7020, F1_Score: 0.4880\n",
      "C = 1, AUC-ROC: 0.7631, Accuracy = 0.7020, F1_Score: 0.4889\n",
      "C = 10, AUC-ROC: 0.7631, Accuracy = 0.7020, F1_Score: 0.4889\n",
      "C = 100, AUC-ROC: 0.7630, Accuracy = 0.7020, F1_Score: 0.4889\n",
      "\n",
      "Best Model:\n",
      "LogisticRegression(C=0.001, class_weight='balanced', random_state=12345)\n",
      "Best AUC-ROC: 0.771\n"
     ]
    }
   ],
   "source": [
    "#Значения гиперпараметров для перебора в цикле для модели LogisticRegression\n",
    "C_values = [0.001, 0.01, 0.1, 1, 10, 100]\n",
    "\n",
    "#Лучшая модель и лучший AUC-ROC\n",
    "best_model = None\n",
    "best_auc_roc = -np.inf\n",
    "\n",
    "# Перебор гиперпараметров в цикле\n",
    "for C_value in C_values:\n",
    "    model = LogisticRegression(C=C_value, class_weight='balanced', random_state=12345)\n",
    "\n",
    "    #Обучаем модель на тренировочных данных\n",
    "    model.fit(features_train, target_train)\n",
    "    predictions = model.predict(features_valid)\n",
    "    \n",
    "    #Предсказания на валидационных данных\n",
    "    val_probs = model.predict_proba(features_valid)[:, 1]\n",
    "\n",
    "    # Рассчет метрик\n",
    "    auc_roc = roc_auc_score(target_valid, val_probs)\n",
    "    score = accuracy_score(predictions, target_valid)\n",
    "    f_score = f1_score(target_valid, predictions)\n",
    "\n",
    "\n",
    "    # Сравним с текущим лучшим AUC-ROC и сохранение лучшей модели\n",
    "    if auc_roc > best_auc_roc:\n",
    "        best_auc_roc = auc_roc\n",
    "        best_model = model\n",
    "\n",
    "    # Вывод результатов для текущего значения\n",
    "    print(f\"C = {C_value}, AUC-ROC: {auc_roc:.4f}, Accuracy = {score:.4f}, F1_Score: {f_score:.4f}\")\n",
    "\n",
    "# Вывод лучшей моделии и лучший AUC-ROC\n",
    "print(\"\\nBest Model:\")\n",
    "print(best_model)\n",
    "print(f\"Best AUC-ROC: {best_auc_roc:.3f}\")\n"
   ]
  },
  {
   "cell_type": "code",
   "execution_count": 29,
   "metadata": {},
   "outputs": [
    {
     "name": "stdout",
     "output_type": "stream",
     "text": [
      "max_depth = 1, min_samples_leaf = 1, AUC-ROC: 0.6926, Accuracy = 0.7545, F1_Score: 0.4995\n",
      "max_depth = 1, min_samples_leaf = 2, AUC-ROC: 0.6926, Accuracy = 0.7545, F1_Score: 0.4995\n",
      "max_depth = 1, min_samples_leaf = 3, AUC-ROC: 0.6926, Accuracy = 0.7545, F1_Score: 0.4995\n",
      "max_depth = 1, min_samples_leaf = 4, AUC-ROC: 0.6926, Accuracy = 0.7545, F1_Score: 0.4995\n",
      "max_depth = 1, min_samples_leaf = 5, AUC-ROC: 0.6926, Accuracy = 0.7545, F1_Score: 0.4995\n",
      "max_depth = 2, min_samples_leaf = 1, AUC-ROC: 0.7502, Accuracy = 0.7650, F1_Score: 0.5410\n",
      "max_depth = 2, min_samples_leaf = 2, AUC-ROC: 0.7502, Accuracy = 0.7650, F1_Score: 0.5410\n",
      "max_depth = 2, min_samples_leaf = 3, AUC-ROC: 0.7502, Accuracy = 0.7650, F1_Score: 0.5410\n",
      "max_depth = 2, min_samples_leaf = 4, AUC-ROC: 0.7502, Accuracy = 0.7650, F1_Score: 0.5410\n",
      "max_depth = 2, min_samples_leaf = 5, AUC-ROC: 0.7502, Accuracy = 0.7650, F1_Score: 0.5410\n",
      "max_depth = 3, min_samples_leaf = 1, AUC-ROC: 0.7980, Accuracy = 0.7650, F1_Score: 0.5410\n",
      "max_depth = 3, min_samples_leaf = 2, AUC-ROC: 0.7980, Accuracy = 0.7650, F1_Score: 0.5410\n",
      "max_depth = 3, min_samples_leaf = 3, AUC-ROC: 0.7980, Accuracy = 0.7650, F1_Score: 0.5410\n",
      "max_depth = 3, min_samples_leaf = 4, AUC-ROC: 0.7980, Accuracy = 0.7650, F1_Score: 0.5410\n",
      "max_depth = 3, min_samples_leaf = 5, AUC-ROC: 0.7980, Accuracy = 0.7650, F1_Score: 0.5410\n",
      "max_depth = 4, min_samples_leaf = 1, AUC-ROC: 0.8191, Accuracy = 0.7110, F1_Score: 0.5278\n",
      "max_depth = 4, min_samples_leaf = 2, AUC-ROC: 0.8210, Accuracy = 0.7110, F1_Score: 0.5285\n",
      "max_depth = 4, min_samples_leaf = 3, AUC-ROC: 0.8210, Accuracy = 0.7110, F1_Score: 0.5285\n",
      "max_depth = 4, min_samples_leaf = 4, AUC-ROC: 0.8208, Accuracy = 0.7110, F1_Score: 0.5285\n",
      "max_depth = 4, min_samples_leaf = 5, AUC-ROC: 0.8208, Accuracy = 0.7110, F1_Score: 0.5285\n",
      "max_depth = 5, min_samples_leaf = 1, AUC-ROC: 0.8310, Accuracy = 0.8105, F1_Score: 0.5964\n",
      "max_depth = 5, min_samples_leaf = 2, AUC-ROC: 0.8354, Accuracy = 0.8110, F1_Score: 0.5987\n",
      "max_depth = 5, min_samples_leaf = 3, AUC-ROC: 0.8353, Accuracy = 0.8110, F1_Score: 0.5987\n",
      "max_depth = 5, min_samples_leaf = 4, AUC-ROC: 0.8352, Accuracy = 0.8110, F1_Score: 0.5987\n",
      "max_depth = 5, min_samples_leaf = 5, AUC-ROC: 0.8352, Accuracy = 0.8110, F1_Score: 0.5987\n",
      "max_depth = 6, min_samples_leaf = 1, AUC-ROC: 0.7994, Accuracy = 0.7665, F1_Score: 0.5582\n",
      "max_depth = 6, min_samples_leaf = 2, AUC-ROC: 0.8087, Accuracy = 0.7680, F1_Score: 0.5631\n",
      "max_depth = 6, min_samples_leaf = 3, AUC-ROC: 0.8165, Accuracy = 0.7695, F1_Score: 0.5671\n",
      "max_depth = 6, min_samples_leaf = 4, AUC-ROC: 0.8221, Accuracy = 0.7710, F1_Score: 0.5712\n",
      "max_depth = 6, min_samples_leaf = 5, AUC-ROC: 0.8229, Accuracy = 0.7695, F1_Score: 0.5696\n",
      "max_depth = 7, min_samples_leaf = 1, AUC-ROC: 0.7941, Accuracy = 0.7730, F1_Score: 0.5496\n",
      "max_depth = 7, min_samples_leaf = 2, AUC-ROC: 0.8062, Accuracy = 0.7750, F1_Score: 0.5562\n",
      "max_depth = 7, min_samples_leaf = 3, AUC-ROC: 0.8146, Accuracy = 0.7765, F1_Score: 0.5630\n",
      "max_depth = 7, min_samples_leaf = 4, AUC-ROC: 0.8195, Accuracy = 0.7775, F1_Score: 0.5667\n",
      "max_depth = 7, min_samples_leaf = 5, AUC-ROC: 0.8222, Accuracy = 0.7760, F1_Score: 0.5659\n",
      "max_depth = 8, min_samples_leaf = 1, AUC-ROC: 0.7665, Accuracy = 0.7620, F1_Score: 0.5361\n",
      "max_depth = 8, min_samples_leaf = 2, AUC-ROC: 0.7807, Accuracy = 0.7625, F1_Score: 0.5428\n",
      "max_depth = 8, min_samples_leaf = 3, AUC-ROC: 0.8023, Accuracy = 0.7675, F1_Score: 0.5576\n",
      "max_depth = 8, min_samples_leaf = 4, AUC-ROC: 0.8032, Accuracy = 0.7675, F1_Score: 0.5584\n",
      "max_depth = 8, min_samples_leaf = 5, AUC-ROC: 0.8051, Accuracy = 0.7670, F1_Score: 0.5579\n",
      "max_depth = 9, min_samples_leaf = 1, AUC-ROC: 0.7675, Accuracy = 0.7695, F1_Score: 0.5404\n",
      "max_depth = 9, min_samples_leaf = 2, AUC-ROC: 0.7799, Accuracy = 0.7695, F1_Score: 0.5494\n",
      "max_depth = 9, min_samples_leaf = 3, AUC-ROC: 0.7952, Accuracy = 0.7695, F1_Score: 0.5563\n",
      "max_depth = 9, min_samples_leaf = 4, AUC-ROC: 0.7985, Accuracy = 0.7710, F1_Score: 0.5605\n",
      "max_depth = 9, min_samples_leaf = 5, AUC-ROC: 0.7932, Accuracy = 0.7650, F1_Score: 0.5507\n",
      "max_depth = 10, min_samples_leaf = 1, AUC-ROC: 0.7473, Accuracy = 0.7460, F1_Score: 0.5106\n",
      "max_depth = 10, min_samples_leaf = 2, AUC-ROC: 0.7655, Accuracy = 0.7500, F1_Score: 0.5211\n",
      "max_depth = 10, min_samples_leaf = 3, AUC-ROC: 0.7802, Accuracy = 0.7480, F1_Score: 0.5307\n",
      "max_depth = 10, min_samples_leaf = 4, AUC-ROC: 0.7753, Accuracy = 0.7420, F1_Score: 0.5222\n",
      "max_depth = 10, min_samples_leaf = 5, AUC-ROC: 0.7712, Accuracy = 0.7380, F1_Score: 0.5175\n",
      "\n",
      "Best Model:\n",
      "DecisionTreeClassifier(class_weight='balanced', max_depth=5, min_samples_leaf=2,\n",
      "                       random_state=12345)\n",
      "Best AUC-ROC: 0.835\n"
     ]
    }
   ],
   "source": [
    "# Зададим значения гиперпараметров для перебора в цикле\n",
    "max_depth_values = [1, 2, 3, 4, 5, 6, 7, 8, 9, 10]\n",
    "min_samples_leaf_values = [1, 2, 3, 4, 5]\n",
    "\n",
    "# Сохраним лучшую модель и лучший AUC-ROC\n",
    "best_model = None\n",
    "best_auc_roc = -np.inf\n",
    "\n",
    "# Перебор гиперпараметров в цикле\n",
    "for max_depth in max_depth_values:\n",
    "    for min_samples_leaf in min_samples_leaf_values:\n",
    "        model = DecisionTreeClassifier(max_depth=max_depth, min_samples_leaf=min_samples_leaf, class_weight='balanced', random_state=12345)\n",
    "\n",
    "        # Обучим модель на тренировочных данных\n",
    "        model.fit(features_train, target_train)\n",
    "        predictions = model.predict(features_valid)\n",
    "\n",
    "        # Выполним предсказания на валидационных данных\n",
    "        val_probs = model.predict_proba(features_valid)[:, 1]\n",
    "\n",
    "        # Рассчет метрик\n",
    "        auc_roc = roc_auc_score(target_valid, val_probs)\n",
    "        score = accuracy_score(predictions, target_valid)\n",
    "        f_score = f1_score(target_valid, predictions)\n",
    "\n",
    "        # Сравним с текущим лучшим AUC-ROC и сохраним лучшую модель\n",
    "        if auc_roc > best_auc_roc:\n",
    "            best_auc_roc = auc_roc\n",
    "            best_model = model\n",
    "\n",
    "        # Выведем результаты для текущего значения гиперпараметров\n",
    "        print(f\"max_depth = {max_depth}, min_samples_leaf = {min_samples_leaf}, AUC-ROC: {auc_roc:.4f}, Accuracy = {score:.4f}, F1_Score: {f_score:.4f}\")\n",
    "\n",
    "# Выведем лучшую модель и лучший AUC-ROC\n",
    "print(\"\\nBest Model:\")\n",
    "print(best_model)\n",
    "print(f\"Best AUC-ROC: {best_auc_roc:.3f}\")\n"
   ]
  },
  {
   "cell_type": "markdown",
   "metadata": {},
   "source": [
    "<div class=\"alert alert-block alert-success\">\n",
    "Реализовано выше\n",
    "</div>"
   ]
  },
  {
   "cell_type": "markdown",
   "metadata": {},
   "source": [
    "<div class=\"alert alert-block alert-danger\">\n",
    "<b>Ошибка❌:</b> \n",
    "    \n",
    "Я тут заметил, что AUC-ROC метрика отсутствует - добавь ее. И не забудь про то, что она определяется по вероятностям, а не по предсказаниям.(https://scikit-learn.org/stable/modules/generated/sklearn.metrics.roc_auc_score.html) \n",
    "    \n",
    "Также не забудь про то, что ее нужно добавить к каждой модели, где ты проверяешь метрику f1, так как бизнес потребовал проверить ее тоже\n",
    "    \n",
    "Также нужно реализовать перебор гиперпараметров для всех моделей, ведь нам нужно сравнивать лучшие модели без учета дисбаланса и лучшие модели с учетом дисбаланса, поэтому давай ты лучше проведешь перебор гиперпараметров)\n",
    "</div>"
   ]
  },
  {
   "cell_type": "markdown",
   "metadata": {},
   "source": [
    "<div class=\"alert alert-block alert-success\">\n",
    "<b>Успех👍 В2:</b> \n",
    "    \n",
    "Все есть, ты прекрасно)\n",
    "</div>"
   ]
  },
  {
   "cell_type": "markdown",
   "metadata": {},
   "source": [
    "## Борьба с дисбалансом"
   ]
  },
  {
   "cell_type": "markdown",
   "metadata": {},
   "source": []
  },
  {
   "cell_type": "markdown",
   "metadata": {},
   "source": [
    "<div class=\"alert alert-block alert-success\">\n",
    "<b>Успех👍:</b> \n",
    "    \n",
    "Отлично, лес + class_weight себя неплохо показали)\n",
    "</div>\n",
    "\n",
    "<div class=\"alert alert-block alert-danger\">\n",
    "<b>Ошибка❌:</b> \n",
    "    \n",
    "Вижу ты реализовал только одну модель МО на наших методах борьбы с дисбалансом - по задаче проекта тебе необходимо проверить все модели МО на всех методах, только так ты сможешь грамотно сравнить работу каждого метода на моделях и выявить лучшую. Да и плюс ты сможешь заметить как меняется результат на разных моделях и методах борьбы с дисбалансом - поэтому прошу тебя добавить к проверке методов все наши модели (дерево и лог регрессию - не забудь их гиперпараметры также перебрать, как ты выше и делал)\n",
    "    \n",
    "auc-roc метрики нет - добавь\n",
    "</div> "
   ]
  },
  {
   "cell_type": "markdown",
   "metadata": {},
   "source": [
    "<div class=\"alert alert-block alert-success\">\n",
    "<b>Успех👍 В2:</b> \n",
    "    \n",
    "Модели есть, метрика есть, ты все сдеала прекрасно)\n",
    "</div>"
   ]
  },
  {
   "cell_type": "code",
   "execution_count": 30,
   "metadata": {},
   "outputs": [
    {
     "name": "stdout",
     "output_type": "stream",
     "text": [
      "Fractions: = 0.03, n_estimators = 10, max_depth = 1, AUC-ROC: 0.6961, Accuracy = 0.2090, F1_Score: 0.3457\n",
      "Fractions: = 0.03, n_estimators = 10, max_depth = 2, AUC-ROC: 0.7276, Accuracy = 0.2090, F1_Score: 0.3457\n",
      "Fractions: = 0.03, n_estimators = 10, max_depth = 3, AUC-ROC: 0.7399, Accuracy = 0.2090, F1_Score: 0.3457\n",
      "Fractions: = 0.03, n_estimators = 10, max_depth = 4, AUC-ROC: 0.7565, Accuracy = 0.2155, F1_Score: 0.3476\n",
      "Fractions: = 0.03, n_estimators = 10, max_depth = 5, AUC-ROC: 0.7644, Accuracy = 0.2220, F1_Score: 0.3495\n",
      "Fractions: = 0.03, n_estimators = 10, max_depth = 6, AUC-ROC: 0.7709, Accuracy = 0.2360, F1_Score: 0.3525\n",
      "Fractions: = 0.03, n_estimators = 10, max_depth = 7, AUC-ROC: 0.7776, Accuracy = 0.2460, F1_Score: 0.3561\n",
      "Fractions: = 0.03, n_estimators = 10, max_depth = 8, AUC-ROC: 0.7773, Accuracy = 0.2640, F1_Score: 0.3600\n",
      "Fractions: = 0.03, n_estimators = 10, max_depth = 9, AUC-ROC: 0.7628, Accuracy = 0.2810, F1_Score: 0.3637\n",
      "Fractions: = 0.03, n_estimators = 10, max_depth = 10, AUC-ROC: 0.7569, Accuracy = 0.2995, F1_Score: 0.3703\n",
      "Fractions: = 0.03, n_estimators = 50, max_depth = 1, AUC-ROC: 0.7560, Accuracy = 0.2090, F1_Score: 0.3457\n",
      "Fractions: = 0.03, n_estimators = 50, max_depth = 2, AUC-ROC: 0.7721, Accuracy = 0.2090, F1_Score: 0.3457\n",
      "Fractions: = 0.03, n_estimators = 50, max_depth = 3, AUC-ROC: 0.7857, Accuracy = 0.2090, F1_Score: 0.3457\n",
      "Fractions: = 0.03, n_estimators = 50, max_depth = 4, AUC-ROC: 0.7808, Accuracy = 0.2090, F1_Score: 0.3457\n",
      "Fractions: = 0.03, n_estimators = 50, max_depth = 5, AUC-ROC: 0.7853, Accuracy = 0.2155, F1_Score: 0.3476\n",
      "Fractions: = 0.03, n_estimators = 50, max_depth = 6, AUC-ROC: 0.7960, Accuracy = 0.2260, F1_Score: 0.3496\n",
      "Fractions: = 0.03, n_estimators = 50, max_depth = 7, AUC-ROC: 0.7911, Accuracy = 0.2285, F1_Score: 0.3509\n",
      "Fractions: = 0.03, n_estimators = 50, max_depth = 8, AUC-ROC: 0.7986, Accuracy = 0.2390, F1_Score: 0.3534\n",
      "Fractions: = 0.03, n_estimators = 50, max_depth = 9, AUC-ROC: 0.7919, Accuracy = 0.2505, F1_Score: 0.3558\n",
      "Fractions: = 0.03, n_estimators = 50, max_depth = 10, AUC-ROC: 0.7836, Accuracy = 0.2555, F1_Score: 0.3579\n",
      "Fractions: = 0.03, n_estimators = 100, max_depth = 1, AUC-ROC: 0.7610, Accuracy = 0.2090, F1_Score: 0.3457\n",
      "Fractions: = 0.03, n_estimators = 100, max_depth = 2, AUC-ROC: 0.7737, Accuracy = 0.2090, F1_Score: 0.3457\n",
      "Fractions: = 0.03, n_estimators = 100, max_depth = 3, AUC-ROC: 0.7899, Accuracy = 0.2090, F1_Score: 0.3457\n",
      "Fractions: = 0.03, n_estimators = 100, max_depth = 4, AUC-ROC: 0.7922, Accuracy = 0.2090, F1_Score: 0.3457\n",
      "Fractions: = 0.03, n_estimators = 100, max_depth = 5, AUC-ROC: 0.7897, Accuracy = 0.2155, F1_Score: 0.3476\n",
      "Fractions: = 0.03, n_estimators = 100, max_depth = 6, AUC-ROC: 0.7943, Accuracy = 0.2255, F1_Score: 0.3500\n",
      "Fractions: = 0.03, n_estimators = 100, max_depth = 7, AUC-ROC: 0.7963, Accuracy = 0.2350, F1_Score: 0.3528\n",
      "Fractions: = 0.03, n_estimators = 100, max_depth = 8, AUC-ROC: 0.7976, Accuracy = 0.2415, F1_Score: 0.3542\n",
      "Fractions: = 0.03, n_estimators = 100, max_depth = 9, AUC-ROC: 0.7926, Accuracy = 0.2550, F1_Score: 0.3578\n",
      "Fractions: = 0.03, n_estimators = 100, max_depth = 10, AUC-ROC: 0.7899, Accuracy = 0.2650, F1_Score: 0.3614\n",
      "Fractions: = 0.03, n_estimators = 200, max_depth = 1, AUC-ROC: 0.7561, Accuracy = 0.2090, F1_Score: 0.3457\n",
      "Fractions: = 0.03, n_estimators = 200, max_depth = 2, AUC-ROC: 0.7779, Accuracy = 0.2090, F1_Score: 0.3457\n",
      "Fractions: = 0.03, n_estimators = 200, max_depth = 3, AUC-ROC: 0.7886, Accuracy = 0.2090, F1_Score: 0.3457\n",
      "Fractions: = 0.03, n_estimators = 200, max_depth = 4, AUC-ROC: 0.7941, Accuracy = 0.2090, F1_Score: 0.3457\n",
      "Fractions: = 0.03, n_estimators = 200, max_depth = 5, AUC-ROC: 0.7938, Accuracy = 0.2155, F1_Score: 0.3476\n",
      "Fractions: = 0.03, n_estimators = 200, max_depth = 6, AUC-ROC: 0.7946, Accuracy = 0.2280, F1_Score: 0.3507\n",
      "Fractions: = 0.03, n_estimators = 200, max_depth = 7, AUC-ROC: 0.7990, Accuracy = 0.2330, F1_Score: 0.3522\n",
      "Fractions: = 0.03, n_estimators = 200, max_depth = 8, AUC-ROC: 0.7973, Accuracy = 0.2395, F1_Score: 0.3536\n",
      "Fractions: = 0.03, n_estimators = 200, max_depth = 9, AUC-ROC: 0.7947, Accuracy = 0.2565, F1_Score: 0.3588\n",
      "Fractions: = 0.03, n_estimators = 200, max_depth = 10, AUC-ROC: 0.7912, Accuracy = 0.2635, F1_Score: 0.3610\n",
      "Fractions: = 0.06, n_estimators = 10, max_depth = 1, AUC-ROC: 0.7608, Accuracy = 0.2090, F1_Score: 0.3457\n",
      "Fractions: = 0.06, n_estimators = 10, max_depth = 2, AUC-ROC: 0.7632, Accuracy = 0.2090, F1_Score: 0.3457\n",
      "Fractions: = 0.06, n_estimators = 10, max_depth = 3, AUC-ROC: 0.7844, Accuracy = 0.2090, F1_Score: 0.3457\n",
      "Fractions: = 0.06, n_estimators = 10, max_depth = 4, AUC-ROC: 0.8067, Accuracy = 0.2500, F1_Score: 0.3568\n",
      "Fractions: = 0.06, n_estimators = 10, max_depth = 5, AUC-ROC: 0.8168, Accuracy = 0.3135, F1_Score: 0.3739\n",
      "Fractions: = 0.06, n_estimators = 10, max_depth = 6, AUC-ROC: 0.7996, Accuracy = 0.3515, F1_Score: 0.3862\n",
      "Fractions: = 0.06, n_estimators = 10, max_depth = 7, AUC-ROC: 0.8008, Accuracy = 0.4120, F1_Score: 0.4030\n",
      "Fractions: = 0.06, n_estimators = 10, max_depth = 8, AUC-ROC: 0.7902, Accuracy = 0.3975, F1_Score: 0.4002\n",
      "Fractions: = 0.06, n_estimators = 10, max_depth = 9, AUC-ROC: 0.7850, Accuracy = 0.4225, F1_Score: 0.4086\n",
      "Fractions: = 0.06, n_estimators = 10, max_depth = 10, AUC-ROC: 0.7775, Accuracy = 0.4180, F1_Score: 0.4037\n",
      "Fractions: = 0.06, n_estimators = 50, max_depth = 1, AUC-ROC: 0.7824, Accuracy = 0.2090, F1_Score: 0.3457\n",
      "Fractions: = 0.06, n_estimators = 50, max_depth = 2, AUC-ROC: 0.7984, Accuracy = 0.2090, F1_Score: 0.3457\n",
      "Fractions: = 0.06, n_estimators = 50, max_depth = 3, AUC-ROC: 0.8075, Accuracy = 0.2090, F1_Score: 0.3457\n",
      "Fractions: = 0.06, n_estimators = 50, max_depth = 4, AUC-ROC: 0.8142, Accuracy = 0.2405, F1_Score: 0.3539\n",
      "Fractions: = 0.06, n_estimators = 50, max_depth = 5, AUC-ROC: 0.8233, Accuracy = 0.3060, F1_Score: 0.3736\n",
      "Fractions: = 0.06, n_estimators = 50, max_depth = 6, AUC-ROC: 0.8203, Accuracy = 0.3380, F1_Score: 0.3836\n",
      "Fractions: = 0.06, n_estimators = 50, max_depth = 7, AUC-ROC: 0.8220, Accuracy = 0.3710, F1_Score: 0.3917\n",
      "Fractions: = 0.06, n_estimators = 50, max_depth = 8, AUC-ROC: 0.8217, Accuracy = 0.3915, F1_Score: 0.3978\n",
      "Fractions: = 0.06, n_estimators = 50, max_depth = 9, AUC-ROC: 0.8139, Accuracy = 0.4080, F1_Score: 0.4020\n",
      "Fractions: = 0.06, n_estimators = 50, max_depth = 10, AUC-ROC: 0.8111, Accuracy = 0.4120, F1_Score: 0.4037\n",
      "Fractions: = 0.06, n_estimators = 100, max_depth = 1, AUC-ROC: 0.7881, Accuracy = 0.2090, F1_Score: 0.3457\n",
      "Fractions: = 0.06, n_estimators = 100, max_depth = 2, AUC-ROC: 0.8011, Accuracy = 0.2090, F1_Score: 0.3457\n",
      "Fractions: = 0.06, n_estimators = 100, max_depth = 3, AUC-ROC: 0.8116, Accuracy = 0.2090, F1_Score: 0.3457\n",
      "Fractions: = 0.06, n_estimators = 100, max_depth = 4, AUC-ROC: 0.8169, Accuracy = 0.2355, F1_Score: 0.3529\n",
      "Fractions: = 0.06, n_estimators = 100, max_depth = 5, AUC-ROC: 0.8265, Accuracy = 0.2855, F1_Score: 0.3669\n",
      "Fractions: = 0.06, n_estimators = 100, max_depth = 6, AUC-ROC: 0.8269, Accuracy = 0.3275, F1_Score: 0.3793\n",
      "Fractions: = 0.06, n_estimators = 100, max_depth = 7, AUC-ROC: 0.8254, Accuracy = 0.3620, F1_Score: 0.3877\n",
      "Fractions: = 0.06, n_estimators = 100, max_depth = 8, AUC-ROC: 0.8236, Accuracy = 0.3800, F1_Score: 0.3939\n",
      "Fractions: = 0.06, n_estimators = 100, max_depth = 9, AUC-ROC: 0.8188, Accuracy = 0.3955, F1_Score: 0.3970\n",
      "Fractions: = 0.06, n_estimators = 100, max_depth = 10, AUC-ROC: 0.8171, Accuracy = 0.4120, F1_Score: 0.4049\n",
      "Fractions: = 0.06, n_estimators = 200, max_depth = 1, AUC-ROC: 0.7887, Accuracy = 0.2090, F1_Score: 0.3457\n",
      "Fractions: = 0.06, n_estimators = 200, max_depth = 2, AUC-ROC: 0.8016, Accuracy = 0.2090, F1_Score: 0.3457\n",
      "Fractions: = 0.06, n_estimators = 200, max_depth = 3, AUC-ROC: 0.8103, Accuracy = 0.2095, F1_Score: 0.3459\n",
      "Fractions: = 0.06, n_estimators = 200, max_depth = 4, AUC-ROC: 0.8166, Accuracy = 0.2375, F1_Score: 0.3541\n",
      "Fractions: = 0.06, n_estimators = 200, max_depth = 5, AUC-ROC: 0.8242, Accuracy = 0.2885, F1_Score: 0.3673\n",
      "Fractions: = 0.06, n_estimators = 200, max_depth = 6, AUC-ROC: 0.8250, Accuracy = 0.3305, F1_Score: 0.3804\n",
      "Fractions: = 0.06, n_estimators = 200, max_depth = 7, AUC-ROC: 0.8251, Accuracy = 0.3510, F1_Score: 0.3837\n",
      "Fractions: = 0.06, n_estimators = 200, max_depth = 8, AUC-ROC: 0.8246, Accuracy = 0.3730, F1_Score: 0.3919\n",
      "Fractions: = 0.06, n_estimators = 200, max_depth = 9, AUC-ROC: 0.8207, Accuracy = 0.3920, F1_Score: 0.3956\n",
      "Fractions: = 0.06, n_estimators = 200, max_depth = 10, AUC-ROC: 0.8186, Accuracy = 0.4045, F1_Score: 0.4006\n",
      "Fractions: = 0.09, n_estimators = 10, max_depth = 1, AUC-ROC: 0.7821, Accuracy = 0.2090, F1_Score: 0.3457\n",
      "Fractions: = 0.09, n_estimators = 10, max_depth = 2, AUC-ROC: 0.7841, Accuracy = 0.2090, F1_Score: 0.3457\n",
      "Fractions: = 0.09, n_estimators = 10, max_depth = 3, AUC-ROC: 0.7990, Accuracy = 0.2490, F1_Score: 0.3554\n",
      "Fractions: = 0.09, n_estimators = 10, max_depth = 4, AUC-ROC: 0.7974, Accuracy = 0.3715, F1_Score: 0.3919\n",
      "Fractions: = 0.09, n_estimators = 10, max_depth = 5, AUC-ROC: 0.8228, Accuracy = 0.4355, F1_Score: 0.4117\n",
      "Fractions: = 0.09, n_estimators = 10, max_depth = 6, AUC-ROC: 0.8065, Accuracy = 0.4445, F1_Score: 0.4119\n",
      "Fractions: = 0.09, n_estimators = 10, max_depth = 7, AUC-ROC: 0.8155, Accuracy = 0.5030, F1_Score: 0.4365\n",
      "Fractions: = 0.09, n_estimators = 10, max_depth = 8, AUC-ROC: 0.8014, Accuracy = 0.4975, F1_Score: 0.4363\n",
      "Fractions: = 0.09, n_estimators = 10, max_depth = 9, AUC-ROC: 0.8137, Accuracy = 0.5440, F1_Score: 0.4558\n",
      "Fractions: = 0.09, n_estimators = 10, max_depth = 10, AUC-ROC: 0.7882, Accuracy = 0.5370, F1_Score: 0.4428\n",
      "Fractions: = 0.09, n_estimators = 50, max_depth = 1, AUC-ROC: 0.7849, Accuracy = 0.2090, F1_Score: 0.3457\n",
      "Fractions: = 0.09, n_estimators = 50, max_depth = 2, AUC-ROC: 0.7977, Accuracy = 0.2090, F1_Score: 0.3457\n",
      "Fractions: = 0.09, n_estimators = 50, max_depth = 3, AUC-ROC: 0.8129, Accuracy = 0.2735, F1_Score: 0.3636\n",
      "Fractions: = 0.09, n_estimators = 50, max_depth = 4, AUC-ROC: 0.8134, Accuracy = 0.3895, F1_Score: 0.3994\n",
      "Fractions: = 0.09, n_estimators = 50, max_depth = 5, AUC-ROC: 0.8258, Accuracy = 0.4670, F1_Score: 0.4256\n",
      "Fractions: = 0.09, n_estimators = 50, max_depth = 6, AUC-ROC: 0.8187, Accuracy = 0.4780, F1_Score: 0.4283\n",
      "Fractions: = 0.09, n_estimators = 50, max_depth = 7, AUC-ROC: 0.8317, Accuracy = 0.5120, F1_Score: 0.4423\n",
      "Fractions: = 0.09, n_estimators = 50, max_depth = 8, AUC-ROC: 0.8308, Accuracy = 0.5185, F1_Score: 0.4456\n",
      "Fractions: = 0.09, n_estimators = 50, max_depth = 9, AUC-ROC: 0.8308, Accuracy = 0.5320, F1_Score: 0.4513\n",
      "Fractions: = 0.09, n_estimators = 50, max_depth = 10, AUC-ROC: 0.8230, Accuracy = 0.5415, F1_Score: 0.4558\n",
      "Fractions: = 0.09, n_estimators = 100, max_depth = 1, AUC-ROC: 0.7859, Accuracy = 0.2090, F1_Score: 0.3457\n",
      "Fractions: = 0.09, n_estimators = 100, max_depth = 2, AUC-ROC: 0.7986, Accuracy = 0.2090, F1_Score: 0.3457\n",
      "Fractions: = 0.09, n_estimators = 100, max_depth = 3, AUC-ROC: 0.8128, Accuracy = 0.2780, F1_Score: 0.3661\n",
      "Fractions: = 0.09, n_estimators = 100, max_depth = 4, AUC-ROC: 0.8196, Accuracy = 0.3930, F1_Score: 0.3984\n",
      "Fractions: = 0.09, n_estimators = 100, max_depth = 5, AUC-ROC: 0.8268, Accuracy = 0.4530, F1_Score: 0.4199\n",
      "Fractions: = 0.09, n_estimators = 100, max_depth = 6, AUC-ROC: 0.8251, Accuracy = 0.4790, F1_Score: 0.4281\n",
      "Fractions: = 0.09, n_estimators = 100, max_depth = 7, AUC-ROC: 0.8308, Accuracy = 0.5060, F1_Score: 0.4380\n",
      "Fractions: = 0.09, n_estimators = 100, max_depth = 8, AUC-ROC: 0.8299, Accuracy = 0.5190, F1_Score: 0.4459\n",
      "Fractions: = 0.09, n_estimators = 100, max_depth = 9, AUC-ROC: 0.8314, Accuracy = 0.5315, F1_Score: 0.4536\n",
      "Fractions: = 0.09, n_estimators = 100, max_depth = 10, AUC-ROC: 0.8273, Accuracy = 0.5355, F1_Score: 0.4519\n",
      "Fractions: = 0.09, n_estimators = 200, max_depth = 1, AUC-ROC: 0.7882, Accuracy = 0.2090, F1_Score: 0.3457\n",
      "Fractions: = 0.09, n_estimators = 200, max_depth = 2, AUC-ROC: 0.8034, Accuracy = 0.2090, F1_Score: 0.3457\n",
      "Fractions: = 0.09, n_estimators = 200, max_depth = 3, AUC-ROC: 0.8125, Accuracy = 0.2770, F1_Score: 0.3658\n",
      "Fractions: = 0.09, n_estimators = 200, max_depth = 4, AUC-ROC: 0.8215, Accuracy = 0.3805, F1_Score: 0.3953\n",
      "Fractions: = 0.09, n_estimators = 200, max_depth = 5, AUC-ROC: 0.8255, Accuracy = 0.4445, F1_Score: 0.4186\n",
      "Fractions: = 0.09, n_estimators = 200, max_depth = 6, AUC-ROC: 0.8280, Accuracy = 0.4820, F1_Score: 0.4283\n",
      "Fractions: = 0.09, n_estimators = 200, max_depth = 7, AUC-ROC: 0.8311, Accuracy = 0.4975, F1_Score: 0.4338\n",
      "Fractions: = 0.09, n_estimators = 200, max_depth = 8, AUC-ROC: 0.8310, Accuracy = 0.5165, F1_Score: 0.4433\n",
      "Fractions: = 0.09, n_estimators = 200, max_depth = 9, AUC-ROC: 0.8306, Accuracy = 0.5280, F1_Score: 0.4480\n",
      "Fractions: = 0.09, n_estimators = 200, max_depth = 10, AUC-ROC: 0.8267, Accuracy = 0.5295, F1_Score: 0.4487\n",
      "Fractions: = 0.12, n_estimators = 10, max_depth = 1, AUC-ROC: 0.7568, Accuracy = 0.2090, F1_Score: 0.3457\n",
      "Fractions: = 0.12, n_estimators = 10, max_depth = 2, AUC-ROC: 0.7601, Accuracy = 0.2800, F1_Score: 0.3668\n",
      "Fractions: = 0.12, n_estimators = 10, max_depth = 3, AUC-ROC: 0.7967, Accuracy = 0.3635, F1_Score: 0.3912\n",
      "Fractions: = 0.12, n_estimators = 10, max_depth = 4, AUC-ROC: 0.7979, Accuracy = 0.4830, F1_Score: 0.4300\n",
      "Fractions: = 0.12, n_estimators = 10, max_depth = 5, AUC-ROC: 0.8056, Accuracy = 0.5220, F1_Score: 0.4422\n",
      "Fractions: = 0.12, n_estimators = 10, max_depth = 6, AUC-ROC: 0.8076, Accuracy = 0.5455, F1_Score: 0.4567\n",
      "Fractions: = 0.12, n_estimators = 10, max_depth = 7, AUC-ROC: 0.8037, Accuracy = 0.5595, F1_Score: 0.4552\n",
      "Fractions: = 0.12, n_estimators = 10, max_depth = 8, AUC-ROC: 0.8084, Accuracy = 0.5905, F1_Score: 0.4740\n",
      "Fractions: = 0.12, n_estimators = 10, max_depth = 9, AUC-ROC: 0.8081, Accuracy = 0.5760, F1_Score: 0.4673\n",
      "Fractions: = 0.12, n_estimators = 10, max_depth = 10, AUC-ROC: 0.8168, Accuracy = 0.5990, F1_Score: 0.4731\n",
      "Fractions: = 0.12, n_estimators = 50, max_depth = 1, AUC-ROC: 0.7761, Accuracy = 0.2090, F1_Score: 0.3457\n",
      "Fractions: = 0.12, n_estimators = 50, max_depth = 2, AUC-ROC: 0.7922, Accuracy = 0.3410, F1_Score: 0.3841\n",
      "Fractions: = 0.12, n_estimators = 50, max_depth = 3, AUC-ROC: 0.8114, Accuracy = 0.4785, F1_Score: 0.4285\n",
      "Fractions: = 0.12, n_estimators = 50, max_depth = 4, AUC-ROC: 0.8137, Accuracy = 0.5310, F1_Score: 0.4527\n",
      "Fractions: = 0.12, n_estimators = 50, max_depth = 5, AUC-ROC: 0.8198, Accuracy = 0.5360, F1_Score: 0.4502\n",
      "Fractions: = 0.12, n_estimators = 50, max_depth = 6, AUC-ROC: 0.8269, Accuracy = 0.5570, F1_Score: 0.4591\n",
      "Fractions: = 0.12, n_estimators = 50, max_depth = 7, AUC-ROC: 0.8271, Accuracy = 0.5755, F1_Score: 0.4670\n",
      "Fractions: = 0.12, n_estimators = 50, max_depth = 8, AUC-ROC: 0.8292, Accuracy = 0.6065, F1_Score: 0.4860\n",
      "Fractions: = 0.12, n_estimators = 50, max_depth = 9, AUC-ROC: 0.8246, Accuracy = 0.5985, F1_Score: 0.4776\n",
      "Fractions: = 0.12, n_estimators = 50, max_depth = 10, AUC-ROC: 0.8278, Accuracy = 0.6070, F1_Score: 0.4802\n",
      "Fractions: = 0.12, n_estimators = 100, max_depth = 1, AUC-ROC: 0.7789, Accuracy = 0.2090, F1_Score: 0.3457\n",
      "Fractions: = 0.12, n_estimators = 100, max_depth = 2, AUC-ROC: 0.7976, Accuracy = 0.3310, F1_Score: 0.3817\n",
      "Fractions: = 0.12, n_estimators = 100, max_depth = 3, AUC-ROC: 0.8115, Accuracy = 0.4685, F1_Score: 0.4238\n",
      "Fractions: = 0.12, n_estimators = 100, max_depth = 4, AUC-ROC: 0.8169, Accuracy = 0.5260, F1_Score: 0.4495\n",
      "Fractions: = 0.12, n_estimators = 100, max_depth = 5, AUC-ROC: 0.8260, Accuracy = 0.5415, F1_Score: 0.4532\n",
      "Fractions: = 0.12, n_estimators = 100, max_depth = 6, AUC-ROC: 0.8293, Accuracy = 0.5595, F1_Score: 0.4598\n",
      "Fractions: = 0.12, n_estimators = 100, max_depth = 7, AUC-ROC: 0.8293, Accuracy = 0.5805, F1_Score: 0.4700\n",
      "Fractions: = 0.12, n_estimators = 100, max_depth = 8, AUC-ROC: 0.8309, Accuracy = 0.5950, F1_Score: 0.4774\n",
      "Fractions: = 0.12, n_estimators = 100, max_depth = 9, AUC-ROC: 0.8284, Accuracy = 0.5930, F1_Score: 0.4769\n",
      "Fractions: = 0.12, n_estimators = 100, max_depth = 10, AUC-ROC: 0.8275, Accuracy = 0.6080, F1_Score: 0.4849\n",
      "Fractions: = 0.12, n_estimators = 200, max_depth = 1, AUC-ROC: 0.7878, Accuracy = 0.2090, F1_Score: 0.3457\n",
      "Fractions: = 0.12, n_estimators = 200, max_depth = 2, AUC-ROC: 0.8010, Accuracy = 0.2990, F1_Score: 0.3707\n",
      "Fractions: = 0.12, n_estimators = 200, max_depth = 3, AUC-ROC: 0.8127, Accuracy = 0.4440, F1_Score: 0.4147\n",
      "Fractions: = 0.12, n_estimators = 200, max_depth = 4, AUC-ROC: 0.8200, Accuracy = 0.5240, F1_Score: 0.4484\n",
      "Fractions: = 0.12, n_estimators = 200, max_depth = 5, AUC-ROC: 0.8272, Accuracy = 0.5460, F1_Score: 0.4576\n",
      "Fractions: = 0.12, n_estimators = 200, max_depth = 6, AUC-ROC: 0.8297, Accuracy = 0.5630, F1_Score: 0.4618\n",
      "Fractions: = 0.12, n_estimators = 200, max_depth = 7, AUC-ROC: 0.8306, Accuracy = 0.5835, F1_Score: 0.4704\n",
      "Fractions: = 0.12, n_estimators = 200, max_depth = 8, AUC-ROC: 0.8329, Accuracy = 0.5980, F1_Score: 0.4806\n",
      "Fractions: = 0.12, n_estimators = 200, max_depth = 9, AUC-ROC: 0.8303, Accuracy = 0.6055, F1_Score: 0.4826\n",
      "Fractions: = 0.12, n_estimators = 200, max_depth = 10, AUC-ROC: 0.8286, Accuracy = 0.6085, F1_Score: 0.4845\n",
      "Fractions: = 0.15, n_estimators = 10, max_depth = 1, AUC-ROC: 0.7853, Accuracy = 0.2295, F1_Score: 0.3512\n",
      "Fractions: = 0.15, n_estimators = 10, max_depth = 2, AUC-ROC: 0.8040, Accuracy = 0.3780, F1_Score: 0.3932\n",
      "Fractions: = 0.15, n_estimators = 10, max_depth = 3, AUC-ROC: 0.8206, Accuracy = 0.5590, F1_Score: 0.4602\n",
      "Fractions: = 0.15, n_estimators = 10, max_depth = 4, AUC-ROC: 0.8196, Accuracy = 0.6275, F1_Score: 0.4949\n",
      "Fractions: = 0.15, n_estimators = 10, max_depth = 5, AUC-ROC: 0.8187, Accuracy = 0.6260, F1_Score: 0.4877\n",
      "Fractions: = 0.15, n_estimators = 10, max_depth = 6, AUC-ROC: 0.8156, Accuracy = 0.6480, F1_Score: 0.5000\n",
      "Fractions: = 0.15, n_estimators = 10, max_depth = 7, AUC-ROC: 0.8209, Accuracy = 0.6410, F1_Score: 0.4965\n",
      "Fractions: = 0.15, n_estimators = 10, max_depth = 8, AUC-ROC: 0.8194, Accuracy = 0.6575, F1_Score: 0.5097\n",
      "Fractions: = 0.15, n_estimators = 10, max_depth = 9, AUC-ROC: 0.8103, Accuracy = 0.6365, F1_Score: 0.4862\n",
      "Fractions: = 0.15, n_estimators = 10, max_depth = 10, AUC-ROC: 0.8007, Accuracy = 0.6510, F1_Score: 0.4927\n",
      "Fractions: = 0.15, n_estimators = 50, max_depth = 1, AUC-ROC: 0.7903, Accuracy = 0.2090, F1_Score: 0.3457\n",
      "Fractions: = 0.15, n_estimators = 50, max_depth = 2, AUC-ROC: 0.8083, Accuracy = 0.5200, F1_Score: 0.4432\n",
      "Fractions: = 0.15, n_estimators = 50, max_depth = 3, AUC-ROC: 0.8228, Accuracy = 0.5660, F1_Score: 0.4555\n",
      "Fractions: = 0.15, n_estimators = 50, max_depth = 4, AUC-ROC: 0.8212, Accuracy = 0.6100, F1_Score: 0.4800\n",
      "Fractions: = 0.15, n_estimators = 50, max_depth = 5, AUC-ROC: 0.8278, Accuracy = 0.6215, F1_Score: 0.4875\n",
      "Fractions: = 0.15, n_estimators = 50, max_depth = 6, AUC-ROC: 0.8371, Accuracy = 0.6430, F1_Score: 0.5055\n",
      "Fractions: = 0.15, n_estimators = 50, max_depth = 7, AUC-ROC: 0.8331, Accuracy = 0.6575, F1_Score: 0.5083\n",
      "Fractions: = 0.15, n_estimators = 50, max_depth = 8, AUC-ROC: 0.8321, Accuracy = 0.6715, F1_Score: 0.5215\n",
      "Fractions: = 0.15, n_estimators = 50, max_depth = 9, AUC-ROC: 0.8269, Accuracy = 0.6615, F1_Score: 0.5147\n",
      "Fractions: = 0.15, n_estimators = 50, max_depth = 10, AUC-ROC: 0.8264, Accuracy = 0.6745, F1_Score: 0.5188\n",
      "Fractions: = 0.15, n_estimators = 100, max_depth = 1, AUC-ROC: 0.8003, Accuracy = 0.2090, F1_Score: 0.3457\n",
      "Fractions: = 0.15, n_estimators = 100, max_depth = 2, AUC-ROC: 0.8125, Accuracy = 0.4835, F1_Score: 0.4296\n",
      "Fractions: = 0.15, n_estimators = 100, max_depth = 3, AUC-ROC: 0.8235, Accuracy = 0.5665, F1_Score: 0.4564\n",
      "Fractions: = 0.15, n_estimators = 100, max_depth = 4, AUC-ROC: 0.8233, Accuracy = 0.6095, F1_Score: 0.4818\n",
      "Fractions: = 0.15, n_estimators = 100, max_depth = 5, AUC-ROC: 0.8309, Accuracy = 0.6375, F1_Score: 0.4969\n",
      "Fractions: = 0.15, n_estimators = 100, max_depth = 6, AUC-ROC: 0.8391, Accuracy = 0.6520, F1_Score: 0.5085\n",
      "Fractions: = 0.15, n_estimators = 100, max_depth = 7, AUC-ROC: 0.8372, Accuracy = 0.6590, F1_Score: 0.5129\n",
      "Fractions: = 0.15, n_estimators = 100, max_depth = 8, AUC-ROC: 0.8386, Accuracy = 0.6745, F1_Score: 0.5252\n",
      "Fractions: = 0.15, n_estimators = 100, max_depth = 9, AUC-ROC: 0.8324, Accuracy = 0.6690, F1_Score: 0.5182\n",
      "Fractions: = 0.15, n_estimators = 100, max_depth = 10, AUC-ROC: 0.8340, Accuracy = 0.6720, F1_Score: 0.5162\n",
      "Fractions: = 0.15, n_estimators = 200, max_depth = 1, AUC-ROC: 0.8023, Accuracy = 0.2090, F1_Score: 0.3457\n",
      "Fractions: = 0.15, n_estimators = 200, max_depth = 2, AUC-ROC: 0.8155, Accuracy = 0.4435, F1_Score: 0.4133\n",
      "Fractions: = 0.15, n_estimators = 200, max_depth = 3, AUC-ROC: 0.8240, Accuracy = 0.5560, F1_Score: 0.4585\n",
      "Fractions: = 0.15, n_estimators = 200, max_depth = 4, AUC-ROC: 0.8254, Accuracy = 0.6125, F1_Score: 0.4830\n",
      "Fractions: = 0.15, n_estimators = 200, max_depth = 5, AUC-ROC: 0.8319, Accuracy = 0.6305, F1_Score: 0.4928\n",
      "Fractions: = 0.15, n_estimators = 200, max_depth = 6, AUC-ROC: 0.8370, Accuracy = 0.6465, F1_Score: 0.5046\n",
      "Fractions: = 0.15, n_estimators = 200, max_depth = 7, AUC-ROC: 0.8371, Accuracy = 0.6535, F1_Score: 0.5082\n",
      "Fractions: = 0.15, n_estimators = 200, max_depth = 8, AUC-ROC: 0.8378, Accuracy = 0.6700, F1_Score: 0.5203\n",
      "Fractions: = 0.15, n_estimators = 200, max_depth = 9, AUC-ROC: 0.8334, Accuracy = 0.6780, F1_Score: 0.5258\n",
      "Fractions: = 0.15, n_estimators = 200, max_depth = 10, AUC-ROC: 0.8312, Accuracy = 0.6695, F1_Score: 0.5129\n",
      "Fractions: = 0.18, n_estimators = 10, max_depth = 1, AUC-ROC: 0.7646, Accuracy = 0.4160, F1_Score: 0.4023\n",
      "Fractions: = 0.18, n_estimators = 10, max_depth = 2, AUC-ROC: 0.7837, Accuracy = 0.5130, F1_Score: 0.4402\n",
      "Fractions: = 0.18, n_estimators = 10, max_depth = 3, AUC-ROC: 0.7966, Accuracy = 0.6230, F1_Score: 0.4807\n",
      "Fractions: = 0.18, n_estimators = 10, max_depth = 4, AUC-ROC: 0.8102, Accuracy = 0.6695, F1_Score: 0.5019\n",
      "Fractions: = 0.18, n_estimators = 10, max_depth = 5, AUC-ROC: 0.8157, Accuracy = 0.6685, F1_Score: 0.5136\n",
      "Fractions: = 0.18, n_estimators = 10, max_depth = 6, AUC-ROC: 0.8218, Accuracy = 0.7010, F1_Score: 0.5239\n",
      "Fractions: = 0.18, n_estimators = 10, max_depth = 7, AUC-ROC: 0.8035, Accuracy = 0.6960, F1_Score: 0.5213\n",
      "Fractions: = 0.18, n_estimators = 10, max_depth = 8, AUC-ROC: 0.8124, Accuracy = 0.7040, F1_Score: 0.5272\n",
      "Fractions: = 0.18, n_estimators = 10, max_depth = 9, AUC-ROC: 0.8104, Accuracy = 0.6940, F1_Score: 0.5189\n",
      "Fractions: = 0.18, n_estimators = 10, max_depth = 10, AUC-ROC: 0.8099, Accuracy = 0.6890, F1_Score: 0.5118\n",
      "Fractions: = 0.18, n_estimators = 50, max_depth = 1, AUC-ROC: 0.7856, Accuracy = 0.5385, F1_Score: 0.4463\n",
      "Fractions: = 0.18, n_estimators = 50, max_depth = 2, AUC-ROC: 0.8085, Accuracy = 0.5890, F1_Score: 0.4634\n",
      "Fractions: = 0.18, n_estimators = 50, max_depth = 3, AUC-ROC: 0.8202, Accuracy = 0.6390, F1_Score: 0.4879\n",
      "Fractions: = 0.18, n_estimators = 50, max_depth = 4, AUC-ROC: 0.8246, Accuracy = 0.6765, F1_Score: 0.5161\n",
      "Fractions: = 0.18, n_estimators = 50, max_depth = 5, AUC-ROC: 0.8311, Accuracy = 0.6755, F1_Score: 0.5124\n",
      "Fractions: = 0.18, n_estimators = 50, max_depth = 6, AUC-ROC: 0.8372, Accuracy = 0.6980, F1_Score: 0.5318\n",
      "Fractions: = 0.18, n_estimators = 50, max_depth = 7, AUC-ROC: 0.8340, Accuracy = 0.6950, F1_Score: 0.5286\n",
      "Fractions: = 0.18, n_estimators = 50, max_depth = 8, AUC-ROC: 0.8374, Accuracy = 0.7160, F1_Score: 0.5434\n",
      "Fractions: = 0.18, n_estimators = 50, max_depth = 9, AUC-ROC: 0.8332, Accuracy = 0.7125, F1_Score: 0.5367\n",
      "Fractions: = 0.18, n_estimators = 50, max_depth = 10, AUC-ROC: 0.8307, Accuracy = 0.7065, F1_Score: 0.5285\n",
      "Fractions: = 0.18, n_estimators = 100, max_depth = 1, AUC-ROC: 0.7960, Accuracy = 0.4585, F1_Score: 0.4193\n",
      "Fractions: = 0.18, n_estimators = 100, max_depth = 2, AUC-ROC: 0.8124, Accuracy = 0.5765, F1_Score: 0.4574\n",
      "Fractions: = 0.18, n_estimators = 100, max_depth = 3, AUC-ROC: 0.8230, Accuracy = 0.6305, F1_Score: 0.4879\n",
      "Fractions: = 0.18, n_estimators = 100, max_depth = 4, AUC-ROC: 0.8280, Accuracy = 0.6750, F1_Score: 0.5156\n",
      "Fractions: = 0.18, n_estimators = 100, max_depth = 5, AUC-ROC: 0.8329, Accuracy = 0.6805, F1_Score: 0.5177\n",
      "Fractions: = 0.18, n_estimators = 100, max_depth = 6, AUC-ROC: 0.8387, Accuracy = 0.6940, F1_Score: 0.5270\n",
      "Fractions: = 0.18, n_estimators = 100, max_depth = 7, AUC-ROC: 0.8383, Accuracy = 0.6965, F1_Score: 0.5298\n",
      "Fractions: = 0.18, n_estimators = 100, max_depth = 8, AUC-ROC: 0.8386, Accuracy = 0.7125, F1_Score: 0.5418\n",
      "Fractions: = 0.18, n_estimators = 100, max_depth = 9, AUC-ROC: 0.8395, Accuracy = 0.7150, F1_Score: 0.5388\n",
      "Fractions: = 0.18, n_estimators = 100, max_depth = 10, AUC-ROC: 0.8369, Accuracy = 0.7180, F1_Score: 0.5422\n",
      "Fractions: = 0.18, n_estimators = 200, max_depth = 1, AUC-ROC: 0.8028, Accuracy = 0.3635, F1_Score: 0.3883\n",
      "Fractions: = 0.18, n_estimators = 200, max_depth = 2, AUC-ROC: 0.8160, Accuracy = 0.5660, F1_Score: 0.4548\n",
      "Fractions: = 0.18, n_estimators = 200, max_depth = 3, AUC-ROC: 0.8238, Accuracy = 0.6235, F1_Score: 0.4825\n",
      "Fractions: = 0.18, n_estimators = 200, max_depth = 4, AUC-ROC: 0.8312, Accuracy = 0.6705, F1_Score: 0.5129\n",
      "Fractions: = 0.18, n_estimators = 200, max_depth = 5, AUC-ROC: 0.8345, Accuracy = 0.6775, F1_Score: 0.5169\n",
      "Fractions: = 0.18, n_estimators = 200, max_depth = 6, AUC-ROC: 0.8399, Accuracy = 0.6980, F1_Score: 0.5347\n",
      "Fractions: = 0.18, n_estimators = 200, max_depth = 7, AUC-ROC: 0.8398, Accuracy = 0.6990, F1_Score: 0.5326\n",
      "Fractions: = 0.18, n_estimators = 200, max_depth = 8, AUC-ROC: 0.8413, Accuracy = 0.7135, F1_Score: 0.5434\n",
      "Fractions: = 0.18, n_estimators = 200, max_depth = 9, AUC-ROC: 0.8412, Accuracy = 0.7150, F1_Score: 0.5411\n",
      "Fractions: = 0.18, n_estimators = 200, max_depth = 10, AUC-ROC: 0.8386, Accuracy = 0.7155, F1_Score: 0.5415\n",
      "Fractions: = 0.21, n_estimators = 10, max_depth = 1, AUC-ROC: 0.7905, Accuracy = 0.6420, F1_Score: 0.4878\n",
      "Fractions: = 0.21, n_estimators = 10, max_depth = 2, AUC-ROC: 0.7956, Accuracy = 0.6590, F1_Score: 0.5000\n",
      "Fractions: = 0.21, n_estimators = 10, max_depth = 3, AUC-ROC: 0.8213, Accuracy = 0.7170, F1_Score: 0.5353\n",
      "Fractions: = 0.21, n_estimators = 10, max_depth = 4, AUC-ROC: 0.8098, Accuracy = 0.7015, F1_Score: 0.5182\n",
      "Fractions: = 0.21, n_estimators = 10, max_depth = 5, AUC-ROC: 0.8194, Accuracy = 0.7215, F1_Score: 0.5378\n",
      "Fractions: = 0.21, n_estimators = 10, max_depth = 6, AUC-ROC: 0.8314, Accuracy = 0.7305, F1_Score: 0.5512\n",
      "Fractions: = 0.21, n_estimators = 10, max_depth = 7, AUC-ROC: 0.8280, Accuracy = 0.7415, F1_Score: 0.5570\n",
      "Fractions: = 0.21, n_estimators = 10, max_depth = 8, AUC-ROC: 0.8253, Accuracy = 0.7460, F1_Score: 0.5464\n",
      "Fractions: = 0.21, n_estimators = 10, max_depth = 9, AUC-ROC: 0.8241, Accuracy = 0.7370, F1_Score: 0.5481\n",
      "Fractions: = 0.21, n_estimators = 10, max_depth = 10, AUC-ROC: 0.8260, Accuracy = 0.7360, F1_Score: 0.5495\n",
      "Fractions: = 0.21, n_estimators = 50, max_depth = 1, AUC-ROC: 0.7916, Accuracy = 0.5980, F1_Score: 0.4675\n",
      "Fractions: = 0.21, n_estimators = 50, max_depth = 2, AUC-ROC: 0.8094, Accuracy = 0.6625, F1_Score: 0.5040\n",
      "Fractions: = 0.21, n_estimators = 50, max_depth = 3, AUC-ROC: 0.8204, Accuracy = 0.6685, F1_Score: 0.5071\n",
      "Fractions: = 0.21, n_estimators = 50, max_depth = 4, AUC-ROC: 0.8249, Accuracy = 0.7065, F1_Score: 0.5308\n",
      "Fractions: = 0.21, n_estimators = 50, max_depth = 5, AUC-ROC: 0.8325, Accuracy = 0.7270, F1_Score: 0.5502\n",
      "Fractions: = 0.21, n_estimators = 50, max_depth = 6, AUC-ROC: 0.8398, Accuracy = 0.7250, F1_Score: 0.5439\n",
      "Fractions: = 0.21, n_estimators = 50, max_depth = 7, AUC-ROC: 0.8396, Accuracy = 0.7425, F1_Score: 0.5610\n",
      "Fractions: = 0.21, n_estimators = 50, max_depth = 8, AUC-ROC: 0.8397, Accuracy = 0.7520, F1_Score: 0.5657\n",
      "Fractions: = 0.21, n_estimators = 50, max_depth = 9, AUC-ROC: 0.8391, Accuracy = 0.7530, F1_Score: 0.5682\n",
      "Fractions: = 0.21, n_estimators = 50, max_depth = 10, AUC-ROC: 0.8341, Accuracy = 0.7370, F1_Score: 0.5512\n",
      "Fractions: = 0.21, n_estimators = 100, max_depth = 1, AUC-ROC: 0.7921, Accuracy = 0.5630, F1_Score: 0.4510\n",
      "Fractions: = 0.21, n_estimators = 100, max_depth = 2, AUC-ROC: 0.8120, Accuracy = 0.6440, F1_Score: 0.4929\n",
      "Fractions: = 0.21, n_estimators = 100, max_depth = 3, AUC-ROC: 0.8244, Accuracy = 0.6820, F1_Score: 0.5182\n",
      "Fractions: = 0.21, n_estimators = 100, max_depth = 4, AUC-ROC: 0.8285, Accuracy = 0.7025, F1_Score: 0.5282\n",
      "Fractions: = 0.21, n_estimators = 100, max_depth = 5, AUC-ROC: 0.8358, Accuracy = 0.7255, F1_Score: 0.5511\n",
      "Fractions: = 0.21, n_estimators = 100, max_depth = 6, AUC-ROC: 0.8397, Accuracy = 0.7280, F1_Score: 0.5489\n",
      "Fractions: = 0.21, n_estimators = 100, max_depth = 7, AUC-ROC: 0.8406, Accuracy = 0.7455, F1_Score: 0.5608\n",
      "Fractions: = 0.21, n_estimators = 100, max_depth = 8, AUC-ROC: 0.8421, Accuracy = 0.7460, F1_Score: 0.5613\n",
      "Fractions: = 0.21, n_estimators = 100, max_depth = 9, AUC-ROC: 0.8417, Accuracy = 0.7520, F1_Score: 0.5649\n",
      "Fractions: = 0.21, n_estimators = 100, max_depth = 10, AUC-ROC: 0.8402, Accuracy = 0.7515, F1_Score: 0.5644\n",
      "Fractions: = 0.21, n_estimators = 200, max_depth = 1, AUC-ROC: 0.7975, Accuracy = 0.5590, F1_Score: 0.4494\n",
      "Fractions: = 0.21, n_estimators = 200, max_depth = 2, AUC-ROC: 0.8150, Accuracy = 0.6445, F1_Score: 0.4932\n",
      "Fractions: = 0.21, n_estimators = 200, max_depth = 3, AUC-ROC: 0.8254, Accuracy = 0.6835, F1_Score: 0.5186\n",
      "Fractions: = 0.21, n_estimators = 200, max_depth = 4, AUC-ROC: 0.8307, Accuracy = 0.7050, F1_Score: 0.5332\n",
      "Fractions: = 0.21, n_estimators = 200, max_depth = 5, AUC-ROC: 0.8353, Accuracy = 0.7215, F1_Score: 0.5468\n",
      "Fractions: = 0.21, n_estimators = 200, max_depth = 6, AUC-ROC: 0.8388, Accuracy = 0.7330, F1_Score: 0.5535\n",
      "Fractions: = 0.21, n_estimators = 200, max_depth = 7, AUC-ROC: 0.8414, Accuracy = 0.7405, F1_Score: 0.5605\n",
      "Fractions: = 0.21, n_estimators = 200, max_depth = 8, AUC-ROC: 0.8437, Accuracy = 0.7500, F1_Score: 0.5660\n",
      "Fractions: = 0.21, n_estimators = 200, max_depth = 9, AUC-ROC: 0.8425, Accuracy = 0.7510, F1_Score: 0.5677\n",
      "Fractions: = 0.21, n_estimators = 200, max_depth = 10, AUC-ROC: 0.8411, Accuracy = 0.7495, F1_Score: 0.5617\n",
      "Fractions: = 0.24, n_estimators = 10, max_depth = 1, AUC-ROC: 0.7893, Accuracy = 0.6825, F1_Score: 0.5035\n",
      "Fractions: = 0.24, n_estimators = 10, max_depth = 2, AUC-ROC: 0.7939, Accuracy = 0.7315, F1_Score: 0.5285\n",
      "Fractions: = 0.24, n_estimators = 10, max_depth = 3, AUC-ROC: 0.8155, Accuracy = 0.7315, F1_Score: 0.5398\n",
      "Fractions: = 0.24, n_estimators = 10, max_depth = 4, AUC-ROC: 0.8149, Accuracy = 0.7265, F1_Score: 0.5368\n",
      "Fractions: = 0.24, n_estimators = 10, max_depth = 5, AUC-ROC: 0.8202, Accuracy = 0.7440, F1_Score: 0.5461\n",
      "Fractions: = 0.24, n_estimators = 10, max_depth = 6, AUC-ROC: 0.8326, Accuracy = 0.7710, F1_Score: 0.5695\n",
      "Fractions: = 0.24, n_estimators = 10, max_depth = 7, AUC-ROC: 0.8345, Accuracy = 0.7640, F1_Score: 0.5638\n",
      "Fractions: = 0.24, n_estimators = 10, max_depth = 8, AUC-ROC: 0.8260, Accuracy = 0.7530, F1_Score: 0.5525\n",
      "Fractions: = 0.24, n_estimators = 10, max_depth = 9, AUC-ROC: 0.8212, Accuracy = 0.7585, F1_Score: 0.5605\n",
      "Fractions: = 0.24, n_estimators = 10, max_depth = 10, AUC-ROC: 0.8280, Accuracy = 0.7570, F1_Score: 0.5598\n",
      "Fractions: = 0.24, n_estimators = 50, max_depth = 1, AUC-ROC: 0.7955, Accuracy = 0.7295, F1_Score: 0.5308\n",
      "Fractions: = 0.24, n_estimators = 50, max_depth = 2, AUC-ROC: 0.8107, Accuracy = 0.7495, F1_Score: 0.5586\n",
      "Fractions: = 0.24, n_estimators = 50, max_depth = 3, AUC-ROC: 0.8225, Accuracy = 0.7400, F1_Score: 0.5517\n",
      "Fractions: = 0.24, n_estimators = 50, max_depth = 4, AUC-ROC: 0.8278, Accuracy = 0.7605, F1_Score: 0.5673\n",
      "Fractions: = 0.24, n_estimators = 50, max_depth = 5, AUC-ROC: 0.8330, Accuracy = 0.7625, F1_Score: 0.5694\n",
      "Fractions: = 0.24, n_estimators = 50, max_depth = 6, AUC-ROC: 0.8374, Accuracy = 0.7675, F1_Score: 0.5777\n",
      "Fractions: = 0.24, n_estimators = 50, max_depth = 7, AUC-ROC: 0.8420, Accuracy = 0.7765, F1_Score: 0.5819\n",
      "Fractions: = 0.24, n_estimators = 50, max_depth = 8, AUC-ROC: 0.8414, Accuracy = 0.7720, F1_Score: 0.5754\n",
      "Fractions: = 0.24, n_estimators = 50, max_depth = 9, AUC-ROC: 0.8378, Accuracy = 0.7780, F1_Score: 0.5819\n",
      "Fractions: = 0.24, n_estimators = 50, max_depth = 10, AUC-ROC: 0.8355, Accuracy = 0.7575, F1_Score: 0.5595\n",
      "Fractions: = 0.24, n_estimators = 100, max_depth = 1, AUC-ROC: 0.7997, Accuracy = 0.7215, F1_Score: 0.5323\n",
      "Fractions: = 0.24, n_estimators = 100, max_depth = 2, AUC-ROC: 0.8138, Accuracy = 0.7315, F1_Score: 0.5484\n",
      "Fractions: = 0.24, n_estimators = 100, max_depth = 3, AUC-ROC: 0.8268, Accuracy = 0.7410, F1_Score: 0.5550\n",
      "Fractions: = 0.24, n_estimators = 100, max_depth = 4, AUC-ROC: 0.8301, Accuracy = 0.7665, F1_Score: 0.5720\n",
      "Fractions: = 0.24, n_estimators = 100, max_depth = 5, AUC-ROC: 0.8351, Accuracy = 0.7715, F1_Score: 0.5796\n",
      "Fractions: = 0.24, n_estimators = 100, max_depth = 6, AUC-ROC: 0.8405, Accuracy = 0.7705, F1_Score: 0.5785\n",
      "Fractions: = 0.24, n_estimators = 100, max_depth = 7, AUC-ROC: 0.8449, Accuracy = 0.7775, F1_Score: 0.5837\n",
      "Fractions: = 0.24, n_estimators = 100, max_depth = 8, AUC-ROC: 0.8426, Accuracy = 0.7790, F1_Score: 0.5846\n",
      "Fractions: = 0.24, n_estimators = 100, max_depth = 9, AUC-ROC: 0.8413, Accuracy = 0.7790, F1_Score: 0.5798\n",
      "Fractions: = 0.24, n_estimators = 100, max_depth = 10, AUC-ROC: 0.8371, Accuracy = 0.7655, F1_Score: 0.5669\n",
      "Fractions: = 0.24, n_estimators = 200, max_depth = 1, AUC-ROC: 0.8037, Accuracy = 0.7060, F1_Score: 0.5281\n",
      "Fractions: = 0.24, n_estimators = 200, max_depth = 2, AUC-ROC: 0.8166, Accuracy = 0.7340, F1_Score: 0.5507\n",
      "Fractions: = 0.24, n_estimators = 200, max_depth = 3, AUC-ROC: 0.8269, Accuracy = 0.7355, F1_Score: 0.5513\n",
      "Fractions: = 0.24, n_estimators = 200, max_depth = 4, AUC-ROC: 0.8335, Accuracy = 0.7635, F1_Score: 0.5727\n",
      "Fractions: = 0.24, n_estimators = 200, max_depth = 5, AUC-ROC: 0.8376, Accuracy = 0.7655, F1_Score: 0.5748\n",
      "Fractions: = 0.24, n_estimators = 200, max_depth = 6, AUC-ROC: 0.8434, Accuracy = 0.7770, F1_Score: 0.5878\n",
      "Fractions: = 0.24, n_estimators = 200, max_depth = 7, AUC-ROC: 0.8444, Accuracy = 0.7785, F1_Score: 0.5864\n",
      "Fractions: = 0.24, n_estimators = 200, max_depth = 8, AUC-ROC: 0.8441, Accuracy = 0.7760, F1_Score: 0.5821\n",
      "Fractions: = 0.24, n_estimators = 200, max_depth = 9, AUC-ROC: 0.8422, Accuracy = 0.7780, F1_Score: 0.5835\n",
      "Fractions: = 0.24, n_estimators = 200, max_depth = 10, AUC-ROC: 0.8406, Accuracy = 0.7695, F1_Score: 0.5712\n",
      "Fractions: = 0.27, n_estimators = 10, max_depth = 1, AUC-ROC: 0.7604, Accuracy = 0.7700, F1_Score: 0.5137\n",
      "Fractions: = 0.27, n_estimators = 10, max_depth = 2, AUC-ROC: 0.7808, Accuracy = 0.7735, F1_Score: 0.5237\n",
      "Fractions: = 0.27, n_estimators = 10, max_depth = 3, AUC-ROC: 0.8116, Accuracy = 0.8055, F1_Score: 0.5795\n",
      "Fractions: = 0.27, n_estimators = 10, max_depth = 4, AUC-ROC: 0.8099, Accuracy = 0.7810, F1_Score: 0.5447\n",
      "Fractions: = 0.27, n_estimators = 10, max_depth = 5, AUC-ROC: 0.8248, Accuracy = 0.7860, F1_Score: 0.5804\n",
      "Fractions: = 0.27, n_estimators = 10, max_depth = 6, AUC-ROC: 0.8170, Accuracy = 0.7875, F1_Score: 0.5694\n",
      "Fractions: = 0.27, n_estimators = 10, max_depth = 7, AUC-ROC: 0.8274, Accuracy = 0.7800, F1_Score: 0.5753\n",
      "Fractions: = 0.27, n_estimators = 10, max_depth = 8, AUC-ROC: 0.8277, Accuracy = 0.7790, F1_Score: 0.5742\n",
      "Fractions: = 0.27, n_estimators = 10, max_depth = 9, AUC-ROC: 0.8262, Accuracy = 0.7775, F1_Score: 0.5733\n",
      "Fractions: = 0.27, n_estimators = 10, max_depth = 10, AUC-ROC: 0.8244, Accuracy = 0.7805, F1_Score: 0.5675\n",
      "Fractions: = 0.27, n_estimators = 50, max_depth = 1, AUC-ROC: 0.7873, Accuracy = 0.7560, F1_Score: 0.5253\n",
      "Fractions: = 0.27, n_estimators = 50, max_depth = 2, AUC-ROC: 0.8092, Accuracy = 0.7875, F1_Score: 0.5677\n",
      "Fractions: = 0.27, n_estimators = 50, max_depth = 3, AUC-ROC: 0.8234, Accuracy = 0.7865, F1_Score: 0.5785\n",
      "Fractions: = 0.27, n_estimators = 50, max_depth = 4, AUC-ROC: 0.8268, Accuracy = 0.7995, F1_Score: 0.5945\n",
      "Fractions: = 0.27, n_estimators = 50, max_depth = 5, AUC-ROC: 0.8369, Accuracy = 0.7995, F1_Score: 0.5978\n",
      "Fractions: = 0.27, n_estimators = 50, max_depth = 6, AUC-ROC: 0.8388, Accuracy = 0.7890, F1_Score: 0.5879\n",
      "Fractions: = 0.27, n_estimators = 50, max_depth = 7, AUC-ROC: 0.8461, Accuracy = 0.7995, F1_Score: 0.6034\n",
      "Fractions: = 0.27, n_estimators = 50, max_depth = 8, AUC-ROC: 0.8416, Accuracy = 0.7960, F1_Score: 0.5976\n",
      "Fractions: = 0.27, n_estimators = 50, max_depth = 9, AUC-ROC: 0.8428, Accuracy = 0.7970, F1_Score: 0.5964\n",
      "Fractions: = 0.27, n_estimators = 50, max_depth = 10, AUC-ROC: 0.8462, Accuracy = 0.7965, F1_Score: 0.5910\n",
      "Fractions: = 0.27, n_estimators = 100, max_depth = 1, AUC-ROC: 0.7995, Accuracy = 0.7725, F1_Score: 0.5526\n",
      "Fractions: = 0.27, n_estimators = 100, max_depth = 2, AUC-ROC: 0.8145, Accuracy = 0.7900, F1_Score: 0.5740\n",
      "Fractions: = 0.27, n_estimators = 100, max_depth = 3, AUC-ROC: 0.8271, Accuracy = 0.7885, F1_Score: 0.5849\n",
      "Fractions: = 0.27, n_estimators = 100, max_depth = 4, AUC-ROC: 0.8300, Accuracy = 0.7975, F1_Score: 0.5946\n",
      "Fractions: = 0.27, n_estimators = 100, max_depth = 5, AUC-ROC: 0.8383, Accuracy = 0.7990, F1_Score: 0.5996\n",
      "Fractions: = 0.27, n_estimators = 100, max_depth = 6, AUC-ROC: 0.8407, Accuracy = 0.7940, F1_Score: 0.5929\n",
      "Fractions: = 0.27, n_estimators = 100, max_depth = 7, AUC-ROC: 0.8452, Accuracy = 0.8015, F1_Score: 0.6104\n",
      "Fractions: = 0.27, n_estimators = 100, max_depth = 8, AUC-ROC: 0.8450, Accuracy = 0.7955, F1_Score: 0.5970\n",
      "Fractions: = 0.27, n_estimators = 100, max_depth = 9, AUC-ROC: 0.8471, Accuracy = 0.8035, F1_Score: 0.6066\n",
      "Fractions: = 0.27, n_estimators = 100, max_depth = 10, AUC-ROC: 0.8467, Accuracy = 0.7945, F1_Score: 0.5951\n",
      "Fractions: = 0.27, n_estimators = 200, max_depth = 1, AUC-ROC: 0.8068, Accuracy = 0.8025, F1_Score: 0.5702\n",
      "Fractions: = 0.27, n_estimators = 200, max_depth = 2, AUC-ROC: 0.8185, Accuracy = 0.7925, F1_Score: 0.5812\n",
      "Fractions: = 0.27, n_estimators = 200, max_depth = 3, AUC-ROC: 0.8282, Accuracy = 0.7935, F1_Score: 0.5915\n",
      "Fractions: = 0.27, n_estimators = 200, max_depth = 4, AUC-ROC: 0.8346, Accuracy = 0.8005, F1_Score: 0.6014\n",
      "Fractions: = 0.27, n_estimators = 200, max_depth = 5, AUC-ROC: 0.8408, Accuracy = 0.8025, F1_Score: 0.6022\n",
      "Fractions: = 0.27, n_estimators = 200, max_depth = 6, AUC-ROC: 0.8433, Accuracy = 0.7990, F1_Score: 0.5996\n",
      "Fractions: = 0.27, n_estimators = 200, max_depth = 7, AUC-ROC: 0.8476, Accuracy = 0.8050, F1_Score: 0.6139\n",
      "Fractions: = 0.27, n_estimators = 200, max_depth = 8, AUC-ROC: 0.8463, Accuracy = 0.8000, F1_Score: 0.6047\n",
      "Fractions: = 0.27, n_estimators = 200, max_depth = 9, AUC-ROC: 0.8479, Accuracy = 0.8050, F1_Score: 0.6092\n",
      "Fractions: = 0.27, n_estimators = 200, max_depth = 10, AUC-ROC: 0.8457, Accuracy = 0.7975, F1_Score: 0.5994\n",
      "Fractions: = 0.30000000000000004, n_estimators = 10, max_depth = 1, AUC-ROC: 0.7763, Accuracy = 0.7795, F1_Score: 0.5243\n",
      "Fractions: = 0.30000000000000004, n_estimators = 10, max_depth = 2, AUC-ROC: 0.7921, Accuracy = 0.7915, F1_Score: 0.5362\n",
      "Fractions: = 0.30000000000000004, n_estimators = 10, max_depth = 3, AUC-ROC: 0.8130, Accuracy = 0.8125, F1_Score: 0.5838\n",
      "Fractions: = 0.30000000000000004, n_estimators = 10, max_depth = 4, AUC-ROC: 0.8200, Accuracy = 0.7970, F1_Score: 0.5625\n",
      "Fractions: = 0.30000000000000004, n_estimators = 10, max_depth = 5, AUC-ROC: 0.8308, Accuracy = 0.8150, F1_Score: 0.5934\n",
      "Fractions: = 0.30000000000000004, n_estimators = 10, max_depth = 6, AUC-ROC: 0.8369, Accuracy = 0.8040, F1_Score: 0.5942\n",
      "Fractions: = 0.30000000000000004, n_estimators = 10, max_depth = 7, AUC-ROC: 0.8337, Accuracy = 0.8055, F1_Score: 0.5952\n",
      "Fractions: = 0.30000000000000004, n_estimators = 10, max_depth = 8, AUC-ROC: 0.8384, Accuracy = 0.8005, F1_Score: 0.5998\n",
      "Fractions: = 0.30000000000000004, n_estimators = 10, max_depth = 9, AUC-ROC: 0.8238, Accuracy = 0.7810, F1_Score: 0.5663\n",
      "Fractions: = 0.30000000000000004, n_estimators = 10, max_depth = 10, AUC-ROC: 0.8166, Accuracy = 0.7795, F1_Score: 0.5681\n",
      "Fractions: = 0.30000000000000004, n_estimators = 50, max_depth = 1, AUC-ROC: 0.7945, Accuracy = 0.7860, F1_Score: 0.5398\n",
      "Fractions: = 0.30000000000000004, n_estimators = 50, max_depth = 2, AUC-ROC: 0.8113, Accuracy = 0.8060, F1_Score: 0.5828\n",
      "Fractions: = 0.30000000000000004, n_estimators = 50, max_depth = 3, AUC-ROC: 0.8220, Accuracy = 0.8045, F1_Score: 0.5931\n",
      "Fractions: = 0.30000000000000004, n_estimators = 50, max_depth = 4, AUC-ROC: 0.8294, Accuracy = 0.8035, F1_Score: 0.5911\n",
      "Fractions: = 0.30000000000000004, n_estimators = 50, max_depth = 5, AUC-ROC: 0.8390, Accuracy = 0.8220, F1_Score: 0.6114\n",
      "Fractions: = 0.30000000000000004, n_estimators = 50, max_depth = 6, AUC-ROC: 0.8440, Accuracy = 0.8125, F1_Score: 0.6098\n",
      "Fractions: = 0.30000000000000004, n_estimators = 50, max_depth = 7, AUC-ROC: 0.8460, Accuracy = 0.8160, F1_Score: 0.6206\n",
      "Fractions: = 0.30000000000000004, n_estimators = 50, max_depth = 8, AUC-ROC: 0.8490, Accuracy = 0.8175, F1_Score: 0.6162\n",
      "Fractions: = 0.30000000000000004, n_estimators = 50, max_depth = 9, AUC-ROC: 0.8430, Accuracy = 0.8100, F1_Score: 0.6066\n",
      "Fractions: = 0.30000000000000004, n_estimators = 50, max_depth = 10, AUC-ROC: 0.8372, Accuracy = 0.8035, F1_Score: 0.5986\n",
      "Fractions: = 0.30000000000000004, n_estimators = 100, max_depth = 1, AUC-ROC: 0.7997, Accuracy = 0.8185, F1_Score: 0.5524\n",
      "Fractions: = 0.30000000000000004, n_estimators = 100, max_depth = 2, AUC-ROC: 0.8160, Accuracy = 0.8135, F1_Score: 0.5814\n",
      "Fractions: = 0.30000000000000004, n_estimators = 100, max_depth = 3, AUC-ROC: 0.8297, Accuracy = 0.8180, F1_Score: 0.6078\n",
      "Fractions: = 0.30000000000000004, n_estimators = 100, max_depth = 4, AUC-ROC: 0.8340, Accuracy = 0.8140, F1_Score: 0.6043\n",
      "Fractions: = 0.30000000000000004, n_estimators = 100, max_depth = 5, AUC-ROC: 0.8427, Accuracy = 0.8275, F1_Score: 0.6196\n",
      "Fractions: = 0.30000000000000004, n_estimators = 100, max_depth = 6, AUC-ROC: 0.8443, Accuracy = 0.8160, F1_Score: 0.6134\n",
      "Fractions: = 0.30000000000000004, n_estimators = 100, max_depth = 7, AUC-ROC: 0.8470, Accuracy = 0.8105, F1_Score: 0.6105\n",
      "Fractions: = 0.30000000000000004, n_estimators = 100, max_depth = 8, AUC-ROC: 0.8480, Accuracy = 0.8105, F1_Score: 0.6081\n",
      "Fractions: = 0.30000000000000004, n_estimators = 100, max_depth = 9, AUC-ROC: 0.8469, Accuracy = 0.8135, F1_Score: 0.6159\n",
      "Fractions: = 0.30000000000000004, n_estimators = 100, max_depth = 10, AUC-ROC: 0.8424, Accuracy = 0.8045, F1_Score: 0.6014\n",
      "Fractions: = 0.30000000000000004, n_estimators = 200, max_depth = 1, AUC-ROC: 0.8072, Accuracy = 0.8240, F1_Score: 0.4957\n",
      "Fractions: = 0.30000000000000004, n_estimators = 200, max_depth = 2, AUC-ROC: 0.8181, Accuracy = 0.8230, F1_Score: 0.5893\n",
      "Fractions: = 0.30000000000000004, n_estimators = 200, max_depth = 3, AUC-ROC: 0.8305, Accuracy = 0.8165, F1_Score: 0.6066\n",
      "Fractions: = 0.30000000000000004, n_estimators = 200, max_depth = 4, AUC-ROC: 0.8368, Accuracy = 0.8185, F1_Score: 0.6126\n",
      "Fractions: = 0.30000000000000004, n_estimators = 200, max_depth = 5, AUC-ROC: 0.8432, Accuracy = 0.8240, F1_Score: 0.6182\n",
      "Fractions: = 0.30000000000000004, n_estimators = 200, max_depth = 6, AUC-ROC: 0.8466, Accuracy = 0.8190, F1_Score: 0.6181\n",
      "Fractions: = 0.30000000000000004, n_estimators = 200, max_depth = 7, AUC-ROC: 0.8476, Accuracy = 0.8140, F1_Score: 0.6149\n",
      "Fractions: = 0.30000000000000004, n_estimators = 200, max_depth = 8, AUC-ROC: 0.8476, Accuracy = 0.8135, F1_Score: 0.6143\n",
      "Fractions: = 0.30000000000000004, n_estimators = 200, max_depth = 9, AUC-ROC: 0.8468, Accuracy = 0.8100, F1_Score: 0.6107\n",
      "Fractions: = 0.30000000000000004, n_estimators = 200, max_depth = 10, AUC-ROC: 0.8450, Accuracy = 0.8040, F1_Score: 0.6008\n",
      "\n",
      "Best Model:\n",
      "Fractions: 0.30000000000000004\n",
      "Best_n_estimators: 50\n",
      "Best_max_depth: 8\n",
      "RandomForestClassifier(max_depth=8, n_estimators=50, random_state=12345)\n",
      "Best AUC-ROC: 0.8490\n",
      "Best accuracy: 0.8040\n",
      "Best F1 score: 0.6162\n"
     ]
    }
   ],
   "source": [
    "#Попытаемся улучшить показатели качества модели при помощи уменьшения выборки. модель RandomForestClassifier\n",
    "\n",
    "def downsampling(features, target, fraction):\n",
    "    features_zeros = features[target == 0]\n",
    "    features_ones = features[target == 1]\n",
    "    target_zeros = target[target == 0]\n",
    "    target_ones = target[target == 1]\n",
    "\n",
    "    features_downsampled = pd.concat([features_zeros.sample(frac=fraction, random_state=12345)] + [features_ones])\n",
    "    target_downsampled = pd.concat([target_zeros.sample(frac=fraction, random_state=12345)] + [target_ones])\n",
    "    features_downsampled, target_downsampled = shuffle(features_downsampled, target_downsampled, random_state=12345)\n",
    "    \n",
    "    return features_downsampled, target_downsampled\n",
    "\n",
    "# Зададим значения гиперпараметров для перебора в цикле\n",
    "n_estimators_values = [10, 50, 100, 200]\n",
    "max_depth_values = [1, 2, 3, 4, 5, 6, 7, 8, 9, 10]\n",
    "\n",
    "# Сохраним лучшую модель и лучший AUC-ROC\n",
    "best_model = None\n",
    "best_auc_roc = -np.inf\n",
    "\n",
    "for i in np.arange(0.03, 0.31, 0.03):\n",
    "    features_downsampled, target_downsampled = downsampling(features_train, target_train, i)\n",
    "    # Перебор гиперпараметров в цикле\n",
    "    for n_estimators in n_estimators_values:\n",
    "        for max_depth in max_depth_values:\n",
    "            model = RandomForestClassifier(n_estimators=n_estimators, max_depth=max_depth, random_state=12345)\n",
    "            # Обучим модель на тренировочных данных\n",
    "            model.fit(features_downsampled, target_downsampled)\n",
    "            predictions = model.predict(features_valid)\n",
    "            # Выполним предсказания на валидационных данных\n",
    "            val_probs = model.predict_proba(features_valid)[:, 1]\n",
    "            # Рассчет метрик\n",
    "            auc_roc = roc_auc_score(target_valid, val_probs)\n",
    "            score = accuracy_score(predictions, target_valid)\n",
    "            f_score = f1_score(target_valid, predictions)\n",
    "\n",
    "            # Сравним с текущим лучшим AUC-ROC и сохраним лучшую модель\n",
    "            if auc_roc > best_auc_roc:\n",
    "                best_auc_roc = auc_roc\n",
    "                best_score = score\n",
    "                best_f_score = f_score\n",
    "                best_model = model\n",
    "                fraction = i\n",
    "                best_est = n_estimators\n",
    "                best_max_depth = max_depth\n",
    "\n",
    "            # Выведем результаты для текущего значения гиперпараметров\n",
    "            print(f\"Fractions: = {i}, n_estimators = {n_estimators}, max_depth = {max_depth}, AUC-ROC: {auc_roc:.4f}, Accuracy = {score:.4f}, F1_Score: {f_score:.4f}\")\n",
    "\n",
    "# Выведем лучшую модель и лучший AUC-ROC\n",
    "print(\"\\nBest Model:\")\n",
    "print(f\"Fractions: {fraction}\")\n",
    "print(f\"Best_n_estimators: {best_est}\")\n",
    "print(f\"Best_max_depth: {best_max_depth}\")\n",
    "print(best_model)\n",
    "print(f\"Best AUC-ROC: {best_auc_roc:.4f}\")\n",
    "print(f\"Best accuracy: {score:.4f}\")\n",
    "print(f\"Best F1 score: {best_f_score:.4f}\")\n",
    "\n"
   ]
  },
  {
   "cell_type": "code",
   "execution_count": 31,
   "metadata": {},
   "outputs": [
    {
     "name": "stdout",
     "output_type": "stream",
     "text": [
      "Repeats: = 1, n_estimators = 10, max_depth = 1, AUC-ROC: 0.7815, Accuracy = 0.7910, F1_Score: 0.0000\n",
      "Repeats: = 1, n_estimators = 10, max_depth = 2, AUC-ROC: 0.7855, Accuracy = 0.7985, F1_Score: 0.0736\n",
      "Repeats: = 1, n_estimators = 10, max_depth = 3, AUC-ROC: 0.8069, Accuracy = 0.8110, F1_Score: 0.1923\n",
      "Repeats: = 1, n_estimators = 10, max_depth = 4, AUC-ROC: 0.8164, Accuracy = 0.8155, F1_Score: 0.2296\n",
      "Repeats: = 1, n_estimators = 10, max_depth = 5, AUC-ROC: 0.8343, Accuracy = 0.8400, F1_Score: 0.4224\n",
      "Repeats: = 1, n_estimators = 10, max_depth = 6, AUC-ROC: 0.8384, Accuracy = 0.8455, F1_Score: 0.4736\n",
      "Repeats: = 1, n_estimators = 10, max_depth = 7, AUC-ROC: 0.8438, Accuracy = 0.8575, F1_Score: 0.5366\n",
      "Repeats: = 1, n_estimators = 10, max_depth = 8, AUC-ROC: 0.8423, Accuracy = 0.8525, F1_Score: 0.5265\n",
      "Repeats: = 1, n_estimators = 10, max_depth = 9, AUC-ROC: 0.8371, Accuracy = 0.8540, F1_Score: 0.5365\n",
      "Repeats: = 1, n_estimators = 10, max_depth = 10, AUC-ROC: 0.8296, Accuracy = 0.8605, F1_Score: 0.5701\n",
      "Repeats: = 1, n_estimators = 50, max_depth = 1, AUC-ROC: 0.7952, Accuracy = 0.7910, F1_Score: 0.0000\n",
      "Repeats: = 1, n_estimators = 50, max_depth = 2, AUC-ROC: 0.8068, Accuracy = 0.7980, F1_Score: 0.0648\n",
      "Repeats: = 1, n_estimators = 50, max_depth = 3, AUC-ROC: 0.8185, Accuracy = 0.8190, F1_Score: 0.2521\n",
      "Repeats: = 1, n_estimators = 50, max_depth = 4, AUC-ROC: 0.8254, Accuracy = 0.8310, F1_Score: 0.3787\n",
      "Repeats: = 1, n_estimators = 50, max_depth = 5, AUC-ROC: 0.8358, Accuracy = 0.8355, F1_Score: 0.3985\n",
      "Repeats: = 1, n_estimators = 50, max_depth = 6, AUC-ROC: 0.8439, Accuracy = 0.8505, F1_Score: 0.4958\n",
      "Repeats: = 1, n_estimators = 50, max_depth = 7, AUC-ROC: 0.8451, Accuracy = 0.8575, F1_Score: 0.5320\n",
      "Repeats: = 1, n_estimators = 50, max_depth = 8, AUC-ROC: 0.8474, Accuracy = 0.8570, F1_Score: 0.5387\n",
      "Repeats: = 1, n_estimators = 50, max_depth = 9, AUC-ROC: 0.8456, Accuracy = 0.8610, F1_Score: 0.5615\n",
      "Repeats: = 1, n_estimators = 50, max_depth = 10, AUC-ROC: 0.8417, Accuracy = 0.8575, F1_Score: 0.5595\n",
      "Repeats: = 1, n_estimators = 100, max_depth = 1, AUC-ROC: 0.7979, Accuracy = 0.7910, F1_Score: 0.0000\n",
      "Repeats: = 1, n_estimators = 100, max_depth = 2, AUC-ROC: 0.8064, Accuracy = 0.8005, F1_Score: 0.0870\n",
      "Repeats: = 1, n_estimators = 100, max_depth = 3, AUC-ROC: 0.8241, Accuracy = 0.8150, F1_Score: 0.2194\n",
      "Repeats: = 1, n_estimators = 100, max_depth = 4, AUC-ROC: 0.8300, Accuracy = 0.8310, F1_Score: 0.3741\n",
      "Repeats: = 1, n_estimators = 100, max_depth = 5, AUC-ROC: 0.8385, Accuracy = 0.8370, F1_Score: 0.4116\n",
      "Repeats: = 1, n_estimators = 100, max_depth = 6, AUC-ROC: 0.8468, Accuracy = 0.8495, F1_Score: 0.4907\n",
      "Repeats: = 1, n_estimators = 100, max_depth = 7, AUC-ROC: 0.8471, Accuracy = 0.8595, F1_Score: 0.5416\n",
      "Repeats: = 1, n_estimators = 100, max_depth = 8, AUC-ROC: 0.8496, Accuracy = 0.8605, F1_Score: 0.5550\n",
      "Repeats: = 1, n_estimators = 100, max_depth = 9, AUC-ROC: 0.8492, Accuracy = 0.8590, F1_Score: 0.5552\n",
      "Repeats: = 1, n_estimators = 100, max_depth = 10, AUC-ROC: 0.8465, Accuracy = 0.8595, F1_Score: 0.5616\n",
      "Repeats: = 1, n_estimators = 200, max_depth = 1, AUC-ROC: 0.7983, Accuracy = 0.7910, F1_Score: 0.0000\n",
      "Repeats: = 1, n_estimators = 200, max_depth = 2, AUC-ROC: 0.8107, Accuracy = 0.8005, F1_Score: 0.0870\n",
      "Repeats: = 1, n_estimators = 200, max_depth = 3, AUC-ROC: 0.8237, Accuracy = 0.8135, F1_Score: 0.2047\n",
      "Repeats: = 1, n_estimators = 200, max_depth = 4, AUC-ROC: 0.8322, Accuracy = 0.8315, F1_Score: 0.3629\n",
      "Repeats: = 1, n_estimators = 200, max_depth = 5, AUC-ROC: 0.8386, Accuracy = 0.8360, F1_Score: 0.3971\n",
      "Repeats: = 1, n_estimators = 200, max_depth = 6, AUC-ROC: 0.8461, Accuracy = 0.8480, F1_Score: 0.4777\n",
      "Repeats: = 1, n_estimators = 200, max_depth = 7, AUC-ROC: 0.8477, Accuracy = 0.8580, F1_Score: 0.5329\n",
      "Repeats: = 1, n_estimators = 200, max_depth = 8, AUC-ROC: 0.8503, Accuracy = 0.8575, F1_Score: 0.5411\n",
      "Repeats: = 1, n_estimators = 200, max_depth = 9, AUC-ROC: 0.8496, Accuracy = 0.8600, F1_Score: 0.5556\n",
      "Repeats: = 1, n_estimators = 200, max_depth = 10, AUC-ROC: 0.8483, Accuracy = 0.8620, F1_Score: 0.5687\n",
      "Repeats: = 2, n_estimators = 10, max_depth = 1, AUC-ROC: 0.7853, Accuracy = 0.7935, F1_Score: 0.0236\n",
      "Repeats: = 2, n_estimators = 10, max_depth = 2, AUC-ROC: 0.7932, Accuracy = 0.8195, F1_Score: 0.3098\n",
      "Repeats: = 2, n_estimators = 10, max_depth = 3, AUC-ROC: 0.8116, Accuracy = 0.8385, F1_Score: 0.4832\n",
      "Repeats: = 2, n_estimators = 10, max_depth = 4, AUC-ROC: 0.8212, Accuracy = 0.8330, F1_Score: 0.5159\n",
      "Repeats: = 2, n_estimators = 10, max_depth = 5, AUC-ROC: 0.8302, Accuracy = 0.8550, F1_Score: 0.5773\n",
      "Repeats: = 2, n_estimators = 10, max_depth = 6, AUC-ROC: 0.8297, Accuracy = 0.8505, F1_Score: 0.5965\n",
      "Repeats: = 2, n_estimators = 10, max_depth = 7, AUC-ROC: 0.8368, Accuracy = 0.8515, F1_Score: 0.5858\n",
      "Repeats: = 2, n_estimators = 10, max_depth = 8, AUC-ROC: 0.8415, Accuracy = 0.8500, F1_Score: 0.5957\n",
      "Repeats: = 2, n_estimators = 10, max_depth = 9, AUC-ROC: 0.8310, Accuracy = 0.8550, F1_Score: 0.6164\n",
      "Repeats: = 2, n_estimators = 10, max_depth = 10, AUC-ROC: 0.8398, Accuracy = 0.8550, F1_Score: 0.6123\n",
      "Repeats: = 2, n_estimators = 50, max_depth = 1, AUC-ROC: 0.7909, Accuracy = 0.7980, F1_Score: 0.0648\n",
      "Repeats: = 2, n_estimators = 50, max_depth = 2, AUC-ROC: 0.8077, Accuracy = 0.8300, F1_Score: 0.4389\n",
      "Repeats: = 2, n_estimators = 50, max_depth = 3, AUC-ROC: 0.8185, Accuracy = 0.8425, F1_Score: 0.5333\n",
      "Repeats: = 2, n_estimators = 50, max_depth = 4, AUC-ROC: 0.8282, Accuracy = 0.8450, F1_Score: 0.5584\n",
      "Repeats: = 2, n_estimators = 50, max_depth = 5, AUC-ROC: 0.8341, Accuracy = 0.8545, F1_Score: 0.5861\n",
      "Repeats: = 2, n_estimators = 50, max_depth = 6, AUC-ROC: 0.8428, Accuracy = 0.8550, F1_Score: 0.6070\n",
      "Repeats: = 2, n_estimators = 50, max_depth = 7, AUC-ROC: 0.8457, Accuracy = 0.8525, F1_Score: 0.6008\n",
      "Repeats: = 2, n_estimators = 50, max_depth = 8, AUC-ROC: 0.8510, Accuracy = 0.8545, F1_Score: 0.6094\n",
      "Repeats: = 2, n_estimators = 50, max_depth = 9, AUC-ROC: 0.8470, Accuracy = 0.8565, F1_Score: 0.6229\n",
      "Repeats: = 2, n_estimators = 50, max_depth = 10, AUC-ROC: 0.8500, Accuracy = 0.8585, F1_Score: 0.6150\n",
      "Repeats: = 2, n_estimators = 100, max_depth = 1, AUC-ROC: 0.7963, Accuracy = 0.8005, F1_Score: 0.0870\n",
      "Repeats: = 2, n_estimators = 100, max_depth = 2, AUC-ROC: 0.8106, Accuracy = 0.8305, F1_Score: 0.3979\n",
      "Repeats: = 2, n_estimators = 100, max_depth = 3, AUC-ROC: 0.8253, Accuracy = 0.8470, F1_Score: 0.5189\n",
      "Repeats: = 2, n_estimators = 100, max_depth = 4, AUC-ROC: 0.8308, Accuracy = 0.8465, F1_Score: 0.5608\n",
      "Repeats: = 2, n_estimators = 100, max_depth = 5, AUC-ROC: 0.8394, Accuracy = 0.8545, F1_Score: 0.5941\n",
      "Repeats: = 2, n_estimators = 100, max_depth = 6, AUC-ROC: 0.8443, Accuracy = 0.8560, F1_Score: 0.6129\n",
      "Repeats: = 2, n_estimators = 100, max_depth = 7, AUC-ROC: 0.8484, Accuracy = 0.8560, F1_Score: 0.6087\n",
      "Repeats: = 2, n_estimators = 100, max_depth = 8, AUC-ROC: 0.8522, Accuracy = 0.8560, F1_Score: 0.6160\n",
      "Repeats: = 2, n_estimators = 100, max_depth = 9, AUC-ROC: 0.8499, Accuracy = 0.8545, F1_Score: 0.6176\n",
      "Repeats: = 2, n_estimators = 100, max_depth = 10, AUC-ROC: 0.8479, Accuracy = 0.8580, F1_Score: 0.6183\n",
      "Repeats: = 2, n_estimators = 200, max_depth = 1, AUC-ROC: 0.7995, Accuracy = 0.8015, F1_Score: 0.0957\n",
      "Repeats: = 2, n_estimators = 200, max_depth = 2, AUC-ROC: 0.8134, Accuracy = 0.8325, F1_Score: 0.3876\n",
      "Repeats: = 2, n_estimators = 200, max_depth = 3, AUC-ROC: 0.8266, Accuracy = 0.8475, F1_Score: 0.5089\n",
      "Repeats: = 2, n_estimators = 200, max_depth = 4, AUC-ROC: 0.8344, Accuracy = 0.8465, F1_Score: 0.5492\n",
      "Repeats: = 2, n_estimators = 200, max_depth = 5, AUC-ROC: 0.8411, Accuracy = 0.8545, F1_Score: 0.5896\n",
      "Repeats: = 2, n_estimators = 200, max_depth = 6, AUC-ROC: 0.8461, Accuracy = 0.8560, F1_Score: 0.6087\n",
      "Repeats: = 2, n_estimators = 200, max_depth = 7, AUC-ROC: 0.8490, Accuracy = 0.8565, F1_Score: 0.6095\n",
      "Repeats: = 2, n_estimators = 200, max_depth = 8, AUC-ROC: 0.8519, Accuracy = 0.8570, F1_Score: 0.6156\n",
      "Repeats: = 2, n_estimators = 200, max_depth = 9, AUC-ROC: 0.8498, Accuracy = 0.8570, F1_Score: 0.6187\n",
      "Repeats: = 2, n_estimators = 200, max_depth = 10, AUC-ROC: 0.8498, Accuracy = 0.8570, F1_Score: 0.6135\n",
      "Repeats: = 3, n_estimators = 10, max_depth = 1, AUC-ROC: 0.7844, Accuracy = 0.8200, F1_Score: 0.4690\n",
      "Repeats: = 3, n_estimators = 10, max_depth = 2, AUC-ROC: 0.7958, Accuracy = 0.8195, F1_Score: 0.4993\n",
      "Repeats: = 3, n_estimators = 10, max_depth = 3, AUC-ROC: 0.8133, Accuracy = 0.8295, F1_Score: 0.5774\n",
      "Repeats: = 3, n_estimators = 10, max_depth = 4, AUC-ROC: 0.8326, Accuracy = 0.8325, F1_Score: 0.5959\n",
      "Repeats: = 3, n_estimators = 10, max_depth = 5, AUC-ROC: 0.8326, Accuracy = 0.8355, F1_Score: 0.5973\n",
      "Repeats: = 3, n_estimators = 10, max_depth = 6, AUC-ROC: 0.8377, Accuracy = 0.8225, F1_Score: 0.5924\n",
      "Repeats: = 3, n_estimators = 10, max_depth = 7, AUC-ROC: 0.8392, Accuracy = 0.8210, F1_Score: 0.5941\n",
      "Repeats: = 3, n_estimators = 10, max_depth = 8, AUC-ROC: 0.8371, Accuracy = 0.8275, F1_Score: 0.6039\n",
      "Repeats: = 3, n_estimators = 10, max_depth = 9, AUC-ROC: 0.8395, Accuracy = 0.8330, F1_Score: 0.6014\n",
      "Repeats: = 3, n_estimators = 10, max_depth = 10, AUC-ROC: 0.8341, Accuracy = 0.8305, F1_Score: 0.6044\n",
      "Repeats: = 3, n_estimators = 50, max_depth = 1, AUC-ROC: 0.7923, Accuracy = 0.8160, F1_Score: 0.4321\n",
      "Repeats: = 3, n_estimators = 50, max_depth = 2, AUC-ROC: 0.8078, Accuracy = 0.8330, F1_Score: 0.5815\n",
      "Repeats: = 3, n_estimators = 50, max_depth = 3, AUC-ROC: 0.8206, Accuracy = 0.8315, F1_Score: 0.5964\n",
      "Repeats: = 3, n_estimators = 50, max_depth = 4, AUC-ROC: 0.8325, Accuracy = 0.8290, F1_Score: 0.6060\n",
      "Repeats: = 3, n_estimators = 50, max_depth = 5, AUC-ROC: 0.8412, Accuracy = 0.8325, F1_Score: 0.6091\n",
      "Repeats: = 3, n_estimators = 50, max_depth = 6, AUC-ROC: 0.8474, Accuracy = 0.8330, F1_Score: 0.6170\n",
      "Repeats: = 3, n_estimators = 50, max_depth = 7, AUC-ROC: 0.8483, Accuracy = 0.8310, F1_Score: 0.6115\n",
      "Repeats: = 3, n_estimators = 50, max_depth = 8, AUC-ROC: 0.8476, Accuracy = 0.8320, F1_Score: 0.6084\n",
      "Repeats: = 3, n_estimators = 50, max_depth = 9, AUC-ROC: 0.8484, Accuracy = 0.8365, F1_Score: 0.6166\n",
      "Repeats: = 3, n_estimators = 50, max_depth = 10, AUC-ROC: 0.8471, Accuracy = 0.8360, F1_Score: 0.6168\n",
      "Repeats: = 3, n_estimators = 100, max_depth = 1, AUC-ROC: 0.7973, Accuracy = 0.8195, F1_Score: 0.4403\n",
      "Repeats: = 3, n_estimators = 100, max_depth = 2, AUC-ROC: 0.8118, Accuracy = 0.8345, F1_Score: 0.5836\n",
      "Repeats: = 3, n_estimators = 100, max_depth = 3, AUC-ROC: 0.8267, Accuracy = 0.8315, F1_Score: 0.5905\n",
      "Repeats: = 3, n_estimators = 100, max_depth = 4, AUC-ROC: 0.8359, Accuracy = 0.8270, F1_Score: 0.5920\n",
      "Repeats: = 3, n_estimators = 100, max_depth = 5, AUC-ROC: 0.8436, Accuracy = 0.8360, F1_Score: 0.6159\n",
      "Repeats: = 3, n_estimators = 100, max_depth = 6, AUC-ROC: 0.8460, Accuracy = 0.8305, F1_Score: 0.6143\n",
      "Repeats: = 3, n_estimators = 100, max_depth = 7, AUC-ROC: 0.8498, Accuracy = 0.8330, F1_Score: 0.6178\n",
      "Repeats: = 3, n_estimators = 100, max_depth = 8, AUC-ROC: 0.8499, Accuracy = 0.8350, F1_Score: 0.6181\n",
      "Repeats: = 3, n_estimators = 100, max_depth = 9, AUC-ROC: 0.8513, Accuracy = 0.8395, F1_Score: 0.6237\n",
      "Repeats: = 3, n_estimators = 100, max_depth = 10, AUC-ROC: 0.8499, Accuracy = 0.8370, F1_Score: 0.6174\n",
      "Repeats: = 3, n_estimators = 200, max_depth = 1, AUC-ROC: 0.7995, Accuracy = 0.8255, F1_Score: 0.4115\n",
      "Repeats: = 3, n_estimators = 200, max_depth = 2, AUC-ROC: 0.8149, Accuracy = 0.8350, F1_Score: 0.5635\n",
      "Repeats: = 3, n_estimators = 200, max_depth = 3, AUC-ROC: 0.8275, Accuracy = 0.8315, F1_Score: 0.5895\n",
      "Repeats: = 3, n_estimators = 200, max_depth = 4, AUC-ROC: 0.8377, Accuracy = 0.8305, F1_Score: 0.5998\n",
      "Repeats: = 3, n_estimators = 200, max_depth = 5, AUC-ROC: 0.8431, Accuracy = 0.8330, F1_Score: 0.6134\n",
      "Repeats: = 3, n_estimators = 200, max_depth = 6, AUC-ROC: 0.8474, Accuracy = 0.8310, F1_Score: 0.6142\n",
      "Repeats: = 3, n_estimators = 200, max_depth = 7, AUC-ROC: 0.8509, Accuracy = 0.8350, F1_Score: 0.6207\n",
      "Repeats: = 3, n_estimators = 200, max_depth = 8, AUC-ROC: 0.8506, Accuracy = 0.8365, F1_Score: 0.6202\n",
      "Repeats: = 3, n_estimators = 200, max_depth = 9, AUC-ROC: 0.8516, Accuracy = 0.8380, F1_Score: 0.6206\n",
      "Repeats: = 3, n_estimators = 200, max_depth = 10, AUC-ROC: 0.8500, Accuracy = 0.8370, F1_Score: 0.6128\n",
      "Repeats: = 4, n_estimators = 10, max_depth = 1, AUC-ROC: 0.7921, Accuracy = 0.7420, F1_Score: 0.5257\n",
      "Repeats: = 4, n_estimators = 10, max_depth = 2, AUC-ROC: 0.8040, Accuracy = 0.7545, F1_Score: 0.5483\n",
      "Repeats: = 4, n_estimators = 10, max_depth = 3, AUC-ROC: 0.8117, Accuracy = 0.7585, F1_Score: 0.5473\n",
      "Repeats: = 4, n_estimators = 10, max_depth = 4, AUC-ROC: 0.8222, Accuracy = 0.7770, F1_Score: 0.5602\n",
      "Repeats: = 4, n_estimators = 10, max_depth = 5, AUC-ROC: 0.8330, Accuracy = 0.7680, F1_Score: 0.5680\n",
      "Repeats: = 4, n_estimators = 10, max_depth = 6, AUC-ROC: 0.8314, Accuracy = 0.7800, F1_Score: 0.5712\n",
      "Repeats: = 4, n_estimators = 10, max_depth = 7, AUC-ROC: 0.8306, Accuracy = 0.8015, F1_Score: 0.6026\n",
      "Repeats: = 4, n_estimators = 10, max_depth = 8, AUC-ROC: 0.8355, Accuracy = 0.7990, F1_Score: 0.5873\n",
      "Repeats: = 4, n_estimators = 10, max_depth = 9, AUC-ROC: 0.8390, Accuracy = 0.8120, F1_Score: 0.6034\n",
      "Repeats: = 4, n_estimators = 10, max_depth = 10, AUC-ROC: 0.8251, Accuracy = 0.8060, F1_Score: 0.5755\n",
      "Repeats: = 4, n_estimators = 50, max_depth = 1, AUC-ROC: 0.7934, Accuracy = 0.7500, F1_Score: 0.5345\n",
      "Repeats: = 4, n_estimators = 50, max_depth = 2, AUC-ROC: 0.8113, Accuracy = 0.7730, F1_Score: 0.5668\n",
      "Repeats: = 4, n_estimators = 50, max_depth = 3, AUC-ROC: 0.8225, Accuracy = 0.7605, F1_Score: 0.5585\n",
      "Repeats: = 4, n_estimators = 50, max_depth = 4, AUC-ROC: 0.8340, Accuracy = 0.7835, F1_Score: 0.5816\n",
      "Repeats: = 4, n_estimators = 50, max_depth = 5, AUC-ROC: 0.8413, Accuracy = 0.8045, F1_Score: 0.6062\n",
      "Repeats: = 4, n_estimators = 50, max_depth = 6, AUC-ROC: 0.8460, Accuracy = 0.8070, F1_Score: 0.6069\n",
      "Repeats: = 4, n_estimators = 50, max_depth = 7, AUC-ROC: 0.8460, Accuracy = 0.8030, F1_Score: 0.5988\n",
      "Repeats: = 4, n_estimators = 50, max_depth = 8, AUC-ROC: 0.8484, Accuracy = 0.8085, F1_Score: 0.6047\n",
      "Repeats: = 4, n_estimators = 50, max_depth = 9, AUC-ROC: 0.8501, Accuracy = 0.8200, F1_Score: 0.6218\n",
      "Repeats: = 4, n_estimators = 50, max_depth = 10, AUC-ROC: 0.8410, Accuracy = 0.8150, F1_Score: 0.5987\n",
      "Repeats: = 4, n_estimators = 100, max_depth = 1, AUC-ROC: 0.7990, Accuracy = 0.7530, F1_Score: 0.5451\n",
      "Repeats: = 4, n_estimators = 100, max_depth = 2, AUC-ROC: 0.8156, Accuracy = 0.7630, F1_Score: 0.5659\n",
      "Repeats: = 4, n_estimators = 100, max_depth = 3, AUC-ROC: 0.8297, Accuracy = 0.7755, F1_Score: 0.5712\n",
      "Repeats: = 4, n_estimators = 100, max_depth = 4, AUC-ROC: 0.8361, Accuracy = 0.7865, F1_Score: 0.5874\n",
      "Repeats: = 4, n_estimators = 100, max_depth = 5, AUC-ROC: 0.8427, Accuracy = 0.8015, F1_Score: 0.6002\n",
      "Repeats: = 4, n_estimators = 100, max_depth = 6, AUC-ROC: 0.8474, Accuracy = 0.8025, F1_Score: 0.6046\n",
      "Repeats: = 4, n_estimators = 100, max_depth = 7, AUC-ROC: 0.8502, Accuracy = 0.8015, F1_Score: 0.6018\n",
      "Repeats: = 4, n_estimators = 100, max_depth = 8, AUC-ROC: 0.8503, Accuracy = 0.8065, F1_Score: 0.6063\n",
      "Repeats: = 4, n_estimators = 100, max_depth = 9, AUC-ROC: 0.8510, Accuracy = 0.8175, F1_Score: 0.6178\n",
      "Repeats: = 4, n_estimators = 100, max_depth = 10, AUC-ROC: 0.8455, Accuracy = 0.8155, F1_Score: 0.5985\n",
      "Repeats: = 4, n_estimators = 200, max_depth = 1, AUC-ROC: 0.8042, Accuracy = 0.7535, F1_Score: 0.5498\n",
      "Repeats: = 4, n_estimators = 200, max_depth = 2, AUC-ROC: 0.8193, Accuracy = 0.7680, F1_Score: 0.5639\n",
      "Repeats: = 4, n_estimators = 200, max_depth = 3, AUC-ROC: 0.8314, Accuracy = 0.7715, F1_Score: 0.5733\n",
      "Repeats: = 4, n_estimators = 200, max_depth = 4, AUC-ROC: 0.8392, Accuracy = 0.7890, F1_Score: 0.5895\n",
      "Repeats: = 4, n_estimators = 200, max_depth = 5, AUC-ROC: 0.8435, Accuracy = 0.8045, F1_Score: 0.6047\n",
      "Repeats: = 4, n_estimators = 200, max_depth = 6, AUC-ROC: 0.8490, Accuracy = 0.8055, F1_Score: 0.6106\n",
      "Repeats: = 4, n_estimators = 200, max_depth = 7, AUC-ROC: 0.8505, Accuracy = 0.8090, F1_Score: 0.6149\n",
      "Repeats: = 4, n_estimators = 200, max_depth = 8, AUC-ROC: 0.8508, Accuracy = 0.8125, F1_Score: 0.6130\n",
      "Repeats: = 4, n_estimators = 200, max_depth = 9, AUC-ROC: 0.8506, Accuracy = 0.8165, F1_Score: 0.6149\n",
      "Repeats: = 4, n_estimators = 200, max_depth = 10, AUC-ROC: 0.8467, Accuracy = 0.8205, F1_Score: 0.6042\n",
      "Repeats: = 5, n_estimators = 10, max_depth = 1, AUC-ROC: 0.7915, Accuracy = 0.5745, F1_Score: 0.4583\n",
      "Repeats: = 5, n_estimators = 10, max_depth = 2, AUC-ROC: 0.7954, Accuracy = 0.6150, F1_Score: 0.4755\n",
      "Repeats: = 5, n_estimators = 10, max_depth = 3, AUC-ROC: 0.8130, Accuracy = 0.6895, F1_Score: 0.5106\n",
      "Repeats: = 5, n_estimators = 10, max_depth = 4, AUC-ROC: 0.8173, Accuracy = 0.6900, F1_Score: 0.5149\n",
      "Repeats: = 5, n_estimators = 10, max_depth = 5, AUC-ROC: 0.8213, Accuracy = 0.7185, F1_Score: 0.5397\n",
      "Repeats: = 5, n_estimators = 10, max_depth = 6, AUC-ROC: 0.8277, Accuracy = 0.7490, F1_Score: 0.5604\n",
      "Repeats: = 5, n_estimators = 10, max_depth = 7, AUC-ROC: 0.8333, Accuracy = 0.7605, F1_Score: 0.5681\n",
      "Repeats: = 5, n_estimators = 10, max_depth = 8, AUC-ROC: 0.8362, Accuracy = 0.7655, F1_Score: 0.5725\n",
      "Repeats: = 5, n_estimators = 10, max_depth = 9, AUC-ROC: 0.8343, Accuracy = 0.7765, F1_Score: 0.5698\n",
      "Repeats: = 5, n_estimators = 10, max_depth = 10, AUC-ROC: 0.8295, Accuracy = 0.7925, F1_Score: 0.5726\n",
      "Repeats: = 5, n_estimators = 50, max_depth = 1, AUC-ROC: 0.7947, Accuracy = 0.5885, F1_Score: 0.4617\n",
      "Repeats: = 5, n_estimators = 50, max_depth = 2, AUC-ROC: 0.8124, Accuracy = 0.6695, F1_Score: 0.5100\n",
      "Repeats: = 5, n_estimators = 50, max_depth = 3, AUC-ROC: 0.8251, Accuracy = 0.6950, F1_Score: 0.5271\n",
      "Repeats: = 5, n_estimators = 50, max_depth = 4, AUC-ROC: 0.8274, Accuracy = 0.7075, F1_Score: 0.5316\n",
      "Repeats: = 5, n_estimators = 50, max_depth = 5, AUC-ROC: 0.8384, Accuracy = 0.7215, F1_Score: 0.5468\n",
      "Repeats: = 5, n_estimators = 50, max_depth = 6, AUC-ROC: 0.8432, Accuracy = 0.7555, F1_Score: 0.5752\n",
      "Repeats: = 5, n_estimators = 50, max_depth = 7, AUC-ROC: 0.8496, Accuracy = 0.7715, F1_Score: 0.5849\n",
      "Repeats: = 5, n_estimators = 50, max_depth = 8, AUC-ROC: 0.8463, Accuracy = 0.7795, F1_Score: 0.5898\n",
      "Repeats: = 5, n_estimators = 50, max_depth = 9, AUC-ROC: 0.8471, Accuracy = 0.7915, F1_Score: 0.5900\n",
      "Repeats: = 5, n_estimators = 50, max_depth = 10, AUC-ROC: 0.8407, Accuracy = 0.8045, F1_Score: 0.5965\n",
      "Repeats: = 5, n_estimators = 100, max_depth = 1, AUC-ROC: 0.7996, Accuracy = 0.5525, F1_Score: 0.4479\n",
      "Repeats: = 5, n_estimators = 100, max_depth = 2, AUC-ROC: 0.8170, Accuracy = 0.6505, F1_Score: 0.4982\n",
      "Repeats: = 5, n_estimators = 100, max_depth = 3, AUC-ROC: 0.8306, Accuracy = 0.7050, F1_Score: 0.5362\n",
      "Repeats: = 5, n_estimators = 100, max_depth = 4, AUC-ROC: 0.8329, Accuracy = 0.7080, F1_Score: 0.5328\n",
      "Repeats: = 5, n_estimators = 100, max_depth = 5, AUC-ROC: 0.8417, Accuracy = 0.7285, F1_Score: 0.5516\n",
      "Repeats: = 5, n_estimators = 100, max_depth = 6, AUC-ROC: 0.8440, Accuracy = 0.7545, F1_Score: 0.5742\n",
      "Repeats: = 5, n_estimators = 100, max_depth = 7, AUC-ROC: 0.8499, Accuracy = 0.7655, F1_Score: 0.5779\n",
      "Repeats: = 5, n_estimators = 100, max_depth = 8, AUC-ROC: 0.8480, Accuracy = 0.7815, F1_Score: 0.5927\n",
      "Repeats: = 5, n_estimators = 100, max_depth = 9, AUC-ROC: 0.8461, Accuracy = 0.7930, F1_Score: 0.5909\n",
      "Repeats: = 5, n_estimators = 100, max_depth = 10, AUC-ROC: 0.8447, Accuracy = 0.8090, F1_Score: 0.6029\n",
      "Repeats: = 5, n_estimators = 200, max_depth = 1, AUC-ROC: 0.8060, Accuracy = 0.4965, F1_Score: 0.4275\n",
      "Repeats: = 5, n_estimators = 200, max_depth = 2, AUC-ROC: 0.8214, Accuracy = 0.6415, F1_Score: 0.4947\n",
      "Repeats: = 5, n_estimators = 200, max_depth = 3, AUC-ROC: 0.8315, Accuracy = 0.6875, F1_Score: 0.5233\n",
      "Repeats: = 5, n_estimators = 200, max_depth = 4, AUC-ROC: 0.8370, Accuracy = 0.7105, F1_Score: 0.5386\n",
      "Repeats: = 5, n_estimators = 200, max_depth = 5, AUC-ROC: 0.8426, Accuracy = 0.7225, F1_Score: 0.5462\n",
      "Repeats: = 5, n_estimators = 200, max_depth = 6, AUC-ROC: 0.8480, Accuracy = 0.7535, F1_Score: 0.5761\n",
      "Repeats: = 5, n_estimators = 200, max_depth = 7, AUC-ROC: 0.8500, Accuracy = 0.7660, F1_Score: 0.5799\n",
      "Repeats: = 5, n_estimators = 200, max_depth = 8, AUC-ROC: 0.8493, Accuracy = 0.7800, F1_Score: 0.5918\n",
      "Repeats: = 5, n_estimators = 200, max_depth = 9, AUC-ROC: 0.8484, Accuracy = 0.7955, F1_Score: 0.5955\n",
      "Repeats: = 5, n_estimators = 200, max_depth = 10, AUC-ROC: 0.8477, Accuracy = 0.8115, F1_Score: 0.6077\n",
      "Repeats: = 6, n_estimators = 10, max_depth = 1, AUC-ROC: 0.7708, Accuracy = 0.3335, F1_Score: 0.3809\n",
      "Repeats: = 6, n_estimators = 10, max_depth = 2, AUC-ROC: 0.7893, Accuracy = 0.4690, F1_Score: 0.4209\n",
      "Repeats: = 6, n_estimators = 10, max_depth = 3, AUC-ROC: 0.8140, Accuracy = 0.5745, F1_Score: 0.4685\n",
      "Repeats: = 6, n_estimators = 10, max_depth = 4, AUC-ROC: 0.8270, Accuracy = 0.6450, F1_Score: 0.5049\n",
      "Repeats: = 6, n_estimators = 10, max_depth = 5, AUC-ROC: 0.8367, Accuracy = 0.6655, F1_Score: 0.5120\n",
      "Repeats: = 6, n_estimators = 10, max_depth = 6, AUC-ROC: 0.8298, Accuracy = 0.6910, F1_Score: 0.5282\n",
      "Repeats: = 6, n_estimators = 10, max_depth = 7, AUC-ROC: 0.8344, Accuracy = 0.7115, F1_Score: 0.5328\n",
      "Repeats: = 6, n_estimators = 10, max_depth = 8, AUC-ROC: 0.8414, Accuracy = 0.7475, F1_Score: 0.5590\n",
      "Repeats: = 6, n_estimators = 10, max_depth = 9, AUC-ROC: 0.8406, Accuracy = 0.7615, F1_Score: 0.5683\n",
      "Repeats: = 6, n_estimators = 10, max_depth = 10, AUC-ROC: 0.8286, Accuracy = 0.7820, F1_Score: 0.5783\n",
      "Repeats: = 6, n_estimators = 50, max_depth = 1, AUC-ROC: 0.7930, Accuracy = 0.2905, F1_Score: 0.3679\n",
      "Repeats: = 6, n_estimators = 50, max_depth = 2, AUC-ROC: 0.8123, Accuracy = 0.5625, F1_Score: 0.4548\n",
      "Repeats: = 6, n_estimators = 50, max_depth = 3, AUC-ROC: 0.8254, Accuracy = 0.6210, F1_Score: 0.4822\n",
      "Repeats: = 6, n_estimators = 50, max_depth = 4, AUC-ROC: 0.8319, Accuracy = 0.6570, F1_Score: 0.5065\n",
      "Repeats: = 6, n_estimators = 50, max_depth = 5, AUC-ROC: 0.8413, Accuracy = 0.6730, F1_Score: 0.5212\n",
      "Repeats: = 6, n_estimators = 50, max_depth = 6, AUC-ROC: 0.8452, Accuracy = 0.6985, F1_Score: 0.5336\n",
      "Repeats: = 6, n_estimators = 50, max_depth = 7, AUC-ROC: 0.8467, Accuracy = 0.7255, F1_Score: 0.5518\n",
      "Repeats: = 6, n_estimators = 50, max_depth = 8, AUC-ROC: 0.8483, Accuracy = 0.7435, F1_Score: 0.5566\n",
      "Repeats: = 6, n_estimators = 50, max_depth = 9, AUC-ROC: 0.8472, Accuracy = 0.7735, F1_Score: 0.5794\n",
      "Repeats: = 6, n_estimators = 50, max_depth = 10, AUC-ROC: 0.8392, Accuracy = 0.7835, F1_Score: 0.5808\n",
      "Repeats: = 6, n_estimators = 100, max_depth = 1, AUC-ROC: 0.7990, Accuracy = 0.2575, F1_Score: 0.3591\n",
      "Repeats: = 6, n_estimators = 100, max_depth = 2, AUC-ROC: 0.8178, Accuracy = 0.5330, F1_Score: 0.4467\n",
      "Repeats: = 6, n_estimators = 100, max_depth = 3, AUC-ROC: 0.8306, Accuracy = 0.6005, F1_Score: 0.4774\n",
      "Repeats: = 6, n_estimators = 100, max_depth = 4, AUC-ROC: 0.8350, Accuracy = 0.6430, F1_Score: 0.5049\n",
      "Repeats: = 6, n_estimators = 100, max_depth = 5, AUC-ROC: 0.8422, Accuracy = 0.6765, F1_Score: 0.5267\n",
      "Repeats: = 6, n_estimators = 100, max_depth = 6, AUC-ROC: 0.8453, Accuracy = 0.7035, F1_Score: 0.5414\n",
      "Repeats: = 6, n_estimators = 100, max_depth = 7, AUC-ROC: 0.8480, Accuracy = 0.7275, F1_Score: 0.5573\n",
      "Repeats: = 6, n_estimators = 100, max_depth = 8, AUC-ROC: 0.8503, Accuracy = 0.7505, F1_Score: 0.5717\n",
      "Repeats: = 6, n_estimators = 100, max_depth = 9, AUC-ROC: 0.8482, Accuracy = 0.7720, F1_Score: 0.5832\n",
      "Repeats: = 6, n_estimators = 100, max_depth = 10, AUC-ROC: 0.8425, Accuracy = 0.7860, F1_Score: 0.5837\n",
      "Repeats: = 6, n_estimators = 200, max_depth = 1, AUC-ROC: 0.8052, Accuracy = 0.2440, F1_Score: 0.3549\n",
      "Repeats: = 6, n_estimators = 200, max_depth = 2, AUC-ROC: 0.8196, Accuracy = 0.4985, F1_Score: 0.4311\n",
      "Repeats: = 6, n_estimators = 200, max_depth = 3, AUC-ROC: 0.8317, Accuracy = 0.5900, F1_Score: 0.4730\n",
      "Repeats: = 6, n_estimators = 200, max_depth = 4, AUC-ROC: 0.8381, Accuracy = 0.6345, F1_Score: 0.4990\n",
      "Repeats: = 6, n_estimators = 200, max_depth = 5, AUC-ROC: 0.8435, Accuracy = 0.6740, F1_Score: 0.5241\n",
      "Repeats: = 6, n_estimators = 200, max_depth = 6, AUC-ROC: 0.8461, Accuracy = 0.6940, F1_Score: 0.5335\n",
      "Repeats: = 6, n_estimators = 200, max_depth = 7, AUC-ROC: 0.8476, Accuracy = 0.7260, F1_Score: 0.5552\n",
      "Repeats: = 6, n_estimators = 200, max_depth = 8, AUC-ROC: 0.8490, Accuracy = 0.7480, F1_Score: 0.5692\n",
      "Repeats: = 6, n_estimators = 200, max_depth = 9, AUC-ROC: 0.8487, Accuracy = 0.7715, F1_Score: 0.5819\n",
      "Repeats: = 6, n_estimators = 200, max_depth = 10, AUC-ROC: 0.8438, Accuracy = 0.7885, F1_Score: 0.5824\n",
      "Repeats: = 7, n_estimators = 10, max_depth = 1, AUC-ROC: 0.7885, Accuracy = 0.2090, F1_Score: 0.3457\n",
      "Repeats: = 7, n_estimators = 10, max_depth = 2, AUC-ROC: 0.7963, Accuracy = 0.3515, F1_Score: 0.3833\n",
      "Repeats: = 7, n_estimators = 10, max_depth = 3, AUC-ROC: 0.8138, Accuracy = 0.4465, F1_Score: 0.4177\n",
      "Repeats: = 7, n_estimators = 10, max_depth = 4, AUC-ROC: 0.8213, Accuracy = 0.5500, F1_Score: 0.4585\n",
      "Repeats: = 7, n_estimators = 10, max_depth = 5, AUC-ROC: 0.8189, Accuracy = 0.5930, F1_Score: 0.4728\n",
      "Repeats: = 7, n_estimators = 10, max_depth = 6, AUC-ROC: 0.8331, Accuracy = 0.6600, F1_Score: 0.5108\n",
      "Repeats: = 7, n_estimators = 10, max_depth = 7, AUC-ROC: 0.8380, Accuracy = 0.6875, F1_Score: 0.5290\n",
      "Repeats: = 7, n_estimators = 10, max_depth = 8, AUC-ROC: 0.8359, Accuracy = 0.6985, F1_Score: 0.5315\n",
      "Repeats: = 7, n_estimators = 10, max_depth = 9, AUC-ROC: 0.8253, Accuracy = 0.7350, F1_Score: 0.5447\n",
      "Repeats: = 7, n_estimators = 10, max_depth = 10, AUC-ROC: 0.8264, Accuracy = 0.7635, F1_Score: 0.5641\n",
      "Repeats: = 7, n_estimators = 50, max_depth = 1, AUC-ROC: 0.7879, Accuracy = 0.2090, F1_Score: 0.3457\n",
      "Repeats: = 7, n_estimators = 50, max_depth = 2, AUC-ROC: 0.8126, Accuracy = 0.4300, F1_Score: 0.4087\n",
      "Repeats: = 7, n_estimators = 50, max_depth = 3, AUC-ROC: 0.8250, Accuracy = 0.5445, F1_Score: 0.4502\n",
      "Repeats: = 7, n_estimators = 50, max_depth = 4, AUC-ROC: 0.8342, Accuracy = 0.5940, F1_Score: 0.4795\n",
      "Repeats: = 7, n_estimators = 50, max_depth = 5, AUC-ROC: 0.8351, Accuracy = 0.6180, F1_Score: 0.4879\n",
      "Repeats: = 7, n_estimators = 50, max_depth = 6, AUC-ROC: 0.8412, Accuracy = 0.6595, F1_Score: 0.5153\n",
      "Repeats: = 7, n_estimators = 50, max_depth = 7, AUC-ROC: 0.8455, Accuracy = 0.6920, F1_Score: 0.5319\n",
      "Repeats: = 7, n_estimators = 50, max_depth = 8, AUC-ROC: 0.8442, Accuracy = 0.7215, F1_Score: 0.5519\n",
      "Repeats: = 7, n_estimators = 50, max_depth = 9, AUC-ROC: 0.8476, Accuracy = 0.7465, F1_Score: 0.5663\n",
      "Repeats: = 7, n_estimators = 50, max_depth = 10, AUC-ROC: 0.8365, Accuracy = 0.7675, F1_Score: 0.5698\n",
      "Repeats: = 7, n_estimators = 100, max_depth = 1, AUC-ROC: 0.7978, Accuracy = 0.2090, F1_Score: 0.3457\n",
      "Repeats: = 7, n_estimators = 100, max_depth = 2, AUC-ROC: 0.8169, Accuracy = 0.4035, F1_Score: 0.4008\n",
      "Repeats: = 7, n_estimators = 100, max_depth = 3, AUC-ROC: 0.8306, Accuracy = 0.5250, F1_Score: 0.4431\n",
      "Repeats: = 7, n_estimators = 100, max_depth = 4, AUC-ROC: 0.8361, Accuracy = 0.5875, F1_Score: 0.4742\n",
      "Repeats: = 7, n_estimators = 100, max_depth = 5, AUC-ROC: 0.8403, Accuracy = 0.6300, F1_Score: 0.4959\n",
      "Repeats: = 7, n_estimators = 100, max_depth = 6, AUC-ROC: 0.8444, Accuracy = 0.6680, F1_Score: 0.5230\n",
      "Repeats: = 7, n_estimators = 100, max_depth = 7, AUC-ROC: 0.8459, Accuracy = 0.6855, F1_Score: 0.5309\n",
      "Repeats: = 7, n_estimators = 100, max_depth = 8, AUC-ROC: 0.8460, Accuracy = 0.7250, F1_Score: 0.5557\n",
      "Repeats: = 7, n_estimators = 100, max_depth = 9, AUC-ROC: 0.8478, Accuracy = 0.7490, F1_Score: 0.5687\n",
      "Repeats: = 7, n_estimators = 100, max_depth = 10, AUC-ROC: 0.8408, Accuracy = 0.7715, F1_Score: 0.5749\n",
      "Repeats: = 7, n_estimators = 200, max_depth = 1, AUC-ROC: 0.8064, Accuracy = 0.2090, F1_Score: 0.3457\n",
      "Repeats: = 7, n_estimators = 200, max_depth = 2, AUC-ROC: 0.8207, Accuracy = 0.3815, F1_Score: 0.3951\n",
      "Repeats: = 7, n_estimators = 200, max_depth = 3, AUC-ROC: 0.8311, Accuracy = 0.5100, F1_Score: 0.4394\n",
      "Repeats: = 7, n_estimators = 200, max_depth = 4, AUC-ROC: 0.8379, Accuracy = 0.5825, F1_Score: 0.4712\n",
      "Repeats: = 7, n_estimators = 200, max_depth = 5, AUC-ROC: 0.8417, Accuracy = 0.6235, F1_Score: 0.4936\n",
      "Repeats: = 7, n_estimators = 200, max_depth = 6, AUC-ROC: 0.8451, Accuracy = 0.6610, F1_Score: 0.5191\n",
      "Repeats: = 7, n_estimators = 200, max_depth = 7, AUC-ROC: 0.8474, Accuracy = 0.6860, F1_Score: 0.5299\n",
      "Repeats: = 7, n_estimators = 200, max_depth = 8, AUC-ROC: 0.8462, Accuracy = 0.7250, F1_Score: 0.5565\n",
      "Repeats: = 7, n_estimators = 200, max_depth = 9, AUC-ROC: 0.8453, Accuracy = 0.7565, F1_Score: 0.5776\n",
      "Repeats: = 7, n_estimators = 200, max_depth = 10, AUC-ROC: 0.8425, Accuracy = 0.7735, F1_Score: 0.5762\n",
      "Repeats: = 8, n_estimators = 10, max_depth = 1, AUC-ROC: 0.7871, Accuracy = 0.2090, F1_Score: 0.3457\n",
      "Repeats: = 8, n_estimators = 10, max_depth = 2, AUC-ROC: 0.7986, Accuracy = 0.2545, F1_Score: 0.3593\n",
      "Repeats: = 8, n_estimators = 10, max_depth = 3, AUC-ROC: 0.8056, Accuracy = 0.3730, F1_Score: 0.3913\n",
      "Repeats: = 8, n_estimators = 10, max_depth = 4, AUC-ROC: 0.8201, Accuracy = 0.4545, F1_Score: 0.4188\n",
      "Repeats: = 8, n_estimators = 10, max_depth = 5, AUC-ROC: 0.8319, Accuracy = 0.5565, F1_Score: 0.4595\n",
      "Repeats: = 8, n_estimators = 10, max_depth = 6, AUC-ROC: 0.8238, Accuracy = 0.5900, F1_Score: 0.4744\n",
      "Repeats: = 8, n_estimators = 10, max_depth = 7, AUC-ROC: 0.8223, Accuracy = 0.6680, F1_Score: 0.5110\n",
      "Repeats: = 8, n_estimators = 10, max_depth = 8, AUC-ROC: 0.8311, Accuracy = 0.6920, F1_Score: 0.5340\n",
      "Repeats: = 8, n_estimators = 10, max_depth = 9, AUC-ROC: 0.8240, Accuracy = 0.7240, F1_Score: 0.5377\n",
      "Repeats: = 8, n_estimators = 10, max_depth = 10, AUC-ROC: 0.8177, Accuracy = 0.7435, F1_Score: 0.5424\n",
      "Repeats: = 8, n_estimators = 50, max_depth = 1, AUC-ROC: 0.7895, Accuracy = 0.2090, F1_Score: 0.3457\n",
      "Repeats: = 8, n_estimators = 50, max_depth = 2, AUC-ROC: 0.8155, Accuracy = 0.2725, F1_Score: 0.3632\n",
      "Repeats: = 8, n_estimators = 50, max_depth = 3, AUC-ROC: 0.8260, Accuracy = 0.4430, F1_Score: 0.4161\n",
      "Repeats: = 8, n_estimators = 50, max_depth = 4, AUC-ROC: 0.8325, Accuracy = 0.5405, F1_Score: 0.4565\n",
      "Repeats: = 8, n_estimators = 50, max_depth = 5, AUC-ROC: 0.8418, Accuracy = 0.5750, F1_Score: 0.4674\n",
      "Repeats: = 8, n_estimators = 50, max_depth = 6, AUC-ROC: 0.8396, Accuracy = 0.6160, F1_Score: 0.4914\n",
      "Repeats: = 8, n_estimators = 50, max_depth = 7, AUC-ROC: 0.8444, Accuracy = 0.6635, F1_Score: 0.5183\n",
      "Repeats: = 8, n_estimators = 50, max_depth = 8, AUC-ROC: 0.8406, Accuracy = 0.6960, F1_Score: 0.5337\n",
      "Repeats: = 8, n_estimators = 50, max_depth = 9, AUC-ROC: 0.8423, Accuracy = 0.7340, F1_Score: 0.5603\n",
      "Repeats: = 8, n_estimators = 50, max_depth = 10, AUC-ROC: 0.8396, Accuracy = 0.7600, F1_Score: 0.5660\n",
      "Repeats: = 8, n_estimators = 100, max_depth = 1, AUC-ROC: 0.7938, Accuracy = 0.2090, F1_Score: 0.3457\n",
      "Repeats: = 8, n_estimators = 100, max_depth = 2, AUC-ROC: 0.8183, Accuracy = 0.2965, F1_Score: 0.3699\n",
      "Repeats: = 8, n_estimators = 100, max_depth = 3, AUC-ROC: 0.8288, Accuracy = 0.4640, F1_Score: 0.4224\n",
      "Repeats: = 8, n_estimators = 100, max_depth = 4, AUC-ROC: 0.8351, Accuracy = 0.5295, F1_Score: 0.4507\n",
      "Repeats: = 8, n_estimators = 100, max_depth = 5, AUC-ROC: 0.8432, Accuracy = 0.5755, F1_Score: 0.4704\n",
      "Repeats: = 8, n_estimators = 100, max_depth = 6, AUC-ROC: 0.8429, Accuracy = 0.6130, F1_Score: 0.4908\n",
      "Repeats: = 8, n_estimators = 100, max_depth = 7, AUC-ROC: 0.8443, Accuracy = 0.6535, F1_Score: 0.5109\n",
      "Repeats: = 8, n_estimators = 100, max_depth = 8, AUC-ROC: 0.8431, Accuracy = 0.6925, F1_Score: 0.5337\n",
      "Repeats: = 8, n_estimators = 100, max_depth = 9, AUC-ROC: 0.8420, Accuracy = 0.7350, F1_Score: 0.5656\n",
      "Repeats: = 8, n_estimators = 100, max_depth = 10, AUC-ROC: 0.8425, Accuracy = 0.7625, F1_Score: 0.5701\n",
      "Repeats: = 8, n_estimators = 200, max_depth = 1, AUC-ROC: 0.8020, Accuracy = 0.2090, F1_Score: 0.3457\n",
      "Repeats: = 8, n_estimators = 200, max_depth = 2, AUC-ROC: 0.8181, Accuracy = 0.2575, F1_Score: 0.3602\n",
      "Repeats: = 8, n_estimators = 200, max_depth = 3, AUC-ROC: 0.8286, Accuracy = 0.4430, F1_Score: 0.4149\n",
      "Repeats: = 8, n_estimators = 200, max_depth = 4, AUC-ROC: 0.8378, Accuracy = 0.5265, F1_Score: 0.4485\n",
      "Repeats: = 8, n_estimators = 200, max_depth = 5, AUC-ROC: 0.8431, Accuracy = 0.5730, F1_Score: 0.4689\n",
      "Repeats: = 8, n_estimators = 200, max_depth = 6, AUC-ROC: 0.8449, Accuracy = 0.6070, F1_Score: 0.4883\n",
      "Repeats: = 8, n_estimators = 200, max_depth = 7, AUC-ROC: 0.8443, Accuracy = 0.6570, F1_Score: 0.5149\n",
      "Repeats: = 8, n_estimators = 200, max_depth = 8, AUC-ROC: 0.8432, Accuracy = 0.6990, F1_Score: 0.5398\n",
      "Repeats: = 8, n_estimators = 200, max_depth = 9, AUC-ROC: 0.8415, Accuracy = 0.7335, F1_Score: 0.5606\n",
      "Repeats: = 8, n_estimators = 200, max_depth = 10, AUC-ROC: 0.8419, Accuracy = 0.7665, F1_Score: 0.5797\n",
      "Repeats: = 9, n_estimators = 10, max_depth = 1, AUC-ROC: 0.7747, Accuracy = 0.2090, F1_Score: 0.3457\n",
      "Repeats: = 9, n_estimators = 10, max_depth = 2, AUC-ROC: 0.7897, Accuracy = 0.2505, F1_Score: 0.3580\n",
      "Repeats: = 9, n_estimators = 10, max_depth = 3, AUC-ROC: 0.8152, Accuracy = 0.3535, F1_Score: 0.3881\n",
      "Repeats: = 9, n_estimators = 10, max_depth = 4, AUC-ROC: 0.8259, Accuracy = 0.4700, F1_Score: 0.4276\n",
      "Repeats: = 9, n_estimators = 10, max_depth = 5, AUC-ROC: 0.8206, Accuracy = 0.5280, F1_Score: 0.4486\n",
      "Repeats: = 9, n_estimators = 10, max_depth = 6, AUC-ROC: 0.8239, Accuracy = 0.5715, F1_Score: 0.4693\n",
      "Repeats: = 9, n_estimators = 10, max_depth = 7, AUC-ROC: 0.8310, Accuracy = 0.6280, F1_Score: 0.4959\n",
      "Repeats: = 9, n_estimators = 10, max_depth = 8, AUC-ROC: 0.8251, Accuracy = 0.6560, F1_Score: 0.5057\n",
      "Repeats: = 9, n_estimators = 10, max_depth = 9, AUC-ROC: 0.8234, Accuracy = 0.6990, F1_Score: 0.5275\n",
      "Repeats: = 9, n_estimators = 10, max_depth = 10, AUC-ROC: 0.8208, Accuracy = 0.7320, F1_Score: 0.5403\n",
      "Repeats: = 9, n_estimators = 50, max_depth = 1, AUC-ROC: 0.7906, Accuracy = 0.2090, F1_Score: 0.3457\n",
      "Repeats: = 9, n_estimators = 50, max_depth = 2, AUC-ROC: 0.8167, Accuracy = 0.2495, F1_Score: 0.3577\n",
      "Repeats: = 9, n_estimators = 50, max_depth = 3, AUC-ROC: 0.8297, Accuracy = 0.3995, F1_Score: 0.4022\n",
      "Repeats: = 9, n_estimators = 50, max_depth = 4, AUC-ROC: 0.8320, Accuracy = 0.4735, F1_Score: 0.4274\n",
      "Repeats: = 9, n_estimators = 50, max_depth = 5, AUC-ROC: 0.8396, Accuracy = 0.5305, F1_Score: 0.4499\n",
      "Repeats: = 9, n_estimators = 50, max_depth = 6, AUC-ROC: 0.8426, Accuracy = 0.5940, F1_Score: 0.4821\n",
      "Repeats: = 9, n_estimators = 50, max_depth = 7, AUC-ROC: 0.8477, Accuracy = 0.6305, F1_Score: 0.4997\n",
      "Repeats: = 9, n_estimators = 50, max_depth = 8, AUC-ROC: 0.8432, Accuracy = 0.6630, F1_Score: 0.5179\n",
      "Repeats: = 9, n_estimators = 50, max_depth = 9, AUC-ROC: 0.8413, Accuracy = 0.7135, F1_Score: 0.5478\n",
      "Repeats: = 9, n_estimators = 50, max_depth = 10, AUC-ROC: 0.8384, Accuracy = 0.7470, F1_Score: 0.5630\n",
      "Repeats: = 9, n_estimators = 100, max_depth = 1, AUC-ROC: 0.7948, Accuracy = 0.2090, F1_Score: 0.3457\n",
      "Repeats: = 9, n_estimators = 100, max_depth = 2, AUC-ROC: 0.8169, Accuracy = 0.2505, F1_Score: 0.3580\n",
      "Repeats: = 9, n_estimators = 100, max_depth = 3, AUC-ROC: 0.8310, Accuracy = 0.4080, F1_Score: 0.4026\n",
      "Repeats: = 9, n_estimators = 100, max_depth = 4, AUC-ROC: 0.8342, Accuracy = 0.4870, F1_Score: 0.4319\n",
      "Repeats: = 9, n_estimators = 100, max_depth = 5, AUC-ROC: 0.8418, Accuracy = 0.5375, F1_Score: 0.4556\n",
      "Repeats: = 9, n_estimators = 100, max_depth = 6, AUC-ROC: 0.8432, Accuracy = 0.5950, F1_Score: 0.4828\n",
      "Repeats: = 9, n_estimators = 100, max_depth = 7, AUC-ROC: 0.8457, Accuracy = 0.6300, F1_Score: 0.5007\n",
      "Repeats: = 9, n_estimators = 100, max_depth = 8, AUC-ROC: 0.8431, Accuracy = 0.6565, F1_Score: 0.5110\n",
      "Repeats: = 9, n_estimators = 100, max_depth = 9, AUC-ROC: 0.8421, Accuracy = 0.7145, F1_Score: 0.5479\n",
      "Repeats: = 9, n_estimators = 100, max_depth = 10, AUC-ROC: 0.8370, Accuracy = 0.7420, F1_Score: 0.5597\n",
      "Repeats: = 9, n_estimators = 200, max_depth = 1, AUC-ROC: 0.8005, Accuracy = 0.2090, F1_Score: 0.3457\n",
      "Repeats: = 9, n_estimators = 200, max_depth = 2, AUC-ROC: 0.8166, Accuracy = 0.2485, F1_Score: 0.3574\n",
      "Repeats: = 9, n_estimators = 200, max_depth = 3, AUC-ROC: 0.8296, Accuracy = 0.3960, F1_Score: 0.3984\n",
      "Repeats: = 9, n_estimators = 200, max_depth = 4, AUC-ROC: 0.8354, Accuracy = 0.4765, F1_Score: 0.4276\n",
      "Repeats: = 9, n_estimators = 200, max_depth = 5, AUC-ROC: 0.8407, Accuracy = 0.5330, F1_Score: 0.4525\n",
      "Repeats: = 9, n_estimators = 200, max_depth = 6, AUC-ROC: 0.8434, Accuracy = 0.5915, F1_Score: 0.4786\n",
      "Repeats: = 9, n_estimators = 200, max_depth = 7, AUC-ROC: 0.8452, Accuracy = 0.6265, F1_Score: 0.4990\n",
      "Repeats: = 9, n_estimators = 200, max_depth = 8, AUC-ROC: 0.8424, Accuracy = 0.6670, F1_Score: 0.5188\n",
      "Repeats: = 9, n_estimators = 200, max_depth = 9, AUC-ROC: 0.8415, Accuracy = 0.7160, F1_Score: 0.5499\n",
      "Repeats: = 9, n_estimators = 200, max_depth = 10, AUC-ROC: 0.8383, Accuracy = 0.7480, F1_Score: 0.5670\n",
      "Repeats: = 10, n_estimators = 10, max_depth = 1, AUC-ROC: 0.7838, Accuracy = 0.2090, F1_Score: 0.3457\n",
      "Repeats: = 10, n_estimators = 10, max_depth = 2, AUC-ROC: 0.8002, Accuracy = 0.2090, F1_Score: 0.3457\n",
      "Repeats: = 10, n_estimators = 10, max_depth = 3, AUC-ROC: 0.8154, Accuracy = 0.3240, F1_Score: 0.3804\n",
      "Repeats: = 10, n_estimators = 10, max_depth = 4, AUC-ROC: 0.8239, Accuracy = 0.4530, F1_Score: 0.4242\n",
      "Repeats: = 10, n_estimators = 10, max_depth = 5, AUC-ROC: 0.8285, Accuracy = 0.4930, F1_Score: 0.4342\n",
      "Repeats: = 10, n_estimators = 10, max_depth = 6, AUC-ROC: 0.8362, Accuracy = 0.5455, F1_Score: 0.4573\n",
      "Repeats: = 10, n_estimators = 10, max_depth = 7, AUC-ROC: 0.8289, Accuracy = 0.5855, F1_Score: 0.4743\n",
      "Repeats: = 10, n_estimators = 10, max_depth = 8, AUC-ROC: 0.8231, Accuracy = 0.6275, F1_Score: 0.4901\n",
      "Repeats: = 10, n_estimators = 10, max_depth = 9, AUC-ROC: 0.8229, Accuracy = 0.6895, F1_Score: 0.5278\n",
      "Repeats: = 10, n_estimators = 10, max_depth = 10, AUC-ROC: 0.8190, Accuracy = 0.7100, F1_Score: 0.5269\n",
      "Repeats: = 10, n_estimators = 50, max_depth = 1, AUC-ROC: 0.7776, Accuracy = 0.2090, F1_Score: 0.3457\n",
      "Repeats: = 10, n_estimators = 50, max_depth = 2, AUC-ROC: 0.8072, Accuracy = 0.2375, F1_Score: 0.3541\n",
      "Repeats: = 10, n_estimators = 50, max_depth = 3, AUC-ROC: 0.8282, Accuracy = 0.3385, F1_Score: 0.3849\n",
      "Repeats: = 10, n_estimators = 50, max_depth = 4, AUC-ROC: 0.8284, Accuracy = 0.4395, F1_Score: 0.4134\n",
      "Repeats: = 10, n_estimators = 50, max_depth = 5, AUC-ROC: 0.8395, Accuracy = 0.4975, F1_Score: 0.4376\n",
      "Repeats: = 10, n_estimators = 50, max_depth = 6, AUC-ROC: 0.8429, Accuracy = 0.5640, F1_Score: 0.4683\n",
      "Repeats: = 10, n_estimators = 50, max_depth = 7, AUC-ROC: 0.8422, Accuracy = 0.6105, F1_Score: 0.4898\n",
      "Repeats: = 10, n_estimators = 50, max_depth = 8, AUC-ROC: 0.8361, Accuracy = 0.6490, F1_Score: 0.5105\n",
      "Repeats: = 10, n_estimators = 50, max_depth = 9, AUC-ROC: 0.8374, Accuracy = 0.6950, F1_Score: 0.5344\n",
      "Repeats: = 10, n_estimators = 50, max_depth = 10, AUC-ROC: 0.8340, Accuracy = 0.7205, F1_Score: 0.5422\n",
      "Repeats: = 10, n_estimators = 100, max_depth = 1, AUC-ROC: 0.7856, Accuracy = 0.2090, F1_Score: 0.3457\n",
      "Repeats: = 10, n_estimators = 100, max_depth = 2, AUC-ROC: 0.8103, Accuracy = 0.2455, F1_Score: 0.3565\n",
      "Repeats: = 10, n_estimators = 100, max_depth = 3, AUC-ROC: 0.8292, Accuracy = 0.3655, F1_Score: 0.3920\n",
      "Repeats: = 10, n_estimators = 100, max_depth = 4, AUC-ROC: 0.8329, Accuracy = 0.4525, F1_Score: 0.4197\n",
      "Repeats: = 10, n_estimators = 100, max_depth = 5, AUC-ROC: 0.8400, Accuracy = 0.4905, F1_Score: 0.4329\n",
      "Repeats: = 10, n_estimators = 100, max_depth = 6, AUC-ROC: 0.8425, Accuracy = 0.5575, F1_Score: 0.4659\n",
      "Repeats: = 10, n_estimators = 100, max_depth = 7, AUC-ROC: 0.8406, Accuracy = 0.6045, F1_Score: 0.4867\n",
      "Repeats: = 10, n_estimators = 100, max_depth = 8, AUC-ROC: 0.8398, Accuracy = 0.6470, F1_Score: 0.5090\n",
      "Repeats: = 10, n_estimators = 100, max_depth = 9, AUC-ROC: 0.8390, Accuracy = 0.6955, F1_Score: 0.5348\n",
      "Repeats: = 10, n_estimators = 100, max_depth = 10, AUC-ROC: 0.8353, Accuracy = 0.7310, F1_Score: 0.5487\n",
      "Repeats: = 10, n_estimators = 200, max_depth = 1, AUC-ROC: 0.7863, Accuracy = 0.2090, F1_Score: 0.3457\n",
      "Repeats: = 10, n_estimators = 200, max_depth = 2, AUC-ROC: 0.8127, Accuracy = 0.2330, F1_Score: 0.3527\n",
      "Repeats: = 10, n_estimators = 200, max_depth = 3, AUC-ROC: 0.8268, Accuracy = 0.3475, F1_Score: 0.3876\n",
      "Repeats: = 10, n_estimators = 200, max_depth = 4, AUC-ROC: 0.8335, Accuracy = 0.4460, F1_Score: 0.4175\n",
      "Repeats: = 10, n_estimators = 200, max_depth = 5, AUC-ROC: 0.8392, Accuracy = 0.4845, F1_Score: 0.4313\n",
      "Repeats: = 10, n_estimators = 200, max_depth = 6, AUC-ROC: 0.8424, Accuracy = 0.5595, F1_Score: 0.4651\n",
      "Repeats: = 10, n_estimators = 200, max_depth = 7, AUC-ROC: 0.8416, Accuracy = 0.5990, F1_Score: 0.4832\n",
      "Repeats: = 10, n_estimators = 200, max_depth = 8, AUC-ROC: 0.8397, Accuracy = 0.6470, F1_Score: 0.5097\n",
      "Repeats: = 10, n_estimators = 200, max_depth = 9, AUC-ROC: 0.8405, Accuracy = 0.7015, F1_Score: 0.5397\n",
      "Repeats: = 10, n_estimators = 200, max_depth = 10, AUC-ROC: 0.8350, Accuracy = 0.7315, F1_Score: 0.5536\n",
      "\n",
      "Best Model:\n",
      "Repeats: 2\n",
      "RandomForestClassifier(max_depth=8, random_state=12345)\n",
      "Best AUC-ROC: 0.8522\n",
      "Best accuracy: 0.7315\n",
      "Best F1 score: 0.6160\n"
     ]
    }
   ],
   "source": [
    "#Попытаемся улучшить показатели качества модели при помощи увеличения выборки. модель RandomForestClassifier\n",
    "\n",
    "\n",
    "def upsampling(features, target, repeat):\n",
    "    features_zeros = features[target == 0]\n",
    "    features_ones = features[target == 1]\n",
    "    target_zeros = target[target == 0]\n",
    "    target_ones = target[target == 1]\n",
    "\n",
    "    features_upsampled = pd.concat([features_zeros] + [features_ones] * repeat)\n",
    "    target_upsampled = pd.concat([target_zeros] + [target_ones] * repeat)\n",
    "    features_upsampled, target_upsampled = shuffle(features_upsampled, target_upsampled, random_state=12345)\n",
    "    \n",
    "    return features_upsampled, target_upsampled\n",
    "\n",
    "\n",
    "# Зададим значения гиперпараметров для перебора в цикле\n",
    "n_estimators_values = [10, 50, 100, 200]\n",
    "max_depth_values = [1, 2, 3, 4, 5, 6, 7, 8, 9, 10]\n",
    "\n",
    "# Сохраним лучшую модель и лучший AUC-ROC\n",
    "best_model = None\n",
    "best_auc_roc = -np.inf\n",
    "\n",
    "for repeat in range(1,11,1):\n",
    "    features_upsampled, target_upsampled = upsampling(features_train, target_train, repeat)\n",
    "    # Перебор гиперпараметров в цикле\n",
    "    for n_estimators in n_estimators_values:\n",
    "        for max_depth in max_depth_values:\n",
    "            model = RandomForestClassifier(n_estimators=n_estimators, max_depth=max_depth, random_state=12345)\n",
    "            # Обучим модель на тренировочных данных\n",
    "            model.fit(features_upsampled, target_upsampled)\n",
    "            predictions = model.predict(features_valid)\n",
    "            # Выполним предсказания на валидационных данных\n",
    "            val_probs = model.predict_proba(features_valid)[:, 1]\n",
    "            # Рассчет метрик\n",
    "            auc_roc = roc_auc_score(target_valid, val_probs)\n",
    "            score = accuracy_score(predictions, target_valid)\n",
    "            f_score = f1_score(target_valid, predictions)\n",
    "\n",
    "            # Сравним с текущим лучшим AUC-ROC и сохраним лучшую модель\n",
    "            if auc_roc > best_auc_roc:\n",
    "                best_auc_roc = auc_roc\n",
    "                best_score = score\n",
    "                best_f_score = f_score\n",
    "                best_model = model\n",
    "                repeats = repeat\n",
    "\n",
    "            # Выведем результаты для текущего значения гиперпараметров\n",
    "            print(f\"Repeats: = {repeat}, n_estimators = {n_estimators}, max_depth = {max_depth}, AUC-ROC: {auc_roc:.4f}, Accuracy = {score:.4f}, F1_Score: {f_score:.4f}\")\n",
    "\n",
    "# Выведем лучшую модель и лучший AUC-ROC\n",
    "print(\"\\nBest Model:\")\n",
    "print(f\"Repeats: {repeats}\")\n",
    "print(best_model)\n",
    "print(f\"Best AUC-ROC: {best_auc_roc:.4f}\")\n",
    "print(f\"Best accuracy: {score:.4f}\")\n",
    "print(f\"Best F1 score: {best_f_score:.4f}\")\n",
    "\n"
   ]
  },
  {
   "cell_type": "code",
   "execution_count": 32,
   "metadata": {},
   "outputs": [
    {
     "name": "stdout",
     "output_type": "stream",
     "text": [
      "Fractions: = 0.03, C = 0.001, AUC-ROC: 0.7006, Accuracy = 0.2090, F1_Score: 0.3457\n",
      "Fractions: = 0.03, C = 0.01, AUC-ROC: 0.7469, Accuracy = 0.2090, F1_Score: 0.3457\n",
      "Fractions: = 0.03, C = 0.1, AUC-ROC: 0.7535, Accuracy = 0.2305, F1_Score: 0.3520\n",
      "Fractions: = 0.03, C = 1, AUC-ROC: 0.7500, Accuracy = 0.2525, F1_Score: 0.3575\n",
      "Fractions: = 0.03, C = 10, AUC-ROC: 0.7493, Accuracy = 0.2560, F1_Score: 0.3586\n",
      "Fractions: = 0.03, C = 100, AUC-ROC: 0.7493, Accuracy = 0.2560, F1_Score: 0.3586\n",
      "Fractions: = 0.06, C = 0.001, AUC-ROC: 0.7261, Accuracy = 0.2090, F1_Score: 0.3457\n",
      "Fractions: = 0.06, C = 0.01, AUC-ROC: 0.7533, Accuracy = 0.2285, F1_Score: 0.3514\n",
      "Fractions: = 0.06, C = 0.1, AUC-ROC: 0.7528, Accuracy = 0.3290, F1_Score: 0.3781\n",
      "Fractions: = 0.06, C = 1, AUC-ROC: 0.7502, Accuracy = 0.3575, F1_Score: 0.3878\n",
      "Fractions: = 0.06, C = 10, AUC-ROC: 0.7499, Accuracy = 0.3605, F1_Score: 0.3889\n",
      "Fractions: = 0.06, C = 100, AUC-ROC: 0.7498, Accuracy = 0.3605, F1_Score: 0.3883\n",
      "Fractions: = 0.09, C = 0.001, AUC-ROC: 0.7499, Accuracy = 0.2090, F1_Score: 0.3457\n",
      "Fractions: = 0.09, C = 0.01, AUC-ROC: 0.7622, Accuracy = 0.3300, F1_Score: 0.3779\n",
      "Fractions: = 0.09, C = 0.1, AUC-ROC: 0.7598, Accuracy = 0.4545, F1_Score: 0.4156\n",
      "Fractions: = 0.09, C = 1, AUC-ROC: 0.7579, Accuracy = 0.4690, F1_Score: 0.4178\n",
      "Fractions: = 0.09, C = 10, AUC-ROC: 0.7577, Accuracy = 0.4715, F1_Score: 0.4189\n",
      "Fractions: = 0.09, C = 100, AUC-ROC: 0.7576, Accuracy = 0.4725, F1_Score: 0.4194\n",
      "Fractions: = 0.12, C = 0.001, AUC-ROC: 0.7567, Accuracy = 0.2100, F1_Score: 0.3460\n",
      "Fractions: = 0.12, C = 0.01, AUC-ROC: 0.7646, Accuracy = 0.4550, F1_Score: 0.4184\n",
      "Fractions: = 0.12, C = 0.1, AUC-ROC: 0.7604, Accuracy = 0.5270, F1_Score: 0.4396\n",
      "Fractions: = 0.12, C = 1, AUC-ROC: 0.7585, Accuracy = 0.5325, F1_Score: 0.4405\n",
      "Fractions: = 0.12, C = 10, AUC-ROC: 0.7582, Accuracy = 0.5340, F1_Score: 0.4412\n",
      "Fractions: = 0.12, C = 100, AUC-ROC: 0.7582, Accuracy = 0.5345, F1_Score: 0.4415\n",
      "Fractions: = 0.15, C = 0.001, AUC-ROC: 0.7624, Accuracy = 0.2530, F1_Score: 0.3582\n",
      "Fractions: = 0.15, C = 0.01, AUC-ROC: 0.7672, Accuracy = 0.5525, F1_Score: 0.4519\n",
      "Fractions: = 0.15, C = 0.1, AUC-ROC: 0.7634, Accuracy = 0.5865, F1_Score: 0.4626\n",
      "Fractions: = 0.15, C = 1, AUC-ROC: 0.7620, Accuracy = 0.5900, F1_Score: 0.4612\n",
      "Fractions: = 0.15, C = 10, AUC-ROC: 0.7618, Accuracy = 0.5900, F1_Score: 0.4605\n",
      "Fractions: = 0.15, C = 100, AUC-ROC: 0.7618, Accuracy = 0.5900, F1_Score: 0.4605\n",
      "Fractions: = 0.18, C = 0.001, AUC-ROC: 0.7622, Accuracy = 0.4035, F1_Score: 0.4008\n",
      "Fractions: = 0.18, C = 0.01, AUC-ROC: 0.7671, Accuracy = 0.6185, F1_Score: 0.4720\n",
      "Fractions: = 0.18, C = 0.1, AUC-ROC: 0.7634, Accuracy = 0.6400, F1_Score: 0.4767\n",
      "Fractions: = 0.18, C = 1, AUC-ROC: 0.7622, Accuracy = 0.6440, F1_Score: 0.4795\n",
      "Fractions: = 0.18, C = 10, AUC-ROC: 0.7620, Accuracy = 0.6440, F1_Score: 0.4795\n",
      "Fractions: = 0.18, C = 100, AUC-ROC: 0.7620, Accuracy = 0.6440, F1_Score: 0.4795\n",
      "Fractions: = 0.21, C = 0.001, AUC-ROC: 0.7635, Accuracy = 0.5775, F1_Score: 0.4614\n",
      "Fractions: = 0.21, C = 0.01, AUC-ROC: 0.7672, Accuracy = 0.6695, F1_Score: 0.4896\n",
      "Fractions: = 0.21, C = 0.1, AUC-ROC: 0.7634, Accuracy = 0.6735, F1_Score: 0.4830\n",
      "Fractions: = 0.21, C = 1, AUC-ROC: 0.7621, Accuracy = 0.6715, F1_Score: 0.4798\n",
      "Fractions: = 0.21, C = 10, AUC-ROC: 0.7620, Accuracy = 0.6720, F1_Score: 0.4802\n",
      "Fractions: = 0.21, C = 100, AUC-ROC: 0.7619, Accuracy = 0.6715, F1_Score: 0.4798\n",
      "Fractions: = 0.24, C = 0.001, AUC-ROC: 0.7632, Accuracy = 0.6890, F1_Score: 0.4951\n",
      "Fractions: = 0.24, C = 0.01, AUC-ROC: 0.7669, Accuracy = 0.7080, F1_Score: 0.4991\n",
      "Fractions: = 0.24, C = 0.1, AUC-ROC: 0.7626, Accuracy = 0.6990, F1_Score: 0.4846\n",
      "Fractions: = 0.24, C = 1, AUC-ROC: 0.7614, Accuracy = 0.6970, F1_Score: 0.4838\n",
      "Fractions: = 0.24, C = 10, AUC-ROC: 0.7612, Accuracy = 0.6975, F1_Score: 0.4842\n",
      "Fractions: = 0.24, C = 100, AUC-ROC: 0.7612, Accuracy = 0.6975, F1_Score: 0.4842\n",
      "Fractions: = 0.27, C = 0.001, AUC-ROC: 0.7658, Accuracy = 0.7555, F1_Score: 0.5025\n",
      "Fractions: = 0.27, C = 0.01, AUC-ROC: 0.7684, Accuracy = 0.7310, F1_Score: 0.5019\n",
      "Fractions: = 0.27, C = 0.1, AUC-ROC: 0.7645, Accuracy = 0.7200, F1_Score: 0.4946\n",
      "Fractions: = 0.27, C = 1, AUC-ROC: 0.7632, Accuracy = 0.7190, F1_Score: 0.4937\n",
      "Fractions: = 0.27, C = 10, AUC-ROC: 0.7631, Accuracy = 0.7190, F1_Score: 0.4937\n",
      "Fractions: = 0.27, C = 100, AUC-ROC: 0.7631, Accuracy = 0.7190, F1_Score: 0.4937\n",
      "Fractions: = 0.30000000000000004, C = 0.001, AUC-ROC: 0.7660, Accuracy = 0.7780, F1_Score: 0.4572\n",
      "Fractions: = 0.30000000000000004, C = 0.01, AUC-ROC: 0.7687, Accuracy = 0.7505, F1_Score: 0.5074\n",
      "Fractions: = 0.30000000000000004, C = 0.1, AUC-ROC: 0.7646, Accuracy = 0.7350, F1_Score: 0.4962\n",
      "Fractions: = 0.30000000000000004, C = 1, AUC-ROC: 0.7632, Accuracy = 0.7345, F1_Score: 0.4957\n",
      "Fractions: = 0.30000000000000004, C = 10, AUC-ROC: 0.7631, Accuracy = 0.7345, F1_Score: 0.4957\n",
      "Fractions: = 0.30000000000000004, C = 100, AUC-ROC: 0.7630, Accuracy = 0.7345, F1_Score: 0.4957\n",
      "\n",
      "Best Model:\n",
      "LogisticRegression(C=0.01, random_state=12345)\n",
      "Fractions: 0.30000000000000004\n",
      "Best AUC-ROC: 0.769\n",
      "Best accuracy: 0.7345\n",
      "Best F1 score: 0.5074\n"
     ]
    }
   ],
   "source": [
    "#Попытаемся улучшить показатели качества модели при помощи уменьшения выборки. модель LogisticRegression\n",
    "\n",
    "def downsampling(features, target, fraction):\n",
    "    features_zeros = features[target == 0]\n",
    "    features_ones = features[target == 1]\n",
    "    target_zeros = target[target == 0]\n",
    "    target_ones = target[target == 1]\n",
    "\n",
    "    features_downsampled = pd.concat([features_zeros.sample(frac=fraction, random_state=12345)] + [features_ones])\n",
    "    target_downsampled = pd.concat([target_zeros.sample(frac=fraction, random_state=12345)] + [target_ones])\n",
    "    features_downsampled, target_downsampled = shuffle(features_downsampled, target_downsampled, random_state=12345)\n",
    "    \n",
    "    return features_downsampled, target_downsampled\n",
    "\n",
    "#Значения гиперпараметров для перебора в цикле для модели LogisticRegression\n",
    "C_values = [0.001, 0.01, 0.1, 1, 10, 100]\n",
    "\n",
    "#Лучшая модель и лучший AUC-ROC\n",
    "best_model = None\n",
    "best_auc_roc = -np.inf\n",
    "\n",
    "for i in np.arange(0.03, 0.31, 0.03):\n",
    "    features_downsampled, target_downsampled = downsampling(features_train, target_train, i)\n",
    "    # Перебор гиперпараметров в цикле\n",
    "    for C_value in C_values:\n",
    "        model = LogisticRegression(C=C_value, random_state=12345)\n",
    "\n",
    "        #Обучаем модель на тренировочных данных\n",
    "        model.fit(features_downsampled, target_downsampled)\n",
    "        predictions = model.predict(features_valid)\n",
    "\n",
    "        #Предсказания на валидационных данных\n",
    "        val_probs = model.predict_proba(features_valid)[:, 1]\n",
    "\n",
    "        # Рассчет метрик\n",
    "        auc_roc = roc_auc_score(target_valid, val_probs)\n",
    "        score = accuracy_score(predictions, target_valid)\n",
    "        f_score = f1_score(target_valid, predictions)\n",
    "\n",
    "\n",
    "        # Сравнение с текущим лучшим AUC-ROC и сохранение лучшей модели\n",
    "        if auc_roc > best_auc_roc:\n",
    "            best_auc_roc = auc_roc\n",
    "            best_score = score\n",
    "            best_f_score = f_score\n",
    "            best_model = model\n",
    "            fraction = i\n",
    "\n",
    "        # Вывод результатов для текущего значения\n",
    "        print(f\"Fractions: = {i}, C = {C_value}, AUC-ROC: {auc_roc:.4f}, Accuracy = {score:.4f}, F1_Score: {f_score:.4f}\")\n",
    "\n",
    "# Вывод лучшей модели и лучший AUC-ROC\n",
    "\n",
    "print(\"\\nBest Model:\")\n",
    "print(best_model)\n",
    "print(f\"Fractions: {fraction}\")\n",
    "print(f\"Best AUC-ROC: {best_auc_roc:.3f}\")\n",
    "print(f\"Best accuracy: {score:.4f}\")\n",
    "print(f\"Best F1 score: {best_f_score:.4f}\")\n",
    "\n"
   ]
  },
  {
   "cell_type": "code",
   "execution_count": 33,
   "metadata": {},
   "outputs": [
    {
     "name": "stdout",
     "output_type": "stream",
     "text": [
      "Repeats: = 1, C = 0.001, AUC-ROC: 0.7693, Accuracy = 0.7895, F1_Score: 0.0000\n",
      "Repeats: = 1, C = 0.01, AUC-ROC: 0.7662, Accuracy = 0.8035, F1_Score: 0.2279\n",
      "Repeats: = 1, C = 0.1, AUC-ROC: 0.7594, Accuracy = 0.8030, F1_Score: 0.3063\n",
      "Repeats: = 1, C = 1, AUC-ROC: 0.7582, Accuracy = 0.8020, F1_Score: 0.3242\n",
      "Repeats: = 1, C = 10, AUC-ROC: 0.7581, Accuracy = 0.8020, F1_Score: 0.3242\n",
      "Repeats: = 1, C = 100, AUC-ROC: 0.7581, Accuracy = 0.8020, F1_Score: 0.3242\n",
      "Repeats: = 2, C = 0.001, AUC-ROC: 0.7703, Accuracy = 0.7935, F1_Score: 0.2742\n",
      "Repeats: = 2, C = 0.01, AUC-ROC: 0.7662, Accuracy = 0.7835, F1_Score: 0.4234\n",
      "Repeats: = 2, C = 0.1, AUC-ROC: 0.7616, Accuracy = 0.7825, F1_Score: 0.4583\n",
      "Repeats: = 2, C = 1, AUC-ROC: 0.7609, Accuracy = 0.7835, F1_Score: 0.4621\n",
      "Repeats: = 2, C = 10, AUC-ROC: 0.7608, Accuracy = 0.7835, F1_Score: 0.4621\n",
      "Repeats: = 2, C = 100, AUC-ROC: 0.7608, Accuracy = 0.7835, F1_Score: 0.4621\n",
      "Repeats: = 3, C = 0.001, AUC-ROC: 0.7705, Accuracy = 0.7750, F1_Score: 0.4743\n",
      "Repeats: = 3, C = 0.01, AUC-ROC: 0.7665, Accuracy = 0.7525, F1_Score: 0.4933\n",
      "Repeats: = 3, C = 0.1, AUC-ROC: 0.7627, Accuracy = 0.7520, F1_Score: 0.5000\n",
      "Repeats: = 3, C = 1, AUC-ROC: 0.7623, Accuracy = 0.7515, F1_Score: 0.4995\n",
      "Repeats: = 3, C = 10, AUC-ROC: 0.7622, Accuracy = 0.7520, F1_Score: 0.5010\n",
      "Repeats: = 3, C = 100, AUC-ROC: 0.7622, Accuracy = 0.7520, F1_Score: 0.5010\n",
      "Repeats: = 4, C = 0.001, AUC-ROC: 0.7707, Accuracy = 0.7240, F1_Score: 0.5115\n",
      "Repeats: = 4, C = 0.01, AUC-ROC: 0.7668, Accuracy = 0.7095, F1_Score: 0.4952\n",
      "Repeats: = 4, C = 0.1, AUC-ROC: 0.7636, Accuracy = 0.7025, F1_Score: 0.4884\n",
      "Repeats: = 4, C = 1, AUC-ROC: 0.7631, Accuracy = 0.7040, F1_Score: 0.4905\n",
      "Repeats: = 4, C = 10, AUC-ROC: 0.7630, Accuracy = 0.7040, F1_Score: 0.4905\n",
      "Repeats: = 4, C = 100, AUC-ROC: 0.7630, Accuracy = 0.7040, F1_Score: 0.4905\n",
      "Repeats: = 5, C = 0.001, AUC-ROC: 0.7709, Accuracy = 0.6395, F1_Score: 0.4802\n",
      "Repeats: = 5, C = 0.01, AUC-ROC: 0.7669, Accuracy = 0.6655, F1_Score: 0.4874\n",
      "Repeats: = 5, C = 0.1, AUC-ROC: 0.7642, Accuracy = 0.6645, F1_Score: 0.4858\n",
      "Repeats: = 5, C = 1, AUC-ROC: 0.7637, Accuracy = 0.6620, F1_Score: 0.4824\n",
      "Repeats: = 5, C = 10, AUC-ROC: 0.7637, Accuracy = 0.6620, F1_Score: 0.4824\n",
      "Repeats: = 5, C = 100, AUC-ROC: 0.7637, Accuracy = 0.6620, F1_Score: 0.4824\n",
      "Repeats: = 6, C = 0.001, AUC-ROC: 0.7710, Accuracy = 0.5570, F1_Score: 0.4511\n",
      "Repeats: = 6, C = 0.01, AUC-ROC: 0.7669, Accuracy = 0.6090, F1_Score: 0.4688\n",
      "Repeats: = 6, C = 0.1, AUC-ROC: 0.7645, Accuracy = 0.6200, F1_Score: 0.4737\n",
      "Repeats: = 6, C = 1, AUC-ROC: 0.7641, Accuracy = 0.6190, F1_Score: 0.4730\n",
      "Repeats: = 6, C = 10, AUC-ROC: 0.7641, Accuracy = 0.6190, F1_Score: 0.4730\n",
      "Repeats: = 6, C = 100, AUC-ROC: 0.7641, Accuracy = 0.6190, F1_Score: 0.4730\n",
      "Repeats: = 7, C = 0.001, AUC-ROC: 0.7711, Accuracy = 0.4985, F1_Score: 0.4324\n",
      "Repeats: = 7, C = 0.01, AUC-ROC: 0.7670, Accuracy = 0.5655, F1_Score: 0.4545\n",
      "Repeats: = 7, C = 0.1, AUC-ROC: 0.7647, Accuracy = 0.5725, F1_Score: 0.4565\n",
      "Repeats: = 7, C = 1, AUC-ROC: 0.7644, Accuracy = 0.5740, F1_Score: 0.4559\n",
      "Repeats: = 7, C = 10, AUC-ROC: 0.7644, Accuracy = 0.5735, F1_Score: 0.4550\n",
      "Repeats: = 7, C = 100, AUC-ROC: 0.7644, Accuracy = 0.5735, F1_Score: 0.4550\n",
      "Repeats: = 8, C = 0.001, AUC-ROC: 0.7711, Accuracy = 0.4370, F1_Score: 0.4117\n",
      "Repeats: = 8, C = 0.01, AUC-ROC: 0.7671, Accuracy = 0.5240, F1_Score: 0.4393\n",
      "Repeats: = 8, C = 0.1, AUC-ROC: 0.7649, Accuracy = 0.5325, F1_Score: 0.4405\n",
      "Repeats: = 8, C = 1, AUC-ROC: 0.7646, Accuracy = 0.5330, F1_Score: 0.4407\n",
      "Repeats: = 8, C = 10, AUC-ROC: 0.7646, Accuracy = 0.5335, F1_Score: 0.4410\n",
      "Repeats: = 8, C = 100, AUC-ROC: 0.7646, Accuracy = 0.5335, F1_Score: 0.4410\n",
      "Repeats: = 9, C = 0.001, AUC-ROC: 0.7711, Accuracy = 0.3945, F1_Score: 0.3984\n",
      "Repeats: = 9, C = 0.01, AUC-ROC: 0.7670, Accuracy = 0.4900, F1_Score: 0.4257\n",
      "Repeats: = 9, C = 0.1, AUC-ROC: 0.7650, Accuracy = 0.5000, F1_Score: 0.4292\n",
      "Repeats: = 9, C = 1, AUC-ROC: 0.7647, Accuracy = 0.5005, F1_Score: 0.4295\n",
      "Repeats: = 9, C = 10, AUC-ROC: 0.7647, Accuracy = 0.5005, F1_Score: 0.4295\n",
      "Repeats: = 9, C = 100, AUC-ROC: 0.7647, Accuracy = 0.5005, F1_Score: 0.4295\n",
      "Repeats: = 10, C = 0.001, AUC-ROC: 0.7712, Accuracy = 0.3595, F1_Score: 0.3880\n",
      "Repeats: = 10, C = 0.01, AUC-ROC: 0.7670, Accuracy = 0.4620, F1_Score: 0.4184\n",
      "Repeats: = 10, C = 0.1, AUC-ROC: 0.7651, Accuracy = 0.4730, F1_Score: 0.4196\n",
      "Repeats: = 10, C = 1, AUC-ROC: 0.7649, Accuracy = 0.4740, F1_Score: 0.4194\n",
      "Repeats: = 10, C = 10, AUC-ROC: 0.7649, Accuracy = 0.4740, F1_Score: 0.4194\n",
      "Repeats: = 10, C = 100, AUC-ROC: 0.7649, Accuracy = 0.4740, F1_Score: 0.4194\n",
      "\n",
      "Best Model:\n",
      "Repeats: 10\n",
      "LogisticRegression(C=0.001, random_state=12345)\n",
      "Best AUC-ROC: 0.7712\n",
      "Best accuracy: 0.4740\n",
      "Best F1 score: 0.3880\n"
     ]
    }
   ],
   "source": [
    "#Попытаемся улучшить показатели качества модели при помощи увеличения выборки. модель LogisticRegression\n",
    "\n",
    "def upsampling(features, target, repeat):\n",
    "    features_zeros = features[target == 0]\n",
    "    features_ones = features[target == 1]\n",
    "    target_zeros = target[target == 0]\n",
    "    target_ones = target[target == 1]\n",
    "\n",
    "    features_upsampled = pd.concat([features_zeros] + [features_ones] * repeat)\n",
    "    target_upsampled = pd.concat([target_zeros] + [target_ones] * repeat)\n",
    "    features_upsampled, target_upsampled = shuffle(features_upsampled, target_upsampled, random_state=12345)\n",
    "    \n",
    "    return features_upsampled, target_upsampled\n",
    "\n",
    "\n",
    "#Значения гиперпараметров для перебора в цикле для модели LogisticRegression\n",
    "C_values = [0.001, 0.01, 0.1, 1, 10, 100]\n",
    "\n",
    "#Лучшая модель и лучший AUC-ROC\n",
    "best_model = None\n",
    "best_auc_roc = -np.inf\n",
    "\n",
    "for repeat in range(1,11,1):\n",
    "    features_upsampled, target_upsampled = upsampling(features_train, target_train, repeat)\n",
    "    # Перебор гиперпараметров в цикле\n",
    "    for C_value in C_values:\n",
    "        model = LogisticRegression(C=C_value, random_state=12345)\n",
    "\n",
    "        #Обучаем модель на тренировочных данных\n",
    "        model.fit(features_upsampled, target_upsampled)\n",
    "        predictions = model.predict(features_valid)\n",
    "\n",
    "        #Предсказания на валидационных данных\n",
    "        val_probs = model.predict_proba(features_valid)[:, 1]\n",
    "\n",
    "        # Рассчет метрик\n",
    "        auc_roc = roc_auc_score(target_valid, val_probs)\n",
    "        score = accuracy_score(predictions, target_valid)\n",
    "        f_score = f1_score(target_valid, predictions)\n",
    "\n",
    "\n",
    "        # Сравнение с текущим лучшим AUC-ROC и сохранение лучшей модели\n",
    "        if auc_roc > best_auc_roc:\n",
    "            best_auc_roc = auc_roc\n",
    "            best_score = score\n",
    "            best_f_score = f_score\n",
    "            best_model = model\n",
    "            repeats = repeat\n",
    "\n",
    "        # Вывод результатов для текущего значения\n",
    "        print(f\"Repeats: = {repeat}, C = {C_value}, AUC-ROC: {auc_roc:.4f}, Accuracy = {score:.4f}, F1_Score: {f_score:.4f}\")\n",
    "\n",
    "# Вывод лучшей модели лучший AUC-ROC\n",
    "\n",
    "print(\"\\nBest Model:\")\n",
    "print(f\"Repeats: {repeats}\")\n",
    "print(best_model)\n",
    "print(f\"Best AUC-ROC: {best_auc_roc:.4f}\")\n",
    "print(f\"Best accuracy: {score:.4f}\")\n",
    "print(f\"Best F1 score: {best_f_score:.4f}\")\n",
    "\n"
   ]
  },
  {
   "cell_type": "markdown",
   "metadata": {},
   "source": [
    "<div class=\"alert alert-block alert-success\">\n",
    "<b>Успех👍:</b> \n",
    "    \n",
    "Функция расписана как надо, все верно - молодец!\n",
    "</div>\n",
    "\n",
    "<div class=\"alert alert-block alert-danger\">\n",
    "<b>Ошибка❌:</b> \n",
    "    \n",
    "Перебора гиперпараметров нет - добавь (только class_weight не добавляй, ведь это уже будет метод борьбы с дисбалансом, а нам нужно проверить работу downsample)\n",
    "    \n",
    "Auc-roc метрики нет - добавь\n",
    "    \n",
    "реализовал только лес, нужна еще одна модель\n",
    "</div>"
   ]
  },
  {
   "cell_type": "markdown",
   "metadata": {},
   "source": [
    "<div class=\"alert alert-block alert-success\">\n",
    "<b>Успех👍:</b> \n",
    "    \n",
    "Ну и увеличение выборки также реализовано превосходно, мое почтение!\n",
    "</div>\n",
    "\n",
    "<div class=\"alert alert-block alert-danger\">\n",
    "<b>Ошибка❌:</b> \n",
    "    \n",
    "Перебора гиперпараметров нет - добавь (только class_weight не добавляй, ведь это уже будет метод борьбы с дисбалансом, а нам нужно проверить работу upsample)\n",
    "    \n",
    "Auc-roc метрики нет - добавь\n",
    "    \n",
    "реализовал только лес, нужна еще одна модель\n",
    "</div>"
   ]
  },
  {
   "cell_type": "markdown",
   "metadata": {},
   "source": [
    "<div class=\"alert alert-block alert-info\">\n",
    "<b>Совет🤔 В2: </b> \n",
    "    \n",
    "Функции постоянно не нужно дублировать, достаточно одного раза написать, поэтому мой совет - просто убери повторы функций!\n",
    "</div>\n",
    "\n",
    "<div class=\"alert alert-block alert-success\">\n",
    "<b>Успех👍 В2:</b> \n",
    "    \n",
    "Все есть, гиперпараметры и метрики, молодец!\n",
    "</div>"
   ]
  },
  {
   "cell_type": "markdown",
   "metadata": {},
   "source": [
    "<font color = 'green'> \n",
    "При глубине 11 и числе деревьев 101. F1 score показал наилучший результат : 0.6068 и accuracy_score : 0.8445\n",
    "Уменьшение и увеличение размера выборок не дало качественного прироста модели\n",
    "</font>\n",
    "\n"
   ]
  },
  {
   "cell_type": "markdown",
   "metadata": {},
   "source": [
    "## Тестирование модели"
   ]
  },
  {
   "cell_type": "code",
   "execution_count": 34,
   "metadata": {},
   "outputs": [
    {
     "name": "stdout",
     "output_type": "stream",
     "text": [
      "Матрица ошибок\n",
      "[[1205  377]\n",
      " [ 322   96]]\n",
      "********************************\n",
      "Accuracy: 0.827\n",
      "F1-Score: 0.6138392857142857\n"
     ]
    }
   ],
   "source": [
    "# Протестируем модель на тестовой выборке с соответствующими параметрами\n",
    "model = RandomForestClassifier(n_estimators = 200, max_depth=9, class_weight='balanced', random_state=12345)\n",
    "model.fit(features_train, target_train)\n",
    "predictions = model.predict(features_test)\n",
    "accuracy_valid = accuracy_score(predictions, target_test)\n",
    "print('Матрица ошибок')\n",
    "print(confusion_matrix(target_valid, predictions))\n",
    "print('********************************')\n",
    "print('Accuracy:', accuracy_valid)\n",
    "print('F1-Score:', f1_score(target_test, predictions))"
   ]
  },
  {
   "cell_type": "markdown",
   "metadata": {},
   "source": [
    "<font color = 'green'> \n",
    "На тестовой выборке, при глубине 11 и числе деревьев 101, F1 score показал результат : 0.6203 и accuracy_score : 0.847\n",
    "</font>"
   ]
  },
  {
   "cell_type": "markdown",
   "metadata": {},
   "source": [
    "<font color = 'green'> ROC AUC (Area Under the Receiver Operating Characteristic Curve) — это метрика, используемая для оценки производительности модели бинарной классификации. ROC AUC представляет собой площадь под ROC-кривой, которая является графическим представлением зависимости между чувствительностью (True Positive Rate, TPR) и специфичностью (False Positive Rate, FPR) модели на разных пороговых значениях.\n",
    "\n",
    "ROC AUC имеет диапазон от 0 до 1. Значение 1 указывает на идеальную модель классификации, которая делает только верные предсказания. Значение 0,5 указывает на модель, которая предсказывает на уровне случайного выбора, т.е. предсказания модели не лучше, чем случайные предположения. Значение, близкое к 0, указывает на очень плохую модель классификации.</font>"
   ]
  },
  {
   "cell_type": "code",
   "execution_count": 35,
   "metadata": {
    "scrolled": true
   },
   "outputs": [
    {
     "data": {
      "image/png": "[encoded data removed]",
      "text/plain": [
       "<Figure size 720x504 with 1 Axes>"
      ]
     },
     "metadata": {
      "needs_background": "light"
     },
     "output_type": "display_data"
    }
   ],
   "source": [
    "model = RandomForestClassifier(n_estimators = 200, max_depth=9, class_weight='balanced', random_state=12345)\n",
    "model.fit(features_train, target_train)\n",
    "\n",
    "#Размер фигуры\n",
    "plt.figure(figsize=(10, 7))\n",
    "\n",
    "#Экземпляр оси для отображения графика\n",
    "ax = plt.gca()\n",
    "\n",
    "#Отобразим ROC-кривую для модели\n",
    "plot_roc_curve(model, features_test, target_test, ax=ax)\n",
    "\n",
    "#Отобразим ROC-кривую для случайного предсказания\n",
    "random_probs = np.random.rand(target_test.shape[0])\n",
    "random_fpr, random_tpr, _ = roc_curve(target_test, random_probs)\n",
    "plt.plot(random_fpr, random_tpr, linestyle='--', label='Random Prediction (AUC = %0.2f)'%auc(random_fpr, random_tpr))\n",
    "\n",
    "#Подпишем оси и добавим легенду\n",
    "plt.xlabel('False Positive Rate')\n",
    "plt.ylabel('True Positive Rate')\n",
    "plt.legend(loc='lower right')\n",
    "\n",
    "#Покажем график\n",
    "plt.show()\n"
   ]
  },
  {
   "cell_type": "markdown",
   "metadata": {},
   "source": [
    "<div class=\"alert alert-block alert-success\">\n",
    "<b>Успех👍:</b> \n",
    "    \n",
    "Отлично, тест есть, все верно - молодец\n",
    "</div>"
   ]
  },
  {
   "cell_type": "markdown",
   "metadata": {},
   "source": [
    "Общий вывод:\n",
    "    1.    Загрузили и посмотрели набор данных об оттоке клиентов. Предобработали данные: изучили типы данных, проверили яваные дубликаты, \n",
    "    корреляции, заменили пропуски;\n",
    "    2.    Попробовали модели RandomForestClassifier и LogisticRegression:\n",
    "    LogisticRegression показал качество классификации хуже, чем RandomForestClassifier.\n",
    "    3.    Попробовал увеличивать и уменьшать выборки для увеличения f1_score, но наибольшее, что получил, это f1_score = 0.59.\n",
    "    4.    Применив метод подбора количества деревьев и глубины леса в цикле, нашел наиболее оптимальные параметры для модели \n",
    "    и получил AUC-ROC: 0.8528, Accuracy = 0.8365, f1_score = 0.62; При параметрах n_estimators = 200, max_depth=9; \n",
    "    5. Отрисовали ROC кривую и получили roc auc score : 0.85, что больше случайного порога в 0.5. \n",
    "    Наша модель предсказывает достаточно хорошо - лучше чем случай)\n"
   ]
  },
  {
   "cell_type": "markdown",
   "metadata": {},
   "source": [
    "<div class=\"alert alert-block alert-success\">\n",
    "<b>Успех👍:</b> \n",
    "    \n",
    "Вывод расписал добротно, мне нравится!\n",
    "</div>"
   ]
  },
  {
   "cell_type": "markdown",
   "metadata": {},
   "source": [
    "## Чек-лист готовности проекта"
   ]
  },
  {
   "cell_type": "markdown",
   "metadata": {},
   "source": [
    "Поставьте 'x' в выполненных пунктах. Далее нажмите Shift+Enter."
   ]
  },
  {
   "cell_type": "markdown",
   "metadata": {},
   "source": [
    "- [x]  Jupyter Notebook открыт\n",
    "- [ ]  Весь код выполняется без ошибок\n",
    "- [ ]  Ячейки с кодом расположены в порядке исполнения\n",
    "- [ ]  Выполнен шаг 1: данные подготовлены\n",
    "- [ ]  Выполнен шаг 2: задача исследована\n",
    "    - [ ]  Исследован баланс классов\n",
    "    - [ ]  Изучены модели без учёта дисбаланса\n",
    "    - [ ]  Написаны выводы по результатам исследования\n",
    "- [ ]  Выполнен шаг 3: учтён дисбаланс\n",
    "    - [ ]  Применено несколько способов борьбы с дисбалансом\n",
    "    - [ ]  Написаны выводы по результатам исследования\n",
    "- [ ]  Выполнен шаг 4: проведено тестирование\n",
    "- [ ]  Удалось достичь *F1*-меры не менее 0.59\n",
    "- [ ]  Исследована метрика *AUC-ROC*"
   ]
  },
  {
   "cell_type": "markdown",
   "metadata": {},
   "source": [
    "<div style=\"border:solid Chocolate 2px; padding: 40px\">\n",
    "\n",
    "<h2><b>Общий вывод по проекту</b></h2>\n",
    "\n",
    "Ты очень постарался, спасибо тебе за такую работу!)\n",
    "\n",
    "В ходе проекта были выполнены все этапы проекта, главная цель достигнута. Конечно присутствует ряд моментов, которые необходимо рассмотреть, но ничего страшного, для это я здесь). Давай пройдемся по всему что ты сделал, чтобы понять что надо сделать для того, чтобы проект был засчитан:\n",
    "\n",
    "- заполнение пропусков выполнено с ошибкой - поправь\n",
    "- стандартизация выполнена с проблемой - поправь\n",
    "- отсутствует перебор гиперпараметров, реализуй перебор\n",
    "- реализовал только по одной модели на каждом методе борьбы с дисбалансом, а нужно минимум по две - добавь лог регрессию туда\n",
    "- Есть советы по проекту, если хочешь и есть время - реализуй их. Если нет, то запомни на будущее)\n",
    "    \n",
    "`Отдельно прошу тебя рассмотреть совет с кодирование категориальных признаков - это очень важный момент. В следующих проектах, тебе проставят за такую реализацию минус`\n",
    "\n",
    "Работа классная, но нужно доработать! Удачи)"
   ]
  },
  {
   "cell_type": "markdown",
   "metadata": {},
   "source": [
    "<div style=\"border:solid Chocolate 2px; padding: 40px\">\n",
    "\n",
    "<h2><b>Общий вывод по проекту В2</b></h2>\n",
    "\n",
    "Все, проект сделан полностью, я готов принять его, так держать!"
   ]
  },
  {
   "cell_type": "code",
   "execution_count": null,
   "metadata": {},
   "outputs": [],
   "source": []
  }
 ],
 "metadata": {
  "ExecuteTimeLog": [
   {
    "duration": 1842,
    "start_time": "2023-04-12T18:13:25.816Z"
   },
   {
    "duration": 108,
    "start_time": "2023-04-12T18:14:01.720Z"
   },
   {
    "duration": 65,
    "start_time": "2023-04-12T18:14:20.330Z"
   },
   {
    "duration": 4,
    "start_time": "2023-04-12T18:14:21.854Z"
   },
   {
    "duration": 52,
    "start_time": "2023-04-12T18:14:35.143Z"
   },
   {
    "duration": 60,
    "start_time": "2023-04-12T18:14:51.949Z"
   },
   {
    "duration": 11,
    "start_time": "2023-04-12T18:18:04.623Z"
   },
   {
    "duration": 18,
    "start_time": "2023-04-12T18:18:17.367Z"
   },
   {
    "duration": 27,
    "start_time": "2023-04-12T18:20:25.353Z"
   },
   {
    "duration": 1304,
    "start_time": "2023-04-12T18:21:27.549Z"
   },
   {
    "duration": 76,
    "start_time": "2023-04-12T18:23:01.187Z"
   },
   {
    "duration": 3,
    "start_time": "2023-04-12T18:23:13.140Z"
   },
   {
    "duration": 82,
    "start_time": "2023-04-14T18:14:21.777Z"
   },
   {
    "duration": 1843,
    "start_time": "2023-04-14T18:14:26.272Z"
   },
   {
    "duration": 116,
    "start_time": "2023-04-14T18:14:28.118Z"
   },
   {
    "duration": 79,
    "start_time": "2023-04-14T18:14:28.236Z"
   },
   {
    "duration": 16,
    "start_time": "2023-04-14T18:14:28.318Z"
   },
   {
    "duration": 24,
    "start_time": "2023-04-14T18:14:28.338Z"
   },
   {
    "duration": 1293,
    "start_time": "2023-04-14T18:14:28.364Z"
   },
   {
    "duration": 3,
    "start_time": "2023-04-14T18:14:29.659Z"
   },
   {
    "duration": 7,
    "start_time": "2023-04-14T18:14:40.770Z"
   },
   {
    "duration": 6,
    "start_time": "2023-04-14T18:15:07.909Z"
   },
   {
    "duration": 7,
    "start_time": "2023-04-14T18:16:21.602Z"
   },
   {
    "duration": 5,
    "start_time": "2023-04-14T18:22:45.123Z"
   },
   {
    "duration": 20,
    "start_time": "2023-04-14T18:23:15.154Z"
   },
   {
    "duration": 30,
    "start_time": "2023-04-14T18:23:32.825Z"
   },
   {
    "duration": 1298,
    "start_time": "2023-04-14T18:23:56.374Z"
   },
   {
    "duration": 5,
    "start_time": "2023-04-14T18:24:04.856Z"
   },
   {
    "duration": 4,
    "start_time": "2023-04-14T18:24:57.886Z"
   },
   {
    "duration": 162,
    "start_time": "2023-04-14T18:24:57.892Z"
   },
   {
    "duration": 74,
    "start_time": "2023-04-14T18:24:58.056Z"
   },
   {
    "duration": 11,
    "start_time": "2023-04-14T18:24:58.132Z"
   },
   {
    "duration": 24,
    "start_time": "2023-04-14T18:24:58.144Z"
   },
   {
    "duration": 1253,
    "start_time": "2023-04-14T18:24:58.171Z"
   },
   {
    "duration": 2,
    "start_time": "2023-04-14T18:24:59.426Z"
   },
   {
    "duration": 18,
    "start_time": "2023-04-14T18:24:59.430Z"
   },
   {
    "duration": 9,
    "start_time": "2023-04-14T18:24:59.450Z"
   },
   {
    "duration": 7,
    "start_time": "2023-04-14T18:24:59.463Z"
   },
   {
    "duration": 33,
    "start_time": "2023-04-14T18:24:59.472Z"
   },
   {
    "duration": 20,
    "start_time": "2023-04-14T18:25:13.721Z"
   },
   {
    "duration": 6,
    "start_time": "2023-04-14T18:25:27.178Z"
   },
   {
    "duration": 4,
    "start_time": "2023-04-14T18:25:31.343Z"
   },
   {
    "duration": 10,
    "start_time": "2023-04-14T18:25:37.743Z"
   },
   {
    "duration": 5,
    "start_time": "2023-04-14T18:25:40.545Z"
   },
   {
    "duration": 3,
    "start_time": "2023-04-14T18:25:45.966Z"
   },
   {
    "duration": 29,
    "start_time": "2023-04-14T18:25:52.373Z"
   },
   {
    "duration": 6,
    "start_time": "2023-04-14T18:26:11.270Z"
   },
   {
    "duration": 6,
    "start_time": "2023-04-14T18:26:22.547Z"
   },
   {
    "duration": 5,
    "start_time": "2023-04-14T18:26:28.943Z"
   },
   {
    "duration": 65,
    "start_time": "2023-04-14T18:26:28.950Z"
   },
   {
    "duration": 55,
    "start_time": "2023-04-14T18:26:29.017Z"
   },
   {
    "duration": 29,
    "start_time": "2023-04-14T18:26:29.073Z"
   },
   {
    "duration": 23,
    "start_time": "2023-04-14T18:26:29.106Z"
   },
   {
    "duration": 1249,
    "start_time": "2023-04-14T18:26:29.131Z"
   },
   {
    "duration": 3,
    "start_time": "2023-04-14T18:26:30.381Z"
   },
   {
    "duration": 17,
    "start_time": "2023-04-14T18:26:30.395Z"
   },
   {
    "duration": 36,
    "start_time": "2023-04-14T18:26:30.414Z"
   },
   {
    "duration": 23,
    "start_time": "2023-04-14T18:26:30.452Z"
   },
   {
    "duration": 32,
    "start_time": "2023-04-14T18:26:30.477Z"
   },
   {
    "duration": 6,
    "start_time": "2023-04-14T18:26:40.913Z"
   },
   {
    "duration": 6,
    "start_time": "2023-04-14T18:26:46.273Z"
   },
   {
    "duration": 1520,
    "start_time": "2023-04-14T18:27:19.329Z"
   },
   {
    "duration": 67,
    "start_time": "2023-04-14T18:27:20.852Z"
   },
   {
    "duration": 56,
    "start_time": "2023-04-14T18:27:20.921Z"
   },
   {
    "duration": 16,
    "start_time": "2023-04-14T18:27:20.993Z"
   },
   {
    "duration": 21,
    "start_time": "2023-04-14T18:27:21.014Z"
   },
   {
    "duration": 1344,
    "start_time": "2023-04-14T18:27:21.037Z"
   },
   {
    "duration": 3,
    "start_time": "2023-04-14T18:27:22.383Z"
   },
   {
    "duration": 35,
    "start_time": "2023-04-14T18:27:22.388Z"
   },
   {
    "duration": 31,
    "start_time": "2023-04-14T18:27:22.425Z"
   },
   {
    "duration": 29,
    "start_time": "2023-04-14T18:27:22.458Z"
   },
   {
    "duration": 6,
    "start_time": "2023-04-14T18:27:26.934Z"
   },
   {
    "duration": 22,
    "start_time": "2023-04-14T18:27:37.942Z"
   },
   {
    "duration": 3,
    "start_time": "2023-04-14T18:28:19.716Z"
   },
   {
    "duration": 138,
    "start_time": "2023-04-14T18:28:23.676Z"
   },
   {
    "duration": 23,
    "start_time": "2023-04-14T18:28:34.397Z"
   },
   {
    "duration": 30,
    "start_time": "2023-04-14T18:28:39.101Z"
   },
   {
    "duration": 22,
    "start_time": "2023-04-14T18:28:42.717Z"
   },
   {
    "duration": 10,
    "start_time": "2023-04-14T18:41:18.991Z"
   },
   {
    "duration": 10,
    "start_time": "2023-04-14T18:41:40.269Z"
   },
   {
    "duration": 1698,
    "start_time": "2023-04-14T18:43:10.623Z"
   },
   {
    "duration": 78,
    "start_time": "2023-04-14T18:43:12.328Z"
   },
   {
    "duration": 89,
    "start_time": "2023-04-14T18:43:12.410Z"
   },
   {
    "duration": 20,
    "start_time": "2023-04-14T18:43:12.502Z"
   },
   {
    "duration": 31,
    "start_time": "2023-04-14T18:43:12.524Z"
   },
   {
    "duration": 1283,
    "start_time": "2023-04-14T18:43:12.558Z"
   },
   {
    "duration": 3,
    "start_time": "2023-04-14T18:43:13.844Z"
   },
   {
    "duration": 23,
    "start_time": "2023-04-14T18:43:13.849Z"
   },
   {
    "duration": 17,
    "start_time": "2023-04-14T18:43:13.874Z"
   },
   {
    "duration": 17,
    "start_time": "2023-04-14T18:43:13.893Z"
   },
   {
    "duration": 17,
    "start_time": "2023-04-14T18:43:13.913Z"
   },
   {
    "duration": 12,
    "start_time": "2023-04-14T18:43:13.932Z"
   },
   {
    "duration": 10,
    "start_time": "2023-04-14T18:43:13.945Z"
   },
   {
    "duration": 7,
    "start_time": "2023-04-14T18:43:26.390Z"
   },
   {
    "duration": 20,
    "start_time": "2023-04-14T18:46:07.374Z"
   },
   {
    "duration": 46,
    "start_time": "2023-04-14T18:46:49.691Z"
   },
   {
    "duration": 20,
    "start_time": "2023-04-14T18:46:55.262Z"
   },
   {
    "duration": 4,
    "start_time": "2023-04-14T18:49:55.875Z"
   },
   {
    "duration": 90,
    "start_time": "2023-04-14T18:49:55.881Z"
   },
   {
    "duration": 61,
    "start_time": "2023-04-14T18:49:55.972Z"
   },
   {
    "duration": 18,
    "start_time": "2023-04-14T18:49:56.034Z"
   },
   {
    "duration": 49,
    "start_time": "2023-04-14T18:49:56.055Z"
   },
   {
    "duration": 1353,
    "start_time": "2023-04-14T18:49:56.106Z"
   },
   {
    "duration": 3,
    "start_time": "2023-04-14T18:49:57.462Z"
   },
   {
    "duration": 12,
    "start_time": "2023-04-14T18:49:57.467Z"
   },
   {
    "duration": 15,
    "start_time": "2023-04-14T18:49:57.496Z"
   },
   {
    "duration": 8,
    "start_time": "2023-04-14T18:49:57.513Z"
   },
   {
    "duration": 19,
    "start_time": "2023-04-14T18:49:57.524Z"
   },
   {
    "duration": 43,
    "start_time": "2023-04-14T18:50:02.465Z"
   },
   {
    "duration": 30,
    "start_time": "2023-04-14T18:50:14.771Z"
   },
   {
    "duration": 29,
    "start_time": "2023-04-14T18:50:31.283Z"
   },
   {
    "duration": 8,
    "start_time": "2023-04-14T18:55:35.192Z"
   },
   {
    "duration": 55,
    "start_time": "2023-04-14T18:55:35.406Z"
   },
   {
    "duration": 54,
    "start_time": "2023-04-14T18:55:35.462Z"
   },
   {
    "duration": 11,
    "start_time": "2023-04-14T18:55:35.518Z"
   },
   {
    "duration": 28,
    "start_time": "2023-04-14T18:55:35.530Z"
   },
   {
    "duration": 1112,
    "start_time": "2023-04-14T18:55:35.614Z"
   },
   {
    "duration": 2,
    "start_time": "2023-04-14T18:55:36.729Z"
   },
   {
    "duration": 13,
    "start_time": "2023-04-14T18:55:36.733Z"
   },
   {
    "duration": 23,
    "start_time": "2023-04-14T18:55:36.747Z"
   },
   {
    "duration": 21,
    "start_time": "2023-04-14T18:55:36.772Z"
   },
   {
    "duration": 16,
    "start_time": "2023-04-14T18:55:36.797Z"
   },
   {
    "duration": 6,
    "start_time": "2023-04-14T18:55:40.947Z"
   },
   {
    "duration": 24,
    "start_time": "2023-04-14T18:55:53.909Z"
   },
   {
    "duration": 23,
    "start_time": "2023-04-14T18:55:56.197Z"
   },
   {
    "duration": 11,
    "start_time": "2023-04-14T18:56:17.606Z"
   },
   {
    "duration": 28,
    "start_time": "2023-04-14T18:56:35.148Z"
   },
   {
    "duration": 812,
    "start_time": "2023-04-14T19:04:33.518Z"
   },
   {
    "duration": 2399,
    "start_time": "2023-04-14T19:07:42.759Z"
   },
   {
    "duration": 2418,
    "start_time": "2023-04-14T19:09:03.221Z"
   },
   {
    "duration": 2488,
    "start_time": "2023-04-14T19:09:17.830Z"
   },
   {
    "duration": 2491,
    "start_time": "2023-04-14T19:09:30.176Z"
   },
   {
    "duration": 56,
    "start_time": "2023-04-14T19:16:43.011Z"
   },
   {
    "duration": 37,
    "start_time": "2023-04-14T19:17:00.080Z"
   },
   {
    "duration": 24,
    "start_time": "2023-04-14T19:17:08.815Z"
   },
   {
    "duration": 13,
    "start_time": "2023-04-14T19:19:35.617Z"
   },
   {
    "duration": 43,
    "start_time": "2023-04-14T19:19:43.534Z"
   },
   {
    "duration": 11,
    "start_time": "2023-04-14T19:20:28.412Z"
   },
   {
    "duration": 1078,
    "start_time": "2023-04-14T19:21:35.837Z"
   },
   {
    "duration": 20,
    "start_time": "2023-04-14T19:21:54.746Z"
   },
   {
    "duration": 18,
    "start_time": "2023-04-14T20:20:20.355Z"
   },
   {
    "duration": 16,
    "start_time": "2023-04-14T20:20:40.240Z"
   },
   {
    "duration": 139,
    "start_time": "2023-04-14T20:26:06.456Z"
   },
   {
    "duration": 24,
    "start_time": "2023-04-14T20:27:27.610Z"
   },
   {
    "duration": 266,
    "start_time": "2023-04-14T20:29:29.133Z"
   },
   {
    "duration": 35,
    "start_time": "2023-04-14T20:29:33.555Z"
   },
   {
    "duration": 207,
    "start_time": "2023-04-14T20:29:46.747Z"
   },
   {
    "duration": 27,
    "start_time": "2023-04-14T20:30:04.377Z"
   },
   {
    "duration": 129,
    "start_time": "2023-04-14T20:30:13.561Z"
   },
   {
    "duration": 25,
    "start_time": "2023-04-14T20:30:15.516Z"
   },
   {
    "duration": 356,
    "start_time": "2023-04-14T20:31:21.480Z"
   },
   {
    "duration": 1570,
    "start_time": "2023-04-14T20:32:33.778Z"
   },
   {
    "duration": 34,
    "start_time": "2023-04-14T20:32:35.351Z"
   },
   {
    "duration": 44,
    "start_time": "2023-04-14T20:32:35.387Z"
   },
   {
    "duration": 18,
    "start_time": "2023-04-14T20:32:35.433Z"
   },
   {
    "duration": 72,
    "start_time": "2023-04-14T20:32:35.455Z"
   },
   {
    "duration": 13,
    "start_time": "2023-04-14T20:32:35.529Z"
   },
   {
    "duration": 21,
    "start_time": "2023-04-14T20:32:35.544Z"
   },
   {
    "duration": 1278,
    "start_time": "2023-04-14T20:32:35.567Z"
   },
   {
    "duration": 7,
    "start_time": "2023-04-14T20:32:36.847Z"
   },
   {
    "duration": 19,
    "start_time": "2023-04-14T20:32:36.855Z"
   },
   {
    "duration": 6,
    "start_time": "2023-04-14T20:32:36.876Z"
   },
   {
    "duration": 10,
    "start_time": "2023-04-14T20:32:36.884Z"
   },
   {
    "duration": 9,
    "start_time": "2023-04-14T20:32:36.896Z"
   },
   {
    "duration": 26,
    "start_time": "2023-04-14T20:32:36.909Z"
   },
   {
    "duration": 14,
    "start_time": "2023-04-14T20:32:36.937Z"
   },
   {
    "duration": 12,
    "start_time": "2023-04-14T20:32:36.953Z"
   },
   {
    "duration": 13,
    "start_time": "2023-04-14T20:33:33.338Z"
   },
   {
    "duration": 12,
    "start_time": "2023-04-14T20:33:44.446Z"
   },
   {
    "duration": 143,
    "start_time": "2023-04-14T20:33:49.319Z"
   },
   {
    "duration": 28,
    "start_time": "2023-04-14T20:37:09.589Z"
   },
   {
    "duration": 22,
    "start_time": "2023-04-14T20:37:46.845Z"
   },
   {
    "duration": 84,
    "start_time": "2023-04-14T20:37:54.811Z"
   },
   {
    "duration": 57,
    "start_time": "2023-04-14T20:38:04.835Z"
   },
   {
    "duration": 29,
    "start_time": "2023-04-14T20:38:08.238Z"
   },
   {
    "duration": 28,
    "start_time": "2023-04-14T20:38:20.252Z"
   },
   {
    "duration": 74,
    "start_time": "2023-04-14T20:38:35.408Z"
   },
   {
    "duration": 103,
    "start_time": "2023-04-14T20:38:42.707Z"
   },
   {
    "duration": 30,
    "start_time": "2023-04-14T20:38:49.342Z"
   },
   {
    "duration": 28,
    "start_time": "2023-04-14T21:18:49.937Z"
   },
   {
    "duration": 39,
    "start_time": "2023-04-14T21:18:58.282Z"
   },
   {
    "duration": 35,
    "start_time": "2023-04-14T21:19:11.685Z"
   },
   {
    "duration": 807,
    "start_time": "2023-04-14T21:21:01.405Z"
   },
   {
    "duration": 755,
    "start_time": "2023-04-14T21:21:10.644Z"
   },
   {
    "duration": 750,
    "start_time": "2023-04-14T21:21:20.610Z"
   },
   {
    "duration": 786,
    "start_time": "2023-04-14T21:21:41.084Z"
   },
   {
    "duration": 109,
    "start_time": "2023-04-14T21:23:15.709Z"
   },
   {
    "duration": 9595,
    "start_time": "2023-04-14T21:24:26.635Z"
   },
   {
    "duration": 9627,
    "start_time": "2023-04-14T21:25:40.474Z"
   },
   {
    "duration": 9478,
    "start_time": "2023-04-14T21:25:55.437Z"
   },
   {
    "duration": 87,
    "start_time": "2023-04-14T21:28:32.341Z"
   },
   {
    "duration": 27,
    "start_time": "2023-04-14T21:38:45.083Z"
   },
   {
    "duration": 3875,
    "start_time": "2023-04-14T21:39:42.012Z"
   },
   {
    "duration": 9262,
    "start_time": "2023-04-14T21:40:06.579Z"
   },
   {
    "duration": 3604,
    "start_time": "2023-04-14T21:41:32.332Z"
   },
   {
    "duration": 3529,
    "start_time": "2023-04-14T21:41:49.495Z"
   },
   {
    "duration": 23,
    "start_time": "2023-04-14T21:52:39.726Z"
   },
   {
    "duration": 10029,
    "start_time": "2023-04-14T21:53:05.110Z"
   },
   {
    "duration": 11146,
    "start_time": "2023-04-14T21:53:23.325Z"
   },
   {
    "duration": 81,
    "start_time": "2023-04-14T21:55:47.087Z"
   },
   {
    "duration": 671,
    "start_time": "2023-04-14T21:59:23.243Z"
   },
   {
    "duration": 114,
    "start_time": "2023-04-14T22:25:38.872Z"
   },
   {
    "duration": 4,
    "start_time": "2023-04-14T22:26:25.312Z"
   },
   {
    "duration": 734,
    "start_time": "2023-04-14T22:29:59.505Z"
   },
   {
    "duration": 782,
    "start_time": "2023-04-14T22:30:30.627Z"
   },
   {
    "duration": 81,
    "start_time": "2023-04-14T22:32:12.310Z"
   },
   {
    "duration": 74,
    "start_time": "2023-04-14T22:32:21.253Z"
   },
   {
    "duration": 788,
    "start_time": "2023-04-14T22:32:30.105Z"
   },
   {
    "duration": 4,
    "start_time": "2023-04-14T22:34:34.992Z"
   },
   {
    "duration": 753,
    "start_time": "2023-04-14T22:34:43.036Z"
   },
   {
    "duration": 780,
    "start_time": "2023-04-14T22:39:14.495Z"
   },
   {
    "duration": 1414,
    "start_time": "2023-04-14T22:51:46.361Z"
   },
   {
    "duration": 36,
    "start_time": "2023-04-14T22:51:47.777Z"
   },
   {
    "duration": 27,
    "start_time": "2023-04-14T22:51:47.815Z"
   },
   {
    "duration": 14,
    "start_time": "2023-04-14T22:51:47.843Z"
   },
   {
    "duration": 59,
    "start_time": "2023-04-14T22:51:47.860Z"
   },
   {
    "duration": 10,
    "start_time": "2023-04-14T22:51:47.921Z"
   },
   {
    "duration": 27,
    "start_time": "2023-04-14T22:51:47.933Z"
   },
   {
    "duration": 1159,
    "start_time": "2023-04-14T22:51:47.962Z"
   },
   {
    "duration": 7,
    "start_time": "2023-04-14T22:51:49.123Z"
   },
   {
    "duration": 24,
    "start_time": "2023-04-14T22:51:49.131Z"
   },
   {
    "duration": 18,
    "start_time": "2023-04-14T22:51:49.157Z"
   },
   {
    "duration": 38,
    "start_time": "2023-04-14T22:51:49.177Z"
   },
   {
    "duration": 7,
    "start_time": "2023-04-14T22:51:49.217Z"
   },
   {
    "duration": 34,
    "start_time": "2023-04-14T22:51:49.227Z"
   },
   {
    "duration": 14,
    "start_time": "2023-04-14T22:51:49.263Z"
   },
   {
    "duration": 20,
    "start_time": "2023-04-14T22:51:49.279Z"
   },
   {
    "duration": 96,
    "start_time": "2023-04-14T22:51:49.301Z"
   },
   {
    "duration": 831,
    "start_time": "2023-04-14T22:51:49.398Z"
   },
   {
    "duration": 8955,
    "start_time": "2023-04-14T22:51:50.231Z"
   },
   {
    "duration": 3346,
    "start_time": "2023-04-14T22:51:59.188Z"
   },
   {
    "duration": 10521,
    "start_time": "2023-04-14T22:52:02.536Z"
   },
   {
    "duration": 622,
    "start_time": "2023-04-14T22:52:13.059Z"
   },
   {
    "duration": 770,
    "start_time": "2023-04-14T22:52:13.682Z"
   },
   {
    "duration": 4,
    "start_time": "2023-04-14T22:52:57.787Z"
   },
   {
    "duration": 805,
    "start_time": "2023-04-14T22:53:03.982Z"
   },
   {
    "duration": 1465,
    "start_time": "2023-04-14T22:54:01.716Z"
   },
   {
    "duration": 39,
    "start_time": "2023-04-14T22:54:03.183Z"
   },
   {
    "duration": 27,
    "start_time": "2023-04-14T22:54:03.224Z"
   },
   {
    "duration": 25,
    "start_time": "2023-04-14T22:54:03.253Z"
   },
   {
    "duration": 42,
    "start_time": "2023-04-14T22:54:03.280Z"
   },
   {
    "duration": 11,
    "start_time": "2023-04-14T22:54:03.324Z"
   },
   {
    "duration": 23,
    "start_time": "2023-04-14T22:54:03.337Z"
   },
   {
    "duration": 1156,
    "start_time": "2023-04-14T22:54:03.361Z"
   },
   {
    "duration": 7,
    "start_time": "2023-04-14T22:54:04.519Z"
   },
   {
    "duration": 9,
    "start_time": "2023-04-14T22:54:04.530Z"
   },
   {
    "duration": 10,
    "start_time": "2023-04-14T22:54:04.540Z"
   },
   {
    "duration": 10,
    "start_time": "2023-04-14T22:54:04.552Z"
   },
   {
    "duration": 10,
    "start_time": "2023-04-14T22:54:04.564Z"
   },
   {
    "duration": 35,
    "start_time": "2023-04-14T22:54:04.576Z"
   },
   {
    "duration": 12,
    "start_time": "2023-04-14T22:54:04.613Z"
   },
   {
    "duration": 18,
    "start_time": "2023-04-14T22:54:04.626Z"
   },
   {
    "duration": 149,
    "start_time": "2023-04-14T22:54:04.646Z"
   },
   {
    "duration": 769,
    "start_time": "2023-04-14T22:54:04.797Z"
   },
   {
    "duration": 8837,
    "start_time": "2023-04-14T22:54:05.567Z"
   },
   {
    "duration": 3254,
    "start_time": "2023-04-14T22:54:14.406Z"
   },
   {
    "duration": 10553,
    "start_time": "2023-04-14T22:54:17.662Z"
   },
   {
    "duration": 66,
    "start_time": "2023-04-15T09:46:27.045Z"
   },
   {
    "duration": 1706,
    "start_time": "2023-04-15T09:46:31.728Z"
   },
   {
    "duration": 174,
    "start_time": "2023-04-15T09:46:33.436Z"
   },
   {
    "duration": 36,
    "start_time": "2023-04-15T09:46:33.612Z"
   },
   {
    "duration": 12,
    "start_time": "2023-04-15T09:46:33.650Z"
   },
   {
    "duration": 40,
    "start_time": "2023-04-15T09:46:33.666Z"
   },
   {
    "duration": 33,
    "start_time": "2023-04-15T09:46:33.707Z"
   },
   {
    "duration": 19,
    "start_time": "2023-04-15T09:46:33.741Z"
   },
   {
    "duration": 1115,
    "start_time": "2023-04-15T09:46:33.762Z"
   },
   {
    "duration": 6,
    "start_time": "2023-04-15T09:46:34.879Z"
   },
   {
    "duration": 18,
    "start_time": "2023-04-15T09:46:34.886Z"
   },
   {
    "duration": 8,
    "start_time": "2023-04-15T09:46:34.905Z"
   },
   {
    "duration": 11,
    "start_time": "2023-04-15T09:46:34.914Z"
   },
   {
    "duration": 17,
    "start_time": "2023-04-15T09:46:34.927Z"
   },
   {
    "duration": 48,
    "start_time": "2023-04-15T09:46:38.401Z"
   },
   {
    "duration": 5,
    "start_time": "2023-04-15T18:24:53.793Z"
   },
   {
    "duration": 1631,
    "start_time": "2023-04-15T18:36:06.237Z"
   },
   {
    "duration": 46,
    "start_time": "2023-04-15T18:36:07.870Z"
   },
   {
    "duration": 31,
    "start_time": "2023-04-15T18:36:07.918Z"
   },
   {
    "duration": 17,
    "start_time": "2023-04-15T18:36:07.952Z"
   },
   {
    "duration": 76,
    "start_time": "2023-04-15T18:36:07.974Z"
   },
   {
    "duration": 63,
    "start_time": "2023-04-15T18:36:08.052Z"
   },
   {
    "duration": 32,
    "start_time": "2023-04-15T18:36:08.117Z"
   },
   {
    "duration": 1243,
    "start_time": "2023-04-15T18:36:08.151Z"
   },
   {
    "duration": 9,
    "start_time": "2023-04-15T18:36:09.396Z"
   },
   {
    "duration": 36,
    "start_time": "2023-04-15T18:36:09.407Z"
   },
   {
    "duration": 33,
    "start_time": "2023-04-15T18:36:09.445Z"
   },
   {
    "duration": 31,
    "start_time": "2023-04-15T18:36:09.479Z"
   },
   {
    "duration": 35,
    "start_time": "2023-04-15T18:36:09.512Z"
   },
   {
    "duration": 13,
    "start_time": "2023-04-15T18:36:09.551Z"
   },
   {
    "duration": 35,
    "start_time": "2023-04-15T18:36:09.566Z"
   },
   {
    "duration": 5,
    "start_time": "2023-04-15T18:39:41.676Z"
   },
   {
    "duration": 17,
    "start_time": "2023-04-15T18:39:48.522Z"
   },
   {
    "duration": 5,
    "start_time": "2023-04-15T18:39:50.813Z"
   },
   {
    "duration": 19,
    "start_time": "2023-04-15T18:40:07.830Z"
   },
   {
    "duration": 142,
    "start_time": "2023-04-15T18:40:40.017Z"
   },
   {
    "duration": 5,
    "start_time": "2023-04-15T18:43:57.323Z"
   },
   {
    "duration": 26,
    "start_time": "2023-04-15T18:44:04.248Z"
   },
   {
    "duration": 5,
    "start_time": "2023-04-15T18:46:15.441Z"
   },
   {
    "duration": 21,
    "start_time": "2023-04-15T18:46:25.246Z"
   },
   {
    "duration": 5,
    "start_time": "2023-04-15T18:47:50.277Z"
   },
   {
    "duration": 25,
    "start_time": "2023-04-15T18:47:52.450Z"
   },
   {
    "duration": 15,
    "start_time": "2023-04-15T18:51:15.342Z"
   },
   {
    "duration": 11,
    "start_time": "2023-04-15T18:51:31.532Z"
   },
   {
    "duration": 15,
    "start_time": "2023-04-15T18:52:03.925Z"
   },
   {
    "duration": 4,
    "start_time": "2023-04-15T18:54:04.214Z"
   },
   {
    "duration": 49,
    "start_time": "2023-04-15T18:55:29.122Z"
   },
   {
    "duration": 7,
    "start_time": "2023-04-15T18:56:58.161Z"
   },
   {
    "duration": 61,
    "start_time": "2023-04-15T18:56:58.171Z"
   },
   {
    "duration": 31,
    "start_time": "2023-04-15T18:56:58.234Z"
   },
   {
    "duration": 20,
    "start_time": "2023-04-15T18:56:58.267Z"
   },
   {
    "duration": 103,
    "start_time": "2023-04-15T18:56:58.290Z"
   },
   {
    "duration": 16,
    "start_time": "2023-04-15T18:56:58.397Z"
   },
   {
    "duration": 43,
    "start_time": "2023-04-15T18:56:58.416Z"
   },
   {
    "duration": 1259,
    "start_time": "2023-04-15T18:56:58.461Z"
   },
   {
    "duration": 12,
    "start_time": "2023-04-15T18:56:59.723Z"
   },
   {
    "duration": 9,
    "start_time": "2023-04-15T18:56:59.738Z"
   },
   {
    "duration": 15,
    "start_time": "2023-04-15T18:56:59.749Z"
   },
   {
    "duration": 16,
    "start_time": "2023-04-15T18:56:59.766Z"
   },
   {
    "duration": 18,
    "start_time": "2023-04-15T18:56:59.784Z"
   },
   {
    "duration": 3,
    "start_time": "2023-04-15T18:56:59.806Z"
   },
   {
    "duration": 30,
    "start_time": "2023-04-15T18:56:59.811Z"
   },
   {
    "duration": 16,
    "start_time": "2023-04-15T18:56:59.843Z"
   },
   {
    "duration": 1466,
    "start_time": "2023-04-15T18:58:12.420Z"
   },
   {
    "duration": 41,
    "start_time": "2023-04-15T18:58:13.887Z"
   },
   {
    "duration": 27,
    "start_time": "2023-04-15T18:58:13.929Z"
   },
   {
    "duration": 17,
    "start_time": "2023-04-15T18:58:13.958Z"
   },
   {
    "duration": 75,
    "start_time": "2023-04-15T18:58:13.978Z"
   },
   {
    "duration": 15,
    "start_time": "2023-04-15T18:58:14.055Z"
   },
   {
    "duration": 47,
    "start_time": "2023-04-15T18:58:14.072Z"
   },
   {
    "duration": 1104,
    "start_time": "2023-04-15T18:58:14.122Z"
   },
   {
    "duration": 8,
    "start_time": "2023-04-15T18:58:15.228Z"
   },
   {
    "duration": 13,
    "start_time": "2023-04-15T18:58:15.237Z"
   },
   {
    "duration": 16,
    "start_time": "2023-04-15T18:58:15.252Z"
   },
   {
    "duration": 21,
    "start_time": "2023-04-15T18:58:15.270Z"
   },
   {
    "duration": 17,
    "start_time": "2023-04-15T18:58:15.293Z"
   },
   {
    "duration": 7,
    "start_time": "2023-04-15T18:58:15.313Z"
   },
   {
    "duration": 23,
    "start_time": "2023-04-15T18:58:15.322Z"
   },
   {
    "duration": 25,
    "start_time": "2023-04-15T18:58:15.346Z"
   },
   {
    "duration": 4,
    "start_time": "2023-04-15T18:58:25.638Z"
   },
   {
    "duration": 15,
    "start_time": "2023-04-15T18:58:32.828Z"
   },
   {
    "duration": 4,
    "start_time": "2023-04-15T18:58:44.262Z"
   },
   {
    "duration": 16,
    "start_time": "2023-04-15T19:07:27.722Z"
   },
   {
    "duration": 5,
    "start_time": "2023-04-15T19:07:32.309Z"
   },
   {
    "duration": 5,
    "start_time": "2023-04-15T19:10:57.841Z"
   },
   {
    "duration": 13,
    "start_time": "2023-04-15T19:20:44.576Z"
   },
   {
    "duration": 14,
    "start_time": "2023-04-15T19:20:52.034Z"
   },
   {
    "duration": 23,
    "start_time": "2023-04-15T19:20:54.949Z"
   },
   {
    "duration": 12,
    "start_time": "2023-04-15T19:21:31.459Z"
   },
   {
    "duration": 14,
    "start_time": "2023-04-15T19:21:35.845Z"
   },
   {
    "duration": 21,
    "start_time": "2023-04-15T19:21:38.462Z"
   },
   {
    "duration": 18,
    "start_time": "2023-04-15T19:21:46.166Z"
   },
   {
    "duration": 29,
    "start_time": "2023-04-15T19:22:49.765Z"
   },
   {
    "duration": 8,
    "start_time": "2023-04-15T19:25:42.017Z"
   },
   {
    "duration": 5,
    "start_time": "2023-04-15T19:26:30.142Z"
   },
   {
    "duration": 124,
    "start_time": "2023-04-15T19:28:32.349Z"
   },
   {
    "duration": 23,
    "start_time": "2023-04-15T19:29:09.409Z"
   },
   {
    "duration": 26,
    "start_time": "2023-04-15T19:29:26.950Z"
   },
   {
    "duration": 2,
    "start_time": "2023-04-15T19:30:57.748Z"
   },
   {
    "duration": 12,
    "start_time": "2023-04-15T19:31:59.338Z"
   },
   {
    "duration": 28,
    "start_time": "2023-04-15T19:32:25.243Z"
   },
   {
    "duration": 31,
    "start_time": "2023-04-15T19:32:40.340Z"
   },
   {
    "duration": 7,
    "start_time": "2023-04-15T19:32:52.950Z"
   },
   {
    "duration": 7,
    "start_time": "2023-04-15T19:32:56.741Z"
   },
   {
    "duration": 5,
    "start_time": "2023-04-15T19:33:14.425Z"
   },
   {
    "duration": 21,
    "start_time": "2023-04-15T19:34:32.110Z"
   },
   {
    "duration": 6,
    "start_time": "2023-04-15T19:34:44.611Z"
   },
   {
    "duration": 22,
    "start_time": "2023-04-15T19:39:50.505Z"
   },
   {
    "duration": 3,
    "start_time": "2023-04-15T19:43:02.952Z"
   },
   {
    "duration": 89,
    "start_time": "2023-04-15T19:43:38.651Z"
   },
   {
    "duration": 751,
    "start_time": "2023-04-15T19:43:56.426Z"
   },
   {
    "duration": 8351,
    "start_time": "2023-04-15T19:44:21.223Z"
   },
   {
    "duration": 3,
    "start_time": "2023-04-15T19:57:54.548Z"
   },
   {
    "duration": 20,
    "start_time": "2023-04-15T19:58:05.953Z"
   },
   {
    "duration": 27,
    "start_time": "2023-04-15T19:58:37.781Z"
   },
   {
    "duration": 28,
    "start_time": "2023-04-15T20:00:00.526Z"
   },
   {
    "duration": 23,
    "start_time": "2023-04-15T20:00:08.247Z"
   },
   {
    "duration": 795,
    "start_time": "2023-04-15T20:00:16.226Z"
   },
   {
    "duration": 8235,
    "start_time": "2023-04-15T20:00:47.020Z"
   },
   {
    "duration": 8052,
    "start_time": "2023-04-15T20:01:43.464Z"
   },
   {
    "duration": 27,
    "start_time": "2023-04-15T20:02:07.341Z"
   },
   {
    "duration": 18,
    "start_time": "2023-04-15T20:02:26.246Z"
   },
   {
    "duration": 20,
    "start_time": "2023-04-15T20:03:29.341Z"
   },
   {
    "duration": 583,
    "start_time": "2023-04-15T20:03:41.633Z"
   },
   {
    "duration": 11,
    "start_time": "2023-04-15T20:04:47.145Z"
   },
   {
    "duration": 32,
    "start_time": "2023-04-15T20:04:55.853Z"
   },
   {
    "duration": 3,
    "start_time": "2023-04-15T20:04:58.168Z"
   },
   {
    "duration": 4,
    "start_time": "2023-04-15T20:05:00.849Z"
   },
   {
    "duration": 30,
    "start_time": "2023-04-15T20:05:02.024Z"
   },
   {
    "duration": 31,
    "start_time": "2023-04-15T20:05:07.619Z"
   },
   {
    "duration": 651,
    "start_time": "2023-04-15T20:05:17.147Z"
   },
   {
    "duration": 8369,
    "start_time": "2023-04-15T20:05:25.625Z"
   },
   {
    "duration": 20,
    "start_time": "2023-04-15T20:06:47.726Z"
   },
   {
    "duration": 18,
    "start_time": "2023-04-15T20:08:20.947Z"
   },
   {
    "duration": 5,
    "start_time": "2023-04-15T20:08:33.615Z"
   },
   {
    "duration": 13,
    "start_time": "2023-04-15T20:08:47.782Z"
   },
   {
    "duration": 6,
    "start_time": "2023-04-15T20:08:51.750Z"
   },
   {
    "duration": 10,
    "start_time": "2023-04-15T20:10:04.230Z"
   },
   {
    "duration": 20,
    "start_time": "2023-04-15T20:10:05.497Z"
   },
   {
    "duration": 5,
    "start_time": "2023-04-15T20:10:06.314Z"
   },
   {
    "duration": 3,
    "start_time": "2023-04-15T20:10:07.218Z"
   },
   {
    "duration": 29,
    "start_time": "2023-04-15T20:10:07.858Z"
   },
   {
    "duration": 20,
    "start_time": "2023-04-15T20:10:08.856Z"
   },
   {
    "duration": 25,
    "start_time": "2023-04-15T20:10:14.414Z"
   },
   {
    "duration": 603,
    "start_time": "2023-04-15T20:10:17.969Z"
   },
   {
    "duration": 7862,
    "start_time": "2023-04-15T20:10:29.606Z"
   },
   {
    "duration": 2999,
    "start_time": "2023-04-15T20:10:39.516Z"
   },
   {
    "duration": 10415,
    "start_time": "2023-04-15T20:11:05.032Z"
   },
   {
    "duration": 669,
    "start_time": "2023-04-15T20:18:13.623Z"
   },
   {
    "duration": 69,
    "start_time": "2023-04-15T20:20:30.672Z"
   },
   {
    "duration": 13,
    "start_time": "2023-04-15T20:26:06.336Z"
   },
   {
    "duration": 7,
    "start_time": "2023-04-15T20:26:39.810Z"
   },
   {
    "duration": 46,
    "start_time": "2023-04-15T20:26:45.767Z"
   },
   {
    "duration": 70,
    "start_time": "2023-04-15T20:29:44.973Z"
   },
   {
    "duration": 75,
    "start_time": "2023-04-15T20:30:23.110Z"
   },
   {
    "duration": 8524,
    "start_time": "2023-04-15T20:34:29.321Z"
   },
   {
    "duration": 8359,
    "start_time": "2023-04-15T20:34:59.535Z"
   },
   {
    "duration": 8477,
    "start_time": "2023-04-15T20:35:43.482Z"
   },
   {
    "duration": 8539,
    "start_time": "2023-04-15T20:38:08.714Z"
   },
   {
    "duration": 8512,
    "start_time": "2023-04-15T20:38:41.407Z"
   },
   {
    "duration": 8409,
    "start_time": "2023-04-15T20:39:08.893Z"
   },
   {
    "duration": 8470,
    "start_time": "2023-04-15T20:39:33.571Z"
   },
   {
    "duration": 8393,
    "start_time": "2023-04-15T20:40:01.249Z"
   },
   {
    "duration": 8378,
    "start_time": "2023-04-15T20:40:41.335Z"
   },
   {
    "duration": 9213,
    "start_time": "2023-04-15T20:40:56.155Z"
   },
   {
    "duration": 9017,
    "start_time": "2023-04-15T20:41:21.786Z"
   },
   {
    "duration": 8678,
    "start_time": "2023-04-15T20:41:45.471Z"
   },
   {
    "duration": 8444,
    "start_time": "2023-04-15T20:42:15.425Z"
   },
   {
    "duration": 9204,
    "start_time": "2023-04-15T20:48:21.312Z"
   },
   {
    "duration": 3389,
    "start_time": "2023-04-15T20:58:05.550Z"
   },
   {
    "duration": 3041,
    "start_time": "2023-04-15T21:01:58.794Z"
   },
   {
    "duration": 5706,
    "start_time": "2023-04-15T21:23:12.928Z"
   },
   {
    "duration": 1114,
    "start_time": "2023-04-15T21:27:44.026Z"
   },
   {
    "duration": 1048,
    "start_time": "2023-04-15T21:29:04.839Z"
   },
   {
    "duration": 14276,
    "start_time": "2023-04-15T21:36:43.164Z"
   },
   {
    "duration": 3,
    "start_time": "2023-04-15T21:41:33.635Z"
   },
   {
    "duration": 69,
    "start_time": "2023-04-15T21:59:44.130Z"
   },
   {
    "duration": 95168,
    "start_time": "2023-04-15T21:59:57.406Z"
   },
   {
    "duration": 91578,
    "start_time": "2023-04-15T22:04:17.076Z"
   },
   {
    "duration": 90552,
    "start_time": "2023-04-15T22:10:00.323Z"
   },
   {
    "duration": 21,
    "start_time": "2023-04-15T22:15:52.790Z"
   },
   {
    "duration": 124217,
    "start_time": "2023-04-15T22:18:09.605Z"
   },
   {
    "duration": 30836,
    "start_time": "2023-04-15T22:20:48.472Z"
   },
   {
    "duration": 202914,
    "start_time": "2023-04-15T22:21:43.545Z"
   },
   {
    "duration": 21714,
    "start_time": "2023-04-15T22:36:06.521Z"
   },
   {
    "duration": 21963,
    "start_time": "2023-04-15T22:38:49.276Z"
   },
   {
    "duration": 89723,
    "start_time": "2023-04-15T22:41:20.901Z"
   },
   {
    "duration": 50396,
    "start_time": "2023-04-15T22:48:26.839Z"
   },
   {
    "duration": 1056,
    "start_time": "2023-04-15T22:51:00.220Z"
   },
   {
    "duration": 1053,
    "start_time": "2023-04-15T22:51:14.423Z"
   },
   {
    "duration": 59,
    "start_time": "2023-04-15T23:04:27.317Z"
   },
   {
    "duration": 1432,
    "start_time": "2023-04-15T23:04:35.199Z"
   },
   {
    "duration": 45,
    "start_time": "2023-04-15T23:04:36.634Z"
   },
   {
    "duration": 25,
    "start_time": "2023-04-15T23:04:36.681Z"
   },
   {
    "duration": 14,
    "start_time": "2023-04-15T23:04:36.708Z"
   },
   {
    "duration": 47,
    "start_time": "2023-04-15T23:04:36.725Z"
   },
   {
    "duration": 11,
    "start_time": "2023-04-15T23:04:36.773Z"
   },
   {
    "duration": 37,
    "start_time": "2023-04-15T23:04:36.786Z"
   },
   {
    "duration": 1125,
    "start_time": "2023-04-15T23:04:36.824Z"
   },
   {
    "duration": 7,
    "start_time": "2023-04-15T23:04:37.951Z"
   },
   {
    "duration": 32,
    "start_time": "2023-04-15T23:04:37.959Z"
   },
   {
    "duration": 26,
    "start_time": "2023-04-15T23:04:37.993Z"
   },
   {
    "duration": 37,
    "start_time": "2023-04-15T23:04:38.021Z"
   },
   {
    "duration": 39,
    "start_time": "2023-04-15T23:04:38.060Z"
   },
   {
    "duration": 24,
    "start_time": "2023-04-15T23:04:38.102Z"
   },
   {
    "duration": 56,
    "start_time": "2023-04-15T23:04:38.128Z"
   },
   {
    "duration": 38,
    "start_time": "2023-04-15T23:04:38.186Z"
   },
   {
    "duration": 134,
    "start_time": "2023-04-15T23:04:38.226Z"
   },
   {
    "duration": 0,
    "start_time": "2023-04-15T23:04:38.362Z"
   },
   {
    "duration": 0,
    "start_time": "2023-04-15T23:04:38.363Z"
   },
   {
    "duration": 0,
    "start_time": "2023-04-15T23:04:38.364Z"
   },
   {
    "duration": 0,
    "start_time": "2023-04-15T23:04:38.366Z"
   },
   {
    "duration": 0,
    "start_time": "2023-04-15T23:04:38.367Z"
   },
   {
    "duration": 0,
    "start_time": "2023-04-15T23:04:38.369Z"
   },
   {
    "duration": 0,
    "start_time": "2023-04-15T23:04:38.370Z"
   },
   {
    "duration": 0,
    "start_time": "2023-04-15T23:04:38.371Z"
   },
   {
    "duration": 0,
    "start_time": "2023-04-15T23:04:38.372Z"
   },
   {
    "duration": 0,
    "start_time": "2023-04-15T23:04:38.373Z"
   },
   {
    "duration": 0,
    "start_time": "2023-04-15T23:04:38.374Z"
   },
   {
    "duration": 0,
    "start_time": "2023-04-15T23:04:38.375Z"
   },
   {
    "duration": 0,
    "start_time": "2023-04-15T23:04:38.376Z"
   },
   {
    "duration": 0,
    "start_time": "2023-04-15T23:04:38.377Z"
   },
   {
    "duration": 0,
    "start_time": "2023-04-15T23:04:38.378Z"
   },
   {
    "duration": 0,
    "start_time": "2023-04-15T23:04:38.379Z"
   },
   {
    "duration": 0,
    "start_time": "2023-04-15T23:04:38.380Z"
   },
   {
    "duration": 0,
    "start_time": "2023-04-15T23:04:38.381Z"
   },
   {
    "duration": 1458,
    "start_time": "2023-04-15T23:04:51.323Z"
   },
   {
    "duration": 41,
    "start_time": "2023-04-15T23:04:52.783Z"
   },
   {
    "duration": 25,
    "start_time": "2023-04-15T23:04:52.826Z"
   },
   {
    "duration": 20,
    "start_time": "2023-04-15T23:04:52.852Z"
   },
   {
    "duration": 55,
    "start_time": "2023-04-15T23:04:52.876Z"
   },
   {
    "duration": 12,
    "start_time": "2023-04-15T23:04:52.934Z"
   },
   {
    "duration": 25,
    "start_time": "2023-04-15T23:04:52.948Z"
   },
   {
    "duration": 1090,
    "start_time": "2023-04-15T23:04:52.975Z"
   },
   {
    "duration": 7,
    "start_time": "2023-04-15T23:04:54.068Z"
   },
   {
    "duration": 21,
    "start_time": "2023-04-15T23:04:54.077Z"
   },
   {
    "duration": 14,
    "start_time": "2023-04-15T23:04:54.100Z"
   },
   {
    "duration": 12,
    "start_time": "2023-04-15T23:04:54.116Z"
   },
   {
    "duration": 10,
    "start_time": "2023-04-15T23:04:54.130Z"
   },
   {
    "duration": 18,
    "start_time": "2023-04-15T23:04:54.143Z"
   },
   {
    "duration": 30,
    "start_time": "2023-04-15T23:04:54.163Z"
   },
   {
    "duration": 12,
    "start_time": "2023-04-15T23:04:54.195Z"
   },
   {
    "duration": 114,
    "start_time": "2023-04-15T23:04:54.209Z"
   },
   {
    "duration": 0,
    "start_time": "2023-04-15T23:04:54.325Z"
   },
   {
    "duration": 1,
    "start_time": "2023-04-15T23:04:54.325Z"
   },
   {
    "duration": 0,
    "start_time": "2023-04-15T23:04:54.326Z"
   },
   {
    "duration": 0,
    "start_time": "2023-04-15T23:04:54.327Z"
   },
   {
    "duration": 0,
    "start_time": "2023-04-15T23:04:54.328Z"
   },
   {
    "duration": 0,
    "start_time": "2023-04-15T23:04:54.333Z"
   },
   {
    "duration": 0,
    "start_time": "2023-04-15T23:04:54.335Z"
   },
   {
    "duration": 0,
    "start_time": "2023-04-15T23:04:54.336Z"
   },
   {
    "duration": 0,
    "start_time": "2023-04-15T23:04:54.337Z"
   },
   {
    "duration": 0,
    "start_time": "2023-04-15T23:04:54.339Z"
   },
   {
    "duration": 0,
    "start_time": "2023-04-15T23:04:54.340Z"
   },
   {
    "duration": 0,
    "start_time": "2023-04-15T23:04:54.341Z"
   },
   {
    "duration": 0,
    "start_time": "2023-04-15T23:04:54.342Z"
   },
   {
    "duration": 0,
    "start_time": "2023-04-15T23:04:54.343Z"
   },
   {
    "duration": 0,
    "start_time": "2023-04-15T23:04:54.344Z"
   },
   {
    "duration": 0,
    "start_time": "2023-04-15T23:04:54.345Z"
   },
   {
    "duration": 0,
    "start_time": "2023-04-15T23:04:54.346Z"
   },
   {
    "duration": 0,
    "start_time": "2023-04-15T23:04:54.347Z"
   },
   {
    "duration": 1379,
    "start_time": "2023-04-15T23:05:59.522Z"
   },
   {
    "duration": 43,
    "start_time": "2023-04-15T23:06:00.903Z"
   },
   {
    "duration": 27,
    "start_time": "2023-04-15T23:06:00.948Z"
   },
   {
    "duration": 31,
    "start_time": "2023-04-15T23:06:00.978Z"
   },
   {
    "duration": 49,
    "start_time": "2023-04-15T23:06:01.011Z"
   },
   {
    "duration": 11,
    "start_time": "2023-04-15T23:06:01.063Z"
   },
   {
    "duration": 39,
    "start_time": "2023-04-15T23:06:01.076Z"
   },
   {
    "duration": 1056,
    "start_time": "2023-04-15T23:06:01.118Z"
   },
   {
    "duration": 8,
    "start_time": "2023-04-15T23:06:02.176Z"
   },
   {
    "duration": 27,
    "start_time": "2023-04-15T23:06:02.187Z"
   },
   {
    "duration": 23,
    "start_time": "2023-04-15T23:06:02.216Z"
   },
   {
    "duration": 31,
    "start_time": "2023-04-15T23:06:02.241Z"
   },
   {
    "duration": 15,
    "start_time": "2023-04-15T23:06:02.273Z"
   },
   {
    "duration": 22,
    "start_time": "2023-04-15T23:06:02.290Z"
   },
   {
    "duration": 29,
    "start_time": "2023-04-15T23:06:02.314Z"
   },
   {
    "duration": 24,
    "start_time": "2023-04-15T23:06:02.345Z"
   },
   {
    "duration": 33,
    "start_time": "2023-04-15T23:06:02.371Z"
   },
   {
    "duration": 21,
    "start_time": "2023-04-15T23:06:02.406Z"
   },
   {
    "duration": 10,
    "start_time": "2023-04-15T23:06:02.429Z"
   },
   {
    "duration": 26,
    "start_time": "2023-04-15T23:06:02.441Z"
   },
   {
    "duration": 50,
    "start_time": "2023-04-15T23:06:02.469Z"
   },
   {
    "duration": 34,
    "start_time": "2023-04-15T23:06:02.521Z"
   },
   {
    "duration": 80,
    "start_time": "2023-04-15T23:06:02.557Z"
   },
   {
    "duration": 133,
    "start_time": "2023-04-15T23:06:02.641Z"
   },
   {
    "duration": 720,
    "start_time": "2023-04-15T23:06:02.776Z"
   },
   {
    "duration": 4,
    "start_time": "2023-04-15T23:06:03.498Z"
   },
   {
    "duration": 14808,
    "start_time": "2023-04-15T23:06:03.504Z"
   },
   {
    "duration": 3424,
    "start_time": "2023-04-15T23:06:18.315Z"
   },
   {
    "duration": 1161,
    "start_time": "2023-04-15T23:06:21.741Z"
   },
   {
    "duration": 89675,
    "start_time": "2023-04-15T23:06:22.904Z"
   },
   {
    "duration": 209109,
    "start_time": "2023-04-15T23:07:52.581Z"
   },
   {
    "duration": 19445,
    "start_time": "2023-04-15T23:11:21.692Z"
   },
   {
    "duration": 52504,
    "start_time": "2023-04-15T23:11:41.139Z"
   },
   {
    "duration": 934,
    "start_time": "2023-04-15T23:12:33.734Z"
   },
   {
    "duration": 1072,
    "start_time": "2023-04-15T23:12:34.670Z"
   },
   {
    "duration": 2134,
    "start_time": "2023-04-16T09:21:00.911Z"
   },
   {
    "duration": 202,
    "start_time": "2023-04-16T09:21:03.051Z"
   },
   {
    "duration": 39,
    "start_time": "2023-04-16T09:21:03.256Z"
   },
   {
    "duration": 29,
    "start_time": "2023-04-16T09:21:03.297Z"
   },
   {
    "duration": 75,
    "start_time": "2023-04-16T09:21:03.330Z"
   },
   {
    "duration": 13,
    "start_time": "2023-04-16T09:21:03.408Z"
   },
   {
    "duration": 29,
    "start_time": "2023-04-16T09:21:03.424Z"
   },
   {
    "duration": 1406,
    "start_time": "2023-04-16T09:21:03.455Z"
   },
   {
    "duration": 16,
    "start_time": "2023-04-16T09:21:04.866Z"
   },
   {
    "duration": 39,
    "start_time": "2023-04-16T09:21:04.887Z"
   },
   {
    "duration": 37,
    "start_time": "2023-04-16T09:21:04.930Z"
   },
   {
    "duration": 10,
    "start_time": "2023-04-16T09:21:04.969Z"
   },
   {
    "duration": 13,
    "start_time": "2023-04-16T09:21:04.982Z"
   },
   {
    "duration": 10,
    "start_time": "2023-04-16T09:21:04.999Z"
   },
   {
    "duration": 41,
    "start_time": "2023-04-16T09:21:05.011Z"
   },
   {
    "duration": 6,
    "start_time": "2023-04-16T09:21:05.055Z"
   },
   {
    "duration": 17,
    "start_time": "2023-04-16T09:21:05.063Z"
   },
   {
    "duration": 45,
    "start_time": "2023-04-16T09:21:05.082Z"
   },
   {
    "duration": 5,
    "start_time": "2023-04-16T09:21:43.065Z"
   },
   {
    "duration": 15,
    "start_time": "2023-04-16T09:22:07.914Z"
   }
  ],
  "kernelspec": {
   "display_name": "Python 3 (ipykernel)",
   "language": "python",
   "name": "python3"
  },
  "language_info": {
   "codemirror_mode": {
    "name": "ipython",
    "version": 3
   },
   "file_extension": ".py",
   "mimetype": "text/x-python",
   "name": "python",
   "nbconvert_exporter": "python",
   "pygments_lexer": "ipython3",
   "version": "3.9.5"
  },
  "toc": {
   "base_numbering": 1,
   "nav_menu": {},
   "number_sections": true,
   "sideBar": true,
   "skip_h1_title": true,
   "title_cell": "Содержание",
   "title_sidebar": "Contents",
   "toc_cell": true,
   "toc_position": {
    "height": "calc(100% - 180px)",
    "left": "10px",
    "top": "150px",
    "width": "165px"
   },
   "toc_section_display": true,
   "toc_window_display": true
  }
 },
 "nbformat": 4,
 "nbformat_minor": 2
}
