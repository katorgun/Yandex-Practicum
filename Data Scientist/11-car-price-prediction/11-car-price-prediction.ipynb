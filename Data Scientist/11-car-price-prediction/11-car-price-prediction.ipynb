{
 "cells": [
  {
   "cell_type": "markdown",
   "metadata": {},
   "source": [
    "# Определение стоимости автомобилей"
   ]
  },
  {
   "cell_type": "markdown",
   "metadata": {},
   "source": [
    "Сервис по продаже автомобилей с пробегом «Не бит, не крашен» разрабатывает приложение для привлечения новых клиентов. В нём можно быстро узнать рыночную стоимость своего автомобиля. В вашем распоряжении исторические данные: технические характеристики, комплектации и цены автомобилей. Вам нужно построить модель для определения стоимости. \n",
    "\n",
    "Заказчику важны:\n",
    "\n",
    "- качество предсказания;\n",
    "- скорость предсказания;\n",
    "- время обучения."
   ]
  },
  {
   "cell_type": "markdown",
   "metadata": {},
   "source": [
    "## Подготовка данных"
   ]
  },
  {
   "cell_type": "code",
   "execution_count": 1,
   "metadata": {},
   "outputs": [],
   "source": [
    "!pip install -qq catboost\n",
    "!pip install -qq hyperopt"
   ]
  },
  {
   "cell_type": "code",
   "execution_count": 2,
   "metadata": {},
   "outputs": [],
   "source": [
    "# Подключим все необходимые библиотеки \n",
    "import os\n",
    "import math\n",
    "import time\n",
    "import itertools \n",
    "import urllib.request\n",
    "import numpy as np\n",
    "import pandas as pd\n",
    "import seaborn as sns\n",
    "import xgboost\n",
    "import lightgbm as lgb\n",
    "import matplotlib.pyplot as plt\n",
    "from pathlib import Path\n",
    "from catboost import CatBoostRegressor, Pool\n",
    "from sklearn.preprocessing import StandardScaler\n",
    "from sklearn.model_selection import train_test_split\n",
    "from sklearn.model_selection import GridSearchCV\n",
    "from sklearn.preprocessing import LabelEncoder\n",
    "from sklearn.tree import DecisionTreeRegressor, DecisionTreeClassifier\n",
    "from sklearn.metrics import *\n",
    "from lightgbm import LGBMRegressor\n",
    "from xgboost import XGBRegressor\n",
    "from sklearn.linear_model import LinearRegression\n",
    "from sklearn.linear_model import Ridge, Lasso\n",
    "from sklearn.ensemble import RandomForestRegressor\n",
    "from sklearn.metrics import mean_squared_error\n",
    "from sklearn.preprocessing import OneHotEncoder\n",
    "from sklearn.compose import ColumnTransformer\n",
    "from sklearn.pipeline import Pipeline\n",
    "from sklearn.impute import SimpleImputer\n",
    "from hyperopt import hp, fmin, tpe, STATUS_OK, Trials\n",
    "from sklearn.model_selection import RandomizedSearchCV\n",
    "from sklearn.ensemble import RandomForestClassifier\n",
    "from sklearn.preprocessing import OrdinalEncoder\n",
    "from sklearn.compose import ColumnTransformer\n",
    "\n",
    "import random\n",
    "random_state=42\n",
    "random.seed(random_state)\n",
    "np.random.seed(random_state)\n",
    "\n",
    "import warnings\n",
    "warnings.filterwarnings('ignore')\n",
    "import logging\n",
    "logger = logging.getLogger()\n",
    "logger.setLevel(logging.CRITICAL)\n",
    "import timeit\n",
    "from functools import lru_cache\n",
    "import tensorflow as tf\n"
   ]
  },
  {
   "cell_type": "markdown",
   "metadata": {},
   "source": [
    "<div class=\"alert alert-info\">\n",
    "<font size=\"4\">🍕<b> Комментарий ревьюера</b></font>\n",
    "    <br /> \n",
    "    <font size=\"3\", color = \"black\">\n",
    "<br />\n",
    "Стандарт PEP8 рекомендует импорты делать не в каждой строке отдельный, а группировать их по сабмодулю, из которого делается импорт."
   ]
  },
  {
   "cell_type": "markdown",
   "metadata": {},
   "source": [
    "<div class=\"alert alert-success\">\n",
    "<font size=\"4\"><b>✔️ Комментарий ревьюера</b></font>\n",
    "    <br /> \n",
    "    <font size=\"3\", color = \"black\">\n",
    "<br />    \n",
    "А вот задать сразу рандом - отличный ход"
   ]
  },
  {
   "cell_type": "code",
   "execution_count": 3,
   "metadata": {},
   "outputs": [
    {
     "name": "stdout",
     "output_type": "stream",
     "text": [
      "WARNING:tensorflow:From /tmp/ipykernel_404/3115015153.py:2: is_gpu_available (from tensorflow.python.framework.test_util) is deprecated and will be removed in a future version.\n",
      "Instructions for updating:\n",
      "Use `tf.config.list_physical_devices('GPU')` instead.\n",
      "GPU is not available =(\n"
     ]
    },
    {
     "name": "stderr",
     "output_type": "stream",
     "text": [
      "2023-06-18 08:51:52.865353: I tensorflow/core/platform/cpu_feature_guard.cc:151] This TensorFlow binary is optimized with oneAPI Deep Neural Network Library (oneDNN) to use the following CPU instructions in performance-critical operations:  AVX2 AVX512F FMA\n",
      "To enable them in other operations, rebuild TensorFlow with the appropriate compiler flags.\n"
     ]
    }
   ],
   "source": [
    "# Проверяем количество доступных GPU\n",
    "if tf.test.is_gpu_available():\n",
    "    print(\"GPU is available.\")\n",
    "else:\n",
    "    print(\"GPU is not available =(\")"
   ]
  },
  {
   "cell_type": "markdown",
   "metadata": {},
   "source": [
    "<div class=\"alert alert-info\">\n",
    "<font size=\"4\">🍕<b> Комментарий ревьюера</b></font>\n",
    "    <br /> \n",
    "    <font size=\"3\", color = \"black\">\n",
    "<br />\n",
    "Зачем тебе в целом проверка доступности GPU, если нейросеть ты в проекте не обучаешь? Или потому и не обучаешь, что GPU нет?)"
   ]
  },
  {
   "cell_type": "markdown",
   "metadata": {},
   "source": [
    "второй вариант"
   ]
  },
  {
   "cell_type": "code",
   "execution_count": 4,
   "metadata": {},
   "outputs": [],
   "source": [
    "# функция определения выбросов по правилу 3 сигм\n",
    "def outlier(data):\n",
    "    data_mean, data_std = np.mean(data), np.std(data)\n",
    "    cut_off = data_std * 3\n",
    "    lower, upper = data_mean - cut_off, data_mean + cut_off\n",
    "    outliers = [x for x in data if x < lower or x > upper]\n",
    "    outliers_removed = [x for x in data if x >= lower and x <= upper]\n",
    "    return len(outliers)\n",
    "\n",
    "#  функция для описания статистик: \n",
    "def describe_full_stat(df, target_name=\"\"):\n",
    "    data_describe = df.describe().T\n",
    "    df_numeric = df._get_numeric_data()\n",
    "    if target_name in df.columns:\n",
    "        corr_with_target=df_numeric.drop(target_name, axis=1).apply(lambda x: x.corr(df_numeric[target_name]))\n",
    "        data_describe['corr_with_target']=corr_with_target\n",
    "    dtype_df = df_numeric.dtypes\n",
    "    data_describe['dtypes'] = dtype_df\n",
    "    data_null = df_numeric.isnull().sum()/len(df) * 100\n",
    "    data_describe['Missing %'] = data_null\n",
    "    Cardinality = df_numeric.apply(pd.Series.nunique)\n",
    "    data_describe['Cardinality'] = Cardinality\n",
    "    df_skew = df_numeric.skew(axis=0, skipna=True)\n",
    "    data_describe['Skew'] = df_skew\n",
    "    data_describe['outliers']=[outlier(df_numeric[col]) for col in df_numeric.columns]\n",
    "    data_describe['kurtosis']=df_numeric.kurtosis()\n",
    "    return data_describe\n",
    "\n",
    "#  функция для нулевых и пропущенных значений: \n",
    "def missing_zero_values_table(df):\n",
    "    zero_val = (df == 0.00).astype(int).sum(axis=0)\n",
    "    mis_val = df.isnull().sum()\n",
    "    mis_val_percent = 100 * df.isnull().sum() / len(df)\n",
    "    mz_table = pd.concat([zero_val, mis_val, mis_val_percent], axis=1)\n",
    "    mz_table = mz_table.rename(\n",
    "        columns={0: 'Zero Values', 1: 'Missing Values', 2: '% of Total Values'})\n",
    "    mz_table['Total Zero Missing Values'] = mz_table['Zero Values'] + mz_table['Missing Values']\n",
    "    mz_table['% Total Zero Missing Values'] = 100 * mz_table['Total Zero Missing Values'] / len(df)\n",
    "    mz_table['Data Type'] = df.dtypes\n",
    "    mz_table = mz_table[\n",
    "        mz_table.iloc[:, 1] != 0].sort_values(\n",
    "        '% of Total Values', ascending=False).round(1)\n",
    "    print(\"Your selected dataframe has \" + str(df.shape[1]) + \" columns and \" + str(df.shape[0]) + \" Rows.\\n\"\n",
    "                                                                                                   \"There are \" + str(\n",
    "        mz_table.shape[0]) +\n",
    "          \" columns that have missing values.\")\n",
    "\n",
    "    return mz_table\n",
    "\n",
    "def corr_diagram(x):\n",
    "    plt.figure(figsize=(20, 15), dpi=80)\n",
    "    sns.heatmap(x.corr(), xticklabels=x.corr().columns, yticklabels=x.corr().columns, cmap='RdYlGn', center=0,\n",
    "                annot=True)\n",
    "    plt.title('Диаграмма корреляции', fontsize=22)\n",
    "    plt.xticks(fontsize=12)\n",
    "    plt.yticks(fontsize=12)\n",
    "    plt.show()\n"
   ]
  },
  {
   "cell_type": "code",
   "execution_count": 5,
   "metadata": {},
   "outputs": [],
   "source": [
    "df = pd.read_csv('/datasets/autos.csv')\n",
    "\n"
   ]
  },
  {
   "cell_type": "markdown",
   "metadata": {},
   "source": [
    "<div class=\"alert alert-success\">\n",
    "<font size=\"4\"><b>✔️ Комментарий ревьюера V2</b></font>\n",
    "    <br /> \n",
    "    <font size=\"3\", color = \"black\">\n",
    "<br />    \n",
    "👌"
   ]
  },
  {
   "cell_type": "code",
   "execution_count": 6,
   "metadata": {},
   "outputs": [],
   "source": [
    "# КОД РЕВЬЮЕРА\n",
    "#set(target)"
   ]
  },
  {
   "cell_type": "code",
   "execution_count": 7,
   "metadata": {},
   "outputs": [
    {
     "name": "stdout",
     "output_type": "stream",
     "text": [
      "Your selected dataframe has 16 columns and 354369 Rows.\n",
      "There are 5 columns that have missing values.\n"
     ]
    },
    {
     "data": {
      "text/html": [
       "<div>\n",
       "<style scoped>\n",
       "    .dataframe tbody tr th:only-of-type {\n",
       "        vertical-align: middle;\n",
       "    }\n",
       "\n",
       "    .dataframe tbody tr th {\n",
       "        vertical-align: top;\n",
       "    }\n",
       "\n",
       "    .dataframe thead th {\n",
       "        text-align: right;\n",
       "    }\n",
       "</style>\n",
       "<table border=\"1\" class=\"dataframe\">\n",
       "  <thead>\n",
       "    <tr style=\"text-align: right;\">\n",
       "      <th></th>\n",
       "      <th>Zero Values</th>\n",
       "      <th>Missing Values</th>\n",
       "      <th>% of Total Values</th>\n",
       "      <th>Total Zero Missing Values</th>\n",
       "      <th>% Total Zero Missing Values</th>\n",
       "      <th>Data Type</th>\n",
       "    </tr>\n",
       "  </thead>\n",
       "  <tbody>\n",
       "    <tr>\n",
       "      <th>Repaired</th>\n",
       "      <td>0</td>\n",
       "      <td>71154</td>\n",
       "      <td>20.1</td>\n",
       "      <td>71154</td>\n",
       "      <td>20.1</td>\n",
       "      <td>object</td>\n",
       "    </tr>\n",
       "    <tr>\n",
       "      <th>VehicleType</th>\n",
       "      <td>0</td>\n",
       "      <td>37490</td>\n",
       "      <td>10.6</td>\n",
       "      <td>37490</td>\n",
       "      <td>10.6</td>\n",
       "      <td>object</td>\n",
       "    </tr>\n",
       "    <tr>\n",
       "      <th>FuelType</th>\n",
       "      <td>0</td>\n",
       "      <td>32895</td>\n",
       "      <td>9.3</td>\n",
       "      <td>32895</td>\n",
       "      <td>9.3</td>\n",
       "      <td>object</td>\n",
       "    </tr>\n",
       "    <tr>\n",
       "      <th>Gearbox</th>\n",
       "      <td>0</td>\n",
       "      <td>19833</td>\n",
       "      <td>5.6</td>\n",
       "      <td>19833</td>\n",
       "      <td>5.6</td>\n",
       "      <td>object</td>\n",
       "    </tr>\n",
       "    <tr>\n",
       "      <th>Model</th>\n",
       "      <td>0</td>\n",
       "      <td>19705</td>\n",
       "      <td>5.6</td>\n",
       "      <td>19705</td>\n",
       "      <td>5.6</td>\n",
       "      <td>object</td>\n",
       "    </tr>\n",
       "  </tbody>\n",
       "</table>\n",
       "</div>"
      ],
      "text/plain": [
       "             Zero Values  Missing Values  % of Total Values  \\\n",
       "Repaired               0           71154               20.1   \n",
       "VehicleType            0           37490               10.6   \n",
       "FuelType               0           32895                9.3   \n",
       "Gearbox                0           19833                5.6   \n",
       "Model                  0           19705                5.6   \n",
       "\n",
       "             Total Zero Missing Values  % Total Zero Missing Values Data Type  \n",
       "Repaired                         71154                         20.1    object  \n",
       "VehicleType                      37490                         10.6    object  \n",
       "FuelType                         32895                          9.3    object  \n",
       "Gearbox                          19833                          5.6    object  \n",
       "Model                            19705                          5.6    object  "
      ]
     },
     "execution_count": 7,
     "metadata": {},
     "output_type": "execute_result"
    }
   ],
   "source": [
    "#Посмотрим на количество пустых значений в датасете\n",
    "missing_zero_values_table(df)\n"
   ]
  },
  {
   "cell_type": "code",
   "execution_count": 8,
   "metadata": {},
   "outputs": [
    {
     "name": "stdout",
     "output_type": "stream",
     "text": [
      "<class 'pandas.core.frame.DataFrame'>\n",
      "RangeIndex: 354369 entries, 0 to 354368\n",
      "Data columns (total 16 columns):\n",
      " #   Column             Non-Null Count   Dtype \n",
      "---  ------             --------------   ----- \n",
      " 0   DateCrawled        354369 non-null  object\n",
      " 1   Price              354369 non-null  int64 \n",
      " 2   VehicleType        316879 non-null  object\n",
      " 3   RegistrationYear   354369 non-null  int64 \n",
      " 4   Gearbox            334536 non-null  object\n",
      " 5   Power              354369 non-null  int64 \n",
      " 6   Model              334664 non-null  object\n",
      " 7   Kilometer          354369 non-null  int64 \n",
      " 8   RegistrationMonth  354369 non-null  int64 \n",
      " 9   FuelType           321474 non-null  object\n",
      " 10  Brand              354369 non-null  object\n",
      " 11  Repaired           283215 non-null  object\n",
      " 12  DateCreated        354369 non-null  object\n",
      " 13  NumberOfPictures   354369 non-null  int64 \n",
      " 14  PostalCode         354369 non-null  int64 \n",
      " 15  LastSeen           354369 non-null  object\n",
      "dtypes: int64(7), object(9)\n",
      "memory usage: 43.3+ MB\n"
     ]
    },
    {
     "data": {
      "text/plain": [
       "None"
      ]
     },
     "metadata": {},
     "output_type": "display_data"
    },
    {
     "data": {
      "text/html": [
       "<div>\n",
       "<style scoped>\n",
       "    .dataframe tbody tr th:only-of-type {\n",
       "        vertical-align: middle;\n",
       "    }\n",
       "\n",
       "    .dataframe tbody tr th {\n",
       "        vertical-align: top;\n",
       "    }\n",
       "\n",
       "    .dataframe thead th {\n",
       "        text-align: right;\n",
       "    }\n",
       "</style>\n",
       "<table border=\"1\" class=\"dataframe\">\n",
       "  <thead>\n",
       "    <tr style=\"text-align: right;\">\n",
       "      <th></th>\n",
       "      <th>Price</th>\n",
       "      <th>RegistrationYear</th>\n",
       "      <th>Power</th>\n",
       "      <th>Kilometer</th>\n",
       "      <th>RegistrationMonth</th>\n",
       "      <th>NumberOfPictures</th>\n",
       "      <th>PostalCode</th>\n",
       "    </tr>\n",
       "  </thead>\n",
       "  <tbody>\n",
       "    <tr>\n",
       "      <th>count</th>\n",
       "      <td>354369.000000</td>\n",
       "      <td>354369.000000</td>\n",
       "      <td>354369.000000</td>\n",
       "      <td>354369.000000</td>\n",
       "      <td>354369.000000</td>\n",
       "      <td>354369.0</td>\n",
       "      <td>354369.000000</td>\n",
       "    </tr>\n",
       "    <tr>\n",
       "      <th>mean</th>\n",
       "      <td>4416.656776</td>\n",
       "      <td>2004.234448</td>\n",
       "      <td>110.094337</td>\n",
       "      <td>128211.172535</td>\n",
       "      <td>5.714645</td>\n",
       "      <td>0.0</td>\n",
       "      <td>50508.689087</td>\n",
       "    </tr>\n",
       "    <tr>\n",
       "      <th>std</th>\n",
       "      <td>4514.158514</td>\n",
       "      <td>90.227958</td>\n",
       "      <td>189.850405</td>\n",
       "      <td>37905.341530</td>\n",
       "      <td>3.726421</td>\n",
       "      <td>0.0</td>\n",
       "      <td>25783.096248</td>\n",
       "    </tr>\n",
       "    <tr>\n",
       "      <th>min</th>\n",
       "      <td>0.000000</td>\n",
       "      <td>1000.000000</td>\n",
       "      <td>0.000000</td>\n",
       "      <td>5000.000000</td>\n",
       "      <td>0.000000</td>\n",
       "      <td>0.0</td>\n",
       "      <td>1067.000000</td>\n",
       "    </tr>\n",
       "    <tr>\n",
       "      <th>25%</th>\n",
       "      <td>1050.000000</td>\n",
       "      <td>1999.000000</td>\n",
       "      <td>69.000000</td>\n",
       "      <td>125000.000000</td>\n",
       "      <td>3.000000</td>\n",
       "      <td>0.0</td>\n",
       "      <td>30165.000000</td>\n",
       "    </tr>\n",
       "    <tr>\n",
       "      <th>50%</th>\n",
       "      <td>2700.000000</td>\n",
       "      <td>2003.000000</td>\n",
       "      <td>105.000000</td>\n",
       "      <td>150000.000000</td>\n",
       "      <td>6.000000</td>\n",
       "      <td>0.0</td>\n",
       "      <td>49413.000000</td>\n",
       "    </tr>\n",
       "    <tr>\n",
       "      <th>75%</th>\n",
       "      <td>6400.000000</td>\n",
       "      <td>2008.000000</td>\n",
       "      <td>143.000000</td>\n",
       "      <td>150000.000000</td>\n",
       "      <td>9.000000</td>\n",
       "      <td>0.0</td>\n",
       "      <td>71083.000000</td>\n",
       "    </tr>\n",
       "    <tr>\n",
       "      <th>max</th>\n",
       "      <td>20000.000000</td>\n",
       "      <td>9999.000000</td>\n",
       "      <td>20000.000000</td>\n",
       "      <td>150000.000000</td>\n",
       "      <td>12.000000</td>\n",
       "      <td>0.0</td>\n",
       "      <td>99998.000000</td>\n",
       "    </tr>\n",
       "  </tbody>\n",
       "</table>\n",
       "</div>"
      ],
      "text/plain": [
       "               Price  RegistrationYear          Power      Kilometer  \\\n",
       "count  354369.000000     354369.000000  354369.000000  354369.000000   \n",
       "mean     4416.656776       2004.234448     110.094337  128211.172535   \n",
       "std      4514.158514         90.227958     189.850405   37905.341530   \n",
       "min         0.000000       1000.000000       0.000000    5000.000000   \n",
       "25%      1050.000000       1999.000000      69.000000  125000.000000   \n",
       "50%      2700.000000       2003.000000     105.000000  150000.000000   \n",
       "75%      6400.000000       2008.000000     143.000000  150000.000000   \n",
       "max     20000.000000       9999.000000   20000.000000  150000.000000   \n",
       "\n",
       "       RegistrationMonth  NumberOfPictures     PostalCode  \n",
       "count      354369.000000          354369.0  354369.000000  \n",
       "mean            5.714645               0.0   50508.689087  \n",
       "std             3.726421               0.0   25783.096248  \n",
       "min             0.000000               0.0    1067.000000  \n",
       "25%             3.000000               0.0   30165.000000  \n",
       "50%             6.000000               0.0   49413.000000  \n",
       "75%             9.000000               0.0   71083.000000  \n",
       "max            12.000000               0.0   99998.000000  "
      ]
     },
     "metadata": {},
     "output_type": "display_data"
    }
   ],
   "source": [
    "#Изучим первоначальную инфмормацию о датасете методом info и describe\n",
    "display(df.info())\n",
    "display(df.describe())\n"
   ]
  },
  {
   "cell_type": "code",
   "execution_count": 9,
   "metadata": {},
   "outputs": [
    {
     "data": {
      "text/plain": [
       "4"
      ]
     },
     "execution_count": 9,
     "metadata": {},
     "output_type": "execute_result"
    }
   ],
   "source": [
    "#Посмотрим на количество дубликатов в датасете\n",
    "df.duplicated().sum()\n"
   ]
  },
  {
   "cell_type": "markdown",
   "metadata": {},
   "source": [
    "<div class=\"alert alert-success\">\n",
    "<font size=\"4\"><b>✔️ Комментарий ревьюера</b></font>\n",
    "    <br /> \n",
    "    <font size=\"3\", color = \"black\">\n",
    "<br />    \n",
    "Очистка дубликатов - важный шаг EDA"
   ]
  },
  {
   "cell_type": "markdown",
   "metadata": {},
   "source": [
    "<div class=\"alert alert-warning\">\n",
    "<font size=\"4\"><b>⚠️ Комментарий ревьюера</b></font>\n",
    "    <br /> \n",
    "    <font size=\"3\", color = \"black\">\n",
    "<br /> \n",
    "Но делать его стоит в конце анализа, поскольку количество дубликатов внезапно за время манипуляция с данными может стать больше.\n",
    "\n",
    "UPD: увидел в ходе дальнейшей проверки, что так и сделал в конце, молодец!\n",
    "    </font>\n",
    "</div>"
   ]
  },
  {
   "cell_type": "code",
   "execution_count": 10,
   "metadata": {},
   "outputs": [
    {
     "data": {
      "text/html": [
       "<div>\n",
       "<style scoped>\n",
       "    .dataframe tbody tr th:only-of-type {\n",
       "        vertical-align: middle;\n",
       "    }\n",
       "\n",
       "    .dataframe tbody tr th {\n",
       "        vertical-align: top;\n",
       "    }\n",
       "\n",
       "    .dataframe thead th {\n",
       "        text-align: right;\n",
       "    }\n",
       "</style>\n",
       "<table border=\"1\" class=\"dataframe\">\n",
       "  <thead>\n",
       "    <tr style=\"text-align: right;\">\n",
       "      <th></th>\n",
       "      <th>Price</th>\n",
       "      <th>VehicleType</th>\n",
       "      <th>RegistrationYear</th>\n",
       "      <th>Gearbox</th>\n",
       "      <th>Power</th>\n",
       "      <th>Model</th>\n",
       "      <th>Kilometer</th>\n",
       "      <th>RegistrationMonth</th>\n",
       "      <th>FuelType</th>\n",
       "      <th>Brand</th>\n",
       "      <th>Repaired</th>\n",
       "    </tr>\n",
       "  </thead>\n",
       "  <tbody>\n",
       "    <tr>\n",
       "      <th>0</th>\n",
       "      <td>480</td>\n",
       "      <td>NaN</td>\n",
       "      <td>1993</td>\n",
       "      <td>manual</td>\n",
       "      <td>0</td>\n",
       "      <td>golf</td>\n",
       "      <td>150000</td>\n",
       "      <td>0</td>\n",
       "      <td>petrol</td>\n",
       "      <td>volkswagen</td>\n",
       "      <td>NaN</td>\n",
       "    </tr>\n",
       "    <tr>\n",
       "      <th>1</th>\n",
       "      <td>18300</td>\n",
       "      <td>coupe</td>\n",
       "      <td>2011</td>\n",
       "      <td>manual</td>\n",
       "      <td>190</td>\n",
       "      <td>NaN</td>\n",
       "      <td>125000</td>\n",
       "      <td>5</td>\n",
       "      <td>gasoline</td>\n",
       "      <td>audi</td>\n",
       "      <td>yes</td>\n",
       "    </tr>\n",
       "    <tr>\n",
       "      <th>2</th>\n",
       "      <td>9800</td>\n",
       "      <td>suv</td>\n",
       "      <td>2004</td>\n",
       "      <td>auto</td>\n",
       "      <td>163</td>\n",
       "      <td>grand</td>\n",
       "      <td>125000</td>\n",
       "      <td>8</td>\n",
       "      <td>gasoline</td>\n",
       "      <td>jeep</td>\n",
       "      <td>NaN</td>\n",
       "    </tr>\n",
       "    <tr>\n",
       "      <th>3</th>\n",
       "      <td>1500</td>\n",
       "      <td>small</td>\n",
       "      <td>2001</td>\n",
       "      <td>manual</td>\n",
       "      <td>75</td>\n",
       "      <td>golf</td>\n",
       "      <td>150000</td>\n",
       "      <td>6</td>\n",
       "      <td>petrol</td>\n",
       "      <td>volkswagen</td>\n",
       "      <td>no</td>\n",
       "    </tr>\n",
       "    <tr>\n",
       "      <th>4</th>\n",
       "      <td>3600</td>\n",
       "      <td>small</td>\n",
       "      <td>2008</td>\n",
       "      <td>manual</td>\n",
       "      <td>69</td>\n",
       "      <td>fabia</td>\n",
       "      <td>90000</td>\n",
       "      <td>7</td>\n",
       "      <td>gasoline</td>\n",
       "      <td>skoda</td>\n",
       "      <td>no</td>\n",
       "    </tr>\n",
       "  </tbody>\n",
       "</table>\n",
       "</div>"
      ],
      "text/plain": [
       "   Price VehicleType  RegistrationYear Gearbox  Power  Model  Kilometer  \\\n",
       "0    480         NaN              1993  manual      0   golf     150000   \n",
       "1  18300       coupe              2011  manual    190    NaN     125000   \n",
       "2   9800         suv              2004    auto    163  grand     125000   \n",
       "3   1500       small              2001  manual     75   golf     150000   \n",
       "4   3600       small              2008  manual     69  fabia      90000   \n",
       "\n",
       "   RegistrationMonth  FuelType       Brand Repaired  \n",
       "0                  0    petrol  volkswagen      NaN  \n",
       "1                  5  gasoline        audi      yes  \n",
       "2                  8  gasoline        jeep      NaN  \n",
       "3                  6    petrol  volkswagen       no  \n",
       "4                  7  gasoline       skoda       no  "
      ]
     },
     "execution_count": 10,
     "metadata": {},
     "output_type": "execute_result"
    }
   ],
   "source": [
    "#Удалим столбцы которые нам не понадобятся\n",
    "df=df.drop(['DateCrawled','DateCreated','PostalCode','LastSeen','NumberOfPictures'], axis=1)\n",
    "df.head(5)"
   ]
  },
  {
   "cell_type": "markdown",
   "metadata": {},
   "source": [
    "<div class=\"alert alert-success\">\n",
    "<font size=\"4\"><b>✔️ Комментарий ревьюера</b></font>\n",
    "    <br /> \n",
    "    <font size=\"3\", color = \"black\">\n",
    "<br />    \n",
    "Неинформативные признаки определены верно"
   ]
  },
  {
   "cell_type": "code",
   "execution_count": 11,
   "metadata": {},
   "outputs": [],
   "source": [
    "# пустые значения в Repaired заменим на 0, так как по умолчанию, \n",
    "#скорее всего пользователи заполнявшие форму \"Чинилась ли машина\", просто не заполняли, если не чинилась. \n",
    "df['Repaired'] = df['Repaired'].fillna(0)\n",
    "df[\"Repaired\"] = (df[\"Repaired\"] == 'yes').astype('int')\n",
    "#df[\"Gearbox\"] = (df[\"Gearbox\"] == \"auto\").astype(\"int\")\n"
   ]
  },
  {
   "cell_type": "markdown",
   "metadata": {},
   "source": [
    "<div class=\"alert alert-info\">\n",
    "<font size=\"4\">🍕<b> Комментарий ревьюера</b></font>\n",
    "    <br /> \n",
    "    <font size=\"3\", color = \"black\">\n",
    "<br />\n",
    "Заполнить признак ремонта значением \"нет\", допустим, не лишено логики, как минимум, это мода значений признака."
   ]
  },
  {
   "cell_type": "markdown",
   "metadata": {},
   "source": [
    "<div class=\"alert alert-warning\">\n",
    "<font size=\"4\"><b>⚠️ Комментарий ревьюера</b></font>\n",
    "    <br /> \n",
    "    <font size=\"3\", color = \"black\">\n",
    "<br /> \n",
    "А вот почему по умолчанию тип КПП - автомат - загадка. Автомобилей на ручнике намного больше в датасете. Выглядит всё равно что заполнить тип двигателя \"элетрический\", хотя таких меньшинство.\n",
    "    </font>\n",
    "</div>"
   ]
  },
  {
   "cell_type": "code",
   "execution_count": 12,
   "metadata": {},
   "outputs": [
    {
     "data": {
      "text/html": [
       "<div>\n",
       "<style scoped>\n",
       "    .dataframe tbody tr th:only-of-type {\n",
       "        vertical-align: middle;\n",
       "    }\n",
       "\n",
       "    .dataframe tbody tr th {\n",
       "        vertical-align: top;\n",
       "    }\n",
       "\n",
       "    .dataframe thead th {\n",
       "        text-align: right;\n",
       "    }\n",
       "</style>\n",
       "<table border=\"1\" class=\"dataframe\">\n",
       "  <thead>\n",
       "    <tr style=\"text-align: right;\">\n",
       "      <th></th>\n",
       "      <th>Price</th>\n",
       "      <th>VehicleType</th>\n",
       "      <th>RegistrationYear</th>\n",
       "      <th>Gearbox</th>\n",
       "      <th>Power</th>\n",
       "      <th>Model</th>\n",
       "      <th>Kilometer</th>\n",
       "      <th>RegistrationMonth</th>\n",
       "      <th>FuelType</th>\n",
       "      <th>Brand</th>\n",
       "      <th>Repaired</th>\n",
       "    </tr>\n",
       "  </thead>\n",
       "  <tbody>\n",
       "    <tr>\n",
       "      <th>0</th>\n",
       "      <td>480</td>\n",
       "      <td>NaN</td>\n",
       "      <td>1993</td>\n",
       "      <td>manual</td>\n",
       "      <td>0</td>\n",
       "      <td>golf</td>\n",
       "      <td>150000</td>\n",
       "      <td>0</td>\n",
       "      <td>petrol</td>\n",
       "      <td>volkswagen</td>\n",
       "      <td>0</td>\n",
       "    </tr>\n",
       "    <tr>\n",
       "      <th>1</th>\n",
       "      <td>18300</td>\n",
       "      <td>coupe</td>\n",
       "      <td>2011</td>\n",
       "      <td>manual</td>\n",
       "      <td>190</td>\n",
       "      <td>NaN</td>\n",
       "      <td>125000</td>\n",
       "      <td>5</td>\n",
       "      <td>gasoline</td>\n",
       "      <td>audi</td>\n",
       "      <td>1</td>\n",
       "    </tr>\n",
       "    <tr>\n",
       "      <th>2</th>\n",
       "      <td>9800</td>\n",
       "      <td>suv</td>\n",
       "      <td>2004</td>\n",
       "      <td>auto</td>\n",
       "      <td>163</td>\n",
       "      <td>grand</td>\n",
       "      <td>125000</td>\n",
       "      <td>8</td>\n",
       "      <td>gasoline</td>\n",
       "      <td>jeep</td>\n",
       "      <td>0</td>\n",
       "    </tr>\n",
       "    <tr>\n",
       "      <th>3</th>\n",
       "      <td>1500</td>\n",
       "      <td>small</td>\n",
       "      <td>2001</td>\n",
       "      <td>manual</td>\n",
       "      <td>75</td>\n",
       "      <td>golf</td>\n",
       "      <td>150000</td>\n",
       "      <td>6</td>\n",
       "      <td>petrol</td>\n",
       "      <td>volkswagen</td>\n",
       "      <td>0</td>\n",
       "    </tr>\n",
       "    <tr>\n",
       "      <th>4</th>\n",
       "      <td>3600</td>\n",
       "      <td>small</td>\n",
       "      <td>2008</td>\n",
       "      <td>manual</td>\n",
       "      <td>69</td>\n",
       "      <td>fabia</td>\n",
       "      <td>90000</td>\n",
       "      <td>7</td>\n",
       "      <td>gasoline</td>\n",
       "      <td>skoda</td>\n",
       "      <td>0</td>\n",
       "    </tr>\n",
       "    <tr>\n",
       "      <th>...</th>\n",
       "      <td>...</td>\n",
       "      <td>...</td>\n",
       "      <td>...</td>\n",
       "      <td>...</td>\n",
       "      <td>...</td>\n",
       "      <td>...</td>\n",
       "      <td>...</td>\n",
       "      <td>...</td>\n",
       "      <td>...</td>\n",
       "      <td>...</td>\n",
       "      <td>...</td>\n",
       "    </tr>\n",
       "    <tr>\n",
       "      <th>354364</th>\n",
       "      <td>0</td>\n",
       "      <td>NaN</td>\n",
       "      <td>2005</td>\n",
       "      <td>manual</td>\n",
       "      <td>0</td>\n",
       "      <td>colt</td>\n",
       "      <td>150000</td>\n",
       "      <td>7</td>\n",
       "      <td>petrol</td>\n",
       "      <td>mitsubishi</td>\n",
       "      <td>1</td>\n",
       "    </tr>\n",
       "    <tr>\n",
       "      <th>354365</th>\n",
       "      <td>2200</td>\n",
       "      <td>NaN</td>\n",
       "      <td>2005</td>\n",
       "      <td>NaN</td>\n",
       "      <td>0</td>\n",
       "      <td>NaN</td>\n",
       "      <td>20000</td>\n",
       "      <td>1</td>\n",
       "      <td>NaN</td>\n",
       "      <td>sonstige_autos</td>\n",
       "      <td>0</td>\n",
       "    </tr>\n",
       "    <tr>\n",
       "      <th>354366</th>\n",
       "      <td>1199</td>\n",
       "      <td>convertible</td>\n",
       "      <td>2000</td>\n",
       "      <td>auto</td>\n",
       "      <td>101</td>\n",
       "      <td>fortwo</td>\n",
       "      <td>125000</td>\n",
       "      <td>3</td>\n",
       "      <td>petrol</td>\n",
       "      <td>smart</td>\n",
       "      <td>0</td>\n",
       "    </tr>\n",
       "    <tr>\n",
       "      <th>354367</th>\n",
       "      <td>9200</td>\n",
       "      <td>bus</td>\n",
       "      <td>1996</td>\n",
       "      <td>manual</td>\n",
       "      <td>102</td>\n",
       "      <td>transporter</td>\n",
       "      <td>150000</td>\n",
       "      <td>3</td>\n",
       "      <td>gasoline</td>\n",
       "      <td>volkswagen</td>\n",
       "      <td>0</td>\n",
       "    </tr>\n",
       "    <tr>\n",
       "      <th>354368</th>\n",
       "      <td>3400</td>\n",
       "      <td>wagon</td>\n",
       "      <td>2002</td>\n",
       "      <td>manual</td>\n",
       "      <td>100</td>\n",
       "      <td>golf</td>\n",
       "      <td>150000</td>\n",
       "      <td>6</td>\n",
       "      <td>gasoline</td>\n",
       "      <td>volkswagen</td>\n",
       "      <td>0</td>\n",
       "    </tr>\n",
       "  </tbody>\n",
       "</table>\n",
       "<p>354369 rows × 11 columns</p>\n",
       "</div>"
      ],
      "text/plain": [
       "        Price  VehicleType  RegistrationYear Gearbox  Power        Model  \\\n",
       "0         480          NaN              1993  manual      0         golf   \n",
       "1       18300        coupe              2011  manual    190          NaN   \n",
       "2        9800          suv              2004    auto    163        grand   \n",
       "3        1500        small              2001  manual     75         golf   \n",
       "4        3600        small              2008  manual     69        fabia   \n",
       "...       ...          ...               ...     ...    ...          ...   \n",
       "354364      0          NaN              2005  manual      0         colt   \n",
       "354365   2200          NaN              2005     NaN      0          NaN   \n",
       "354366   1199  convertible              2000    auto    101       fortwo   \n",
       "354367   9200          bus              1996  manual    102  transporter   \n",
       "354368   3400        wagon              2002  manual    100         golf   \n",
       "\n",
       "        Kilometer  RegistrationMonth  FuelType           Brand  Repaired  \n",
       "0          150000                  0    petrol      volkswagen         0  \n",
       "1          125000                  5  gasoline            audi         1  \n",
       "2          125000                  8  gasoline            jeep         0  \n",
       "3          150000                  6    petrol      volkswagen         0  \n",
       "4           90000                  7  gasoline           skoda         0  \n",
       "...           ...                ...       ...             ...       ...  \n",
       "354364     150000                  7    petrol      mitsubishi         1  \n",
       "354365      20000                  1       NaN  sonstige_autos         0  \n",
       "354366     125000                  3    petrol           smart         0  \n",
       "354367     150000                  3  gasoline      volkswagen         0  \n",
       "354368     150000                  6  gasoline      volkswagen         0  \n",
       "\n",
       "[354369 rows x 11 columns]"
      ]
     },
     "execution_count": 12,
     "metadata": {},
     "output_type": "execute_result"
    }
   ],
   "source": [
    "df"
   ]
  },
  {
   "cell_type": "code",
   "execution_count": 13,
   "metadata": {},
   "outputs": [
    {
     "data": {
      "text/plain": [
       "Price                    0\n",
       "VehicleType          37490\n",
       "RegistrationYear         0\n",
       "Gearbox              19833\n",
       "Power                    0\n",
       "Model                19705\n",
       "Kilometer                0\n",
       "RegistrationMonth        0\n",
       "FuelType             32895\n",
       "Brand                    0\n",
       "Repaired                 0\n",
       "dtype: int64"
      ]
     },
     "execution_count": 13,
     "metadata": {},
     "output_type": "execute_result"
    }
   ],
   "source": [
    "df.isna().sum()"
   ]
  },
  {
   "cell_type": "code",
   "execution_count": 14,
   "metadata": {},
   "outputs": [],
   "source": [
    "# def impute_value(in_df, features, target):\n",
    "#     encoders=dict()\n",
    "#     df = in_df.copy()\n",
    "#     for col in df[features].select_dtypes('object').columns:\n",
    "#         df.loc[df[col].isna(), col] = \"None\"\n",
    "#         le = LabelEncoder()\n",
    "#         df[col] = le.fit_transform(df[col])\n",
    "#         encoders[col] = le \n",
    "#     features = list(set(df.columns)-set([target]))\n",
    "#     train_df = df[~df[target].isna()]\n",
    "#     test_df = df[df[target].isna()]\n",
    "#     let = LabelEncoder()\n",
    "#     y_train = let.fit_transform(train_df[target])\n",
    "#     y_train = train_df[target].values\n",
    "#     X_train, X_test = train_df[features].values, test_df[features].values\n",
    "#     if len(X_test)==0:\n",
    "#         return in_df\n",
    "#     model = DecisionTreeClassifier().fit(X_train, y_train)\n",
    "#     y_pred = model.predict(X_test)\n",
    "#     df.loc[df[target].isna(), target] = y_pred\n",
    "#     in_df[target] = df[target]\n",
    "#     return in_df"
   ]
  },
  {
   "cell_type": "markdown",
   "metadata": {},
   "source": [
    "1. Функция принимает три аргумента: входной DataFrame in_df, список признаков features и целевую переменную target.\n",
    "\n",
    "2. Сначала создается копия входного DataFrame, чтобы не изменять исходные данные.\n",
    "\n",
    "3. Затем функция проходит через все столбцы в DataFrame, выбирая те, которые имеют тип данных 'object'. Это обычно категориальные переменные. Если в столбце присутствуют пропущенные значения (NaN), они заменяются на строку \"None\".\n",
    "\n",
    "4. Каждый из этих столбцов преобразуется с помощью LabelEncoder из sklearn, который кодирует категориальные признаки числовыми значениями. Словарь encoders хранит эти кодировщики для каждого столбца.\n",
    "\n",
    "5. После этого входной DataFrame разбивается на обучающий и тестовый наборы. Обучающий набор содержит все строки, где целевой признак не равен NaN, а тестовый набор содержит строки, где целевой признак равен NaN.\n",
    "\n",
    "6. Целевой признак обучающего набора преобразуется в числовые значения с помощью LabelEncoder.\n",
    "\n",
    "7. Затем функция обучает модель DecisionTreeClassifier на обучающем наборе данных и предсказывает значения целевого признака для тестового набора.\n",
    "\n",
    "8. Предсказанные значения используются для заполнения пропущенных значений в исходном DataFrame.\n",
    "\n",
    "9. В конце исходный DataFrame возвращается с заполненными пропущенными значениями.\n",
    "\n",
    "P.S. Функция impute_value применяет методы машинного обучения для заполнения пропущенных значений, вместо того чтобы просто заполнить их средним, медианой или наиболее часто встречающимся значением. Это может быть более эффективным подходом, особенно когда есть корреляция между пропущенными значениями и другими признаками.\n",
    "\n",
    "\n",
    "\n",
    "\n"
   ]
  },
  {
   "cell_type": "markdown",
   "metadata": {},
   "source": [
    "<div class=\"alert alert-success\">\n",
    "<font size=\"4\"><b>✔️ Комментарий ревьюера V2</b></font>\n",
    "    <br /> \n",
    "    <font size=\"3\", color = \"black\">\n",
    "<br /> \n",
    "Использование модели для заполнения пропусков - в целом идея классная"
   ]
  },
  {
   "cell_type": "code",
   "execution_count": 15,
   "metadata": {},
   "outputs": [],
   "source": [
    "# from sklearn.preprocessing import OrdinalEncoder, StandardScaler\n",
    "# from sklearn.tree import DecisionTreeClassifier\n",
    "# from sklearn.impute import SimpleImputer\n",
    "# from sklearn.pipeline import make_pipeline\n",
    "\n",
    "# def impute_value(in_df, features, target):\n",
    "#     # Копируем исходный датафрейм\n",
    "#     df = in_df.copy()\n",
    "    \n",
    "#     # Разделяем датафрейм на тренировочный и тестовый\n",
    "#     train_df = df[~df[target].isna()]\n",
    "#     test_df = df[df[target].isna()]\n",
    "    \n",
    "#     # Проверяем, есть ли в тестовом датасете данные. Если нет, то возвращаем исходный датафрейм\n",
    "#     if len(test_df)==0:\n",
    "#         return in_df\n",
    "    \n",
    "#     # Создаем список признаков\n",
    "#     features = list(set(df.columns) - set([target]))\n",
    "    \n",
    "#     # Создаем объекты для обработки данных\n",
    "#     ordinal_encoder = OrdinalEncoder(handle_unknown='use_encoded_value', unknown_value=np.nan)\n",
    "#     scaler = StandardScaler()\n",
    "#     classifier = DecisionTreeClassifier()\n",
    "    \n",
    "#     # Создаем конвейер для обработки данных\n",
    "#     pipeline = make_pipeline(ordinal_encoder, scaler, classifier)\n",
    "    \n",
    "#     # Обучаем модель на тренировочных данных\n",
    "#     X_train = train_df[features]\n",
    "#     y_train = train_df[target]\n",
    "#     pipeline.fit(X_train, y_train)\n",
    "    \n",
    "#     # Предсказываем значения для тестовых данных\n",
    "#     X_test = test_df[features]\n",
    "#     y_pred = pipeline.predict(X_test)\n",
    "    \n",
    "#     # Заменяем пропущенные значения в исходном датафрейме предсказанными значениями\n",
    "#     in_df.loc[in_df[target].isna(), target] = y_pred\n",
    "    \n",
    "#     return in_df\n"
   ]
  },
  {
   "cell_type": "code",
   "execution_count": 16,
   "metadata": {},
   "outputs": [],
   "source": [
    "# def impute_value(df, features, target):\n",
    "#     # Разделяем датафрейм на тренировочный и тестовый\n",
    "#     train_df = df.dropna(subset=[target])\n",
    "#     test_df = df[df[target].isna()]\n",
    "    \n",
    "#     # Если в тестовом датафрейме нет данных, возвращаем исходный датафрейм\n",
    "#     if len(test_df)==0:\n",
    "#         return df\n",
    "\n",
    "#     # Создаем список признаков\n",
    "#     features = list(set(df.columns) - set([target]))\n",
    "\n",
    "#     # Создаем объекты для обработки данных\n",
    "#     ordinal_encoder = OrdinalEncoder(handle_unknown='use_encoded_value', unknown_value=np.nan)\n",
    "#     imputer = SimpleImputer(strategy='most_frequent')\n",
    "\n",
    "#     # Создаем pipeline для каждого столбца\n",
    "#     pipeline = Pipeline(steps=[\n",
    "#         ('imputer', SimpleImputer(strategy='most_frequent')),\n",
    "#         ('encoder', OrdinalEncoder(handle_unknown='use_encoded_value', unknown_value=np.nan))\n",
    "#     ])\n",
    "    \n",
    "#     # Создаем ColumnTransformer, который будет применять преобразования к нужным столбцам\n",
    "#     transformer = ColumnTransformer(transformers=[\n",
    "#         ('pipe', pipeline, features)\n",
    "#     ])\n",
    "    \n",
    "#     classifier = RandomForestClassifier()\n",
    "\n",
    "#     # Обучаем модель на тренировочных данных\n",
    "#     X_train = transformer.fit_transform(train_df)\n",
    "#     y_train = train_df[target]\n",
    "#     classifier.fit(X_train, y_train)\n",
    "\n",
    "#     # Предсказываем значения для тестовых данных\n",
    "#     X_test = transformer.transform(test_df)\n",
    "#     y_pred = classifier.predict(X_test)\n",
    "\n",
    "#     # Заменяем пропущенные значения в исходном датафрейме предсказанными значениями\n",
    "#     df.loc[df[target].isna(), target] = y_pred\n",
    "\n",
    "#     return df\n"
   ]
  },
  {
   "cell_type": "code",
   "execution_count": 17,
   "metadata": {},
   "outputs": [],
   "source": [
    "def impute_value(df, features, target):\n",
    "    # Разделение данных на тренировочные и тестовые наборы\n",
    "    train_df = df[df[target].notna()]\n",
    "    test_df = df[df[target].isna()]\n",
    "\n",
    "    # Проверка на наличие пропущенных значений в тестовом наборе данных\n",
    "    if test_df.empty:\n",
    "        return df\n",
    "\n",
    "    # Создание списка категориальных и числовых признаков\n",
    "    categorical_features = [col for col in features if df[col].dtype == 'object']\n",
    "    numeric_features = [col for col in features if df[col].dtype != 'object']\n",
    "\n",
    "    # Создание экземпляра RandomForestClassifier\n",
    "    classifier = RandomForestClassifier(n_estimators=10, random_state=random_state)\n",
    "\n",
    "    # Создание трансформатора, который заполняет пропущенные значения наиболее частыми значениями,\n",
    "    # затем преобразует категориальные переменные в числовые\n",
    "    transformer = ColumnTransformer(\n",
    "        transformers=[\n",
    "            ('num', SimpleImputer(strategy='median'), numeric_features),\n",
    "            ('cat', Pipeline(steps=[\n",
    "                ('imputer', SimpleImputer(strategy='most_frequent')),\n",
    "                ('encoder', OrdinalEncoder(handle_unknown='use_encoded_value', unknown_value=-1))]), categorical_features)])\n",
    "\n",
    "    # Обучение модели на тренировочных данных\n",
    "    X_train = transformer.fit_transform(train_df[features])\n",
    "    y_train = train_df[target]\n",
    "    classifier.fit(X_train, y_train)\n",
    "\n",
    "    # Предсказание значений для тестовых данных\n",
    "    X_test = transformer.transform(test_df[features])\n",
    "    y_pred = classifier.predict(X_test)\n",
    "\n",
    "    # Замена пропущенных значений в исходном датафрейме предсказанными значениями\n",
    "    df.loc[df[target].isna(), target] = y_pred\n",
    "    return df"
   ]
  },
  {
   "cell_type": "markdown",
   "metadata": {},
   "source": [
    "<div class=\"alert alert-success\">\n",
    "<font size=\"4\"><b>✔️ Комментарий ревьюера V3</b></font>\n",
    "    <br /> \n",
    "    <font size=\"3\", color = \"black\">\n",
    "<br />    \n",
    "Выглядит неплохо! Используешь разные полезные вещи, типа ColumnTransformer, и код в целом стал намного понятнее 👍\n",
    "<br />\n",
    "    </font>\n",
    "</div>"
   ]
  },
  {
   "cell_type": "markdown",
   "metadata": {},
   "source": [
    "Переписал логику и функцию замены пропущенных значений - см. функцию выше с комментариями"
   ]
  },
  {
   "cell_type": "markdown",
   "metadata": {},
   "source": [
    "docstring выше"
   ]
  },
  {
   "cell_type": "code",
   "execution_count": 18,
   "metadata": {},
   "outputs": [],
   "source": [
    "# Проход по колонкам с пропущенными данными и заполнение их\n",
    "for col in [\"VehicleType\", \"Gearbox\", \"Model\", \"FuelType\"]:\n",
    "    df = impute_value(df, features=list(set(df.columns)-set([col, 'Price'])), target=col)\n"
   ]
  },
  {
   "cell_type": "code",
   "execution_count": 19,
   "metadata": {},
   "outputs": [
    {
     "name": "stdout",
     "output_type": "stream",
     "text": [
      "<class 'pandas.core.frame.DataFrame'>\n",
      "RangeIndex: 354369 entries, 0 to 354368\n",
      "Data columns (total 11 columns):\n",
      " #   Column             Non-Null Count   Dtype \n",
      "---  ------             --------------   ----- \n",
      " 0   Price              354369 non-null  int64 \n",
      " 1   VehicleType        354369 non-null  object\n",
      " 2   RegistrationYear   354369 non-null  int64 \n",
      " 3   Gearbox            354369 non-null  object\n",
      " 4   Power              354369 non-null  int64 \n",
      " 5   Model              354369 non-null  object\n",
      " 6   Kilometer          354369 non-null  int64 \n",
      " 7   RegistrationMonth  354369 non-null  int64 \n",
      " 8   FuelType           354369 non-null  object\n",
      " 9   Brand              354369 non-null  object\n",
      " 10  Repaired           354369 non-null  int64 \n",
      "dtypes: int64(6), object(5)\n",
      "memory usage: 29.7+ MB\n"
     ]
    }
   ],
   "source": [
    "df.info()"
   ]
  },
  {
   "cell_type": "code",
   "execution_count": 20,
   "metadata": {},
   "outputs": [
    {
     "data": {
      "text/plain": [
       "Price                0\n",
       "VehicleType          0\n",
       "RegistrationYear     0\n",
       "Gearbox              0\n",
       "Power                0\n",
       "Model                0\n",
       "Kilometer            0\n",
       "RegistrationMonth    0\n",
       "FuelType             0\n",
       "Brand                0\n",
       "Repaired             0\n",
       "dtype: int64"
      ]
     },
     "execution_count": 20,
     "metadata": {},
     "output_type": "execute_result"
    }
   ],
   "source": [
    "df.isna().sum()\n"
   ]
  },
  {
   "cell_type": "code",
   "execution_count": 21,
   "metadata": {},
   "outputs": [
    {
     "data": {
      "text/html": [
       "<div>\n",
       "<style scoped>\n",
       "    .dataframe tbody tr th:only-of-type {\n",
       "        vertical-align: middle;\n",
       "    }\n",
       "\n",
       "    .dataframe tbody tr th {\n",
       "        vertical-align: top;\n",
       "    }\n",
       "\n",
       "    .dataframe thead th {\n",
       "        text-align: right;\n",
       "    }\n",
       "</style>\n",
       "<table border=\"1\" class=\"dataframe\">\n",
       "  <thead>\n",
       "    <tr style=\"text-align: right;\">\n",
       "      <th></th>\n",
       "      <th>count</th>\n",
       "      <th>mean</th>\n",
       "      <th>std</th>\n",
       "      <th>min</th>\n",
       "      <th>25%</th>\n",
       "      <th>50%</th>\n",
       "      <th>75%</th>\n",
       "      <th>max</th>\n",
       "      <th>corr_with_target</th>\n",
       "      <th>dtypes</th>\n",
       "      <th>Missing %</th>\n",
       "      <th>Cardinality</th>\n",
       "      <th>Skew</th>\n",
       "      <th>outliers</th>\n",
       "      <th>kurtosis</th>\n",
       "    </tr>\n",
       "  </thead>\n",
       "  <tbody>\n",
       "    <tr>\n",
       "      <th>Price</th>\n",
       "      <td>354369.0</td>\n",
       "      <td>4416.656776</td>\n",
       "      <td>4514.158514</td>\n",
       "      <td>0.0</td>\n",
       "      <td>1050.0</td>\n",
       "      <td>2700.0</td>\n",
       "      <td>6400.0</td>\n",
       "      <td>20000.0</td>\n",
       "      <td>NaN</td>\n",
       "      <td>int64</td>\n",
       "      <td>0.0</td>\n",
       "      <td>3731</td>\n",
       "      <td>1.430609</td>\n",
       "      <td>5484</td>\n",
       "      <td>1.410638</td>\n",
       "    </tr>\n",
       "    <tr>\n",
       "      <th>RegistrationYear</th>\n",
       "      <td>354369.0</td>\n",
       "      <td>2004.234448</td>\n",
       "      <td>90.227958</td>\n",
       "      <td>1000.0</td>\n",
       "      <td>1999.0</td>\n",
       "      <td>2003.0</td>\n",
       "      <td>2008.0</td>\n",
       "      <td>9999.0</td>\n",
       "      <td>0.026916</td>\n",
       "      <td>int64</td>\n",
       "      <td>0.0</td>\n",
       "      <td>151</td>\n",
       "      <td>74.621005</td>\n",
       "      <td>162</td>\n",
       "      <td>6083.101952</td>\n",
       "    </tr>\n",
       "    <tr>\n",
       "      <th>Power</th>\n",
       "      <td>354369.0</td>\n",
       "      <td>110.094337</td>\n",
       "      <td>189.850405</td>\n",
       "      <td>0.0</td>\n",
       "      <td>69.0</td>\n",
       "      <td>105.0</td>\n",
       "      <td>143.0</td>\n",
       "      <td>20000.0</td>\n",
       "      <td>0.158872</td>\n",
       "      <td>int64</td>\n",
       "      <td>0.0</td>\n",
       "      <td>712</td>\n",
       "      <td>60.157196</td>\n",
       "      <td>359</td>\n",
       "      <td>4624.103219</td>\n",
       "    </tr>\n",
       "    <tr>\n",
       "      <th>Kilometer</th>\n",
       "      <td>354369.0</td>\n",
       "      <td>128211.172535</td>\n",
       "      <td>37905.341530</td>\n",
       "      <td>5000.0</td>\n",
       "      <td>125000.0</td>\n",
       "      <td>150000.0</td>\n",
       "      <td>150000.0</td>\n",
       "      <td>150000.0</td>\n",
       "      <td>-0.333199</td>\n",
       "      <td>int64</td>\n",
       "      <td>0.0</td>\n",
       "      <td>13</td>\n",
       "      <td>-1.724119</td>\n",
       "      <td>7619</td>\n",
       "      <td>1.925124</td>\n",
       "    </tr>\n",
       "    <tr>\n",
       "      <th>RegistrationMonth</th>\n",
       "      <td>354369.0</td>\n",
       "      <td>5.714645</td>\n",
       "      <td>3.726421</td>\n",
       "      <td>0.0</td>\n",
       "      <td>3.0</td>\n",
       "      <td>6.0</td>\n",
       "      <td>9.0</td>\n",
       "      <td>12.0</td>\n",
       "      <td>0.110581</td>\n",
       "      <td>int64</td>\n",
       "      <td>0.0</td>\n",
       "      <td>13</td>\n",
       "      <td>0.081207</td>\n",
       "      <td>0</td>\n",
       "      <td>-1.148239</td>\n",
       "    </tr>\n",
       "    <tr>\n",
       "      <th>Repaired</th>\n",
       "      <td>354369.0</td>\n",
       "      <td>0.101741</td>\n",
       "      <td>0.302308</td>\n",
       "      <td>0.0</td>\n",
       "      <td>0.0</td>\n",
       "      <td>0.0</td>\n",
       "      <td>0.0</td>\n",
       "      <td>1.0</td>\n",
       "      <td>-0.186431</td>\n",
       "      <td>int64</td>\n",
       "      <td>0.0</td>\n",
       "      <td>2</td>\n",
       "      <td>2.634799</td>\n",
       "      <td>0</td>\n",
       "      <td>4.942192</td>\n",
       "    </tr>\n",
       "  </tbody>\n",
       "</table>\n",
       "</div>"
      ],
      "text/plain": [
       "                      count           mean           std     min       25%  \\\n",
       "Price              354369.0    4416.656776   4514.158514     0.0    1050.0   \n",
       "RegistrationYear   354369.0    2004.234448     90.227958  1000.0    1999.0   \n",
       "Power              354369.0     110.094337    189.850405     0.0      69.0   \n",
       "Kilometer          354369.0  128211.172535  37905.341530  5000.0  125000.0   \n",
       "RegistrationMonth  354369.0       5.714645      3.726421     0.0       3.0   \n",
       "Repaired           354369.0       0.101741      0.302308     0.0       0.0   \n",
       "\n",
       "                        50%       75%       max  corr_with_target dtypes  \\\n",
       "Price                2700.0    6400.0   20000.0               NaN  int64   \n",
       "RegistrationYear     2003.0    2008.0    9999.0          0.026916  int64   \n",
       "Power                 105.0     143.0   20000.0          0.158872  int64   \n",
       "Kilometer          150000.0  150000.0  150000.0         -0.333199  int64   \n",
       "RegistrationMonth       6.0       9.0      12.0          0.110581  int64   \n",
       "Repaired                0.0       0.0       1.0         -0.186431  int64   \n",
       "\n",
       "                   Missing %  Cardinality       Skew  outliers     kurtosis  \n",
       "Price                    0.0         3731   1.430609      5484     1.410638  \n",
       "RegistrationYear         0.0          151  74.621005       162  6083.101952  \n",
       "Power                    0.0          712  60.157196       359  4624.103219  \n",
       "Kilometer                0.0           13  -1.724119      7619     1.925124  \n",
       "RegistrationMonth        0.0           13   0.081207         0    -1.148239  \n",
       "Repaired                 0.0            2   2.634799         0     4.942192  "
      ]
     },
     "execution_count": 21,
     "metadata": {},
     "output_type": "execute_result"
    }
   ],
   "source": [
    "target = \"Price\"\n",
    "describe_full_stat(df, target_name=target)\n"
   ]
  },
  {
   "cell_type": "code",
   "execution_count": 22,
   "metadata": {},
   "outputs": [
    {
     "name": "stdout",
     "output_type": "stream",
     "text": [
      "<class 'pandas.core.frame.DataFrame'>\n",
      "Int64Index: 319568 entries, 0 to 354368\n",
      "Data columns (total 11 columns):\n",
      " #   Column             Non-Null Count   Dtype \n",
      "---  ------             --------------   ----- \n",
      " 0   Price              319568 non-null  int64 \n",
      " 1   VehicleType        319568 non-null  object\n",
      " 2   RegistrationYear   319568 non-null  int64 \n",
      " 3   Gearbox            319568 non-null  object\n",
      " 4   Power              319568 non-null  int64 \n",
      " 5   Model              319568 non-null  object\n",
      " 6   Kilometer          319568 non-null  int64 \n",
      " 7   RegistrationMonth  319568 non-null  int64 \n",
      " 8   FuelType           319568 non-null  object\n",
      " 9   Brand              319568 non-null  object\n",
      " 10  Repaired           319568 non-null  int64 \n",
      "dtypes: int64(6), object(5)\n",
      "memory usage: 29.3+ MB\n"
     ]
    }
   ],
   "source": [
    "#Удалим дубликаты\n",
    "df = df.drop_duplicates()\n",
    "df.info()"
   ]
  },
  {
   "cell_type": "code",
   "execution_count": 23,
   "metadata": {},
   "outputs": [
    {
     "data": {
      "text/plain": [
       "2700.0"
      ]
     },
     "execution_count": 23,
     "metadata": {},
     "output_type": "execute_result"
    },
    {
     "data": {
      "image/png": "[encoded data removed]",
      "text/plain": [
       "<Figure size 432x288 with 1 Axes>"
      ]
     },
     "metadata": {
      "needs_background": "light"
     },
     "output_type": "display_data"
    }
   ],
   "source": [
    "#Посмотрим на распределение целевого признака\n",
    "sns.distplot(df.Price.values)\n",
    "np.median(df.Price.values)"
   ]
  },
  {
   "cell_type": "code",
   "execution_count": 24,
   "metadata": {},
   "outputs": [
    {
     "data": {
      "text/plain": [
       "Brand           40\n",
       "Model          250\n",
       "VehicleType      8\n",
       "Gearbox          2\n",
       "FuelType         7\n",
       "dtype: int64"
      ]
     },
     "execution_count": 24,
     "metadata": {},
     "output_type": "execute_result"
    }
   ],
   "source": [
    "#Посмотрим сколько уникальных значений мы имеем в categorical признаках\n",
    "categorical = ['Brand','Model','VehicleType','Gearbox','FuelType']\n",
    "numerical_features_names = df.select_dtypes(include=['int64'])\n",
    "df[categorical].nunique()"
   ]
  },
  {
   "cell_type": "code",
   "execution_count": 25,
   "metadata": {},
   "outputs": [
    {
     "data": {
      "image/png": "[encoded data removed]",
      "text/plain": [
       "<Figure size 1600x1200 with 2 Axes>"
      ]
     },
     "metadata": {
      "needs_background": "light"
     },
     "output_type": "display_data"
    }
   ],
   "source": [
    "corr_diagram(df)"
   ]
  },
  {
   "cell_type": "markdown",
   "metadata": {},
   "source": [
    "- Заменили пустые значения в столбцах model, brand, на имеющиеся значения с похожими значениями.\n",
    "- Удалили дубликаты и пустые значения (подготовили датасет)\n",
    "- Заменили nan в столбце Repaired на 0\n",
    "- Удалили лишние столбцы"
   ]
  },
  {
   "cell_type": "markdown",
   "metadata": {},
   "source": [
    "## Обучение моделей"
   ]
  },
  {
   "cell_type": "markdown",
   "metadata": {},
   "source": [
    "Изучим 2 модели Градиентного бустинга : CatBoost, LightGBM и сравним с Линейной регрессией"
   ]
  },
  {
   "cell_type": "code",
   "execution_count": 26,
   "metadata": {},
   "outputs": [
    {
     "data": {
      "text/html": [
       "<div>\n",
       "<style scoped>\n",
       "    .dataframe tbody tr th:only-of-type {\n",
       "        vertical-align: middle;\n",
       "    }\n",
       "\n",
       "    .dataframe tbody tr th {\n",
       "        vertical-align: top;\n",
       "    }\n",
       "\n",
       "    .dataframe thead th {\n",
       "        text-align: right;\n",
       "    }\n",
       "</style>\n",
       "<table border=\"1\" class=\"dataframe\">\n",
       "  <thead>\n",
       "    <tr style=\"text-align: right;\">\n",
       "      <th></th>\n",
       "      <th>Price</th>\n",
       "      <th>VehicleType</th>\n",
       "      <th>RegistrationYear</th>\n",
       "      <th>Gearbox</th>\n",
       "      <th>Power</th>\n",
       "      <th>Model</th>\n",
       "      <th>Kilometer</th>\n",
       "      <th>RegistrationMonth</th>\n",
       "      <th>FuelType</th>\n",
       "      <th>Brand</th>\n",
       "      <th>Repaired</th>\n",
       "    </tr>\n",
       "  </thead>\n",
       "  <tbody>\n",
       "    <tr>\n",
       "      <th>0</th>\n",
       "      <td>480</td>\n",
       "      <td>small</td>\n",
       "      <td>1993</td>\n",
       "      <td>manual</td>\n",
       "      <td>0</td>\n",
       "      <td>golf</td>\n",
       "      <td>150000</td>\n",
       "      <td>0</td>\n",
       "      <td>petrol</td>\n",
       "      <td>volkswagen</td>\n",
       "      <td>0</td>\n",
       "    </tr>\n",
       "    <tr>\n",
       "      <th>1</th>\n",
       "      <td>18300</td>\n",
       "      <td>coupe</td>\n",
       "      <td>2011</td>\n",
       "      <td>manual</td>\n",
       "      <td>190</td>\n",
       "      <td>a5</td>\n",
       "      <td>125000</td>\n",
       "      <td>5</td>\n",
       "      <td>gasoline</td>\n",
       "      <td>audi</td>\n",
       "      <td>1</td>\n",
       "    </tr>\n",
       "    <tr>\n",
       "      <th>2</th>\n",
       "      <td>9800</td>\n",
       "      <td>suv</td>\n",
       "      <td>2004</td>\n",
       "      <td>auto</td>\n",
       "      <td>163</td>\n",
       "      <td>grand</td>\n",
       "      <td>125000</td>\n",
       "      <td>8</td>\n",
       "      <td>gasoline</td>\n",
       "      <td>jeep</td>\n",
       "      <td>0</td>\n",
       "    </tr>\n",
       "    <tr>\n",
       "      <th>3</th>\n",
       "      <td>1500</td>\n",
       "      <td>small</td>\n",
       "      <td>2001</td>\n",
       "      <td>manual</td>\n",
       "      <td>75</td>\n",
       "      <td>golf</td>\n",
       "      <td>150000</td>\n",
       "      <td>6</td>\n",
       "      <td>petrol</td>\n",
       "      <td>volkswagen</td>\n",
       "      <td>0</td>\n",
       "    </tr>\n",
       "    <tr>\n",
       "      <th>4</th>\n",
       "      <td>3600</td>\n",
       "      <td>small</td>\n",
       "      <td>2008</td>\n",
       "      <td>manual</td>\n",
       "      <td>69</td>\n",
       "      <td>fabia</td>\n",
       "      <td>90000</td>\n",
       "      <td>7</td>\n",
       "      <td>gasoline</td>\n",
       "      <td>skoda</td>\n",
       "      <td>0</td>\n",
       "    </tr>\n",
       "  </tbody>\n",
       "</table>\n",
       "</div>"
      ],
      "text/plain": [
       "   Price VehicleType  RegistrationYear Gearbox  Power  Model  Kilometer  \\\n",
       "0    480       small              1993  manual      0   golf     150000   \n",
       "1  18300       coupe              2011  manual    190     a5     125000   \n",
       "2   9800         suv              2004    auto    163  grand     125000   \n",
       "3   1500       small              2001  manual     75   golf     150000   \n",
       "4   3600       small              2008  manual     69  fabia      90000   \n",
       "\n",
       "   RegistrationMonth  FuelType       Brand  Repaired  \n",
       "0                  0    petrol  volkswagen         0  \n",
       "1                  5  gasoline        audi         1  \n",
       "2                  8  gasoline        jeep         0  \n",
       "3                  6    petrol  volkswagen         0  \n",
       "4                  7  gasoline       skoda         0  "
      ]
     },
     "execution_count": 26,
     "metadata": {},
     "output_type": "execute_result"
    }
   ],
   "source": [
    "df.head()"
   ]
  },
  {
   "cell_type": "code",
   "execution_count": 27,
   "metadata": {},
   "outputs": [
    {
     "data": {
      "text/plain": [
       "VehicleType      8\n",
       "Gearbox          2\n",
       "Model          250\n",
       "FuelType         7\n",
       "Brand           40\n",
       "dtype: int64"
      ]
     },
     "execution_count": 27,
     "metadata": {},
     "output_type": "execute_result"
    }
   ],
   "source": [
    "#Посмотрим сколько уникальных значений мы имеем в categorical признаках\n",
    "categorical = ['VehicleType','Gearbox', 'Model','FuelType','Brand']\n",
    "numerical_features_names = df.select_dtypes(include=['int64'])\n",
    "df[categorical].nunique()"
   ]
  },
  {
   "cell_type": "code",
   "execution_count": 28,
   "metadata": {},
   "outputs": [],
   "source": [
    "#обе модели catboost и lightgbm поддерживают работу с категориальными данными \n",
    "#без перевода категориальных данных в номинальные\n",
    "#Приведем категориальные признаки к формату category\n",
    "df[categorical] = df[categorical].astype('category')\n",
    "df['Repaired'] = df['Repaired'].astype('int64')"
   ]
  },
  {
   "cell_type": "code",
   "execution_count": 29,
   "metadata": {},
   "outputs": [
    {
     "name": "stdout",
     "output_type": "stream",
     "text": [
      "Размер обучающей выборки с категориальными данными: 223697 объектов, 10 признаков\n",
      "Размер тестовой выборки с категориальными данными: 95871 объектов, 10 признаков\n"
     ]
    }
   ],
   "source": [
    "X_ = df.drop(['Price'],axis=1)\n",
    "y_ = df['Price']\n",
    "\n",
    "X__train, X__test, y__train, y__test = train_test_split(X_, y_, test_size=0.3, random_state=random_state)\n",
    "#Размеры обучающей и тестовой выборки\n",
    "print('Размер обучающей выборки с категориальными данными: {} объектов, {} признаков'.format(X__train.shape[0], X__train.shape[1]))\n",
    "print('Размер тестовой выборки с категориальными данными: {} объектов, {} признаков'.format(X__test.shape[0], X__test.shape[1]))\n"
   ]
  },
  {
   "cell_type": "markdown",
   "metadata": {},
   "source": [
    "OK - так и сделал."
   ]
  },
  {
   "cell_type": "markdown",
   "metadata": {},
   "source": [
    "<div class=\"alert alert-info\">\n",
    "<font size=\"4\">🍕<b> Комментарий ревьюера</b></font>\n",
    "    <br /> \n",
    "    <font size=\"3\", color = \"black\">\n",
    "<br />\n",
    "Настоятельно тебе рекомендую рандом стейт (и другие глобальные константы) в начале работы сохранять в отдельную переменную и оперировать дальше ей. Иногда бывает нужно провести эксперимент с другим рандомом и менять по коду во всех местах где он испоьзуется явно хуже, чем одну переменную в начале поменять."
   ]
  },
  {
   "cell_type": "markdown",
   "metadata": {},
   "source": [
    "#### CatBoost"
   ]
  },
  {
   "cell_type": "code",
   "execution_count": 30,
   "metadata": {},
   "outputs": [],
   "source": [
    "# Определим признаки и целевой признак \n",
    "X_ = df.drop(['Price'], axis=1)\n",
    "y_ = df['Price']"
   ]
  },
  {
   "cell_type": "code",
   "execution_count": 31,
   "metadata": {},
   "outputs": [],
   "source": [
    "# разделим датасет на обучающую и промежуточную выборки размеров 70 на 30\n",
    "X_train, X_intermediate, y_train, y_intermediate = train_test_split(X_, y_, test_size=0.3, random_state=random_state)\n",
    "\n",
    "# разделим промежуточную выборку на тестовую и валидационную выборки размеров 50 на 50\n",
    "X_valid, X_test, y_valid, y_test = train_test_split(X_intermediate, y_intermediate, test_size=0.5, random_state=random_state)\n"
   ]
  },
  {
   "cell_type": "code",
   "execution_count": 32,
   "metadata": {},
   "outputs": [
    {
     "name": "stdout",
     "output_type": "stream",
     "text": [
      "Learning rate set to 0.119067\n",
      "0:\tlearn: 4203.4616294\ttest: 4210.9126483\tbest: 4210.9126483 (0)\ttotal: 397ms\tremaining: 6m 36s\n",
      "200:\tlearn: 1836.2247867\ttest: 1869.5896441\tbest: 1869.5896441 (200)\ttotal: 41.2s\tremaining: 2m 43s\n",
      "400:\tlearn: 1777.0120613\ttest: 1832.2188096\tbest: 1832.2142266 (398)\ttotal: 1m 22s\tremaining: 2m 3s\n",
      "600:\tlearn: 1742.8120767\ttest: 1814.9448037\tbest: 1814.9448037 (600)\ttotal: 2m 1s\tremaining: 1m 20s\n",
      "800:\tlearn: 1718.6436155\ttest: 1806.7021028\tbest: 1806.7021028 (800)\ttotal: 2m 46s\tremaining: 41.5s\n",
      "999:\tlearn: 1699.0421485\ttest: 1799.8644520\tbest: 1799.8644520 (999)\ttotal: 3m 29s\tremaining: 0us\n",
      "\n",
      "bestTest = 1799.864452\n",
      "bestIteration = 999\n",
      "\n"
     ]
    }
   ],
   "source": [
    "# определим категориальные признаки\n",
    "categorical = X_.select_dtypes(include='category').columns.tolist()\n",
    "\n",
    "# создадим и обучим модель\n",
    "model_cbr = CatBoostRegressor(cat_features=categorical, random_state=random_state, verbose=200)\n",
    "\n",
    "\n",
    "start = time.time()\n",
    "model_cbr.fit(X_train, y_train, eval_set=(X_valid, y_valid))\n",
    "\n",
    "end = time.time()\n",
    "catboost_time = end - start\n"
   ]
  },
  {
   "cell_type": "code",
   "execution_count": 33,
   "metadata": {},
   "outputs": [
    {
     "name": "stdout",
     "output_type": "stream",
     "text": [
      "Validation RMSE = 1799.864451982122\n"
     ]
    }
   ],
   "source": [
    "start = time.time()\n",
    "# сделаем предсказание на валидационном наборе и рассчитаем RMSE\n",
    "y_valid_pred = model_cbr.predict(X_valid)\n",
    "end = time.time()\n",
    "catboost_time_predicting = end - start\n",
    "\n",
    "rmse_valid = np.sqrt(mean_squared_error(y_valid, y_valid_pred))\n",
    "print('Validation RMSE =', rmse_valid)\n",
    "\n",
    "# # сделаем предсказание на тестовом наборе и рассчитаем RMSE\n",
    "# y_test_pred = model_cbr.predict(X_test)\n",
    "# rmse_test = np.sqrt(mean_squared_error(y_test, y_test_pred))\n",
    "# print('Test RMSE =', rmse_test)\n",
    "\n",
    "rmse_list = []\n",
    "rmse_list.append(rmse_valid)\n",
    "time_list = []\n",
    "predicting_time = []\n",
    "time_list.append(catboost_time)\n",
    "predicting_time.append(catboost_time_predicting)"
   ]
  },
  {
   "cell_type": "markdown",
   "metadata": {},
   "source": [
    "готово"
   ]
  },
  {
   "cell_type": "markdown",
   "metadata": {},
   "source": [
    "#### LightGBM"
   ]
  },
  {
   "cell_type": "code",
   "execution_count": 34,
   "metadata": {},
   "outputs": [],
   "source": [
    "# функция вычисления RMSE\n",
    "def rmse(predictions, targets): \n",
    "    return np.sqrt(((predictions - targets) ** 2).mean())\n",
    "\n",
    "\n",
    "# Создаем экземпляр модели LGBMRegressor с фиксированным random_state для воспроизводимости\n",
    "gbm = lgb.LGBMRegressor(random_state=random_state)\n"
   ]
  },
  {
   "cell_type": "code",
   "execution_count": 35,
   "metadata": {},
   "outputs": [
    {
     "name": "stdout",
     "output_type": "stream",
     "text": [
      "[1]\tvalid_0's rmse: 4217.37\tvalid_0's l2: 1.77862e+07\n",
      "[2]\tvalid_0's rmse: 3939.65\tvalid_0's l2: 1.55208e+07\n",
      "[3]\tvalid_0's rmse: 3696.99\tvalid_0's l2: 1.36677e+07\n",
      "[4]\tvalid_0's rmse: 3486.06\tvalid_0's l2: 1.21526e+07\n",
      "[5]\tvalid_0's rmse: 3298.49\tvalid_0's l2: 1.088e+07\n",
      "[6]\tvalid_0's rmse: 3135.37\tvalid_0's l2: 9.83053e+06\n",
      "[7]\tvalid_0's rmse: 2991.68\tvalid_0's l2: 8.95014e+06\n",
      "[8]\tvalid_0's rmse: 2865.36\tvalid_0's l2: 8.21031e+06\n",
      "[9]\tvalid_0's rmse: 2749.02\tvalid_0's l2: 7.55713e+06\n",
      "[10]\tvalid_0's rmse: 2650.93\tvalid_0's l2: 7.02743e+06\n",
      "[11]\tvalid_0's rmse: 2559.69\tvalid_0's l2: 6.55201e+06\n",
      "[12]\tvalid_0's rmse: 2483.46\tvalid_0's l2: 6.1676e+06\n",
      "[13]\tvalid_0's rmse: 2414.87\tvalid_0's l2: 5.8316e+06\n",
      "[14]\tvalid_0's rmse: 2354.68\tvalid_0's l2: 5.5445e+06\n",
      "[15]\tvalid_0's rmse: 2299.98\tvalid_0's l2: 5.28989e+06\n",
      "[16]\tvalid_0's rmse: 2255.59\tvalid_0's l2: 5.08766e+06\n",
      "[17]\tvalid_0's rmse: 2214.86\tvalid_0's l2: 4.90561e+06\n",
      "[18]\tvalid_0's rmse: 2178.54\tvalid_0's l2: 4.74605e+06\n",
      "[19]\tvalid_0's rmse: 2145.88\tvalid_0's l2: 4.60479e+06\n",
      "[20]\tvalid_0's rmse: 2118\tvalid_0's l2: 4.48593e+06\n",
      "[21]\tvalid_0's rmse: 2093.08\tvalid_0's l2: 4.381e+06\n",
      "[22]\tvalid_0's rmse: 2070.51\tvalid_0's l2: 4.28703e+06\n",
      "[23]\tvalid_0's rmse: 2048.47\tvalid_0's l2: 4.19624e+06\n",
      "[24]\tvalid_0's rmse: 2029.53\tvalid_0's l2: 4.11898e+06\n",
      "[25]\tvalid_0's rmse: 2012.64\tvalid_0's l2: 4.05074e+06\n",
      "[26]\tvalid_0's rmse: 1997.34\tvalid_0's l2: 3.98936e+06\n",
      "[27]\tvalid_0's rmse: 1983.75\tvalid_0's l2: 3.93528e+06\n",
      "[28]\tvalid_0's rmse: 1971.29\tvalid_0's l2: 3.88597e+06\n",
      "[29]\tvalid_0's rmse: 1959.1\tvalid_0's l2: 3.83807e+06\n",
      "[30]\tvalid_0's rmse: 1950.44\tvalid_0's l2: 3.80423e+06\n",
      "[31]\tvalid_0's rmse: 1942.05\tvalid_0's l2: 3.77155e+06\n",
      "[32]\tvalid_0's rmse: 1934\tvalid_0's l2: 3.74036e+06\n",
      "[33]\tvalid_0's rmse: 1927.55\tvalid_0's l2: 3.71544e+06\n",
      "[34]\tvalid_0's rmse: 1920.7\tvalid_0's l2: 3.6891e+06\n",
      "[35]\tvalid_0's rmse: 1915.38\tvalid_0's l2: 3.6687e+06\n",
      "[36]\tvalid_0's rmse: 1910.03\tvalid_0's l2: 3.6482e+06\n",
      "[37]\tvalid_0's rmse: 1904.6\tvalid_0's l2: 3.62751e+06\n",
      "[38]\tvalid_0's rmse: 1901.21\tvalid_0's l2: 3.61459e+06\n",
      "[39]\tvalid_0's rmse: 1897.08\tvalid_0's l2: 3.59893e+06\n",
      "[40]\tvalid_0's rmse: 1893.59\tvalid_0's l2: 3.58566e+06\n",
      "[41]\tvalid_0's rmse: 1890.39\tvalid_0's l2: 3.57357e+06\n",
      "[42]\tvalid_0's rmse: 1886.56\tvalid_0's l2: 3.55913e+06\n",
      "[43]\tvalid_0's rmse: 1884.03\tvalid_0's l2: 3.54956e+06\n",
      "[44]\tvalid_0's rmse: 1880.96\tvalid_0's l2: 3.53803e+06\n",
      "[45]\tvalid_0's rmse: 1877.76\tvalid_0's l2: 3.526e+06\n",
      "[46]\tvalid_0's rmse: 1875.01\tvalid_0's l2: 3.51566e+06\n",
      "[47]\tvalid_0's rmse: 1873.25\tvalid_0's l2: 3.50907e+06\n",
      "[48]\tvalid_0's rmse: 1870.78\tvalid_0's l2: 3.49983e+06\n",
      "[49]\tvalid_0's rmse: 1869.2\tvalid_0's l2: 3.49391e+06\n",
      "[50]\tvalid_0's rmse: 1866.83\tvalid_0's l2: 3.48504e+06\n",
      "[51]\tvalid_0's rmse: 1865.28\tvalid_0's l2: 3.47928e+06\n",
      "[52]\tvalid_0's rmse: 1863.46\tvalid_0's l2: 3.47247e+06\n",
      "[53]\tvalid_0's rmse: 1862.29\tvalid_0's l2: 3.46813e+06\n",
      "[54]\tvalid_0's rmse: 1860.2\tvalid_0's l2: 3.46035e+06\n",
      "[55]\tvalid_0's rmse: 1858.67\tvalid_0's l2: 3.45467e+06\n",
      "[56]\tvalid_0's rmse: 1856.74\tvalid_0's l2: 3.44749e+06\n",
      "[57]\tvalid_0's rmse: 1855.39\tvalid_0's l2: 3.44247e+06\n",
      "[58]\tvalid_0's rmse: 1853.89\tvalid_0's l2: 3.43689e+06\n",
      "[59]\tvalid_0's rmse: 1852.24\tvalid_0's l2: 3.43079e+06\n",
      "[60]\tvalid_0's rmse: 1850.79\tvalid_0's l2: 3.42541e+06\n",
      "[61]\tvalid_0's rmse: 1849.3\tvalid_0's l2: 3.41993e+06\n",
      "[62]\tvalid_0's rmse: 1848.2\tvalid_0's l2: 3.41583e+06\n",
      "[63]\tvalid_0's rmse: 1846.68\tvalid_0's l2: 3.41023e+06\n",
      "[64]\tvalid_0's rmse: 1845.72\tvalid_0's l2: 3.40667e+06\n",
      "[65]\tvalid_0's rmse: 1844.07\tvalid_0's l2: 3.4006e+06\n",
      "[66]\tvalid_0's rmse: 1842.57\tvalid_0's l2: 3.39505e+06\n",
      "[67]\tvalid_0's rmse: 1841.7\tvalid_0's l2: 3.39185e+06\n",
      "[68]\tvalid_0's rmse: 1839.89\tvalid_0's l2: 3.3852e+06\n",
      "[69]\tvalid_0's rmse: 1838.24\tvalid_0's l2: 3.37914e+06\n",
      "[70]\tvalid_0's rmse: 1837.35\tvalid_0's l2: 3.37586e+06\n",
      "[71]\tvalid_0's rmse: 1836.66\tvalid_0's l2: 3.37331e+06\n",
      "[72]\tvalid_0's rmse: 1835.56\tvalid_0's l2: 3.36927e+06\n",
      "[73]\tvalid_0's rmse: 1834.7\tvalid_0's l2: 3.36611e+06\n",
      "[74]\tvalid_0's rmse: 1833.65\tvalid_0's l2: 3.36226e+06\n",
      "[75]\tvalid_0's rmse: 1832.61\tvalid_0's l2: 3.35846e+06\n",
      "[76]\tvalid_0's rmse: 1831.83\tvalid_0's l2: 3.35562e+06\n",
      "[77]\tvalid_0's rmse: 1831.02\tvalid_0's l2: 3.35262e+06\n",
      "[78]\tvalid_0's rmse: 1830.18\tvalid_0's l2: 3.34957e+06\n",
      "[79]\tvalid_0's rmse: 1829.33\tvalid_0's l2: 3.34646e+06\n",
      "[80]\tvalid_0's rmse: 1828.43\tvalid_0's l2: 3.34314e+06\n",
      "[81]\tvalid_0's rmse: 1828.02\tvalid_0's l2: 3.34166e+06\n",
      "[82]\tvalid_0's rmse: 1827.25\tvalid_0's l2: 3.33885e+06\n",
      "[83]\tvalid_0's rmse: 1826.78\tvalid_0's l2: 3.33712e+06\n",
      "[84]\tvalid_0's rmse: 1825.79\tvalid_0's l2: 3.33352e+06\n",
      "[85]\tvalid_0's rmse: 1825.16\tvalid_0's l2: 3.33121e+06\n",
      "[86]\tvalid_0's rmse: 1824.78\tvalid_0's l2: 3.32981e+06\n",
      "[87]\tvalid_0's rmse: 1823.9\tvalid_0's l2: 3.32662e+06\n",
      "[88]\tvalid_0's rmse: 1823.61\tvalid_0's l2: 3.32554e+06\n",
      "[89]\tvalid_0's rmse: 1822.89\tvalid_0's l2: 3.32293e+06\n",
      "[90]\tvalid_0's rmse: 1822.47\tvalid_0's l2: 3.32138e+06\n",
      "[91]\tvalid_0's rmse: 1822.17\tvalid_0's l2: 3.3203e+06\n",
      "[92]\tvalid_0's rmse: 1821.75\tvalid_0's l2: 3.31876e+06\n",
      "[93]\tvalid_0's rmse: 1820.34\tvalid_0's l2: 3.31365e+06\n",
      "[94]\tvalid_0's rmse: 1819.7\tvalid_0's l2: 3.31129e+06\n",
      "[95]\tvalid_0's rmse: 1819.16\tvalid_0's l2: 3.30934e+06\n",
      "[96]\tvalid_0's rmse: 1818.58\tvalid_0's l2: 3.30723e+06\n",
      "[97]\tvalid_0's rmse: 1818.35\tvalid_0's l2: 3.30641e+06\n",
      "[98]\tvalid_0's rmse: 1817.45\tvalid_0's l2: 3.30311e+06\n",
      "[99]\tvalid_0's rmse: 1816.33\tvalid_0's l2: 3.29906e+06\n",
      "[100]\tvalid_0's rmse: 1816.15\tvalid_0's l2: 3.29841e+06\n"
     ]
    }
   ],
   "source": [
    "# Засекаем время начала обучения модели\n",
    "start = time.time()\n",
    "\n",
    "# Обучаем модель на тренировочных данных. \n",
    "# Мы также передаем тестовые данные для оценки производительности модели после каждой итерации.\n",
    "gbm.fit(X_train, y_train, eval_set=[(X_valid, y_valid)], eval_metric='rmse', categorical_feature=categorical)\n",
    "\n",
    "# Засекаем время окончания обучения и вычисляем, сколько времени заняло обучение\n",
    "end = time.time()\n",
    "lightgbm_time = end - start\n"
   ]
  },
  {
   "cell_type": "code",
   "execution_count": 36,
   "metadata": {},
   "outputs": [
    {
     "name": "stdout",
     "output_type": "stream",
     "text": [
      "Validation RMSE = 1816.151587245965\n"
     ]
    }
   ],
   "source": [
    "# Теперь совершаем предсказания на валидационных данных.\n",
    "start = time.time()\n",
    "predictions_valid = gbm.predict(X_valid, num_iteration=gbm.best_iteration_)\n",
    "end = time.time()\n",
    "lightgbm_predicting_time_valid = end - start\n",
    "\n",
    "# Вычисляем RMSE для тестовых и валидационных предсказаний\n",
    "print('Validation RMSE =', rmse(predictions_valid, y_valid))\n",
    "\n",
    "# Добавляем значения RMSE и времени в соответствующие списки\n",
    "rmse_list.append(rmse(predictions_valid, y_valid))\n",
    "predicting_time.append(lightgbm_predicting_time_valid)\n",
    "time_list.append(lightgbm_time)\n"
   ]
  },
  {
   "cell_type": "code",
   "execution_count": 37,
   "metadata": {},
   "outputs": [],
   "source": [
    "# gbm = lgb.LGBMRegressor(random_state=random_state)"
   ]
  },
  {
   "cell_type": "markdown",
   "metadata": {},
   "source": [
    "готово - расписал с комментариями по шагам"
   ]
  },
  {
   "cell_type": "markdown",
   "metadata": {},
   "source": [
    "<div class=\"alert alert-success\">\n",
    "<font size=\"4\"><b>✔️ Комментарий ревьюера</b></font>\n",
    "    <br /> \n",
    "    <font size=\"3\", color = \"black\">\n",
    "<br />    \n",
    "Молодец, что для моделей бустинга используешь встроенное кодирование, передаёшь список кат. признаков. Это чаще всего даёт лучший результат."
   ]
  },
  {
   "cell_type": "markdown",
   "metadata": {},
   "source": [
    " #### RandomForestRegressor"
   ]
  },
  {
   "cell_type": "code",
   "execution_count": 38,
   "metadata": {},
   "outputs": [],
   "source": [
    "# Опредлим признаки и целевой признак \n",
    "X = df.drop(['Price'], axis=1)\n",
    "y = df['Price']\n",
    "\n",
    "# разделим датасет на обучающую и промежуточную выборки размеров 70 на 30\n",
    "X__train, X__intermediate, y__train, y__intermediate = train_test_split(X, y, test_size=0.3, random_state=random_state)\n",
    "\n",
    "# разделим промежуточную выборку на тестовую и валидационную выборки размеров 50 на 50\n",
    "X__valid, X__test, y__valid, y__test = train_test_split(X__intermediate, y__intermediate, test_size=0.5, random_state=random_state)"
   ]
  },
  {
   "cell_type": "code",
   "execution_count": 39,
   "metadata": {},
   "outputs": [],
   "source": [
    "# Определим категориальные и числовые признаки\n",
    "cat_columns = X.select_dtypes(include='category').columns\n",
    "numeric_columns = ['RegistrationYear', 'Power', 'Kilometer']"
   ]
  },
  {
   "cell_type": "code",
   "execution_count": 40,
   "metadata": {},
   "outputs": [],
   "source": [
    "# Создадим обработчик для категориальных признаков\n",
    "cat_transformer = Pipeline(steps=[\n",
    "    ('imputer', SimpleImputer(strategy='constant', fill_value='missing')),\n",
    "    ('onehot', OneHotEncoder(handle_unknown='ignore'))])"
   ]
  },
  {
   "cell_type": "code",
   "execution_count": 41,
   "metadata": {},
   "outputs": [],
   "source": [
    "# Создадим обработчик для числовых признаков\n",
    "num_transformer = Pipeline(steps=[\n",
    "    ('imputer', SimpleImputer(strategy='median')),\n",
    "    ('scaler', StandardScaler())])\n"
   ]
  },
  {
   "cell_type": "code",
   "execution_count": 42,
   "metadata": {},
   "outputs": [],
   "source": [
    "# Применим ColumnTransformer для преобразования данных\n",
    "preprocessor = ColumnTransformer(\n",
    "    transformers=[\n",
    "        ('num', num_transformer, numeric_columns),\n",
    "        ('cat', cat_transformer, cat_columns)])\n",
    "\n",
    "# Объединим преобразователь и модель в один конвейер\n",
    "pipeline = Pipeline(steps=[('preprocessor', preprocessor),\n",
    "                           ('regressor', RandomForestRegressor(n_jobs=-1, random_state=random_state, max_depth=10, n_estimators = 10))])\n",
    "start = time.time()\n",
    "\n",
    "# Обучим модель\n",
    "pipeline.fit(X__train, y__train)\n",
    "\n",
    "end = time.time()\n",
    "RFR_time = end - start"
   ]
  },
  {
   "cell_type": "code",
   "execution_count": 43,
   "metadata": {},
   "outputs": [
    {
     "name": "stdout",
     "output_type": "stream",
     "text": [
      "Validation RMSE = 2082.8262239927003\n"
     ]
    }
   ],
   "source": [
    "start = time.time()\n",
    "\n",
    "# Предскажем цены на валидационном наборе\n",
    "y__valid_pred = pipeline.predict(X__valid)\n",
    "\n",
    "end = time.time()\n",
    "RFR_predicting_time = end - start\n",
    "\n",
    "# Рассчитаем RMSE\n",
    "rmse_valid = np.sqrt(mean_squared_error(y__valid, y__valid_pred))\n",
    "print('Validation RMSE =', rmse_valid)\n",
    "\n",
    "rmse_list.append(rmse_valid)\n",
    "predicting_time.append(RFR_predicting_time)\n",
    "time_list.append(RFR_time)\n"
   ]
  },
  {
   "cell_type": "markdown",
   "metadata": {},
   "source": [
    "Старый код удалил\n",
    "1. создаю 3 выборки - тренировочную, валидационную, тестовую.\n",
    "2. на тренировочной обучаю модели, на валидационной делаю предсказания, тестовую оставляем для тестов.\n",
    "3. Вместо линейной модели использую Случайный лес."
   ]
  },
  {
   "cell_type": "markdown",
   "metadata": {},
   "source": [
    "## Анализ моделей"
   ]
  },
  {
   "cell_type": "markdown",
   "metadata": {},
   "source": [
    "#### CatBoost + параметры"
   ]
  },
  {
   "cell_type": "markdown",
   "metadata": {},
   "source": [
    "код ниже подбирает параметры для модели catboost - работает около двух часов, поэтому закомментировал"
   ]
  },
  {
   "cell_type": "code",
   "execution_count": 44,
   "metadata": {},
   "outputs": [],
   "source": [
    "# # определяем пространство поиска\n",
    "# space = {'learning_rate': hp.uniform('learning_rate', 0.01, 0.3),\n",
    "#          'depth': hp.choice('depth', range(5, 16)),\n",
    "#          'l2_leaf_reg': hp.uniform('l2_leaf_reg', 1, 10),\n",
    "#          'iterations': hp.choice('iterations', range(100, 500))}\n",
    "\n",
    "# def objective(space):\n",
    "#     model = CatBoostRegressor(learning_rate=space['learning_rate'],\n",
    "#                               depth=int(space['depth']),\n",
    "#                               l2_leaf_reg=int(space['l2_leaf_reg']),\n",
    "#                               iterations=int(space['iterations']),\n",
    "#                               eval_metric='RMSE',\n",
    "#                               cat_features=categorical,\n",
    "#                               random_seed=random_state,\n",
    "#                               verbose=False)\n",
    "    \n",
    "#     model.fit(X_train, y_train, eval_set=(X_valid, y_valid))\n",
    "    \n",
    "#     y_pred = model.predict(X_valid)\n",
    "#     rmse = np.sqrt(mean_squared_error(y_valid, y_pred))\n",
    "    \n",
    "#     return {'loss': rmse, 'status': STATUS_OK }\n",
    "\n",
    "# # запускаем поиск\n",
    "# trials = Trials()\n",
    "# best = fmin(fn=objective,\n",
    "#             space=space,\n",
    "#             algo=tpe.suggest,\n",
    "#             max_evals=50,\n",
    "#             trials=trials)\n",
    "\n",
    "# print(\"Best: \", best)"
   ]
  },
  {
   "cell_type": "markdown",
   "metadata": {},
   "source": [
    "<div class=\"alert alert-info\">\n",
    "<font size=\"4\">🍕<b> Комментарий ревьюера V2</b></font>\n",
    "    <br /> \n",
    "    <font size=\"3\", color = \"black\">\n",
    "        <b></b>\n",
    "\n",
    "Ладно, ок, 2 часа - действительно многовато. Но вообще когда подбор гиперпараметров работает слишком долго, то есть смысл делать его с помощью <a href=\"https://scikit-learn.org/stable/modules/generated/sklearn.model_selection.RandomizedSearchCV.html\">RandomizedSearchCV</a>: с помощью параметра `n_iter` искать баланс между качеством найденных параметров и скоростью работы кода."
   ]
  },
  {
   "cell_type": "code",
   "execution_count": 45,
   "metadata": {},
   "outputs": [],
   "source": [
    "# подобранные параметры\n",
    "best = {'depth': 8, 'iterations': 262, 'l2_leaf_reg': 2.2592332669811124, 'learning_rate': 0.11000895248305598}\n",
    "best_loss = 1746.6795120279078"
   ]
  },
  {
   "cell_type": "code",
   "execution_count": 46,
   "metadata": {},
   "outputs": [],
   "source": [
    "# Создание и обучение модели с оптимальными параметрами - сами параметры выше в словаре\n",
    "model_cbr_optimized = CatBoostRegressor(learning_rate=best['learning_rate'],\n",
    "                                        depth=best['depth'],\n",
    "                                        l2_leaf_reg=best['l2_leaf_reg'],\n",
    "                                        iterations=1000,\n",
    "                                        cat_features=categorical,  \n",
    "                                        random_seed=random_state,\n",
    "                                        verbose=200)\n"
   ]
  },
  {
   "cell_type": "code",
   "execution_count": 47,
   "metadata": {},
   "outputs": [
    {
     "name": "stdout",
     "output_type": "stream",
     "text": [
      "0:\tlearn: 4204.5786161\ttest: 4212.0771522\tbest: 4212.0771522 (0)\ttotal: 363ms\tremaining: 6m 3s\n",
      "200:\tlearn: 1766.9427520\ttest: 1832.3701109\tbest: 1832.3701109 (200)\ttotal: 1m 4s\tremaining: 4m 14s\n",
      "400:\tlearn: 1694.1508032\ttest: 1801.3169337\tbest: 1801.3169337 (400)\ttotal: 1m 58s\tremaining: 2m 57s\n",
      "600:\tlearn: 1649.8612956\ttest: 1789.7027941\tbest: 1789.6952704 (599)\ttotal: 3m 3s\tremaining: 2m 1s\n",
      "800:\tlearn: 1615.1490144\ttest: 1782.9742979\tbest: 1782.9742979 (800)\ttotal: 4m 5s\tremaining: 1m\n",
      "999:\tlearn: 1587.7541579\ttest: 1777.5607293\tbest: 1777.4103004 (992)\ttotal: 5m 15s\tremaining: 0us\n",
      "\n",
      "bestTest = 1777.4103\n",
      "bestIteration = 992\n",
      "\n",
      "Shrink model to first 993 iterations.\n",
      "Validation RMSE = 2082.8262239927003\n"
     ]
    }
   ],
   "source": [
    "start = time.time()\n",
    "\n",
    "model_cbr_optimized.fit(X_train, y_train, eval_set=(X_valid, y_valid))\n",
    "\n",
    "end = time.time()\n",
    "catboost_optimized_time = end - start\n",
    "\n",
    "\n",
    "start = time.time()\n",
    "\n",
    "# Сделаем предсказание на валидационном наборе и рассчитаем RMSE\n",
    "y_valid_pred = model_cbr_optimized.predict(X_valid)\n",
    "\n",
    "end = time.time()\n",
    "catboost_optimized_time_predicting = end - start\n",
    "\n",
    "\n",
    "rmse_valid_optimized = np.sqrt(mean_squared_error(y_valid, y_valid_pred))\n",
    "print('Validation RMSE =', rmse_valid)\n",
    "\n",
    "rmse_list.append(rmse_valid_optimized)\n",
    "time_list.append(catboost_optimized_time)\n",
    "predicting_time.append(catboost_optimized_time_predicting)\n",
    "\n",
    "\n",
    "# # Сделаем предсказание на тестовом наборе и рассчитаем RMSE\n",
    "# y_test_pred = model_cbr_optimized.predict(X_test)\n",
    "# rmse_test = np.sqrt(mean_squared_error(y_test, y_test_pred))\n",
    "# print('Test RMSE =', rmse_test)\n"
   ]
  },
  {
   "cell_type": "markdown",
   "metadata": {},
   "source": [
    "#### LightGBM  + параметры"
   ]
  },
  {
   "cell_type": "markdown",
   "metadata": {},
   "source": [
    "полный поиск по сетке работает довольно долго - ниже код, я его закомментировал. попробую рандомно подобрать параметры"
   ]
  },
  {
   "cell_type": "code",
   "execution_count": 48,
   "metadata": {},
   "outputs": [],
   "source": [
    "# # Определим сетку параметров для поиска\n",
    "# gridParams = {\n",
    "#     'learning_rate': [0.005, 0.01, 0.03, 0.1],\n",
    "#     'num_leaves': [20, 30, 40, 50],\n",
    "#     'boosting_type' : ['gbdt'],\n",
    "#     'objective' : ['regression'],\n",
    "#     'max_depth' : [3, 4, 5, 6, 7, 8],\n",
    "#     'random_state' : [random_state], \n",
    "#     'colsample_bytree' : [0.6, 0.7, 0.8, 0.9],\n",
    "#     'subsample' : [0.6, 0.7, 0.8, 0.9],\n",
    "#     'min_split_gain' : [0.01],\n",
    "#     'min_data_in_leaf':[10]\n",
    "#     }\n",
    "# # Создаем объект модели\n",
    "# lgbm = lgb.LGBMRegressor()\n",
    "\n",
    "# # Создаем объект GridSearchCV\n",
    "# grid = GridSearchCV(lgbm, gridParams, verbose=2, cv=5, scoring='neg_mean_squared_error')\n",
    "\n",
    "# # Обучаем модель\n",
    "# grid.fit(X_train, y_train)\n",
    "\n",
    "# # Выводим лучшие параметры\n",
    "# print(\"Best parameters found by grid search are: \", grid.best_params_)\n"
   ]
  },
  {
   "cell_type": "code",
   "execution_count": 53,
   "metadata": {},
   "outputs": [
    {
     "name": "stdout",
     "output_type": "stream",
     "text": [
      "Fitting 5 folds for each of 2 candidates, totalling 10 fits\n",
      "[CV] END boosting_type=gbdt, colsample_bytree=0.8, learning_rate=0.01, max_depth=8, min_data_in_leaf=10, min_split_gain=0.01, num_leaves=40, objective=regression, random_state=42, subsample=0.9; total time=13.7min\n",
      "[LightGBM] [Warning] min_data_in_leaf is set=10, min_child_samples=20 will be ignored. Current value: min_data_in_leaf=10\n",
      "[CV] END boosting_type=gbdt, colsample_bytree=0.8, learning_rate=0.01, max_depth=8, min_data_in_leaf=10, min_split_gain=0.01, num_leaves=40, objective=regression, random_state=42, subsample=0.9; total time=18.9min\n",
      "[LightGBM] [Warning] min_data_in_leaf is set=10, min_child_samples=20 will be ignored. Current value: min_data_in_leaf=10\n",
      "[CV] END boosting_type=gbdt, colsample_bytree=0.8, learning_rate=0.01, max_depth=8, min_data_in_leaf=10, min_split_gain=0.01, num_leaves=40, objective=regression, random_state=42, subsample=0.9; total time=28.5min\n",
      "[LightGBM] [Warning] min_data_in_leaf is set=10, min_child_samples=20 will be ignored. Current value: min_data_in_leaf=10\n",
      "[CV] END boosting_type=gbdt, colsample_bytree=0.8, learning_rate=0.01, max_depth=8, min_data_in_leaf=10, min_split_gain=0.01, num_leaves=40, objective=regression, random_state=42, subsample=0.9; total time=17.0min\n",
      "[LightGBM] [Warning] min_data_in_leaf is set=10, min_child_samples=20 will be ignored. Current value: min_data_in_leaf=10\n",
      "[CV] END boosting_type=gbdt, colsample_bytree=0.8, learning_rate=0.01, max_depth=8, min_data_in_leaf=10, min_split_gain=0.01, num_leaves=40, objective=regression, random_state=42, subsample=0.9; total time=13.2min\n",
      "[LightGBM] [Warning] min_data_in_leaf is set=10, min_child_samples=20 will be ignored. Current value: min_data_in_leaf=10\n",
      "[CV] END boosting_type=gbdt, colsample_bytree=0.6, learning_rate=0.03, max_depth=8, min_data_in_leaf=10, min_split_gain=0.01, num_leaves=30, objective=regression, random_state=42, subsample=0.6; total time= 4.1min\n",
      "[LightGBM] [Warning] min_data_in_leaf is set=10, min_child_samples=20 will be ignored. Current value: min_data_in_leaf=10\n",
      "[CV] END boosting_type=gbdt, colsample_bytree=0.6, learning_rate=0.03, max_depth=8, min_data_in_leaf=10, min_split_gain=0.01, num_leaves=30, objective=regression, random_state=42, subsample=0.6; total time= 1.5min\n",
      "[LightGBM] [Warning] min_data_in_leaf is set=10, min_child_samples=20 will be ignored. Current value: min_data_in_leaf=10\n",
      "[CV] END boosting_type=gbdt, colsample_bytree=0.6, learning_rate=0.03, max_depth=8, min_data_in_leaf=10, min_split_gain=0.01, num_leaves=30, objective=regression, random_state=42, subsample=0.6; total time=   6.7s\n",
      "[LightGBM] [Warning] min_data_in_leaf is set=10, min_child_samples=20 will be ignored. Current value: min_data_in_leaf=10\n",
      "[CV] END boosting_type=gbdt, colsample_bytree=0.6, learning_rate=0.03, max_depth=8, min_data_in_leaf=10, min_split_gain=0.01, num_leaves=30, objective=regression, random_state=42, subsample=0.6; total time=   5.4s\n",
      "[LightGBM] [Warning] min_data_in_leaf is set=10, min_child_samples=20 will be ignored. Current value: min_data_in_leaf=10\n",
      "[CV] END boosting_type=gbdt, colsample_bytree=0.6, learning_rate=0.03, max_depth=8, min_data_in_leaf=10, min_split_gain=0.01, num_leaves=30, objective=regression, random_state=42, subsample=0.6; total time=   5.1s\n",
      "[LightGBM] [Warning] min_data_in_leaf is set=10, min_child_samples=20 will be ignored. Current value: min_data_in_leaf=10\n",
      "Best parameters found by random search are:  {'subsample': 0.6, 'random_state': 42, 'objective': 'regression', 'num_leaves': 30, 'min_split_gain': 0.01, 'min_data_in_leaf': 10, 'max_depth': 8, 'learning_rate': 0.03, 'colsample_bytree': 0.6, 'boosting_type': 'gbdt'}\n",
      "[1]\tvalid_0's rmse: 4442.65\tvalid_0's l2: 1.97372e+07\n",
      "[2]\tvalid_0's rmse: 4384.76\tvalid_0's l2: 1.92262e+07\n",
      "[3]\tvalid_0's rmse: 4293.09\tvalid_0's l2: 1.84306e+07\n",
      "[4]\tvalid_0's rmse: 4206.98\tvalid_0's l2: 1.76987e+07\n",
      "[5]\tvalid_0's rmse: 4139.9\tvalid_0's l2: 1.71388e+07\n",
      "[6]\tvalid_0's rmse: 4075.95\tvalid_0's l2: 1.66134e+07\n",
      "[7]\tvalid_0's rmse: 3998.31\tvalid_0's l2: 1.59865e+07\n",
      "[8]\tvalid_0's rmse: 3922.94\tvalid_0's l2: 1.53894e+07\n",
      "[9]\tvalid_0's rmse: 3850.5\tvalid_0's l2: 1.48263e+07\n",
      "[10]\tvalid_0's rmse: 3794.64\tvalid_0's l2: 1.43993e+07\n",
      "[11]\tvalid_0's rmse: 3734.43\tvalid_0's l2: 1.3946e+07\n",
      "[12]\tvalid_0's rmse: 3670.92\tvalid_0's l2: 1.34757e+07\n",
      "[13]\tvalid_0's rmse: 3604.91\tvalid_0's l2: 1.29954e+07\n",
      "[14]\tvalid_0's rmse: 3555.34\tvalid_0's l2: 1.26405e+07\n",
      "[15]\tvalid_0's rmse: 3494.22\tvalid_0's l2: 1.22096e+07\n",
      "[16]\tvalid_0's rmse: 3442.44\tvalid_0's l2: 1.18504e+07\n",
      "[17]\tvalid_0's rmse: 3395.69\tvalid_0's l2: 1.15307e+07\n",
      "[18]\tvalid_0's rmse: 3338.74\tvalid_0's l2: 1.11472e+07\n",
      "[19]\tvalid_0's rmse: 3283.78\tvalid_0's l2: 1.07832e+07\n",
      "[20]\tvalid_0's rmse: 3233.46\tvalid_0's l2: 1.04553e+07\n",
      "[21]\tvalid_0's rmse: 3193.54\tvalid_0's l2: 1.01987e+07\n",
      "[22]\tvalid_0's rmse: 3146.25\tvalid_0's l2: 9.8989e+06\n",
      "[23]\tvalid_0's rmse: 3113.28\tvalid_0's l2: 9.69253e+06\n",
      "[24]\tvalid_0's rmse: 3088.76\tvalid_0's l2: 9.54042e+06\n",
      "[25]\tvalid_0's rmse: 3065.18\tvalid_0's l2: 9.39535e+06\n",
      "[26]\tvalid_0's rmse: 3024.51\tvalid_0's l2: 9.14763e+06\n",
      "[27]\tvalid_0's rmse: 2990.47\tvalid_0's l2: 8.94289e+06\n",
      "[28]\tvalid_0's rmse: 2951.12\tvalid_0's l2: 8.7091e+06\n",
      "[29]\tvalid_0's rmse: 2928.22\tvalid_0's l2: 8.57448e+06\n",
      "[30]\tvalid_0's rmse: 2887.64\tvalid_0's l2: 8.33849e+06\n",
      "[31]\tvalid_0's rmse: 2850.21\tvalid_0's l2: 8.12368e+06\n",
      "[32]\tvalid_0's rmse: 2814.06\tvalid_0's l2: 7.91893e+06\n",
      "[33]\tvalid_0's rmse: 2778.4\tvalid_0's l2: 7.71948e+06\n",
      "[34]\tvalid_0's rmse: 2751.75\tvalid_0's l2: 7.57211e+06\n",
      "[35]\tvalid_0's rmse: 2724.1\tvalid_0's l2: 7.42072e+06\n",
      "[36]\tvalid_0's rmse: 2702.59\tvalid_0's l2: 7.30399e+06\n",
      "[37]\tvalid_0's rmse: 2678\tvalid_0's l2: 7.17171e+06\n",
      "[38]\tvalid_0's rmse: 2648.74\tvalid_0's l2: 7.01583e+06\n",
      "[39]\tvalid_0's rmse: 2620.53\tvalid_0's l2: 6.86718e+06\n",
      "[40]\tvalid_0's rmse: 2602.38\tvalid_0's l2: 6.77239e+06\n",
      "[41]\tvalid_0's rmse: 2575.04\tvalid_0's l2: 6.63084e+06\n",
      "[42]\tvalid_0's rmse: 2554.82\tvalid_0's l2: 6.52712e+06\n",
      "[43]\tvalid_0's rmse: 2530.45\tvalid_0's l2: 6.40317e+06\n",
      "[44]\tvalid_0's rmse: 2514.25\tvalid_0's l2: 6.32144e+06\n",
      "[45]\tvalid_0's rmse: 2489.35\tvalid_0's l2: 6.19687e+06\n",
      "[46]\tvalid_0's rmse: 2472.43\tvalid_0's l2: 6.1129e+06\n",
      "[47]\tvalid_0's rmse: 2450.06\tvalid_0's l2: 6.0028e+06\n",
      "[48]\tvalid_0's rmse: 2428.78\tvalid_0's l2: 5.89897e+06\n",
      "[49]\tvalid_0's rmse: 2412.05\tvalid_0's l2: 5.818e+06\n",
      "[50]\tvalid_0's rmse: 2391.54\tvalid_0's l2: 5.71948e+06\n",
      "[51]\tvalid_0's rmse: 2372.19\tvalid_0's l2: 5.62729e+06\n",
      "[52]\tvalid_0's rmse: 2354.16\tvalid_0's l2: 5.54209e+06\n",
      "[53]\tvalid_0's rmse: 2340.39\tvalid_0's l2: 5.47741e+06\n",
      "[54]\tvalid_0's rmse: 2327.41\tvalid_0's l2: 5.41686e+06\n",
      "[55]\tvalid_0's rmse: 2314.94\tvalid_0's l2: 5.35895e+06\n",
      "[56]\tvalid_0's rmse: 2299.23\tvalid_0's l2: 5.28647e+06\n",
      "[57]\tvalid_0's rmse: 2283.39\tvalid_0's l2: 5.21385e+06\n",
      "[58]\tvalid_0's rmse: 2268.18\tvalid_0's l2: 5.14464e+06\n",
      "[59]\tvalid_0's rmse: 2254.44\tvalid_0's l2: 5.08252e+06\n",
      "[60]\tvalid_0's rmse: 2241.02\tvalid_0's l2: 5.02218e+06\n",
      "[61]\tvalid_0's rmse: 2227.62\tvalid_0's l2: 4.9623e+06\n",
      "[62]\tvalid_0's rmse: 2218.81\tvalid_0's l2: 4.92312e+06\n",
      "[63]\tvalid_0's rmse: 2206.84\tvalid_0's l2: 4.87013e+06\n",
      "[64]\tvalid_0's rmse: 2194.85\tvalid_0's l2: 4.81738e+06\n",
      "[65]\tvalid_0's rmse: 2186.36\tvalid_0's l2: 4.78019e+06\n",
      "[66]\tvalid_0's rmse: 2175.3\tvalid_0's l2: 4.73191e+06\n",
      "[67]\tvalid_0's rmse: 2164.49\tvalid_0's l2: 4.68503e+06\n",
      "[68]\tvalid_0's rmse: 2154.31\tvalid_0's l2: 4.64105e+06\n",
      "[69]\tvalid_0's rmse: 2144.53\tvalid_0's l2: 4.59899e+06\n",
      "[70]\tvalid_0's rmse: 2137.17\tvalid_0's l2: 4.56749e+06\n",
      "[71]\tvalid_0's rmse: 2128.36\tvalid_0's l2: 4.5299e+06\n",
      "[72]\tvalid_0's rmse: 2121.27\tvalid_0's l2: 4.4998e+06\n",
      "[73]\tvalid_0's rmse: 2113.17\tvalid_0's l2: 4.46549e+06\n",
      "[74]\tvalid_0's rmse: 2104.89\tvalid_0's l2: 4.43058e+06\n",
      "[75]\tvalid_0's rmse: 2098.28\tvalid_0's l2: 4.40278e+06\n",
      "[76]\tvalid_0's rmse: 2092.65\tvalid_0's l2: 4.3792e+06\n",
      "[77]\tvalid_0's rmse: 2085.15\tvalid_0's l2: 4.34783e+06\n",
      "[78]\tvalid_0's rmse: 2077.75\tvalid_0's l2: 4.31705e+06\n",
      "[79]\tvalid_0's rmse: 2071.75\tvalid_0's l2: 4.29213e+06\n",
      "[80]\tvalid_0's rmse: 2066.8\tvalid_0's l2: 4.27165e+06\n",
      "[81]\tvalid_0's rmse: 2059.87\tvalid_0's l2: 4.24308e+06\n",
      "[82]\tvalid_0's rmse: 2053.64\tvalid_0's l2: 4.21744e+06\n",
      "[83]\tvalid_0's rmse: 2048.24\tvalid_0's l2: 4.19528e+06\n",
      "[84]\tvalid_0's rmse: 2043.86\tvalid_0's l2: 4.17736e+06\n",
      "[85]\tvalid_0's rmse: 2039.6\tvalid_0's l2: 4.15998e+06\n",
      "[86]\tvalid_0's rmse: 2034.05\tvalid_0's l2: 4.13734e+06\n",
      "[87]\tvalid_0's rmse: 2028.87\tvalid_0's l2: 4.11631e+06\n",
      "[88]\tvalid_0's rmse: 2023.48\tvalid_0's l2: 4.09447e+06\n",
      "[89]\tvalid_0's rmse: 2019.26\tvalid_0's l2: 4.07743e+06\n",
      "[90]\tvalid_0's rmse: 2013.91\tvalid_0's l2: 4.05581e+06\n",
      "[91]\tvalid_0's rmse: 2009.13\tvalid_0's l2: 4.03661e+06\n",
      "[92]\tvalid_0's rmse: 2004.56\tvalid_0's l2: 4.01827e+06\n",
      "[93]\tvalid_0's rmse: 2000.35\tvalid_0's l2: 4.00142e+06\n",
      "[94]\tvalid_0's rmse: 1996.04\tvalid_0's l2: 3.98416e+06\n",
      "[95]\tvalid_0's rmse: 1991.46\tvalid_0's l2: 3.96592e+06\n",
      "[96]\tvalid_0's rmse: 1987.38\tvalid_0's l2: 3.94967e+06\n",
      "[97]\tvalid_0's rmse: 1983.57\tvalid_0's l2: 3.93456e+06\n",
      "[98]\tvalid_0's rmse: 1979.46\tvalid_0's l2: 3.91828e+06\n",
      "[99]\tvalid_0's rmse: 1975.72\tvalid_0's l2: 3.90348e+06\n",
      "[100]\tvalid_0's rmse: 1972.32\tvalid_0's l2: 3.89005e+06\n"
     ]
    }
   ],
   "source": [
    "# Определим сетку параметров для поиска\n",
    "param_dist = {\n",
    "    'learning_rate': [0.005, 0.01, 0.03, 0.1],\n",
    "    'num_leaves': [20, 30, 40, 50],\n",
    "    'boosting_type' : ['gbdt'],\n",
    "    'objective' : ['regression'],\n",
    "    'max_depth' : [3, 4, 5, 6, 7, 8],\n",
    "    'random_state' : [random_state], \n",
    "    'colsample_bytree' : [0.6, 0.7, 0.8, 0.9],\n",
    "    'subsample' : [0.6, 0.7, 0.8, 0.9],\n",
    "    'min_split_gain' : [0.01],\n",
    "    'min_data_in_leaf':[10]\n",
    "    }\n",
    "\n",
    "# Создаем объект модели\n",
    "lgbm_optimized = lgb.LGBMRegressor()\n",
    "\n",
    "# Создаем объект RandomizedSearchCV\n",
    "random_search = RandomizedSearchCV(lgbm_optimized,\n",
    "                                   param_distributions=param_dist,\n",
    "                                   n_iter=2,\n",
    "                                   scoring='neg_mean_squared_error',\n",
    "                                   cv=5,\n",
    "                                   verbose=2,\n",
    "                                   n_jobs=-1)\n",
    "\n",
    "# Обучаем модель\n",
    "random_search.fit(X_train, y_train)\n",
    "\n",
    "\n",
    "# Выводим лучшие параметры\n",
    "print(\"Best parameters found by random search are: \", random_search.best_params_)\n",
    "\n",
    "# Создаем экземпляр модели LGBMRegressor с лучшими параметрами\n",
    "lgbm_optimized = lgb.LGBMRegressor(**random_search.best_params_)\n",
    "\n",
    "# Засекаем время начала обучения модели\n",
    "start = time.time()\n",
    "\n",
    "# Обучаем модель на тренировочных данных. \n",
    "lgbm_optimized.fit(X_train, y_train, eval_set=[(X_valid, y_valid)], early_stopping_rounds=100, eval_metric='rmse', categorical_feature=categorical)\n",
    "\n",
    "# Засекаем время окончания обучения и вычисляем, сколько времени заняло обучение\n",
    "end = time.time()\n",
    "lightgbm_optimized_time = end - start\n",
    "\n"
   ]
  },
  {
   "cell_type": "code",
   "execution_count": 54,
   "metadata": {},
   "outputs": [
    {
     "name": "stdout",
     "output_type": "stream",
     "text": [
      "Validation RMSE = 1972.3197783371108\n"
     ]
    }
   ],
   "source": [
    "# Теперь совершаем предсказания на валидационных данных.\n",
    "start = time.time()\n",
    "predictions_valid = lgbm_optimized.predict(X_valid, num_iteration=lgbm_optimized.best_iteration_)\n",
    "end = time.time()\n",
    "lightgbm_optimized_predicting_time_valid = end - start\n",
    "\n",
    "# Вычисляем RMSE для тестовых и валидационных предсказаний\n",
    "print('Validation RMSE =', rmse(predictions_valid, y_valid))\n",
    "\n",
    "# Добавляем значения RMSE и времени в соответствующие списки\n",
    "rmse_list.append(rmse(predictions_valid, y_valid))\n",
    "predicting_time.append(lightgbm_optimized_predicting_time_valid)\n",
    "time_list.append(lightgbm_optimized_time)\n"
   ]
  },
  {
   "cell_type": "code",
   "execution_count": 55,
   "metadata": {},
   "outputs": [],
   "source": [
    "# # Гиперпараметры\n",
    "# param_dist = {\n",
    "#     'regressor__n_estimators': [10, 50, 100, 200],\n",
    "#     'regressor__max_depth': [None, 10, 20, 30, 40],\n",
    "#     'regressor__min_samples_split': [2, 5, 10],\n",
    "#     'regressor__min_samples_leaf': [1, 2, 4],\n",
    "#     'regressor__max_features': ['auto', 'sqrt']\n",
    "# }\n",
    "\n",
    "# # Экземпляр RandomizedSearchCV\n",
    "# random_search = RandomizedSearchCV(pipeline, param_distributions=param_dist, n_iter=20, cv=5, scoring='neg_mean_squared_error', verbose=2, n_jobs=-1, random_state=random_state)\n",
    "\n",
    "# # Засекаем время начала подбора гиперпараметров\n",
    "# start = time.time()\n",
    "\n",
    "# # Случайный поиск гиперпараметров\n",
    "# random_search.fit(X__train, y__train)\n",
    "\n",
    "# # Засекаем время окончания подбора гиперпараметров и вычисляем, сколько времени заняло обучение\n",
    "# end = time.time()\n",
    "# RFR_time_optimized = end - start\n",
    "\n",
    "# # Получите лучшие гиперпараметры\n",
    "# best_params = random_search.best_params_\n",
    "# print(\"Best parameters: \", best_params)\n",
    "\n",
    "# # Модель с использованием лучших гиперпараметров\n",
    "# pipeline.set_params(**best_params)\n",
    "\n",
    "# start = time.time()\n",
    "\n",
    "# # Предскажем цены на валидационном наборе\n",
    "# y__valid_pred = pipeline.predict(X__valid)\n",
    "\n",
    "# end = time.time()\n",
    "# RFR_predicting_time_optimized = end - start\n",
    "\n",
    "# # Рассчитаем RMSE\n",
    "# rmse_valid = np.sqrt(mean_squared_error(y__valid, y__valid_pred))\n",
    "# print('Validation RMSE =', rmse_valid)\n",
    "\n",
    "# rmse_list.append(rmse_valid)\n",
    "# predicting_time.append(RFR_predicting_time_optimized)\n",
    "# time_list.append(RFR_time_optimized)\n"
   ]
  },
  {
   "cell_type": "code",
   "execution_count": 56,
   "metadata": {},
   "outputs": [],
   "source": [
    "results_df = pd.DataFrame(data=[rmse_list, time_list, predicting_time], columns=['CatBoost default','LightGBM default','RandomForestRegressor default','CatBoost+Params','LightGBM+Params'], \n",
    "                          index=['RMSE','Learning Time','Predicting Time'])\n"
   ]
  },
  {
   "cell_type": "code",
   "execution_count": 57,
   "metadata": {},
   "outputs": [
    {
     "data": {
      "text/html": [
       "<div>\n",
       "<style scoped>\n",
       "    .dataframe tbody tr th:only-of-type {\n",
       "        vertical-align: middle;\n",
       "    }\n",
       "\n",
       "    .dataframe tbody tr th {\n",
       "        vertical-align: top;\n",
       "    }\n",
       "\n",
       "    .dataframe thead th {\n",
       "        text-align: right;\n",
       "    }\n",
       "</style>\n",
       "<table border=\"1\" class=\"dataframe\">\n",
       "  <thead>\n",
       "    <tr style=\"text-align: right;\">\n",
       "      <th></th>\n",
       "      <th>CatBoost default</th>\n",
       "      <th>LightGBM default</th>\n",
       "      <th>RandomForestRegressor default</th>\n",
       "      <th>CatBoost+Params</th>\n",
       "      <th>LightGBM+Params</th>\n",
       "    </tr>\n",
       "  </thead>\n",
       "  <tbody>\n",
       "    <tr>\n",
       "      <th>RMSE</th>\n",
       "      <td>1799.864452</td>\n",
       "      <td>1816.151587</td>\n",
       "      <td>2082.826224</td>\n",
       "      <td>1777.410300</td>\n",
       "      <td>1972.319778</td>\n",
       "    </tr>\n",
       "    <tr>\n",
       "      <th>Learning Time</th>\n",
       "      <td>214.504139</td>\n",
       "      <td>1070.435194</td>\n",
       "      <td>24.140352</td>\n",
       "      <td>322.302274</td>\n",
       "      <td>7.501052</td>\n",
       "    </tr>\n",
       "    <tr>\n",
       "      <th>Predicting Time</th>\n",
       "      <td>0.309132</td>\n",
       "      <td>0.582889</td>\n",
       "      <td>0.106959</td>\n",
       "      <td>0.616435</td>\n",
       "      <td>0.350928</td>\n",
       "    </tr>\n",
       "  </tbody>\n",
       "</table>\n",
       "</div>"
      ],
      "text/plain": [
       "                 CatBoost default  LightGBM default  \\\n",
       "RMSE                  1799.864452       1816.151587   \n",
       "Learning Time          214.504139       1070.435194   \n",
       "Predicting Time          0.309132          0.582889   \n",
       "\n",
       "                 RandomForestRegressor default  CatBoost+Params  \\\n",
       "RMSE                               2082.826224      1777.410300   \n",
       "Learning Time                        24.140352       322.302274   \n",
       "Predicting Time                       0.106959         0.616435   \n",
       "\n",
       "                 LightGBM+Params  \n",
       "RMSE                 1972.319778  \n",
       "Learning Time           7.501052  \n",
       "Predicting Time         0.350928  "
      ]
     },
     "execution_count": 57,
     "metadata": {},
     "output_type": "execute_result"
    }
   ],
   "source": [
    "results_df"
   ]
  },
  {
   "cell_type": "code",
   "execution_count": 58,
   "metadata": {},
   "outputs": [
    {
     "name": "stdout",
     "output_type": "stream",
     "text": [
      "Test RMSE = 1766.6107950693354\n"
     ]
    }
   ],
   "source": [
    "# Сделаем предсказание моделью CatBoost+Params на тестовом наборе и рассчитаем RMSE\n",
    "y_test_pred = model_cbr_optimized.predict(X_test)\n",
    "rmse_test = np.sqrt(mean_squared_error(y_test, y_test_pred))\n",
    "print('Test RMSE =', rmse_test)"
   ]
  },
  {
   "cell_type": "markdown",
   "metadata": {},
   "source": [
    "<div class=\"alert alert-success\">\n",
    "<font size=\"4\"><b>✔️ Комментарий ревьюера V2</b></font>\n",
    "    <br /> \n",
    "    <font size=\"3\", color = \"black\">\n",
    "<br />    \n",
    "Тестируется только лучшая модель, всё корректно 👍"
   ]
  },
  {
   "cell_type": "markdown",
   "metadata": {},
   "source": [
    "<div class=\"alert alert-success\">\n",
    "<font size=\"4\"><b>✔️ Комментарий ревьюера</b></font>\n",
    "    <br /> \n",
    "    <font size=\"3\", color = \"black\">\n",
    "<br />    \n",
    "Сравнительная табличка - хороший вариант наглядной демонстрации итоговых результатов"
   ]
  },
  {
   "cell_type": "markdown",
   "metadata": {},
   "source": [
    "Выводы\n",
    "- Лучший RSME дефолтной модели показал CatBoost+Params, у LightGBM+Params также удалось немного улучшить по сравнению с дефолтной моделью;\n",
    "- После подбора параметров, удалось снизить  RMSE у CatBoost+Params и у LightGBM+Params.\n",
    "- на тестовой выборке модель CatBoost+Params показала RMSE = 1777\n"
   ]
  },
  {
   "cell_type": "markdown",
   "metadata": {},
   "source": [
    "<div class=\"alert alert-info\">\n",
    "<font size=\"4\">🍕<b> Комментарий ревьюера</b></font>\n",
    "    <br /> \n",
    "    <font size=\"3\", color = \"black\">\n",
    "<br />\n",
    "Подведём итоги. В целом, работа весьма неплохая. В плане кодирования так вообще порадовал. Но причины доработать проект всё-таки есть:\n",
    "\n",
    "+ Поправить вычисление переменной `features`\n",
    "\n",
    "+ Пояснить логику работы функции `impute_value`\n",
    "\n",
    "+ Зафиксировать рандом стейт для моделей бустинга\n",
    "\n",
    "+ Небольшой подбор гиперпараметров для бустинга\n",
    "\n",
    "+ Привести в порядок пайплайн работы: валидация (одинаковая для всех моделей) + тестирование в конце работы только для одной модели - которая показала себя лучше всех на валидации\n",
    "\n",
    "+ Не использовать LabelEncoder для признаков т.к. он создан для кодирования таргета\n",
    "\n",
    "+ Не использовать линейные модели с порядковым кодированием\n",
    "\n",
    "В целом, кажется, не очень мало, но и сложного ничего нет. Так что жду новую отправку с надеждой, что она будет для тебя последней на данном проекте!"
   ]
  },
  {
   "cell_type": "markdown",
   "metadata": {},
   "source": [
    "## Чек-лист проверки"
   ]
  },
  {
   "cell_type": "markdown",
   "metadata": {},
   "source": [
    "Поставьте 'x' в выполненных пунктах. Далее нажмите Shift+Enter."
   ]
  },
  {
   "cell_type": "markdown",
   "metadata": {},
   "source": [
    "- [x]  Jupyter Notebook открыт\n",
    "- [ ]  Весь код выполняется без ошибок\n",
    "- [ ]  Ячейки с кодом расположены в порядке исполнения\n",
    "- [ ]  Выполнена загрузка и подготовка данных\n",
    "- [ ]  Выполнено обучение моделей\n",
    "- [ ]  Есть анализ скорости работы и качества моделей"
   ]
  },
  {
   "cell_type": "code",
   "execution_count": null,
   "metadata": {},
   "outputs": [],
   "source": []
  }
 ],
 "metadata": {
  "ExecuteTimeLog": [
   {
    "duration": 51,
    "start_time": "2023-06-10T10:17:14.847Z"
   },
   {
    "duration": 1756,
    "start_time": "2023-06-10T10:17:38.504Z"
   },
   {
    "duration": 1138,
    "start_time": "2023-06-10T10:18:27.269Z"
   },
   {
    "duration": 266,
    "start_time": "2023-06-10T10:18:42.711Z"
   },
   {
    "duration": 11,
    "start_time": "2023-06-10T10:24:02.572Z"
   },
   {
    "duration": 98,
    "start_time": "2023-06-10T10:24:23.011Z"
   },
   {
    "duration": 533,
    "start_time": "2023-06-10T10:24:27.366Z"
   },
   {
    "duration": 11,
    "start_time": "2023-06-10T10:24:50.858Z"
   },
   {
    "duration": 498,
    "start_time": "2023-06-10T10:24:54.234Z"
   },
   {
    "duration": 251,
    "start_time": "2023-06-10T10:25:10.643Z"
   },
   {
    "duration": 480,
    "start_time": "2023-06-10T10:25:29.838Z"
   },
   {
    "duration": 51,
    "start_time": "2023-06-10T10:25:48.919Z"
   },
   {
    "duration": 18,
    "start_time": "2023-06-10T11:46:23.357Z"
   },
   {
    "duration": 1451,
    "start_time": "2023-06-10T11:47:16.819Z"
   },
   {
    "duration": 19,
    "start_time": "2023-06-10T11:47:30.415Z"
   },
   {
    "duration": 59,
    "start_time": "2023-06-10T11:47:53.915Z"
   },
   {
    "duration": 18,
    "start_time": "2023-06-10T11:48:03.142Z"
   },
   {
    "duration": 1301,
    "start_time": "2023-06-10T11:48:53.463Z"
   },
   {
    "duration": 79,
    "start_time": "2023-06-10T11:49:44.457Z"
   },
   {
    "duration": 9,
    "start_time": "2023-06-10T11:51:26.730Z"
   },
   {
    "duration": 79,
    "start_time": "2023-06-10T11:51:35.103Z"
   },
   {
    "duration": 8,
    "start_time": "2023-06-10T11:52:36.070Z"
   },
   {
    "duration": 10,
    "start_time": "2023-06-10T11:52:59.216Z"
   },
   {
    "duration": 3,
    "start_time": "2023-06-10T11:53:35.541Z"
   },
   {
    "duration": 112,
    "start_time": "2023-06-10T11:53:36.259Z"
   },
   {
    "duration": 4,
    "start_time": "2023-06-10T11:54:08.859Z"
   },
   {
    "duration": 5,
    "start_time": "2023-06-10T11:54:14.016Z"
   },
   {
    "duration": 3,
    "start_time": "2023-06-10T11:54:16.007Z"
   },
   {
    "duration": 564,
    "start_time": "2023-06-10T11:54:16.928Z"
   },
   {
    "duration": 45,
    "start_time": "2023-06-10T11:54:56.515Z"
   },
   {
    "duration": 9662,
    "start_time": "2023-06-10T11:55:03.339Z"
   },
   {
    "duration": 91,
    "start_time": "2023-06-10T23:03:46.713Z"
   },
   {
    "duration": 4301,
    "start_time": "2023-06-10T23:04:15.609Z"
   },
   {
    "duration": 108,
    "start_time": "2023-06-10T23:04:22.365Z"
   },
   {
    "duration": 29,
    "start_time": "2023-06-10T23:05:12.833Z"
   },
   {
    "duration": 2367,
    "start_time": "2023-06-10T23:06:10.906Z"
   },
   {
    "duration": 1695,
    "start_time": "2023-06-10T23:07:49.023Z"
   },
   {
    "duration": 238,
    "start_time": "2023-06-10T23:08:12.428Z"
   },
   {
    "duration": 14,
    "start_time": "2023-06-10T23:09:02.930Z"
   },
   {
    "duration": 664,
    "start_time": "2023-06-10T23:09:24.357Z"
   },
   {
    "duration": 107,
    "start_time": "2023-06-10T23:16:18.894Z"
   },
   {
    "duration": 102,
    "start_time": "2023-06-10T23:17:06.018Z"
   },
   {
    "duration": 6,
    "start_time": "2023-06-10T23:17:33.061Z"
   },
   {
    "duration": 11,
    "start_time": "2023-06-10T23:17:43.522Z"
   },
   {
    "duration": 4,
    "start_time": "2023-06-10T23:18:34.062Z"
   },
   {
    "duration": 3,
    "start_time": "2023-06-10T23:18:37.792Z"
   },
   {
    "duration": 5,
    "start_time": "2023-06-10T23:19:07.855Z"
   },
   {
    "duration": 3,
    "start_time": "2023-06-10T23:19:27.294Z"
   },
   {
    "duration": 207,
    "start_time": "2023-06-10T23:19:59.556Z"
   },
   {
    "duration": 17,
    "start_time": "2023-06-10T23:20:40.140Z"
   },
   {
    "duration": 5,
    "start_time": "2023-06-10T23:20:55.133Z"
   },
   {
    "duration": 695,
    "start_time": "2023-06-10T23:20:58.641Z"
   },
   {
    "duration": 4,
    "start_time": "2023-06-10T23:21:25.123Z"
   },
   {
    "duration": 2685,
    "start_time": "2023-06-10T23:21:29.085Z"
   },
   {
    "duration": 1862,
    "start_time": "2023-06-10T23:22:03.514Z"
   },
   {
    "duration": 2784,
    "start_time": "2023-06-10T23:24:03.754Z"
   },
   {
    "duration": 1574,
    "start_time": "2023-06-10T23:24:12.911Z"
   },
   {
    "duration": 6,
    "start_time": "2023-06-10T23:24:51.492Z"
   },
   {
    "duration": 1001,
    "start_time": "2023-06-10T23:24:55.235Z"
   },
   {
    "duration": 3907,
    "start_time": "2023-06-10T23:26:02.591Z"
   },
   {
    "duration": 4,
    "start_time": "2023-06-10T23:40:52.341Z"
   },
   {
    "duration": 1211,
    "start_time": "2023-06-10T23:41:08.569Z"
   },
   {
    "duration": 55366,
    "start_time": "2023-06-10T23:41:36.964Z"
   },
   {
    "duration": 13,
    "start_time": "2023-06-10T23:44:45.490Z"
   },
   {
    "duration": 1141,
    "start_time": "2023-06-10T23:45:26.183Z"
   },
   {
    "duration": 4332,
    "start_time": "2023-06-10T23:45:31.359Z"
   },
   {
    "duration": 4,
    "start_time": "2023-06-10T23:45:53.415Z"
   },
   {
    "duration": 9,
    "start_time": "2023-06-10T23:47:00.918Z"
   },
   {
    "duration": 18,
    "start_time": "2023-06-10T23:48:34.237Z"
   },
   {
    "duration": 6,
    "start_time": "2023-06-10T23:49:00.524Z"
   },
   {
    "duration": 21415,
    "start_time": "2023-06-10T23:49:04.235Z"
   },
   {
    "duration": 41,
    "start_time": "2023-06-10T23:55:57.059Z"
   },
   {
    "duration": 69,
    "start_time": "2023-06-10T23:55:58.520Z"
   },
   {
    "duration": 2232,
    "start_time": "2023-06-10T23:56:13.839Z"
   },
   {
    "duration": 1553,
    "start_time": "2023-06-10T23:56:16.074Z"
   },
   {
    "duration": 16,
    "start_time": "2023-06-10T23:56:17.629Z"
   },
   {
    "duration": 1233,
    "start_time": "2023-06-10T23:56:17.660Z"
   },
   {
    "duration": 524,
    "start_time": "2023-06-10T23:56:18.895Z"
   },
   {
    "duration": 271,
    "start_time": "2023-06-10T23:56:19.420Z"
   },
   {
    "duration": 470,
    "start_time": "2023-06-10T23:56:29.428Z"
   },
   {
    "duration": 52,
    "start_time": "2023-06-10T23:56:31.263Z"
   },
   {
    "duration": 18,
    "start_time": "2023-06-10T23:56:33.817Z"
   },
   {
    "duration": 112,
    "start_time": "2023-06-10T23:56:42.310Z"
   },
   {
    "duration": 70,
    "start_time": "2023-06-10T23:56:43.595Z"
   },
   {
    "duration": 935,
    "start_time": "2023-06-10T23:57:05.926Z"
   },
   {
    "duration": 506,
    "start_time": "2023-06-10T23:57:06.863Z"
   },
   {
    "duration": 257,
    "start_time": "2023-06-10T23:57:07.371Z"
   },
   {
    "duration": 473,
    "start_time": "2023-06-10T23:57:07.630Z"
   },
   {
    "duration": 68,
    "start_time": "2023-06-10T23:57:08.106Z"
   },
   {
    "duration": 122,
    "start_time": "2023-06-10T23:57:08.176Z"
   },
   {
    "duration": 82,
    "start_time": "2023-06-10T23:57:08.301Z"
   },
   {
    "duration": 130,
    "start_time": "2023-06-10T23:59:45.932Z"
   },
   {
    "duration": 2468,
    "start_time": "2023-06-10T23:59:53.907Z"
   },
   {
    "duration": 6,
    "start_time": "2023-06-10T23:59:56.378Z"
   },
   {
    "duration": 87,
    "start_time": "2023-06-10T23:59:56.386Z"
   },
   {
    "duration": 934,
    "start_time": "2023-06-10T23:59:56.475Z"
   },
   {
    "duration": 502,
    "start_time": "2023-06-10T23:59:57.411Z"
   },
   {
    "duration": 245,
    "start_time": "2023-06-10T23:59:57.915Z"
   },
   {
    "duration": 448,
    "start_time": "2023-06-10T23:59:58.162Z"
   },
   {
    "duration": 2,
    "start_time": "2023-06-11T00:00:10.921Z"
   },
   {
    "duration": 117,
    "start_time": "2023-06-11T00:00:14.481Z"
   },
   {
    "duration": 116,
    "start_time": "2023-06-11T00:00:14.859Z"
   },
   {
    "duration": 10,
    "start_time": "2023-06-11T00:00:49.752Z"
   },
   {
    "duration": 3,
    "start_time": "2023-06-11T00:01:03.891Z"
   },
   {
    "duration": 33682,
    "start_time": "2023-06-11T00:01:07.537Z"
   },
   {
    "duration": 122,
    "start_time": "2023-06-11T00:01:43.535Z"
   },
   {
    "duration": 3418,
    "start_time": "2023-06-11T00:01:48.015Z"
   },
   {
    "duration": 1672,
    "start_time": "2023-06-11T00:02:01.438Z"
   },
   {
    "duration": 181,
    "start_time": "2023-06-11T00:02:07.513Z"
   },
   {
    "duration": 1118,
    "start_time": "2023-06-11T00:02:17.594Z"
   },
   {
    "duration": 8,
    "start_time": "2023-06-11T00:03:32.404Z"
   },
   {
    "duration": 4,
    "start_time": "2023-06-11T00:03:33.965Z"
   },
   {
    "duration": 3,
    "start_time": "2023-06-11T00:03:35.172Z"
   },
   {
    "duration": 3,
    "start_time": "2023-06-11T00:03:36.127Z"
   },
   {
    "duration": 5445,
    "start_time": "2023-06-11T00:03:37.458Z"
   },
   {
    "duration": 5284,
    "start_time": "2023-06-11T00:03:46.822Z"
   },
   {
    "duration": 5,
    "start_time": "2023-06-11T00:03:54.059Z"
   },
   {
    "duration": 82515,
    "start_time": "2023-06-11T00:03:55.270Z"
   },
   {
    "duration": 15,
    "start_time": "2023-06-11T00:05:17.786Z"
   },
   {
    "duration": 7507,
    "start_time": "2023-06-11T00:07:29.420Z"
   },
   {
    "duration": 3,
    "start_time": "2023-06-11T00:07:36.929Z"
   },
   {
    "duration": 26822,
    "start_time": "2023-06-11T00:07:36.934Z"
   },
   {
    "duration": 2599,
    "start_time": "2023-06-11T00:09:04.013Z"
   },
   {
    "duration": 14834,
    "start_time": "2023-06-11T00:09:08.757Z"
   },
   {
    "duration": 9810,
    "start_time": "2023-06-11T00:10:51.962Z"
   },
   {
    "duration": 139388,
    "start_time": "2023-06-11T00:11:05.213Z"
   },
   {
    "duration": 38952,
    "start_time": "2023-06-11T00:13:37.879Z"
   },
   {
    "duration": 15846,
    "start_time": "2023-06-11T00:14:18.718Z"
   },
   {
    "duration": 305298,
    "start_time": "2023-06-11T00:14:39.181Z"
   },
   {
    "duration": 223915,
    "start_time": "2023-06-11T00:22:32.309Z"
   },
   {
    "duration": 0,
    "start_time": "2023-06-11T00:26:16.226Z"
   },
   {
    "duration": 0,
    "start_time": "2023-06-11T00:26:16.227Z"
   },
   {
    "duration": 14,
    "start_time": "2023-06-11T00:26:22.147Z"
   },
   {
    "duration": 45483,
    "start_time": "2023-06-11T00:26:48.065Z"
   },
   {
    "duration": 19,
    "start_time": "2023-06-11T00:27:49.026Z"
   },
   {
    "duration": 12,
    "start_time": "2023-06-11T00:27:53.560Z"
   },
   {
    "duration": 6,
    "start_time": "2023-06-11T00:28:17.864Z"
   },
   {
    "duration": 9,
    "start_time": "2023-06-11T00:28:25.757Z"
   },
   {
    "duration": 1528,
    "start_time": "2023-06-11T00:28:44.011Z"
   },
   {
    "duration": 30,
    "start_time": "2023-06-11T00:28:59.129Z"
   },
   {
    "duration": 4,
    "start_time": "2023-06-11T00:29:29.486Z"
   },
   {
    "duration": 4,
    "start_time": "2023-06-11T00:30:05.231Z"
   },
   {
    "duration": 558194,
    "start_time": "2023-06-11T00:30:25.869Z"
   },
   {
    "duration": 2164,
    "start_time": "2023-06-13T10:33:08.726Z"
   },
   {
    "duration": 5,
    "start_time": "2023-06-13T10:33:10.892Z"
   },
   {
    "duration": 26,
    "start_time": "2023-06-13T10:33:10.899Z"
   },
   {
    "duration": 38,
    "start_time": "2023-06-13T10:33:10.926Z"
   },
   {
    "duration": 813,
    "start_time": "2023-06-13T10:33:15.906Z"
   },
   {
    "duration": 438,
    "start_time": "2023-06-13T10:33:16.721Z"
   },
   {
    "duration": 202,
    "start_time": "2023-06-13T10:33:17.648Z"
   },
   {
    "duration": 385,
    "start_time": "2023-06-13T10:33:33.897Z"
   },
   {
    "duration": 4,
    "start_time": "2023-06-13T10:33:41.630Z"
   },
   {
    "duration": 96,
    "start_time": "2023-06-13T10:33:42.206Z"
   },
   {
    "duration": 130,
    "start_time": "2023-06-13T10:33:42.687Z"
   },
   {
    "duration": 11,
    "start_time": "2023-06-13T10:33:43.228Z"
   },
   {
    "duration": 3,
    "start_time": "2023-06-13T10:33:44.164Z"
   },
   {
    "duration": 28854,
    "start_time": "2023-06-13T10:33:44.591Z"
   },
   {
    "duration": 92,
    "start_time": "2023-06-13T10:34:13.446Z"
   },
   {
    "duration": 3209,
    "start_time": "2023-06-13T10:34:13.539Z"
   },
   {
    "duration": 1404,
    "start_time": "2023-06-13T10:34:16.751Z"
   },
   {
    "duration": 151,
    "start_time": "2023-06-13T10:34:18.157Z"
   },
   {
    "duration": 870,
    "start_time": "2023-06-13T10:34:18.309Z"
   },
   {
    "duration": 7,
    "start_time": "2023-06-13T10:39:25.930Z"
   },
   {
    "duration": 4,
    "start_time": "2023-06-13T10:39:26.708Z"
   },
   {
    "duration": 4,
    "start_time": "2023-06-13T10:39:27.365Z"
   },
   {
    "duration": 7,
    "start_time": "2023-06-13T10:39:28.123Z"
   },
   {
    "duration": 4916,
    "start_time": "2023-06-13T10:39:28.921Z"
   },
   {
    "duration": 4707,
    "start_time": "2023-06-13T10:39:37.092Z"
   },
   {
    "duration": 3,
    "start_time": "2023-06-13T10:39:43.399Z"
   },
   {
    "duration": 72073,
    "start_time": "2023-06-13T10:39:50.234Z"
   },
   {
    "duration": 20,
    "start_time": "2023-06-13T10:41:15.132Z"
   },
   {
    "duration": 7095,
    "start_time": "2023-06-13T10:41:35.258Z"
   },
   {
    "duration": 13,
    "start_time": "2023-06-13T10:44:11.104Z"
   },
   {
    "duration": 461,
    "start_time": "2023-06-13T10:44:24.428Z"
   },
   {
    "duration": 149,
    "start_time": "2023-06-13T10:44:50.747Z"
   },
   {
    "duration": 3,
    "start_time": "2023-06-13T10:45:15.044Z"
   },
   {
    "duration": 5292,
    "start_time": "2023-06-13T10:46:15.274Z"
   },
   {
    "duration": 75,
    "start_time": "2023-06-13T10:46:37.387Z"
   },
   {
    "duration": 226,
    "start_time": "2023-06-13T10:46:59.036Z"
   },
   {
    "duration": 297,
    "start_time": "2023-06-13T10:47:26.193Z"
   },
   {
    "duration": 13,
    "start_time": "2023-06-13T10:47:37.342Z"
   },
   {
    "duration": 2599,
    "start_time": "2023-06-13T10:47:56.685Z"
   },
   {
    "duration": 206,
    "start_time": "2023-06-13T10:48:11.134Z"
   },
   {
    "duration": 2058,
    "start_time": "2023-06-13T10:48:35.385Z"
   },
   {
    "duration": 263,
    "start_time": "2023-06-13T10:48:52.719Z"
   },
   {
    "duration": 11,
    "start_time": "2023-06-13T10:49:11.843Z"
   },
   {
    "duration": 22,
    "start_time": "2023-06-13T10:50:03.529Z"
   },
   {
    "duration": 183,
    "start_time": "2023-06-13T10:58:21.280Z"
   },
   {
    "duration": 148,
    "start_time": "2023-06-13T10:59:28.750Z"
   },
   {
    "duration": 1236,
    "start_time": "2023-06-13T10:59:46.348Z"
   },
   {
    "duration": 165,
    "start_time": "2023-06-13T10:59:54.367Z"
   },
   {
    "duration": 29,
    "start_time": "2023-06-13T11:00:07.229Z"
   },
   {
    "duration": 2409,
    "start_time": "2023-06-13T11:00:20.373Z"
   },
   {
    "duration": 0,
    "start_time": "2023-06-13T11:00:22.783Z"
   },
   {
    "duration": 0,
    "start_time": "2023-06-13T11:00:22.785Z"
   },
   {
    "duration": 2363,
    "start_time": "2023-06-13T11:00:40.304Z"
   },
   {
    "duration": 48,
    "start_time": "2023-06-13T11:00:49.082Z"
   },
   {
    "duration": 63,
    "start_time": "2023-06-13T11:00:50.132Z"
   },
   {
    "duration": 28,
    "start_time": "2023-06-13T11:00:55.084Z"
   },
   {
    "duration": 33,
    "start_time": "2023-06-13T11:01:24.757Z"
   },
   {
    "duration": 41,
    "start_time": "2023-06-13T11:02:49.230Z"
   },
   {
    "duration": 1983,
    "start_time": "2023-06-13T11:03:13.499Z"
   },
   {
    "duration": 2914,
    "start_time": "2023-06-13T11:03:15.484Z"
   },
   {
    "duration": 9,
    "start_time": "2023-06-13T11:03:18.400Z"
   },
   {
    "duration": 12,
    "start_time": "2023-06-13T11:03:23.936Z"
   },
   {
    "duration": 755,
    "start_time": "2023-06-13T11:03:27.687Z"
   },
   {
    "duration": 416,
    "start_time": "2023-06-13T11:03:33.485Z"
   },
   {
    "duration": 197,
    "start_time": "2023-06-13T11:03:37.787Z"
   },
   {
    "duration": 377,
    "start_time": "2023-06-13T11:03:42.927Z"
   },
   {
    "duration": 547,
    "start_time": "2023-06-13T11:03:45.338Z"
   },
   {
    "duration": 52,
    "start_time": "2023-06-13T11:03:45.887Z"
   },
   {
    "duration": 292,
    "start_time": "2023-06-13T11:06:46.326Z"
   },
   {
    "duration": 724,
    "start_time": "2023-06-13T11:08:34.333Z"
   },
   {
    "duration": 441,
    "start_time": "2023-06-13T11:08:35.893Z"
   },
   {
    "duration": 206,
    "start_time": "2023-06-13T11:08:37.563Z"
   },
   {
    "duration": 402,
    "start_time": "2023-06-13T11:08:39.227Z"
   },
   {
    "duration": 50,
    "start_time": "2023-06-13T11:08:49.130Z"
   },
   {
    "duration": 104,
    "start_time": "2023-06-13T11:08:59.518Z"
   },
   {
    "duration": 45,
    "start_time": "2023-06-13T11:09:01.944Z"
   },
   {
    "duration": 6,
    "start_time": "2023-06-13T11:09:11.992Z"
   },
   {
    "duration": 3,
    "start_time": "2023-06-13T11:09:15.083Z"
   },
   {
    "duration": 9532,
    "start_time": "2023-06-13T11:09:17.902Z"
   },
   {
    "duration": 65,
    "start_time": "2023-06-13T11:09:28.884Z"
   },
   {
    "duration": 2875,
    "start_time": "2023-06-13T11:09:31.894Z"
   },
   {
    "duration": 1582,
    "start_time": "2023-06-13T11:09:47.343Z"
   },
   {
    "duration": 158,
    "start_time": "2023-06-13T11:09:48.928Z"
   },
   {
    "duration": 761,
    "start_time": "2023-06-13T11:09:51.787Z"
   },
   {
    "duration": 294,
    "start_time": "2023-06-13T11:10:04.195Z"
   },
   {
    "duration": 2056,
    "start_time": "2023-06-13T11:11:28.668Z"
   },
   {
    "duration": 3329,
    "start_time": "2023-06-13T11:11:30.726Z"
   },
   {
    "duration": 5,
    "start_time": "2023-06-13T11:11:34.057Z"
   },
   {
    "duration": 41,
    "start_time": "2023-06-13T11:11:34.064Z"
   },
   {
    "duration": 819,
    "start_time": "2023-06-13T11:11:34.106Z"
   },
   {
    "duration": 431,
    "start_time": "2023-06-13T11:11:34.927Z"
   },
   {
    "duration": 222,
    "start_time": "2023-06-13T11:11:35.359Z"
   },
   {
    "duration": 445,
    "start_time": "2023-06-13T11:11:35.582Z"
   },
   {
    "duration": 47,
    "start_time": "2023-06-13T11:11:36.032Z"
   },
   {
    "duration": 93,
    "start_time": "2023-06-13T11:11:59.860Z"
   },
   {
    "duration": 79,
    "start_time": "2023-06-13T11:12:06.901Z"
   },
   {
    "duration": 6,
    "start_time": "2023-06-13T11:12:09.364Z"
   },
   {
    "duration": 3,
    "start_time": "2023-06-13T11:12:11.460Z"
   },
   {
    "duration": 9892,
    "start_time": "2023-06-13T11:12:11.674Z"
   },
   {
    "duration": 68,
    "start_time": "2023-06-13T11:12:27.623Z"
   },
   {
    "duration": 16,
    "start_time": "2023-06-13T11:12:30.879Z"
   },
   {
    "duration": 3225,
    "start_time": "2023-06-13T11:12:40.688Z"
   },
   {
    "duration": 1888,
    "start_time": "2023-06-13T11:12:43.915Z"
   },
   {
    "duration": 179,
    "start_time": "2023-06-13T11:12:45.807Z"
   },
   {
    "duration": 840,
    "start_time": "2023-06-13T11:12:45.987Z"
   },
   {
    "duration": 546,
    "start_time": "2023-06-13T11:12:47.454Z"
   },
   {
    "duration": 188,
    "start_time": "2023-06-13T11:12:51.229Z"
   },
   {
    "duration": 90,
    "start_time": "2023-06-13T11:13:15.742Z"
   },
   {
    "duration": 1615,
    "start_time": "2023-06-13T11:13:16.253Z"
   },
   {
    "duration": 28,
    "start_time": "2023-06-13T11:13:17.871Z"
   },
   {
    "duration": 1362,
    "start_time": "2023-06-13T11:13:17.900Z"
   },
   {
    "duration": 2377,
    "start_time": "2023-06-13T11:14:11.669Z"
   },
   {
    "duration": 3595,
    "start_time": "2023-06-13T11:14:14.048Z"
   },
   {
    "duration": 18,
    "start_time": "2023-06-13T11:14:17.646Z"
   },
   {
    "duration": 14,
    "start_time": "2023-06-13T11:14:17.665Z"
   },
   {
    "duration": 892,
    "start_time": "2023-06-13T11:14:17.681Z"
   },
   {
    "duration": 497,
    "start_time": "2023-06-13T11:14:18.575Z"
   },
   {
    "duration": 243,
    "start_time": "2023-06-13T11:14:19.074Z"
   },
   {
    "duration": 526,
    "start_time": "2023-06-13T11:14:19.320Z"
   },
   {
    "duration": 46,
    "start_time": "2023-06-13T11:14:19.850Z"
   },
   {
    "duration": 100,
    "start_time": "2023-06-13T11:14:19.897Z"
   },
   {
    "duration": 77,
    "start_time": "2023-06-13T11:14:19.999Z"
   },
   {
    "duration": 7,
    "start_time": "2023-06-13T11:14:20.077Z"
   },
   {
    "duration": 31,
    "start_time": "2023-06-13T11:14:20.086Z"
   },
   {
    "duration": 9415,
    "start_time": "2023-06-13T11:14:20.120Z"
   },
   {
    "duration": 55,
    "start_time": "2023-06-13T11:14:29.538Z"
   },
   {
    "duration": 32,
    "start_time": "2023-06-13T11:14:29.594Z"
   },
   {
    "duration": 2726,
    "start_time": "2023-06-13T11:14:29.628Z"
   },
   {
    "duration": 250,
    "start_time": "2023-06-13T11:14:32.356Z"
   },
   {
    "duration": 1530,
    "start_time": "2023-06-13T11:14:32.608Z"
   },
   {
    "duration": 136,
    "start_time": "2023-06-13T11:14:34.143Z"
   },
   {
    "duration": 690,
    "start_time": "2023-06-13T11:14:34.281Z"
   },
   {
    "duration": 444,
    "start_time": "2023-06-13T11:14:40.750Z"
   },
   {
    "duration": 24,
    "start_time": "2023-06-13T11:14:45.508Z"
   },
   {
    "duration": 60,
    "start_time": "2023-06-13T11:15:30.143Z"
   },
   {
    "duration": 63,
    "start_time": "2023-06-13T11:15:31.433Z"
   },
   {
    "duration": 44,
    "start_time": "2023-06-13T11:15:58.442Z"
   },
   {
    "duration": 32,
    "start_time": "2023-06-13T11:16:11.923Z"
   },
   {
    "duration": 39,
    "start_time": "2023-06-13T11:17:45.138Z"
   },
   {
    "duration": 2252,
    "start_time": "2023-06-13T11:18:37.298Z"
   },
   {
    "duration": 3398,
    "start_time": "2023-06-13T11:18:39.552Z"
   },
   {
    "duration": 8,
    "start_time": "2023-06-13T11:18:42.953Z"
   },
   {
    "duration": 12,
    "start_time": "2023-06-13T11:18:42.963Z"
   },
   {
    "duration": 821,
    "start_time": "2023-06-13T11:18:42.976Z"
   },
   {
    "duration": 448,
    "start_time": "2023-06-13T11:18:43.799Z"
   },
   {
    "duration": 228,
    "start_time": "2023-06-13T11:18:44.249Z"
   },
   {
    "duration": 503,
    "start_time": "2023-06-13T11:18:44.479Z"
   },
   {
    "duration": 55,
    "start_time": "2023-06-13T11:18:44.984Z"
   },
   {
    "duration": 91,
    "start_time": "2023-06-13T11:18:45.048Z"
   },
   {
    "duration": 86,
    "start_time": "2023-06-13T11:18:45.141Z"
   },
   {
    "duration": 64,
    "start_time": "2023-06-13T11:18:45.229Z"
   },
   {
    "duration": 35,
    "start_time": "2023-06-13T11:18:45.295Z"
   },
   {
    "duration": 9341,
    "start_time": "2023-06-13T11:18:45.332Z"
   },
   {
    "duration": 55,
    "start_time": "2023-06-13T11:18:54.675Z"
   },
   {
    "duration": 33,
    "start_time": "2023-06-13T11:18:54.735Z"
   },
   {
    "duration": 2772,
    "start_time": "2023-06-13T11:18:54.769Z"
   },
   {
    "duration": 256,
    "start_time": "2023-06-13T11:18:57.543Z"
   },
   {
    "duration": 1557,
    "start_time": "2023-06-13T11:18:57.801Z"
   },
   {
    "duration": 153,
    "start_time": "2023-06-13T11:18:59.361Z"
   },
   {
    "duration": 684,
    "start_time": "2023-06-13T11:18:59.516Z"
   },
   {
    "duration": 27,
    "start_time": "2023-06-13T11:19:39.901Z"
   },
   {
    "duration": 510,
    "start_time": "2023-06-13T11:19:51.134Z"
   },
   {
    "duration": 26,
    "start_time": "2023-06-13T11:19:56.936Z"
   },
   {
    "duration": 23,
    "start_time": "2023-06-13T11:21:43.829Z"
   },
   {
    "duration": 2307,
    "start_time": "2023-06-13T11:22:04.196Z"
   },
   {
    "duration": 8,
    "start_time": "2023-06-13T11:22:06.505Z"
   },
   {
    "duration": 26,
    "start_time": "2023-06-13T11:22:06.515Z"
   },
   {
    "duration": 18,
    "start_time": "2023-06-13T11:22:06.543Z"
   },
   {
    "duration": 799,
    "start_time": "2023-06-13T11:22:06.563Z"
   },
   {
    "duration": 419,
    "start_time": "2023-06-13T11:22:07.363Z"
   },
   {
    "duration": 213,
    "start_time": "2023-06-13T11:22:07.784Z"
   },
   {
    "duration": 416,
    "start_time": "2023-06-13T11:22:07.998Z"
   },
   {
    "duration": 59,
    "start_time": "2023-06-13T11:22:08.416Z"
   },
   {
    "duration": 106,
    "start_time": "2023-06-13T11:22:08.476Z"
   },
   {
    "duration": 67,
    "start_time": "2023-06-13T11:22:08.584Z"
   },
   {
    "duration": 12,
    "start_time": "2023-06-13T11:22:08.653Z"
   },
   {
    "duration": 37,
    "start_time": "2023-06-13T11:22:08.667Z"
   },
   {
    "duration": 9886,
    "start_time": "2023-06-13T11:22:08.713Z"
   },
   {
    "duration": 76,
    "start_time": "2023-06-13T11:22:18.601Z"
   },
   {
    "duration": 38,
    "start_time": "2023-06-13T11:22:18.679Z"
   },
   {
    "duration": 2900,
    "start_time": "2023-06-13T11:22:18.718Z"
   },
   {
    "duration": 279,
    "start_time": "2023-06-13T11:22:21.620Z"
   },
   {
    "duration": 1683,
    "start_time": "2023-06-13T11:22:21.901Z"
   },
   {
    "duration": 200,
    "start_time": "2023-06-13T11:22:23.586Z"
   },
   {
    "duration": 899,
    "start_time": "2023-06-13T11:22:23.788Z"
   },
   {
    "duration": 94,
    "start_time": "2023-06-13T11:22:28.086Z"
   },
   {
    "duration": 160,
    "start_time": "2023-06-13T11:22:28.922Z"
   },
   {
    "duration": 73,
    "start_time": "2023-06-13T11:22:33.790Z"
   },
   {
    "duration": 35,
    "start_time": "2023-06-13T11:22:36.738Z"
   },
   {
    "duration": 4,
    "start_time": "2023-06-13T11:22:45.631Z"
   },
   {
    "duration": 189292,
    "start_time": "2023-06-13T11:23:12.252Z"
   },
   {
    "duration": 15,
    "start_time": "2023-06-13T11:26:50.337Z"
   },
   {
    "duration": 155,
    "start_time": "2023-06-13T11:29:50.594Z"
   },
   {
    "duration": 7,
    "start_time": "2023-06-13T11:29:55.791Z"
   },
   {
    "duration": 139,
    "start_time": "2023-06-13T11:30:01.026Z"
   },
   {
    "duration": 119,
    "start_time": "2023-06-13T11:31:42.088Z"
   },
   {
    "duration": 41,
    "start_time": "2023-06-13T11:31:46.740Z"
   },
   {
    "duration": 30,
    "start_time": "2023-06-13T11:31:50.084Z"
   },
   {
    "duration": 4,
    "start_time": "2023-06-13T11:32:01.586Z"
   },
   {
    "duration": 15,
    "start_time": "2023-06-13T11:33:41.710Z"
   },
   {
    "duration": 36,
    "start_time": "2023-06-13T11:35:03.652Z"
   },
   {
    "duration": 1005,
    "start_time": "2023-06-13T11:35:32.499Z"
   },
   {
    "duration": 25,
    "start_time": "2023-06-13T11:35:42.245Z"
   },
   {
    "duration": 2130,
    "start_time": "2023-06-13T11:36:35.728Z"
   },
   {
    "duration": 3384,
    "start_time": "2023-06-13T11:36:37.861Z"
   },
   {
    "duration": 7,
    "start_time": "2023-06-13T11:36:41.247Z"
   },
   {
    "duration": 28,
    "start_time": "2023-06-13T11:36:41.257Z"
   },
   {
    "duration": 871,
    "start_time": "2023-06-13T11:36:41.286Z"
   },
   {
    "duration": 519,
    "start_time": "2023-06-13T11:36:42.159Z"
   },
   {
    "duration": 268,
    "start_time": "2023-06-13T11:36:42.679Z"
   },
   {
    "duration": 434,
    "start_time": "2023-06-13T11:36:42.949Z"
   },
   {
    "duration": 68,
    "start_time": "2023-06-13T11:36:43.385Z"
   },
   {
    "duration": 84,
    "start_time": "2023-06-13T11:36:43.457Z"
   },
   {
    "duration": 49,
    "start_time": "2023-06-13T11:36:43.543Z"
   },
   {
    "duration": 13,
    "start_time": "2023-06-13T11:36:43.593Z"
   },
   {
    "duration": 35,
    "start_time": "2023-06-13T11:36:43.608Z"
   },
   {
    "duration": 9602,
    "start_time": "2023-06-13T11:36:43.646Z"
   },
   {
    "duration": 44,
    "start_time": "2023-06-13T11:36:53.252Z"
   },
   {
    "duration": 61,
    "start_time": "2023-06-13T11:36:53.297Z"
   },
   {
    "duration": 2768,
    "start_time": "2023-06-13T11:36:53.360Z"
   },
   {
    "duration": 262,
    "start_time": "2023-06-13T11:36:56.137Z"
   },
   {
    "duration": 1592,
    "start_time": "2023-06-13T11:36:56.400Z"
   },
   {
    "duration": 153,
    "start_time": "2023-06-13T11:36:57.993Z"
   },
   {
    "duration": 721,
    "start_time": "2023-06-13T11:36:58.149Z"
   },
   {
    "duration": 9,
    "start_time": "2023-06-13T11:36:58.872Z"
   },
   {
    "duration": 158,
    "start_time": "2023-06-13T11:36:58.883Z"
   },
   {
    "duration": 99,
    "start_time": "2023-06-13T11:36:59.044Z"
   },
   {
    "duration": 39,
    "start_time": "2023-06-13T11:36:59.145Z"
   },
   {
    "duration": 30,
    "start_time": "2023-06-13T11:36:59.186Z"
   },
   {
    "duration": 10,
    "start_time": "2023-06-13T11:36:59.219Z"
   },
   {
    "duration": 186214,
    "start_time": "2023-06-13T11:36:59.245Z"
   },
   {
    "duration": 1111,
    "start_time": "2023-06-13T13:10:50.735Z"
   },
   {
    "duration": 711,
    "start_time": "2023-06-13T13:12:21.729Z"
   },
   {
    "duration": 758,
    "start_time": "2023-06-13T13:12:33.595Z"
   },
   {
    "duration": 3,
    "start_time": "2023-06-13T13:13:45.062Z"
   },
   {
    "duration": 373127,
    "start_time": "2023-06-13T13:13:53.998Z"
   },
   {
    "duration": 869,
    "start_time": "2023-06-13T13:25:58.497Z"
   },
   {
    "duration": 21,
    "start_time": "2023-06-13T13:27:48.930Z"
   },
   {
    "duration": 7,
    "start_time": "2023-06-13T13:27:59.333Z"
   },
   {
    "duration": 2,
    "start_time": "2023-06-13T13:28:06.097Z"
   },
   {
    "duration": 57,
    "start_time": "2023-06-13T13:28:58.097Z"
   },
   {
    "duration": 37,
    "start_time": "2023-06-13T13:29:12.233Z"
   },
   {
    "duration": 925,
    "start_time": "2023-06-13T13:29:44.104Z"
   },
   {
    "duration": 19,
    "start_time": "2023-06-13T13:30:27.269Z"
   },
   {
    "duration": 15,
    "start_time": "2023-06-13T13:31:45.532Z"
   },
   {
    "duration": 184,
    "start_time": "2023-06-13T13:31:46.195Z"
   },
   {
    "duration": 43,
    "start_time": "2023-06-13T13:31:47.054Z"
   },
   {
    "duration": 2,
    "start_time": "2023-06-13T13:31:49.398Z"
   },
   {
    "duration": 22,
    "start_time": "2023-06-13T13:31:50.240Z"
   },
   {
    "duration": 226,
    "start_time": "2023-06-13T13:32:33.970Z"
   },
   {
    "duration": 42,
    "start_time": "2023-06-13T13:32:35.606Z"
   },
   {
    "duration": 10,
    "start_time": "2023-06-13T13:33:33.047Z"
   },
   {
    "duration": 163,
    "start_time": "2023-06-13T13:33:33.893Z"
   },
   {
    "duration": 56,
    "start_time": "2023-06-13T13:33:34.793Z"
   },
   {
    "duration": 2,
    "start_time": "2023-06-13T13:33:37.194Z"
   },
   {
    "duration": 227,
    "start_time": "2023-06-13T13:33:37.835Z"
   },
   {
    "duration": 30,
    "start_time": "2023-06-13T13:34:11.157Z"
   },
   {
    "duration": 8,
    "start_time": "2023-06-13T13:35:04.453Z"
   },
   {
    "duration": 29,
    "start_time": "2023-06-13T13:35:08.895Z"
   },
   {
    "duration": 21,
    "start_time": "2023-06-13T13:35:17.968Z"
   },
   {
    "duration": 872,
    "start_time": "2023-06-13T13:35:28.652Z"
   },
   {
    "duration": 25,
    "start_time": "2023-06-13T13:35:34.108Z"
   },
   {
    "duration": 177,
    "start_time": "2023-06-13T13:35:42.336Z"
   },
   {
    "duration": 51,
    "start_time": "2023-06-13T13:35:44.152Z"
   },
   {
    "duration": 19,
    "start_time": "2023-06-13T13:35:45.930Z"
   },
   {
    "duration": 3,
    "start_time": "2023-06-13T13:35:50.326Z"
   },
   {
    "duration": 63,
    "start_time": "2023-06-13T13:35:50.556Z"
   },
   {
    "duration": 30,
    "start_time": "2023-06-13T13:35:53.982Z"
   },
   {
    "duration": 36,
    "start_time": "2023-06-13T13:36:20.426Z"
   },
   {
    "duration": 22,
    "start_time": "2023-06-13T13:36:35.204Z"
   },
   {
    "duration": 5,
    "start_time": "2023-06-13T14:43:26.171Z"
   },
   {
    "duration": 219815,
    "start_time": "2023-06-13T14:43:28.012Z"
   },
   {
    "duration": 3,
    "start_time": "2023-06-13T14:49:32.682Z"
   },
   {
    "duration": 4,
    "start_time": "2023-06-13T14:57:13.027Z"
   },
   {
    "duration": 334017,
    "start_time": "2023-06-13T14:57:13.618Z"
   },
   {
    "duration": 16,
    "start_time": "2023-06-13T15:08:45.155Z"
   },
   {
    "duration": 8,
    "start_time": "2023-06-13T15:17:27.716Z"
   },
   {
    "duration": 524,
    "start_time": "2023-06-13T15:18:48.911Z"
   },
   {
    "duration": 43,
    "start_time": "2023-06-13T15:19:06.569Z"
   },
   {
    "duration": 1537,
    "start_time": "2023-06-13T15:19:24.694Z"
   },
   {
    "duration": 1035,
    "start_time": "2023-06-13T15:19:54.004Z"
   },
   {
    "duration": 737,
    "start_time": "2023-06-13T15:20:04.195Z"
   },
   {
    "duration": 1713,
    "start_time": "2023-06-13T15:20:14.814Z"
   },
   {
    "duration": 4,
    "start_time": "2023-06-13T15:21:43.191Z"
   },
   {
    "duration": 11,
    "start_time": "2023-06-13T15:21:51.153Z"
   },
   {
    "duration": 2167,
    "start_time": "2023-06-13T15:37:54.157Z"
   },
   {
    "duration": 9,
    "start_time": "2023-06-13T15:37:56.327Z"
   },
   {
    "duration": 33,
    "start_time": "2023-06-13T15:37:56.339Z"
   },
   {
    "duration": 16,
    "start_time": "2023-06-13T15:37:56.375Z"
   },
   {
    "duration": 829,
    "start_time": "2023-06-13T15:37:56.393Z"
   },
   {
    "duration": 450,
    "start_time": "2023-06-13T15:37:57.224Z"
   },
   {
    "duration": 305,
    "start_time": "2023-06-13T15:37:57.676Z"
   },
   {
    "duration": 535,
    "start_time": "2023-06-13T15:37:57.983Z"
   },
   {
    "duration": 60,
    "start_time": "2023-06-13T15:37:58.521Z"
   },
   {
    "duration": 44,
    "start_time": "2023-06-13T15:37:58.583Z"
   },
   {
    "duration": 102,
    "start_time": "2023-06-13T15:38:00.817Z"
   },
   {
    "duration": 18,
    "start_time": "2023-06-13T15:38:09.323Z"
   },
   {
    "duration": 69,
    "start_time": "2023-06-13T15:38:10.547Z"
   },
   {
    "duration": 9,
    "start_time": "2023-06-13T15:38:14.937Z"
   },
   {
    "duration": 7,
    "start_time": "2023-06-13T15:38:16.904Z"
   },
   {
    "duration": 590,
    "start_time": "2023-06-13T15:38:17.932Z"
   },
   {
    "duration": 2237,
    "start_time": "2023-06-13T15:39:24.095Z"
   },
   {
    "duration": 3405,
    "start_time": "2023-06-13T15:39:26.334Z"
   },
   {
    "duration": 10,
    "start_time": "2023-06-13T15:39:29.741Z"
   },
   {
    "duration": 13,
    "start_time": "2023-06-13T15:39:29.754Z"
   },
   {
    "duration": 952,
    "start_time": "2023-06-13T15:39:29.769Z"
   },
   {
    "duration": 422,
    "start_time": "2023-06-13T15:39:30.724Z"
   },
   {
    "duration": 299,
    "start_time": "2023-06-13T15:39:31.148Z"
   },
   {
    "duration": 501,
    "start_time": "2023-06-13T15:39:31.449Z"
   },
   {
    "duration": 85,
    "start_time": "2023-06-13T15:39:31.953Z"
   },
   {
    "duration": 27,
    "start_time": "2023-06-13T15:39:32.041Z"
   },
   {
    "duration": 117,
    "start_time": "2023-06-13T15:39:32.070Z"
   },
   {
    "duration": 11,
    "start_time": "2023-06-13T15:39:32.189Z"
   },
   {
    "duration": 24,
    "start_time": "2023-06-13T15:39:32.203Z"
   },
   {
    "duration": 637,
    "start_time": "2023-06-13T15:39:32.230Z"
   },
   {
    "duration": 66,
    "start_time": "2023-06-13T15:39:58.551Z"
   },
   {
    "duration": 27,
    "start_time": "2023-06-13T15:40:02.263Z"
   },
   {
    "duration": 39,
    "start_time": "2023-06-13T15:40:16.585Z"
   },
   {
    "duration": 51,
    "start_time": "2023-06-13T15:40:38.482Z"
   },
   {
    "duration": 25,
    "start_time": "2023-06-13T15:40:40.093Z"
   },
   {
    "duration": 2169,
    "start_time": "2023-06-13T15:41:50.632Z"
   },
   {
    "duration": 8,
    "start_time": "2023-06-13T15:41:52.804Z"
   },
   {
    "duration": 33,
    "start_time": "2023-06-13T15:41:52.813Z"
   },
   {
    "duration": 14,
    "start_time": "2023-06-13T15:41:52.848Z"
   },
   {
    "duration": 854,
    "start_time": "2023-06-13T15:41:52.865Z"
   },
   {
    "duration": 416,
    "start_time": "2023-06-13T15:41:53.725Z"
   },
   {
    "duration": 237,
    "start_time": "2023-06-13T15:41:54.143Z"
   },
   {
    "duration": 440,
    "start_time": "2023-06-13T15:41:54.382Z"
   },
   {
    "duration": 49,
    "start_time": "2023-06-13T15:41:54.824Z"
   },
   {
    "duration": 106,
    "start_time": "2023-06-13T15:41:54.875Z"
   },
   {
    "duration": 16,
    "start_time": "2023-06-13T15:41:54.982Z"
   },
   {
    "duration": 64,
    "start_time": "2023-06-13T15:41:55.010Z"
   },
   {
    "duration": 5,
    "start_time": "2023-06-13T15:41:55.076Z"
   },
   {
    "duration": 19,
    "start_time": "2023-06-13T15:41:55.084Z"
   },
   {
    "duration": 8697,
    "start_time": "2023-06-13T15:41:57.537Z"
   },
   {
    "duration": 52,
    "start_time": "2023-06-13T15:42:13.697Z"
   },
   {
    "duration": 211,
    "start_time": "2023-06-13T15:42:37.506Z"
   },
   {
    "duration": 2229,
    "start_time": "2023-06-13T15:42:40.630Z"
   },
   {
    "duration": 1541,
    "start_time": "2023-06-13T15:42:50.092Z"
   },
   {
    "duration": 148,
    "start_time": "2023-06-13T15:42:51.635Z"
   },
   {
    "duration": 690,
    "start_time": "2023-06-13T15:42:51.785Z"
   },
   {
    "duration": 142,
    "start_time": "2023-06-13T15:46:03.387Z"
   },
   {
    "duration": 14,
    "start_time": "2023-06-13T15:47:05.823Z"
   },
   {
    "duration": 836,
    "start_time": "2023-06-13T15:47:16.641Z"
   },
   {
    "duration": 2090,
    "start_time": "2023-06-13T15:51:35.637Z"
   },
   {
    "duration": 8,
    "start_time": "2023-06-13T15:51:37.731Z"
   },
   {
    "duration": 11,
    "start_time": "2023-06-13T15:51:37.741Z"
   },
   {
    "duration": 20,
    "start_time": "2023-06-13T15:51:37.755Z"
   },
   {
    "duration": 797,
    "start_time": "2023-06-13T15:51:37.777Z"
   },
   {
    "duration": 368,
    "start_time": "2023-06-13T15:51:38.576Z"
   },
   {
    "duration": 205,
    "start_time": "2023-06-13T15:51:38.946Z"
   },
   {
    "duration": 406,
    "start_time": "2023-06-13T15:51:39.153Z"
   },
   {
    "duration": 57,
    "start_time": "2023-06-13T15:51:39.561Z"
   },
   {
    "duration": 103,
    "start_time": "2023-06-13T15:51:39.622Z"
   },
   {
    "duration": 22,
    "start_time": "2023-06-13T15:51:39.727Z"
   },
   {
    "duration": 62,
    "start_time": "2023-06-13T15:51:39.752Z"
   },
   {
    "duration": 12,
    "start_time": "2023-06-13T15:51:39.816Z"
   },
   {
    "duration": 27,
    "start_time": "2023-06-13T15:51:39.830Z"
   },
   {
    "duration": 8852,
    "start_time": "2023-06-13T15:51:39.859Z"
   },
   {
    "duration": 74,
    "start_time": "2023-06-13T15:51:48.713Z"
   },
   {
    "duration": 2496,
    "start_time": "2023-06-13T15:51:48.790Z"
   },
   {
    "duration": 198,
    "start_time": "2023-06-13T15:51:51.288Z"
   },
   {
    "duration": 1436,
    "start_time": "2023-06-13T15:51:51.488Z"
   },
   {
    "duration": 140,
    "start_time": "2023-06-13T15:51:52.926Z"
   },
   {
    "duration": 780,
    "start_time": "2023-06-13T15:51:53.068Z"
   },
   {
    "duration": 15,
    "start_time": "2023-06-13T15:51:53.851Z"
   },
   {
    "duration": 157,
    "start_time": "2023-06-13T15:51:53.869Z"
   },
   {
    "duration": 113,
    "start_time": "2023-06-13T15:51:54.027Z"
   },
   {
    "duration": 53,
    "start_time": "2023-06-13T15:51:54.142Z"
   },
   {
    "duration": 41,
    "start_time": "2023-06-13T15:51:54.196Z"
   },
   {
    "duration": 3,
    "start_time": "2023-06-13T15:51:54.240Z"
   },
   {
    "duration": 231333,
    "start_time": "2023-06-13T15:51:54.246Z"
   },
   {
    "duration": 802,
    "start_time": "2023-06-13T15:55:45.582Z"
   },
   {
    "duration": 3,
    "start_time": "2023-06-13T15:55:46.386Z"
   },
   {
    "duration": 469472,
    "start_time": "2023-06-13T15:55:46.390Z"
   },
   {
    "duration": 901,
    "start_time": "2023-06-13T16:03:35.865Z"
   },
   {
    "duration": 870,
    "start_time": "2023-06-13T16:03:36.770Z"
   },
   {
    "duration": 216,
    "start_time": "2023-06-13T16:03:37.642Z"
   },
   {
    "duration": 71,
    "start_time": "2023-06-13T16:03:37.860Z"
   },
   {
    "duration": 20,
    "start_time": "2023-06-13T16:03:37.940Z"
   },
   {
    "duration": 3,
    "start_time": "2023-06-13T16:03:37.962Z"
   },
   {
    "duration": 144,
    "start_time": "2023-06-13T16:03:37.967Z"
   },
   {
    "duration": 147,
    "start_time": "2023-06-13T16:03:38.113Z"
   },
   {
    "duration": 56,
    "start_time": "2023-06-13T16:03:38.262Z"
   },
   {
    "duration": 218043,
    "start_time": "2023-06-13T16:03:38.321Z"
   },
   {
    "duration": 3,
    "start_time": "2023-06-13T16:07:16.366Z"
   },
   {
    "duration": 331361,
    "start_time": "2023-06-13T16:07:16.371Z"
   },
   {
    "duration": 608,
    "start_time": "2023-06-13T16:12:47.734Z"
   },
   {
    "duration": 171,
    "start_time": "2023-06-13T16:12:48.343Z"
   },
   {
    "duration": 120,
    "start_time": "2023-06-13T16:12:48.518Z"
   },
   {
    "duration": 0,
    "start_time": "2023-06-13T16:12:48.640Z"
   },
   {
    "duration": 870,
    "start_time": "2023-06-13T16:15:15.489Z"
   },
   {
    "duration": 819,
    "start_time": "2023-06-13T16:15:27.540Z"
   },
   {
    "duration": 4,
    "start_time": "2023-06-13T16:15:36.397Z"
   },
   {
    "duration": 12,
    "start_time": "2023-06-13T16:15:40.132Z"
   },
   {
    "duration": 11,
    "start_time": "2023-06-13T16:17:14.881Z"
   },
   {
    "duration": 32,
    "start_time": "2023-06-13T16:17:14.894Z"
   },
   {
    "duration": 35,
    "start_time": "2023-06-13T16:17:14.928Z"
   },
   {
    "duration": 58,
    "start_time": "2023-06-13T16:17:14.965Z"
   },
   {
    "duration": 26,
    "start_time": "2023-06-13T16:17:15.025Z"
   },
   {
    "duration": 46,
    "start_time": "2023-06-13T16:17:15.053Z"
   },
   {
    "duration": 183031,
    "start_time": "2023-06-13T16:17:15.101Z"
   },
   {
    "duration": 725,
    "start_time": "2023-06-13T16:20:18.133Z"
   },
   {
    "duration": 2,
    "start_time": "2023-06-13T16:20:18.860Z"
   },
   {
    "duration": 340769,
    "start_time": "2023-06-13T16:20:18.864Z"
   },
   {
    "duration": 929,
    "start_time": "2023-06-13T16:25:59.705Z"
   },
   {
    "duration": 710,
    "start_time": "2023-06-13T16:26:00.637Z"
   },
   {
    "duration": 150,
    "start_time": "2023-06-13T16:26:01.348Z"
   },
   {
    "duration": 57,
    "start_time": "2023-06-13T16:26:01.501Z"
   },
   {
    "duration": 18,
    "start_time": "2023-06-13T16:26:01.560Z"
   },
   {
    "duration": 57,
    "start_time": "2023-06-13T16:26:01.580Z"
   },
   {
    "duration": 107,
    "start_time": "2023-06-13T16:26:01.638Z"
   },
   {
    "duration": 65,
    "start_time": "2023-06-13T16:26:01.747Z"
   },
   {
    "duration": 13,
    "start_time": "2023-06-13T16:26:01.813Z"
   },
   {
    "duration": 190682,
    "start_time": "2023-06-13T16:26:01.830Z"
   },
   {
    "duration": 813,
    "start_time": "2023-06-13T16:29:12.516Z"
   },
   {
    "duration": 4,
    "start_time": "2023-06-13T16:29:13.330Z"
   },
   {
    "duration": 37074,
    "start_time": "2023-06-13T16:29:13.335Z"
   },
   {
    "duration": 518,
    "start_time": "2023-06-13T16:29:50.414Z"
   },
   {
    "duration": 172,
    "start_time": "2023-06-13T16:29:50.934Z"
   },
   {
    "duration": 9,
    "start_time": "2023-06-13T16:29:51.108Z"
   },
   {
    "duration": 148,
    "start_time": "2023-06-13T16:29:51.120Z"
   },
   {
    "duration": 11917,
    "start_time": "2023-06-14T13:53:22.050Z"
   },
   {
    "duration": 20083,
    "start_time": "2023-06-14T13:53:33.970Z"
   },
   {
    "duration": 21,
    "start_time": "2023-06-14T13:55:02.459Z"
   },
   {
    "duration": 13815,
    "start_time": "2023-06-14T13:55:08.051Z"
   },
   {
    "duration": 11,
    "start_time": "2023-06-14T13:58:02.251Z"
   },
   {
    "duration": 9,
    "start_time": "2023-06-14T13:59:55.951Z"
   },
   {
    "duration": 3502,
    "start_time": "2023-06-14T14:00:01.451Z"
   },
   {
    "duration": 1813,
    "start_time": "2023-06-14T14:00:12.952Z"
   },
   {
    "duration": 3605,
    "start_time": "2023-06-14T14:00:15.751Z"
   },
   {
    "duration": 401,
    "start_time": "2023-06-14T14:00:53.653Z"
   },
   {
    "duration": 104,
    "start_time": "2023-06-14T14:03:32.551Z"
   },
   {
    "duration": 612,
    "start_time": "2023-06-14T14:03:34.951Z"
   },
   {
    "duration": 11,
    "start_time": "2023-06-14T14:05:27.551Z"
   },
   {
    "duration": 3,
    "start_time": "2023-06-14T14:05:28.451Z"
   },
   {
    "duration": 75303,
    "start_time": "2023-06-14T14:05:28.750Z"
   },
   {
    "duration": 597,
    "start_time": "2023-06-14T14:06:44.060Z"
   },
   {
    "duration": 16509,
    "start_time": "2023-06-14T14:06:44.659Z"
   },
   {
    "duration": 2193,
    "start_time": "2023-06-14T14:07:01.256Z"
   },
   {
    "duration": 9903,
    "start_time": "2023-06-14T14:07:11.351Z"
   },
   {
    "duration": 1292,
    "start_time": "2023-06-14T14:07:21.262Z"
   },
   {
    "duration": 3398,
    "start_time": "2023-06-14T14:07:22.558Z"
   },
   {
    "duration": 95,
    "start_time": "2023-06-14T14:09:23.166Z"
   },
   {
    "duration": 1206,
    "start_time": "2023-06-14T14:09:23.551Z"
   },
   {
    "duration": 3205,
    "start_time": "2023-06-14T14:09:30.050Z"
   },
   {
    "duration": 0,
    "start_time": "2023-06-14T14:09:33.256Z"
   },
   {
    "duration": 14504,
    "start_time": "2023-06-14T14:10:04.962Z"
   },
   {
    "duration": 21195,
    "start_time": "2023-06-14T14:10:19.475Z"
   },
   {
    "duration": 185,
    "start_time": "2023-06-14T14:10:40.675Z"
   },
   {
    "duration": 103,
    "start_time": "2023-06-14T14:10:40.863Z"
   },
   {
    "duration": 5601,
    "start_time": "2023-06-14T14:10:41.050Z"
   },
   {
    "duration": 11,
    "start_time": "2023-06-14T14:10:46.660Z"
   },
   {
    "duration": 89,
    "start_time": "2023-06-14T14:10:46.672Z"
   },
   {
    "duration": 3795,
    "start_time": "2023-06-14T14:10:46.768Z"
   },
   {
    "duration": 1795,
    "start_time": "2023-06-14T14:10:50.565Z"
   },
   {
    "duration": 2909,
    "start_time": "2023-06-14T14:10:52.366Z"
   },
   {
    "duration": 286,
    "start_time": "2023-06-14T14:10:55.276Z"
   },
   {
    "duration": 592,
    "start_time": "2023-06-14T14:10:55.564Z"
   },
   {
    "duration": 108,
    "start_time": "2023-06-14T14:10:56.159Z"
   },
   {
    "duration": 384,
    "start_time": "2023-06-14T14:10:56.270Z"
   },
   {
    "duration": 8,
    "start_time": "2023-06-14T14:10:56.656Z"
   },
   {
    "duration": 4,
    "start_time": "2023-06-14T14:10:56.749Z"
   },
   {
    "duration": 62401,
    "start_time": "2023-06-14T14:10:56.757Z"
   },
   {
    "duration": 394,
    "start_time": "2023-06-14T14:11:59.166Z"
   },
   {
    "duration": 17512,
    "start_time": "2023-06-14T14:11:59.563Z"
   },
   {
    "duration": 1205,
    "start_time": "2023-06-14T14:12:17.151Z"
   },
   {
    "duration": 7800,
    "start_time": "2023-06-14T14:12:18.359Z"
   },
   {
    "duration": 895,
    "start_time": "2023-06-14T14:12:26.165Z"
   },
   {
    "duration": 4984,
    "start_time": "2023-06-14T14:12:27.068Z"
   },
   {
    "duration": 17,
    "start_time": "2023-06-14T14:12:32.054Z"
   },
   {
    "duration": 814,
    "start_time": "2023-06-14T14:12:32.156Z"
   },
   {
    "duration": 695,
    "start_time": "2023-06-14T14:12:33.056Z"
   },
   {
    "duration": 388,
    "start_time": "2023-06-14T14:16:26.067Z"
   },
   {
    "duration": 50,
    "start_time": "2023-06-14T15:03:15.087Z"
   },
   {
    "duration": 3365,
    "start_time": "2023-06-14T15:03:20.889Z"
   },
   {
    "duration": 20,
    "start_time": "2023-06-14T15:03:24.256Z"
   },
   {
    "duration": 16,
    "start_time": "2023-06-14T15:03:24.279Z"
   },
   {
    "duration": 2858,
    "start_time": "2023-06-14T15:03:25.387Z"
   },
   {
    "duration": 6,
    "start_time": "2023-06-14T15:03:30.211Z"
   },
   {
    "duration": 5,
    "start_time": "2023-06-14T15:03:42.448Z"
   },
   {
    "duration": 4,
    "start_time": "2023-06-14T15:03:45.399Z"
   },
   {
    "duration": 939,
    "start_time": "2023-06-14T15:04:02.649Z"
   },
   {
    "duration": 2802,
    "start_time": "2023-06-16T14:49:31.598Z"
   },
   {
    "duration": 3991,
    "start_time": "2023-06-16T14:49:34.402Z"
   },
   {
    "duration": 73,
    "start_time": "2023-06-16T14:49:38.395Z"
   },
   {
    "duration": 13,
    "start_time": "2023-06-16T14:49:49.240Z"
   },
   {
    "duration": 1300,
    "start_time": "2023-06-16T14:49:49.600Z"
   },
   {
    "duration": 350,
    "start_time": "2023-06-16T14:49:52.344Z"
   },
   {
    "duration": 3,
    "start_time": "2023-06-16T14:50:12.608Z"
   },
   {
    "duration": 4,
    "start_time": "2023-06-16T14:50:23.451Z"
   },
   {
    "duration": 465,
    "start_time": "2023-06-16T14:50:25.568Z"
   },
   {
    "duration": 255,
    "start_time": "2023-06-16T14:50:28.146Z"
   },
   {
    "duration": 17,
    "start_time": "2023-06-16T14:50:50.652Z"
   },
   {
    "duration": 11,
    "start_time": "2023-06-16T14:50:58.392Z"
   },
   {
    "duration": 919,
    "start_time": "2023-06-16T14:50:58.794Z"
   },
   {
    "duration": 2560,
    "start_time": "2023-06-16T14:52:11.632Z"
   },
   {
    "duration": 8,
    "start_time": "2023-06-16T14:52:14.196Z"
   },
   {
    "duration": 39,
    "start_time": "2023-06-16T14:52:14.207Z"
   },
   {
    "duration": 19,
    "start_time": "2023-06-16T14:52:14.390Z"
   },
   {
    "duration": 838,
    "start_time": "2023-06-16T14:52:14.889Z"
   },
   {
    "duration": 5,
    "start_time": "2023-06-16T14:52:17.313Z"
   },
   {
    "duration": 4,
    "start_time": "2023-06-16T14:52:31.726Z"
   },
   {
    "duration": 508,
    "start_time": "2023-06-16T14:55:22.775Z"
   },
   {
    "duration": 250,
    "start_time": "2023-06-16T14:55:23.286Z"
   },
   {
    "duration": 427,
    "start_time": "2023-06-16T14:55:24.361Z"
   },
   {
    "duration": 48,
    "start_time": "2023-06-16T14:55:38.736Z"
   },
   {
    "duration": 6,
    "start_time": "2023-06-16T14:56:13.636Z"
   },
   {
    "duration": 3,
    "start_time": "2023-06-16T14:57:59.811Z"
   },
   {
    "duration": 4,
    "start_time": "2023-06-16T14:58:06.049Z"
   },
   {
    "duration": 4,
    "start_time": "2023-06-16T14:58:10.443Z"
   },
   {
    "duration": 8,
    "start_time": "2023-06-16T14:58:13.693Z"
   },
   {
    "duration": 55,
    "start_time": "2023-06-16T15:01:05.436Z"
   },
   {
    "duration": 2272,
    "start_time": "2023-06-16T15:01:13.894Z"
   },
   {
    "duration": 8,
    "start_time": "2023-06-16T15:01:16.168Z"
   },
   {
    "duration": 41,
    "start_time": "2023-06-16T15:01:16.178Z"
   },
   {
    "duration": 13,
    "start_time": "2023-06-16T15:01:16.222Z"
   },
   {
    "duration": 862,
    "start_time": "2023-06-16T15:01:16.237Z"
   },
   {
    "duration": 6,
    "start_time": "2023-06-16T15:01:17.101Z"
   },
   {
    "duration": 546,
    "start_time": "2023-06-16T15:01:17.108Z"
   },
   {
    "duration": 237,
    "start_time": "2023-06-16T15:01:17.656Z"
   },
   {
    "duration": 437,
    "start_time": "2023-06-16T15:01:17.895Z"
   },
   {
    "duration": 55,
    "start_time": "2023-06-16T15:01:18.333Z"
   },
   {
    "duration": 2218,
    "start_time": "2023-06-16T15:01:48.574Z"
   },
   {
    "duration": 3228,
    "start_time": "2023-06-16T15:01:50.795Z"
   },
   {
    "duration": 5,
    "start_time": "2023-06-16T15:01:54.025Z"
   },
   {
    "duration": 25,
    "start_time": "2023-06-16T15:01:54.032Z"
   },
   {
    "duration": 923,
    "start_time": "2023-06-16T15:01:54.058Z"
   },
   {
    "duration": 294,
    "start_time": "2023-06-16T15:01:54.983Z"
   },
   {
    "duration": 1,
    "start_time": "2023-06-16T15:01:55.278Z"
   },
   {
    "duration": 0,
    "start_time": "2023-06-16T15:01:55.280Z"
   },
   {
    "duration": 0,
    "start_time": "2023-06-16T15:01:55.281Z"
   },
   {
    "duration": 0,
    "start_time": "2023-06-16T15:01:55.282Z"
   },
   {
    "duration": 2224,
    "start_time": "2023-06-16T15:02:09.221Z"
   },
   {
    "duration": 6,
    "start_time": "2023-06-16T15:02:11.448Z"
   },
   {
    "duration": 18,
    "start_time": "2023-06-16T15:02:11.456Z"
   },
   {
    "duration": 15,
    "start_time": "2023-06-16T15:02:11.476Z"
   },
   {
    "duration": 901,
    "start_time": "2023-06-16T15:02:11.493Z"
   },
   {
    "duration": 4,
    "start_time": "2023-06-16T15:02:12.396Z"
   },
   {
    "duration": 613,
    "start_time": "2023-06-16T15:02:12.403Z"
   },
   {
    "duration": 272,
    "start_time": "2023-06-16T15:02:13.021Z"
   },
   {
    "duration": 480,
    "start_time": "2023-06-16T15:02:13.295Z"
   },
   {
    "duration": 53,
    "start_time": "2023-06-16T15:02:13.778Z"
   },
   {
    "duration": 51,
    "start_time": "2023-06-16T15:02:16.121Z"
   },
   {
    "duration": 19,
    "start_time": "2023-06-16T15:02:19.961Z"
   },
   {
    "duration": 69,
    "start_time": "2023-06-16T15:02:20.155Z"
   },
   {
    "duration": 5,
    "start_time": "2023-06-16T15:02:26.226Z"
   },
   {
    "duration": 3,
    "start_time": "2023-06-16T15:02:29.324Z"
   },
   {
    "duration": 12546,
    "start_time": "2023-06-16T15:02:36.851Z"
   },
   {
    "duration": 74,
    "start_time": "2023-06-16T15:02:54.124Z"
   },
   {
    "duration": 151,
    "start_time": "2023-06-16T15:06:55.651Z"
   },
   {
    "duration": 2217,
    "start_time": "2023-06-16T15:07:05.875Z"
   },
   {
    "duration": 241,
    "start_time": "2023-06-16T15:07:08.095Z"
   },
   {
    "duration": 1513,
    "start_time": "2023-06-16T15:07:09.068Z"
   },
   {
    "duration": 181,
    "start_time": "2023-06-16T15:07:10.584Z"
   },
   {
    "duration": 638,
    "start_time": "2023-06-16T15:07:10.766Z"
   },
   {
    "duration": 7,
    "start_time": "2023-06-16T15:07:51.615Z"
   },
   {
    "duration": 90,
    "start_time": "2023-06-16T15:08:07.749Z"
   },
   {
    "duration": 140,
    "start_time": "2023-06-16T15:08:09.970Z"
   },
   {
    "duration": 15,
    "start_time": "2023-06-16T15:08:12.790Z"
   },
   {
    "duration": 34,
    "start_time": "2023-06-16T15:08:13.033Z"
   },
   {
    "duration": 10,
    "start_time": "2023-06-16T15:08:13.420Z"
   },
   {
    "duration": 50,
    "start_time": "2023-06-16T15:08:14.042Z"
   },
   {
    "duration": 3,
    "start_time": "2023-06-16T15:08:38.659Z"
   },
   {
    "duration": 2,
    "start_time": "2023-06-16T15:08:55.817Z"
   },
   {
    "duration": 191824,
    "start_time": "2023-06-16T15:09:07.921Z"
   },
   {
    "duration": 786,
    "start_time": "2023-06-16T15:12:19.747Z"
   },
   {
    "duration": 702,
    "start_time": "2023-06-16T15:15:19.624Z"
   },
   {
    "duration": 2,
    "start_time": "2023-06-16T15:15:21.697Z"
   },
   {
    "duration": 2280,
    "start_time": "2023-06-16T20:20:43.228Z"
   },
   {
    "duration": 8,
    "start_time": "2023-06-16T20:20:45.510Z"
   },
   {
    "duration": 25,
    "start_time": "2023-06-16T20:20:45.520Z"
   },
   {
    "duration": 18,
    "start_time": "2023-06-16T20:20:45.547Z"
   },
   {
    "duration": 800,
    "start_time": "2023-06-16T20:20:45.566Z"
   },
   {
    "duration": 2,
    "start_time": "2023-06-16T20:20:46.368Z"
   },
   {
    "duration": 474,
    "start_time": "2023-06-16T20:20:46.371Z"
   },
   {
    "duration": 242,
    "start_time": "2023-06-16T20:20:46.846Z"
   },
   {
    "duration": 415,
    "start_time": "2023-06-16T20:20:47.089Z"
   },
   {
    "duration": 56,
    "start_time": "2023-06-16T20:20:47.507Z"
   },
   {
    "duration": 62,
    "start_time": "2023-06-16T20:20:47.565Z"
   },
   {
    "duration": 37,
    "start_time": "2023-06-16T20:20:47.629Z"
   },
   {
    "duration": 87,
    "start_time": "2023-06-16T20:20:47.668Z"
   },
   {
    "duration": 7,
    "start_time": "2023-06-16T20:20:47.756Z"
   },
   {
    "duration": 15,
    "start_time": "2023-06-16T20:20:47.764Z"
   },
   {
    "duration": 12004,
    "start_time": "2023-06-16T20:20:47.781Z"
   },
   {
    "duration": 68,
    "start_time": "2023-06-16T20:20:59.787Z"
   },
   {
    "duration": 2081,
    "start_time": "2023-06-16T20:20:59.857Z"
   },
   {
    "duration": 231,
    "start_time": "2023-06-16T20:21:01.939Z"
   },
   {
    "duration": 1405,
    "start_time": "2023-06-16T20:21:02.171Z"
   },
   {
    "duration": 160,
    "start_time": "2023-06-16T20:21:03.578Z"
   },
   {
    "duration": 597,
    "start_time": "2023-06-16T20:21:03.740Z"
   },
   {
    "duration": 16,
    "start_time": "2023-06-16T20:21:04.339Z"
   },
   {
    "duration": 174,
    "start_time": "2023-06-16T20:21:04.356Z"
   },
   {
    "duration": 128,
    "start_time": "2023-06-16T20:21:04.531Z"
   },
   {
    "duration": 42,
    "start_time": "2023-06-16T20:21:04.660Z"
   },
   {
    "duration": 24,
    "start_time": "2023-06-16T20:21:04.703Z"
   },
   {
    "duration": 25,
    "start_time": "2023-06-16T20:21:04.729Z"
   },
   {
    "duration": 193057,
    "start_time": "2023-06-16T20:21:04.755Z"
   },
   {
    "duration": 733,
    "start_time": "2023-06-16T20:24:17.814Z"
   },
   {
    "duration": 31,
    "start_time": "2023-06-16T20:26:31.595Z"
   },
   {
    "duration": 151814,
    "start_time": "2023-06-16T20:26:42.244Z"
   },
   {
    "duration": 1012,
    "start_time": "2023-06-16T20:29:14.060Z"
   },
   {
    "duration": 851,
    "start_time": "2023-06-16T20:29:15.074Z"
   },
   {
    "duration": 16,
    "start_time": "2023-06-16T20:29:15.928Z"
   },
   {
    "duration": 22,
    "start_time": "2023-06-16T20:29:15.945Z"
   },
   {
    "duration": 91,
    "start_time": "2023-06-16T20:36:23.294Z"
   },
   {
    "duration": 6,
    "start_time": "2023-06-16T20:36:23.650Z"
   },
   {
    "duration": 16,
    "start_time": "2023-06-16T20:36:24.019Z"
   },
   {
    "duration": 17,
    "start_time": "2023-06-16T20:36:24.398Z"
   },
   {
    "duration": 9,
    "start_time": "2023-06-16T20:37:38.616Z"
   },
   {
    "duration": 59,
    "start_time": "2023-06-16T20:37:53.730Z"
   },
   {
    "duration": 4,
    "start_time": "2023-06-16T20:37:53.959Z"
   },
   {
    "duration": 3,
    "start_time": "2023-06-16T20:37:54.194Z"
   },
   {
    "duration": 17,
    "start_time": "2023-06-16T20:37:54.700Z"
   },
   {
    "duration": 4,
    "start_time": "2023-06-16T20:38:43.875Z"
   },
   {
    "duration": 15524,
    "start_time": "2023-06-16T20:38:44.983Z"
   },
   {
    "duration": 16,
    "start_time": "2023-06-16T20:39:16.581Z"
   },
   {
    "duration": 1889,
    "start_time": "2023-06-16T20:39:48.520Z"
   },
   {
    "duration": 2,
    "start_time": "2023-06-16T20:57:42.950Z"
   },
   {
    "duration": 3,
    "start_time": "2023-06-16T20:58:06.997Z"
   },
   {
    "duration": 15,
    "start_time": "2023-06-16T21:04:50.724Z"
   },
   {
    "duration": 65,
    "start_time": "2023-06-16T21:04:56.393Z"
   },
   {
    "duration": 60,
    "start_time": "2023-06-16T21:05:37.644Z"
   },
   {
    "duration": 6,
    "start_time": "2023-06-16T21:06:01.577Z"
   },
   {
    "duration": 11,
    "start_time": "2023-06-16T21:06:50.947Z"
   },
   {
    "duration": 63,
    "start_time": "2023-06-16T21:06:51.489Z"
   },
   {
    "duration": 31955,
    "start_time": "2023-06-16T21:06:51.946Z"
   },
   {
    "duration": 99,
    "start_time": "2023-06-16T21:07:41.991Z"
   },
   {
    "duration": 2,
    "start_time": "2023-06-16T21:21:45.517Z"
   },
   {
    "duration": 3,
    "start_time": "2023-06-16T21:21:52.732Z"
   },
   {
    "duration": 2,
    "start_time": "2023-06-16T21:26:24.643Z"
   },
   {
    "duration": 3,
    "start_time": "2023-06-16T21:26:33.015Z"
   },
   {
    "duration": 9895,
    "start_time": "2023-06-16T21:26:41.376Z"
   },
   {
    "duration": 9903,
    "start_time": "2023-06-16T21:27:28.856Z"
   },
   {
    "duration": 2,
    "start_time": "2023-06-16T21:31:59.248Z"
   },
   {
    "duration": 7397,
    "start_time": "2023-06-16T21:32:12.065Z"
   },
   {
    "duration": 2,
    "start_time": "2023-06-16T21:32:24.956Z"
   },
   {
    "duration": 2,
    "start_time": "2023-06-16T21:32:30.477Z"
   },
   {
    "duration": 76,
    "start_time": "2023-06-16T21:36:01.895Z"
   },
   {
    "duration": 78,
    "start_time": "2023-06-16T21:36:12.061Z"
   },
   {
    "duration": 64,
    "start_time": "2023-06-16T21:38:43.433Z"
   },
   {
    "duration": 6,
    "start_time": "2023-06-16T21:38:44.772Z"
   },
   {
    "duration": 3,
    "start_time": "2023-06-16T21:38:45.087Z"
   },
   {
    "duration": 3,
    "start_time": "2023-06-16T21:38:45.457Z"
   },
   {
    "duration": 6,
    "start_time": "2023-06-16T21:38:46.007Z"
   },
   {
    "duration": 23,
    "start_time": "2023-06-16T21:38:56.441Z"
   },
   {
    "duration": 89,
    "start_time": "2023-06-16T21:39:39.134Z"
   },
   {
    "duration": 6,
    "start_time": "2023-06-16T21:39:41.565Z"
   },
   {
    "duration": 4,
    "start_time": "2023-06-16T21:39:43.623Z"
   },
   {
    "duration": 4,
    "start_time": "2023-06-16T21:39:45.461Z"
   },
   {
    "duration": 5,
    "start_time": "2023-06-16T21:39:57.147Z"
   },
   {
    "duration": 26,
    "start_time": "2023-06-16T21:40:08.676Z"
   },
   {
    "duration": 11,
    "start_time": "2023-06-16T21:40:42.816Z"
   },
   {
    "duration": 2295,
    "start_time": "2023-06-16T21:40:57.437Z"
   },
   {
    "duration": 9,
    "start_time": "2023-06-16T21:40:59.735Z"
   },
   {
    "duration": 28,
    "start_time": "2023-06-16T21:40:59.745Z"
   },
   {
    "duration": 17,
    "start_time": "2023-06-16T21:40:59.776Z"
   },
   {
    "duration": 791,
    "start_time": "2023-06-16T21:40:59.795Z"
   },
   {
    "duration": 3,
    "start_time": "2023-06-16T21:41:00.588Z"
   },
   {
    "duration": 477,
    "start_time": "2023-06-16T21:41:00.593Z"
   },
   {
    "duration": 248,
    "start_time": "2023-06-16T21:41:01.072Z"
   },
   {
    "duration": 444,
    "start_time": "2023-06-16T21:41:01.322Z"
   },
   {
    "duration": 50,
    "start_time": "2023-06-16T21:41:01.768Z"
   },
   {
    "duration": 83,
    "start_time": "2023-06-16T21:41:01.821Z"
   },
   {
    "duration": 20,
    "start_time": "2023-06-16T21:41:01.906Z"
   },
   {
    "duration": 97,
    "start_time": "2023-06-16T21:41:01.928Z"
   },
   {
    "duration": 12,
    "start_time": "2023-06-16T21:41:02.029Z"
   },
   {
    "duration": 40,
    "start_time": "2023-06-16T21:41:02.043Z"
   },
   {
    "duration": 12376,
    "start_time": "2023-06-16T21:41:02.085Z"
   },
   {
    "duration": 76,
    "start_time": "2023-06-16T21:41:14.463Z"
   },
   {
    "duration": 2066,
    "start_time": "2023-06-16T21:41:14.540Z"
   },
   {
    "duration": 236,
    "start_time": "2023-06-16T21:41:16.608Z"
   },
   {
    "duration": 1446,
    "start_time": "2023-06-16T21:41:16.853Z"
   },
   {
    "duration": 188,
    "start_time": "2023-06-16T21:41:18.301Z"
   },
   {
    "duration": 639,
    "start_time": "2023-06-16T21:41:18.492Z"
   },
   {
    "duration": 21,
    "start_time": "2023-06-16T21:41:19.133Z"
   },
   {
    "duration": 186,
    "start_time": "2023-06-16T21:41:19.156Z"
   },
   {
    "duration": 140,
    "start_time": "2023-06-16T21:41:19.344Z"
   },
   {
    "duration": 49,
    "start_time": "2023-06-16T21:41:19.486Z"
   },
   {
    "duration": 41,
    "start_time": "2023-06-16T21:41:19.537Z"
   },
   {
    "duration": 7,
    "start_time": "2023-06-16T21:41:19.580Z"
   },
   {
    "duration": 74,
    "start_time": "2023-06-16T21:41:19.589Z"
   },
   {
    "duration": 181312,
    "start_time": "2023-06-16T21:41:19.665Z"
   },
   {
    "duration": 368,
    "start_time": "2023-06-16T21:44:20.978Z"
   },
   {
    "duration": 7,
    "start_time": "2023-06-16T21:44:21.347Z"
   },
   {
    "duration": 26,
    "start_time": "2023-06-16T21:44:21.356Z"
   },
   {
    "duration": 22,
    "start_time": "2023-06-16T21:44:21.383Z"
   },
   {
    "duration": 35753,
    "start_time": "2023-06-16T21:44:21.406Z"
   },
   {
    "duration": 619,
    "start_time": "2023-06-16T21:44:57.161Z"
   },
   {
    "duration": 0,
    "start_time": "2023-06-16T21:44:57.782Z"
   },
   {
    "duration": 0,
    "start_time": "2023-06-16T21:44:57.784Z"
   },
   {
    "duration": 0,
    "start_time": "2023-06-16T21:44:57.785Z"
   },
   {
    "duration": 0,
    "start_time": "2023-06-16T21:44:57.787Z"
   },
   {
    "duration": 8,
    "start_time": "2023-06-16T21:47:31.157Z"
   },
   {
    "duration": 40464,
    "start_time": "2023-06-16T21:47:34.996Z"
   },
   {
    "duration": 518,
    "start_time": "2023-06-16T21:48:15.462Z"
   },
   {
    "duration": 529,
    "start_time": "2023-06-16T21:48:58.233Z"
   },
   {
    "duration": 26,
    "start_time": "2023-06-16T21:49:05.924Z"
   },
   {
    "duration": 57,
    "start_time": "2023-06-16T21:49:09.309Z"
   },
   {
    "duration": 9,
    "start_time": "2023-06-16T21:49:10.266Z"
   },
   {
    "duration": 3,
    "start_time": "2023-06-16T21:49:10.831Z"
   },
   {
    "duration": 3,
    "start_time": "2023-06-16T21:49:11.296Z"
   },
   {
    "duration": 6,
    "start_time": "2023-06-16T21:49:12.091Z"
   },
   {
    "duration": 21,
    "start_time": "2023-06-16T21:49:14.633Z"
   },
   {
    "duration": 56,
    "start_time": "2023-06-16T21:50:18.489Z"
   },
   {
    "duration": 11,
    "start_time": "2023-06-16T21:50:19.296Z"
   },
   {
    "duration": 4,
    "start_time": "2023-06-16T21:50:19.913Z"
   },
   {
    "duration": 3,
    "start_time": "2023-06-16T21:50:20.492Z"
   },
   {
    "duration": 7,
    "start_time": "2023-06-16T21:50:21.117Z"
   },
   {
    "duration": 25,
    "start_time": "2023-06-16T21:50:22.227Z"
   },
   {
    "duration": 240687,
    "start_time": "2023-06-16T21:51:21.068Z"
   },
   {
    "duration": 0,
    "start_time": "2023-06-16T21:55:21.757Z"
   },
   {
    "duration": 2226,
    "start_time": "2023-06-16T21:55:48.221Z"
   },
   {
    "duration": 3210,
    "start_time": "2023-06-16T21:55:50.450Z"
   },
   {
    "duration": 6,
    "start_time": "2023-06-16T21:55:53.661Z"
   },
   {
    "duration": 22,
    "start_time": "2023-06-16T21:55:53.669Z"
   },
   {
    "duration": 882,
    "start_time": "2023-06-16T21:55:53.693Z"
   },
   {
    "duration": 3,
    "start_time": "2023-06-16T21:55:54.577Z"
   },
   {
    "duration": 486,
    "start_time": "2023-06-16T21:55:54.582Z"
   },
   {
    "duration": 244,
    "start_time": "2023-06-16T21:55:55.070Z"
   },
   {
    "duration": 457,
    "start_time": "2023-06-16T21:55:55.316Z"
   },
   {
    "duration": 50,
    "start_time": "2023-06-16T21:55:55.775Z"
   },
   {
    "duration": 68,
    "start_time": "2023-06-16T21:55:55.827Z"
   },
   {
    "duration": 19,
    "start_time": "2023-06-16T21:55:55.897Z"
   },
   {
    "duration": 144,
    "start_time": "2023-06-16T21:55:55.917Z"
   },
   {
    "duration": 8,
    "start_time": "2023-06-16T21:55:56.064Z"
   },
   {
    "duration": 25,
    "start_time": "2023-06-16T21:55:56.074Z"
   },
   {
    "duration": 12338,
    "start_time": "2023-06-16T21:55:56.101Z"
   },
   {
    "duration": 77,
    "start_time": "2023-06-16T21:56:08.441Z"
   },
   {
    "duration": 2104,
    "start_time": "2023-06-16T21:56:08.520Z"
   },
   {
    "duration": 228,
    "start_time": "2023-06-16T21:56:10.626Z"
   },
   {
    "duration": 1425,
    "start_time": "2023-06-16T21:56:10.856Z"
   },
   {
    "duration": 221,
    "start_time": "2023-06-16T21:56:12.282Z"
   },
   {
    "duration": 654,
    "start_time": "2023-06-16T21:56:12.504Z"
   },
   {
    "duration": 12,
    "start_time": "2023-06-16T21:56:13.160Z"
   },
   {
    "duration": 195,
    "start_time": "2023-06-16T21:56:13.174Z"
   },
   {
    "duration": 144,
    "start_time": "2023-06-16T21:56:13.370Z"
   },
   {
    "duration": 66,
    "start_time": "2023-06-16T21:56:13.516Z"
   },
   {
    "duration": 28,
    "start_time": "2023-06-16T21:56:13.584Z"
   },
   {
    "duration": 10,
    "start_time": "2023-06-16T21:56:13.614Z"
   },
   {
    "duration": 85,
    "start_time": "2023-06-16T21:56:13.626Z"
   },
   {
    "duration": 185932,
    "start_time": "2023-06-16T21:56:13.714Z"
   },
   {
    "duration": 361,
    "start_time": "2023-06-16T21:59:19.648Z"
   },
   {
    "duration": 3,
    "start_time": "2023-06-16T21:59:20.010Z"
   },
   {
    "duration": 18,
    "start_time": "2023-06-16T21:59:20.015Z"
   },
   {
    "duration": 26,
    "start_time": "2023-06-16T21:59:20.035Z"
   },
   {
    "duration": 7497,
    "start_time": "2023-06-16T21:59:20.063Z"
   },
   {
    "duration": 516,
    "start_time": "2023-06-16T21:59:27.562Z"
   },
   {
    "duration": 3,
    "start_time": "2023-06-16T21:59:28.081Z"
   },
   {
    "duration": 69,
    "start_time": "2023-06-16T21:59:28.085Z"
   },
   {
    "duration": 19,
    "start_time": "2023-06-16T21:59:28.156Z"
   },
   {
    "duration": 82,
    "start_time": "2023-06-16T21:59:28.177Z"
   },
   {
    "duration": 8,
    "start_time": "2023-06-16T21:59:28.262Z"
   },
   {
    "duration": 22,
    "start_time": "2023-06-16T21:59:28.271Z"
   },
   {
    "duration": 26,
    "start_time": "2023-06-16T21:59:28.295Z"
   },
   {
    "duration": 271788,
    "start_time": "2023-06-16T21:59:28.323Z"
   },
   {
    "duration": 0,
    "start_time": "2023-06-16T22:04:00.113Z"
   },
   {
    "duration": 0,
    "start_time": "2023-06-16T22:04:00.115Z"
   },
   {
    "duration": 0,
    "start_time": "2023-06-16T22:04:00.116Z"
   },
   {
    "duration": 127017,
    "start_time": "2023-06-16T22:04:42.257Z"
   },
   {
    "duration": 78,
    "start_time": "2023-06-16T22:10:37.592Z"
   },
   {
    "duration": 4,
    "start_time": "2023-06-16T22:10:54.788Z"
   },
   {
    "duration": 23,
    "start_time": "2023-06-16T22:11:54.450Z"
   },
   {
    "duration": 19,
    "start_time": "2023-06-16T22:12:30.965Z"
   },
   {
    "duration": 32625,
    "start_time": "2023-06-16T22:12:51.967Z"
   },
   {
    "duration": 18,
    "start_time": "2023-06-16T22:13:28.612Z"
   },
   {
    "duration": 272418,
    "start_time": "2023-06-16T22:13:55.930Z"
   },
   {
    "duration": 0,
    "start_time": "2023-06-16T22:18:28.350Z"
   },
   {
    "duration": 78,
    "start_time": "2023-06-16T22:18:30.341Z"
   },
   {
    "duration": 1430,
    "start_time": "2023-06-16T22:18:37.415Z"
   },
   {
    "duration": 105,
    "start_time": "2023-06-16T22:18:42.682Z"
   },
   {
    "duration": 92,
    "start_time": "2023-06-16T22:18:56.216Z"
   },
   {
    "duration": 26492,
    "start_time": "2023-06-16T22:19:02.253Z"
   },
   {
    "duration": 127,
    "start_time": "2023-06-16T22:19:33.021Z"
   },
   {
    "duration": 51686,
    "start_time": "2023-06-16T22:19:56.098Z"
   },
   {
    "duration": 157,
    "start_time": "2023-06-16T22:20:47.786Z"
   },
   {
    "duration": 26897,
    "start_time": "2023-06-16T22:20:57.399Z"
   },
   {
    "duration": 134,
    "start_time": "2023-06-16T22:21:24.298Z"
   },
   {
    "duration": 593608,
    "start_time": "2023-06-16T22:26:23.514Z"
   },
   {
    "duration": 19,
    "start_time": "2023-06-16T22:39:04.321Z"
   },
   {
    "duration": 9697,
    "start_time": "2023-06-16T22:39:31.505Z"
   },
   {
    "duration": 150,
    "start_time": "2023-06-16T22:39:43.322Z"
   },
   {
    "duration": 2333,
    "start_time": "2023-06-16T22:40:34.324Z"
   },
   {
    "duration": 7584101,
    "start_time": "2023-06-16T22:41:55.993Z"
   },
   {
    "duration": 3,
    "start_time": "2023-06-17T04:16:51.170Z"
   },
   {
    "duration": 3,
    "start_time": "2023-06-17T04:17:12.394Z"
   },
   {
    "duration": 19,
    "start_time": "2023-06-17T04:20:39.375Z"
   },
   {
    "duration": 3,
    "start_time": "2023-06-17T04:20:42.823Z"
   },
   {
    "duration": 64557,
    "start_time": "2023-06-17T04:20:44.044Z"
   },
   {
    "duration": 64060,
    "start_time": "2023-06-17T04:22:54.283Z"
   },
   {
    "duration": 6,
    "start_time": "2023-06-17T04:24:38.593Z"
   },
   {
    "duration": 51,
    "start_time": "2023-06-17T04:24:39.412Z"
   },
   {
    "duration": 177745,
    "start_time": "2023-06-17T04:24:40.908Z"
   },
   {
    "duration": 3,
    "start_time": "2023-06-17T04:27:38.655Z"
   },
   {
    "duration": 19,
    "start_time": "2023-06-17T04:27:38.659Z"
   },
   {
    "duration": 64841,
    "start_time": "2023-06-17T04:27:38.680Z"
   },
   {
    "duration": 64170,
    "start_time": "2023-06-17T04:29:07.328Z"
   },
   {
    "duration": 339468,
    "start_time": "2023-06-17T04:32:33.805Z"
   },
   {
    "duration": 3,
    "start_time": "2023-06-17T04:38:21.364Z"
   },
   {
    "duration": 3,
    "start_time": "2023-06-17T04:39:05.853Z"
   },
   {
    "duration": 4,
    "start_time": "2023-06-17T04:39:06.019Z"
   },
   {
    "duration": 246803,
    "start_time": "2023-06-17T04:39:08.177Z"
   },
   {
    "duration": 3,
    "start_time": "2023-06-17T04:46:16.007Z"
   },
   {
    "duration": 5,
    "start_time": "2023-06-17T04:46:16.353Z"
   },
   {
    "duration": 249487,
    "start_time": "2023-06-17T04:46:17.872Z"
   },
   {
    "duration": 699793,
    "start_time": "2023-06-17T04:54:29.073Z"
   },
   {
    "duration": 24,
    "start_time": "2023-06-17T05:07:13.288Z"
   },
   {
    "duration": 91,
    "start_time": "2023-06-17T05:08:41.758Z"
   },
   {
    "duration": 3,
    "start_time": "2023-06-17T05:09:02.126Z"
   },
   {
    "duration": 7,
    "start_time": "2023-06-17T05:09:26.912Z"
   },
   {
    "duration": 268243,
    "start_time": "2023-06-17T05:09:51.222Z"
   },
   {
    "duration": 588,
    "start_time": "2023-06-17T05:16:13.074Z"
   },
   {
    "duration": 461283,
    "start_time": "2023-06-17T06:56:33.690Z"
   },
   {
    "duration": 3,
    "start_time": "2023-06-17T07:07:03.620Z"
   },
   {
    "duration": 24,
    "start_time": "2023-06-17T07:11:57.272Z"
   },
   {
    "duration": 3,
    "start_time": "2023-06-17T07:14:48.110Z"
   },
   {
    "duration": 3,
    "start_time": "2023-06-17T07:14:49.608Z"
   },
   {
    "duration": 5,
    "start_time": "2023-06-17T07:14:50.757Z"
   },
   {
    "duration": 70236,
    "start_time": "2023-06-17T07:14:51.623Z"
   },
   {
    "duration": 0,
    "start_time": "2023-06-17T07:16:01.861Z"
   },
   {
    "duration": 0,
    "start_time": "2023-06-17T07:16:01.862Z"
   },
   {
    "duration": 0,
    "start_time": "2023-06-17T07:16:01.863Z"
   },
   {
    "duration": 0,
    "start_time": "2023-06-17T07:16:01.865Z"
   },
   {
    "duration": 0,
    "start_time": "2023-06-17T07:16:01.866Z"
   },
   {
    "duration": 0,
    "start_time": "2023-06-17T07:16:01.867Z"
   },
   {
    "duration": 13,
    "start_time": "2023-06-17T07:16:14.801Z"
   },
   {
    "duration": 39,
    "start_time": "2023-06-17T07:16:14.817Z"
   },
   {
    "duration": 9,
    "start_time": "2023-06-17T07:16:14.858Z"
   },
   {
    "duration": 64,
    "start_time": "2023-06-17T07:16:14.869Z"
   },
   {
    "duration": 25,
    "start_time": "2023-06-17T07:16:14.935Z"
   },
   {
    "duration": 9,
    "start_time": "2023-06-17T07:16:14.962Z"
   },
   {
    "duration": 57,
    "start_time": "2023-06-17T07:16:14.973Z"
   },
   {
    "duration": 179501,
    "start_time": "2023-06-17T07:16:15.032Z"
   },
   {
    "duration": 359,
    "start_time": "2023-06-17T07:19:14.535Z"
   },
   {
    "duration": 4,
    "start_time": "2023-06-17T07:19:14.896Z"
   },
   {
    "duration": 6962,
    "start_time": "2023-06-17T07:19:14.901Z"
   },
   {
    "duration": 602,
    "start_time": "2023-06-17T07:19:21.865Z"
   },
   {
    "duration": 2,
    "start_time": "2023-06-17T07:19:22.469Z"
   },
   {
    "duration": 112,
    "start_time": "2023-06-17T07:19:22.473Z"
   },
   {
    "duration": 7,
    "start_time": "2023-06-17T07:19:22.587Z"
   },
   {
    "duration": 18,
    "start_time": "2023-06-17T07:19:22.596Z"
   },
   {
    "duration": 24,
    "start_time": "2023-06-17T07:19:22.616Z"
   },
   {
    "duration": 25485,
    "start_time": "2023-06-17T07:19:22.642Z"
   },
   {
    "duration": 119,
    "start_time": "2023-06-17T07:19:48.129Z"
   },
   {
    "duration": 3,
    "start_time": "2023-06-17T07:19:48.254Z"
   },
   {
    "duration": 37,
    "start_time": "2023-06-17T07:19:48.259Z"
   },
   {
    "duration": 33,
    "start_time": "2023-06-17T07:19:48.298Z"
   },
   {
    "duration": 248623,
    "start_time": "2023-06-17T07:19:48.333Z"
   },
   {
    "duration": 2,
    "start_time": "2023-06-17T07:23:56.958Z"
   },
   {
    "duration": 235910,
    "start_time": "2023-06-17T07:23:56.962Z"
   },
   {
    "duration": 516,
    "start_time": "2023-06-17T07:27:52.953Z"
   },
   {
    "duration": 3,
    "start_time": "2023-06-17T07:27:53.471Z"
   },
   {
    "duration": 73,
    "start_time": "2023-06-17T07:27:53.476Z"
   },
   {
    "duration": 56,
    "start_time": "2023-06-17T07:27:53.551Z"
   },
   {
    "duration": 300378,
    "start_time": "2023-06-17T07:32:53.475Z"
   },
   {
    "duration": 604,
    "start_time": "2023-06-17T07:37:53.856Z"
   },
   {
    "duration": 24,
    "start_time": "2023-06-17T07:38:06.327Z"
   },
   {
    "duration": 4260,
    "start_time": "2023-06-17T07:38:57.250Z"
   },
   {
    "duration": 3299,
    "start_time": "2023-06-17T07:39:01.513Z"
   },
   {
    "duration": 7,
    "start_time": "2023-06-17T07:39:04.813Z"
   },
   {
    "duration": 62,
    "start_time": "2023-06-17T07:39:04.822Z"
   },
   {
    "duration": 904,
    "start_time": "2023-06-17T07:39:04.886Z"
   },
   {
    "duration": 3,
    "start_time": "2023-06-17T07:39:05.792Z"
   },
   {
    "duration": 492,
    "start_time": "2023-06-17T07:39:05.796Z"
   },
   {
    "duration": 245,
    "start_time": "2023-06-17T07:39:06.289Z"
   },
   {
    "duration": 485,
    "start_time": "2023-06-17T07:39:06.536Z"
   },
   {
    "duration": 57,
    "start_time": "2023-06-17T07:39:07.024Z"
   },
   {
    "duration": 53,
    "start_time": "2023-06-17T07:39:07.083Z"
   },
   {
    "duration": 32,
    "start_time": "2023-06-17T07:39:07.138Z"
   },
   {
    "duration": 89,
    "start_time": "2023-06-17T07:39:07.171Z"
   },
   {
    "duration": 10,
    "start_time": "2023-06-17T07:39:07.261Z"
   },
   {
    "duration": 14,
    "start_time": "2023-06-17T07:39:07.273Z"
   },
   {
    "duration": 12233,
    "start_time": "2023-06-17T07:39:07.289Z"
   },
   {
    "duration": 82,
    "start_time": "2023-06-17T07:39:19.524Z"
   },
   {
    "duration": 2135,
    "start_time": "2023-06-17T07:39:19.607Z"
   },
   {
    "duration": 242,
    "start_time": "2023-06-17T07:39:21.744Z"
   },
   {
    "duration": 1503,
    "start_time": "2023-06-17T07:39:21.987Z"
   },
   {
    "duration": 181,
    "start_time": "2023-06-17T07:39:23.492Z"
   },
   {
    "duration": 627,
    "start_time": "2023-06-17T07:39:23.675Z"
   },
   {
    "duration": 12,
    "start_time": "2023-06-17T07:39:24.304Z"
   },
   {
    "duration": 201,
    "start_time": "2023-06-17T07:39:24.318Z"
   },
   {
    "duration": 127,
    "start_time": "2023-06-17T07:39:24.521Z"
   },
   {
    "duration": 44,
    "start_time": "2023-06-17T07:39:24.653Z"
   },
   {
    "duration": 25,
    "start_time": "2023-06-17T07:39:24.699Z"
   },
   {
    "duration": 29,
    "start_time": "2023-06-17T07:39:24.727Z"
   },
   {
    "duration": 72,
    "start_time": "2023-06-17T07:39:24.758Z"
   },
   {
    "duration": 178550,
    "start_time": "2023-06-17T07:39:24.832Z"
   },
   {
    "duration": 359,
    "start_time": "2023-06-17T07:42:23.384Z"
   },
   {
    "duration": 11,
    "start_time": "2023-06-17T07:42:23.745Z"
   },
   {
    "duration": 7202,
    "start_time": "2023-06-17T07:42:23.758Z"
   },
   {
    "duration": 598,
    "start_time": "2023-06-17T07:42:30.962Z"
   },
   {
    "duration": 2,
    "start_time": "2023-06-17T07:42:31.562Z"
   },
   {
    "duration": 120,
    "start_time": "2023-06-17T07:42:31.566Z"
   },
   {
    "duration": 9,
    "start_time": "2023-06-17T07:42:31.688Z"
   },
   {
    "duration": 28,
    "start_time": "2023-06-17T07:42:31.699Z"
   },
   {
    "duration": 26,
    "start_time": "2023-06-17T07:42:31.729Z"
   },
   {
    "duration": 25707,
    "start_time": "2023-06-17T07:42:31.757Z"
   },
   {
    "duration": 128,
    "start_time": "2023-06-17T07:42:57.466Z"
   },
   {
    "duration": 3,
    "start_time": "2023-06-17T07:42:57.596Z"
   },
   {
    "duration": 29,
    "start_time": "2023-06-17T07:42:57.600Z"
   },
   {
    "duration": 29,
    "start_time": "2023-06-17T07:42:57.631Z"
   },
   {
    "duration": 254105,
    "start_time": "2023-06-17T07:42:57.661Z"
   },
   {
    "duration": 3,
    "start_time": "2023-06-17T07:47:11.768Z"
   },
   {
    "duration": 257985,
    "start_time": "2023-06-17T07:47:11.772Z"
   },
   {
    "duration": 598,
    "start_time": "2023-06-17T07:51:29.758Z"
   },
   {
    "duration": 3,
    "start_time": "2023-06-17T07:51:30.358Z"
   },
   {
    "duration": 55,
    "start_time": "2023-06-17T07:51:30.362Z"
   },
   {
    "duration": 47,
    "start_time": "2023-06-17T07:51:30.419Z"
   },
   {
    "duration": 509,
    "start_time": "2023-06-17T07:56:19.516Z"
   },
   {
    "duration": 1004,
    "start_time": "2023-06-18T08:05:48.785Z"
   },
   {
    "duration": 3,
    "start_time": "2023-06-18T08:05:58.642Z"
   },
   {
    "duration": 7,
    "start_time": "2023-06-18T08:05:59.921Z"
   },
   {
    "duration": 8795,
    "start_time": "2023-06-18T08:06:14.327Z"
   },
   {
    "duration": 2526,
    "start_time": "2023-06-18T08:06:23.125Z"
   },
   {
    "duration": 32,
    "start_time": "2023-06-18T08:06:25.653Z"
   },
   {
    "duration": 17,
    "start_time": "2023-06-18T08:06:25.688Z"
   },
   {
    "duration": 1213,
    "start_time": "2023-06-18T08:06:25.710Z"
   },
   {
    "duration": 3,
    "start_time": "2023-06-18T08:06:26.924Z"
   },
   {
    "duration": 434,
    "start_time": "2023-06-18T08:06:26.928Z"
   },
   {
    "duration": 211,
    "start_time": "2023-06-18T08:06:27.363Z"
   },
   {
    "duration": 396,
    "start_time": "2023-06-18T08:06:27.576Z"
   },
   {
    "duration": 57,
    "start_time": "2023-06-18T08:06:27.974Z"
   },
   {
    "duration": 44,
    "start_time": "2023-06-18T08:06:28.033Z"
   },
   {
    "duration": 39,
    "start_time": "2023-06-18T08:06:28.079Z"
   },
   {
    "duration": 66,
    "start_time": "2023-06-18T08:06:28.119Z"
   },
   {
    "duration": 8,
    "start_time": "2023-06-18T08:06:28.188Z"
   },
   {
    "duration": 7,
    "start_time": "2023-06-18T08:06:35.568Z"
   },
   {
    "duration": 3,
    "start_time": "2023-06-18T08:06:37.781Z"
   },
   {
    "duration": 424,
    "start_time": "2023-06-18T08:06:38.928Z"
   },
   {
    "duration": 168,
    "start_time": "2023-06-18T08:10:08.567Z"
   },
   {
    "duration": 4,
    "start_time": "2023-06-18T08:10:15.134Z"
   },
   {
    "duration": 3,
    "start_time": "2023-06-18T08:10:22.627Z"
   },
   {
    "duration": 149,
    "start_time": "2023-06-18T08:10:22.847Z"
   },
   {
    "duration": 15,
    "start_time": "2023-06-18T08:10:23.082Z"
   },
   {
    "duration": 16,
    "start_time": "2023-06-18T08:10:30.943Z"
   },
   {
    "duration": 4,
    "start_time": "2023-06-18T08:10:48.926Z"
   },
   {
    "duration": 16,
    "start_time": "2023-06-18T08:12:01.962Z"
   },
   {
    "duration": 17,
    "start_time": "2023-06-18T08:12:05.192Z"
   },
   {
    "duration": 4098,
    "start_time": "2023-06-18T08:12:17.613Z"
   },
   {
    "duration": 15,
    "start_time": "2023-06-18T08:12:21.713Z"
   },
   {
    "duration": 44,
    "start_time": "2023-06-18T08:12:21.730Z"
   },
   {
    "duration": 19,
    "start_time": "2023-06-18T08:12:21.776Z"
   },
   {
    "duration": 725,
    "start_time": "2023-06-18T08:12:21.797Z"
   },
   {
    "duration": 2,
    "start_time": "2023-06-18T08:12:22.523Z"
   },
   {
    "duration": 409,
    "start_time": "2023-06-18T08:12:22.526Z"
   },
   {
    "duration": 214,
    "start_time": "2023-06-18T08:12:22.937Z"
   },
   {
    "duration": 372,
    "start_time": "2023-06-18T08:12:23.153Z"
   },
   {
    "duration": 48,
    "start_time": "2023-06-18T08:12:23.527Z"
   },
   {
    "duration": 111,
    "start_time": "2023-06-18T08:12:23.576Z"
   },
   {
    "duration": 72,
    "start_time": "2023-06-18T08:12:23.689Z"
   },
   {
    "duration": 79,
    "start_time": "2023-06-18T08:12:23.763Z"
   },
   {
    "duration": 7,
    "start_time": "2023-06-18T08:12:23.845Z"
   },
   {
    "duration": 145,
    "start_time": "2023-06-18T08:12:23.853Z"
   },
   {
    "duration": 33,
    "start_time": "2023-06-18T08:12:24.000Z"
   },
   {
    "duration": 3,
    "start_time": "2023-06-18T08:12:28.936Z"
   },
   {
    "duration": 158,
    "start_time": "2023-06-18T08:12:30.538Z"
   },
   {
    "duration": 15,
    "start_time": "2023-06-18T08:12:37.026Z"
   },
   {
    "duration": 4387,
    "start_time": "2023-06-18T08:12:43.686Z"
   },
   {
    "duration": 8,
    "start_time": "2023-06-18T08:12:48.076Z"
   },
   {
    "duration": 93,
    "start_time": "2023-06-18T08:12:48.086Z"
   },
   {
    "duration": 27,
    "start_time": "2023-06-18T08:12:48.182Z"
   },
   {
    "duration": 895,
    "start_time": "2023-06-18T08:12:48.218Z"
   },
   {
    "duration": 2,
    "start_time": "2023-06-18T08:12:49.116Z"
   },
   {
    "duration": 497,
    "start_time": "2023-06-18T08:12:49.119Z"
   },
   {
    "duration": 221,
    "start_time": "2023-06-18T08:12:49.618Z"
   },
   {
    "duration": 411,
    "start_time": "2023-06-18T08:12:49.840Z"
   },
   {
    "duration": 62,
    "start_time": "2023-06-18T08:12:50.254Z"
   },
   {
    "duration": 53,
    "start_time": "2023-06-18T08:12:50.318Z"
   },
   {
    "duration": 44,
    "start_time": "2023-06-18T08:12:50.373Z"
   },
   {
    "duration": 101,
    "start_time": "2023-06-18T08:12:50.418Z"
   },
   {
    "duration": 31,
    "start_time": "2023-06-18T08:12:50.520Z"
   },
   {
    "duration": 33,
    "start_time": "2023-06-18T08:12:50.553Z"
   },
   {
    "duration": 46,
    "start_time": "2023-06-18T08:12:50.588Z"
   },
   {
    "duration": 5,
    "start_time": "2023-06-18T08:20:23.891Z"
   },
   {
    "duration": 108,
    "start_time": "2023-06-18T08:20:26.515Z"
   },
   {
    "duration": 8,
    "start_time": "2023-06-18T08:20:43.490Z"
   },
   {
    "duration": 5,
    "start_time": "2023-06-18T08:20:51.033Z"
   },
   {
    "duration": 96,
    "start_time": "2023-06-18T08:20:54.072Z"
   },
   {
    "duration": 5,
    "start_time": "2023-06-18T08:23:44.474Z"
   },
   {
    "duration": 48979,
    "start_time": "2023-06-18T08:24:10.316Z"
   },
   {
    "duration": 5,
    "start_time": "2023-06-18T08:27:12.470Z"
   },
   {
    "duration": 4252,
    "start_time": "2023-06-18T08:28:31.855Z"
   },
   {
    "duration": 3943,
    "start_time": "2023-06-18T08:28:36.113Z"
   },
   {
    "duration": 30,
    "start_time": "2023-06-18T08:28:40.057Z"
   },
   {
    "duration": 38,
    "start_time": "2023-06-18T08:28:40.089Z"
   },
   {
    "duration": 1139,
    "start_time": "2023-06-18T08:28:40.129Z"
   },
   {
    "duration": 2,
    "start_time": "2023-06-18T08:28:41.270Z"
   },
   {
    "duration": 435,
    "start_time": "2023-06-18T08:28:41.274Z"
   },
   {
    "duration": 210,
    "start_time": "2023-06-18T08:28:41.710Z"
   },
   {
    "duration": 439,
    "start_time": "2023-06-18T08:28:41.922Z"
   },
   {
    "duration": 56,
    "start_time": "2023-06-18T08:28:42.363Z"
   },
   {
    "duration": 66,
    "start_time": "2023-06-18T08:28:42.421Z"
   },
   {
    "duration": 34,
    "start_time": "2023-06-18T08:28:42.489Z"
   },
   {
    "duration": 92,
    "start_time": "2023-06-18T08:28:42.525Z"
   },
   {
    "duration": 3,
    "start_time": "2023-06-18T08:28:42.620Z"
   },
   {
    "duration": 8,
    "start_time": "2023-06-18T08:28:42.625Z"
   },
   {
    "duration": 12,
    "start_time": "2023-06-18T08:28:42.635Z"
   },
   {
    "duration": 389,
    "start_time": "2023-06-18T08:28:58.263Z"
   },
   {
    "duration": 9,
    "start_time": "2023-06-18T08:29:50.872Z"
   },
   {
    "duration": 5018,
    "start_time": "2023-06-18T08:29:59.521Z"
   },
   {
    "duration": 8,
    "start_time": "2023-06-18T08:30:04.541Z"
   },
   {
    "duration": 10,
    "start_time": "2023-06-18T08:30:04.550Z"
   },
   {
    "duration": 11,
    "start_time": "2023-06-18T08:30:04.562Z"
   },
   {
    "duration": 758,
    "start_time": "2023-06-18T08:30:04.575Z"
   },
   {
    "duration": 3,
    "start_time": "2023-06-18T08:30:05.335Z"
   },
   {
    "duration": 425,
    "start_time": "2023-06-18T08:30:05.340Z"
   },
   {
    "duration": 237,
    "start_time": "2023-06-18T08:30:05.767Z"
   },
   {
    "duration": 463,
    "start_time": "2023-06-18T08:30:06.014Z"
   },
   {
    "duration": 50,
    "start_time": "2023-06-18T08:30:06.480Z"
   },
   {
    "duration": 49,
    "start_time": "2023-06-18T08:30:06.531Z"
   },
   {
    "duration": 36,
    "start_time": "2023-06-18T08:30:06.581Z"
   },
   {
    "duration": 70,
    "start_time": "2023-06-18T08:30:06.619Z"
   },
   {
    "duration": 28,
    "start_time": "2023-06-18T08:30:06.691Z"
   },
   {
    "duration": 9,
    "start_time": "2023-06-18T08:30:06.721Z"
   },
   {
    "duration": 11,
    "start_time": "2023-06-18T08:30:06.732Z"
   },
   {
    "duration": 50170,
    "start_time": "2023-06-18T08:30:11.710Z"
   },
   {
    "duration": 8,
    "start_time": "2023-06-18T08:31:36.378Z"
   },
   {
    "duration": 4048,
    "start_time": "2023-06-18T08:32:27.825Z"
   },
   {
    "duration": 4462,
    "start_time": "2023-06-18T08:32:31.875Z"
   },
   {
    "duration": 34,
    "start_time": "2023-06-18T08:32:36.340Z"
   },
   {
    "duration": 22,
    "start_time": "2023-06-18T08:32:36.376Z"
   },
   {
    "duration": 1257,
    "start_time": "2023-06-18T08:32:36.400Z"
   },
   {
    "duration": 2,
    "start_time": "2023-06-18T08:32:37.659Z"
   },
   {
    "duration": 457,
    "start_time": "2023-06-18T08:32:37.663Z"
   },
   {
    "duration": 205,
    "start_time": "2023-06-18T08:32:38.122Z"
   },
   {
    "duration": 387,
    "start_time": "2023-06-18T08:32:38.329Z"
   },
   {
    "duration": 46,
    "start_time": "2023-06-18T08:32:38.717Z"
   },
   {
    "duration": 58,
    "start_time": "2023-06-18T08:32:38.765Z"
   },
   {
    "duration": 17,
    "start_time": "2023-06-18T08:32:38.824Z"
   },
   {
    "duration": 84,
    "start_time": "2023-06-18T08:32:38.843Z"
   },
   {
    "duration": 5,
    "start_time": "2023-06-18T08:32:38.929Z"
   },
   {
    "duration": 12,
    "start_time": "2023-06-18T08:32:38.935Z"
   },
   {
    "duration": 34,
    "start_time": "2023-06-18T08:32:38.949Z"
   },
   {
    "duration": 4362,
    "start_time": "2023-06-18T08:32:47.094Z"
   },
   {
    "duration": 3397,
    "start_time": "2023-06-18T08:32:51.458Z"
   },
   {
    "duration": 6,
    "start_time": "2023-06-18T08:32:54.857Z"
   },
   {
    "duration": 32,
    "start_time": "2023-06-18T08:32:54.865Z"
   },
   {
    "duration": 893,
    "start_time": "2023-06-18T08:32:54.901Z"
   },
   {
    "duration": 3,
    "start_time": "2023-06-18T08:32:55.795Z"
   },
   {
    "duration": 719,
    "start_time": "2023-06-18T08:32:55.803Z"
   },
   {
    "duration": 233,
    "start_time": "2023-06-18T08:32:56.524Z"
   },
   {
    "duration": 418,
    "start_time": "2023-06-18T08:32:56.758Z"
   },
   {
    "duration": 57,
    "start_time": "2023-06-18T08:32:57.178Z"
   },
   {
    "duration": 45,
    "start_time": "2023-06-18T08:32:57.237Z"
   },
   {
    "duration": 42,
    "start_time": "2023-06-18T08:32:57.283Z"
   },
   {
    "duration": 59,
    "start_time": "2023-06-18T08:32:57.326Z"
   },
   {
    "duration": 3,
    "start_time": "2023-06-18T08:32:57.387Z"
   },
   {
    "duration": 29,
    "start_time": "2023-06-18T08:32:57.392Z"
   },
   {
    "duration": 23,
    "start_time": "2023-06-18T08:32:57.423Z"
   },
   {
    "duration": 48621,
    "start_time": "2023-06-18T08:32:57.448Z"
   },
   {
    "duration": 17,
    "start_time": "2023-06-18T08:35:27.533Z"
   },
   {
    "duration": 60,
    "start_time": "2023-06-18T08:35:34.934Z"
   },
   {
    "duration": 7,
    "start_time": "2023-06-18T08:37:55.577Z"
   },
   {
    "duration": 6108,
    "start_time": "2023-06-18T08:38:00.213Z"
   },
   {
    "duration": 4398,
    "start_time": "2023-06-18T08:38:34.378Z"
   },
   {
    "duration": 10,
    "start_time": "2023-06-18T08:38:38.778Z"
   },
   {
    "duration": 52,
    "start_time": "2023-06-18T08:38:38.790Z"
   },
   {
    "duration": 34,
    "start_time": "2023-06-18T08:38:38.843Z"
   },
   {
    "duration": 866,
    "start_time": "2023-06-18T08:38:38.879Z"
   },
   {
    "duration": 2,
    "start_time": "2023-06-18T08:38:39.747Z"
   },
   {
    "duration": 483,
    "start_time": "2023-06-18T08:38:39.750Z"
   },
   {
    "duration": 211,
    "start_time": "2023-06-18T08:38:40.235Z"
   },
   {
    "duration": 378,
    "start_time": "2023-06-18T08:38:40.448Z"
   },
   {
    "duration": 38,
    "start_time": "2023-06-18T08:38:40.828Z"
   },
   {
    "duration": 66,
    "start_time": "2023-06-18T08:38:40.868Z"
   },
   {
    "duration": 28,
    "start_time": "2023-06-18T08:38:40.936Z"
   },
   {
    "duration": 132,
    "start_time": "2023-06-18T08:38:40.966Z"
   },
   {
    "duration": 5,
    "start_time": "2023-06-18T08:38:41.101Z"
   },
   {
    "duration": 33,
    "start_time": "2023-06-18T08:38:41.110Z"
   },
   {
    "duration": 13,
    "start_time": "2023-06-18T08:38:41.145Z"
   },
   {
    "duration": 16,
    "start_time": "2023-06-18T08:38:41.160Z"
   },
   {
    "duration": 6200,
    "start_time": "2023-06-18T08:38:58.224Z"
   },
   {
    "duration": 9,
    "start_time": "2023-06-18T08:41:23.671Z"
   },
   {
    "duration": 8,
    "start_time": "2023-06-18T08:41:27.034Z"
   },
   {
    "duration": 6336,
    "start_time": "2023-06-18T08:41:36.592Z"
   },
   {
    "duration": 5158,
    "start_time": "2023-06-18T08:41:55.865Z"
   },
   {
    "duration": 15,
    "start_time": "2023-06-18T08:42:01.025Z"
   },
   {
    "duration": 140,
    "start_time": "2023-06-18T08:42:01.042Z"
   },
   {
    "duration": 109,
    "start_time": "2023-06-18T08:42:01.184Z"
   },
   {
    "duration": 1056,
    "start_time": "2023-06-18T08:42:01.296Z"
   },
   {
    "duration": 2,
    "start_time": "2023-06-18T08:42:02.354Z"
   },
   {
    "duration": 605,
    "start_time": "2023-06-18T08:42:02.362Z"
   },
   {
    "duration": 241,
    "start_time": "2023-06-18T08:42:02.969Z"
   },
   {
    "duration": 573,
    "start_time": "2023-06-18T08:42:03.212Z"
   },
   {
    "duration": 50,
    "start_time": "2023-06-18T08:42:03.786Z"
   },
   {
    "duration": 68,
    "start_time": "2023-06-18T08:42:03.837Z"
   },
   {
    "duration": 105,
    "start_time": "2023-06-18T08:42:03.906Z"
   },
   {
    "duration": 136,
    "start_time": "2023-06-18T08:42:04.012Z"
   },
   {
    "duration": 22,
    "start_time": "2023-06-18T08:42:04.151Z"
   },
   {
    "duration": 52,
    "start_time": "2023-06-18T08:42:04.175Z"
   },
   {
    "duration": 46,
    "start_time": "2023-06-18T08:42:04.229Z"
   },
   {
    "duration": 21,
    "start_time": "2023-06-18T08:42:04.276Z"
   },
   {
    "duration": 4704,
    "start_time": "2023-06-18T08:43:17.027Z"
   },
   {
    "duration": 4642,
    "start_time": "2023-06-18T08:43:21.734Z"
   },
   {
    "duration": 60,
    "start_time": "2023-06-18T08:43:26.378Z"
   },
   {
    "duration": 10,
    "start_time": "2023-06-18T08:43:26.440Z"
   },
   {
    "duration": 1314,
    "start_time": "2023-06-18T08:43:26.451Z"
   },
   {
    "duration": 2,
    "start_time": "2023-06-18T08:43:27.766Z"
   },
   {
    "duration": 499,
    "start_time": "2023-06-18T08:43:27.770Z"
   },
   {
    "duration": 214,
    "start_time": "2023-06-18T08:43:28.270Z"
   },
   {
    "duration": 435,
    "start_time": "2023-06-18T08:43:28.485Z"
   },
   {
    "duration": 46,
    "start_time": "2023-06-18T08:43:28.921Z"
   },
   {
    "duration": 76,
    "start_time": "2023-06-18T08:43:28.968Z"
   },
   {
    "duration": 15,
    "start_time": "2023-06-18T08:43:29.046Z"
   },
   {
    "duration": 76,
    "start_time": "2023-06-18T08:43:29.063Z"
   },
   {
    "duration": 9,
    "start_time": "2023-06-18T08:43:29.142Z"
   },
   {
    "duration": 5,
    "start_time": "2023-06-18T08:43:29.152Z"
   },
   {
    "duration": 9,
    "start_time": "2023-06-18T08:43:29.159Z"
   },
   {
    "duration": 10,
    "start_time": "2023-06-18T08:43:29.170Z"
   },
   {
    "duration": 21989,
    "start_time": "2023-06-18T08:43:34.585Z"
   },
   {
    "duration": 0,
    "start_time": "2023-06-18T08:43:56.576Z"
   },
   {
    "duration": 73,
    "start_time": "2023-06-18T08:44:12.858Z"
   },
   {
    "duration": 4145,
    "start_time": "2023-06-18T08:44:55.017Z"
   },
   {
    "duration": 3121,
    "start_time": "2023-06-18T08:44:59.164Z"
   },
   {
    "duration": 6,
    "start_time": "2023-06-18T08:45:02.287Z"
   },
   {
    "duration": 57,
    "start_time": "2023-06-18T08:45:02.302Z"
   },
   {
    "duration": 771,
    "start_time": "2023-06-18T08:45:02.362Z"
   },
   {
    "duration": 2,
    "start_time": "2023-06-18T08:45:03.135Z"
   },
   {
    "duration": 428,
    "start_time": "2023-06-18T08:45:03.138Z"
   },
   {
    "duration": 205,
    "start_time": "2023-06-18T08:45:03.568Z"
   },
   {
    "duration": 378,
    "start_time": "2023-06-18T08:45:03.774Z"
   },
   {
    "duration": 51,
    "start_time": "2023-06-18T08:45:04.154Z"
   },
   {
    "duration": 52,
    "start_time": "2023-06-18T08:45:04.206Z"
   },
   {
    "duration": 16,
    "start_time": "2023-06-18T08:45:04.260Z"
   },
   {
    "duration": 82,
    "start_time": "2023-06-18T08:45:04.278Z"
   },
   {
    "duration": 3,
    "start_time": "2023-06-18T08:45:04.362Z"
   },
   {
    "duration": 9,
    "start_time": "2023-06-18T08:45:04.366Z"
   },
   {
    "duration": 10,
    "start_time": "2023-06-18T08:45:04.376Z"
   },
   {
    "duration": 32,
    "start_time": "2023-06-18T08:45:04.387Z"
   },
   {
    "duration": 19042,
    "start_time": "2023-06-18T08:45:04.421Z"
   },
   {
    "duration": 4355,
    "start_time": "2023-06-18T08:46:50.904Z"
   },
   {
    "duration": 11,
    "start_time": "2023-06-18T08:46:55.262Z"
   },
   {
    "duration": 11,
    "start_time": "2023-06-18T08:46:55.274Z"
   },
   {
    "duration": 31,
    "start_time": "2023-06-18T08:46:55.286Z"
   },
   {
    "duration": 831,
    "start_time": "2023-06-18T08:46:55.321Z"
   },
   {
    "duration": 2,
    "start_time": "2023-06-18T08:46:56.155Z"
   },
   {
    "duration": 566,
    "start_time": "2023-06-18T08:46:56.158Z"
   },
   {
    "duration": 201,
    "start_time": "2023-06-18T08:46:56.726Z"
   },
   {
    "duration": 340,
    "start_time": "2023-06-18T08:46:56.928Z"
   },
   {
    "duration": 56,
    "start_time": "2023-06-18T08:46:57.270Z"
   },
   {
    "duration": 56,
    "start_time": "2023-06-18T08:46:57.328Z"
   },
   {
    "duration": 35,
    "start_time": "2023-06-18T08:46:57.386Z"
   },
   {
    "duration": 116,
    "start_time": "2023-06-18T08:46:57.422Z"
   },
   {
    "duration": 14,
    "start_time": "2023-06-18T08:46:57.541Z"
   },
   {
    "duration": 9,
    "start_time": "2023-06-18T08:46:57.557Z"
   },
   {
    "duration": 8,
    "start_time": "2023-06-18T08:46:57.568Z"
   },
   {
    "duration": 10,
    "start_time": "2023-06-18T08:46:57.578Z"
   },
   {
    "duration": 5001,
    "start_time": "2023-06-18T08:47:31.238Z"
   },
   {
    "duration": 4211,
    "start_time": "2023-06-18T08:47:36.242Z"
   },
   {
    "duration": 35,
    "start_time": "2023-06-18T08:47:40.455Z"
   },
   {
    "duration": 59,
    "start_time": "2023-06-18T08:47:40.493Z"
   },
   {
    "duration": 1417,
    "start_time": "2023-06-18T08:47:40.555Z"
   },
   {
    "duration": 2,
    "start_time": "2023-06-18T08:47:41.975Z"
   },
   {
    "duration": 435,
    "start_time": "2023-06-18T08:47:41.979Z"
   },
   {
    "duration": 240,
    "start_time": "2023-06-18T08:47:42.416Z"
   },
   {
    "duration": 507,
    "start_time": "2023-06-18T08:47:42.658Z"
   },
   {
    "duration": 71,
    "start_time": "2023-06-18T08:47:43.169Z"
   },
   {
    "duration": 69,
    "start_time": "2023-06-18T08:47:43.242Z"
   },
   {
    "duration": 33,
    "start_time": "2023-06-18T08:47:43.312Z"
   },
   {
    "duration": 96,
    "start_time": "2023-06-18T08:47:43.349Z"
   },
   {
    "duration": 22,
    "start_time": "2023-06-18T08:47:43.447Z"
   },
   {
    "duration": 62,
    "start_time": "2023-06-18T08:47:43.471Z"
   },
   {
    "duration": 36,
    "start_time": "2023-06-18T08:47:43.537Z"
   },
   {
    "duration": 11,
    "start_time": "2023-06-18T08:47:43.575Z"
   },
   {
    "duration": 26844,
    "start_time": "2023-06-18T08:47:43.587Z"
   },
   {
    "duration": 73,
    "start_time": "2023-06-18T08:48:13.595Z"
   },
   {
    "duration": 85,
    "start_time": "2023-06-18T08:48:17.096Z"
   },
   {
    "duration": 293,
    "start_time": "2023-06-18T08:48:20.137Z"
   },
   {
    "duration": 2365,
    "start_time": "2023-06-18T08:48:44.961Z"
   },
   {
    "duration": 229,
    "start_time": "2023-06-18T08:49:03.660Z"
   },
   {
    "duration": 1344,
    "start_time": "2023-06-18T08:49:04.045Z"
   },
   {
    "duration": 189,
    "start_time": "2023-06-18T08:49:05.391Z"
   },
   {
    "duration": 580,
    "start_time": "2023-06-18T08:49:05.582Z"
   },
   {
    "duration": 10,
    "start_time": "2023-06-18T08:49:07.835Z"
   },
   {
    "duration": 170,
    "start_time": "2023-06-18T08:49:08.324Z"
   },
   {
    "duration": 170,
    "start_time": "2023-06-18T08:49:08.856Z"
   },
   {
    "duration": 62,
    "start_time": "2023-06-18T08:49:09.394Z"
   },
   {
    "duration": 26,
    "start_time": "2023-06-18T08:49:10.863Z"
   },
   {
    "duration": 5635,
    "start_time": "2023-06-18T08:51:43.022Z"
   },
   {
    "duration": 4202,
    "start_time": "2023-06-18T08:51:48.659Z"
   },
   {
    "duration": 6,
    "start_time": "2023-06-18T08:51:52.862Z"
   },
   {
    "duration": 15,
    "start_time": "2023-06-18T08:51:52.870Z"
   },
   {
    "duration": 1011,
    "start_time": "2023-06-18T08:51:52.887Z"
   },
   {
    "duration": 6,
    "start_time": "2023-06-18T08:51:53.903Z"
   },
   {
    "duration": 600,
    "start_time": "2023-06-18T08:51:53.916Z"
   },
   {
    "duration": 258,
    "start_time": "2023-06-18T08:51:54.521Z"
   },
   {
    "duration": 487,
    "start_time": "2023-06-18T08:51:54.781Z"
   },
   {
    "duration": 77,
    "start_time": "2023-06-18T08:51:55.270Z"
   },
   {
    "duration": 103,
    "start_time": "2023-06-18T08:51:55.354Z"
   },
   {
    "duration": 17,
    "start_time": "2023-06-18T08:51:55.462Z"
   },
   {
    "duration": 200,
    "start_time": "2023-06-18T08:51:55.481Z"
   },
   {
    "duration": 3,
    "start_time": "2023-06-18T08:51:55.685Z"
   },
   {
    "duration": 59,
    "start_time": "2023-06-18T08:51:55.690Z"
   },
   {
    "duration": 15,
    "start_time": "2023-06-18T08:51:55.750Z"
   },
   {
    "duration": 13,
    "start_time": "2023-06-18T08:51:55.767Z"
   },
   {
    "duration": 26880,
    "start_time": "2023-06-18T08:51:55.782Z"
   },
   {
    "duration": 75,
    "start_time": "2023-06-18T08:52:22.664Z"
   },
   {
    "duration": 59,
    "start_time": "2023-06-18T08:52:22.741Z"
   },
   {
    "duration": 2502,
    "start_time": "2023-06-18T08:52:22.801Z"
   },
   {
    "duration": 249,
    "start_time": "2023-06-18T08:52:25.304Z"
   },
   {
    "duration": 1505,
    "start_time": "2023-06-18T08:52:25.555Z"
   },
   {
    "duration": 176,
    "start_time": "2023-06-18T08:52:27.061Z"
   },
   {
    "duration": 739,
    "start_time": "2023-06-18T08:52:27.239Z"
   },
   {
    "duration": 24,
    "start_time": "2023-06-18T08:52:27.979Z"
   },
   {
    "duration": 274,
    "start_time": "2023-06-18T08:52:28.018Z"
   },
   {
    "duration": 122,
    "start_time": "2023-06-18T08:52:28.304Z"
   },
   {
    "duration": 48,
    "start_time": "2023-06-18T08:52:28.428Z"
   },
   {
    "duration": 7,
    "start_time": "2023-06-18T08:52:28.478Z"
   },
   {
    "duration": 80,
    "start_time": "2023-06-18T08:52:28.507Z"
   },
   {
    "duration": 214527,
    "start_time": "2023-06-18T08:52:28.597Z"
   },
   {
    "duration": 314,
    "start_time": "2023-06-18T08:56:03.125Z"
   },
   {
    "duration": 4,
    "start_time": "2023-06-18T08:56:03.441Z"
   },
   {
    "duration": 1070478,
    "start_time": "2023-06-18T08:56:03.447Z"
   },
   {
    "duration": 612,
    "start_time": "2023-06-18T09:13:53.928Z"
   },
   {
    "duration": 3,
    "start_time": "2023-06-18T09:13:54.541Z"
   },
   {
    "duration": 77,
    "start_time": "2023-06-18T09:13:54.545Z"
   },
   {
    "duration": 11,
    "start_time": "2023-06-18T09:13:54.633Z"
   },
   {
    "duration": 55,
    "start_time": "2023-06-18T09:13:54.646Z"
   },
   {
    "duration": 84,
    "start_time": "2023-06-18T09:13:54.709Z"
   },
   {
    "duration": 24181,
    "start_time": "2023-06-18T09:13:54.795Z"
   },
   {
    "duration": 111,
    "start_time": "2023-06-18T09:14:18.978Z"
   },
   {
    "duration": 18,
    "start_time": "2023-06-18T09:14:19.091Z"
   },
   {
    "duration": 16,
    "start_time": "2023-06-18T09:14:19.121Z"
   },
   {
    "duration": 8,
    "start_time": "2023-06-18T09:14:19.138Z"
   },
   {
    "duration": 322931,
    "start_time": "2023-06-18T09:14:19.148Z"
   },
   {
    "duration": 3,
    "start_time": "2023-06-18T09:19:42.081Z"
   },
   {
    "duration": 18494046,
    "start_time": "2023-06-18T09:19:42.086Z"
   },
   {
    "duration": 0,
    "start_time": "2023-06-18T14:27:56.134Z"
   },
   {
    "duration": 0,
    "start_time": "2023-06-18T14:27:56.138Z"
   },
   {
    "duration": 0,
    "start_time": "2023-06-18T14:27:56.139Z"
   },
   {
    "duration": 0,
    "start_time": "2023-06-18T14:27:56.141Z"
   },
   {
    "duration": 0,
    "start_time": "2023-06-18T14:27:56.142Z"
   },
   {
    "duration": 35,
    "start_time": "2023-06-18T14:28:30.987Z"
   },
   {
    "duration": 296598,
    "start_time": "2023-06-18T14:29:04.223Z"
   },
   {
    "duration": 92925,
    "start_time": "2023-06-18T14:34:20.092Z"
   },
   {
    "duration": 5844149,
    "start_time": "2023-06-18T14:35:58.957Z"
   },
   {
    "duration": 445,
    "start_time": "2023-06-18T17:56:25.755Z"
   },
   {
    "duration": 3,
    "start_time": "2023-06-18T17:56:26.817Z"
   },
   {
    "duration": 3,
    "start_time": "2023-06-18T17:56:27.929Z"
   },
   {
    "duration": 8,
    "start_time": "2023-06-18T17:56:28.937Z"
   },
   {
    "duration": 399,
    "start_time": "2023-06-18T17:56:29.360Z"
   }
  ],
  "kernelspec": {
   "display_name": "Python 3 (ipykernel)",
   "language": "python",
   "name": "python3"
  },
  "language_info": {
   "codemirror_mode": {
    "name": "ipython",
    "version": 3
   },
   "file_extension": ".py",
   "mimetype": "text/x-python",
   "name": "python",
   "nbconvert_exporter": "python",
   "pygments_lexer": "ipython3",
   "version": "3.10.9"
  },
  "toc": {
   "base_numbering": 1,
   "nav_menu": {},
   "number_sections": true,
   "sideBar": true,
   "skip_h1_title": true,
   "title_cell": "Table of Contents",
   "title_sidebar": "Contents",
   "toc_cell": false,
   "toc_position": {},
   "toc_section_display": true,
   "toc_window_display": false
  }
 },
 "nbformat": 4,
 "nbformat_minor": 2
}
