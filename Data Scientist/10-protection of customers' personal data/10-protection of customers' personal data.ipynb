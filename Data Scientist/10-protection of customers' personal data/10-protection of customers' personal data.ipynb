{
 "cells": [
  {
   "cell_type": "markdown",
   "metadata": {
    "toc": true
   },
   "source": [
    "<h1>Содержание<span class=\"tocSkip\"></span></h1>\n",
    "<div class=\"toc\"><ul class=\"toc-item\"><li><span><a href=\"#Загрузка-данных\" data-toc-modified-id=\"Загрузка-данных-1\"><span class=\"toc-item-num\">1&nbsp;&nbsp;</span>Загрузка данных</a></span></li><li><span><a href=\"#Умножение-матриц\" data-toc-modified-id=\"Умножение-матриц-2\"><span class=\"toc-item-num\">2&nbsp;&nbsp;</span>Умножение матриц</a></span></li><li><span><a href=\"#Алгоритм-преобразования\" data-toc-modified-id=\"Алгоритм-преобразования-3\"><span class=\"toc-item-num\">3&nbsp;&nbsp;</span>Алгоритм преобразования</a></span></li><li><span><a href=\"#Проверка-алгоритма\" data-toc-modified-id=\"Проверка-алгоритма-4\"><span class=\"toc-item-num\">4&nbsp;&nbsp;</span>Проверка алгоритма</a></span></li><li><span><a href=\"#Чек-лист-проверки\" data-toc-modified-id=\"Чек-лист-проверки-5\"><span class=\"toc-item-num\">5&nbsp;&nbsp;</span>Чек-лист проверки</a></span></li></ul></div>"
   ]
  },
  {
   "cell_type": "markdown",
   "metadata": {},
   "source": [
    "# Защита персональных данных клиентов"
   ]
  },
  {
   "cell_type": "markdown",
   "metadata": {},
   "source": [
    "Вам нужно защитить данные клиентов страховой компании «Хоть потоп». Разработайте такой метод преобразования данных, чтобы по ним было сложно восстановить персональную информацию. Обоснуйте корректность его работы.\n",
    "\n",
    "Нужно защитить данные, чтобы при преобразовании качество моделей машинного обучения не ухудшилось. Подбирать наилучшую модель не требуется."
   ]
  },
  {
   "cell_type": "markdown",
   "metadata": {},
   "source": [
    "## Загрузка данных"
   ]
  },
  {
   "cell_type": "code",
   "execution_count": 2,
   "metadata": {},
   "outputs": [],
   "source": [
    "\n",
    "# Подключим все необходимые библиотеки \n",
    "import pandas as pd\n",
    "import numpy as np\n",
    "import matplotlib.pyplot as plt\n",
    "import seaborn as sns\n",
    "import os\n",
    "import urllib.request\n",
    "from pathlib import Path\n",
    "from sklearn.model_selection import train_test_split\n",
    "from sklearn.linear_model import LinearRegression\n",
    "from sklearn.preprocessing import StandardScaler\n",
    "from sklearn.metrics import r2_score, mean_squared_error"
   ]
  },
  {
   "cell_type": "code",
   "execution_count": 3,
   "metadata": {},
   "outputs": [],
   "source": [
    "df = pd.read_csv('/datasets/insurance.csv')"
   ]
  },
  {
   "cell_type": "markdown",
   "metadata": {},
   "source": [
    "<div class=\"alert alert-success\">\n",
    "<b>Комментарий ревьюера ✔️:</b> Огонь, данные на месте:)</div>"
   ]
  },
  {
   "cell_type": "code",
   "execution_count": 4,
   "metadata": {},
   "outputs": [
    {
     "name": "stdout",
     "output_type": "stream",
     "text": [
      "<class 'pandas.core.frame.DataFrame'>\n",
      "RangeIndex: 5000 entries, 0 to 4999\n",
      "Data columns (total 5 columns):\n",
      " #   Column             Non-Null Count  Dtype  \n",
      "---  ------             --------------  -----  \n",
      " 0   Пол                5000 non-null   int64  \n",
      " 1   Возраст            5000 non-null   float64\n",
      " 2   Зарплата           5000 non-null   float64\n",
      " 3   Члены семьи        5000 non-null   int64  \n",
      " 4   Страховые выплаты  5000 non-null   int64  \n",
      "dtypes: float64(2), int64(3)\n",
      "memory usage: 195.4 KB\n"
     ]
    }
   ],
   "source": [
    "df.info()"
   ]
  },
  {
   "cell_type": "code",
   "execution_count": 5,
   "metadata": {},
   "outputs": [
    {
     "data": {
      "text/html": [
       "<div>\n",
       "<style scoped>\n",
       "    .dataframe tbody tr th:only-of-type {\n",
       "        vertical-align: middle;\n",
       "    }\n",
       "\n",
       "    .dataframe tbody tr th {\n",
       "        vertical-align: top;\n",
       "    }\n",
       "\n",
       "    .dataframe thead th {\n",
       "        text-align: right;\n",
       "    }\n",
       "</style>\n",
       "<table border=\"1\" class=\"dataframe\">\n",
       "  <thead>\n",
       "    <tr style=\"text-align: right;\">\n",
       "      <th></th>\n",
       "      <th>Пол</th>\n",
       "      <th>Возраст</th>\n",
       "      <th>Зарплата</th>\n",
       "      <th>Члены семьи</th>\n",
       "      <th>Страховые выплаты</th>\n",
       "    </tr>\n",
       "  </thead>\n",
       "  <tbody>\n",
       "    <tr>\n",
       "      <th>0</th>\n",
       "      <td>1</td>\n",
       "      <td>41.0</td>\n",
       "      <td>49600.0</td>\n",
       "      <td>1</td>\n",
       "      <td>0</td>\n",
       "    </tr>\n",
       "    <tr>\n",
       "      <th>1</th>\n",
       "      <td>0</td>\n",
       "      <td>46.0</td>\n",
       "      <td>38000.0</td>\n",
       "      <td>1</td>\n",
       "      <td>1</td>\n",
       "    </tr>\n",
       "    <tr>\n",
       "      <th>2</th>\n",
       "      <td>0</td>\n",
       "      <td>29.0</td>\n",
       "      <td>21000.0</td>\n",
       "      <td>0</td>\n",
       "      <td>0</td>\n",
       "    </tr>\n",
       "    <tr>\n",
       "      <th>3</th>\n",
       "      <td>0</td>\n",
       "      <td>21.0</td>\n",
       "      <td>41700.0</td>\n",
       "      <td>2</td>\n",
       "      <td>0</td>\n",
       "    </tr>\n",
       "    <tr>\n",
       "      <th>4</th>\n",
       "      <td>1</td>\n",
       "      <td>28.0</td>\n",
       "      <td>26100.0</td>\n",
       "      <td>0</td>\n",
       "      <td>0</td>\n",
       "    </tr>\n",
       "  </tbody>\n",
       "</table>\n",
       "</div>"
      ],
      "text/plain": [
       "   Пол  Возраст  Зарплата  Члены семьи  Страховые выплаты\n",
       "0    1     41.0   49600.0            1                  0\n",
       "1    0     46.0   38000.0            1                  1\n",
       "2    0     29.0   21000.0            0                  0\n",
       "3    0     21.0   41700.0            2                  0\n",
       "4    1     28.0   26100.0            0                  0"
      ]
     },
     "metadata": {},
     "output_type": "display_data"
    },
    {
     "data": {
      "text/html": [
       "<div>\n",
       "<style scoped>\n",
       "    .dataframe tbody tr th:only-of-type {\n",
       "        vertical-align: middle;\n",
       "    }\n",
       "\n",
       "    .dataframe tbody tr th {\n",
       "        vertical-align: top;\n",
       "    }\n",
       "\n",
       "    .dataframe thead th {\n",
       "        text-align: right;\n",
       "    }\n",
       "</style>\n",
       "<table border=\"1\" class=\"dataframe\">\n",
       "  <thead>\n",
       "    <tr style=\"text-align: right;\">\n",
       "      <th></th>\n",
       "      <th>Пол</th>\n",
       "      <th>Возраст</th>\n",
       "      <th>Зарплата</th>\n",
       "      <th>Члены семьи</th>\n",
       "      <th>Страховые выплаты</th>\n",
       "    </tr>\n",
       "  </thead>\n",
       "  <tbody>\n",
       "    <tr>\n",
       "      <th>4995</th>\n",
       "      <td>0</td>\n",
       "      <td>28.0</td>\n",
       "      <td>35700.0</td>\n",
       "      <td>2</td>\n",
       "      <td>0</td>\n",
       "    </tr>\n",
       "    <tr>\n",
       "      <th>4996</th>\n",
       "      <td>0</td>\n",
       "      <td>34.0</td>\n",
       "      <td>52400.0</td>\n",
       "      <td>1</td>\n",
       "      <td>0</td>\n",
       "    </tr>\n",
       "    <tr>\n",
       "      <th>4997</th>\n",
       "      <td>0</td>\n",
       "      <td>20.0</td>\n",
       "      <td>33900.0</td>\n",
       "      <td>2</td>\n",
       "      <td>0</td>\n",
       "    </tr>\n",
       "    <tr>\n",
       "      <th>4998</th>\n",
       "      <td>1</td>\n",
       "      <td>22.0</td>\n",
       "      <td>32700.0</td>\n",
       "      <td>3</td>\n",
       "      <td>0</td>\n",
       "    </tr>\n",
       "    <tr>\n",
       "      <th>4999</th>\n",
       "      <td>1</td>\n",
       "      <td>28.0</td>\n",
       "      <td>40600.0</td>\n",
       "      <td>1</td>\n",
       "      <td>0</td>\n",
       "    </tr>\n",
       "  </tbody>\n",
       "</table>\n",
       "</div>"
      ],
      "text/plain": [
       "      Пол  Возраст  Зарплата  Члены семьи  Страховые выплаты\n",
       "4995    0     28.0   35700.0            2                  0\n",
       "4996    0     34.0   52400.0            1                  0\n",
       "4997    0     20.0   33900.0            2                  0\n",
       "4998    1     22.0   32700.0            3                  0\n",
       "4999    1     28.0   40600.0            1                  0"
      ]
     },
     "metadata": {},
     "output_type": "display_data"
    },
    {
     "data": {
      "text/html": [
       "<div>\n",
       "<style scoped>\n",
       "    .dataframe tbody tr th:only-of-type {\n",
       "        vertical-align: middle;\n",
       "    }\n",
       "\n",
       "    .dataframe tbody tr th {\n",
       "        vertical-align: top;\n",
       "    }\n",
       "\n",
       "    .dataframe thead th {\n",
       "        text-align: right;\n",
       "    }\n",
       "</style>\n",
       "<table border=\"1\" class=\"dataframe\">\n",
       "  <thead>\n",
       "    <tr style=\"text-align: right;\">\n",
       "      <th></th>\n",
       "      <th>Пол</th>\n",
       "      <th>Возраст</th>\n",
       "      <th>Зарплата</th>\n",
       "      <th>Члены семьи</th>\n",
       "      <th>Страховые выплаты</th>\n",
       "    </tr>\n",
       "  </thead>\n",
       "  <tbody>\n",
       "    <tr>\n",
       "      <th>count</th>\n",
       "      <td>5000.000000</td>\n",
       "      <td>5000.000000</td>\n",
       "      <td>5000.000000</td>\n",
       "      <td>5000.000000</td>\n",
       "      <td>5000.000000</td>\n",
       "    </tr>\n",
       "    <tr>\n",
       "      <th>mean</th>\n",
       "      <td>0.499000</td>\n",
       "      <td>30.952800</td>\n",
       "      <td>39916.360000</td>\n",
       "      <td>1.194200</td>\n",
       "      <td>0.148000</td>\n",
       "    </tr>\n",
       "    <tr>\n",
       "      <th>std</th>\n",
       "      <td>0.500049</td>\n",
       "      <td>8.440807</td>\n",
       "      <td>9900.083569</td>\n",
       "      <td>1.091387</td>\n",
       "      <td>0.463183</td>\n",
       "    </tr>\n",
       "    <tr>\n",
       "      <th>min</th>\n",
       "      <td>0.000000</td>\n",
       "      <td>18.000000</td>\n",
       "      <td>5300.000000</td>\n",
       "      <td>0.000000</td>\n",
       "      <td>0.000000</td>\n",
       "    </tr>\n",
       "    <tr>\n",
       "      <th>25%</th>\n",
       "      <td>0.000000</td>\n",
       "      <td>24.000000</td>\n",
       "      <td>33300.000000</td>\n",
       "      <td>0.000000</td>\n",
       "      <td>0.000000</td>\n",
       "    </tr>\n",
       "    <tr>\n",
       "      <th>50%</th>\n",
       "      <td>0.000000</td>\n",
       "      <td>30.000000</td>\n",
       "      <td>40200.000000</td>\n",
       "      <td>1.000000</td>\n",
       "      <td>0.000000</td>\n",
       "    </tr>\n",
       "    <tr>\n",
       "      <th>75%</th>\n",
       "      <td>1.000000</td>\n",
       "      <td>37.000000</td>\n",
       "      <td>46600.000000</td>\n",
       "      <td>2.000000</td>\n",
       "      <td>0.000000</td>\n",
       "    </tr>\n",
       "    <tr>\n",
       "      <th>max</th>\n",
       "      <td>1.000000</td>\n",
       "      <td>65.000000</td>\n",
       "      <td>79000.000000</td>\n",
       "      <td>6.000000</td>\n",
       "      <td>5.000000</td>\n",
       "    </tr>\n",
       "  </tbody>\n",
       "</table>\n",
       "</div>"
      ],
      "text/plain": [
       "               Пол      Возраст      Зарплата  Члены семьи  Страховые выплаты\n",
       "count  5000.000000  5000.000000   5000.000000  5000.000000        5000.000000\n",
       "mean      0.499000    30.952800  39916.360000     1.194200           0.148000\n",
       "std       0.500049     8.440807   9900.083569     1.091387           0.463183\n",
       "min       0.000000    18.000000   5300.000000     0.000000           0.000000\n",
       "25%       0.000000    24.000000  33300.000000     0.000000           0.000000\n",
       "50%       0.000000    30.000000  40200.000000     1.000000           0.000000\n",
       "75%       1.000000    37.000000  46600.000000     2.000000           0.000000\n",
       "max       1.000000    65.000000  79000.000000     6.000000           5.000000"
      ]
     },
     "metadata": {},
     "output_type": "display_data"
    }
   ],
   "source": [
    "display(df.head())\n",
    "display(df.tail())\n",
    "display(df.describe())"
   ]
  },
  {
   "cell_type": "code",
   "execution_count": 6,
   "metadata": {},
   "outputs": [
    {
     "data": {
      "text/plain": [
       "Пол                  int64\n",
       "Возраст              int64\n",
       "Зарплата             int64\n",
       "Члены семьи          int64\n",
       "Страховые выплаты    int64\n",
       "dtype: object"
      ]
     },
     "execution_count": 6,
     "metadata": {},
     "output_type": "execute_result"
    }
   ],
   "source": [
    "#приведем возраст и зарплату к int типу данных\n",
    "df['Возраст'] = df['Возраст'].astype(int)\n",
    "df['Зарплата'] = df['Зарплата'].astype(int)\n",
    "df.dtypes"
   ]
  },
  {
   "cell_type": "code",
   "execution_count": 7,
   "metadata": {},
   "outputs": [
    {
     "data": {
      "text/plain": [
       "153"
      ]
     },
     "execution_count": 7,
     "metadata": {},
     "output_type": "execute_result"
    }
   ],
   "source": [
    "#Посмотрим на количество дубликатов в таблице\n",
    "df.duplicated().sum()\n"
   ]
  },
  {
   "cell_type": "code",
   "execution_count": 8,
   "metadata": {},
   "outputs": [
    {
     "data": {
      "text/plain": [
       "Пол                  0\n",
       "Возраст              0\n",
       "Зарплата             0\n",
       "Члены семьи          0\n",
       "Страховые выплаты    0\n",
       "dtype: int64"
      ]
     },
     "execution_count": 8,
     "metadata": {},
     "output_type": "execute_result"
    }
   ],
   "source": [
    "#Посмотрим на количество пустых значений\n",
    "df.isna().sum()"
   ]
  },
  {
   "cell_type": "code",
   "execution_count": 9,
   "metadata": {},
   "outputs": [],
   "source": [
    "#Избавимся от дубликатов\n",
    "df= df.drop_duplicates()"
   ]
  },
  {
   "cell_type": "markdown",
   "metadata": {},
   "source": [
    "<div class=\"alert alert-success\">\n",
    "<b>Комментарий ревьюера ✔️:</b> Обрати внимание, что у нас нет однозначного идентификатора клиента типа id или ФИО, соответственно мы не можем со 100% гарантией утверждать, что все совпадения являются дубликатами</div>"
   ]
  },
  {
   "cell_type": "markdown",
   "metadata": {},
   "source": [
    "## Умножение матриц"
   ]
  },
  {
   "cell_type": "markdown",
   "metadata": {},
   "source": [
    "В этом задании вы можете записывать формулы в *Jupyter Notebook.*\n",
    "\n",
    "Чтобы записать формулу внутри текста, окружите её символами доллара \\\\$; если снаружи —  двойными символами \\\\$\\\\$. Эти формулы записываются на языке вёрстки *LaTeX.* \n",
    "\n",
    "Для примера мы записали формулы линейной регрессии. Можете их скопировать и отредактировать, чтобы решить задачу.\n",
    "\n",
    "Работать в *LaTeX* необязательно."
   ]
  },
  {
   "cell_type": "markdown",
   "metadata": {},
   "source": [
    "Обозначения:\n",
    "\n",
    "- $X$ — матрица признаков (нулевой столбец состоит из единиц)\n",
    "\n",
    "- $y$ — вектор целевого признака\n",
    "\n",
    "- $P$ — матрица, на которую умножаются признаки\n",
    "\n",
    "- $w$ — вектор весов линейной регрессии (нулевой элемент равен сдвигу)"
   ]
  },
  {
   "cell_type": "markdown",
   "metadata": {},
   "source": [
    "Предсказания:\n",
    "\n",
    "$$\n",
    "a = Xw\n",
    "$$\n",
    "\n",
    "Задача обучения:\n",
    "\n",
    "$$\n",
    "w = \\arg\\min_w MSE(Xw, y)\n",
    "$$\n",
    "\n",
    "Формула обучения:\n",
    "\n",
    "$$\n",
    "w = (X^T X)^{-1} X^T y\n",
    "$$"
   ]
  },
  {
   "cell_type": "markdown",
   "metadata": {},
   "source": [
    "**Ответ:** Ответ: b. Не изменится.\n",
    "\n",
    "\n",
    "\n",
    "**Обоснование:** \n",
    "\n",
    "Если матрица P обратима, то при умножении матрицы признаков X на нее качество линейной регрессии не изменится. Это можно показать, обозначив новую матрицу признаков как $X' = XP$. Тогда новые веса $w'$ рассчитываются по формуле:\n",
    "\n",
    "$$w' = (X'^TX')^{-1}X'^Ty = ((XP)^TXP)^{-1}(XP)^Ty = (P^TX^TXP)^{-1} P^T X^Ty = P^{-1}(XᵀX)^{-1}P^{T^{-1}}P^TX^Ty = P^{-1}w$$\n",
    "\n",
    "То есть, новые веса $w'$ — это старые веса $w$, умноженные на обратную матрицу $P^{-1}$.\n",
    "\n",
    "При подстановке $w'$ в формулу для предсказаний $a = X'w'$ получим:\n",
    "\n",
    "$$a = X'w' = XPw' = XP(P^{-1}w) = Xw = a$$\n",
    "\n",
    "то есть, предсказания $a$ не изменятся после преобразования признаков умножением на обратимую матрицу.\n",
    "\n",
    "Таким образом, умножение признаков на обратимую матрицу не изменяет качество линейной регрессии.\n",
    "\n",
    "Что и требовалось доказать.\n",
    "\n",
    "\n",
    "\n",
    "\n"
   ]
  },
  {
   "cell_type": "markdown",
   "metadata": {},
   "source": [
    "<div class=\"alert alert-success\">\n",
    "<b>Комментарий ревьюера ✔️:</b>Да, все абсолютно верно 10/10\n",
    "\n",
    "P.S Чутка подправил степени, чтобы смотрелось получше\n",
    "</div>"
   ]
  },
  {
   "cell_type": "markdown",
   "metadata": {},
   "source": [
    "## Алгоритм преобразования"
   ]
  },
  {
   "cell_type": "markdown",
   "metadata": {},
   "source": [
    "**Алгоритм**\n",
    "\n",
    "Чтобы защитить данные и сохранить качество модели машинного обучения, нужно умножить признаки на обратимую матрицу. Для этого алгоритм преобразования данных должен содержать процесс создания подобной матрицы и ее умножения на матрицу признаков.\n",
    "\n"
   ]
  },
  {
   "cell_type": "code",
   "execution_count": 10,
   "metadata": {},
   "outputs": [
    {
     "data": {
      "text/plain": [
       "array([[12, 21, 35, 40],\n",
       "       [80, 95, 34, 20],\n",
       "       [76, 73, 81, 32],\n",
       "       [43, 92, 97, 65]])"
      ]
     },
     "execution_count": 10,
     "metadata": {},
     "output_type": "execute_result"
    }
   ],
   "source": [
    "#Так как по условию задачи эта матрица при умножении на матрицу признаков должна давать матрицу такого же размера\n",
    "#как исходная, то $P$ должна быть квадратной с размером, равным количеству признаков, в нашем случае их 4.\n",
    "random_matrix = np.random.randint(100,size = (4, 4))\n",
    "random_matrix"
   ]
  },
  {
   "cell_type": "markdown",
   "metadata": {},
   "source": [
    "Обратимая (или невырожденная) матрица - это такая квадратная матрица, для которой существует обратная матрица. Если матрицу A умножить на её обратную матрицу (или обратную матрицу умножить на матрицу A), то результатом будет единичная матрица. Единичная матрица - это матрица, у которой на диагонали стоят единицы, а все остальные элементы равны нулю.\n",
    "\n",
    "Важно отметить, что обратная матрица существует не для всех квадратных матриц. Например, матрица, у которой определитель (детерминант) равен нулю, называется вырожденной, и у неё нет обратной матрицы.\n",
    "\n",
    "В Python, чтобы проверить, обратима ли матрица, можно вычислить её определитель с помощью функции numpy.linalg.det(). Если определитель не равен нулю, то матрица обратима."
   ]
  },
  {
   "cell_type": "code",
   "execution_count": 20,
   "metadata": {},
   "outputs": [
    {
     "name": "stdout",
     "output_type": "stream",
     "text": [
      "Матрица обратима\n"
     ]
    }
   ],
   "source": [
    "# Вычисляем определитель\n",
    "det = np.linalg.det(random_matrix)\n",
    "if det != 0:\n",
    "    print(\"Матрица обратима\")\n",
    "else:\n",
    "    print(\"Матрица не обратима\")"
   ]
  },
  {
   "cell_type": "markdown",
   "metadata": {},
   "source": [
    "<div class=\"alert alert-success\">\n",
    "<b>Комментарий ревьюера ✔️:</b> Верно проверяешь на обратимость</div>"
   ]
  },
  {
   "cell_type": "code",
   "execution_count": 18,
   "metadata": {},
   "outputs": [],
   "source": [
    "# Находим обратную матрицу\n",
    "A_inv = np.linalg.inv(random_matrix)"
   ]
  },
  {
   "cell_type": "code",
   "execution_count": 19,
   "metadata": {},
   "outputs": [
    {
     "data": {
      "text/plain": [
       "array([[ 0.02468472,  0.00587017,  0.0176002 , -0.02566152],\n",
       "       [-0.02339178,  0.01025247, -0.01865432,  0.020424  ],\n",
       "       [-0.02121599, -0.01822581,  0.01659848,  0.01049238],\n",
       "       [ 0.04843926,  0.00880398, -0.01001021, -0.01220497]])"
      ]
     },
     "execution_count": 19,
     "metadata": {},
     "output_type": "execute_result"
    }
   ],
   "source": [
    "A_inv"
   ]
  },
  {
   "cell_type": "markdown",
   "metadata": {},
   "source": [
    "нам известно, что предсказания модели при преобразовании не поменяются, а значит качество модели тоже не должно меняться, так как качество модели - это производная от предсказаний (которые одинаковы до и после преобразований) и целевого признака.\n",
    "\n",
    "Подкрепим теоритические рассуждения примером на цифрах из таблицы. Для этого самостоятельно расчитаем вектора предсказаний \n",
    " и \n",
    " по формулам и сравним их между собой.\n",
    "\n",
    "Сначала выделим признаки и целевой признак:\n"
   ]
  },
  {
   "cell_type": "code",
   "execution_count": 12,
   "metadata": {},
   "outputs": [],
   "source": [
    "#Разделим датафрейм df на признаки (features) и целевой признак (target). \n",
    "#Целевым признаком в нашем случае являются страховые выплаты\n",
    "features = df.drop('Страховые выплаты', axis = 1)\n",
    "target = df['Страховые выплаты']\n",
    " \n",
    "#С помощью StandardScaler() происходит масштабирование признаков. Это процесс, при котором все числовые признаки приводятся \n",
    "#к единому масштабу, чтобы ни один из признаков не доминировал над остальными при построении модели. \n",
    "#Обычно это делается путем вычета среднего значения и деления на стандартное отклонение.\n",
    "scaler = StandardScaler()\n",
    "scaler.fit(features)\n",
    "\n",
    "#Сохраним масштабированные признаки в features_scaled\n",
    "features_scaled = scaler.transform(features)"
   ]
  },
  {
   "cell_type": "markdown",
   "metadata": {},
   "source": [
    "Процесс проверки гипотезы о том, что преобразование признаков не сильно влияет на предсказания модели."
   ]
  },
  {
   "cell_type": "code",
   "execution_count": 21,
   "metadata": {},
   "outputs": [
    {
     "data": {
      "text/plain": [
       "9.22543833860312e-14"
      ]
     },
     "execution_count": 21,
     "metadata": {},
     "output_type": "execute_result"
    }
   ],
   "source": [
    "#С помощью матричных операций вычислим веса w для каждого признака в датасете. Это делается на основе формулы линейной регрессии.\n",
    "#Расчитаем веса $w$ для исходных признаков (масштабированных) по стандартной формуле $w = (X^T X)^{-1} X^T y$\n",
    "w = np.linalg.inv(features_scaled.T.dot(features_scaled)).dot(features_scaled.T).dot(target)\n",
    "\n",
    "#Расчитаем вектор предсказаний по исходным признакам по формуле 𝑎=𝑋𝑤\n",
    "#Используем вектор весов w для предсказания целевого признака a для исходных (масштабированных) признаков. Умножим матрицу на вектор:\n",
    "a = features_scaled @ w\n",
    "\n",
    "#Проведем преобразование признаков путем умножения на случайную матрицу random_matrix\n",
    "features_scaled_p = features_scaled @ random_matrix\n",
    "\n",
    "#Расчитаем веса  𝑤1  для преобразованных признаков по стандартной формуле  𝑤=(𝑋𝑇𝑋)−1𝑋𝑇𝑦\n",
    "w1 = np.linalg.inv(features_scaled_p.T.dot(features_scaled_p)).dot(features_scaled_p.T).dot(target)\n",
    "\n",
    "#Расчитаем вектор предсказаний по преобразованным признакам по формуле  𝑎=𝑋𝑤\n",
    "a1 = features_scaled_p @ w1\n",
    "\n",
    "#Получим вектор разниц между предсказаниями по исходным признакам  𝑎  и преобразованным  𝑎1 :\n",
    "diff = a - a1\n",
    "\n",
    "#Просуммируем все элементы вектора diff, чтобы убедиться, что расхождения минимальны.\n",
    "diff.sum()"
   ]
  },
  {
   "cell_type": "markdown",
   "metadata": {},
   "source": [
    "Видно, что расхождения небольшие. Это значит 𝑎 почти равен 𝑎1. Преобразование не приводит к разным предсказаниям модели и не ухудшает качество модели."
   ]
  },
  {
   "cell_type": "markdown",
   "metadata": {},
   "source": [
    "## Проверка алгоритма"
   ]
  },
  {
   "cell_type": "markdown",
   "metadata": {},
   "source": [
    "$$\n",
    "w = (X^T X)^{-1} X^T y\n",
    "$$\n",
    "\n",
    "$$\n",
    "w' = ((XP)^T XP)^{-1} (XP)^T y\n",
    "$$\n",
    "\n",
    "$$\n",
    "w' = (P^T (X^T X) P)^{-1} (XP)^T y\n",
    "$$"
   ]
  },
  {
   "cell_type": "code",
   "execution_count": 22,
   "metadata": {},
   "outputs": [
    {
     "name": "stdout",
     "output_type": "stream",
     "text": [
      "MSE Score: 0.1252726382276536\n",
      "R2_Score на исходных данных:  0.4302010046633359\n"
     ]
    }
   ],
   "source": [
    "#Создадим модель линейной регрессии для исходных данных и посмотрим ее оценку R2_Score\n",
    "model = LinearRegression(normalize = True)\n",
    "model.fit(features, target)\n",
    "predictions = model.predict(features)\n",
    "mse = mean_squared_error(target, predictions)\n",
    "print('MSE Score:', mse)\n",
    "print('R2_Score на исходных данных: ',r2_score(target, predictions))"
   ]
  },
  {
   "cell_type": "code",
   "execution_count": 23,
   "metadata": {},
   "outputs": [
    {
     "name": "stdout",
     "output_type": "stream",
     "text": [
      "MSE Score: 0.1252726382276536\n",
      "R2_Score для преобразованных  признаков:  0.4302010046633359\n"
     ]
    }
   ],
   "source": [
    "#Преобразуем признаки умножив на матрицу P и рассчитаем R2_Score\n",
    "features_matrix = features_scaled @ random_matrix\n",
    "model.fit(features_matrix, target)\n",
    "predictions_matrix = model.predict(features_matrix)\n",
    "mse = mean_squared_error(target, predictions)\n",
    "print('MSE Score:', mse)\n",
    "print('R2_Score для преобразованных  признаков: ',r2_score(target, predictions_matrix))"
   ]
  },
  {
   "cell_type": "markdown",
   "metadata": {},
   "source": [
    "Видно, что качество модели, после умножения исходных признаков на случайную обратимую матрицу, не изменилось и подобное умножение не повлияло на качество предсказания модели, а значит мы защитили таким образом исходные даннные."
   ]
  },
  {
   "cell_type": "markdown",
   "metadata": {},
   "source": [
    "<div class=\"alert alert-success\">\n",
    "<b>Комментарий ревьюера ✔️:</b> Да, хорошо;)\n",
    "\n",
    "\n",
    "Оставлю немного полезного материала:\n",
    "\n",
    "+  https://academy.yandex.ru/handbook/ml\n",
    "+  https://habr.com/ru/post/595281/\n",
    "</div>"
   ]
  },
  {
   "cell_type": "markdown",
   "metadata": {},
   "source": [
    "## Чек-лист проверки"
   ]
  },
  {
   "cell_type": "markdown",
   "metadata": {},
   "source": [
    "Поставьте 'x' в выполненных пунктах. Далее нажмите Shift+Enter."
   ]
  },
  {
   "cell_type": "markdown",
   "metadata": {},
   "source": [
    "- [x]  Jupyter Notebook открыт\n",
    "- [ ]  Весь код выполняется без ошибок\n",
    "- [ ]  Ячейки с кодом расположены в порядке исполнения\n",
    "- [ ]  Выполнен шаг 1: данные загружены\n",
    "- [ ]  Выполнен шаг 2: получен ответ на вопрос об умножении матриц\n",
    "    - [ ]  Указан правильный вариант ответа\n",
    "    - [ ]  Вариант обоснован\n",
    "- [ ]  Выполнен шаг 3: предложен алгоритм преобразования\n",
    "    - [ ]  Алгоритм описан\n",
    "    - [ ]  Алгоритм обоснован\n",
    "- [ ]  Выполнен шаг 4: алгоритм проверен\n",
    "    - [ ]  Алгоритм реализован\n",
    "    - [ ]  Проведено сравнение качества моделей до и после преобразования"
   ]
  },
  {
   "cell_type": "markdown",
   "metadata": {},
   "source": [
    "<font color='blue'><b>Итоговый комментарий ревьюера</b></font>\n",
    "<div class=\"alert alert-success\">\n",
    "<b>Комментарий ревьюера ✔️:</b>Андрей, спасибо за хороший проект!!! Я готов принять работу, но хочу убедиться, что тебе все понятно.<br>\n",
    "Если есть какие либо вопросы я с удовольствием на них отвечу:)</div>\n"
   ]
  },
  {
   "cell_type": "markdown",
   "metadata": {},
   "source": [
    "<div class=\"alert alert-success\">\n",
    "<b>Комментарий ревьюера V2✔️:</b>\n",
    "\n",
    "Оставлю хороший учебник по ML:\n",
    "+  https://academy.yandex.ru/handbook/ml\n",
    "    \n",
    "Немного новостей с мира DL(вдруг заинтересует):\n",
    "+  https://habr.com/ru/company/ods/blog/686962/\n",
    "    \n",
    "Вот тут проходят всякие соревнования, можешь себя попробовать:\n",
    "+  https://hacks-ai.ru/championships#competitions\n",
    "    \n",
    "\n",
    "Возможно, что нить пригодится:  \n",
    "+  https://drive.google.com/file/d/1r8CJHH_hwDM16l1Pnpb4KJzoJFrJ5XRi/view\n",
    "+  https://arxiv.org/ftp/arxiv/papers/2201/2201.00650.pdf\n",
    "+  https://github.com/slgero/testovoe\n",
    "    \n",
    "    \n",
    "Курс от МФТИ математика для DS:\n",
    "    \n",
    "+  https://www.youtube.com/watch?v=xccjt6lOoow&list=PLk4h7dmY2eYHHTyfLyrl7HmP-H3mMAW08&index=1\n",
    "    \n",
    "    \n",
    "Тут много соревнований/лекций:\n",
    "    \n",
    "+  https://ods.ai/\n",
    "    \n",
    "stepic NLP/CV:\n",
    "    \n",
    "+  https://stepik.org/course/54098/syllabus\n",
    "+  https://stepik.org/course/50352/syllabus\n",
    "    \n",
    "Еще есть от ВШЭ:\n",
    "    \n",
    "+  https://www.youtube.com/watch?v=mwjQaNt8qxk&list=PLEwK9wdS5g0og-DcF1apxutSM0GDLHz_3&ab_channel=%D0%A4%D0%9A%D0%9D%D0%92%D0%A8%D0%AD%E2%80%94%D0%B4%D0%B8%D1%81%D1%82%D0%B0%D0%BD%D1%86%D0%B8%D0%BE%D0%BD%D0%BD%D1%8B%D0%B5%D0%B7%D0%B0%D0%BD%D1%8F%D1%82%D0%B8%D1%8F\n",
    "+  https://github.com/hse-ds/iad-deep-learning\n",
    "    \n",
    "    \n",
    "    \n",
    "    \n",
    "Удачи в следующих проектах!!!\n",
    "    \n",
    " \n",
    "\n",
    "\n",
    "</div>"
   ]
  }
 ],
 "metadata": {
  "ExecuteTimeLog": [
   {
    "duration": 1630,
    "start_time": "2023-05-30T20:58:37.420Z"
   },
   {
    "duration": 120,
    "start_time": "2023-05-30T20:58:54.094Z"
   },
   {
    "duration": 116,
    "start_time": "2023-05-30T20:59:13.140Z"
   },
   {
    "duration": 74,
    "start_time": "2023-05-30T20:59:25.546Z"
   },
   {
    "duration": 13,
    "start_time": "2023-05-30T20:59:42.528Z"
   },
   {
    "duration": 26,
    "start_time": "2023-05-30T20:59:58.637Z"
   },
   {
    "duration": 37,
    "start_time": "2023-05-30T21:00:23.961Z"
   },
   {
    "duration": 7,
    "start_time": "2023-05-30T21:01:09.416Z"
   },
   {
    "duration": 7,
    "start_time": "2023-05-30T21:01:32.099Z"
   },
   {
    "duration": 6,
    "start_time": "2023-05-30T21:01:43.061Z"
   },
   {
    "duration": 7,
    "start_time": "2023-05-30T21:01:55.716Z"
   },
   {
    "duration": 86,
    "start_time": "2023-05-30T21:11:56.359Z"
   },
   {
    "duration": 49,
    "start_time": "2023-06-01T21:41:43.705Z"
   },
   {
    "duration": 1826,
    "start_time": "2023-06-01T21:41:48.648Z"
   },
   {
    "duration": 77,
    "start_time": "2023-06-01T21:41:50.476Z"
   },
   {
    "duration": 13,
    "start_time": "2023-06-01T21:41:50.554Z"
   },
   {
    "duration": 48,
    "start_time": "2023-06-01T21:41:50.568Z"
   },
   {
    "duration": 7,
    "start_time": "2023-06-01T21:41:50.618Z"
   },
   {
    "duration": 10,
    "start_time": "2023-06-01T21:41:50.626Z"
   },
   {
    "duration": 13,
    "start_time": "2023-06-01T21:41:50.642Z"
   },
   {
    "duration": 10,
    "start_time": "2023-06-01T21:41:50.657Z"
   },
   {
    "duration": 6,
    "start_time": "2023-06-01T21:41:54.762Z"
   },
   {
    "duration": 11,
    "start_time": "2023-06-01T21:42:09.709Z"
   },
   {
    "duration": 10,
    "start_time": "2023-06-01T21:45:46.118Z"
   },
   {
    "duration": 8,
    "start_time": "2023-06-01T21:45:51.517Z"
   },
   {
    "duration": 8,
    "start_time": "2023-06-01T21:48:41.443Z"
   },
   {
    "duration": 2,
    "start_time": "2023-06-01T21:57:09.993Z"
   },
   {
    "duration": 3,
    "start_time": "2023-06-01T21:57:22.123Z"
   },
   {
    "duration": 71,
    "start_time": "2023-06-01T21:57:37.049Z"
   },
   {
    "duration": 3,
    "start_time": "2023-06-01T21:57:59.508Z"
   },
   {
    "duration": 5,
    "start_time": "2023-06-01T21:58:09.534Z"
   },
   {
    "duration": 4,
    "start_time": "2023-06-01T21:59:18.098Z"
   },
   {
    "duration": 10,
    "start_time": "2023-06-01T22:07:11.767Z"
   },
   {
    "duration": 11,
    "start_time": "2023-06-01T22:10:13.148Z"
   },
   {
    "duration": 14,
    "start_time": "2023-06-01T22:10:25.249Z"
   },
   {
    "duration": 94,
    "start_time": "2023-06-01T22:13:28.745Z"
   }
  ],
  "kernelspec": {
   "display_name": "Python 3 (ipykernel)",
   "language": "python",
   "name": "python3"
  },
  "language_info": {
   "codemirror_mode": {
    "name": "ipython",
    "version": 3
   },
   "file_extension": ".py",
   "mimetype": "text/x-python",
   "name": "python",
   "nbconvert_exporter": "python",
   "pygments_lexer": "ipython3",
   "version": "3.10.9"
  },
  "toc": {
   "base_numbering": 1,
   "nav_menu": {},
   "number_sections": true,
   "sideBar": true,
   "skip_h1_title": true,
   "title_cell": "Содержание",
   "title_sidebar": "Contents",
   "toc_cell": true,
   "toc_position": {},
   "toc_section_display": true,
   "toc_window_display": true
  }
 },
 "nbformat": 4,
 "nbformat_minor": 2
}
