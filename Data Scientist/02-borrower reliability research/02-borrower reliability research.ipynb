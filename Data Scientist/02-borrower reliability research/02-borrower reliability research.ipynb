{
 "cells": [
  {
   "cell_type": "markdown",
   "id": "d02db080",
   "metadata": {
    "deletable": false,
    "editable": false,
    "id": "c81daeeb"
   },
   "source": [
    "# Исследование надежности заемщиков\n"
   ]
  },
  {
   "cell_type": "markdown",
   "id": "f05852db",
   "metadata": {
    "deletable": false,
    "editable": false,
    "id": "827c20bf"
   },
   "source": [
    "Во второй части проекта вы выполните шаги 3 и 4. Их вручную проверит ревьюер.\n",
    "Чтобы вам не пришлось писать код заново для шагов 1 и 2, мы добавили авторские решения в ячейки с кодом. \n",
    "\n"
   ]
  },
  {
   "cell_type": "markdown",
   "id": "fee10ebe",
   "metadata": {
    "deletable": false,
    "editable": false,
    "id": "744d7639"
   },
   "source": [
    "## Откройте таблицу и изучите общую информацию о данных"
   ]
  },
  {
   "cell_type": "markdown",
   "id": "9699c806",
   "metadata": {
    "deletable": false,
    "editable": false,
    "id": "e7a14c31"
   },
   "source": [
    "**Задание 1. Импортируйте библиотеку pandas. Считайте данные из csv-файла в датафрейм и сохраните в переменную `data`. Путь к файлу:**\n",
    "\n",
    "`/datasets/data.csv`"
   ]
  },
  {
   "cell_type": "code",
   "execution_count": 1,
   "id": "6b236dfa",
   "metadata": {
    "deletable": false,
    "id": "7bcf75c9"
   },
   "outputs": [],
   "source": [
    "import pandas as pd\n",
    "import numpy as np\n",
    "\n",
    "try:\n",
    "    data = pd.read_csv('/datasets/data.csv')\n",
    "except:\n",
    "    data = pd.read_csv('https://code.s3.yandex.net/datasets/data.csv')"
   ]
  },
  {
   "cell_type": "markdown",
   "id": "b67c228f",
   "metadata": {
    "deletable": false,
    "editable": false,
    "id": "b8038fe3"
   },
   "source": [
    "**Задание 2. Выведите первые 20 строчек датафрейма `data` на экран.**"
   ]
  },
  {
   "cell_type": "code",
   "execution_count": 2,
   "id": "5e563d98",
   "metadata": {
    "deletable": false,
    "id": "2a7cab99",
    "outputId": "1a8f3ef2-d323-4ec2-ddf7-89670b5944c4"
   },
   "outputs": [
    {
     "data": {
      "text/html": [
       "<div>\n",
       "<style scoped>\n",
       "    .dataframe tbody tr th:only-of-type {\n",
       "        vertical-align: middle;\n",
       "    }\n",
       "\n",
       "    .dataframe tbody tr th {\n",
       "        vertical-align: top;\n",
       "    }\n",
       "\n",
       "    .dataframe thead th {\n",
       "        text-align: right;\n",
       "    }\n",
       "</style>\n",
       "<table border=\"1\" class=\"dataframe\">\n",
       "  <thead>\n",
       "    <tr style=\"text-align: right;\">\n",
       "      <th></th>\n",
       "      <th>children</th>\n",
       "      <th>days_employed</th>\n",
       "      <th>dob_years</th>\n",
       "      <th>education</th>\n",
       "      <th>education_id</th>\n",
       "      <th>family_status</th>\n",
       "      <th>family_status_id</th>\n",
       "      <th>gender</th>\n",
       "      <th>income_type</th>\n",
       "      <th>debt</th>\n",
       "      <th>total_income</th>\n",
       "      <th>purpose</th>\n",
       "    </tr>\n",
       "  </thead>\n",
       "  <tbody>\n",
       "    <tr>\n",
       "      <th>0</th>\n",
       "      <td>1</td>\n",
       "      <td>-8437.673028</td>\n",
       "      <td>42</td>\n",
       "      <td>высшее</td>\n",
       "      <td>0</td>\n",
       "      <td>женат / замужем</td>\n",
       "      <td>0</td>\n",
       "      <td>F</td>\n",
       "      <td>сотрудник</td>\n",
       "      <td>0</td>\n",
       "      <td>253875.639453</td>\n",
       "      <td>покупка жилья</td>\n",
       "    </tr>\n",
       "    <tr>\n",
       "      <th>1</th>\n",
       "      <td>1</td>\n",
       "      <td>-4024.803754</td>\n",
       "      <td>36</td>\n",
       "      <td>среднее</td>\n",
       "      <td>1</td>\n",
       "      <td>женат / замужем</td>\n",
       "      <td>0</td>\n",
       "      <td>F</td>\n",
       "      <td>сотрудник</td>\n",
       "      <td>0</td>\n",
       "      <td>112080.014102</td>\n",
       "      <td>приобретение автомобиля</td>\n",
       "    </tr>\n",
       "    <tr>\n",
       "      <th>2</th>\n",
       "      <td>0</td>\n",
       "      <td>-5623.422610</td>\n",
       "      <td>33</td>\n",
       "      <td>Среднее</td>\n",
       "      <td>1</td>\n",
       "      <td>женат / замужем</td>\n",
       "      <td>0</td>\n",
       "      <td>M</td>\n",
       "      <td>сотрудник</td>\n",
       "      <td>0</td>\n",
       "      <td>145885.952297</td>\n",
       "      <td>покупка жилья</td>\n",
       "    </tr>\n",
       "    <tr>\n",
       "      <th>3</th>\n",
       "      <td>3</td>\n",
       "      <td>-4124.747207</td>\n",
       "      <td>32</td>\n",
       "      <td>среднее</td>\n",
       "      <td>1</td>\n",
       "      <td>женат / замужем</td>\n",
       "      <td>0</td>\n",
       "      <td>M</td>\n",
       "      <td>сотрудник</td>\n",
       "      <td>0</td>\n",
       "      <td>267628.550329</td>\n",
       "      <td>дополнительное образование</td>\n",
       "    </tr>\n",
       "    <tr>\n",
       "      <th>4</th>\n",
       "      <td>0</td>\n",
       "      <td>340266.072047</td>\n",
       "      <td>53</td>\n",
       "      <td>среднее</td>\n",
       "      <td>1</td>\n",
       "      <td>гражданский брак</td>\n",
       "      <td>1</td>\n",
       "      <td>F</td>\n",
       "      <td>пенсионер</td>\n",
       "      <td>0</td>\n",
       "      <td>158616.077870</td>\n",
       "      <td>сыграть свадьбу</td>\n",
       "    </tr>\n",
       "    <tr>\n",
       "      <th>5</th>\n",
       "      <td>0</td>\n",
       "      <td>-926.185831</td>\n",
       "      <td>27</td>\n",
       "      <td>высшее</td>\n",
       "      <td>0</td>\n",
       "      <td>гражданский брак</td>\n",
       "      <td>1</td>\n",
       "      <td>M</td>\n",
       "      <td>компаньон</td>\n",
       "      <td>0</td>\n",
       "      <td>255763.565419</td>\n",
       "      <td>покупка жилья</td>\n",
       "    </tr>\n",
       "    <tr>\n",
       "      <th>6</th>\n",
       "      <td>0</td>\n",
       "      <td>-2879.202052</td>\n",
       "      <td>43</td>\n",
       "      <td>высшее</td>\n",
       "      <td>0</td>\n",
       "      <td>женат / замужем</td>\n",
       "      <td>0</td>\n",
       "      <td>F</td>\n",
       "      <td>компаньон</td>\n",
       "      <td>0</td>\n",
       "      <td>240525.971920</td>\n",
       "      <td>операции с жильем</td>\n",
       "    </tr>\n",
       "    <tr>\n",
       "      <th>7</th>\n",
       "      <td>0</td>\n",
       "      <td>-152.779569</td>\n",
       "      <td>50</td>\n",
       "      <td>СРЕДНЕЕ</td>\n",
       "      <td>1</td>\n",
       "      <td>женат / замужем</td>\n",
       "      <td>0</td>\n",
       "      <td>M</td>\n",
       "      <td>сотрудник</td>\n",
       "      <td>0</td>\n",
       "      <td>135823.934197</td>\n",
       "      <td>образование</td>\n",
       "    </tr>\n",
       "    <tr>\n",
       "      <th>8</th>\n",
       "      <td>2</td>\n",
       "      <td>-6929.865299</td>\n",
       "      <td>35</td>\n",
       "      <td>ВЫСШЕЕ</td>\n",
       "      <td>0</td>\n",
       "      <td>гражданский брак</td>\n",
       "      <td>1</td>\n",
       "      <td>F</td>\n",
       "      <td>сотрудник</td>\n",
       "      <td>0</td>\n",
       "      <td>95856.832424</td>\n",
       "      <td>на проведение свадьбы</td>\n",
       "    </tr>\n",
       "    <tr>\n",
       "      <th>9</th>\n",
       "      <td>0</td>\n",
       "      <td>-2188.756445</td>\n",
       "      <td>41</td>\n",
       "      <td>среднее</td>\n",
       "      <td>1</td>\n",
       "      <td>женат / замужем</td>\n",
       "      <td>0</td>\n",
       "      <td>M</td>\n",
       "      <td>сотрудник</td>\n",
       "      <td>0</td>\n",
       "      <td>144425.938277</td>\n",
       "      <td>покупка жилья для семьи</td>\n",
       "    </tr>\n",
       "    <tr>\n",
       "      <th>10</th>\n",
       "      <td>2</td>\n",
       "      <td>-4171.483647</td>\n",
       "      <td>36</td>\n",
       "      <td>высшее</td>\n",
       "      <td>0</td>\n",
       "      <td>женат / замужем</td>\n",
       "      <td>0</td>\n",
       "      <td>M</td>\n",
       "      <td>компаньон</td>\n",
       "      <td>0</td>\n",
       "      <td>113943.491460</td>\n",
       "      <td>покупка недвижимости</td>\n",
       "    </tr>\n",
       "    <tr>\n",
       "      <th>11</th>\n",
       "      <td>0</td>\n",
       "      <td>-792.701887</td>\n",
       "      <td>40</td>\n",
       "      <td>среднее</td>\n",
       "      <td>1</td>\n",
       "      <td>женат / замужем</td>\n",
       "      <td>0</td>\n",
       "      <td>F</td>\n",
       "      <td>сотрудник</td>\n",
       "      <td>0</td>\n",
       "      <td>77069.234271</td>\n",
       "      <td>покупка коммерческой недвижимости</td>\n",
       "    </tr>\n",
       "    <tr>\n",
       "      <th>12</th>\n",
       "      <td>0</td>\n",
       "      <td>NaN</td>\n",
       "      <td>65</td>\n",
       "      <td>среднее</td>\n",
       "      <td>1</td>\n",
       "      <td>гражданский брак</td>\n",
       "      <td>1</td>\n",
       "      <td>M</td>\n",
       "      <td>пенсионер</td>\n",
       "      <td>0</td>\n",
       "      <td>NaN</td>\n",
       "      <td>сыграть свадьбу</td>\n",
       "    </tr>\n",
       "    <tr>\n",
       "      <th>13</th>\n",
       "      <td>0</td>\n",
       "      <td>-1846.641941</td>\n",
       "      <td>54</td>\n",
       "      <td>неоконченное высшее</td>\n",
       "      <td>2</td>\n",
       "      <td>женат / замужем</td>\n",
       "      <td>0</td>\n",
       "      <td>F</td>\n",
       "      <td>сотрудник</td>\n",
       "      <td>0</td>\n",
       "      <td>130458.228857</td>\n",
       "      <td>приобретение автомобиля</td>\n",
       "    </tr>\n",
       "    <tr>\n",
       "      <th>14</th>\n",
       "      <td>0</td>\n",
       "      <td>-1844.956182</td>\n",
       "      <td>56</td>\n",
       "      <td>высшее</td>\n",
       "      <td>0</td>\n",
       "      <td>гражданский брак</td>\n",
       "      <td>1</td>\n",
       "      <td>F</td>\n",
       "      <td>компаньон</td>\n",
       "      <td>1</td>\n",
       "      <td>165127.911772</td>\n",
       "      <td>покупка жилой недвижимости</td>\n",
       "    </tr>\n",
       "    <tr>\n",
       "      <th>15</th>\n",
       "      <td>1</td>\n",
       "      <td>-972.364419</td>\n",
       "      <td>26</td>\n",
       "      <td>среднее</td>\n",
       "      <td>1</td>\n",
       "      <td>женат / замужем</td>\n",
       "      <td>0</td>\n",
       "      <td>F</td>\n",
       "      <td>сотрудник</td>\n",
       "      <td>0</td>\n",
       "      <td>116820.904450</td>\n",
       "      <td>строительство собственной недвижимости</td>\n",
       "    </tr>\n",
       "    <tr>\n",
       "      <th>16</th>\n",
       "      <td>0</td>\n",
       "      <td>-1719.934226</td>\n",
       "      <td>35</td>\n",
       "      <td>среднее</td>\n",
       "      <td>1</td>\n",
       "      <td>женат / замужем</td>\n",
       "      <td>0</td>\n",
       "      <td>F</td>\n",
       "      <td>сотрудник</td>\n",
       "      <td>0</td>\n",
       "      <td>289202.704229</td>\n",
       "      <td>недвижимость</td>\n",
       "    </tr>\n",
       "    <tr>\n",
       "      <th>17</th>\n",
       "      <td>0</td>\n",
       "      <td>-2369.999720</td>\n",
       "      <td>33</td>\n",
       "      <td>высшее</td>\n",
       "      <td>0</td>\n",
       "      <td>гражданский брак</td>\n",
       "      <td>1</td>\n",
       "      <td>M</td>\n",
       "      <td>сотрудник</td>\n",
       "      <td>0</td>\n",
       "      <td>90410.586745</td>\n",
       "      <td>строительство недвижимости</td>\n",
       "    </tr>\n",
       "    <tr>\n",
       "      <th>18</th>\n",
       "      <td>0</td>\n",
       "      <td>400281.136913</td>\n",
       "      <td>53</td>\n",
       "      <td>среднее</td>\n",
       "      <td>1</td>\n",
       "      <td>вдовец / вдова</td>\n",
       "      <td>2</td>\n",
       "      <td>F</td>\n",
       "      <td>пенсионер</td>\n",
       "      <td>0</td>\n",
       "      <td>56823.777243</td>\n",
       "      <td>на покупку подержанного автомобиля</td>\n",
       "    </tr>\n",
       "    <tr>\n",
       "      <th>19</th>\n",
       "      <td>0</td>\n",
       "      <td>-10038.818549</td>\n",
       "      <td>48</td>\n",
       "      <td>СРЕДНЕЕ</td>\n",
       "      <td>1</td>\n",
       "      <td>в разводе</td>\n",
       "      <td>3</td>\n",
       "      <td>F</td>\n",
       "      <td>сотрудник</td>\n",
       "      <td>0</td>\n",
       "      <td>242831.107982</td>\n",
       "      <td>на покупку своего автомобиля</td>\n",
       "    </tr>\n",
       "  </tbody>\n",
       "</table>\n",
       "</div>"
      ],
      "text/plain": [
       "    children  days_employed  dob_years            education  education_id  \\\n",
       "0          1   -8437.673028         42               высшее             0   \n",
       "1          1   -4024.803754         36              среднее             1   \n",
       "2          0   -5623.422610         33              Среднее             1   \n",
       "3          3   -4124.747207         32              среднее             1   \n",
       "4          0  340266.072047         53              среднее             1   \n",
       "5          0    -926.185831         27               высшее             0   \n",
       "6          0   -2879.202052         43               высшее             0   \n",
       "7          0    -152.779569         50              СРЕДНЕЕ             1   \n",
       "8          2   -6929.865299         35               ВЫСШЕЕ             0   \n",
       "9          0   -2188.756445         41              среднее             1   \n",
       "10         2   -4171.483647         36               высшее             0   \n",
       "11         0    -792.701887         40              среднее             1   \n",
       "12         0            NaN         65              среднее             1   \n",
       "13         0   -1846.641941         54  неоконченное высшее             2   \n",
       "14         0   -1844.956182         56               высшее             0   \n",
       "15         1    -972.364419         26              среднее             1   \n",
       "16         0   -1719.934226         35              среднее             1   \n",
       "17         0   -2369.999720         33               высшее             0   \n",
       "18         0  400281.136913         53              среднее             1   \n",
       "19         0  -10038.818549         48              СРЕДНЕЕ             1   \n",
       "\n",
       "       family_status  family_status_id gender income_type  debt  \\\n",
       "0    женат / замужем                 0      F   сотрудник     0   \n",
       "1    женат / замужем                 0      F   сотрудник     0   \n",
       "2    женат / замужем                 0      M   сотрудник     0   \n",
       "3    женат / замужем                 0      M   сотрудник     0   \n",
       "4   гражданский брак                 1      F   пенсионер     0   \n",
       "5   гражданский брак                 1      M   компаньон     0   \n",
       "6    женат / замужем                 0      F   компаньон     0   \n",
       "7    женат / замужем                 0      M   сотрудник     0   \n",
       "8   гражданский брак                 1      F   сотрудник     0   \n",
       "9    женат / замужем                 0      M   сотрудник     0   \n",
       "10   женат / замужем                 0      M   компаньон     0   \n",
       "11   женат / замужем                 0      F   сотрудник     0   \n",
       "12  гражданский брак                 1      M   пенсионер     0   \n",
       "13   женат / замужем                 0      F   сотрудник     0   \n",
       "14  гражданский брак                 1      F   компаньон     1   \n",
       "15   женат / замужем                 0      F   сотрудник     0   \n",
       "16   женат / замужем                 0      F   сотрудник     0   \n",
       "17  гражданский брак                 1      M   сотрудник     0   \n",
       "18    вдовец / вдова                 2      F   пенсионер     0   \n",
       "19         в разводе                 3      F   сотрудник     0   \n",
       "\n",
       "     total_income                                 purpose  \n",
       "0   253875.639453                           покупка жилья  \n",
       "1   112080.014102                 приобретение автомобиля  \n",
       "2   145885.952297                           покупка жилья  \n",
       "3   267628.550329              дополнительное образование  \n",
       "4   158616.077870                         сыграть свадьбу  \n",
       "5   255763.565419                           покупка жилья  \n",
       "6   240525.971920                       операции с жильем  \n",
       "7   135823.934197                             образование  \n",
       "8    95856.832424                   на проведение свадьбы  \n",
       "9   144425.938277                 покупка жилья для семьи  \n",
       "10  113943.491460                    покупка недвижимости  \n",
       "11   77069.234271       покупка коммерческой недвижимости  \n",
       "12            NaN                         сыграть свадьбу  \n",
       "13  130458.228857                 приобретение автомобиля  \n",
       "14  165127.911772              покупка жилой недвижимости  \n",
       "15  116820.904450  строительство собственной недвижимости  \n",
       "16  289202.704229                            недвижимость  \n",
       "17   90410.586745              строительство недвижимости  \n",
       "18   56823.777243      на покупку подержанного автомобиля  \n",
       "19  242831.107982            на покупку своего автомобиля  "
      ]
     },
     "execution_count": 2,
     "metadata": {},
     "output_type": "execute_result"
    }
   ],
   "source": [
    "data.head(20)"
   ]
  },
  {
   "cell_type": "markdown",
   "id": "13e66b8d",
   "metadata": {
    "deletable": false,
    "editable": false,
    "id": "1c12e233"
   },
   "source": [
    "**Задание 3. Выведите основную информацию о датафрейме с помощью метода `info()`.**"
   ]
  },
  {
   "cell_type": "code",
   "execution_count": 3,
   "id": "c8f43c22",
   "metadata": {
    "deletable": false,
    "id": "2b757bca",
    "outputId": "15376089-8dad-46c9-b520-c05248d43158"
   },
   "outputs": [
    {
     "name": "stdout",
     "output_type": "stream",
     "text": [
      "<class 'pandas.core.frame.DataFrame'>\n",
      "RangeIndex: 21525 entries, 0 to 21524\n",
      "Data columns (total 12 columns):\n",
      " #   Column            Non-Null Count  Dtype  \n",
      "---  ------            --------------  -----  \n",
      " 0   children          21525 non-null  int64  \n",
      " 1   days_employed     19351 non-null  float64\n",
      " 2   dob_years         21525 non-null  int64  \n",
      " 3   education         21525 non-null  object \n",
      " 4   education_id      21525 non-null  int64  \n",
      " 5   family_status     21525 non-null  object \n",
      " 6   family_status_id  21525 non-null  int64  \n",
      " 7   gender            21525 non-null  object \n",
      " 8   income_type       21525 non-null  object \n",
      " 9   debt              21525 non-null  int64  \n",
      " 10  total_income      19351 non-null  float64\n",
      " 11  purpose           21525 non-null  object \n",
      "dtypes: float64(2), int64(5), object(5)\n",
      "memory usage: 2.0+ MB\n"
     ]
    }
   ],
   "source": [
    "data.info()"
   ]
  },
  {
   "cell_type": "markdown",
   "id": "5ba5da97",
   "metadata": {
    "deletable": false,
    "editable": false,
    "id": "333ec665"
   },
   "source": [
    "## Предобработка данных"
   ]
  },
  {
   "cell_type": "markdown",
   "id": "62346665",
   "metadata": {
    "deletable": false,
    "editable": false,
    "id": "02d92d53"
   },
   "source": [
    "### Удаление пропусков"
   ]
  },
  {
   "cell_type": "markdown",
   "id": "e83e2310",
   "metadata": {
    "deletable": false,
    "editable": false,
    "id": "cd84967c"
   },
   "source": [
    "**Задание 4. Выведите количество пропущенных значений для каждого столбца. Используйте комбинацию двух методов.**"
   ]
  },
  {
   "cell_type": "code",
   "execution_count": 4,
   "id": "1e1db476",
   "metadata": {
    "deletable": false,
    "id": "7f9b2309",
    "outputId": "81f4d817-781c-465c-ed15-91ce4446810d"
   },
   "outputs": [
    {
     "data": {
      "text/plain": [
       "children               0\n",
       "days_employed       2174\n",
       "dob_years              0\n",
       "education              0\n",
       "education_id           0\n",
       "family_status          0\n",
       "family_status_id       0\n",
       "gender                 0\n",
       "income_type            0\n",
       "debt                   0\n",
       "total_income        2174\n",
       "purpose                0\n",
       "dtype: int64"
      ]
     },
     "execution_count": 4,
     "metadata": {},
     "output_type": "execute_result"
    }
   ],
   "source": [
    "data.isna().sum()"
   ]
  },
  {
   "cell_type": "markdown",
   "id": "84f06910",
   "metadata": {
    "deletable": false,
    "editable": false,
    "id": "db86e27b"
   },
   "source": [
    "**Задание 5. В двух столбцах есть пропущенные значения. Один из них — `days_employed`. Пропуски в этом столбце вы обработаете на следующем этапе. Другой столбец с пропущенными значениями — `total_income` — хранит данные о доходах. На сумму дохода сильнее всего влияет тип занятости, поэтому заполнить пропуски в этом столбце нужно медианным значением по каждому типу из столбца `income_type`. Например, у человека с типом занятости `сотрудник` пропуск в столбце `total_income` должен быть заполнен медианным доходом среди всех записей с тем же типом.**"
   ]
  },
  {
   "cell_type": "code",
   "execution_count": 5,
   "id": "15565b5c",
   "metadata": {
    "deletable": false,
    "id": "42006a93"
   },
   "outputs": [],
   "source": [
    "for t in data['income_type'].unique():\n",
    "    data.loc[(data['income_type'] == t) & (data['total_income'].isna()), 'total_income'] = \\\n",
    "    data.loc[(data['income_type'] == t), 'total_income'].median()"
   ]
  },
  {
   "cell_type": "markdown",
   "id": "f6144897",
   "metadata": {
    "deletable": false,
    "editable": false,
    "id": "89da5ece"
   },
   "source": [
    "### Обработка аномальных значений"
   ]
  },
  {
   "cell_type": "markdown",
   "id": "17562605",
   "metadata": {
    "deletable": false,
    "editable": false,
    "id": "57964554"
   },
   "source": [
    "**Задание 6. В данных могут встречаться артефакты (аномалии) — значения, которые не отражают действительность и появились по какой-то ошибке. таким артефактом будет отрицательное количество дней трудового стажа в столбце `days_employed`. Для реальных данных это нормально. Обработайте значения в этом столбце: замените все отрицательные значения положительными с помощью метода `abs()`.**"
   ]
  },
  {
   "cell_type": "code",
   "execution_count": 6,
   "id": "3fb8f350",
   "metadata": {
    "deletable": false,
    "id": "f6f055bf"
   },
   "outputs": [],
   "source": [
    "data['days_employed'] = data['days_employed'].abs()"
   ]
  },
  {
   "cell_type": "markdown",
   "id": "59a07c53",
   "metadata": {
    "deletable": false,
    "editable": false,
    "id": "6107dd2f"
   },
   "source": [
    "**Задание 7. Для каждого типа занятости выведите медианное значение трудового стажа `days_employed` в днях.**"
   ]
  },
  {
   "cell_type": "code",
   "execution_count": 7,
   "id": "998d8144",
   "metadata": {
    "deletable": false,
    "id": "85a5faf6",
    "outputId": "801ef80e-522b-4668-f34e-565af7432bcf"
   },
   "outputs": [
    {
     "data": {
      "text/plain": [
       "income_type\n",
       "безработный        366413.652744\n",
       "в декрете            3296.759962\n",
       "госслужащий          2689.368353\n",
       "компаньон            1547.382223\n",
       "пенсионер          365213.306266\n",
       "предприниматель       520.848083\n",
       "сотрудник            1574.202821\n",
       "студент               578.751554\n",
       "Name: days_employed, dtype: float64"
      ]
     },
     "execution_count": 7,
     "metadata": {},
     "output_type": "execute_result"
    }
   ],
   "source": [
    "data.groupby('income_type')['days_employed'].agg('median')"
   ]
  },
  {
   "cell_type": "markdown",
   "id": "64fade67",
   "metadata": {
    "deletable": false,
    "editable": false,
    "id": "38d1a030"
   },
   "source": [
    "У двух типов (безработные и пенсионеры) получатся аномально большие значения. Исправить такие значения сложно, поэтому оставьте их как есть. Тем более этот столбец не понадобится вам для исследования."
   ]
  },
  {
   "cell_type": "markdown",
   "id": "b580341b",
   "metadata": {
    "deletable": false,
    "editable": false,
    "id": "d8a9f147"
   },
   "source": [
    "**Задание 8. Выведите перечень уникальных значений столбца `children`.**"
   ]
  },
  {
   "cell_type": "code",
   "execution_count": 8,
   "id": "2578f8d9",
   "metadata": {
    "deletable": false,
    "id": "ef5056eb",
    "outputId": "6975b15c-7f95-4697-d16d-a0c79b657b03"
   },
   "outputs": [
    {
     "data": {
      "text/plain": [
       "array([ 1,  0,  3,  2, -1,  4, 20,  5])"
      ]
     },
     "execution_count": 8,
     "metadata": {},
     "output_type": "execute_result"
    }
   ],
   "source": [
    "data['children'].unique()"
   ]
  },
  {
   "cell_type": "markdown",
   "id": "92f650fb",
   "metadata": {
    "deletable": false,
    "editable": false,
    "id": "40b9ebf2"
   },
   "source": [
    "**Задание 9. В столбце `children` есть два аномальных значения. Удалите строки, в которых встречаются такие аномальные значения из датафрейма `data`.**"
   ]
  },
  {
   "cell_type": "code",
   "execution_count": 9,
   "id": "5f387902",
   "metadata": {
    "deletable": false,
    "id": "3ff9801d"
   },
   "outputs": [],
   "source": [
    "data = data[(data['children'] != -1) & (data['children'] != 20)]"
   ]
  },
  {
   "cell_type": "markdown",
   "id": "55939dc2",
   "metadata": {
    "deletable": false,
    "editable": false,
    "id": "bbc4d0ce"
   },
   "source": [
    "**Задание 10. Ещё раз выведите перечень уникальных значений столбца `children`, чтобы убедиться, что артефакты удалены.**"
   ]
  },
  {
   "cell_type": "code",
   "execution_count": 10,
   "id": "4233e993",
   "metadata": {
    "deletable": false,
    "id": "ad4fa8b7",
    "outputId": "b2097101-d49d-44d9-901b-32a65c9463d1"
   },
   "outputs": [
    {
     "data": {
      "text/plain": [
       "array([1, 0, 3, 2, 4, 5])"
      ]
     },
     "execution_count": 10,
     "metadata": {},
     "output_type": "execute_result"
    }
   ],
   "source": [
    "data['children'].unique()"
   ]
  },
  {
   "cell_type": "markdown",
   "id": "ea9a5873",
   "metadata": {
    "deletable": false,
    "editable": false,
    "id": "75440b63"
   },
   "source": [
    "### Удаление пропусков (продолжение)"
   ]
  },
  {
   "cell_type": "markdown",
   "id": "b6509b89",
   "metadata": {
    "deletable": false,
    "editable": false,
    "id": "f4ea573f"
   },
   "source": [
    "**Задание 11. Заполните пропуски в столбце `days_employed` медианными значениями по каждого типа занятости `income_type`.**"
   ]
  },
  {
   "cell_type": "code",
   "execution_count": 11,
   "id": "0d2b6bba",
   "metadata": {
    "deletable": false,
    "id": "af6b1a7e"
   },
   "outputs": [],
   "source": [
    "for t in data['income_type'].unique():\n",
    "    data.loc[(data['income_type'] == t) & (data['days_employed'].isna()), 'days_employed'] = \\\n",
    "    data.loc[(data['income_type'] == t), 'days_employed'].median()"
   ]
  },
  {
   "cell_type": "markdown",
   "id": "e9917bfe",
   "metadata": {
    "deletable": false,
    "editable": false,
    "id": "2753f40d"
   },
   "source": [
    "**Задание 12. Убедитесь, что все пропуски заполнены. Проверьте себя и ещё раз выведите количество пропущенных значений для каждого столбца с помощью двух методов.**"
   ]
  },
  {
   "cell_type": "code",
   "execution_count": 12,
   "id": "9da548fc",
   "metadata": {
    "deletable": false,
    "id": "55f78bc2",
    "outputId": "8da1e4e1-358e-4e87-98c9-f261bce0a7b2"
   },
   "outputs": [
    {
     "data": {
      "text/plain": [
       "children            0\n",
       "days_employed       0\n",
       "dob_years           0\n",
       "education           0\n",
       "education_id        0\n",
       "family_status       0\n",
       "family_status_id    0\n",
       "gender              0\n",
       "income_type         0\n",
       "debt                0\n",
       "total_income        0\n",
       "purpose             0\n",
       "dtype: int64"
      ]
     },
     "execution_count": 12,
     "metadata": {},
     "output_type": "execute_result"
    }
   ],
   "source": [
    "data.isna().sum()"
   ]
  },
  {
   "cell_type": "markdown",
   "id": "60d787e6",
   "metadata": {
    "deletable": false,
    "editable": false,
    "id": "ddc81e43"
   },
   "source": [
    "### Изменение типов данных"
   ]
  },
  {
   "cell_type": "markdown",
   "id": "3517194a",
   "metadata": {
    "deletable": false,
    "editable": false,
    "id": "42d19d24"
   },
   "source": [
    "**Задание 13. Замените вещественный тип данных в столбце `total_income` на целочисленный с помощью метода `astype()`.**"
   ]
  },
  {
   "cell_type": "code",
   "execution_count": 13,
   "id": "0027f60a",
   "metadata": {
    "deletable": false,
    "id": "920b65ad"
   },
   "outputs": [],
   "source": [
    "data['total_income'] = data['total_income'].astype(int)"
   ]
  },
  {
   "cell_type": "markdown",
   "id": "4f96dd1c",
   "metadata": {
    "deletable": false,
    "editable": false,
    "id": "80c420ba"
   },
   "source": [
    "### Обработка дубликатов"
   ]
  },
  {
   "cell_type": "markdown",
   "id": "2343997d",
   "metadata": {
    "deletable": false,
    "editable": false
   },
   "source": [
    "**Задание 14. Обработайте неявные дубликаты в столбце `education`. В этом столбце есть одни и те же значения, но записанные по-разному: с использованием заглавных и строчных букв. Приведите их к нижнему регистру. Проверьте остальные столбцы.**"
   ]
  },
  {
   "cell_type": "code",
   "execution_count": 14,
   "id": "6bed2c46",
   "metadata": {
    "deletable": false
   },
   "outputs": [],
   "source": [
    "data['education'] = data['education'].str.lower()"
   ]
  },
  {
   "cell_type": "markdown",
   "id": "2c9c436b",
   "metadata": {
    "deletable": false,
    "editable": false,
    "id": "dc587695"
   },
   "source": [
    "**Задание 15. Выведите на экран количество строк-дубликатов в данных. Если такие строки присутствуют, удалите их.**"
   ]
  },
  {
   "cell_type": "code",
   "execution_count": 15,
   "id": "e7880263",
   "metadata": {
    "deletable": false,
    "id": "3ee445e4",
    "outputId": "9684deba-1934-42d1-99e1-cda61740f822"
   },
   "outputs": [
    {
     "data": {
      "text/plain": [
       "71"
      ]
     },
     "execution_count": 15,
     "metadata": {},
     "output_type": "execute_result"
    }
   ],
   "source": [
    "data.duplicated().sum()"
   ]
  },
  {
   "cell_type": "code",
   "execution_count": 16,
   "id": "4a9eec11",
   "metadata": {
    "deletable": false,
    "id": "8575fe05"
   },
   "outputs": [],
   "source": [
    "data = data.drop_duplicates()"
   ]
  },
  {
   "cell_type": "markdown",
   "id": "88f63508",
   "metadata": {
    "deletable": false,
    "editable": false,
    "id": "9904cf55"
   },
   "source": [
    "### Категоризация данных"
   ]
  },
  {
   "cell_type": "markdown",
   "id": "5b372a20",
   "metadata": {
    "deletable": false,
    "editable": false,
    "id": "72fcc8a2"
   },
   "source": [
    "**Задание 16. На основании диапазонов, указанных ниже, создайте в датафрейме `data` столбец `total_income_category` с категориями:**\n",
    "\n",
    "- 0–30000 — `'E'`;\n",
    "- 30001–50000 — `'D'`;\n",
    "- 50001–200000 — `'C'`;\n",
    "- 200001–1000000 — `'B'`;\n",
    "- 1000001 и выше — `'A'`.\n",
    "\n",
    "\n",
    "**Например, кредитополучателю с доходом 25000 нужно назначить категорию `'E'`, а клиенту, получающему 235000, — `'B'`. Используйте собственную функцию с именем `categorize_income()` и метод `apply()`.**"
   ]
  },
  {
   "cell_type": "code",
   "execution_count": 17,
   "id": "eb77724f",
   "metadata": {
    "deletable": false,
    "id": "e1771346"
   },
   "outputs": [],
   "source": [
    "def categorize_income(income):\n",
    "    try:\n",
    "        if 0 <= income <= 30000:\n",
    "            return 'E'\n",
    "        elif 30001 <= income <= 50000:\n",
    "            return 'D'\n",
    "        elif 50001 <= income <= 200000:\n",
    "            return 'C'\n",
    "        elif 200001 <= income <= 1000000:\n",
    "            return 'B'\n",
    "        elif income >= 1000001:\n",
    "            return 'A'\n",
    "    except:\n",
    "        pass"
   ]
  },
  {
   "cell_type": "code",
   "execution_count": 18,
   "id": "74e9b629",
   "metadata": {
    "deletable": false,
    "id": "d5f3586d"
   },
   "outputs": [],
   "source": [
    "data['total_income_category'] = data['total_income'].apply(categorize_income)"
   ]
  },
  {
   "cell_type": "markdown",
   "id": "0b6464b5",
   "metadata": {
    "deletable": false,
    "editable": false,
    "id": "dde49b5c"
   },
   "source": [
    "**Задание 17. Выведите на экран перечень уникальных целей взятия кредита из столбца `purpose`.**"
   ]
  },
  {
   "cell_type": "code",
   "execution_count": 19,
   "id": "c3f61eb3",
   "metadata": {
    "deletable": false,
    "id": "f67ce9b3",
    "outputId": "673c12d9-7d7e-4ae0-9812-c622c89dd244"
   },
   "outputs": [
    {
     "data": {
      "text/plain": [
       "array(['покупка жилья', 'приобретение автомобиля',\n",
       "       'дополнительное образование', 'сыграть свадьбу',\n",
       "       'операции с жильем', 'образование', 'на проведение свадьбы',\n",
       "       'покупка жилья для семьи', 'покупка недвижимости',\n",
       "       'покупка коммерческой недвижимости', 'покупка жилой недвижимости',\n",
       "       'строительство собственной недвижимости', 'недвижимость',\n",
       "       'строительство недвижимости', 'на покупку подержанного автомобиля',\n",
       "       'на покупку своего автомобиля',\n",
       "       'операции с коммерческой недвижимостью',\n",
       "       'строительство жилой недвижимости', 'жилье',\n",
       "       'операции со своей недвижимостью', 'автомобили',\n",
       "       'заняться образованием', 'сделка с подержанным автомобилем',\n",
       "       'получение образования', 'автомобиль', 'свадьба',\n",
       "       'получение дополнительного образования', 'покупка своего жилья',\n",
       "       'операции с недвижимостью', 'получение высшего образования',\n",
       "       'свой автомобиль', 'сделка с автомобилем',\n",
       "       'профильное образование', 'высшее образование',\n",
       "       'покупка жилья для сдачи', 'на покупку автомобиля', 'ремонт жилью',\n",
       "       'заняться высшим образованием'], dtype=object)"
      ]
     },
     "execution_count": 19,
     "metadata": {},
     "output_type": "execute_result"
    }
   ],
   "source": [
    "data['purpose'].unique()"
   ]
  },
  {
   "cell_type": "markdown",
   "id": "4c3ca1cf",
   "metadata": {
    "deletable": false,
    "editable": false,
    "id": "85d0aef0"
   },
   "source": [
    "**Задание 18. Создайте функцию, которая на основании данных из столбца `purpose` сформирует новый столбец `purpose_category`, в который войдут следующие категории:**\n",
    "\n",
    "- `'операции с автомобилем'`,\n",
    "- `'операции с недвижимостью'`,\n",
    "- `'проведение свадьбы'`,\n",
    "- `'получение образования'`.\n",
    "\n",
    "**Например, если в столбце `purpose` находится подстрока `'на покупку автомобиля'`, то в столбце `purpose_category` должна появиться строка `'операции с автомобилем'`.**\n",
    "\n",
    "**Используйте собственную функцию с именем `categorize_purpose()` и метод `apply()`. Изучите данные в столбце `purpose` и определите, какие подстроки помогут вам правильно определить категорию.**"
   ]
  },
  {
   "cell_type": "code",
   "execution_count": 20,
   "id": "da17b33a",
   "metadata": {
    "deletable": false,
    "id": "e149fab4"
   },
   "outputs": [],
   "source": [
    "def categorize_purpose(row):\n",
    "    try:\n",
    "        if 'автом' in row:\n",
    "            return 'операции с автомобилем'\n",
    "        elif 'жил' in row or 'недвиж' in row:\n",
    "            return 'операции с недвижимостью'\n",
    "        elif 'свад' in row:\n",
    "            return 'проведение свадьбы'\n",
    "        elif 'образов' in row:\n",
    "            return 'получение образования'\n",
    "    except:\n",
    "        return 'нет категории'"
   ]
  },
  {
   "cell_type": "code",
   "execution_count": 21,
   "id": "d600a8a6",
   "metadata": {
    "deletable": false,
    "id": "bf36e69b"
   },
   "outputs": [],
   "source": [
    "data['purpose_category'] = data['purpose'].apply(categorize_purpose)"
   ]
  },
  {
   "cell_type": "markdown",
   "id": "11b7075b",
   "metadata": {
    "deletable": false,
    "editable": false,
    "id": "09b242bf"
   },
   "source": [
    "### Шаг 3. Исследуйте данные и ответьте на вопросы"
   ]
  },
  {
   "cell_type": "markdown",
   "id": "411e4b44",
   "metadata": {
    "deletable": false,
    "editable": false,
    "id": "c5d66278"
   },
   "source": [
    "#### 3.1 Есть ли зависимость между количеством детей и возвратом кредита в срок?"
   ]
  },
  {
   "cell_type": "code",
   "execution_count": 22,
   "id": "893c40d3",
   "metadata": {
    "deletable": false,
    "id": "2cacfc4a"
   },
   "outputs": [
    {
     "data": {
      "text/html": [
       "<div>\n",
       "<style scoped>\n",
       "    .dataframe tbody tr th:only-of-type {\n",
       "        vertical-align: middle;\n",
       "    }\n",
       "\n",
       "    .dataframe tbody tr th {\n",
       "        vertical-align: top;\n",
       "    }\n",
       "\n",
       "    .dataframe thead th {\n",
       "        text-align: right;\n",
       "    }\n",
       "</style>\n",
       "<table border=\"1\" class=\"dataframe\">\n",
       "  <thead>\n",
       "    <tr style=\"text-align: right;\">\n",
       "      <th></th>\n",
       "      <th>count</th>\n",
       "      <th>debt</th>\n",
       "      <th>ratio</th>\n",
       "    </tr>\n",
       "    <tr>\n",
       "      <th>children</th>\n",
       "      <th></th>\n",
       "      <th></th>\n",
       "      <th></th>\n",
       "    </tr>\n",
       "  </thead>\n",
       "  <tbody>\n",
       "    <tr>\n",
       "      <th>4</th>\n",
       "      <td>41</td>\n",
       "      <td>4</td>\n",
       "      <td>9.76%</td>\n",
       "    </tr>\n",
       "    <tr>\n",
       "      <th>2</th>\n",
       "      <td>2052</td>\n",
       "      <td>194</td>\n",
       "      <td>9.45%</td>\n",
       "    </tr>\n",
       "    <tr>\n",
       "      <th>1</th>\n",
       "      <td>4808</td>\n",
       "      <td>444</td>\n",
       "      <td>9.23%</td>\n",
       "    </tr>\n",
       "    <tr>\n",
       "      <th>3</th>\n",
       "      <td>330</td>\n",
       "      <td>27</td>\n",
       "      <td>8.18%</td>\n",
       "    </tr>\n",
       "    <tr>\n",
       "      <th>0</th>\n",
       "      <td>14091</td>\n",
       "      <td>1063</td>\n",
       "      <td>7.54%</td>\n",
       "    </tr>\n",
       "  </tbody>\n",
       "</table>\n",
       "</div>"
      ],
      "text/plain": [
       "          count  debt  ratio\n",
       "children                    \n",
       "4            41     4  9.76%\n",
       "2          2052   194  9.45%\n",
       "1          4808   444  9.23%\n",
       "3           330    27  8.18%\n",
       "0         14091  1063  7.54%"
      ]
     },
     "execution_count": 22,
     "metadata": {},
     "output_type": "execute_result"
    }
   ],
   "source": [
    "# Ваш код будет здесь. Вы можете создавать новые ячейки.\n",
    "\n",
    "#Группируем данные в сводной таблице по задолжностям по признаку количества детей:\n",
    "data_pivot_Presence_of_children = data.pivot_table(index=['children'], values=['debt','days_employed'], aggfunc={'debt': 'sum', 'days_employed':'count'})\n",
    "\n",
    "# Переименуем столбцы:\n",
    "data_pivot_Presence_of_children.columns = ['count', 'debt']\n",
    "\n",
    "# Рассчитаем отношение задолженностей к общему колличесту кредитов:\n",
    "data_pivot_Presence_of_children['ratio'] = data_pivot_Presence_of_children['debt'] / data_pivot_Presence_of_children['count']\n",
    "\n",
    "# Отсортируем сводную таблицу:\n",
    "data_pivot_Presence_of_children.sort_values(by='ratio', ascending=False, inplace=True)\n",
    "\n",
    "# Отформатируем столбцы в сводной таблице:\n",
    "data_pivot_Presence_of_children['ratio'] = data_pivot_Presence_of_children['ratio'].apply(lambda x: \"{0:.2f}%\".format(x*100))\n",
    "\n",
    "#Выведем результат:\n",
    "data_pivot_Presence_of_children.head()"
   ]
  },
  {
   "cell_type": "markdown",
   "id": "0e16c73e",
   "metadata": {},
   "source": [
    "<div class=\"alert alert-success\">\n",
    "<h2> Комментарий ревьюера <a class=\"tocSkip\"> </h2>\n",
    "\n",
    "<b>Отлично!✅:</b> Молодец, ты верно вывел сводную таблицу!\n",
    "</div>"
   ]
  },
  {
   "cell_type": "markdown",
   "id": "1b285525",
   "metadata": {
    "deletable": false,
    "id": "3a6b99ec"
   },
   "source": [
    "**Вывод:** \n",
    "\n",
    "2. Граждане с детьми чаще сталкиваются с трудностями в выплате долгов, чем граждане не имеющие детей. Например, если у домохозяйства есть 4 детей, то вероятность не выплатить долг 9.76 %, а если детей нет, то только 7.54%\n"
   ]
  },
  {
   "cell_type": "markdown",
   "id": "8bf8cd3f",
   "metadata": {},
   "source": [
    "<div class=\"alert alert-success\">\n",
    "<h2> Комментарий ревьюера v2<a class=\"tocSkip\"> </h2>\n",
    "\n",
    "<b>Отлично!✅:</b> +\n",
    "</div>"
   ]
  },
  {
   "cell_type": "markdown",
   "id": "36b3a1ec",
   "metadata": {
    "deletable": false,
    "editable": false,
    "id": "97be82ca"
   },
   "source": [
    "#### 3.2 Есть ли зависимость между семейным положением и возвратом кредита в срок?"
   ]
  },
  {
   "cell_type": "code",
   "execution_count": 23,
   "id": "52e64317",
   "metadata": {
    "deletable": false,
    "id": "dc3f7ee8"
   },
   "outputs": [
    {
     "data": {
      "text/html": [
       "<div>\n",
       "<style scoped>\n",
       "    .dataframe tbody tr th:only-of-type {\n",
       "        vertical-align: middle;\n",
       "    }\n",
       "\n",
       "    .dataframe tbody tr th {\n",
       "        vertical-align: top;\n",
       "    }\n",
       "\n",
       "    .dataframe thead th {\n",
       "        text-align: right;\n",
       "    }\n",
       "</style>\n",
       "<table border=\"1\" class=\"dataframe\">\n",
       "  <thead>\n",
       "    <tr style=\"text-align: right;\">\n",
       "      <th></th>\n",
       "      <th>count</th>\n",
       "      <th>debt</th>\n",
       "      <th>ratio</th>\n",
       "    </tr>\n",
       "    <tr>\n",
       "      <th>family_status</th>\n",
       "      <th></th>\n",
       "      <th></th>\n",
       "      <th></th>\n",
       "    </tr>\n",
       "  </thead>\n",
       "  <tbody>\n",
       "    <tr>\n",
       "      <th>Не женат / не замужем</th>\n",
       "      <td>2796</td>\n",
       "      <td>273</td>\n",
       "      <td>9.76%</td>\n",
       "    </tr>\n",
       "    <tr>\n",
       "      <th>гражданский брак</th>\n",
       "      <td>4134</td>\n",
       "      <td>385</td>\n",
       "      <td>9.31%</td>\n",
       "    </tr>\n",
       "    <tr>\n",
       "      <th>женат / замужем</th>\n",
       "      <td>12261</td>\n",
       "      <td>927</td>\n",
       "      <td>7.56%</td>\n",
       "    </tr>\n",
       "    <tr>\n",
       "      <th>в разводе</th>\n",
       "      <td>1189</td>\n",
       "      <td>84</td>\n",
       "      <td>7.06%</td>\n",
       "    </tr>\n",
       "    <tr>\n",
       "      <th>вдовец / вдова</th>\n",
       "      <td>951</td>\n",
       "      <td>63</td>\n",
       "      <td>6.62%</td>\n",
       "    </tr>\n",
       "  </tbody>\n",
       "</table>\n",
       "</div>"
      ],
      "text/plain": [
       "                       count  debt  ratio\n",
       "family_status                            \n",
       "Не женат / не замужем   2796   273  9.76%\n",
       "гражданский брак        4134   385  9.31%\n",
       "женат / замужем        12261   927  7.56%\n",
       "в разводе               1189    84  7.06%\n",
       "вдовец / вдова           951    63  6.62%"
      ]
     },
     "execution_count": 23,
     "metadata": {},
     "output_type": "execute_result"
    }
   ],
   "source": [
    "# Ваш код будет здесь. Вы можете создавать новые ячейки.\n",
    "\n",
    "# Построим сводную табоицу по сумме задолженностей и сумме кредитов в разрезе семейного статуса: \n",
    "data_pivot_family_status = data.pivot_table(index=['family_status'], values=['debt','days_employed'], aggfunc={'debt': 'sum', 'days_employed':'count'})\n",
    "\n",
    "# Переименуем столбцы:\n",
    "data_pivot_family_status.columns = ['count', 'debt']\n",
    "\n",
    "# Рассчитаем отношение задолженностей к общей сумме кредитов:\n",
    "data_pivot_family_status['ratio'] = data_pivot_family_status['debt']/data_pivot_family_status['count']\n",
    "\n",
    "# Отсортируем сводную таблицу:\n",
    "data_pivot_family_status.sort_values(by='ratio', ascending=False, inplace=True)\n",
    "\n",
    "# Отформатируем столбцы в сводной таблице:\n",
    "data_pivot_family_status['ratio'] = data_pivot_family_status['ratio'].apply(lambda x: \"{0:.2f}%\".format(x*100))\n",
    "\n",
    "#Выведем результат:\n",
    "data_pivot_family_status.head()\n"
   ]
  },
  {
   "cell_type": "markdown",
   "id": "2bf60159",
   "metadata": {},
   "source": [
    "<div class=\"alert alert-success\">\n",
    "<h2> Комментарий ревьюера <a class=\"tocSkip\"> </h2>\n",
    "\n",
    "<b>Отлично!✅:</b> +\n",
    "</div>"
   ]
  },
  {
   "cell_type": "markdown",
   "id": "0b238967",
   "metadata": {
    "deletable": false,
    "id": "1cef7837"
   },
   "source": [
    "**Вывод:** 4. Вдовы и вдовцы намного реже не платят по счетам, чем не женатые/не замужние граждане. Например у вдов/вдовцов просрочка по кредитам 6.62%, а у не женатых/не замужем - 9.76%."
   ]
  },
  {
   "cell_type": "markdown",
   "id": "fe8cf8ab",
   "metadata": {},
   "source": [
    "<div class=\"alert alert-success\">\n",
    "<h2> Комментарий ревьюера v2<a class=\"tocSkip\"> </h2>\n",
    "\n",
    "<b>Отлично!✅:</b> +\n",
    "</div>"
   ]
  },
  {
   "cell_type": "markdown",
   "id": "4c7181b7",
   "metadata": {
    "deletable": false,
    "editable": false,
    "id": "1e8b2fca"
   },
   "source": [
    "#### 3.3 Есть ли зависимость между уровнем дохода и возвратом кредита в срок?"
   ]
  },
  {
   "cell_type": "code",
   "execution_count": 24,
   "id": "b7e56745",
   "metadata": {
    "deletable": false,
    "id": "cd7e3720"
   },
   "outputs": [
    {
     "data": {
      "text/html": [
       "<div>\n",
       "<style scoped>\n",
       "    .dataframe tbody tr th:only-of-type {\n",
       "        vertical-align: middle;\n",
       "    }\n",
       "\n",
       "    .dataframe tbody tr th {\n",
       "        vertical-align: top;\n",
       "    }\n",
       "\n",
       "    .dataframe thead th {\n",
       "        text-align: right;\n",
       "    }\n",
       "</style>\n",
       "<table border=\"1\" class=\"dataframe\">\n",
       "  <thead>\n",
       "    <tr style=\"text-align: right;\">\n",
       "      <th></th>\n",
       "      <th>count</th>\n",
       "      <th>debt</th>\n",
       "      <th>ratio</th>\n",
       "    </tr>\n",
       "    <tr>\n",
       "      <th>inc_per_capita_categories</th>\n",
       "      <th></th>\n",
       "      <th></th>\n",
       "      <th></th>\n",
       "    </tr>\n",
       "  </thead>\n",
       "  <tbody>\n",
       "    <tr>\n",
       "      <th>Низкий доход на душу</th>\n",
       "      <td>5333</td>\n",
       "      <td>506</td>\n",
       "      <td>9.49%</td>\n",
       "    </tr>\n",
       "    <tr>\n",
       "      <th>Доход выше среднего на душу</th>\n",
       "      <td>5332</td>\n",
       "      <td>418</td>\n",
       "      <td>7.84%</td>\n",
       "    </tr>\n",
       "    <tr>\n",
       "      <th>Средний доход на душу</th>\n",
       "      <td>5333</td>\n",
       "      <td>412</td>\n",
       "      <td>7.73%</td>\n",
       "    </tr>\n",
       "    <tr>\n",
       "      <th>Высокий доход на душу</th>\n",
       "      <td>5333</td>\n",
       "      <td>396</td>\n",
       "      <td>7.43%</td>\n",
       "    </tr>\n",
       "  </tbody>\n",
       "</table>\n",
       "</div>"
      ],
      "text/plain": [
       "                             count  debt  ratio\n",
       "inc_per_capita_categories                      \n",
       "Низкий доход на душу          5333   506  9.49%\n",
       "Доход выше среднего на душу   5332   418  7.84%\n",
       "Средний доход на душу         5333   412  7.73%\n",
       "Высокий доход на душу         5333   396  7.43%"
      ]
     },
     "execution_count": 24,
     "metadata": {},
     "output_type": "execute_result"
    }
   ],
   "source": [
    "# Ваш код будет здесь. Вы можете создавать новые ячейки.\n",
    "\n",
    "# Напишем функцию, для расчета количества членов домохозяйств:\n",
    "def family_members_number(row):\n",
    "    children = row['children']\n",
    "    family_status_id = row['family_status_id']\n",
    "    if family_status_id == 0:\n",
    "        return children + 1\n",
    "    if family_status_id == 1:\n",
    "        return children + 2\n",
    "    else: return 1\n",
    "\n",
    "# Применим функцию для расчета количества членов домохозяйств:\n",
    "data['family_members_number'] = data.apply(family_members_number, axis=1)\n",
    "\n",
    "# Получим новый столбец доход на душу домохозяйства:\n",
    "data['income_per_capita'] = data['total_income'] / data['family_members_number']\n",
    "\n",
    "# Расчитаем квартили в доходах на душу:\n",
    "q4, q5, q6 = data['income_per_capita'].quantile([0.25,0.5,0.75])\n",
    "\n",
    "# Напишем функцию для категоризации данных, в зависимости от принадлежности к квартилю: \n",
    "def inc_per_capita_categories(row):\n",
    "    if row <= q4:\n",
    "        return \"Низкий доход на душу\"\n",
    "    if row <= q5:\n",
    "        return \"Средний доход на душу\"\n",
    "    if row <= q6:\n",
    "        return \"Доход выше среднего на душу\"\n",
    "    else:                      \n",
    "        return \"Высокий доход на душу\"\n",
    "\n",
    "# применим функцию и получим новые категории, в зависимости от уровня дохода на душу:\n",
    "data['inc_per_capita_categories'] = data['income_per_capita'].apply(inc_per_capita_categories)\n",
    "\n",
    "#data.info()\n",
    "\n",
    "#Группируем данные в сводной таблице по задолжностям по категориям доходов на душу:\n",
    "data_pivot_inc_per_capita_categories = data.pivot_table(index=['inc_per_capita_categories'], values=['debt','days_employed'], aggfunc={'debt': 'sum', 'days_employed':'count'})\n",
    "                                                                                                            \n",
    "# Переименуем столбцы:\n",
    "data_pivot_inc_per_capita_categories.columns = ['count', 'debt']\n",
    "                                                        \n",
    "# Рассчитаем отношение задолженностей к общей сумме кредитов:\n",
    "data_pivot_inc_per_capita_categories['ratio'] = data_pivot_inc_per_capita_categories['debt']/data_pivot_inc_per_capita_categories['count']\n",
    "\n",
    "# Отсортируем сводную таблицу:\n",
    "data_pivot_inc_per_capita_categories.sort_values(by='ratio', ascending=False, inplace=True)\n",
    "\n",
    "# Отформатируем столбцы в сводной таблице:\n",
    "data_pivot_inc_per_capita_categories['ratio'] = data_pivot_inc_per_capita_categories['ratio'].apply(lambda x: \"{0:.2f}%\".format(x*100))\n",
    "\n",
    "#Выведем результат:\n",
    "data_pivot_inc_per_capita_categories.head()"
   ]
  },
  {
   "cell_type": "markdown",
   "id": "26228fc7",
   "metadata": {},
   "source": [
    "<div class=\"alert alert-success\">\n",
    "<h2> Комментарий ревьюера <a class=\"tocSkip\"> </h2>\n",
    "\n",
    "<b>Отлично!✅:</b> +\n",
    "</div>"
   ]
  },
  {
   "cell_type": "markdown",
   "id": "16d0f923",
   "metadata": {
    "deletable": false,
    "id": "e8593def"
   },
   "source": [
    "**Вывод:** 3. При анализе рисков, лучше анализировать доход на душу, чем доход \"в целом\". Чем выше доход на душу, тем вероятность не выплат меньше. Например у квартиля с \"самым высоким доходом на душу\", вероятность столкнутся с трудностями в оплате кредита 7.43%, а у граждан, из квартиля \"с самым низким доходом на душу\", вероятность столкнуться с трудностями 9.49%\n"
   ]
  },
  {
   "cell_type": "markdown",
   "id": "0d0a962e",
   "metadata": {},
   "source": [
    "<div class=\"alert alert-success\">\n",
    "<h2> Комментарий ревьюера v2<a class=\"tocSkip\"> </h2>\n",
    "\n",
    "<b>Отлично!✅:</b> +\n",
    "</div>"
   ]
  },
  {
   "cell_type": "markdown",
   "id": "09e0f3c3",
   "metadata": {
    "deletable": false,
    "editable": false,
    "id": "99ecbd1f"
   },
   "source": [
    "#### 3.4 Как разные цели кредита влияют на его возврат в срок?"
   ]
  },
  {
   "cell_type": "code",
   "execution_count": 25,
   "id": "a8e6539f",
   "metadata": {
    "deletable": false,
    "id": "2b687290"
   },
   "outputs": [
    {
     "data": {
      "text/html": [
       "<div>\n",
       "<style scoped>\n",
       "    .dataframe tbody tr th:only-of-type {\n",
       "        vertical-align: middle;\n",
       "    }\n",
       "\n",
       "    .dataframe tbody tr th {\n",
       "        vertical-align: top;\n",
       "    }\n",
       "\n",
       "    .dataframe thead th {\n",
       "        text-align: right;\n",
       "    }\n",
       "</style>\n",
       "<table border=\"1\" class=\"dataframe\">\n",
       "  <thead>\n",
       "    <tr style=\"text-align: right;\">\n",
       "      <th></th>\n",
       "      <th>count</th>\n",
       "      <th>debt</th>\n",
       "      <th>ratio</th>\n",
       "    </tr>\n",
       "    <tr>\n",
       "      <th>purpose_category</th>\n",
       "      <th></th>\n",
       "      <th></th>\n",
       "      <th></th>\n",
       "    </tr>\n",
       "  </thead>\n",
       "  <tbody>\n",
       "    <tr>\n",
       "      <th>операции с автомобилем</th>\n",
       "      <td>4279</td>\n",
       "      <td>400</td>\n",
       "      <td>9.35%</td>\n",
       "    </tr>\n",
       "    <tr>\n",
       "      <th>получение образования</th>\n",
       "      <td>3988</td>\n",
       "      <td>369</td>\n",
       "      <td>9.25%</td>\n",
       "    </tr>\n",
       "    <tr>\n",
       "      <th>проведение свадьбы</th>\n",
       "      <td>2313</td>\n",
       "      <td>183</td>\n",
       "      <td>7.91%</td>\n",
       "    </tr>\n",
       "    <tr>\n",
       "      <th>операции с недвижимостью</th>\n",
       "      <td>10751</td>\n",
       "      <td>780</td>\n",
       "      <td>7.26%</td>\n",
       "    </tr>\n",
       "  </tbody>\n",
       "</table>\n",
       "</div>"
      ],
      "text/plain": [
       "                          count  debt  ratio\n",
       "purpose_category                            \n",
       "операции с автомобилем     4279   400  9.35%\n",
       "получение образования      3988   369  9.25%\n",
       "проведение свадьбы         2313   183  7.91%\n",
       "операции с недвижимостью  10751   780  7.26%"
      ]
     },
     "execution_count": 25,
     "metadata": {},
     "output_type": "execute_result"
    }
   ],
   "source": [
    "# Ваш код будет здесь. Вы можете создавать новые ячейки.\n",
    "\n",
    "#Группируем данные в сводной таблице по задолжностям по целям кредита:\n",
    "data_pivot_purp_category = data.pivot_table(index=['purpose_category'], values=['debt','days_employed'], aggfunc={'debt': 'sum', 'days_employed':'count'})\n",
    "\n",
    "# Переименуем столбцы:\n",
    "data_pivot_purp_category.columns = ['count', 'debt']\n",
    "\n",
    "# Рассчитаем отношение задолженностей к общей сумме кредитов:\n",
    "data_pivot_purp_category['ratio'] = data_pivot_purp_category['debt'] / data_pivot_purp_category['count']\n",
    "\n",
    "# Отсортируем сводную таблицу:\n",
    "data_pivot_purp_category.sort_values(by='ratio', ascending=False, inplace=True)\n",
    "\n",
    "# Отформатируем столбцы в сводной таблице:\n",
    "data_pivot_purp_category['ratio'] = data_pivot_purp_category['ratio'].apply(lambda x: \"{0:.2f}%\".format(x*100))\n",
    "\n",
    "#Выведем результат:\n",
    "data_pivot_purp_category.head()"
   ]
  },
  {
   "cell_type": "markdown",
   "id": "1700d914",
   "metadata": {},
   "source": [
    "<div class=\"alert alert-success\">\n",
    "<h2> Комментарий ревьюера <a class=\"tocSkip\"> </h2>\n",
    "\n",
    "<b>Отлично!✅:</b> +\n",
    "</div>"
   ]
  },
  {
   "cell_type": "markdown",
   "id": "fa8a628d",
   "metadata": {
    "deletable": false,
    "id": "b4bb2ce6"
   },
   "source": [
    "**Вывод:** \n",
    "1. С точки зрения просрочек, наиболее безопасно давать деньги в долг на недвижимость, в отличии от автомобилей и образования. Например процент просрочки на операции с недвижимостью 7.26%, в то время как процент просрочки кредитов на авто - 9.35%.\n"
   ]
  },
  {
   "cell_type": "markdown",
   "id": "f877837a",
   "metadata": {},
   "source": [
    "<div class=\"alert alert-success\">\n",
    "<h2> Комментарий ревьюера v2<a class=\"tocSkip\"> </h2>\n",
    "\n",
    "<b>Отлично!✅:</b> +\n",
    "</div>"
   ]
  },
  {
   "cell_type": "markdown",
   "id": "70748488",
   "metadata": {
    "deletable": false,
    "editable": false,
    "id": "09c3ac4c"
   },
   "source": [
    "#### 3.5 Приведите возможные причины появления пропусков в исходных данных."
   ]
  },
  {
   "cell_type": "code",
   "execution_count": 26,
   "id": "8e4e6c97",
   "metadata": {},
   "outputs": [
    {
     "name": "stdout",
     "output_type": "stream",
     "text": [
      "21525\n"
     ]
    },
    {
     "data": {
      "text/html": [
       "<div>\n",
       "<style scoped>\n",
       "    .dataframe tbody tr th:only-of-type {\n",
       "        vertical-align: middle;\n",
       "    }\n",
       "\n",
       "    .dataframe tbody tr th {\n",
       "        vertical-align: top;\n",
       "    }\n",
       "\n",
       "    .dataframe thead th {\n",
       "        text-align: right;\n",
       "    }\n",
       "</style>\n",
       "<table border=\"1\" class=\"dataframe\">\n",
       "  <thead>\n",
       "    <tr style=\"text-align: right;\">\n",
       "      <th></th>\n",
       "      <th>children</th>\n",
       "      <th>days_employed</th>\n",
       "      <th>dob_years</th>\n",
       "      <th>education</th>\n",
       "      <th>education_id</th>\n",
       "      <th>family_status</th>\n",
       "      <th>family_status_id</th>\n",
       "      <th>gender</th>\n",
       "      <th>income_type</th>\n",
       "      <th>debt</th>\n",
       "      <th>total_income</th>\n",
       "      <th>purpose</th>\n",
       "    </tr>\n",
       "  </thead>\n",
       "  <tbody>\n",
       "    <tr>\n",
       "      <th>12</th>\n",
       "      <td>0</td>\n",
       "      <td>NaN</td>\n",
       "      <td>65</td>\n",
       "      <td>среднее</td>\n",
       "      <td>1</td>\n",
       "      <td>гражданский брак</td>\n",
       "      <td>1</td>\n",
       "      <td>M</td>\n",
       "      <td>пенсионер</td>\n",
       "      <td>0</td>\n",
       "      <td>NaN</td>\n",
       "      <td>сыграть свадьбу</td>\n",
       "    </tr>\n",
       "    <tr>\n",
       "      <th>26</th>\n",
       "      <td>0</td>\n",
       "      <td>NaN</td>\n",
       "      <td>41</td>\n",
       "      <td>среднее</td>\n",
       "      <td>1</td>\n",
       "      <td>женат / замужем</td>\n",
       "      <td>0</td>\n",
       "      <td>M</td>\n",
       "      <td>госслужащий</td>\n",
       "      <td>0</td>\n",
       "      <td>NaN</td>\n",
       "      <td>образование</td>\n",
       "    </tr>\n",
       "    <tr>\n",
       "      <th>29</th>\n",
       "      <td>0</td>\n",
       "      <td>NaN</td>\n",
       "      <td>63</td>\n",
       "      <td>среднее</td>\n",
       "      <td>1</td>\n",
       "      <td>Не женат / не замужем</td>\n",
       "      <td>4</td>\n",
       "      <td>F</td>\n",
       "      <td>пенсионер</td>\n",
       "      <td>0</td>\n",
       "      <td>NaN</td>\n",
       "      <td>строительство жилой недвижимости</td>\n",
       "    </tr>\n",
       "    <tr>\n",
       "      <th>41</th>\n",
       "      <td>0</td>\n",
       "      <td>NaN</td>\n",
       "      <td>50</td>\n",
       "      <td>среднее</td>\n",
       "      <td>1</td>\n",
       "      <td>женат / замужем</td>\n",
       "      <td>0</td>\n",
       "      <td>F</td>\n",
       "      <td>госслужащий</td>\n",
       "      <td>0</td>\n",
       "      <td>NaN</td>\n",
       "      <td>сделка с подержанным автомобилем</td>\n",
       "    </tr>\n",
       "    <tr>\n",
       "      <th>55</th>\n",
       "      <td>0</td>\n",
       "      <td>NaN</td>\n",
       "      <td>54</td>\n",
       "      <td>среднее</td>\n",
       "      <td>1</td>\n",
       "      <td>гражданский брак</td>\n",
       "      <td>1</td>\n",
       "      <td>F</td>\n",
       "      <td>пенсионер</td>\n",
       "      <td>1</td>\n",
       "      <td>NaN</td>\n",
       "      <td>сыграть свадьбу</td>\n",
       "    </tr>\n",
       "    <tr>\n",
       "      <th>...</th>\n",
       "      <td>...</td>\n",
       "      <td>...</td>\n",
       "      <td>...</td>\n",
       "      <td>...</td>\n",
       "      <td>...</td>\n",
       "      <td>...</td>\n",
       "      <td>...</td>\n",
       "      <td>...</td>\n",
       "      <td>...</td>\n",
       "      <td>...</td>\n",
       "      <td>...</td>\n",
       "      <td>...</td>\n",
       "    </tr>\n",
       "    <tr>\n",
       "      <th>21489</th>\n",
       "      <td>2</td>\n",
       "      <td>NaN</td>\n",
       "      <td>47</td>\n",
       "      <td>Среднее</td>\n",
       "      <td>1</td>\n",
       "      <td>женат / замужем</td>\n",
       "      <td>0</td>\n",
       "      <td>M</td>\n",
       "      <td>компаньон</td>\n",
       "      <td>0</td>\n",
       "      <td>NaN</td>\n",
       "      <td>сделка с автомобилем</td>\n",
       "    </tr>\n",
       "    <tr>\n",
       "      <th>21495</th>\n",
       "      <td>1</td>\n",
       "      <td>NaN</td>\n",
       "      <td>50</td>\n",
       "      <td>среднее</td>\n",
       "      <td>1</td>\n",
       "      <td>гражданский брак</td>\n",
       "      <td>1</td>\n",
       "      <td>F</td>\n",
       "      <td>сотрудник</td>\n",
       "      <td>0</td>\n",
       "      <td>NaN</td>\n",
       "      <td>свадьба</td>\n",
       "    </tr>\n",
       "    <tr>\n",
       "      <th>21497</th>\n",
       "      <td>0</td>\n",
       "      <td>NaN</td>\n",
       "      <td>48</td>\n",
       "      <td>ВЫСШЕЕ</td>\n",
       "      <td>0</td>\n",
       "      <td>женат / замужем</td>\n",
       "      <td>0</td>\n",
       "      <td>F</td>\n",
       "      <td>компаньон</td>\n",
       "      <td>0</td>\n",
       "      <td>NaN</td>\n",
       "      <td>строительство недвижимости</td>\n",
       "    </tr>\n",
       "    <tr>\n",
       "      <th>21502</th>\n",
       "      <td>1</td>\n",
       "      <td>NaN</td>\n",
       "      <td>42</td>\n",
       "      <td>среднее</td>\n",
       "      <td>1</td>\n",
       "      <td>женат / замужем</td>\n",
       "      <td>0</td>\n",
       "      <td>F</td>\n",
       "      <td>сотрудник</td>\n",
       "      <td>0</td>\n",
       "      <td>NaN</td>\n",
       "      <td>строительство жилой недвижимости</td>\n",
       "    </tr>\n",
       "    <tr>\n",
       "      <th>21510</th>\n",
       "      <td>2</td>\n",
       "      <td>NaN</td>\n",
       "      <td>28</td>\n",
       "      <td>среднее</td>\n",
       "      <td>1</td>\n",
       "      <td>женат / замужем</td>\n",
       "      <td>0</td>\n",
       "      <td>F</td>\n",
       "      <td>сотрудник</td>\n",
       "      <td>0</td>\n",
       "      <td>NaN</td>\n",
       "      <td>приобретение автомобиля</td>\n",
       "    </tr>\n",
       "  </tbody>\n",
       "</table>\n",
       "<p>2174 rows × 12 columns</p>\n",
       "</div>"
      ],
      "text/plain": [
       "       children  days_employed  dob_years education  education_id  \\\n",
       "12            0            NaN         65   среднее             1   \n",
       "26            0            NaN         41   среднее             1   \n",
       "29            0            NaN         63   среднее             1   \n",
       "41            0            NaN         50   среднее             1   \n",
       "55            0            NaN         54   среднее             1   \n",
       "...         ...            ...        ...       ...           ...   \n",
       "21489         2            NaN         47   Среднее             1   \n",
       "21495         1            NaN         50   среднее             1   \n",
       "21497         0            NaN         48    ВЫСШЕЕ             0   \n",
       "21502         1            NaN         42   среднее             1   \n",
       "21510         2            NaN         28   среднее             1   \n",
       "\n",
       "               family_status  family_status_id gender  income_type  debt  \\\n",
       "12          гражданский брак                 1      M    пенсионер     0   \n",
       "26           женат / замужем                 0      M  госслужащий     0   \n",
       "29     Не женат / не замужем                 4      F    пенсионер     0   \n",
       "41           женат / замужем                 0      F  госслужащий     0   \n",
       "55          гражданский брак                 1      F    пенсионер     1   \n",
       "...                      ...               ...    ...          ...   ...   \n",
       "21489        женат / замужем                 0      M    компаньон     0   \n",
       "21495       гражданский брак                 1      F    сотрудник     0   \n",
       "21497        женат / замужем                 0      F    компаньон     0   \n",
       "21502        женат / замужем                 0      F    сотрудник     0   \n",
       "21510        женат / замужем                 0      F    сотрудник     0   \n",
       "\n",
       "       total_income                           purpose  \n",
       "12              NaN                   сыграть свадьбу  \n",
       "26              NaN                       образование  \n",
       "29              NaN  строительство жилой недвижимости  \n",
       "41              NaN  сделка с подержанным автомобилем  \n",
       "55              NaN                   сыграть свадьбу  \n",
       "...             ...                               ...  \n",
       "21489           NaN              сделка с автомобилем  \n",
       "21495           NaN                           свадьба  \n",
       "21497           NaN        строительство недвижимости  \n",
       "21502           NaN  строительство жилой недвижимости  \n",
       "21510           NaN           приобретение автомобиля  \n",
       "\n",
       "[2174 rows x 12 columns]"
      ]
     },
     "execution_count": 26,
     "metadata": {},
     "output_type": "execute_result"
    }
   ],
   "source": [
    "try:\n",
    "    data_with_null = pd.read_csv('/datasets/data.csv')\n",
    "except:\n",
    "    data_with_null = pd.read_csv('https://code.s3.yandex.net/datasets/data.csv')\n",
    "\n",
    "\n",
    "print(len(data_with_null))\n",
    "data_with_null[data_with_null.isnull().any(axis=1)]"
   ]
  },
  {
   "cell_type": "markdown",
   "id": "7d687ac1",
   "metadata": {
    "deletable": false,
    "id": "9da2ceda"
   },
   "source": [
    "*Ответ:* 'Пропуски наблюдаются в 2174 строках из 21525. Это чуть больше 10% всех записей. Пропуски характерны для столбцов с количественными переменными total_income и days_employed. \n",
    "Возможно люди неохотно хотят рассказывать о своем доходе и общем трудовом стаже.'\n",
    "\n",
    "Факторы появления пропусков - доход и количество дней трудового стажа.\n"
   ]
  },
  {
   "cell_type": "markdown",
   "id": "d540d259",
   "metadata": {},
   "source": [
    "<div class=\"alert alert-success\">\n",
    "<h2> Комментарий ревьюера v2<a class=\"tocSkip\"> </h2>\n",
    "\n",
    "<b>Отлично!✅:</b> Главную роль все же играют человеческий фактор и технические сбои:)\n",
    "</div>"
   ]
  },
  {
   "cell_type": "markdown",
   "id": "68cb3549",
   "metadata": {
    "deletable": false,
    "editable": false,
    "id": "7b0487d6"
   },
   "source": [
    "#### 3.6 Объясните, почему заполнить пропуски медианным значением — лучшее решение для количественных переменных."
   ]
  },
  {
   "cell_type": "markdown",
   "id": "5db4b09c",
   "metadata": {
    "deletable": false,
    "id": "7ecf2b8e"
   },
   "source": [
    "*Ответ:* Заполнять пропуски в количественных переменных нужно наиболее характерными значениями. Доходы подверженны выбросам (экстремально высоким/низким значениям), когда небольшое кол-во наблюдений сильно влияют на среднее значение во всей выборке. Классические аналогии, это когда один человек ест мясо, другой капусту, но в среднем они едят голубцы. Или средняя температура по больнице, или пример с Биллом Гейтсом и баром - когда Бил Гейтс заходит в бар, то все посетители бара в среднем миллиардеры."
   ]
  },
  {
   "cell_type": "markdown",
   "id": "a3018c7b",
   "metadata": {},
   "source": [
    "<div class=\"alert alert-success\">\n",
    "<h2> Комментарий ревьюера <a class=\"tocSkip\"> </h2>\n",
    "\n",
    "<b>Отлично!✅:</b> Совершенно верно!\n",
    "</div>"
   ]
  },
  {
   "cell_type": "markdown",
   "id": "2e9a3d86",
   "metadata": {
    "deletable": false,
    "editable": false,
    "id": "6db5255a"
   },
   "source": [
    "### Шаг 4: общий вывод."
   ]
  },
  {
   "cell_type": "markdown",
   "id": "ce1c70af",
   "metadata": {
    "deletable": false,
    "id": "bad65432"
   },
   "source": [
    "Напишите ваш общий вывод.\n",
    "\n",
    "1. С точки зрения просрочек, наиболее безопасно давать деньги в долг на недвижимость, в отличии от автомобилей и образования. Например процент просрочки на операции с недвижимостью 7.26%, в то время как процент просрочки кредитов на авто - 9.35%.\n",
    "\n",
    "2. Граждане с детьми чаще сталкиваются с трудностями в выплате долгов, чем граждане не имеющие детей. Например, если у домохозяйства есть 4 детей, то вероятность не выплатить долг 9.76 %, а если детей нет, то только 7.54%\n",
    "\n",
    "3. При анализе рисков, лучше анализировать доход на душу, чем доход \"в целом\". Чем выше доход на душу, тем вероятность не выплат меньше. Например у квартиля с \"самым высоким доходом на душу\", вероятность столкнутся с трудностями в оплате кредита 7.43%, а у граждан, из квартиля \"с самым низким доходом на душу\", вероятность столкнуться с трудностями 9.49%\n",
    "\n",
    "4. Вдовы и вдовцы намного реже не платят по счетам, чем не женатые/не замужние граждане. Например у вдов/вдовцов просрочка по кредитам 6.62%, а у не женатых/не замужем - 9.76%."
   ]
  },
  {
   "cell_type": "markdown",
   "id": "6de56deb",
   "metadata": {},
   "source": [
    " <div class=\"alert alert-success\">\n",
    "<h2> Комментарий ревьюера <a class=\"tocSkip\"> </h2>\n",
    "\n",
    "    \n",
    "<b>Отлично!✅:</b> Молодец, верный вывод! Но все это нужно изложить после каждого задания:)\n",
    "</div>"
   ]
  },
  {
   "cell_type": "markdown",
   "id": "fb6844d5",
   "metadata": {},
   "source": []
  },
  {
   "cell_type": "markdown",
   "id": "50bd7c41",
   "metadata": {},
   "source": [
    "<div style=\"border:solid Chocolate 2px; padding: 40px\">\n",
    "Андрей, давай подведем итоги. Ты большой молодец, что старался и проделал такую большую работу. Мне понравилось , что ты без проблем вывел таблицы!\n",
    "    \n",
    "    Разберем над чем стоит поработать:\n",
    "\n",
    "    1. Необходимо выводы написать после каждого задания.\n",
    "    \n",
    "    2. Указать два фактора, влияющие на появление пропусков.\n",
    "    \n",
    "    Пересмотри работу и исправь ошибки. Обязательно пиши, если я могу тебе еще чем-то помочь. Удачи!)\n",
    "  "
   ]
  },
  {
   "cell_type": "markdown",
   "id": "f95e2db2",
   "metadata": {},
   "source": [
    "<div class=\"alert alert-success\">\n",
    "<h2> Комментарий ревьюера v2<a class=\"tocSkip\"> </h2>\n",
    "\n",
    "<b>Отлично!✅:</b> Андрей, молодец, что так быстро все откорректировал. Работа принята, хорошего вечера:)\n",
    "</div>"
   ]
  }
 ],
 "metadata": {
  "ExecuteTimeLog": [
   {
    "duration": 52,
    "start_time": "2023-01-16T15:33:26.823Z"
   },
   {
    "duration": 491,
    "start_time": "2023-01-16T15:33:38.311Z"
   },
   {
    "duration": 28,
    "start_time": "2023-01-16T15:33:38.804Z"
   },
   {
    "duration": 25,
    "start_time": "2023-01-16T15:33:38.835Z"
   },
   {
    "duration": 14,
    "start_time": "2023-01-16T15:33:38.863Z"
   },
   {
    "duration": 62,
    "start_time": "2023-01-16T15:33:38.880Z"
   },
   {
    "duration": 5,
    "start_time": "2023-01-16T15:33:38.944Z"
   },
   {
    "duration": 17,
    "start_time": "2023-01-16T15:33:38.951Z"
   },
   {
    "duration": 10,
    "start_time": "2023-01-16T15:33:38.970Z"
   },
   {
    "duration": 30,
    "start_time": "2023-01-16T15:33:38.982Z"
   },
   {
    "duration": 6,
    "start_time": "2023-01-16T15:33:39.016Z"
   },
   {
    "duration": 51,
    "start_time": "2023-01-16T15:33:39.025Z"
   },
   {
    "duration": 13,
    "start_time": "2023-01-16T15:33:39.078Z"
   },
   {
    "duration": 5,
    "start_time": "2023-01-16T15:33:39.093Z"
   },
   {
    "duration": 40,
    "start_time": "2023-01-16T15:33:39.099Z"
   },
   {
    "duration": 21,
    "start_time": "2023-01-16T15:33:39.140Z"
   },
   {
    "duration": 18,
    "start_time": "2023-01-16T15:33:39.163Z"
   },
   {
    "duration": 4,
    "start_time": "2023-01-16T15:33:39.182Z"
   },
   {
    "duration": 20,
    "start_time": "2023-01-16T15:33:39.188Z"
   },
   {
    "duration": 9,
    "start_time": "2023-01-16T15:33:39.209Z"
   },
   {
    "duration": 4,
    "start_time": "2023-01-16T15:33:39.237Z"
   },
   {
    "duration": 13,
    "start_time": "2023-01-16T15:33:39.243Z"
   },
   {
    "duration": 38,
    "start_time": "2023-01-16T15:33:52.755Z"
   },
   {
    "duration": 17,
    "start_time": "2023-01-16T15:35:49.643Z"
   },
   {
    "duration": 18,
    "start_time": "2023-01-16T16:07:06.835Z"
   },
   {
    "duration": 71,
    "start_time": "2023-01-16T16:09:00.748Z"
   },
   {
    "duration": 29,
    "start_time": "2023-01-16T16:09:00.821Z"
   },
   {
    "duration": 43,
    "start_time": "2023-01-16T16:09:00.851Z"
   },
   {
    "duration": 34,
    "start_time": "2023-01-16T16:09:00.896Z"
   },
   {
    "duration": 52,
    "start_time": "2023-01-16T16:09:00.933Z"
   },
   {
    "duration": 4,
    "start_time": "2023-01-16T16:09:00.987Z"
   },
   {
    "duration": 50,
    "start_time": "2023-01-16T16:09:00.993Z"
   },
   {
    "duration": 32,
    "start_time": "2023-01-16T16:09:01.046Z"
   },
   {
    "duration": 37,
    "start_time": "2023-01-16T16:09:01.080Z"
   },
   {
    "duration": 63,
    "start_time": "2023-01-16T16:09:01.120Z"
   },
   {
    "duration": 75,
    "start_time": "2023-01-16T16:09:01.185Z"
   },
   {
    "duration": 29,
    "start_time": "2023-01-16T16:09:01.262Z"
   },
   {
    "duration": 50,
    "start_time": "2023-01-16T16:09:01.293Z"
   },
   {
    "duration": 73,
    "start_time": "2023-01-16T16:09:01.345Z"
   },
   {
    "duration": 48,
    "start_time": "2023-01-16T16:09:01.419Z"
   },
   {
    "duration": 72,
    "start_time": "2023-01-16T16:09:01.471Z"
   },
   {
    "duration": 22,
    "start_time": "2023-01-16T16:09:01.545Z"
   },
   {
    "duration": 71,
    "start_time": "2023-01-16T16:09:01.568Z"
   },
   {
    "duration": 29,
    "start_time": "2023-01-16T16:09:01.641Z"
   },
   {
    "duration": 52,
    "start_time": "2023-01-16T16:09:01.673Z"
   },
   {
    "duration": 48,
    "start_time": "2023-01-16T16:09:01.727Z"
   },
   {
    "duration": 14,
    "start_time": "2023-01-16T16:09:06.272Z"
   },
   {
    "duration": 19,
    "start_time": "2023-01-16T16:30:05.601Z"
   },
   {
    "duration": 18,
    "start_time": "2023-01-16T16:31:17.854Z"
   },
   {
    "duration": 21,
    "start_time": "2023-01-16T16:32:17.704Z"
   },
   {
    "duration": 305,
    "start_time": "2023-01-16T16:42:51.229Z"
   },
   {
    "duration": 20,
    "start_time": "2023-01-16T16:43:46.008Z"
   },
   {
    "duration": 18,
    "start_time": "2023-01-16T16:44:32.711Z"
   },
   {
    "duration": 18,
    "start_time": "2023-01-16T16:44:38.733Z"
   },
   {
    "duration": 18,
    "start_time": "2023-01-16T16:44:54.028Z"
   },
   {
    "duration": 16,
    "start_time": "2023-01-16T16:45:13.588Z"
   },
   {
    "duration": 343,
    "start_time": "2023-01-16T16:45:24.677Z"
   },
   {
    "duration": 18,
    "start_time": "2023-01-16T16:45:59.542Z"
   },
   {
    "duration": 23,
    "start_time": "2023-01-16T16:46:09.902Z"
   },
   {
    "duration": 23,
    "start_time": "2023-01-16T16:46:21.933Z"
   },
   {
    "duration": 209,
    "start_time": "2023-01-16T17:34:37.263Z"
   },
   {
    "duration": 82,
    "start_time": "2023-01-16T17:35:58.945Z"
   },
   {
    "duration": 110,
    "start_time": "2023-01-16T17:36:45.041Z"
   },
   {
    "duration": 82,
    "start_time": "2023-01-16T17:36:54.033Z"
   },
   {
    "duration": 77,
    "start_time": "2023-01-16T17:37:13.376Z"
   },
   {
    "duration": 76,
    "start_time": "2023-01-16T17:37:38.080Z"
   },
   {
    "duration": 74,
    "start_time": "2023-01-16T17:37:49.952Z"
   },
   {
    "duration": 101,
    "start_time": "2023-01-16T17:37:56.406Z"
   },
   {
    "duration": 15,
    "start_time": "2023-01-16T17:37:56.509Z"
   },
   {
    "duration": 17,
    "start_time": "2023-01-16T17:37:56.525Z"
   },
   {
    "duration": 12,
    "start_time": "2023-01-16T17:37:56.544Z"
   },
   {
    "duration": 35,
    "start_time": "2023-01-16T17:37:56.558Z"
   },
   {
    "duration": 4,
    "start_time": "2023-01-16T17:37:56.594Z"
   },
   {
    "duration": 11,
    "start_time": "2023-01-16T17:37:56.599Z"
   },
   {
    "duration": 4,
    "start_time": "2023-01-16T17:37:56.612Z"
   },
   {
    "duration": 6,
    "start_time": "2023-01-16T17:37:56.637Z"
   },
   {
    "duration": 5,
    "start_time": "2023-01-16T17:37:56.645Z"
   },
   {
    "duration": 38,
    "start_time": "2023-01-16T17:37:56.652Z"
   },
   {
    "duration": 11,
    "start_time": "2023-01-16T17:37:56.692Z"
   },
   {
    "duration": 4,
    "start_time": "2023-01-16T17:37:56.704Z"
   },
   {
    "duration": 11,
    "start_time": "2023-01-16T17:37:56.738Z"
   },
   {
    "duration": 24,
    "start_time": "2023-01-16T17:37:56.750Z"
   },
   {
    "duration": 17,
    "start_time": "2023-01-16T17:37:56.775Z"
   },
   {
    "duration": 4,
    "start_time": "2023-01-16T17:37:56.794Z"
   },
   {
    "duration": 15,
    "start_time": "2023-01-16T17:37:56.799Z"
   },
   {
    "duration": 7,
    "start_time": "2023-01-16T17:37:56.837Z"
   },
   {
    "duration": 4,
    "start_time": "2023-01-16T17:37:56.845Z"
   },
   {
    "duration": 16,
    "start_time": "2023-01-16T17:37:56.851Z"
   },
   {
    "duration": 26,
    "start_time": "2023-01-16T17:37:56.869Z"
   },
   {
    "duration": 18,
    "start_time": "2023-01-16T17:37:56.897Z"
   },
   {
    "duration": 76,
    "start_time": "2023-01-16T17:38:10.026Z"
   },
   {
    "duration": 231,
    "start_time": "2023-01-16T17:38:29.345Z"
   },
   {
    "duration": 218,
    "start_time": "2023-01-16T17:39:40.320Z"
   },
   {
    "duration": 231,
    "start_time": "2023-01-16T17:42:05.610Z"
   },
   {
    "duration": 216,
    "start_time": "2023-01-16T17:42:32.013Z"
   },
   {
    "duration": 219,
    "start_time": "2023-01-16T17:42:55.875Z"
   },
   {
    "duration": 222,
    "start_time": "2023-01-16T17:44:55.211Z"
   },
   {
    "duration": 228,
    "start_time": "2023-01-16T17:46:28.292Z"
   },
   {
    "duration": 221,
    "start_time": "2023-01-16T17:46:35.021Z"
   },
   {
    "duration": 25,
    "start_time": "2023-01-16T17:48:46.398Z"
   },
   {
    "duration": 18,
    "start_time": "2023-01-16T18:11:28.494Z"
   },
   {
    "duration": 21,
    "start_time": "2023-01-16T18:11:40.956Z"
   },
   {
    "duration": 21,
    "start_time": "2023-01-16T18:11:57.853Z"
   },
   {
    "duration": 71,
    "start_time": "2023-01-16T18:20:40.180Z"
   },
   {
    "duration": 13,
    "start_time": "2023-01-16T18:21:31.797Z"
   },
   {
    "duration": 12,
    "start_time": "2023-01-16T18:21:41.716Z"
   },
   {
    "duration": 8,
    "start_time": "2023-01-16T18:21:50.698Z"
   },
   {
    "duration": 12,
    "start_time": "2023-01-16T18:21:59.572Z"
   },
   {
    "duration": 7,
    "start_time": "2023-01-16T18:22:38.767Z"
   },
   {
    "duration": 7,
    "start_time": "2023-01-16T18:22:48.300Z"
   },
   {
    "duration": 22,
    "start_time": "2023-01-16T18:22:55.296Z"
   },
   {
    "duration": 11,
    "start_time": "2023-01-16T18:23:02.383Z"
   },
   {
    "duration": 8,
    "start_time": "2023-01-16T18:23:12.667Z"
   },
   {
    "duration": 14,
    "start_time": "2023-01-16T18:23:16.243Z"
   },
   {
    "duration": 7,
    "start_time": "2023-01-16T18:23:49.644Z"
   },
   {
    "duration": 27,
    "start_time": "2023-01-16T18:23:55.295Z"
   },
   {
    "duration": 48,
    "start_time": "2023-01-17T14:58:57.632Z"
   },
   {
    "duration": 689,
    "start_time": "2023-01-17T14:59:12.580Z"
   },
   {
    "duration": 20,
    "start_time": "2023-01-17T14:59:13.271Z"
   },
   {
    "duration": 14,
    "start_time": "2023-01-17T14:59:13.292Z"
   },
   {
    "duration": 9,
    "start_time": "2023-01-17T14:59:13.307Z"
   },
   {
    "duration": 41,
    "start_time": "2023-01-17T14:59:13.317Z"
   },
   {
    "duration": 3,
    "start_time": "2023-01-17T14:59:13.360Z"
   },
   {
    "duration": 8,
    "start_time": "2023-01-17T14:59:13.365Z"
   },
   {
    "duration": 4,
    "start_time": "2023-01-17T14:59:13.375Z"
   },
   {
    "duration": 8,
    "start_time": "2023-01-17T14:59:13.380Z"
   },
   {
    "duration": 4,
    "start_time": "2023-01-17T14:59:13.391Z"
   },
   {
    "duration": 61,
    "start_time": "2023-01-17T14:59:13.397Z"
   },
   {
    "duration": 10,
    "start_time": "2023-01-17T14:59:13.460Z"
   },
   {
    "duration": 9,
    "start_time": "2023-01-17T14:59:13.471Z"
   },
   {
    "duration": 13,
    "start_time": "2023-01-17T14:59:13.481Z"
   },
   {
    "duration": 17,
    "start_time": "2023-01-17T14:59:13.496Z"
   },
   {
    "duration": 30,
    "start_time": "2023-01-17T14:59:13.515Z"
   },
   {
    "duration": 3,
    "start_time": "2023-01-17T14:59:13.546Z"
   },
   {
    "duration": 22,
    "start_time": "2023-01-17T14:59:13.550Z"
   },
   {
    "duration": 26,
    "start_time": "2023-01-17T14:59:13.573Z"
   },
   {
    "duration": 19,
    "start_time": "2023-01-17T14:59:13.601Z"
   },
   {
    "duration": 15,
    "start_time": "2023-01-17T14:59:13.622Z"
   },
   {
    "duration": 20,
    "start_time": "2023-01-17T14:59:13.639Z"
   },
   {
    "duration": 22,
    "start_time": "2023-01-17T14:59:13.661Z"
   },
   {
    "duration": 214,
    "start_time": "2023-01-17T14:59:13.685Z"
   },
   {
    "duration": 16,
    "start_time": "2023-01-17T14:59:13.900Z"
   },
   {
    "duration": 29,
    "start_time": "2023-01-17T14:59:13.917Z"
   },
   {
    "duration": 105,
    "start_time": "2023-01-17T15:00:04.942Z"
   },
   {
    "duration": 88,
    "start_time": "2023-01-17T15:00:33.655Z"
   },
   {
    "duration": 88,
    "start_time": "2023-01-17T15:00:43.822Z"
   },
   {
    "duration": 88,
    "start_time": "2023-01-17T15:02:49.332Z"
   },
   {
    "duration": 96,
    "start_time": "2023-01-17T15:03:31.184Z"
   },
   {
    "duration": 91,
    "start_time": "2023-01-17T15:04:18.443Z"
   },
   {
    "duration": 89,
    "start_time": "2023-01-17T15:05:04.031Z"
   },
   {
    "duration": 501,
    "start_time": "2023-01-17T15:16:34.815Z"
   },
   {
    "duration": 22,
    "start_time": "2023-01-17T15:16:35.319Z"
   },
   {
    "duration": 16,
    "start_time": "2023-01-17T15:16:35.343Z"
   },
   {
    "duration": 19,
    "start_time": "2023-01-17T15:16:35.361Z"
   },
   {
    "duration": 41,
    "start_time": "2023-01-17T15:16:35.381Z"
   },
   {
    "duration": 3,
    "start_time": "2023-01-17T15:16:35.424Z"
   },
   {
    "duration": 20,
    "start_time": "2023-01-17T15:16:35.429Z"
   },
   {
    "duration": 11,
    "start_time": "2023-01-17T15:16:35.450Z"
   },
   {
    "duration": 10,
    "start_time": "2023-01-17T15:16:35.462Z"
   },
   {
    "duration": 4,
    "start_time": "2023-01-17T15:16:35.475Z"
   },
   {
    "duration": 37,
    "start_time": "2023-01-17T15:16:35.481Z"
   },
   {
    "duration": 9,
    "start_time": "2023-01-17T15:16:35.519Z"
   },
   {
    "duration": 21,
    "start_time": "2023-01-17T15:16:35.529Z"
   },
   {
    "duration": 16,
    "start_time": "2023-01-17T15:16:35.552Z"
   },
   {
    "duration": 37,
    "start_time": "2023-01-17T15:16:35.570Z"
   },
   {
    "duration": 21,
    "start_time": "2023-01-17T15:16:35.609Z"
   },
   {
    "duration": 3,
    "start_time": "2023-01-17T15:16:35.632Z"
   },
   {
    "duration": 34,
    "start_time": "2023-01-17T15:16:35.636Z"
   },
   {
    "duration": 10,
    "start_time": "2023-01-17T15:16:35.671Z"
   },
   {
    "duration": 32,
    "start_time": "2023-01-17T15:16:35.682Z"
   },
   {
    "duration": 19,
    "start_time": "2023-01-17T15:16:35.716Z"
   },
   {
    "duration": 24,
    "start_time": "2023-01-17T15:16:35.737Z"
   },
   {
    "duration": 16,
    "start_time": "2023-01-17T15:16:35.763Z"
   },
   {
    "duration": 209,
    "start_time": "2023-01-17T15:16:35.781Z"
   },
   {
    "duration": 19,
    "start_time": "2023-01-17T15:16:35.991Z"
   },
   {
    "duration": 82,
    "start_time": "2023-01-17T15:16:36.012Z"
   }
  ],
  "colab": {
   "name": "dpp_template_part2.ipynb",
   "provenance": []
  },
  "kernelspec": {
   "display_name": "Python 3 (ipykernel)",
   "language": "python",
   "name": "python3"
  },
  "language_info": {
   "codemirror_mode": {
    "name": "ipython",
    "version": 3
   },
   "file_extension": ".py",
   "mimetype": "text/x-python",
   "name": "python",
   "nbconvert_exporter": "python",
   "pygments_lexer": "ipython3",
   "version": "3.10.9"
  },
  "toc": {
   "base_numbering": 1,
   "nav_menu": {},
   "number_sections": true,
   "sideBar": true,
   "skip_h1_title": true,
   "title_cell": "Table of Contents",
   "title_sidebar": "Contents",
   "toc_cell": false,
   "toc_position": {},
   "toc_section_display": true,
   "toc_window_display": false
  }
 },
 "nbformat": 4,
 "nbformat_minor": 5
}
